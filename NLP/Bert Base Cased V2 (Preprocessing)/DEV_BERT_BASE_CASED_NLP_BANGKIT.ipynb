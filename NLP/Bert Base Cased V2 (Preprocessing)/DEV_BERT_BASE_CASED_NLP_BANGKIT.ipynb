{
  "cells": [
    {
      "cell_type": "markdown",
      "id": "0b40cd66",
      "metadata": {
        "papermill": {
          "duration": 0.004951,
          "end_time": "2023-04-06T04:11:40.705212",
          "exception": false,
          "start_time": "2023-04-06T04:11:40.700261",
          "status": "completed"
        },
        "tags": [],
        "id": "0b40cd66"
      },
      "source": [
        "## Importing Libraries"
      ]
    },
    {
      "cell_type": "code",
      "source": [
        "!python -m pip install transformers\n",
        "!python -m pip install Sastrawi"
      ],
      "metadata": {
        "colab": {
          "base_uri": "https://localhost:8080/"
        },
        "id": "N30rg8w3TotZ",
        "outputId": "998c4d6d-47c3-4d27-81dc-f82e9f6c1fbf"
      },
      "id": "N30rg8w3TotZ",
      "execution_count": null,
      "outputs": [
        {
          "output_type": "stream",
          "name": "stdout",
          "text": [
            "Looking in indexes: https://pypi.org/simple, https://us-python.pkg.dev/colab-wheels/public/simple/\n",
            "Collecting transformers\n",
            "  Downloading transformers-4.29.2-py3-none-any.whl (7.1 MB)\n",
            "\u001b[2K     \u001b[90m━━━━━━━━━━━━━━━━━━━━━━━━━━━━━━━━━━━━━━━━\u001b[0m \u001b[32m7.1/7.1 MB\u001b[0m \u001b[31m51.8 MB/s\u001b[0m eta \u001b[36m0:00:00\u001b[0m\n",
            "\u001b[?25hRequirement already satisfied: filelock in /usr/local/lib/python3.10/dist-packages (from transformers) (3.12.0)\n",
            "Collecting huggingface-hub<1.0,>=0.14.1 (from transformers)\n",
            "  Downloading huggingface_hub-0.14.1-py3-none-any.whl (224 kB)\n",
            "\u001b[2K     \u001b[90m━━━━━━━━━━━━━━━━━━━━━━━━━━━━━━━━━━━━━━\u001b[0m \u001b[32m224.5/224.5 kB\u001b[0m \u001b[31m12.8 MB/s\u001b[0m eta \u001b[36m0:00:00\u001b[0m\n",
            "\u001b[?25hRequirement already satisfied: numpy>=1.17 in /usr/local/lib/python3.10/dist-packages (from transformers) (1.22.4)\n",
            "Requirement already satisfied: packaging>=20.0 in /usr/local/lib/python3.10/dist-packages (from transformers) (23.1)\n",
            "Requirement already satisfied: pyyaml>=5.1 in /usr/local/lib/python3.10/dist-packages (from transformers) (6.0)\n",
            "Requirement already satisfied: regex!=2019.12.17 in /usr/local/lib/python3.10/dist-packages (from transformers) (2022.10.31)\n",
            "Requirement already satisfied: requests in /usr/local/lib/python3.10/dist-packages (from transformers) (2.27.1)\n",
            "Collecting tokenizers!=0.11.3,<0.14,>=0.11.1 (from transformers)\n",
            "  Downloading tokenizers-0.13.3-cp310-cp310-manylinux_2_17_x86_64.manylinux2014_x86_64.whl (7.8 MB)\n",
            "\u001b[2K     \u001b[90m━━━━━━━━━━━━━━━━━━━━━━━━━━━━━━━━━━━━━━━━\u001b[0m \u001b[32m7.8/7.8 MB\u001b[0m \u001b[31m61.6 MB/s\u001b[0m eta \u001b[36m0:00:00\u001b[0m\n",
            "\u001b[?25hRequirement already satisfied: tqdm>=4.27 in /usr/local/lib/python3.10/dist-packages (from transformers) (4.65.0)\n",
            "Requirement already satisfied: fsspec in /usr/local/lib/python3.10/dist-packages (from huggingface-hub<1.0,>=0.14.1->transformers) (2023.4.0)\n",
            "Requirement already satisfied: typing-extensions>=3.7.4.3 in /usr/local/lib/python3.10/dist-packages (from huggingface-hub<1.0,>=0.14.1->transformers) (4.5.0)\n",
            "Requirement already satisfied: urllib3<1.27,>=1.21.1 in /usr/local/lib/python3.10/dist-packages (from requests->transformers) (1.26.15)\n",
            "Requirement already satisfied: certifi>=2017.4.17 in /usr/local/lib/python3.10/dist-packages (from requests->transformers) (2022.12.7)\n",
            "Requirement already satisfied: charset-normalizer~=2.0.0 in /usr/local/lib/python3.10/dist-packages (from requests->transformers) (2.0.12)\n",
            "Requirement already satisfied: idna<4,>=2.5 in /usr/local/lib/python3.10/dist-packages (from requests->transformers) (3.4)\n",
            "Installing collected packages: tokenizers, huggingface-hub, transformers\n",
            "Successfully installed huggingface-hub-0.14.1 tokenizers-0.13.3 transformers-4.29.2\n",
            "Looking in indexes: https://pypi.org/simple, https://us-python.pkg.dev/colab-wheels/public/simple/\n",
            "Collecting Sastrawi\n",
            "  Downloading Sastrawi-1.0.1-py2.py3-none-any.whl (209 kB)\n",
            "\u001b[2K     \u001b[90m━━━━━━━━━━━━━━━━━━━━━━━━━━━━━━━━━━━━━━━\u001b[0m \u001b[32m209.7/209.7 kB\u001b[0m \u001b[31m4.5 MB/s\u001b[0m eta \u001b[36m0:00:00\u001b[0m\n",
            "\u001b[?25hInstalling collected packages: Sastrawi\n",
            "Successfully installed Sastrawi-1.0.1\n"
          ]
        }
      ]
    },
    {
      "cell_type": "code",
      "execution_count": null,
      "id": "2a6ff93a",
      "metadata": {
        "_cell_guid": "b1076dfc-b9ad-4769-8c92-a6c4dae69d19",
        "_uuid": "8f2839f25d086af736a60e9eeb907d3b93b6e0e5",
        "execution": {
          "iopub.execute_input": "2023-04-06T04:11:40.717578Z",
          "iopub.status.busy": "2023-04-06T04:11:40.716851Z",
          "iopub.status.idle": "2023-04-06T04:11:47.849363Z",
          "shell.execute_reply": "2023-04-06T04:11:47.848147Z"
        },
        "papermill": {
          "duration": 7.141688,
          "end_time": "2023-04-06T04:11:47.852005",
          "exception": false,
          "start_time": "2023-04-06T04:11:40.710317",
          "status": "completed"
        },
        "tags": [],
        "id": "2a6ff93a",
        "colab": {
          "base_uri": "https://localhost:8080/",
          "height": 35
        },
        "outputId": "d444eab7-333b-4db2-e198-894c0015ccf2"
      },
      "outputs": [
        {
          "output_type": "execute_result",
          "data": {
            "text/plain": [
              "'1.22.4'"
            ],
            "application/vnd.google.colaboratory.intrinsic+json": {
              "type": "string"
            }
          },
          "metadata": {},
          "execution_count": 2
        }
      ],
      "source": [
        "import numpy as np\n",
        "import pandas as pd\n",
        "import matplotlib.pyplot as plt\n",
        "import seaborn as sea\n",
        "import os\n",
        "from tqdm.notebook import tqdm\n",
        "import re\n",
        "import tensorflow as tf\n",
        "from tensorflow import keras\n",
        "from keras.preprocessing.text import Tokenizer\n",
        "\n",
        "plt.style.use('ggplot')\n",
        "np.__version__"
      ]
    },
    {
      "cell_type": "markdown",
      "id": "1393d062",
      "metadata": {
        "papermill": {
          "duration": 0.005783,
          "end_time": "2023-04-06T04:11:57.892880",
          "exception": false,
          "start_time": "2023-04-06T04:11:57.887097",
          "status": "completed"
        },
        "tags": [],
        "id": "1393d062"
      },
      "source": [
        "## Loading the data"
      ]
    },
    {
      "cell_type": "code",
      "source": [
        "!gdown 1EgJ4xUZeNzzCMjRe4Y5c1rTsmhWLD8lL"
      ],
      "metadata": {
        "id": "WheEYVW2TREz",
        "colab": {
          "base_uri": "https://localhost:8080/"
        },
        "outputId": "1a2459ea-d039-4980-db59-085a644db8cf"
      },
      "id": "WheEYVW2TREz",
      "execution_count": null,
      "outputs": [
        {
          "output_type": "stream",
          "name": "stdout",
          "text": [
            "Downloading...\n",
            "From: https://drive.google.com/uc?id=1EgJ4xUZeNzzCMjRe4Y5c1rTsmhWLD8lL\n",
            "To: /content/Symptom2DiseaseID.csv\n",
            "\r  0% 0.00/240k [00:00<?, ?B/s]\r100% 240k/240k [00:00<00:00, 145MB/s]\n"
          ]
        }
      ]
    },
    {
      "cell_type": "code",
      "execution_count": null,
      "id": "84f0c37f",
      "metadata": {
        "execution": {
          "iopub.execute_input": "2023-04-06T04:11:57.905975Z",
          "iopub.status.busy": "2023-04-06T04:11:57.905655Z",
          "iopub.status.idle": "2023-04-06T04:11:57.943106Z",
          "shell.execute_reply": "2023-04-06T04:11:57.942174Z"
        },
        "papermill": {
          "duration": 0.046641,
          "end_time": "2023-04-06T04:11:57.945218",
          "exception": false,
          "start_time": "2023-04-06T04:11:57.898577",
          "status": "completed"
        },
        "tags": [],
        "id": "84f0c37f",
        "colab": {
          "base_uri": "https://localhost:8080/",
          "height": 206
        },
        "outputId": "dafa23f3-758b-45b7-b00e-b9ad08797cdd"
      },
      "outputs": [
        {
          "output_type": "execute_result",
          "data": {
            "text/plain": [
              "   indeks       label                                               text\n",
              "0       0   Psoriasis   Saya telah mengalami ruam kulit di lengan, ka...\n",
              "1       1   Psoriasis   Kulit saya mengelupas, terutama di lutut, sik...\n",
              "2       2   Psoriasis   Saya telah mengalami nyeri sendi di jari, per...\n",
              "3       3   Psoriasis   Ada debu seperti perak di kulit saya, terutam...\n",
              "4       4   Psoriasis   Kuku saya memiliki penyok atau lubang kecil d..."
            ],
            "text/html": [
              "\n",
              "  <div id=\"df-a14f2211-cb59-420f-ac3d-9aab1c22b67a\">\n",
              "    <div class=\"colab-df-container\">\n",
              "      <div>\n",
              "<style scoped>\n",
              "    .dataframe tbody tr th:only-of-type {\n",
              "        vertical-align: middle;\n",
              "    }\n",
              "\n",
              "    .dataframe tbody tr th {\n",
              "        vertical-align: top;\n",
              "    }\n",
              "\n",
              "    .dataframe thead th {\n",
              "        text-align: right;\n",
              "    }\n",
              "</style>\n",
              "<table border=\"1\" class=\"dataframe\">\n",
              "  <thead>\n",
              "    <tr style=\"text-align: right;\">\n",
              "      <th></th>\n",
              "      <th>indeks</th>\n",
              "      <th>label</th>\n",
              "      <th>text</th>\n",
              "    </tr>\n",
              "  </thead>\n",
              "  <tbody>\n",
              "    <tr>\n",
              "      <th>0</th>\n",
              "      <td>0</td>\n",
              "      <td>Psoriasis</td>\n",
              "      <td>Saya telah mengalami ruam kulit di lengan, ka...</td>\n",
              "    </tr>\n",
              "    <tr>\n",
              "      <th>1</th>\n",
              "      <td>1</td>\n",
              "      <td>Psoriasis</td>\n",
              "      <td>Kulit saya mengelupas, terutama di lutut, sik...</td>\n",
              "    </tr>\n",
              "    <tr>\n",
              "      <th>2</th>\n",
              "      <td>2</td>\n",
              "      <td>Psoriasis</td>\n",
              "      <td>Saya telah mengalami nyeri sendi di jari, per...</td>\n",
              "    </tr>\n",
              "    <tr>\n",
              "      <th>3</th>\n",
              "      <td>3</td>\n",
              "      <td>Psoriasis</td>\n",
              "      <td>Ada debu seperti perak di kulit saya, terutam...</td>\n",
              "    </tr>\n",
              "    <tr>\n",
              "      <th>4</th>\n",
              "      <td>4</td>\n",
              "      <td>Psoriasis</td>\n",
              "      <td>Kuku saya memiliki penyok atau lubang kecil d...</td>\n",
              "    </tr>\n",
              "  </tbody>\n",
              "</table>\n",
              "</div>\n",
              "      <button class=\"colab-df-convert\" onclick=\"convertToInteractive('df-a14f2211-cb59-420f-ac3d-9aab1c22b67a')\"\n",
              "              title=\"Convert this dataframe to an interactive table.\"\n",
              "              style=\"display:none;\">\n",
              "        \n",
              "  <svg xmlns=\"http://www.w3.org/2000/svg\" height=\"24px\"viewBox=\"0 0 24 24\"\n",
              "       width=\"24px\">\n",
              "    <path d=\"M0 0h24v24H0V0z\" fill=\"none\"/>\n",
              "    <path d=\"M18.56 5.44l.94 2.06.94-2.06 2.06-.94-2.06-.94-.94-2.06-.94 2.06-2.06.94zm-11 1L8.5 8.5l.94-2.06 2.06-.94-2.06-.94L8.5 2.5l-.94 2.06-2.06.94zm10 10l.94 2.06.94-2.06 2.06-.94-2.06-.94-.94-2.06-.94 2.06-2.06.94z\"/><path d=\"M17.41 7.96l-1.37-1.37c-.4-.4-.92-.59-1.43-.59-.52 0-1.04.2-1.43.59L10.3 9.45l-7.72 7.72c-.78.78-.78 2.05 0 2.83L4 21.41c.39.39.9.59 1.41.59.51 0 1.02-.2 1.41-.59l7.78-7.78 2.81-2.81c.8-.78.8-2.07 0-2.86zM5.41 20L4 18.59l7.72-7.72 1.47 1.35L5.41 20z\"/>\n",
              "  </svg>\n",
              "      </button>\n",
              "      \n",
              "  <style>\n",
              "    .colab-df-container {\n",
              "      display:flex;\n",
              "      flex-wrap:wrap;\n",
              "      gap: 12px;\n",
              "    }\n",
              "\n",
              "    .colab-df-convert {\n",
              "      background-color: #E8F0FE;\n",
              "      border: none;\n",
              "      border-radius: 50%;\n",
              "      cursor: pointer;\n",
              "      display: none;\n",
              "      fill: #1967D2;\n",
              "      height: 32px;\n",
              "      padding: 0 0 0 0;\n",
              "      width: 32px;\n",
              "    }\n",
              "\n",
              "    .colab-df-convert:hover {\n",
              "      background-color: #E2EBFA;\n",
              "      box-shadow: 0px 1px 2px rgba(60, 64, 67, 0.3), 0px 1px 3px 1px rgba(60, 64, 67, 0.15);\n",
              "      fill: #174EA6;\n",
              "    }\n",
              "\n",
              "    [theme=dark] .colab-df-convert {\n",
              "      background-color: #3B4455;\n",
              "      fill: #D2E3FC;\n",
              "    }\n",
              "\n",
              "    [theme=dark] .colab-df-convert:hover {\n",
              "      background-color: #434B5C;\n",
              "      box-shadow: 0px 1px 3px 1px rgba(0, 0, 0, 0.15);\n",
              "      filter: drop-shadow(0px 1px 2px rgba(0, 0, 0, 0.3));\n",
              "      fill: #FFFFFF;\n",
              "    }\n",
              "  </style>\n",
              "\n",
              "      <script>\n",
              "        const buttonEl =\n",
              "          document.querySelector('#df-a14f2211-cb59-420f-ac3d-9aab1c22b67a button.colab-df-convert');\n",
              "        buttonEl.style.display =\n",
              "          google.colab.kernel.accessAllowed ? 'block' : 'none';\n",
              "\n",
              "        async function convertToInteractive(key) {\n",
              "          const element = document.querySelector('#df-a14f2211-cb59-420f-ac3d-9aab1c22b67a');\n",
              "          const dataTable =\n",
              "            await google.colab.kernel.invokeFunction('convertToInteractive',\n",
              "                                                     [key], {});\n",
              "          if (!dataTable) return;\n",
              "\n",
              "          const docLinkHtml = 'Like what you see? Visit the ' +\n",
              "            '<a target=\"_blank\" href=https://colab.research.google.com/notebooks/data_table.ipynb>data table notebook</a>'\n",
              "            + ' to learn more about interactive tables.';\n",
              "          element.innerHTML = '';\n",
              "          dataTable['output_type'] = 'display_data';\n",
              "          await google.colab.output.renderOutput(dataTable, element);\n",
              "          const docLink = document.createElement('div');\n",
              "          docLink.innerHTML = docLinkHtml;\n",
              "          element.appendChild(docLink);\n",
              "        }\n",
              "      </script>\n",
              "    </div>\n",
              "  </div>\n",
              "  "
            ]
          },
          "metadata": {},
          "execution_count": 25
        }
      ],
      "source": [
        "df = pd.read_csv('./Symptom2DiseaseID.csv', delimiter=';')\n",
        "df.head()"
      ]
    },
    {
      "cell_type": "code",
      "execution_count": null,
      "id": "1837267c",
      "metadata": {
        "id": "1837267c"
      },
      "outputs": [],
      "source": [
        "df.drop(\"indeks\", axis=1, inplace=True)"
      ]
    },
    {
      "cell_type": "code",
      "source": [
        "import itertools\n",
        "\n",
        "for i in range(len(df[\"text\"])):\n",
        "    df[\"text\"][i] = re.sub('  +', ' ', df[\"text\"][i])\n",
        "    df[\"text\"][i] = ''.join(''.join(s)[:1] for _, s in itertools.groupby(df[\"text\"][i]))\n",
        "    df[\"text\"][i] = df[\"text\"][i].lower()\n",
        "    df[\"label\"][i] = df[\"label\"][i].lower()\n",
        "\n",
        "df.label = df.label.str.replace('^ +| +$', '', regex=True)"
      ],
      "metadata": {
        "id": "I2g1r2nJTAro"
      },
      "id": "I2g1r2nJTAro",
      "execution_count": null,
      "outputs": []
    },
    {
      "cell_type": "code",
      "source": [
        "for nama_kolom in df.columns:\n",
        "  print(df[nama_kolom].value_counts(), \"\\n\")"
      ],
      "metadata": {
        "colab": {
          "base_uri": "https://localhost:8080/"
        },
        "id": "ZU3zUHa8AxnX",
        "outputId": "68bd9fcd-0ecc-4329-d0fc-ea7d342a3d22"
      },
      "id": "ZU3zUHa8AxnX",
      "execution_count": null,
      "outputs": [
        {
          "output_type": "stream",
          "name": "stdout",
          "text": [
            "psoriasis                          50\n",
            "pembuluh mekar                     50\n",
            "penyakit ulkus peptikum            50\n",
            "reaksi obat                        50\n",
            "penyakit refluks gastroesofagus    50\n",
            "alergi                             50\n",
            "infeksi saluran kemih              50\n",
            "malaria                            50\n",
            "penyakit kuning                    50\n",
            "spondylosis serviks                50\n",
            "migrain                            50\n",
            "hipertensi                         50\n",
            "asma bronkial                      50\n",
            "jerawat                            50\n",
            "radang sendi                       50\n",
            "wasir dimorfik                     50\n",
            "radang paru-paru                   50\n",
            "flu biasa                          50\n",
            "infeksi jamur                      50\n",
            "demam berdarah                     50\n",
            "impetigo                           50\n",
            "cacar air                          50\n",
            "penyakit tipus                     50\n",
            "diabetes                           50\n",
            "Name: label, dtype: int64 \n",
            "\n",
            " saya merasa sangat gatal, sakit, dan lelah. selain itu, berat badan saya turun dan suhu tubuh saya naik. urine saya berwarna gelap, dan kulit saya menjadi kuning. selain itu, saya juga mengalami sakit perut.                                                            5\n",
            " saya mengalami gatal-gatal hebat, muntah-muntah, dan kelelahan. saya juga mengalami penurunan berat badan dan demam tingi. kulit saya menjadi kuning dan urin saya gelap. saya juga pernah mengalami sakit perut.                                                          3\n",
            " saya merasa otot saya sangat lemah dan leher saya sangat kaku. sendi saya bengkak dan sulit bagi saya untuk bergerak tanpa merasa kaku. berjalan juga sangat menyakitkan.                                                                                                  3\n",
            " saya mengalami sembelit dan sangat sulit untuk pergi ke kamar mandi. ketika saya pergi, rasanya sakit dan tinja saya berdarah. saya juga merasakan sakit di pantat dan anus saya sangat gatal dan iritasi.                                                                 3\n",
            " saya sudah kelelahan dan mengalami mual dan gatal. selain itu, berat badan saya turun dan suhu tubuh saya naik. urine saya berwarna gelap, dan kulit saya menjadi kuning. selain itu, saya juga mengalami sakit perut.                                                     2\n",
            "                                                                                                                                                                                                                                                                           ..\n",
            " saya tidak bisa berhenti batuk dan saya kedinginan. sinus saya benar-benar tersumbat, dan saya dibanjiri lendir. dadaku sakit, dan aku tidak bisa mencium bau apa pun. otot saya juga sangat pegal.                                                                        1\n",
            " saya sering batuk dan sulit bernapas. tengorokan saya sakit dan saya merasa banyak dahak yang terperangkap di dada saya. hidung saya banyak meler, dan saya merasa sangat tersumbat.                                                                                       1\n",
            " saya telah mengalami keletihan yang parah dan sensasi sakit-sakitan. tengorokan saya sangat sakit dan saya mengalami batuk yang cukup parah. hidung saya cukup tersumbat, dan saya mengalami tekanan sinus yang signifikan. saya benar-benar sengsara dan sangat lelah.    1\n",
            "saya merasa sangat sakit dan saya sangat lelah. saya mengalami batuk yang sangat parah dan tengorokan saya sangat sakit. saya mengalami banyak tekanan sinus dan hidung saya benar-benar tersumbat. saya hanya merasa sangat lelah dan sengsara.                            1\n",
            " saya terus menerus bersin dan batuk kering. infeksi saya sepertinya tidak kunjung sembuh, dan jantung saya berdebar-debar. tengorokan saya kadang terasa sakit, tetapi biasanya membaik.                                                                                   1\n",
            "Name: text, Length: 1149, dtype: int64 \n",
            "\n"
          ]
        }
      ]
    },
    {
      "cell_type": "markdown",
      "id": "1a1a3a6a",
      "metadata": {
        "papermill": {
          "duration": 0.0058,
          "end_time": "2023-04-06T04:11:57.995838",
          "exception": false,
          "start_time": "2023-04-06T04:11:57.990038",
          "status": "completed"
        },
        "tags": [],
        "id": "1a1a3a6a"
      },
      "source": [
        "Creating encodings for disease."
      ]
    },
    {
      "cell_type": "code",
      "execution_count": null,
      "id": "9f3f79ff",
      "metadata": {
        "execution": {
          "iopub.execute_input": "2023-04-06T04:11:58.009804Z",
          "iopub.status.busy": "2023-04-06T04:11:58.009515Z",
          "iopub.status.idle": "2023-04-06T04:11:58.019455Z",
          "shell.execute_reply": "2023-04-06T04:11:58.018448Z"
        },
        "papermill": {
          "duration": 0.018935,
          "end_time": "2023-04-06T04:11:58.021513",
          "exception": false,
          "start_time": "2023-04-06T04:11:58.002578",
          "status": "completed"
        },
        "tags": [],
        "colab": {
          "base_uri": "https://localhost:8080/"
        },
        "id": "9f3f79ff",
        "outputId": "a6ddc7f2-fc09-4a67-bcf7-55005eb9f79c"
      },
      "outputs": [
        {
          "output_type": "execute_result",
          "data": {
            "text/plain": [
              "({0: 'psoriasis',\n",
              "  1: 'pembuluh mekar',\n",
              "  2: 'penyakit tipus',\n",
              "  3: 'cacar air',\n",
              "  4: 'impetigo',\n",
              "  5: 'demam berdarah',\n",
              "  6: 'infeksi jamur',\n",
              "  7: 'flu biasa',\n",
              "  8: 'radang paru-paru',\n",
              "  9: 'wasir dimorfik',\n",
              "  10: 'radang sendi',\n",
              "  11: 'jerawat',\n",
              "  12: 'asma bronkial',\n",
              "  13: 'hipertensi',\n",
              "  14: 'migrain',\n",
              "  15: 'spondylosis serviks',\n",
              "  16: 'penyakit kuning',\n",
              "  17: 'malaria',\n",
              "  18: 'infeksi saluran kemih',\n",
              "  19: 'alergi',\n",
              "  20: 'penyakit refluks gastroesofagus',\n",
              "  21: 'reaksi obat',\n",
              "  22: 'penyakit ulkus peptikum',\n",
              "  23: 'diabetes'},\n",
              " {'psoriasis': 0,\n",
              "  'pembuluh mekar': 1,\n",
              "  'penyakit tipus': 2,\n",
              "  'cacar air': 3,\n",
              "  'impetigo': 4,\n",
              "  'demam berdarah': 5,\n",
              "  'infeksi jamur': 6,\n",
              "  'flu biasa': 7,\n",
              "  'radang paru-paru': 8,\n",
              "  'wasir dimorfik': 9,\n",
              "  'radang sendi': 10,\n",
              "  'jerawat': 11,\n",
              "  'asma bronkial': 12,\n",
              "  'hipertensi': 13,\n",
              "  'migrain': 14,\n",
              "  'spondylosis serviks': 15,\n",
              "  'penyakit kuning': 16,\n",
              "  'malaria': 17,\n",
              "  'infeksi saluran kemih': 18,\n",
              "  'alergi': 19,\n",
              "  'penyakit refluks gastroesofagus': 20,\n",
              "  'reaksi obat': 21,\n",
              "  'penyakit ulkus peptikum': 22,\n",
              "  'diabetes': 23})"
            ]
          },
          "metadata": {},
          "execution_count": 29
        }
      ],
      "source": [
        "int2label = {}\n",
        "\n",
        "for i, disease in enumerate(df['label'].unique()):\n",
        "    int2label[i] = disease\n",
        "\n",
        "label2int = {v : k for k, v in int2label.items()}\n",
        "num_classes = len(int2label)\n",
        "\n",
        "int2label, label2int"
      ]
    },
    {
      "cell_type": "markdown",
      "id": "763636f6",
      "metadata": {
        "papermill": {
          "duration": 0.006036,
          "end_time": "2023-04-06T04:11:58.033788",
          "exception": false,
          "start_time": "2023-04-06T04:11:58.027752",
          "status": "completed"
        },
        "tags": [],
        "id": "763636f6"
      },
      "source": [
        "## Data Distribution"
      ]
    },
    {
      "cell_type": "code",
      "execution_count": null,
      "id": "d9879e91",
      "metadata": {
        "execution": {
          "iopub.execute_input": "2023-04-06T04:11:58.047157Z",
          "iopub.status.busy": "2023-04-06T04:11:58.046841Z",
          "iopub.status.idle": "2023-04-06T04:11:58.493886Z",
          "shell.execute_reply": "2023-04-06T04:11:58.492907Z"
        },
        "papermill": {
          "duration": 0.456124,
          "end_time": "2023-04-06T04:11:58.496173",
          "exception": false,
          "start_time": "2023-04-06T04:11:58.040049",
          "status": "completed"
        },
        "tags": [],
        "colab": {
          "base_uri": "https://localhost:8080/",
          "height": 740
        },
        "id": "d9879e91",
        "outputId": "1336fac5-55c0-4a05-aeb1-ef9ec15afb55"
      },
      "outputs": [
        {
          "output_type": "execute_result",
          "data": {
            "text/plain": [
              "Text(0.5, 1.0, 'Count of each disease')"
            ]
          },
          "metadata": {},
          "execution_count": 30
        },
        {
          "output_type": "display_data",
          "data": {
            "text/plain": [
              "<Figure size 1000x800 with 1 Axes>"
            ],
            "image/png": "[encoded data removed]"
          },
          "metadata": {}
        }
      ],
      "source": [
        "plt.figure(figsize = (10, 8))\n",
        "\n",
        "sea.countplot(y = df['label'], palette = 'Blues_d')\n",
        "plt.title('Count of each disease')"
      ]
    },
    {
      "cell_type": "markdown",
      "id": "372d9672",
      "metadata": {
        "papermill": {
          "duration": 0.007259,
          "end_time": "2023-04-06T04:11:58.511213",
          "exception": false,
          "start_time": "2023-04-06T04:11:58.503954",
          "status": "completed"
        },
        "tags": [],
        "id": "372d9672"
      },
      "source": [
        "## Distribution of the lenght of description"
      ]
    },
    {
      "cell_type": "code",
      "execution_count": null,
      "id": "a3255b14",
      "metadata": {
        "execution": {
          "iopub.execute_input": "2023-04-06T04:11:58.526547Z",
          "iopub.status.busy": "2023-04-06T04:11:58.526240Z",
          "iopub.status.idle": "2023-04-06T04:11:58.844073Z",
          "shell.execute_reply": "2023-04-06T04:11:58.843091Z"
        },
        "papermill": {
          "duration": 0.328297,
          "end_time": "2023-04-06T04:11:58.846485",
          "exception": false,
          "start_time": "2023-04-06T04:11:58.518188",
          "status": "completed"
        },
        "tags": [],
        "colab": {
          "base_uri": "https://localhost:8080/",
          "height": 502,
          "referenced_widgets": [
            "51a2dd35d8fd44a7a4dbceb85b91fa8f",
            "992e398c052b40d8acc983faddf3f2ee",
            "1017afcefe05440b8ae236facac65878",
            "e82e273888314cc9bc7519dc1a7eb063",
            "fa6f5b5e85b840ca8821642a10322264",
            "aafd4432cc794fc8a902f7fbe6c7ed33",
            "70ed2944bb8d400fa70329c158b81178",
            "36e18626fdec4193bd7aba6251f02a1e",
            "c3c83ea586064d4f81bedc2265cee040",
            "efcb4302dcd24425a28a17595aa6038b",
            "d69392ade83f44568a10011bb22c5177"
          ]
        },
        "id": "a3255b14",
        "outputId": "0d171934-201a-4949-bccf-39a717db82a7"
      },
      "outputs": [
        {
          "output_type": "display_data",
          "data": {
            "text/plain": [
              "  0%|          | 0/1200 [00:00<?, ?it/s]"
            ],
            "application/vnd.jupyter.widget-view+json": {
              "version_major": 2,
              "version_minor": 0,
              "model_id": "51a2dd35d8fd44a7a4dbceb85b91fa8f"
            }
          },
          "metadata": {}
        },
        {
          "output_type": "execute_result",
          "data": {
            "text/plain": [
              "Text(0.5, 1.0, 'Distribution of description length')"
            ]
          },
          "metadata": {},
          "execution_count": 31
        },
        {
          "output_type": "display_data",
          "data": {
            "text/plain": [
              "<Figure size 640x480 with 1 Axes>"
            ],
            "image/png": "[encoded data removed]"
          },
          "metadata": {}
        }
      ],
      "source": [
        "length = []\n",
        "for txt in tqdm(df['text'].values):\n",
        "    length.append(len(txt.split()))\n",
        "\n",
        "sea.histplot(length, kde = True, bins = 20)\n",
        "plt.title('Distribution of description length')"
      ]
    },
    {
      "cell_type": "code",
      "execution_count": null,
      "id": "14d22426",
      "metadata": {
        "execution": {
          "iopub.execute_input": "2023-04-06T04:11:58.866143Z",
          "iopub.status.busy": "2023-04-06T04:11:58.864521Z",
          "iopub.status.idle": "2023-04-06T04:11:58.872088Z",
          "shell.execute_reply": "2023-04-06T04:11:58.871166Z"
        },
        "papermill": {
          "duration": 0.019088,
          "end_time": "2023-04-06T04:11:58.874327",
          "exception": false,
          "start_time": "2023-04-06T04:11:58.855239",
          "status": "completed"
        },
        "tags": [],
        "id": "14d22426"
      },
      "outputs": [],
      "source": [
        "df['label'] = df['label'].map(lambda x : label2int[x])"
      ]
    },
    {
      "cell_type": "code",
      "source": [
        "df[\"label\"].value_counts()"
      ],
      "metadata": {
        "colab": {
          "base_uri": "https://localhost:8080/"
        },
        "id": "ZZCy-Gz5A6sd",
        "outputId": "394cc595-6b72-4b79-b557-26626d756017"
      },
      "id": "ZZCy-Gz5A6sd",
      "execution_count": null,
      "outputs": [
        {
          "output_type": "execute_result",
          "data": {
            "text/plain": [
              "0     50\n",
              "1     50\n",
              "22    50\n",
              "21    50\n",
              "20    50\n",
              "19    50\n",
              "18    50\n",
              "17    50\n",
              "16    50\n",
              "15    50\n",
              "14    50\n",
              "13    50\n",
              "12    50\n",
              "11    50\n",
              "10    50\n",
              "9     50\n",
              "8     50\n",
              "7     50\n",
              "6     50\n",
              "5     50\n",
              "4     50\n",
              "3     50\n",
              "2     50\n",
              "23    50\n",
              "Name: label, dtype: int64"
            ]
          },
          "metadata": {},
          "execution_count": 17
        }
      ]
    },
    {
      "cell_type": "code",
      "execution_count": null,
      "id": "62d364d9",
      "metadata": {
        "execution": {
          "iopub.execute_input": "2023-04-06T04:11:58.891925Z",
          "iopub.status.busy": "2023-04-06T04:11:58.891647Z",
          "iopub.status.idle": "2023-04-06T04:11:58.929395Z",
          "shell.execute_reply": "2023-04-06T04:11:58.928193Z"
        },
        "papermill": {
          "duration": 0.049272,
          "end_time": "2023-04-06T04:11:58.931693",
          "exception": false,
          "start_time": "2023-04-06T04:11:58.882421",
          "status": "completed"
        },
        "tags": [],
        "colab": {
          "base_uri": "https://localhost:8080/"
        },
        "id": "62d364d9",
        "outputId": "c291bf8a-4910-4182-c862-f8ef5e9a0bbf"
      },
      "outputs": [
        {
          "output_type": "stream",
          "name": "stdout",
          "text": [
            "X vocab: 1143\n"
          ]
        }
      ],
      "source": [
        "X, y = df['text'].values, df['label'].values\n",
        "\n",
        "x_tokenizer = Tokenizer(filters = '')\n",
        "x_tokenizer.fit_on_texts(X)\n",
        "x_vocab = len(x_tokenizer.word_index) + 1\n",
        "print(\"X vocab:\", x_vocab)"
      ]
    },
    {
      "cell_type": "markdown",
      "id": "fc27376e",
      "metadata": {
        "papermill": {
          "duration": 0.007651,
          "end_time": "2023-04-06T04:11:58.947594",
          "exception": false,
          "start_time": "2023-04-06T04:11:58.939943",
          "status": "completed"
        },
        "tags": [],
        "id": "fc27376e"
      },
      "source": [
        "## Creating the train and testing data"
      ]
    },
    {
      "cell_type": "code",
      "execution_count": null,
      "id": "066444cb",
      "metadata": {
        "execution": {
          "iopub.execute_input": "2023-04-06T04:11:58.964614Z",
          "iopub.status.busy": "2023-04-06T04:11:58.964068Z",
          "iopub.status.idle": "2023-04-06T04:11:59.111860Z",
          "shell.execute_reply": "2023-04-06T04:11:59.110761Z"
        },
        "papermill": {
          "duration": 0.158924,
          "end_time": "2023-04-06T04:11:59.114422",
          "exception": false,
          "start_time": "2023-04-06T04:11:58.955498",
          "status": "completed"
        },
        "tags": [],
        "colab": {
          "base_uri": "https://localhost:8080/"
        },
        "id": "066444cb",
        "outputId": "8c116179-7d60-41fd-e255-638754abbe97"
      },
      "outputs": [
        {
          "output_type": "execute_result",
          "data": {
            "text/plain": [
              "((1080,), (120,), (1080,), (120,))"
            ]
          },
          "metadata": {},
          "execution_count": 32
        }
      ],
      "source": [
        "from sklearn.model_selection import train_test_split\n",
        "\n",
        "train_x, val_x, train_y, val_y = train_test_split(X, y, test_size = 0.1, stratify = y)\n",
        "train_x.shape, val_x.shape, train_y.shape, val_y.shape"
      ]
    },
    {
      "cell_type": "markdown",
      "id": "e6820e3f",
      "metadata": {
        "papermill": {
          "duration": 0.008148,
          "end_time": "2023-04-06T04:11:59.130974",
          "exception": false,
          "start_time": "2023-04-06T04:11:59.122826",
          "status": "completed"
        },
        "tags": [],
        "id": "e6820e3f"
      },
      "source": [
        "## Converting the data into `tf.data.Dataset`\n",
        "\n",
        "1. The tokenizer of pretrained bert is downloaded and used.\n",
        "2. `train_dataset` and `val_dataset` is created using `tf.data.Dataset` with batch size 8."
      ]
    },
    {
      "cell_type": "code",
      "execution_count": null,
      "id": "9b2c5a88",
      "metadata": {
        "execution": {
          "iopub.execute_input": "2023-04-06T04:11:59.149298Z",
          "iopub.status.busy": "2023-04-06T04:11:59.147753Z",
          "iopub.status.idle": "2023-04-06T04:12:09.437535Z",
          "shell.execute_reply": "2023-04-06T04:12:09.436452Z"
        },
        "papermill": {
          "duration": 10.301704,
          "end_time": "2023-04-06T04:12:09.440605",
          "exception": false,
          "start_time": "2023-04-06T04:11:59.138901",
          "status": "completed"
        },
        "tags": [],
        "id": "9b2c5a88"
      },
      "outputs": [],
      "source": [
        "from transformers import AutoTokenizer\n",
        "BATCH_SIZE = 8\n",
        "\n",
        "tokenizer = AutoTokenizer.from_pretrained(\"bert-base-cased\")\n",
        "train_encodings = tokenizer(list(train_x), padding=\"max_length\", truncation=True)\n",
        "val_encodings = tokenizer(list(val_x), padding=\"max_length\", truncation=True)\n",
        "\n",
        "train_dataset = tf.data.Dataset.from_tensor_slices((\n",
        "    dict(train_encodings),\n",
        "    train_y\n",
        ")).batch(BATCH_SIZE)\n",
        "\n",
        "val_dataset = tf.data.Dataset.from_tensor_slices((\n",
        "    dict(val_encodings),\n",
        "    val_y\n",
        ")).batch(BATCH_SIZE)\n"
      ]
    },
    {
      "cell_type": "code",
      "source": [
        "num_classes = 24\n",
        "\n",
        "from transformers import TFAutoModelForSequenceClassification\n",
        "\n",
        "model = TFAutoModelForSequenceClassification.from_pretrained(\n",
        "    \"bert-base-cased\", \n",
        "    num_labels = num_classes, \n",
        "    id2label = int2label, \n",
        "    label2id = label2int,\n",
        "    output_attentions = True)\n",
        "\n",
        "model.compile(\n",
        "    loss = keras.losses.SparseCategoricalCrossentropy(from_logits=True),\n",
        "    optimizer = keras.optimizers.Adam(learning_rate = 3e-5),\n",
        "    metrics = ['accuracy'])\n",
        "\n",
        "model"
      ],
      "metadata": {
        "colab": {
          "base_uri": "https://localhost:8080/"
        },
        "id": "bp6MyJ2RFInb",
        "outputId": "e3c1e75a-b8d7-4db6-b8bf-e5116ad2a496"
      },
      "id": "bp6MyJ2RFInb",
      "execution_count": null,
      "outputs": [
        {
          "output_type": "stream",
          "name": "stderr",
          "text": [
            "All model checkpoint layers were used when initializing TFBertForSequenceClassification.\n",
            "\n",
            "Some layers of TFBertForSequenceClassification were not initialized from the model checkpoint at bert-base-cased and are newly initialized: ['classifier']\n",
            "You should probably TRAIN this model on a down-stream task to be able to use it for predictions and inference.\n"
          ]
        },
        {
          "output_type": "execute_result",
          "data": {
            "text/plain": [
              "<transformers.models.bert.modeling_tf_bert.TFBertForSequenceClassification at 0x7f2b6a5ac2e0>"
            ]
          },
          "metadata": {},
          "execution_count": 34
        }
      ]
    },
    {
      "cell_type": "code",
      "source": [
        "model.summary()"
      ],
      "metadata": {
        "colab": {
          "base_uri": "https://localhost:8080/"
        },
        "id": "QCunSrpScgbb",
        "outputId": "2a349eb3-737b-48d7-8d15-7df13b8b587b"
      },
      "id": "QCunSrpScgbb",
      "execution_count": null,
      "outputs": [
        {
          "output_type": "stream",
          "name": "stdout",
          "text": [
            "Model: \"tf_bert_for_sequence_classification_1\"\n",
            "_________________________________________________________________\n",
            " Layer (type)                Output Shape              Param #   \n",
            "=================================================================\n",
            " bert (TFBertMainLayer)      multiple                  108310272 \n",
            "                                                                 \n",
            " dropout_75 (Dropout)        multiple                  0         \n",
            "                                                                 \n",
            " classifier (Dense)          multiple                  18456     \n",
            "                                                                 \n",
            "=================================================================\n",
            "Total params: 108,328,728\n",
            "Trainable params: 108,328,728\n",
            "Non-trainable params: 0\n",
            "_________________________________________________________________\n"
          ]
        }
      ]
    },
    {
      "cell_type": "code",
      "source": [
        "for layer in model.layers:\n",
        "    print(layer, layer.trainable)"
      ],
      "metadata": {
        "colab": {
          "base_uri": "https://localhost:8080/"
        },
        "id": "cUqkar8DHIno",
        "outputId": "2bd9a01b-4b48-4327-9782-d51add1eeea9"
      },
      "id": "cUqkar8DHIno",
      "execution_count": null,
      "outputs": [
        {
          "output_type": "stream",
          "name": "stdout",
          "text": [
            "<transformers.models.bert.modeling_tf_bert.TFBertMainLayer object at 0x7f2b6a5ac9a0> True\n",
            "<keras.layers.regularization.dropout.Dropout object at 0x7f2eb5a9be20> True\n",
            "<keras.layers.core.dense.Dense object at 0x7f2eb5a80760> True\n"
          ]
        }
      ]
    },
    {
      "cell_type": "markdown",
      "id": "0f559f08",
      "metadata": {
        "papermill": {
          "duration": 0.008871,
          "end_time": "2023-04-06T04:12:29.194198",
          "exception": false,
          "start_time": "2023-04-06T04:12:29.185327",
          "status": "completed"
        },
        "tags": [],
        "id": "0f559f08"
      },
      "source": [
        "## Fine tuning the model\n",
        "\n",
        "1. The model is fined tuned for 3 epochs."
      ]
    },
    {
      "cell_type": "code",
      "execution_count": null,
      "id": "bc4cb83e",
      "metadata": {
        "execution": {
          "iopub.execute_input": "2023-04-06T04:12:29.213235Z",
          "iopub.status.busy": "2023-04-06T04:12:29.212943Z",
          "iopub.status.idle": "2023-04-06T04:17:17.975928Z",
          "shell.execute_reply": "2023-04-06T04:17:17.974896Z"
        },
        "papermill": {
          "duration": 288.775351,
          "end_time": "2023-04-06T04:17:17.978326",
          "exception": false,
          "start_time": "2023-04-06T04:12:29.202975",
          "status": "completed"
        },
        "tags": [],
        "colab": {
          "base_uri": "https://localhost:8080/"
        },
        "id": "bc4cb83e",
        "outputId": "c801ce83-1d28-418f-9e56-25d4ec2b6638"
      },
      "outputs": [
        {
          "output_type": "stream",
          "name": "stdout",
          "text": [
            "Epoch 1/10\n",
            "135/135 [==============================] - 180s 972ms/step - loss: 3.0230 - accuracy: 0.1194 - val_loss: 2.5549 - val_accuracy: 0.3583\n",
            "Epoch 2/10\n",
            "135/135 [==============================] - 128s 947ms/step - loss: 1.9213 - accuracy: 0.5528 - val_loss: 1.3823 - val_accuracy: 0.6750\n",
            "Epoch 3/10\n",
            "135/135 [==============================] - 128s 946ms/step - loss: 1.0760 - accuracy: 0.7806 - val_loss: 0.8174 - val_accuracy: 0.7917\n",
            "Epoch 4/10\n",
            "135/135 [==============================] - 128s 949ms/step - loss: 0.5696 - accuracy: 0.8926 - val_loss: 0.5287 - val_accuracy: 0.8833\n",
            "Epoch 5/10\n",
            "135/135 [==============================] - 129s 957ms/step - loss: 0.3394 - accuracy: 0.9343 - val_loss: 0.3857 - val_accuracy: 0.9167\n",
            "Epoch 6/10\n",
            "135/135 [==============================] - 128s 949ms/step - loss: 0.2048 - accuracy: 0.9676 - val_loss: 0.4851 - val_accuracy: 0.8917\n",
            "Epoch 7/10\n",
            "135/135 [==============================] - 128s 947ms/step - loss: 0.1472 - accuracy: 0.9741 - val_loss: 0.2493 - val_accuracy: 0.9417\n",
            "Epoch 8/10\n",
            "135/135 [==============================] - 128s 947ms/step - loss: 0.0851 - accuracy: 0.9926 - val_loss: 0.3038 - val_accuracy: 0.9333\n",
            "Epoch 9/10\n",
            "135/135 [==============================] - 128s 949ms/step - loss: 0.0697 - accuracy: 0.9907 - val_loss: 0.3421 - val_accuracy: 0.9333\n",
            "Epoch 10/10\n",
            "135/135 [==============================] - 128s 947ms/step - loss: 0.0871 - accuracy: 0.9880 - val_loss: 0.2300 - val_accuracy: 0.9500\n"
          ]
        }
      ],
      "source": [
        "EPOCHS = 10\n",
        "batch_size = 16\n",
        "\n",
        "history = model.fit(train_dataset,\n",
        "          batch_size=batch_size,\n",
        "          epochs = EPOCHS,\n",
        "          validation_data = val_dataset)"
      ]
    },
    {
      "cell_type": "code",
      "source": [
        "model.evaluate(val_dataset, batch_size=batch_size)"
      ],
      "metadata": {
        "colab": {
          "base_uri": "https://localhost:8080/"
        },
        "id": "TbyUCe1aHzGh",
        "outputId": "27499fe6-5796-4f11-8530-3577c5b55367"
      },
      "id": "TbyUCe1aHzGh",
      "execution_count": null,
      "outputs": [
        {
          "output_type": "stream",
          "name": "stdout",
          "text": [
            "15/15 [==============================] - 5s 334ms/step - loss: 0.2300 - accuracy: 0.9500\n"
          ]
        },
        {
          "output_type": "execute_result",
          "data": {
            "text/plain": [
              "[0.23001544177532196, 0.949999988079071]"
            ]
          },
          "metadata": {},
          "execution_count": 38
        }
      ]
    },
    {
      "cell_type": "markdown",
      "id": "5328a41d",
      "metadata": {
        "papermill": {
          "duration": 0.03055,
          "end_time": "2023-04-06T04:17:18.039325",
          "exception": false,
          "start_time": "2023-04-06T04:17:18.008775",
          "status": "completed"
        },
        "tags": [],
        "id": "5328a41d"
      },
      "source": [
        "## Plotting the loss and accuracy plot."
      ]
    },
    {
      "cell_type": "code",
      "execution_count": null,
      "id": "625b8dc8",
      "metadata": {
        "execution": {
          "iopub.execute_input": "2023-04-06T04:17:18.103547Z",
          "iopub.status.busy": "2023-04-06T04:17:18.102539Z",
          "iopub.status.idle": "2023-04-06T04:17:18.542759Z",
          "shell.execute_reply": "2023-04-06T04:17:18.541593Z"
        },
        "papermill": {
          "duration": 0.475786,
          "end_time": "2023-04-06T04:17:18.545622",
          "exception": false,
          "start_time": "2023-04-06T04:17:18.069836",
          "status": "completed"
        },
        "tags": [],
        "colab": {
          "base_uri": "https://localhost:8080/",
          "height": 486
        },
        "id": "625b8dc8",
        "outputId": "c52728dc-f566-4489-9564-e2f0ce8adf92"
      },
      "outputs": [
        {
          "output_type": "execute_result",
          "data": {
            "text/plain": [
              "<matplotlib.legend.Legend at 0x7f2b5890ace0>"
            ]
          },
          "metadata": {},
          "execution_count": 42
        },
        {
          "output_type": "display_data",
          "data": {
            "text/plain": [
              "<Figure size 1400x500 with 2 Axes>"
            ],
            "image/png": "[encoded data removed]"
          },
          "metadata": {}
        }
      ],
      "source": [
        "plt.figure(figsize = (14, 5))\n",
        "\n",
        "plt.subplot(1,2,1)\n",
        "plt.title('Loss')\n",
        "plt.plot(history.history['loss'], marker = 'o', label = 'Training')\n",
        "plt.plot(history.history['val_loss'], marker='o', label = 'Validation')\n",
        "plt.legend()\n",
        "\n",
        "plt.subplot(1,2,2)\n",
        "plt.title('Accuracy')\n",
        "plt.plot(history.history['accuracy'], marker = 'o', label = 'Training')\n",
        "plt.plot(history.history['val_accuracy'], marker='o', label = 'Validation')\n",
        "plt.legend()\n"
      ]
    },
    {
      "cell_type": "markdown",
      "id": "9aeffcca",
      "metadata": {
        "papermill": {
          "duration": 0.031776,
          "end_time": "2023-04-06T04:17:18.612882",
          "exception": false,
          "start_time": "2023-04-06T04:17:18.581106",
          "status": "completed"
        },
        "tags": [],
        "id": "9aeffcca"
      },
      "source": [
        "## Testing the model on custom input."
      ]
    },
    {
      "cell_type": "code",
      "execution_count": null,
      "id": "9745ec82",
      "metadata": {
        "execution": {
          "iopub.execute_input": "2023-04-06T04:17:18.686291Z",
          "iopub.status.busy": "2023-04-06T04:17:18.685270Z",
          "iopub.status.idle": "2023-04-06T04:17:21.110169Z",
          "shell.execute_reply": "2023-04-06T04:17:21.108878Z"
        },
        "papermill": {
          "duration": 2.46847,
          "end_time": "2023-04-06T04:17:21.112972",
          "exception": false,
          "start_time": "2023-04-06T04:17:18.644502",
          "status": "completed"
        },
        "tags": [],
        "colab": {
          "base_uri": "https://localhost:8080/"
        },
        "id": "9745ec82",
        "outputId": "5fe51cd1-8e87-43f5-e287-ad7eea38617c"
      },
      "outputs": [
        {
          "output_type": "stream",
          "name": "stdout",
          "text": [
            "[{'label': 'diabetes', 'score': 0.983944296836853}, {'label': 'reaksi obat', 'score': 0.0024944799952208996}]\n",
            "[{'label': 'penyakit tipus', 'score': 0.9796872138977051}, {'label': 'penyakit ulkus peptikum', 'score': 0.003099726513028145}]\n"
          ]
        }
      ],
      "source": [
        "from transformers import TextClassificationPipeline\n",
        "\n",
        "pipe = TextClassificationPipeline(model=model, tokenizer=tokenizer, top_k = num_classes)\n",
        "\n",
        "text1 = str(\" Penglihatan saya berkabut, dan tampaknya semakin memburuk. Saya merasa lelah dan lelah sepanjang waktu. Saya juga sering mengalami pusing parah dan pusing.\").lower()\n",
        "text2 = str(\"Saya mengalami sembelit dan sakit perut, dan itu sangat tidak nyaman. Sakit perut semakin parah dan mulai mempengaruhi kehidupan sehari-hari saya. Apalagi setiap malam saya menggigil, diikuti demam ringan.\").lower()\n",
        "\n",
        "pred1 = pipe(text1)\n",
        "pred2 = pipe(text2)\n",
        "\n",
        "print(pred1[0][:2])\n",
        "print(pred2[0][:2])"
      ]
    },
    {
      "cell_type": "code",
      "source": [
        "!mkdir ./save-bert-v2"
      ],
      "metadata": {
        "id": "FeQqtD3DdJSz"
      },
      "id": "FeQqtD3DdJSz",
      "execution_count": null,
      "outputs": []
    },
    {
      "cell_type": "code",
      "source": [
        "model.save(\"save-bert-v2\")"
      ],
      "metadata": {
        "colab": {
          "base_uri": "https://localhost:8080/"
        },
        "id": "VOhHHyWLcTa8",
        "outputId": "48fb4281-6894-4adc-800a-880dac4250ed"
      },
      "id": "VOhHHyWLcTa8",
      "execution_count": null,
      "outputs": [
        {
          "output_type": "stream",
          "name": "stderr",
          "text": [
            "WARNING:absl:Found untraced functions such as embeddings_layer_call_fn, embeddings_layer_call_and_return_conditional_losses, encoder_layer_call_fn, encoder_layer_call_and_return_conditional_losses, pooler_layer_call_fn while saving (showing 5 of 420). These functions will not be directly callable after loading.\n"
          ]
        }
      ]
    },
    {
      "cell_type": "code",
      "source": [
        "!zip -r save-bert-v2.zip \"./save-bert-v2/\""
      ],
      "metadata": {
        "colab": {
          "base_uri": "https://localhost:8080/"
        },
        "id": "gKc0TPcfdfA7",
        "outputId": "66b61829-654b-4646-fe8b-a4f838bc4bed"
      },
      "id": "gKc0TPcfdfA7",
      "execution_count": null,
      "outputs": [
        {
          "output_type": "stream",
          "name": "stdout",
          "text": [
            "  adding: save-bert-v2/ (stored 0%)\n",
            "  adding: save-bert-v2/saved_model.pb (deflated 92%)\n",
            "  adding: save-bert-v2/fingerprint.pb (stored 0%)\n",
            "  adding: save-bert-v2/assets/ (stored 0%)\n",
            "  adding: save-bert-v2/keras_metadata.pb (deflated 95%)\n",
            "  adding: save-bert-v2/variables/ (stored 0%)\n",
            "  adding: save-bert-v2/variables/variables.data-00000-of-00001 (deflated 20%)\n",
            "  adding: save-bert-v2/variables/variables.index (deflated 79%)\n"
          ]
        }
      ]
    },
    {
      "cell_type": "code",
      "source": [
        "!ls -lh save-bert-v2.zip"
      ],
      "metadata": {
        "colab": {
          "base_uri": "https://localhost:8080/"
        },
        "id": "Y6Om_rCheyHX",
        "outputId": "701ed4fc-c03b-4fb7-b586-8c412b6ba8b2"
      },
      "id": "Y6Om_rCheyHX",
      "execution_count": null,
      "outputs": [
        {
          "output_type": "stream",
          "name": "stdout",
          "text": [
            "-rw-r--r-- 1 root root 990M May 23 21:29 save-bert-v2.zip\n"
          ]
        }
      ]
    },
    {
      "cell_type": "code",
      "source": [
        "from google.colab import drive\n",
        "drive.mount('/content/drive')"
      ],
      "metadata": {
        "colab": {
          "base_uri": "https://localhost:8080/"
        },
        "id": "teG4LiSzhOe6",
        "outputId": "4f64ab0d-750c-4391-dd5f-0d22231b2240"
      },
      "id": "teG4LiSzhOe6",
      "execution_count": null,
      "outputs": [
        {
          "output_type": "stream",
          "name": "stdout",
          "text": [
            "Mounted at /content/drive\n"
          ]
        }
      ]
    },
    {
      "cell_type": "code",
      "source": [
        "!cp -r save-bert-v2.zip \"/content/drive/My Drive/\""
      ],
      "metadata": {
        "id": "5QIPzwAxhPny"
      },
      "id": "5QIPzwAxhPny",
      "execution_count": null,
      "outputs": []
    }
  ],
  "metadata": {
    "kernelspec": {
      "display_name": "Python 3",
      "language": "python",
      "name": "python3"
    },
    "language_info": {
      "codemirror_mode": {
        "name": "ipython",
        "version": 3
      },
      "file_extension": ".py",
      "mimetype": "text/x-python",
      "name": "python",
      "nbconvert_exporter": "python",
      "pygments_lexer": "ipython3",
      "version": "3.8.8"
    },
    "papermill": {
      "default_parameters": {},
      "duration": 352.818072,
      "end_time": "2023-04-06T04:17:24.927541",
      "environment_variables": {},
      "exception": null,
      "input_path": "__notebook__.ipynb",
      "output_path": "__notebook__.ipynb",
      "parameters": {},
      "start_time": "2023-04-06T04:11:32.109469",
      "version": "2.4.0"
    },
    "widgets": {
      "application/vnd.jupyter.widget-state+json": {
        "51a2dd35d8fd44a7a4dbceb85b91fa8f": {
          "model_module": "@jupyter-widgets/controls",
          "model_name": "HBoxModel",
          "model_module_version": "1.5.0",
          "state": {
            "_dom_classes": [],
            "_model_module": "@jupyter-widgets/controls",
            "_model_module_version": "1.5.0",
            "_model_name": "HBoxModel",
            "_view_count": null,
            "_view_module": "@jupyter-widgets/controls",
            "_view_module_version": "1.5.0",
            "_view_name": "HBoxView",
            "box_style": "",
            "children": [
              "IPY_MODEL_992e398c052b40d8acc983faddf3f2ee",
              "IPY_MODEL_1017afcefe05440b8ae236facac65878",
              "IPY_MODEL_e82e273888314cc9bc7519dc1a7eb063"
            ],
            "layout": "IPY_MODEL_fa6f5b5e85b840ca8821642a10322264"
          }
        },
        "992e398c052b40d8acc983faddf3f2ee": {
          "model_module": "@jupyter-widgets/controls",
          "model_name": "HTMLModel",
          "model_module_version": "1.5.0",
          "state": {
            "_dom_classes": [],
            "_model_module": "@jupyter-widgets/controls",
            "_model_module_version": "1.5.0",
            "_model_name": "HTMLModel",
            "_view_count": null,
            "_view_module": "@jupyter-widgets/controls",
            "_view_module_version": "1.5.0",
            "_view_name": "HTMLView",
            "description": "",
            "description_tooltip": null,
            "layout": "IPY_MODEL_aafd4432cc794fc8a902f7fbe6c7ed33",
            "placeholder": "​",
            "style": "IPY_MODEL_70ed2944bb8d400fa70329c158b81178",
            "value": "100%"
          }
        },
        "1017afcefe05440b8ae236facac65878": {
          "model_module": "@jupyter-widgets/controls",
          "model_name": "FloatProgressModel",
          "model_module_version": "1.5.0",
          "state": {
            "_dom_classes": [],
            "_model_module": "@jupyter-widgets/controls",
            "_model_module_version": "1.5.0",
            "_model_name": "FloatProgressModel",
            "_view_count": null,
            "_view_module": "@jupyter-widgets/controls",
            "_view_module_version": "1.5.0",
            "_view_name": "ProgressView",
            "bar_style": "success",
            "description": "",
            "description_tooltip": null,
            "layout": "IPY_MODEL_36e18626fdec4193bd7aba6251f02a1e",
            "max": 1200,
            "min": 0,
            "orientation": "horizontal",
            "style": "IPY_MODEL_c3c83ea586064d4f81bedc2265cee040",
            "value": 1200
          }
        },
        "e82e273888314cc9bc7519dc1a7eb063": {
          "model_module": "@jupyter-widgets/controls",
          "model_name": "HTMLModel",
          "model_module_version": "1.5.0",
          "state": {
            "_dom_classes": [],
            "_model_module": "@jupyter-widgets/controls",
            "_model_module_version": "1.5.0",
            "_model_name": "HTMLModel",
            "_view_count": null,
            "_view_module": "@jupyter-widgets/controls",
            "_view_module_version": "1.5.0",
            "_view_name": "HTMLView",
            "description": "",
            "description_tooltip": null,
            "layout": "IPY_MODEL_efcb4302dcd24425a28a17595aa6038b",
            "placeholder": "​",
            "style": "IPY_MODEL_d69392ade83f44568a10011bb22c5177",
            "value": " 1200/1200 [00:00&lt;00:00, 39385.60it/s]"
          }
        },
        "fa6f5b5e85b840ca8821642a10322264": {
          "model_module": "@jupyter-widgets/base",
          "model_name": "LayoutModel",
          "model_module_version": "1.2.0",
          "state": {
            "_model_module": "@jupyter-widgets/base",
            "_model_module_version": "1.2.0",
            "_model_name": "LayoutModel",
            "_view_count": null,
            "_view_module": "@jupyter-widgets/base",
            "_view_module_version": "1.2.0",
            "_view_name": "LayoutView",
            "align_content": null,
            "align_items": null,
            "align_self": null,
            "border": null,
            "bottom": null,
            "display": null,
            "flex": null,
            "flex_flow": null,
            "grid_area": null,
            "grid_auto_columns": null,
            "grid_auto_flow": null,
            "grid_auto_rows": null,
            "grid_column": null,
            "grid_gap": null,
            "grid_row": null,
            "grid_template_areas": null,
            "grid_template_columns": null,
            "grid_template_rows": null,
            "height": null,
            "justify_content": null,
            "justify_items": null,
            "left": null,
            "margin": null,
            "max_height": null,
            "max_width": null,
            "min_height": null,
            "min_width": null,
            "object_fit": null,
            "object_position": null,
            "order": null,
            "overflow": null,
            "overflow_x": null,
            "overflow_y": null,
            "padding": null,
            "right": null,
            "top": null,
            "visibility": null,
            "width": null
          }
        },
        "aafd4432cc794fc8a902f7fbe6c7ed33": {
          "model_module": "@jupyter-widgets/base",
          "model_name": "LayoutModel",
          "model_module_version": "1.2.0",
          "state": {
            "_model_module": "@jupyter-widgets/base",
            "_model_module_version": "1.2.0",
            "_model_name": "LayoutModel",
            "_view_count": null,
            "_view_module": "@jupyter-widgets/base",
            "_view_module_version": "1.2.0",
            "_view_name": "LayoutView",
            "align_content": null,
            "align_items": null,
            "align_self": null,
            "border": null,
            "bottom": null,
            "display": null,
            "flex": null,
            "flex_flow": null,
            "grid_area": null,
            "grid_auto_columns": null,
            "grid_auto_flow": null,
            "grid_auto_rows": null,
            "grid_column": null,
            "grid_gap": null,
            "grid_row": null,
            "grid_template_areas": null,
            "grid_template_columns": null,
            "grid_template_rows": null,
            "height": null,
            "justify_content": null,
            "justify_items": null,
            "left": null,
            "margin": null,
            "max_height": null,
            "max_width": null,
            "min_height": null,
            "min_width": null,
            "object_fit": null,
            "object_position": null,
            "order": null,
            "overflow": null,
            "overflow_x": null,
            "overflow_y": null,
            "padding": null,
            "right": null,
            "top": null,
            "visibility": null,
            "width": null
          }
        },
        "70ed2944bb8d400fa70329c158b81178": {
          "model_module": "@jupyter-widgets/controls",
          "model_name": "DescriptionStyleModel",
          "model_module_version": "1.5.0",
          "state": {
            "_model_module": "@jupyter-widgets/controls",
            "_model_module_version": "1.5.0",
            "_model_name": "DescriptionStyleModel",
            "_view_count": null,
            "_view_module": "@jupyter-widgets/base",
            "_view_module_version": "1.2.0",
            "_view_name": "StyleView",
            "description_width": ""
          }
        },
        "36e18626fdec4193bd7aba6251f02a1e": {
          "model_module": "@jupyter-widgets/base",
          "model_name": "LayoutModel",
          "model_module_version": "1.2.0",
          "state": {
            "_model_module": "@jupyter-widgets/base",
            "_model_module_version": "1.2.0",
            "_model_name": "LayoutModel",
            "_view_count": null,
            "_view_module": "@jupyter-widgets/base",
            "_view_module_version": "1.2.0",
            "_view_name": "LayoutView",
            "align_content": null,
            "align_items": null,
            "align_self": null,
            "border": null,
            "bottom": null,
            "display": null,
            "flex": null,
            "flex_flow": null,
            "grid_area": null,
            "grid_auto_columns": null,
            "grid_auto_flow": null,
            "grid_auto_rows": null,
            "grid_column": null,
            "grid_gap": null,
            "grid_row": null,
            "grid_template_areas": null,
            "grid_template_columns": null,
            "grid_template_rows": null,
            "height": null,
            "justify_content": null,
            "justify_items": null,
            "left": null,
            "margin": null,
            "max_height": null,
            "max_width": null,
            "min_height": null,
            "min_width": null,
            "object_fit": null,
            "object_position": null,
            "order": null,
            "overflow": null,
            "overflow_x": null,
            "overflow_y": null,
            "padding": null,
            "right": null,
            "top": null,
            "visibility": null,
            "width": null
          }
        },
        "c3c83ea586064d4f81bedc2265cee040": {
          "model_module": "@jupyter-widgets/controls",
          "model_name": "ProgressStyleModel",
          "model_module_version": "1.5.0",
          "state": {
            "_model_module": "@jupyter-widgets/controls",
            "_model_module_version": "1.5.0",
            "_model_name": "ProgressStyleModel",
            "_view_count": null,
            "_view_module": "@jupyter-widgets/base",
            "_view_module_version": "1.2.0",
            "_view_name": "StyleView",
            "bar_color": null,
            "description_width": ""
          }
        },
        "efcb4302dcd24425a28a17595aa6038b": {
          "model_module": "@jupyter-widgets/base",
          "model_name": "LayoutModel",
          "model_module_version": "1.2.0",
          "state": {
            "_model_module": "@jupyter-widgets/base",
            "_model_module_version": "1.2.0",
            "_model_name": "LayoutModel",
            "_view_count": null,
            "_view_module": "@jupyter-widgets/base",
            "_view_module_version": "1.2.0",
            "_view_name": "LayoutView",
            "align_content": null,
            "align_items": null,
            "align_self": null,
            "border": null,
            "bottom": null,
            "display": null,
            "flex": null,
            "flex_flow": null,
            "grid_area": null,
            "grid_auto_columns": null,
            "grid_auto_flow": null,
            "grid_auto_rows": null,
            "grid_column": null,
            "grid_gap": null,
            "grid_row": null,
            "grid_template_areas": null,
            "grid_template_columns": null,
            "grid_template_rows": null,
            "height": null,
            "justify_content": null,
            "justify_items": null,
            "left": null,
            "margin": null,
            "max_height": null,
            "max_width": null,
            "min_height": null,
            "min_width": null,
            "object_fit": null,
            "object_position": null,
            "order": null,
            "overflow": null,
            "overflow_x": null,
            "overflow_y": null,
            "padding": null,
            "right": null,
            "top": null,
            "visibility": null,
            "width": null
          }
        },
        "d69392ade83f44568a10011bb22c5177": {
          "model_module": "@jupyter-widgets/controls",
          "model_name": "DescriptionStyleModel",
          "model_module_version": "1.5.0",
          "state": {
            "_model_module": "@jupyter-widgets/controls",
            "_model_module_version": "1.5.0",
            "_model_name": "DescriptionStyleModel",
            "_view_count": null,
            "_view_module": "@jupyter-widgets/base",
            "_view_module_version": "1.2.0",
            "_view_name": "StyleView",
            "description_width": ""
          }
        }
      }
    },
    "colab": {
      "provenance": [],
      "gpuType": "T4"
    },
    "accelerator": "GPU",
    "gpuClass": "standard"
  },
  "nbformat": 4,
  "nbformat_minor": 5
}