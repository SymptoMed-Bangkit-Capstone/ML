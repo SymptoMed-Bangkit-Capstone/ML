{
  "cells": [
    {
      "cell_type": "markdown",
      "id": "0b40cd66",
      "metadata": {
        "papermill": {
          "duration": 0.004951,
          "end_time": "2023-04-06T04:11:40.705212",
          "exception": false,
          "start_time": "2023-04-06T04:11:40.700261",
          "status": "completed"
        },
        "tags": [],
        "id": "0b40cd66"
      },
      "source": [
        "## Importing Libraries"
      ]
    },
    {
      "cell_type": "code",
      "source": [
        "!python -m pip install transformers\n",
        "!python -m pip install Sastrawi\n",
        "!python -m pip install xformers"
      ],
      "metadata": {
        "colab": {
          "base_uri": "https://localhost:8080/"
        },
        "id": "N30rg8w3TotZ",
        "outputId": "1f6cf1b5-c2b1-4715-af20-bc8f76bc4548"
      },
      "id": "N30rg8w3TotZ",
      "execution_count": null,
      "outputs": [
        {
          "output_type": "stream",
          "name": "stdout",
          "text": [
            "Looking in indexes: https://pypi.org/simple, https://us-python.pkg.dev/colab-wheels/public/simple/\n",
            "Collecting transformers\n",
            "  Downloading transformers-4.29.2-py3-none-any.whl (7.1 MB)\n",
            "\u001b[2K     \u001b[90m━━━━━━━━━━━━━━━━━━━━━━━━━━━━━━━━━━━━━━━━\u001b[0m \u001b[32m7.1/7.1 MB\u001b[0m \u001b[31m105.0 MB/s\u001b[0m eta \u001b[36m0:00:00\u001b[0m\n",
            "\u001b[?25hRequirement already satisfied: filelock in /usr/local/lib/python3.10/dist-packages (from transformers) (3.12.0)\n",
            "Collecting huggingface-hub<1.0,>=0.14.1 (from transformers)\n",
            "  Downloading huggingface_hub-0.15.1-py3-none-any.whl (236 kB)\n",
            "\u001b[2K     \u001b[90m━━━━━━━━━━━━━━━━━━━━━━━━━━━━━━━━━━━━━━\u001b[0m \u001b[32m236.8/236.8 kB\u001b[0m \u001b[31m32.0 MB/s\u001b[0m eta \u001b[36m0:00:00\u001b[0m\n",
            "\u001b[?25hRequirement already satisfied: numpy>=1.17 in /usr/local/lib/python3.10/dist-packages (from transformers) (1.22.4)\n",
            "Requirement already satisfied: packaging>=20.0 in /usr/local/lib/python3.10/dist-packages (from transformers) (23.1)\n",
            "Requirement already satisfied: pyyaml>=5.1 in /usr/local/lib/python3.10/dist-packages (from transformers) (6.0)\n",
            "Requirement already satisfied: regex!=2019.12.17 in /usr/local/lib/python3.10/dist-packages (from transformers) (2022.10.31)\n",
            "Requirement already satisfied: requests in /usr/local/lib/python3.10/dist-packages (from transformers) (2.27.1)\n",
            "Collecting tokenizers!=0.11.3,<0.14,>=0.11.1 (from transformers)\n",
            "  Downloading tokenizers-0.13.3-cp310-cp310-manylinux_2_17_x86_64.manylinux2014_x86_64.whl (7.8 MB)\n",
            "\u001b[2K     \u001b[90m━━━━━━━━━━━━━━━━━━━━━━━━━━━━━━━━━━━━━━━━\u001b[0m \u001b[32m7.8/7.8 MB\u001b[0m \u001b[31m101.7 MB/s\u001b[0m eta \u001b[36m0:00:00\u001b[0m\n",
            "\u001b[?25hRequirement already satisfied: tqdm>=4.27 in /usr/local/lib/python3.10/dist-packages (from transformers) (4.65.0)\n",
            "Requirement already satisfied: fsspec in /usr/local/lib/python3.10/dist-packages (from huggingface-hub<1.0,>=0.14.1->transformers) (2023.4.0)\n",
            "Requirement already satisfied: typing-extensions>=3.7.4.3 in /usr/local/lib/python3.10/dist-packages (from huggingface-hub<1.0,>=0.14.1->transformers) (4.5.0)\n",
            "Requirement already satisfied: urllib3<1.27,>=1.21.1 in /usr/local/lib/python3.10/dist-packages (from requests->transformers) (1.26.15)\n",
            "Requirement already satisfied: certifi>=2017.4.17 in /usr/local/lib/python3.10/dist-packages (from requests->transformers) (2022.12.7)\n",
            "Requirement already satisfied: charset-normalizer~=2.0.0 in /usr/local/lib/python3.10/dist-packages (from requests->transformers) (2.0.12)\n",
            "Requirement already satisfied: idna<4,>=2.5 in /usr/local/lib/python3.10/dist-packages (from requests->transformers) (3.4)\n",
            "Installing collected packages: tokenizers, huggingface-hub, transformers\n",
            "Successfully installed huggingface-hub-0.15.1 tokenizers-0.13.3 transformers-4.29.2\n",
            "Looking in indexes: https://pypi.org/simple, https://us-python.pkg.dev/colab-wheels/public/simple/\n",
            "Collecting Sastrawi\n",
            "  Downloading Sastrawi-1.0.1-py2.py3-none-any.whl (209 kB)\n",
            "\u001b[2K     \u001b[90m━━━━━━━━━━━━━━━━━━━━━━━━━━━━━━━━━━━━━━━\u001b[0m \u001b[32m209.7/209.7 kB\u001b[0m \u001b[31m4.7 MB/s\u001b[0m eta \u001b[36m0:00:00\u001b[0m\n",
            "\u001b[?25hInstalling collected packages: Sastrawi\n",
            "Successfully installed Sastrawi-1.0.1\n",
            "Looking in indexes: https://pypi.org/simple, https://us-python.pkg.dev/colab-wheels/public/simple/\n",
            "Collecting xformers\n",
            "  Downloading xformers-0.0.20-cp310-cp310-manylinux2014_x86_64.whl (109.1 MB)\n",
            "\u001b[2K     \u001b[90m━━━━━━━━━━━━━━━━━━━━━━━━━━━━━━━━━━━━━━━\u001b[0m \u001b[32m109.1/109.1 MB\u001b[0m \u001b[31m7.9 MB/s\u001b[0m eta \u001b[36m0:00:00\u001b[0m\n",
            "\u001b[?25hRequirement already satisfied: numpy in /usr/local/lib/python3.10/dist-packages (from xformers) (1.22.4)\n",
            "Collecting pyre-extensions==0.0.29 (from xformers)\n",
            "  Downloading pyre_extensions-0.0.29-py3-none-any.whl (12 kB)\n",
            "Requirement already satisfied: torch==2.0.1 in /usr/local/lib/python3.10/dist-packages (from xformers) (2.0.1+cu118)\n",
            "Collecting typing-inspect (from pyre-extensions==0.0.29->xformers)\n",
            "  Downloading typing_inspect-0.9.0-py3-none-any.whl (8.8 kB)\n",
            "Requirement already satisfied: typing-extensions in /usr/local/lib/python3.10/dist-packages (from pyre-extensions==0.0.29->xformers) (4.5.0)\n",
            "Requirement already satisfied: filelock in /usr/local/lib/python3.10/dist-packages (from torch==2.0.1->xformers) (3.12.0)\n",
            "Requirement already satisfied: sympy in /usr/local/lib/python3.10/dist-packages (from torch==2.0.1->xformers) (1.11.1)\n",
            "Requirement already satisfied: networkx in /usr/local/lib/python3.10/dist-packages (from torch==2.0.1->xformers) (3.1)\n",
            "Requirement already satisfied: jinja2 in /usr/local/lib/python3.10/dist-packages (from torch==2.0.1->xformers) (3.1.2)\n",
            "Requirement already satisfied: triton==2.0.0 in /usr/local/lib/python3.10/dist-packages (from torch==2.0.1->xformers) (2.0.0)\n",
            "Requirement already satisfied: cmake in /usr/local/lib/python3.10/dist-packages (from triton==2.0.0->torch==2.0.1->xformers) (3.25.2)\n",
            "Requirement already satisfied: lit in /usr/local/lib/python3.10/dist-packages (from triton==2.0.0->torch==2.0.1->xformers) (16.0.5)\n",
            "Requirement already satisfied: MarkupSafe>=2.0 in /usr/local/lib/python3.10/dist-packages (from jinja2->torch==2.0.1->xformers) (2.1.2)\n",
            "Requirement already satisfied: mpmath>=0.19 in /usr/local/lib/python3.10/dist-packages (from sympy->torch==2.0.1->xformers) (1.3.0)\n",
            "Collecting mypy-extensions>=0.3.0 (from typing-inspect->pyre-extensions==0.0.29->xformers)\n",
            "  Downloading mypy_extensions-1.0.0-py3-none-any.whl (4.7 kB)\n",
            "Installing collected packages: mypy-extensions, typing-inspect, pyre-extensions, xformers\n",
            "Successfully installed mypy-extensions-1.0.0 pyre-extensions-0.0.29 typing-inspect-0.9.0 xformers-0.0.20\n"
          ]
        }
      ]
    },
    {
      "cell_type": "code",
      "execution_count": null,
      "id": "2a6ff93a",
      "metadata": {
        "_cell_guid": "b1076dfc-b9ad-4769-8c92-a6c4dae69d19",
        "_uuid": "8f2839f25d086af736a60e9eeb907d3b93b6e0e5",
        "execution": {
          "iopub.execute_input": "2023-04-06T04:11:40.717578Z",
          "iopub.status.busy": "2023-04-06T04:11:40.716851Z",
          "iopub.status.idle": "2023-04-06T04:11:47.849363Z",
          "shell.execute_reply": "2023-04-06T04:11:47.848147Z"
        },
        "papermill": {
          "duration": 7.141688,
          "end_time": "2023-04-06T04:11:47.852005",
          "exception": false,
          "start_time": "2023-04-06T04:11:40.710317",
          "status": "completed"
        },
        "tags": [],
        "id": "2a6ff93a",
        "colab": {
          "base_uri": "https://localhost:8080/",
          "height": 35
        },
        "outputId": "57cc7f41-cde3-46a4-da22-e30e9295f406"
      },
      "outputs": [
        {
          "output_type": "execute_result",
          "data": {
            "text/plain": [
              "'1.22.4'"
            ],
            "application/vnd.google.colaboratory.intrinsic+json": {
              "type": "string"
            }
          },
          "metadata": {},
          "execution_count": 2
        }
      ],
      "source": [
        "import numpy as np\n",
        "import pandas as pd\n",
        "import matplotlib.pyplot as plt\n",
        "import seaborn as sea\n",
        "import os\n",
        "from tqdm.notebook import tqdm\n",
        "import re\n",
        "import tensorflow as tf\n",
        "from tensorflow import keras\n",
        "from keras.preprocessing.text import Tokenizer\n",
        "from Sastrawi.Dictionary.ArrayDictionary import ArrayDictionary\n",
        "from Sastrawi.StopWordRemover.StopWordRemover import StopWordRemover\n",
        "from Sastrawi.StopWordRemover.StopWordRemoverFactory import StopWordRemoverFactory\n",
        "\n",
        "plt.style.use('ggplot')\n",
        "np.__version__"
      ]
    },
    {
      "cell_type": "markdown",
      "id": "1393d062",
      "metadata": {
        "papermill": {
          "duration": 0.005783,
          "end_time": "2023-04-06T04:11:57.892880",
          "exception": false,
          "start_time": "2023-04-06T04:11:57.887097",
          "status": "completed"
        },
        "tags": [],
        "id": "1393d062"
      },
      "source": [
        "## Loading the data"
      ]
    },
    {
      "cell_type": "code",
      "source": [
        "!gdown 1EgJ4xUZeNzzCMjRe4Y5c1rTsmhWLD8lL\n",
        "!gdown 1SRnkEDcMsfFao7YmxRAP6z246QjKpFiS"
      ],
      "metadata": {
        "id": "WheEYVW2TREz",
        "colab": {
          "base_uri": "https://localhost:8080/"
        },
        "outputId": "9a9ae142-6ecd-4a3b-af0c-55a0111218a9"
      },
      "id": "WheEYVW2TREz",
      "execution_count": null,
      "outputs": [
        {
          "output_type": "stream",
          "name": "stdout",
          "text": [
            "Downloading...\n",
            "From: https://drive.google.com/uc?id=1EgJ4xUZeNzzCMjRe4Y5c1rTsmhWLD8lL\n",
            "To: /content/Symptom2DiseaseID.csv\n",
            "100% 240k/240k [00:00<00:00, 89.7MB/s]\n",
            "Downloading...\n",
            "From: https://drive.google.com/uc?id=1SRnkEDcMsfFao7YmxRAP6z246QjKpFiS\n",
            "To: /content/Converted DS Dataset-revised.csv\n",
            "100% 3.84M/3.84M [00:00<00:00, 220MB/s]\n"
          ]
        }
      ]
    },
    {
      "cell_type": "code",
      "execution_count": null,
      "id": "84f0c37f",
      "metadata": {
        "execution": {
          "iopub.execute_input": "2023-04-06T04:11:57.905975Z",
          "iopub.status.busy": "2023-04-06T04:11:57.905655Z",
          "iopub.status.idle": "2023-04-06T04:11:57.943106Z",
          "shell.execute_reply": "2023-04-06T04:11:57.942174Z"
        },
        "papermill": {
          "duration": 0.046641,
          "end_time": "2023-04-06T04:11:57.945218",
          "exception": false,
          "start_time": "2023-04-06T04:11:57.898577",
          "status": "completed"
        },
        "tags": [],
        "id": "84f0c37f",
        "colab": {
          "base_uri": "https://localhost:8080/",
          "height": 206
        },
        "outputId": "3affa39e-c80a-462d-aae5-31c77e375058"
      },
      "outputs": [
        {
          "output_type": "execute_result",
          "data": {
            "text/plain": [
              "        label                                               text\n",
              "0   Psoriasis   Saya telah mengalami ruam kulit di lengan, ka...\n",
              "1   Psoriasis   Kulit saya mengelupas, terutama di lutut, sik...\n",
              "2   Psoriasis   Saya telah mengalami nyeri sendi di jari, per...\n",
              "3   Psoriasis   Ada debu seperti perak di kulit saya, terutam...\n",
              "4   Psoriasis   Kuku saya memiliki penyok atau lubang kecil d..."
            ],
            "text/html": [
              "\n",
              "  <div id=\"df-fb8e8902-de53-4592-b506-c5d1fb93f201\">\n",
              "    <div class=\"colab-df-container\">\n",
              "      <div>\n",
              "<style scoped>\n",
              "    .dataframe tbody tr th:only-of-type {\n",
              "        vertical-align: middle;\n",
              "    }\n",
              "\n",
              "    .dataframe tbody tr th {\n",
              "        vertical-align: top;\n",
              "    }\n",
              "\n",
              "    .dataframe thead th {\n",
              "        text-align: right;\n",
              "    }\n",
              "</style>\n",
              "<table border=\"1\" class=\"dataframe\">\n",
              "  <thead>\n",
              "    <tr style=\"text-align: right;\">\n",
              "      <th></th>\n",
              "      <th>label</th>\n",
              "      <th>text</th>\n",
              "    </tr>\n",
              "  </thead>\n",
              "  <tbody>\n",
              "    <tr>\n",
              "      <th>0</th>\n",
              "      <td>Psoriasis</td>\n",
              "      <td>Saya telah mengalami ruam kulit di lengan, ka...</td>\n",
              "    </tr>\n",
              "    <tr>\n",
              "      <th>1</th>\n",
              "      <td>Psoriasis</td>\n",
              "      <td>Kulit saya mengelupas, terutama di lutut, sik...</td>\n",
              "    </tr>\n",
              "    <tr>\n",
              "      <th>2</th>\n",
              "      <td>Psoriasis</td>\n",
              "      <td>Saya telah mengalami nyeri sendi di jari, per...</td>\n",
              "    </tr>\n",
              "    <tr>\n",
              "      <th>3</th>\n",
              "      <td>Psoriasis</td>\n",
              "      <td>Ada debu seperti perak di kulit saya, terutam...</td>\n",
              "    </tr>\n",
              "    <tr>\n",
              "      <th>4</th>\n",
              "      <td>Psoriasis</td>\n",
              "      <td>Kuku saya memiliki penyok atau lubang kecil d...</td>\n",
              "    </tr>\n",
              "  </tbody>\n",
              "</table>\n",
              "</div>\n",
              "      <button class=\"colab-df-convert\" onclick=\"convertToInteractive('df-fb8e8902-de53-4592-b506-c5d1fb93f201')\"\n",
              "              title=\"Convert this dataframe to an interactive table.\"\n",
              "              style=\"display:none;\">\n",
              "        \n",
              "  <svg xmlns=\"http://www.w3.org/2000/svg\" height=\"24px\"viewBox=\"0 0 24 24\"\n",
              "       width=\"24px\">\n",
              "    <path d=\"M0 0h24v24H0V0z\" fill=\"none\"/>\n",
              "    <path d=\"M18.56 5.44l.94 2.06.94-2.06 2.06-.94-2.06-.94-.94-2.06-.94 2.06-2.06.94zm-11 1L8.5 8.5l.94-2.06 2.06-.94-2.06-.94L8.5 2.5l-.94 2.06-2.06.94zm10 10l.94 2.06.94-2.06 2.06-.94-2.06-.94-.94-2.06-.94 2.06-2.06.94z\"/><path d=\"M17.41 7.96l-1.37-1.37c-.4-.4-.92-.59-1.43-.59-.52 0-1.04.2-1.43.59L10.3 9.45l-7.72 7.72c-.78.78-.78 2.05 0 2.83L4 21.41c.39.39.9.59 1.41.59.51 0 1.02-.2 1.41-.59l7.78-7.78 2.81-2.81c.8-.78.8-2.07 0-2.86zM5.41 20L4 18.59l7.72-7.72 1.47 1.35L5.41 20z\"/>\n",
              "  </svg>\n",
              "      </button>\n",
              "      \n",
              "  <style>\n",
              "    .colab-df-container {\n",
              "      display:flex;\n",
              "      flex-wrap:wrap;\n",
              "      gap: 12px;\n",
              "    }\n",
              "\n",
              "    .colab-df-convert {\n",
              "      background-color: #E8F0FE;\n",
              "      border: none;\n",
              "      border-radius: 50%;\n",
              "      cursor: pointer;\n",
              "      display: none;\n",
              "      fill: #1967D2;\n",
              "      height: 32px;\n",
              "      padding: 0 0 0 0;\n",
              "      width: 32px;\n",
              "    }\n",
              "\n",
              "    .colab-df-convert:hover {\n",
              "      background-color: #E2EBFA;\n",
              "      box-shadow: 0px 1px 2px rgba(60, 64, 67, 0.3), 0px 1px 3px 1px rgba(60, 64, 67, 0.15);\n",
              "      fill: #174EA6;\n",
              "    }\n",
              "\n",
              "    [theme=dark] .colab-df-convert {\n",
              "      background-color: #3B4455;\n",
              "      fill: #D2E3FC;\n",
              "    }\n",
              "\n",
              "    [theme=dark] .colab-df-convert:hover {\n",
              "      background-color: #434B5C;\n",
              "      box-shadow: 0px 1px 3px 1px rgba(0, 0, 0, 0.15);\n",
              "      filter: drop-shadow(0px 1px 2px rgba(0, 0, 0, 0.3));\n",
              "      fill: #FFFFFF;\n",
              "    }\n",
              "  </style>\n",
              "\n",
              "      <script>\n",
              "        const buttonEl =\n",
              "          document.querySelector('#df-fb8e8902-de53-4592-b506-c5d1fb93f201 button.colab-df-convert');\n",
              "        buttonEl.style.display =\n",
              "          google.colab.kernel.accessAllowed ? 'block' : 'none';\n",
              "\n",
              "        async function convertToInteractive(key) {\n",
              "          const element = document.querySelector('#df-fb8e8902-de53-4592-b506-c5d1fb93f201');\n",
              "          const dataTable =\n",
              "            await google.colab.kernel.invokeFunction('convertToInteractive',\n",
              "                                                     [key], {});\n",
              "          if (!dataTable) return;\n",
              "\n",
              "          const docLinkHtml = 'Like what you see? Visit the ' +\n",
              "            '<a target=\"_blank\" href=https://colab.research.google.com/notebooks/data_table.ipynb>data table notebook</a>'\n",
              "            + ' to learn more about interactive tables.';\n",
              "          element.innerHTML = '';\n",
              "          dataTable['output_type'] = 'display_data';\n",
              "          await google.colab.output.renderOutput(dataTable, element);\n",
              "          const docLink = document.createElement('div');\n",
              "          docLink.innerHTML = docLinkHtml;\n",
              "          element.appendChild(docLink);\n",
              "        }\n",
              "      </script>\n",
              "    </div>\n",
              "  </div>\n",
              "  "
            ]
          },
          "metadata": {},
          "execution_count": 26
        }
      ],
      "source": [
        "dfNLP = pd.read_csv('./Symptom2DiseaseID.csv', delimiter=';')\n",
        "dfNLP.drop(\"indeks\", axis=1, inplace=True)\n",
        "dfNLP.head()"
      ]
    },
    {
      "cell_type": "code",
      "source": [
        "dfCnv = pd.read_csv('./Converted DS Dataset-revised.csv', delimiter=';')\n",
        "dfCnv.head()"
      ],
      "metadata": {
        "colab": {
          "base_uri": "https://localhost:8080/",
          "height": 206
        },
        "id": "gUr75lOMfQJ1",
        "outputId": "4587070e-7d79-4b74-ef46-21de50bb114b"
      },
      "id": "gUr75lOMfQJ1",
      "execution_count": null,
      "outputs": [
        {
          "output_type": "execute_result",
          "data": {
            "text/plain": [
              "                                              gejala  prognosa\n",
              "0  Saya tidak merasakan penambahan berat badan. S...         0\n",
              "1  Saya mengalami patch diskromik dalam beberapa ...         0\n",
              "2  Saya tidak merasakan batuk. Sering bermasalah ...         0\n",
              "3  Sesekali, ruam kulit saya rasakan. Tidak ada k...         0\n",
              "4  Saya tidak merasakan adanya demam ringan. Saya...         0"
            ],
            "text/html": [
              "\n",
              "  <div id=\"df-1bae980d-f04c-497a-8ada-e932e494a4cf\">\n",
              "    <div class=\"colab-df-container\">\n",
              "      <div>\n",
              "<style scoped>\n",
              "    .dataframe tbody tr th:only-of-type {\n",
              "        vertical-align: middle;\n",
              "    }\n",
              "\n",
              "    .dataframe tbody tr th {\n",
              "        vertical-align: top;\n",
              "    }\n",
              "\n",
              "    .dataframe thead th {\n",
              "        text-align: right;\n",
              "    }\n",
              "</style>\n",
              "<table border=\"1\" class=\"dataframe\">\n",
              "  <thead>\n",
              "    <tr style=\"text-align: right;\">\n",
              "      <th></th>\n",
              "      <th>gejala</th>\n",
              "      <th>prognosa</th>\n",
              "    </tr>\n",
              "  </thead>\n",
              "  <tbody>\n",
              "    <tr>\n",
              "      <th>0</th>\n",
              "      <td>Saya tidak merasakan penambahan berat badan. S...</td>\n",
              "      <td>0</td>\n",
              "    </tr>\n",
              "    <tr>\n",
              "      <th>1</th>\n",
              "      <td>Saya mengalami patch diskromik dalam beberapa ...</td>\n",
              "      <td>0</td>\n",
              "    </tr>\n",
              "    <tr>\n",
              "      <th>2</th>\n",
              "      <td>Saya tidak merasakan batuk. Sering bermasalah ...</td>\n",
              "      <td>0</td>\n",
              "    </tr>\n",
              "    <tr>\n",
              "      <th>3</th>\n",
              "      <td>Sesekali, ruam kulit saya rasakan. Tidak ada k...</td>\n",
              "      <td>0</td>\n",
              "    </tr>\n",
              "    <tr>\n",
              "      <th>4</th>\n",
              "      <td>Saya tidak merasakan adanya demam ringan. Saya...</td>\n",
              "      <td>0</td>\n",
              "    </tr>\n",
              "  </tbody>\n",
              "</table>\n",
              "</div>\n",
              "      <button class=\"colab-df-convert\" onclick=\"convertToInteractive('df-1bae980d-f04c-497a-8ada-e932e494a4cf')\"\n",
              "              title=\"Convert this dataframe to an interactive table.\"\n",
              "              style=\"display:none;\">\n",
              "        \n",
              "  <svg xmlns=\"http://www.w3.org/2000/svg\" height=\"24px\"viewBox=\"0 0 24 24\"\n",
              "       width=\"24px\">\n",
              "    <path d=\"M0 0h24v24H0V0z\" fill=\"none\"/>\n",
              "    <path d=\"M18.56 5.44l.94 2.06.94-2.06 2.06-.94-2.06-.94-.94-2.06-.94 2.06-2.06.94zm-11 1L8.5 8.5l.94-2.06 2.06-.94-2.06-.94L8.5 2.5l-.94 2.06-2.06.94zm10 10l.94 2.06.94-2.06 2.06-.94-2.06-.94-.94-2.06-.94 2.06-2.06.94z\"/><path d=\"M17.41 7.96l-1.37-1.37c-.4-.4-.92-.59-1.43-.59-.52 0-1.04.2-1.43.59L10.3 9.45l-7.72 7.72c-.78.78-.78 2.05 0 2.83L4 21.41c.39.39.9.59 1.41.59.51 0 1.02-.2 1.41-.59l7.78-7.78 2.81-2.81c.8-.78.8-2.07 0-2.86zM5.41 20L4 18.59l7.72-7.72 1.47 1.35L5.41 20z\"/>\n",
              "  </svg>\n",
              "      </button>\n",
              "      \n",
              "  <style>\n",
              "    .colab-df-container {\n",
              "      display:flex;\n",
              "      flex-wrap:wrap;\n",
              "      gap: 12px;\n",
              "    }\n",
              "\n",
              "    .colab-df-convert {\n",
              "      background-color: #E8F0FE;\n",
              "      border: none;\n",
              "      border-radius: 50%;\n",
              "      cursor: pointer;\n",
              "      display: none;\n",
              "      fill: #1967D2;\n",
              "      height: 32px;\n",
              "      padding: 0 0 0 0;\n",
              "      width: 32px;\n",
              "    }\n",
              "\n",
              "    .colab-df-convert:hover {\n",
              "      background-color: #E2EBFA;\n",
              "      box-shadow: 0px 1px 2px rgba(60, 64, 67, 0.3), 0px 1px 3px 1px rgba(60, 64, 67, 0.15);\n",
              "      fill: #174EA6;\n",
              "    }\n",
              "\n",
              "    [theme=dark] .colab-df-convert {\n",
              "      background-color: #3B4455;\n",
              "      fill: #D2E3FC;\n",
              "    }\n",
              "\n",
              "    [theme=dark] .colab-df-convert:hover {\n",
              "      background-color: #434B5C;\n",
              "      box-shadow: 0px 1px 3px 1px rgba(0, 0, 0, 0.15);\n",
              "      filter: drop-shadow(0px 1px 2px rgba(0, 0, 0, 0.3));\n",
              "      fill: #FFFFFF;\n",
              "    }\n",
              "  </style>\n",
              "\n",
              "      <script>\n",
              "        const buttonEl =\n",
              "          document.querySelector('#df-1bae980d-f04c-497a-8ada-e932e494a4cf button.colab-df-convert');\n",
              "        buttonEl.style.display =\n",
              "          google.colab.kernel.accessAllowed ? 'block' : 'none';\n",
              "\n",
              "        async function convertToInteractive(key) {\n",
              "          const element = document.querySelector('#df-1bae980d-f04c-497a-8ada-e932e494a4cf');\n",
              "          const dataTable =\n",
              "            await google.colab.kernel.invokeFunction('convertToInteractive',\n",
              "                                                     [key], {});\n",
              "          if (!dataTable) return;\n",
              "\n",
              "          const docLinkHtml = 'Like what you see? Visit the ' +\n",
              "            '<a target=\"_blank\" href=https://colab.research.google.com/notebooks/data_table.ipynb>data table notebook</a>'\n",
              "            + ' to learn more about interactive tables.';\n",
              "          element.innerHTML = '';\n",
              "          dataTable['output_type'] = 'display_data';\n",
              "          await google.colab.output.renderOutput(dataTable, element);\n",
              "          const docLink = document.createElement('div');\n",
              "          docLink.innerHTML = docLinkHtml;\n",
              "          element.appendChild(docLink);\n",
              "        }\n",
              "      </script>\n",
              "    </div>\n",
              "  </div>\n",
              "  "
            ]
          },
          "metadata": {},
          "execution_count": 27
        }
      ]
    },
    {
      "cell_type": "code",
      "source": [
        "dfNLP['label'] = dfNLP['label'].replace({' Pembuluh mekar':'Varises', ' Wasir Dimorfik' : 'Wasir', ' spondylosis serviks':'Spondylosis'})\n",
        "dfCnv.rename(columns={'gejala': 'text', 'prognosa': 'label'}, inplace=True)\n",
        "dfCnv = dfCnv[dfCnv.columns[::-1]]"
      ],
      "metadata": {
        "id": "PLt4eHGmfwu1"
      },
      "id": "PLt4eHGmfwu1",
      "execution_count": null,
      "outputs": []
    },
    {
      "cell_type": "code",
      "source": [
        "indextolabel = {\n",
        "    0: 'Vertigo Posisi Paroymsal',\n",
        "    1: 'AIDS',\n",
        "    2: 'Alergi',\n",
        "    3: 'Asma bronkial',\n",
        "    4: 'Cacar air',\n",
        "    5: 'Diabetes',\n",
        "    6: 'Flu biasa',\n",
        "    7: 'GERD',\n",
        "    8: 'Gastroenteritis',\n",
        "    9: 'Hepatitis B',\n",
        "    10: 'Hepatitis C',\n",
        "    11: 'Hepatitis D',\n",
        "    12: 'Hepatitis E',\n",
        "    13: 'Hepatitis alkoholik',\n",
        "    14: 'Hipertensi',\n",
        "    15: 'Hipertiroidisme',\n",
        "    16: 'Hipoglikemia',\n",
        "    17: 'Hipotiroidisme',\n",
        "    18: 'Impetigo',\n",
        "    19: 'Infeksi jamur',\n",
        "    20: 'Infeksi saluran kemih',\n",
        "    21: 'Jerawat',\n",
        "    22: 'Pendarahan Otak',\n",
        "    23: 'Malaria',\n",
        "    24: 'Migrain',\n",
        "    25: 'Osteoartritis',\n",
        "    26: 'Varises',\n",
        "    27: 'Penyakit kuning',\n",
        "    28: 'Penyakit tipus',\n",
        "    29: 'Penyakit ulkus peptikum',\n",
        "    30: 'Psoriasis',\n",
        "    31: 'Radang paru-paru',\n",
        "    32: 'Radang sendi',\n",
        "    33: 'Reaksi Obat',\n",
        "    34: 'Serangan jantung',\n",
        "    35: 'TBC',\n",
        "    36: 'Wasir',\n",
        "    37: 'demam berdarah',\n",
        "    38: 'hepatitis A',\n",
        "    39: 'kolestasis kronis',\n",
        "    40: 'Spondylosis',\n",
        "}\n",
        "\n",
        "dfCnv['label'] = dfCnv['label'].replace(indextolabel)"
      ],
      "metadata": {
        "id": "p-ixsHSoh5DY"
      },
      "id": "p-ixsHSoh5DY",
      "execution_count": null,
      "outputs": []
    },
    {
      "cell_type": "code",
      "source": [
        "dfNLP['label'].value_counts()"
      ],
      "metadata": {
        "colab": {
          "base_uri": "https://localhost:8080/"
        },
        "id": "-11yqtzIhngH",
        "outputId": "915cc6e5-16c2-4df1-8a56-20a77991d370"
      },
      "id": "-11yqtzIhngH",
      "execution_count": null,
      "outputs": [
        {
          "output_type": "execute_result",
          "data": {
            "text/plain": [
              " Psoriasis                          50\n",
              "Varises                             50\n",
              " penyakit ulkus peptikum            50\n",
              " reaksi obat                        50\n",
              " penyakit refluks gastroesofagus    50\n",
              " alergi                             50\n",
              " Infeksi saluran kemih              50\n",
              " Malaria                            50\n",
              " Penyakit kuning                    50\n",
              "Spondylosis                         50\n",
              " Migrain                            50\n",
              " Hipertensi                         50\n",
              " Asma bronkial                      50\n",
              " Jerawat                            50\n",
              " Radang sendi                       50\n",
              "Wasir                               50\n",
              " Radang paru-paru                   50\n",
              " Flu biasa                          50\n",
              " Infeksi jamur                      50\n",
              " demam berdarah                     50\n",
              " Impetigo                           50\n",
              " Cacar air                          50\n",
              " Penyakit tipus                     50\n",
              " diabetes                           50\n",
              "Name: label, dtype: int64"
            ]
          },
          "metadata": {},
          "execution_count": 30
        }
      ]
    },
    {
      "cell_type": "code",
      "source": [
        "dfCnv['label'].value_counts()"
      ],
      "metadata": {
        "colab": {
          "base_uri": "https://localhost:8080/"
        },
        "id": "6qCVv6DFgq-c",
        "outputId": "0ccbca31-1212-45f2-dffe-201e14c1f038"
      },
      "id": "6qCVv6DFgq-c",
      "execution_count": null,
      "outputs": [
        {
          "output_type": "execute_result",
          "data": {
            "text/plain": [
              "Vertigo Posisi Paroymsal    240\n",
              "Jerawat                     240\n",
              "Malaria                     240\n",
              "Migrain                     240\n",
              "Osteoartritis               240\n",
              "Varises                     240\n",
              "Penyakit kuning             240\n",
              "Penyakit tipus              240\n",
              "Penyakit ulkus peptikum     240\n",
              "Psoriasis                   240\n",
              "Radang paru-paru            240\n",
              "Radang sendi                240\n",
              "Reaksi Obat                 240\n",
              "Serangan jantung            240\n",
              "TBC                         240\n",
              "Wasir                       240\n",
              "demam berdarah              240\n",
              "hepatitis A                 240\n",
              "kolestasis kronis           240\n",
              "Pendarahan Otak             240\n",
              "Infeksi saluran kemih       240\n",
              "AIDS                        240\n",
              "Infeksi jamur               240\n",
              "Alergi                      240\n",
              "Asma bronkial               240\n",
              "Cacar air                   240\n",
              "Diabetes                    240\n",
              "Flu biasa                   240\n",
              "GERD                        240\n",
              "Gastroenteritis             240\n",
              "Hepatitis B                 240\n",
              "Hepatitis C                 240\n",
              "Hepatitis D                 240\n",
              "Hepatitis E                 240\n",
              "Hepatitis alkoholik         240\n",
              "Hipertensi                  240\n",
              "Hipertiroidisme             240\n",
              "Hipoglikemia                240\n",
              "Hipotiroidisme              240\n",
              "Impetigo                    240\n",
              "Spondylosis                 240\n",
              "Name: label, dtype: int64"
            ]
          },
          "metadata": {},
          "execution_count": 31
        }
      ]
    },
    {
      "cell_type": "code",
      "source": [
        "dfMerge = pd.concat([dfCnv, dfNLP], ignore_index=True)"
      ],
      "metadata": {
        "id": "XZ2mQ5PQkwpq"
      },
      "id": "XZ2mQ5PQkwpq",
      "execution_count": null,
      "outputs": []
    },
    {
      "cell_type": "code",
      "source": [
        "dfMerge.head()"
      ],
      "metadata": {
        "colab": {
          "base_uri": "https://localhost:8080/",
          "height": 206
        },
        "id": "sn145K2AvSOY",
        "outputId": "e26f32f7-5cff-4f79-fa94-c005b7ecd65d"
      },
      "id": "sn145K2AvSOY",
      "execution_count": null,
      "outputs": [
        {
          "output_type": "execute_result",
          "data": {
            "text/plain": [
              "                      label                                               text\n",
              "0  Vertigo Posisi Paroymsal  Saya tidak merasakan penambahan berat badan. S...\n",
              "1  Vertigo Posisi Paroymsal  Saya mengalami patch diskromik dalam beberapa ...\n",
              "2  Vertigo Posisi Paroymsal  Saya tidak merasakan batuk. Sering bermasalah ...\n",
              "3  Vertigo Posisi Paroymsal  Sesekali, ruam kulit saya rasakan. Tidak ada k...\n",
              "4  Vertigo Posisi Paroymsal  Saya tidak merasakan adanya demam ringan. Saya..."
            ],
            "text/html": [
              "\n",
              "  <div id=\"df-0ba56dba-8cc5-437a-a6ef-13cb5e4d7d4d\">\n",
              "    <div class=\"colab-df-container\">\n",
              "      <div>\n",
              "<style scoped>\n",
              "    .dataframe tbody tr th:only-of-type {\n",
              "        vertical-align: middle;\n",
              "    }\n",
              "\n",
              "    .dataframe tbody tr th {\n",
              "        vertical-align: top;\n",
              "    }\n",
              "\n",
              "    .dataframe thead th {\n",
              "        text-align: right;\n",
              "    }\n",
              "</style>\n",
              "<table border=\"1\" class=\"dataframe\">\n",
              "  <thead>\n",
              "    <tr style=\"text-align: right;\">\n",
              "      <th></th>\n",
              "      <th>label</th>\n",
              "      <th>text</th>\n",
              "    </tr>\n",
              "  </thead>\n",
              "  <tbody>\n",
              "    <tr>\n",
              "      <th>0</th>\n",
              "      <td>Vertigo Posisi Paroymsal</td>\n",
              "      <td>Saya tidak merasakan penambahan berat badan. S...</td>\n",
              "    </tr>\n",
              "    <tr>\n",
              "      <th>1</th>\n",
              "      <td>Vertigo Posisi Paroymsal</td>\n",
              "      <td>Saya mengalami patch diskromik dalam beberapa ...</td>\n",
              "    </tr>\n",
              "    <tr>\n",
              "      <th>2</th>\n",
              "      <td>Vertigo Posisi Paroymsal</td>\n",
              "      <td>Saya tidak merasakan batuk. Sering bermasalah ...</td>\n",
              "    </tr>\n",
              "    <tr>\n",
              "      <th>3</th>\n",
              "      <td>Vertigo Posisi Paroymsal</td>\n",
              "      <td>Sesekali, ruam kulit saya rasakan. Tidak ada k...</td>\n",
              "    </tr>\n",
              "    <tr>\n",
              "      <th>4</th>\n",
              "      <td>Vertigo Posisi Paroymsal</td>\n",
              "      <td>Saya tidak merasakan adanya demam ringan. Saya...</td>\n",
              "    </tr>\n",
              "  </tbody>\n",
              "</table>\n",
              "</div>\n",
              "      <button class=\"colab-df-convert\" onclick=\"convertToInteractive('df-0ba56dba-8cc5-437a-a6ef-13cb5e4d7d4d')\"\n",
              "              title=\"Convert this dataframe to an interactive table.\"\n",
              "              style=\"display:none;\">\n",
              "        \n",
              "  <svg xmlns=\"http://www.w3.org/2000/svg\" height=\"24px\"viewBox=\"0 0 24 24\"\n",
              "       width=\"24px\">\n",
              "    <path d=\"M0 0h24v24H0V0z\" fill=\"none\"/>\n",
              "    <path d=\"M18.56 5.44l.94 2.06.94-2.06 2.06-.94-2.06-.94-.94-2.06-.94 2.06-2.06.94zm-11 1L8.5 8.5l.94-2.06 2.06-.94-2.06-.94L8.5 2.5l-.94 2.06-2.06.94zm10 10l.94 2.06.94-2.06 2.06-.94-2.06-.94-.94-2.06-.94 2.06-2.06.94z\"/><path d=\"M17.41 7.96l-1.37-1.37c-.4-.4-.92-.59-1.43-.59-.52 0-1.04.2-1.43.59L10.3 9.45l-7.72 7.72c-.78.78-.78 2.05 0 2.83L4 21.41c.39.39.9.59 1.41.59.51 0 1.02-.2 1.41-.59l7.78-7.78 2.81-2.81c.8-.78.8-2.07 0-2.86zM5.41 20L4 18.59l7.72-7.72 1.47 1.35L5.41 20z\"/>\n",
              "  </svg>\n",
              "      </button>\n",
              "      \n",
              "  <style>\n",
              "    .colab-df-container {\n",
              "      display:flex;\n",
              "      flex-wrap:wrap;\n",
              "      gap: 12px;\n",
              "    }\n",
              "\n",
              "    .colab-df-convert {\n",
              "      background-color: #E8F0FE;\n",
              "      border: none;\n",
              "      border-radius: 50%;\n",
              "      cursor: pointer;\n",
              "      display: none;\n",
              "      fill: #1967D2;\n",
              "      height: 32px;\n",
              "      padding: 0 0 0 0;\n",
              "      width: 32px;\n",
              "    }\n",
              "\n",
              "    .colab-df-convert:hover {\n",
              "      background-color: #E2EBFA;\n",
              "      box-shadow: 0px 1px 2px rgba(60, 64, 67, 0.3), 0px 1px 3px 1px rgba(60, 64, 67, 0.15);\n",
              "      fill: #174EA6;\n",
              "    }\n",
              "\n",
              "    [theme=dark] .colab-df-convert {\n",
              "      background-color: #3B4455;\n",
              "      fill: #D2E3FC;\n",
              "    }\n",
              "\n",
              "    [theme=dark] .colab-df-convert:hover {\n",
              "      background-color: #434B5C;\n",
              "      box-shadow: 0px 1px 3px 1px rgba(0, 0, 0, 0.15);\n",
              "      filter: drop-shadow(0px 1px 2px rgba(0, 0, 0, 0.3));\n",
              "      fill: #FFFFFF;\n",
              "    }\n",
              "  </style>\n",
              "\n",
              "      <script>\n",
              "        const buttonEl =\n",
              "          document.querySelector('#df-0ba56dba-8cc5-437a-a6ef-13cb5e4d7d4d button.colab-df-convert');\n",
              "        buttonEl.style.display =\n",
              "          google.colab.kernel.accessAllowed ? 'block' : 'none';\n",
              "\n",
              "        async function convertToInteractive(key) {\n",
              "          const element = document.querySelector('#df-0ba56dba-8cc5-437a-a6ef-13cb5e4d7d4d');\n",
              "          const dataTable =\n",
              "            await google.colab.kernel.invokeFunction('convertToInteractive',\n",
              "                                                     [key], {});\n",
              "          if (!dataTable) return;\n",
              "\n",
              "          const docLinkHtml = 'Like what you see? Visit the ' +\n",
              "            '<a target=\"_blank\" href=https://colab.research.google.com/notebooks/data_table.ipynb>data table notebook</a>'\n",
              "            + ' to learn more about interactive tables.';\n",
              "          element.innerHTML = '';\n",
              "          dataTable['output_type'] = 'display_data';\n",
              "          await google.colab.output.renderOutput(dataTable, element);\n",
              "          const docLink = document.createElement('div');\n",
              "          docLink.innerHTML = docLinkHtml;\n",
              "          element.appendChild(docLink);\n",
              "        }\n",
              "      </script>\n",
              "    </div>\n",
              "  </div>\n",
              "  "
            ]
          },
          "metadata": {},
          "execution_count": 33
        }
      ]
    },
    {
      "cell_type": "code",
      "source": [
        "import itertools\n",
        "factory = StopWordRemoverFactory()\n",
        "\n",
        "addStopwords = ['dengan', 'ia', 'bahwa', 'oleh', 'saya']\n",
        "removeStopwords = ['namun', 'tidak', 'setelah', 'masih', 'dengan', \"merasakan\", \"adanya\", \"ada\"]\n",
        "\n",
        "stopWords = factory.get_stop_words()+addStopwords\n",
        "\n",
        "for removeStopword in removeStopwords:\n",
        "    if removeStopword in stopWords:\n",
        "        stopWords.remove(removeStopword)\n",
        "    else:\n",
        "        continue\n",
        "\n",
        "dictionaryWord = ArrayDictionary(stopWords)\n",
        "stopWordRemover = StopWordRemover(dictionaryWord)\n",
        "\n",
        "dfMerge[\"text\"] = dfMerge[\"text\"].str.lstrip()\n",
        "\n",
        "for i in range(len(dfMerge[\"text\"])):\n",
        "    dfMerge[\"text\"][i] = re.sub('  +', ' ', dfMerge[\"text\"][i])\n",
        "    dfMerge[\"text\"][i] = re.sub(r'[^\\x00-\\x7f]','r', dfMerge[\"text\"][i])\n",
        "    dfMerge[\"text\"][i] = dfMerge[\"text\"][i].encode('ascii', 'ignore').decode('utf-8')\n",
        "    dfMerge[\"text\"][i] = ''.join(''.join(s)[:1] for _, s in itertools.groupby(dfMerge[\"text\"][i]))\n",
        "    dfMerge[\"text\"][i] = dfMerge[\"text\"][i].lower()\n",
        "    dfMerge[\"text\"][i] = stopWordRemover.remove(dfMerge[\"text\"][i])\n",
        "    dfMerge[\"label\"][i] = dfMerge[\"label\"][i].lower()\n",
        "    dfMerge[\"label\"][i] = dfMerge[\"label\"][i].title()\n",
        "\n",
        "dfMerge.label = dfMerge.label.str.replace('^ +| +$', '', regex=True)"
      ],
      "metadata": {
        "id": "I2g1r2nJTAro"
      },
      "id": "I2g1r2nJTAro",
      "execution_count": null,
      "outputs": []
    },
    {
      "cell_type": "code",
      "source": [
        "dfMerge = dfMerge.drop(dfMerge[dfMerge['label'] == 'Penyakit Refluks Gastroesofagus'].index)"
      ],
      "metadata": {
        "id": "Icgjupaznl0w"
      },
      "id": "Icgjupaznl0w",
      "execution_count": null,
      "outputs": []
    },
    {
      "cell_type": "code",
      "source": [
        "dfMerge.head()"
      ],
      "metadata": {
        "colab": {
          "base_uri": "https://localhost:8080/",
          "height": 206
        },
        "id": "r3OYMl9wvXLZ",
        "outputId": "fbb26f4a-684f-4149-ce7e-1f8d6d4f3ab5"
      },
      "id": "r3OYMl9wvXLZ",
      "execution_count": null,
      "outputs": [
        {
          "output_type": "execute_result",
          "data": {
            "text/plain": [
              "                      label                                               text\n",
              "0  Vertigo Posisi Paroymsal  tidak merasakan penambahan berat badan. mengal...\n",
              "1  Vertigo Posisi Paroymsal  mengalami patch diskromik beberapa hari terakh...\n",
              "2  Vertigo Posisi Paroymsal  tidak merasakan batuk. sering bermasalah gatal...\n",
              "3  Vertigo Posisi Paroymsal  sesekali, ruam kulit rasakan. tidak ada keasam...\n",
              "4  Vertigo Posisi Paroymsal  tidak merasakan adanya demam ringan. tidak mer..."
            ],
            "text/html": [
              "\n",
              "  <div id=\"df-f78d54c0-5506-4c4f-afc6-5928a9c4a1b6\">\n",
              "    <div class=\"colab-df-container\">\n",
              "      <div>\n",
              "<style scoped>\n",
              "    .dataframe tbody tr th:only-of-type {\n",
              "        vertical-align: middle;\n",
              "    }\n",
              "\n",
              "    .dataframe tbody tr th {\n",
              "        vertical-align: top;\n",
              "    }\n",
              "\n",
              "    .dataframe thead th {\n",
              "        text-align: right;\n",
              "    }\n",
              "</style>\n",
              "<table border=\"1\" class=\"dataframe\">\n",
              "  <thead>\n",
              "    <tr style=\"text-align: right;\">\n",
              "      <th></th>\n",
              "      <th>label</th>\n",
              "      <th>text</th>\n",
              "    </tr>\n",
              "  </thead>\n",
              "  <tbody>\n",
              "    <tr>\n",
              "      <th>0</th>\n",
              "      <td>Vertigo Posisi Paroymsal</td>\n",
              "      <td>tidak merasakan penambahan berat badan. mengal...</td>\n",
              "    </tr>\n",
              "    <tr>\n",
              "      <th>1</th>\n",
              "      <td>Vertigo Posisi Paroymsal</td>\n",
              "      <td>mengalami patch diskromik beberapa hari terakh...</td>\n",
              "    </tr>\n",
              "    <tr>\n",
              "      <th>2</th>\n",
              "      <td>Vertigo Posisi Paroymsal</td>\n",
              "      <td>tidak merasakan batuk. sering bermasalah gatal...</td>\n",
              "    </tr>\n",
              "    <tr>\n",
              "      <th>3</th>\n",
              "      <td>Vertigo Posisi Paroymsal</td>\n",
              "      <td>sesekali, ruam kulit rasakan. tidak ada keasam...</td>\n",
              "    </tr>\n",
              "    <tr>\n",
              "      <th>4</th>\n",
              "      <td>Vertigo Posisi Paroymsal</td>\n",
              "      <td>tidak merasakan adanya demam ringan. tidak mer...</td>\n",
              "    </tr>\n",
              "  </tbody>\n",
              "</table>\n",
              "</div>\n",
              "      <button class=\"colab-df-convert\" onclick=\"convertToInteractive('df-f78d54c0-5506-4c4f-afc6-5928a9c4a1b6')\"\n",
              "              title=\"Convert this dataframe to an interactive table.\"\n",
              "              style=\"display:none;\">\n",
              "        \n",
              "  <svg xmlns=\"http://www.w3.org/2000/svg\" height=\"24px\"viewBox=\"0 0 24 24\"\n",
              "       width=\"24px\">\n",
              "    <path d=\"M0 0h24v24H0V0z\" fill=\"none\"/>\n",
              "    <path d=\"M18.56 5.44l.94 2.06.94-2.06 2.06-.94-2.06-.94-.94-2.06-.94 2.06-2.06.94zm-11 1L8.5 8.5l.94-2.06 2.06-.94-2.06-.94L8.5 2.5l-.94 2.06-2.06.94zm10 10l.94 2.06.94-2.06 2.06-.94-2.06-.94-.94-2.06-.94 2.06-2.06.94z\"/><path d=\"M17.41 7.96l-1.37-1.37c-.4-.4-.92-.59-1.43-.59-.52 0-1.04.2-1.43.59L10.3 9.45l-7.72 7.72c-.78.78-.78 2.05 0 2.83L4 21.41c.39.39.9.59 1.41.59.51 0 1.02-.2 1.41-.59l7.78-7.78 2.81-2.81c.8-.78.8-2.07 0-2.86zM5.41 20L4 18.59l7.72-7.72 1.47 1.35L5.41 20z\"/>\n",
              "  </svg>\n",
              "      </button>\n",
              "      \n",
              "  <style>\n",
              "    .colab-df-container {\n",
              "      display:flex;\n",
              "      flex-wrap:wrap;\n",
              "      gap: 12px;\n",
              "    }\n",
              "\n",
              "    .colab-df-convert {\n",
              "      background-color: #E8F0FE;\n",
              "      border: none;\n",
              "      border-radius: 50%;\n",
              "      cursor: pointer;\n",
              "      display: none;\n",
              "      fill: #1967D2;\n",
              "      height: 32px;\n",
              "      padding: 0 0 0 0;\n",
              "      width: 32px;\n",
              "    }\n",
              "\n",
              "    .colab-df-convert:hover {\n",
              "      background-color: #E2EBFA;\n",
              "      box-shadow: 0px 1px 2px rgba(60, 64, 67, 0.3), 0px 1px 3px 1px rgba(60, 64, 67, 0.15);\n",
              "      fill: #174EA6;\n",
              "    }\n",
              "\n",
              "    [theme=dark] .colab-df-convert {\n",
              "      background-color: #3B4455;\n",
              "      fill: #D2E3FC;\n",
              "    }\n",
              "\n",
              "    [theme=dark] .colab-df-convert:hover {\n",
              "      background-color: #434B5C;\n",
              "      box-shadow: 0px 1px 3px 1px rgba(0, 0, 0, 0.15);\n",
              "      filter: drop-shadow(0px 1px 2px rgba(0, 0, 0, 0.3));\n",
              "      fill: #FFFFFF;\n",
              "    }\n",
              "  </style>\n",
              "\n",
              "      <script>\n",
              "        const buttonEl =\n",
              "          document.querySelector('#df-f78d54c0-5506-4c4f-afc6-5928a9c4a1b6 button.colab-df-convert');\n",
              "        buttonEl.style.display =\n",
              "          google.colab.kernel.accessAllowed ? 'block' : 'none';\n",
              "\n",
              "        async function convertToInteractive(key) {\n",
              "          const element = document.querySelector('#df-f78d54c0-5506-4c4f-afc6-5928a9c4a1b6');\n",
              "          const dataTable =\n",
              "            await google.colab.kernel.invokeFunction('convertToInteractive',\n",
              "                                                     [key], {});\n",
              "          if (!dataTable) return;\n",
              "\n",
              "          const docLinkHtml = 'Like what you see? Visit the ' +\n",
              "            '<a target=\"_blank\" href=https://colab.research.google.com/notebooks/data_table.ipynb>data table notebook</a>'\n",
              "            + ' to learn more about interactive tables.';\n",
              "          element.innerHTML = '';\n",
              "          dataTable['output_type'] = 'display_data';\n",
              "          await google.colab.output.renderOutput(dataTable, element);\n",
              "          const docLink = document.createElement('div');\n",
              "          docLink.innerHTML = docLinkHtml;\n",
              "          element.appendChild(docLink);\n",
              "        }\n",
              "      </script>\n",
              "    </div>\n",
              "  </div>\n",
              "  "
            ]
          },
          "metadata": {},
          "execution_count": 38
        }
      ]
    },
    {
      "cell_type": "code",
      "source": [
        "# df_sampel = pd.concat([dfMerge[dfMerge['label'] == kelas].sample(n=50, random_state=42) for kelas in dfMerge['label'].unique() if kelas not in ['Pembuluh Mekar', 'Wasir Dimorfik', 'Penyakit Refluks Gastroesofagus']])\n",
        "# dfMerge = pd.concat([dfMerge[dfMerge['label'].isin(['Pembuluh Mekar', 'Wasir Dimorfik', 'Penyakit Refluks Gastroesofagus'])], df_sampel])"
      ],
      "metadata": {
        "id": "wO1yrmrd-CIH"
      },
      "id": "wO1yrmrd-CIH",
      "execution_count": null,
      "outputs": []
    },
    {
      "cell_type": "code",
      "source": [
        "for nama_kolom in dfMerge.columns:\n",
        "  print(dfMerge[nama_kolom].value_counts(), \"\\n\")"
      ],
      "metadata": {
        "colab": {
          "base_uri": "https://localhost:8080/"
        },
        "id": "ZU3zUHa8AxnX",
        "outputId": "8692dc2e-0644-45d4-91d3-03afb8f0affb"
      },
      "id": "ZU3zUHa8AxnX",
      "execution_count": null,
      "outputs": [
        {
          "output_type": "stream",
          "name": "stdout",
          "text": [
            "Infeksi Saluran Kemih       290\n",
            "Impetigo                    290\n",
            "Demam Berdarah              290\n",
            "Wasir                       290\n",
            "Reaksi Obat                 290\n",
            "Radang Sendi                290\n",
            "Radang Paru-Paru            290\n",
            "Psoriasis                   290\n",
            "Penyakit Ulkus Peptikum     290\n",
            "Penyakit Tipus              290\n",
            "Penyakit Kuning             290\n",
            "Varises                     290\n",
            "Migrain                     290\n",
            "Malaria                     290\n",
            "Jerawat                     290\n",
            "Infeksi Jamur               290\n",
            "Spondylosis                 290\n",
            "Hipertensi                  290\n",
            "Alergi                      290\n",
            "Asma Bronkial               290\n",
            "Cacar Air                   290\n",
            "Diabetes                    290\n",
            "Flu Biasa                   290\n",
            "Hipotiroidisme              240\n",
            "Gerd                        240\n",
            "Kolestasis Kronis           240\n",
            "Hepatitis A                 240\n",
            "Tbc                         240\n",
            "Serangan Jantung            240\n",
            "Gastroenteritis             240\n",
            "Hipoglikemia                240\n",
            "Hepatitis B                 240\n",
            "Hepatitis C                 240\n",
            "Hepatitis D                 240\n",
            "Osteoartritis               240\n",
            "Hepatitis E                 240\n",
            "Hepatitis Alkoholik         240\n",
            "Pendarahan Otak             240\n",
            "Aids                        240\n",
            "Hipertiroidisme             240\n",
            "Vertigo Posisi Paroymsal    240\n",
            "Name: label, dtype: int64 \n",
            "\n",
            "merasa sangat gatal, sakit, lelah. itu, berat badan turun suhu tubuh naik. urine berwarna gelap, kulit menjadi kuning. itu, juga mengalami sakit perut.                                                                                                                                                                                                                                                                                                                                      5\n",
            "mengalami sembelit sangat sulit pergi kamar mandi. pergi, rasanya sakit tinja berdarah. juga merasakan sakit pantat anus saya sangat gatal iritasi.                                                                                                                                                                                                                                                                                                                                          3\n",
            "mengalami gatal-gatal hebat, muntah-muntah, kelelahan. juga mengalami penurunan berat badan demam tingi. kulit menjadi kuning urin gelap. juga pernah mengalami sakit perut.                                                                                                                                                                                                                                                                                                                 3\n",
            "merasa otot sangat lemah leher sangat kaku. sendi bengkak sulit saya bergerak merasa kaku. berjalan sangat menyakitkan.                                                                                                                                                                                                                                                                                                                                                                      3\n",
            "menemukan tanda-tanda demam tingi. sesekali, panas dingin rasakan. mengalami dahak beberapa hari terakhir. tidak merasakan adanya sakit perut. sesekali, berkeringat rasakan. mengalami sesak napas sesekali. tidak merasakan kelesuan. kasus batuk ringan. mengalami nyeri dada beberapa hari terakhir. mengalami dahak berkarat beberapa hari terakhir. tidak merasakan bisul lidah. menemukan tanda-tanda rasa tidak enak. sesekali, detak jantung cepat rasakan. mengalami kelelahan.    2\n",
            "                                                                                                                                                                                                                                                                                                                                                                                                                                                                                            ..\n",
            "mata benar-benar merah sinus terasa tersumbat. aku tidak punya tenaga tengorokanku sangat gatal. juga memperhatikan kelenjar getah bening bengkak saya banyak batuk berdahak.                                                                                                                                                                                                                                                                                                                1\n",
            "sinus terasa pengap, mata sudah cukup merah. hanya kekurangan energi, tengorokan sangat gatal. seiring pembengkakan kelenjar getah bening saya, juga sering batuk berdahak.                                                                                                                                                                                                                                                                                                                  1\n",
            "mata selalu merah gatal, hidung terasa tersumbat tersumbat. hanya merasa mual lelah sepanjang waktu, terus batuk semua kotoran ini. tengorokan terasa sakit gatal, saya perhatikan benjolan leher saya lebih besar biasanya                                                                                                                                                                                                                                                                  1\n",
            "hidung selalu terasa pengap mampet, mata selalu merah gatal. merasa tidak enak badan lelah, terus mengorek-ngorek kotoran ini. tengorokan gatal teriritasi, saya melihat benjolan leher saya lebih besar biasanya.                                                                                                                                                                                                                                                                           1\n",
            "terus menerus bersin batuk kering. infeksi sepertinya tidak kunjung sembuh, jantung berdebar-debar. tengorokan kadang terasa sakit, biasanya membaik.                                                                                                                                                                                                                                                                                                                                        1\n",
            "Name: text, Length: 6020, dtype: int64 \n",
            "\n"
          ]
        }
      ]
    },
    {
      "cell_type": "markdown",
      "id": "1a1a3a6a",
      "metadata": {
        "papermill": {
          "duration": 0.0058,
          "end_time": "2023-04-06T04:11:57.995838",
          "exception": false,
          "start_time": "2023-04-06T04:11:57.990038",
          "status": "completed"
        },
        "tags": [],
        "id": "1a1a3a6a"
      },
      "source": [
        "Creating encodings for disease."
      ]
    },
    {
      "cell_type": "code",
      "execution_count": null,
      "id": "9f3f79ff",
      "metadata": {
        "execution": {
          "iopub.execute_input": "2023-04-06T04:11:58.009804Z",
          "iopub.status.busy": "2023-04-06T04:11:58.009515Z",
          "iopub.status.idle": "2023-04-06T04:11:58.019455Z",
          "shell.execute_reply": "2023-04-06T04:11:58.018448Z"
        },
        "papermill": {
          "duration": 0.018935,
          "end_time": "2023-04-06T04:11:58.021513",
          "exception": false,
          "start_time": "2023-04-06T04:11:58.002578",
          "status": "completed"
        },
        "tags": [],
        "colab": {
          "base_uri": "https://localhost:8080/"
        },
        "id": "9f3f79ff",
        "outputId": "b855a7ba-aea8-4aa9-f415-30dfc00871da"
      },
      "outputs": [
        {
          "output_type": "execute_result",
          "data": {
            "text/plain": [
              "({0: 'Vertigo Posisi Paroymsal',\n",
              "  1: 'Aids',\n",
              "  2: 'Alergi',\n",
              "  3: 'Asma Bronkial',\n",
              "  4: 'Cacar Air',\n",
              "  5: 'Diabetes',\n",
              "  6: 'Flu Biasa',\n",
              "  7: 'Gerd',\n",
              "  8: 'Gastroenteritis',\n",
              "  9: 'Hepatitis B',\n",
              "  10: 'Hepatitis C',\n",
              "  11: 'Hepatitis D',\n",
              "  12: 'Hepatitis E',\n",
              "  13: 'Hepatitis Alkoholik',\n",
              "  14: 'Hipertensi',\n",
              "  15: 'Hipertiroidisme',\n",
              "  16: 'Hipoglikemia',\n",
              "  17: 'Hipotiroidisme',\n",
              "  18: 'Impetigo',\n",
              "  19: 'Infeksi Jamur',\n",
              "  20: 'Infeksi Saluran Kemih',\n",
              "  21: 'Jerawat',\n",
              "  22: 'Pendarahan Otak',\n",
              "  23: 'Malaria',\n",
              "  24: 'Migrain',\n",
              "  25: 'Osteoartritis',\n",
              "  26: 'Varises',\n",
              "  27: 'Penyakit Kuning',\n",
              "  28: 'Penyakit Tipus',\n",
              "  29: 'Penyakit Ulkus Peptikum',\n",
              "  30: 'Psoriasis',\n",
              "  31: 'Radang Paru-Paru',\n",
              "  32: 'Radang Sendi',\n",
              "  33: 'Reaksi Obat',\n",
              "  34: 'Serangan Jantung',\n",
              "  35: 'Tbc',\n",
              "  36: 'Wasir',\n",
              "  37: 'Demam Berdarah',\n",
              "  38: 'Hepatitis A',\n",
              "  39: 'Kolestasis Kronis',\n",
              "  40: 'Spondylosis'},\n",
              " {'Vertigo Posisi Paroymsal': 0,\n",
              "  'Aids': 1,\n",
              "  'Alergi': 2,\n",
              "  'Asma Bronkial': 3,\n",
              "  'Cacar Air': 4,\n",
              "  'Diabetes': 5,\n",
              "  'Flu Biasa': 6,\n",
              "  'Gerd': 7,\n",
              "  'Gastroenteritis': 8,\n",
              "  'Hepatitis B': 9,\n",
              "  'Hepatitis C': 10,\n",
              "  'Hepatitis D': 11,\n",
              "  'Hepatitis E': 12,\n",
              "  'Hepatitis Alkoholik': 13,\n",
              "  'Hipertensi': 14,\n",
              "  'Hipertiroidisme': 15,\n",
              "  'Hipoglikemia': 16,\n",
              "  'Hipotiroidisme': 17,\n",
              "  'Impetigo': 18,\n",
              "  'Infeksi Jamur': 19,\n",
              "  'Infeksi Saluran Kemih': 20,\n",
              "  'Jerawat': 21,\n",
              "  'Pendarahan Otak': 22,\n",
              "  'Malaria': 23,\n",
              "  'Migrain': 24,\n",
              "  'Osteoartritis': 25,\n",
              "  'Varises': 26,\n",
              "  'Penyakit Kuning': 27,\n",
              "  'Penyakit Tipus': 28,\n",
              "  'Penyakit Ulkus Peptikum': 29,\n",
              "  'Psoriasis': 30,\n",
              "  'Radang Paru-Paru': 31,\n",
              "  'Radang Sendi': 32,\n",
              "  'Reaksi Obat': 33,\n",
              "  'Serangan Jantung': 34,\n",
              "  'Tbc': 35,\n",
              "  'Wasir': 36,\n",
              "  'Demam Berdarah': 37,\n",
              "  'Hepatitis A': 38,\n",
              "  'Kolestasis Kronis': 39,\n",
              "  'Spondylosis': 40})"
            ]
          },
          "metadata": {},
          "execution_count": 40
        }
      ],
      "source": [
        "int2label = {}\n",
        "\n",
        "for i, disease in enumerate(dfMerge['label'].unique()):\n",
        "    int2label[i] = disease\n",
        "\n",
        "label2int = {v : k for k, v in int2label.items()}\n",
        "num_classes = len(int2label)\n",
        "\n",
        "int2label, label2int"
      ]
    },
    {
      "cell_type": "markdown",
      "id": "763636f6",
      "metadata": {
        "papermill": {
          "duration": 0.006036,
          "end_time": "2023-04-06T04:11:58.033788",
          "exception": false,
          "start_time": "2023-04-06T04:11:58.027752",
          "status": "completed"
        },
        "tags": [],
        "id": "763636f6"
      },
      "source": [
        "## Data Distribution"
      ]
    },
    {
      "cell_type": "code",
      "execution_count": null,
      "id": "d9879e91",
      "metadata": {
        "execution": {
          "iopub.execute_input": "2023-04-06T04:11:58.047157Z",
          "iopub.status.busy": "2023-04-06T04:11:58.046841Z",
          "iopub.status.idle": "2023-04-06T04:11:58.493886Z",
          "shell.execute_reply": "2023-04-06T04:11:58.492907Z"
        },
        "papermill": {
          "duration": 0.456124,
          "end_time": "2023-04-06T04:11:58.496173",
          "exception": false,
          "start_time": "2023-04-06T04:11:58.040049",
          "status": "completed"
        },
        "tags": [],
        "colab": {
          "base_uri": "https://localhost:8080/",
          "height": 626
        },
        "id": "d9879e91",
        "outputId": "a34ae33d-dabd-4959-ed7e-54836ea3195f"
      },
      "outputs": [
        {
          "output_type": "execute_result",
          "data": {
            "text/plain": [
              "Text(0.5, 1.0, 'Jumlah Data untuk masing-masing penyakit')"
            ]
          },
          "metadata": {},
          "execution_count": 41
        },
        {
          "output_type": "display_data",
          "data": {
            "text/plain": [
              "<Figure size 1000x800 with 1 Axes>"
            ],
            "image/png": "[encoded data removed]"
          },
          "metadata": {}
        }
      ],
      "source": [
        "plt.figure(figsize = (10, 8))\n",
        "\n",
        "sea.countplot(y = dfMerge['label'], palette = 'Blues_d')\n",
        "plt.title('Jumlah Data untuk masing-masing penyakit')"
      ]
    },
    {
      "cell_type": "markdown",
      "id": "372d9672",
      "metadata": {
        "papermill": {
          "duration": 0.007259,
          "end_time": "2023-04-06T04:11:58.511213",
          "exception": false,
          "start_time": "2023-04-06T04:11:58.503954",
          "status": "completed"
        },
        "tags": [],
        "id": "372d9672"
      },
      "source": [
        "## Distribution of the lenght of description"
      ]
    },
    {
      "cell_type": "code",
      "execution_count": null,
      "id": "a3255b14",
      "metadata": {
        "execution": {
          "iopub.execute_input": "2023-04-06T04:11:58.526547Z",
          "iopub.status.busy": "2023-04-06T04:11:58.526240Z",
          "iopub.status.idle": "2023-04-06T04:11:58.844073Z",
          "shell.execute_reply": "2023-04-06T04:11:58.843091Z"
        },
        "papermill": {
          "duration": 0.328297,
          "end_time": "2023-04-06T04:11:58.846485",
          "exception": false,
          "start_time": "2023-04-06T04:11:58.518188",
          "status": "completed"
        },
        "tags": [],
        "colab": {
          "base_uri": "https://localhost:8080/",
          "height": 502,
          "referenced_widgets": [
            "1eca49eb110c44de9dda44b2e755a6ad",
            "93d5a9d827a34de08538e17aac160fbc",
            "8c5f58c0b09744f7be06f280ad7e1492",
            "09a7ab9c89e54a609cf972560fb3d08a",
            "db5a577ba9db4d12bf03a68b1b68c432",
            "7defd1bd4b44475cb6f725729566d5db",
            "d7f15bf0a7064c3684ce90e5661b96ed",
            "f63cf5a5571c48ec8d6261cf0fa26b3a",
            "76eb66674e3449f99fdf1d80af38bc99",
            "f177d0a59a0741428d5101f2794bca95",
            "86d1ad546eb049f6ab059fb85e447563"
          ]
        },
        "id": "a3255b14",
        "outputId": "c56dcf6f-6774-41f2-8c67-c91ef6af409b"
      },
      "outputs": [
        {
          "output_type": "display_data",
          "data": {
            "text/plain": [
              "  0%|          | 0/10990 [00:00<?, ?it/s]"
            ],
            "application/vnd.jupyter.widget-view+json": {
              "version_major": 2,
              "version_minor": 0,
              "model_id": "1eca49eb110c44de9dda44b2e755a6ad"
            }
          },
          "metadata": {}
        },
        {
          "output_type": "execute_result",
          "data": {
            "text/plain": [
              "Text(0.5, 1.0, 'Distribution of description length')"
            ]
          },
          "metadata": {},
          "execution_count": 42
        },
        {
          "output_type": "display_data",
          "data": {
            "text/plain": [
              "<Figure size 640x480 with 1 Axes>"
            ],
            "image/png": "[encoded data removed]"
          },
          "metadata": {}
        }
      ],
      "source": [
        "# Masih perlu disesuaikan distribusi datanya, jangan ada yang kepanjangan\n",
        "\n",
        "length = []\n",
        "for txt in tqdm(dfMerge['text'].values):\n",
        "    length.append(len(txt.split()))\n",
        "\n",
        "sea.histplot(length, kde = True, bins = 20)\n",
        "plt.title('Distribution of description length')"
      ]
    },
    {
      "cell_type": "code",
      "execution_count": null,
      "id": "14d22426",
      "metadata": {
        "execution": {
          "iopub.execute_input": "2023-04-06T04:11:58.866143Z",
          "iopub.status.busy": "2023-04-06T04:11:58.864521Z",
          "iopub.status.idle": "2023-04-06T04:11:58.872088Z",
          "shell.execute_reply": "2023-04-06T04:11:58.871166Z"
        },
        "papermill": {
          "duration": 0.019088,
          "end_time": "2023-04-06T04:11:58.874327",
          "exception": false,
          "start_time": "2023-04-06T04:11:58.855239",
          "status": "completed"
        },
        "tags": [],
        "id": "14d22426"
      },
      "outputs": [],
      "source": [
        "dfMerge['label'] = dfMerge['label'].map(lambda x : label2int[x])"
      ]
    },
    {
      "cell_type": "code",
      "execution_count": null,
      "id": "62d364d9",
      "metadata": {
        "execution": {
          "iopub.execute_input": "2023-04-06T04:11:58.891925Z",
          "iopub.status.busy": "2023-04-06T04:11:58.891647Z",
          "iopub.status.idle": "2023-04-06T04:11:58.929395Z",
          "shell.execute_reply": "2023-04-06T04:11:58.928193Z"
        },
        "papermill": {
          "duration": 0.049272,
          "end_time": "2023-04-06T04:11:58.931693",
          "exception": false,
          "start_time": "2023-04-06T04:11:58.882421",
          "status": "completed"
        },
        "tags": [],
        "colab": {
          "base_uri": "https://localhost:8080/"
        },
        "id": "62d364d9",
        "outputId": "1a1e9a83-c36e-4ac0-c3e2-0af2a3007be2"
      },
      "outputs": [
        {
          "output_type": "stream",
          "name": "stdout",
          "text": [
            "X vocab: 1795\n"
          ]
        }
      ],
      "source": [
        "X, y = dfMerge['text'].values, dfMerge['label'].values\n",
        "\n",
        "x_tokenizer = Tokenizer(filters = '')\n",
        "x_tokenizer.fit_on_texts(X)\n",
        "x_vocab = len(x_tokenizer.word_index) + 1\n",
        "print(\"X vocab:\", x_vocab)"
      ]
    },
    {
      "cell_type": "markdown",
      "id": "fc27376e",
      "metadata": {
        "papermill": {
          "duration": 0.007651,
          "end_time": "2023-04-06T04:11:58.947594",
          "exception": false,
          "start_time": "2023-04-06T04:11:58.939943",
          "status": "completed"
        },
        "tags": [],
        "id": "fc27376e"
      },
      "source": [
        "## Creating the train and testing data"
      ]
    },
    {
      "cell_type": "code",
      "execution_count": null,
      "id": "066444cb",
      "metadata": {
        "execution": {
          "iopub.execute_input": "2023-04-06T04:11:58.964614Z",
          "iopub.status.busy": "2023-04-06T04:11:58.964068Z",
          "iopub.status.idle": "2023-04-06T04:11:59.111860Z",
          "shell.execute_reply": "2023-04-06T04:11:59.110761Z"
        },
        "papermill": {
          "duration": 0.158924,
          "end_time": "2023-04-06T04:11:59.114422",
          "exception": false,
          "start_time": "2023-04-06T04:11:58.955498",
          "status": "completed"
        },
        "tags": [],
        "colab": {
          "base_uri": "https://localhost:8080/"
        },
        "id": "066444cb",
        "outputId": "b4cb91bc-12dd-44df-c09f-fb048c61458f"
      },
      "outputs": [
        {
          "output_type": "execute_result",
          "data": {
            "text/plain": [
              "((9891,), (1099,), (9891,), (1099,))"
            ]
          },
          "metadata": {},
          "execution_count": 45
        }
      ],
      "source": [
        "from sklearn.model_selection import train_test_split\n",
        "\n",
        "train_x, val_x, train_y, val_y = train_test_split(X, y, test_size = 0.1, stratify = y)\n",
        "train_x.shape, val_x.shape, train_y.shape, val_y.shape"
      ]
    },
    {
      "cell_type": "code",
      "execution_count": null,
      "id": "9b2c5a88",
      "metadata": {
        "execution": {
          "iopub.execute_input": "2023-04-06T04:11:59.149298Z",
          "iopub.status.busy": "2023-04-06T04:11:59.147753Z",
          "iopub.status.idle": "2023-04-06T04:12:09.437535Z",
          "shell.execute_reply": "2023-04-06T04:12:09.436452Z"
        },
        "papermill": {
          "duration": 10.301704,
          "end_time": "2023-04-06T04:12:09.440605",
          "exception": false,
          "start_time": "2023-04-06T04:11:59.138901",
          "status": "completed"
        },
        "tags": [],
        "id": "9b2c5a88",
        "colab": {
          "base_uri": "https://localhost:8080/",
          "height": 145,
          "referenced_widgets": [
            "4c056670a3034b5f98ba4374751f8df5",
            "287078f1af2247f1bdfb229ce4747310",
            "b0b0b65dfbe14ea081572c04b423591d",
            "09e6620e2dfe4d719e3d297505f980a4",
            "761b653c1b9d4dd8abe146931aa317b2",
            "3ac21e15887e43bd95a127b3760fca20",
            "586dd11148264f7d8aa51aa4c7bf5eea",
            "40709bbda1a541ca8d70a6d2716b1fe4",
            "2a213eed01464436aeda943392c1ad4a",
            "e87db2973e464be487c36b248b3651ad",
            "890e8c3a3ad6401a91549beb679e35a1",
            "3559d42a0be648239317c584624ece51",
            "ca5f68693b614eb985e731789f95c4e9",
            "c61130110d7c41af934ded983f1a9661",
            "b67d0da642e3463c9e1fcb4b4748320a",
            "2dfc666101f44a20939b55fbd3e4a516",
            "5c8bad6a741d4fa1b88fa6f6e2d7b496",
            "3624779fdc7441219797fa1cd642800b",
            "8684d0cb4fb84919856b6b9b9d9348ba",
            "864262ae807d46b690b4e03ced8b1cf5",
            "cd11a80d602c47df8f3f2d780e96c6c4",
            "9afc972cbcc04f8e9437f58472b2d518",
            "8fbcadd70b5c415e8108582b2388a38e",
            "8ae5c093219f41799e35fa5a33ea8069",
            "94956224bdcc432a8bcdb6d08bc5cc48",
            "e4d9dede79f94b3dae322e84ff5dd4be",
            "285768699fe3434d9151b1a9c6365a28",
            "606e134558a84d6eb551e5d3c87651e1",
            "e573faa1af69495daa6c375f20266ff8",
            "30e62d0dd9494a8796d4659abae7d4e2",
            "121ee585683749359eeac3432abae725",
            "ac705c6b2721416cb9fd5ce71f4fe0b9",
            "fb15c00cdca74fdcbb5dcc7bdb81cdc3",
            "4d6e54ad9a7b4a2891e131323c588269",
            "4f97078f596749a2b8ff69a1cc287efb",
            "b4907cc375034f509f9dc39a24ac40ae",
            "f8426a9fc6ef4e63bcd50c15c26bf3b1",
            "7a6d7ef8539b4717b0cdb88b42c77886",
            "e629ba2a7f074981a4e86f4a28ee43e7",
            "34e20ae2436e4e78835480b3dec97611",
            "0a6aa701b5b84b3abe54b52bd8c43de5",
            "a8b0a5eaea004d498a3e64b1283f82dc",
            "7c71dca4e1334fe594b95527ab7f1200",
            "609f112931e845d4bc34352be4c12ba4"
          ]
        },
        "outputId": "6ddcb1f9-1c52-47cc-a42c-24fdd9dbc5ec"
      },
      "outputs": [
        {
          "output_type": "display_data",
          "data": {
            "text/plain": [
              "Downloading (…)okenizer_config.json:   0%|          | 0.00/29.0 [00:00<?, ?B/s]"
            ],
            "application/vnd.jupyter.widget-view+json": {
              "version_major": 2,
              "version_minor": 0,
              "model_id": "4c056670a3034b5f98ba4374751f8df5"
            }
          },
          "metadata": {}
        },
        {
          "output_type": "display_data",
          "data": {
            "text/plain": [
              "Downloading (…)lve/main/config.json:   0%|          | 0.00/625 [00:00<?, ?B/s]"
            ],
            "application/vnd.jupyter.widget-view+json": {
              "version_major": 2,
              "version_minor": 0,
              "model_id": "3559d42a0be648239317c584624ece51"
            }
          },
          "metadata": {}
        },
        {
          "output_type": "display_data",
          "data": {
            "text/plain": [
              "Downloading (…)solve/main/vocab.txt:   0%|          | 0.00/996k [00:00<?, ?B/s]"
            ],
            "application/vnd.jupyter.widget-view+json": {
              "version_major": 2,
              "version_minor": 0,
              "model_id": "8fbcadd70b5c415e8108582b2388a38e"
            }
          },
          "metadata": {}
        },
        {
          "output_type": "display_data",
          "data": {
            "text/plain": [
              "Downloading (…)/main/tokenizer.json:   0%|          | 0.00/1.96M [00:00<?, ?B/s]"
            ],
            "application/vnd.jupyter.widget-view+json": {
              "version_major": 2,
              "version_minor": 0,
              "model_id": "4d6e54ad9a7b4a2891e131323c588269"
            }
          },
          "metadata": {}
        }
      ],
      "source": [
        "from transformers import AutoTokenizer\n",
        "BATCH_SIZE = 8\n",
        "\n",
        "tokenizer = AutoTokenizer.from_pretrained(\"bert-base-multilingual-cased\")\n",
        "train_encodings = tokenizer(list(train_x), padding=\"max_length\", truncation=True)\n",
        "val_encodings = tokenizer(list(val_x), padding=\"max_length\", truncation=True)\n",
        "\n",
        "train_dataset = tf.data.Dataset.from_tensor_slices((\n",
        "    dict(train_encodings),\n",
        "    train_y\n",
        ")).batch(BATCH_SIZE)\n",
        "\n",
        "val_dataset = tf.data.Dataset.from_tensor_slices((\n",
        "    dict(val_encodings),\n",
        "    val_y\n",
        ")).batch(BATCH_SIZE)\n"
      ]
    },
    {
      "cell_type": "code",
      "source": [
        "num_classes = 41\n",
        "\n",
        "from transformers import TFAutoModelForSequenceClassification\n",
        "\n",
        "model = TFAutoModelForSequenceClassification.from_pretrained(\n",
        "    \"bert-base-multilingual-cased\", \n",
        "    num_labels = num_classes, \n",
        "    id2label = int2label, \n",
        "    label2id = label2int,\n",
        "    output_attentions = True)\n",
        "\n",
        "model.compile(\n",
        "    loss = keras.losses.SparseCategoricalCrossentropy(from_logits=True),\n",
        "    optimizer = keras.optimizers.Adam(learning_rate = 3e-5),\n",
        "    metrics = ['accuracy'])\n",
        "\n",
        "model"
      ],
      "metadata": {
        "colab": {
          "base_uri": "https://localhost:8080/",
          "height": 156,
          "referenced_widgets": [
            "641f26f8c94b42a68808c981392bcbe4",
            "5198669380b8448ca260201f9fa86328",
            "9d596c9660544c7b8ef42eb55664ea48",
            "1644bbf4da3044188e90c9bbc2b47d3c",
            "f0a5bc609f0f4ae4aa038abcf3738732",
            "99652f9c3e7f4b23b045f378fc0a4cb1",
            "af97714ad43a402dbce303dfe922bc52",
            "97a1dea897e84132852956e40012a91d",
            "da11611a83bd4d67b64885f22931c07f",
            "e442329a53834a499116a598eb9ed6b8",
            "76b3da3ac41f4e7fb3356808ed8f757c"
          ]
        },
        "id": "bp6MyJ2RFInb",
        "outputId": "e4e26661-77bf-4048-f8ff-50073c4d410f"
      },
      "id": "bp6MyJ2RFInb",
      "execution_count": null,
      "outputs": [
        {
          "output_type": "display_data",
          "data": {
            "text/plain": [
              "Downloading tf_model.h5:   0%|          | 0.00/1.08G [00:00<?, ?B/s]"
            ],
            "application/vnd.jupyter.widget-view+json": {
              "version_major": 2,
              "version_minor": 0,
              "model_id": "641f26f8c94b42a68808c981392bcbe4"
            }
          },
          "metadata": {}
        },
        {
          "output_type": "stream",
          "name": "stderr",
          "text": [
            "All model checkpoint layers were used when initializing TFBertForSequenceClassification.\n",
            "\n",
            "Some layers of TFBertForSequenceClassification were not initialized from the model checkpoint at bert-base-multilingual-cased and are newly initialized: ['classifier']\n",
            "You should probably TRAIN this model on a down-stream task to be able to use it for predictions and inference.\n"
          ]
        },
        {
          "output_type": "execute_result",
          "data": {
            "text/plain": [
              "<transformers.models.bert.modeling_tf_bert.TFBertForSequenceClassification at 0x7f746848abc0>"
            ]
          },
          "metadata": {},
          "execution_count": 47
        }
      ]
    },
    {
      "cell_type": "code",
      "source": [
        "for layer in model.layers:\n",
        "    print(layer, layer.trainable)"
      ],
      "metadata": {
        "colab": {
          "base_uri": "https://localhost:8080/"
        },
        "id": "cUqkar8DHIno",
        "outputId": "96ec8569-32a9-4a89-c529-977c2c43287c"
      },
      "id": "cUqkar8DHIno",
      "execution_count": null,
      "outputs": [
        {
          "output_type": "stream",
          "name": "stdout",
          "text": [
            "<transformers.models.bert.modeling_tf_bert.TFBertMainLayer object at 0x7f739e733490> True\n",
            "<keras.layers.regularization.dropout.Dropout object at 0x7f739e4d9870> True\n",
            "<keras.layers.core.dense.Dense object at 0x7f739e4d9c60> True\n"
          ]
        }
      ]
    },
    {
      "cell_type": "code",
      "source": [
        "model.summary()"
      ],
      "metadata": {
        "colab": {
          "base_uri": "https://localhost:8080/"
        },
        "id": "QCunSrpScgbb",
        "outputId": "bc1dd930-cbf3-4009-bf49-e466f2ed3b0f"
      },
      "id": "QCunSrpScgbb",
      "execution_count": null,
      "outputs": [
        {
          "output_type": "stream",
          "name": "stdout",
          "text": [
            "Model: \"tf_bert_for_sequence_classification\"\n",
            "_________________________________________________________________\n",
            " Layer (type)                Output Shape              Param #   \n",
            "=================================================================\n",
            " bert (TFBertMainLayer)      multiple                  177853440 \n",
            "                                                                 \n",
            " dropout_37 (Dropout)        multiple                  0         \n",
            "                                                                 \n",
            " classifier (Dense)          multiple                  31529     \n",
            "                                                                 \n",
            "=================================================================\n",
            "Total params: 177,884,969\n",
            "Trainable params: 177,884,969\n",
            "Non-trainable params: 0\n",
            "_________________________________________________________________\n"
          ]
        }
      ]
    },
    {
      "cell_type": "code",
      "source": [
        "EPOCHS = 10\n",
        "batch_size = 32\n",
        "\n",
        "history = model.fit(train_dataset,\n",
        "          batch_size=batch_size,\n",
        "          epochs = EPOCHS,\n",
        "          validation_data = val_dataset)"
      ],
      "metadata": {
        "colab": {
          "base_uri": "https://localhost:8080/"
        },
        "id": "_bLkSCfnlaPQ",
        "outputId": "844e9cad-5c3e-432e-cc4f-6f6d916d2c56"
      },
      "id": "_bLkSCfnlaPQ",
      "execution_count": null,
      "outputs": [
        {
          "output_type": "stream",
          "name": "stdout",
          "text": [
            "Epoch 1/10\n",
            "1237/1237 [==============================] - 1262s 976ms/step - loss: 1.4452 - accuracy: 0.6807 - val_loss: 0.1830 - val_accuracy: 0.9627\n",
            "Epoch 2/10\n",
            "1237/1237 [==============================] - 1249s 1s/step - loss: 0.1234 - accuracy: 0.9795 - val_loss: 0.0543 - val_accuracy: 0.9909\n",
            "Epoch 3/10\n",
            "1237/1237 [==============================] - 1247s 1s/step - loss: 0.0617 - accuracy: 0.9874 - val_loss: 0.0511 - val_accuracy: 0.9864\n",
            "Epoch 4/10\n",
            "1237/1237 [==============================] - 1247s 1s/step - loss: 0.0249 - accuracy: 0.9949 - val_loss: 0.0694 - val_accuracy: 0.9791\n",
            "Epoch 5/10\n",
            "1237/1237 [==============================] - 1211s 979ms/step - loss: 0.0278 - accuracy: 0.9929 - val_loss: 0.0446 - val_accuracy: 0.9891\n",
            "Epoch 6/10\n",
            "1237/1237 [==============================] - 1212s 980ms/step - loss: 0.0327 - accuracy: 0.9916 - val_loss: 0.0307 - val_accuracy: 0.9909\n",
            "Epoch 7/10\n",
            "1237/1237 [==============================] - 1212s 980ms/step - loss: 0.0093 - accuracy: 0.9984 - val_loss: 0.0306 - val_accuracy: 0.9927\n",
            "Epoch 8/10\n",
            "1237/1237 [==============================] - 1211s 979ms/step - loss: 0.0229 - accuracy: 0.9958 - val_loss: 0.0362 - val_accuracy: 0.9909\n",
            "Epoch 9/10\n",
            "1237/1237 [==============================] - 1211s 979ms/step - loss: 0.0265 - accuracy: 0.9937 - val_loss: 0.0308 - val_accuracy: 0.9909\n",
            "Epoch 10/10\n",
            "1237/1237 [==============================] - 1212s 980ms/step - loss: 0.0224 - accuracy: 0.9947 - val_loss: 0.0521 - val_accuracy: 0.9882\n"
          ]
        }
      ]
    },
    {
      "cell_type": "code",
      "source": [
        "model.evaluate(val_dataset, batch_size=batch_size)"
      ],
      "metadata": {
        "id": "TfPg4pcAligZ",
        "colab": {
          "base_uri": "https://localhost:8080/"
        },
        "outputId": "4389d1d4-fe53-4f90-ce2d-e7082f428642"
      },
      "id": "TfPg4pcAligZ",
      "execution_count": null,
      "outputs": [
        {
          "output_type": "stream",
          "name": "stdout",
          "text": [
            "138/138 [==============================] - 47s 338ms/step - loss: 0.0521 - accuracy: 0.9882\n"
          ]
        },
        {
          "output_type": "execute_result",
          "data": {
            "text/plain": [
              "[0.0520809032022953, 0.9881710410118103]"
            ]
          },
          "metadata": {},
          "execution_count": 51
        }
      ]
    },
    {
      "cell_type": "markdown",
      "id": "5328a41d",
      "metadata": {
        "papermill": {
          "duration": 0.03055,
          "end_time": "2023-04-06T04:17:18.039325",
          "exception": false,
          "start_time": "2023-04-06T04:17:18.008775",
          "status": "completed"
        },
        "tags": [],
        "id": "5328a41d"
      },
      "source": [
        "## Plotting the loss and accuracy plot."
      ]
    },
    {
      "cell_type": "code",
      "source": [
        "plt.figure(figsize = (14, 5))\n",
        "\n",
        "plt.subplot(1,2,1)\n",
        "plt.title('Loss')\n",
        "plt.plot(history.history['loss'], marker = 'o', label = 'Training')\n",
        "plt.plot(history.history['val_loss'], marker='o', label = 'Validation')\n",
        "plt.legend()\n",
        "\n",
        "plt.subplot(1,2,2)\n",
        "plt.title('Accuracy')\n",
        "plt.plot(history.history['accuracy'], marker = 'o', label = 'Training')\n",
        "plt.plot(history.history['val_accuracy'], marker='o', label = 'Validation')\n",
        "plt.legend()"
      ],
      "metadata": {
        "id": "KCBRqrCyljwy",
        "colab": {
          "base_uri": "https://localhost:8080/",
          "height": 368
        },
        "outputId": "b021b642-9732-4bb1-cbb6-afc1888ef4d4"
      },
      "id": "KCBRqrCyljwy",
      "execution_count": null,
      "outputs": [
        {
          "output_type": "execute_result",
          "data": {
            "text/plain": [
              "<matplotlib.legend.Legend at 0x7f6f902a1570>"
            ]
          },
          "metadata": {},
          "execution_count": 62
        },
        {
          "output_type": "display_data",
          "data": {
            "text/plain": [
              "<Figure size 1400x500 with 2 Axes>"
            ],
            "image/png": "[encoded data removed]"
          },
          "metadata": {}
        }
      ]
    },
    {
      "cell_type": "markdown",
      "id": "9aeffcca",
      "metadata": {
        "papermill": {
          "duration": 0.031776,
          "end_time": "2023-04-06T04:17:18.612882",
          "exception": false,
          "start_time": "2023-04-06T04:17:18.581106",
          "status": "completed"
        },
        "tags": [],
        "id": "9aeffcca"
      },
      "source": [
        "## Testing the model on custom input."
      ]
    },
    {
      "cell_type": "code",
      "source": [
        "path = \"./model_merge_bert_multilungual_v3\"\n",
        "path2 = \"./tokenizer_merge_bert_multilungual_v3\"\n",
        "model.save_pretrained(path)\n",
        "tokenizer.save_pretrained(path2)"
      ],
      "metadata": {
        "id": "PboIOFheckzA",
        "colab": {
          "base_uri": "https://localhost:8080/"
        },
        "outputId": "f9959bb3-46e9-42b6-99ad-53dc6c2959bf"
      },
      "id": "PboIOFheckzA",
      "execution_count": null,
      "outputs": [
        {
          "output_type": "execute_result",
          "data": {
            "text/plain": [
              "('./tokenizer_merge_bert_multilungual_v3/tokenizer_config.json',\n",
              " './tokenizer_merge_bert_multilungual_v3/special_tokens_map.json',\n",
              " './tokenizer_merge_bert_multilungual_v3/vocab.txt',\n",
              " './tokenizer_merge_bert_multilungual_v3/added_tokens.json',\n",
              " './tokenizer_merge_bert_multilungual_v3/tokenizer.json')"
            ]
          },
          "metadata": {},
          "execution_count": 53
        }
      ]
    },
    {
      "cell_type": "code",
      "source": [
        "!zip -r model_merge_bert_multilungual_v3.zip \"/content/model_merge_bert_multilungual_v3\""
      ],
      "metadata": {
        "id": "ac4zctPhf4DI",
        "colab": {
          "base_uri": "https://localhost:8080/"
        },
        "outputId": "035bfaeb-082e-44d3-a336-ed55f0b669fc"
      },
      "id": "ac4zctPhf4DI",
      "execution_count": null,
      "outputs": [
        {
          "output_type": "stream",
          "name": "stdout",
          "text": [
            "  adding: content/model_merge_bert_multilungual_v3/ (stored 0%)\n",
            "  adding: content/model_merge_bert_multilungual_v3/config.json (deflated 62%)\n",
            "  adding: content/model_merge_bert_multilungual_v3/tf_model.h5 (deflated 7%)\n"
          ]
        }
      ]
    },
    {
      "cell_type": "code",
      "source": [
        "!zip -r tokenizer_merge_bert_multilungual_v3.zip \"/content/tokenizer_merge_bert_multilungual_v3\""
      ],
      "metadata": {
        "id": "Bj48aO-Pf6SO"
      },
      "id": "Bj48aO-Pf6SO",
      "execution_count": null,
      "outputs": []
    },
    {
      "cell_type": "code",
      "source": [
        "from transformers import BertTokenizer, BertForSequenceClassification, BertModel"
      ],
      "metadata": {
        "id": "C1iPeGAzgPai"
      },
      "id": "C1iPeGAzgPai",
      "execution_count": null,
      "outputs": []
    },
    {
      "cell_type": "code",
      "source": [
        "tokenizerlocal = BertTokenizer.from_pretrained(\"./tokenizer_merge_bert_multilungual_v3\", local_files_only=True)"
      ],
      "metadata": {
        "id": "C2Sa_I2MhDZL"
      },
      "id": "C2Sa_I2MhDZL",
      "execution_count": null,
      "outputs": []
    },
    {
      "cell_type": "code",
      "source": [
        "modellocal = BertForSequenceClassification.from_pretrained(\"./model_merge_bert_multilungual_v3\", from_tf=True)"
      ],
      "metadata": {
        "id": "L90Wy3bjhcbv",
        "colab": {
          "base_uri": "https://localhost:8080/"
        },
        "outputId": "78856ed3-9537-4490-d18f-1c83ada8f9e2"
      },
      "id": "L90Wy3bjhcbv",
      "execution_count": null,
      "outputs": [
        {
          "output_type": "stream",
          "name": "stderr",
          "text": [
            "All TF 2.0 model weights were used when initializing BertForSequenceClassification.\n",
            "\n",
            "All the weights of BertForSequenceClassification were initialized from the TF 2.0 model.\n",
            "If your task is similar to the task the model of the checkpoint was trained on, you can already use BertForSequenceClassification for predictions without further training.\n"
          ]
        }
      ]
    },
    {
      "cell_type": "code",
      "execution_count": null,
      "id": "9745ec82",
      "metadata": {
        "execution": {
          "iopub.execute_input": "2023-04-06T04:17:18.686291Z",
          "iopub.status.busy": "2023-04-06T04:17:18.685270Z",
          "iopub.status.idle": "2023-04-06T04:17:21.110169Z",
          "shell.execute_reply": "2023-04-06T04:17:21.108878Z"
        },
        "papermill": {
          "duration": 2.46847,
          "end_time": "2023-04-06T04:17:21.112972",
          "exception": false,
          "start_time": "2023-04-06T04:17:18.644502",
          "status": "completed"
        },
        "tags": [],
        "id": "9745ec82",
        "colab": {
          "base_uri": "https://localhost:8080/"
        },
        "outputId": "3f95abfd-4b57-4113-eb4b-957b6b98c6ef"
      },
      "outputs": [
        {
          "output_type": "stream",
          "name": "stdout",
          "text": [
            "[{'label': 'Diabetes', 'score': 0.991198718547821}, {'label': 'Migrain', 'score': 0.007056170608848333}]\n",
            "[{'label': 'Penyakit Tipus', 'score': 0.99915611743927}, {'label': 'Demam Berdarah', 'score': 9.729956946102902e-05}]\n",
            "[{'label': 'Penyakit Kuning', 'score': 0.9996534585952759}, {'label': 'Hipertensi', 'score': 4.084131433046423e-05}]\n"
          ]
        }
      ],
      "source": [
        "from transformers import TextClassificationPipeline\n",
        "\n",
        "pipe = TextClassificationPipeline(model=modellocal, tokenizer=tokenizerlocal, top_k = 24)\n",
        "\n",
        "text1 = str(\" Penglihatan saya berkabut, dan tampaknya semakin memburuk. Saya merasa lelah dan lelah sepanjang waktu. Saya juga sering mengalami pusing parah dan pusing.\").lower()\n",
        "text2 = str(\"Saya mengalami sembelit dan sakit perut, dan itu sangat tidak nyaman. Sakit perut semakin parah dan mulai mempengaruhi kehidupan sehari-hari saya. Apalagi setiap malam saya menggigil, diikuti demam ringan.\").lower()\n",
        "text3 = str(\" saya merasa sangat gatal, sakit, dan lelah. selain itu, berat badan saya turun dan suhu tubuh saya naik. urine saya berwarna gelap, dan kulit saya menjadi kuning. selain itu, saya juga mengalami sakit perut.\").lower()\n",
        "\n",
        "pred1 = pipe(text1)\n",
        "pred2 = pipe(text2)\n",
        "pred3 = pipe(text3)\n",
        "\n",
        "print(pred1[0][:2])\n",
        "print(pred2[0][:2])\n",
        "print(pred3[0][:2])"
      ]
    },
    {
      "cell_type": "code",
      "source": [
        "!ls -lh tokenizer_merge_bert_multilungual_v3.zip model_merge_bert_multilungual_v3.zip"
      ],
      "metadata": {
        "id": "AiGQglT9jWzA",
        "colab": {
          "base_uri": "https://localhost:8080/"
        },
        "outputId": "61637f18-01d8-4f2f-8190-718f46e31815"
      },
      "id": "AiGQglT9jWzA",
      "execution_count": null,
      "outputs": [
        {
          "output_type": "stream",
          "name": "stdout",
          "text": [
            "-rw-r--r-- 1 root root 630M Jun  3 22:25 model_merge_bert_multilungual_v3.zip\n",
            "-rw-r--r-- 1 root root 1.5M Jun  3 22:25 tokenizer_merge_bert_multilungual_v3.zip\n"
          ]
        }
      ]
    },
    {
      "cell_type": "code",
      "source": [
        "from google.colab import drive\n",
        "drive.mount('/content/drive')"
      ],
      "metadata": {
        "id": "teG4LiSzhOe6",
        "colab": {
          "base_uri": "https://localhost:8080/"
        },
        "outputId": "fa3d56f7-613b-4c74-dd1d-e338e9a5404e"
      },
      "id": "teG4LiSzhOe6",
      "execution_count": null,
      "outputs": [
        {
          "output_type": "stream",
          "name": "stdout",
          "text": [
            "Mounted at /content/drive\n"
          ]
        }
      ]
    },
    {
      "cell_type": "code",
      "source": [
        "!cp -r model_merge_bert_multilungual_v3.zip \"/content/drive/My Drive/Save Model Capstone/\""
      ],
      "metadata": {
        "id": "fFFDoe9bYzHd"
      },
      "id": "fFFDoe9bYzHd",
      "execution_count": null,
      "outputs": []
    },
    {
      "cell_type": "code",
      "source": [
        "!cp -r tokenizer_merge_bert_multilungual_v3.zip \"/content/drive/My Drive/Save Model Capstone/\""
      ],
      "metadata": {
        "id": "1B6DKfyljG91"
      },
      "id": "1B6DKfyljG91",
      "execution_count": null,
      "outputs": []
    },
    {
      "cell_type": "code",
      "source": [
        "dfMerge.to_csv('data_merge_nlp-csv_clean_v3.csv', index = False, header = True, index_label = None)\n",
        "!cp -r data_merge_nlp-csv_clean_v3.csv \"/content/drive/My Drive/Save Model Capstone/\""
      ],
      "metadata": {
        "id": "5QIPzwAxhPny"
      },
      "id": "5QIPzwAxhPny",
      "execution_count": null,
      "outputs": []
    }
  ],
  "metadata": {
    "kernelspec": {
      "display_name": "Python 3",
      "name": "python3"
    },
    "language_info": {
      "codemirror_mode": {
        "name": "ipython",
        "version": 3
      },
      "file_extension": ".py",
      "mimetype": "text/x-python",
      "name": "python",
      "nbconvert_exporter": "python",
      "pygments_lexer": "ipython3",
      "version": "3.8.8"
    },
    "papermill": {
      "default_parameters": {},
      "duration": 352.818072,
      "end_time": "2023-04-06T04:17:24.927541",
      "environment_variables": {},
      "exception": null,
      "input_path": "__notebook__.ipynb",
      "output_path": "__notebook__.ipynb",
      "parameters": {},
      "start_time": "2023-04-06T04:11:32.109469",
      "version": "2.4.0"
    },
    "widgets": {
      "application/vnd.jupyter.widget-state+json": {
        "1eca49eb110c44de9dda44b2e755a6ad": {
          "model_module": "@jupyter-widgets/controls",
          "model_name": "HBoxModel",
          "model_module_version": "1.5.0",
          "state": {
            "_dom_classes": [],
            "_model_module": "@jupyter-widgets/controls",
            "_model_module_version": "1.5.0",
            "_model_name": "HBoxModel",
            "_view_count": null,
            "_view_module": "@jupyter-widgets/controls",
            "_view_module_version": "1.5.0",
            "_view_name": "HBoxView",
            "box_style": "",
            "children": [
              "IPY_MODEL_93d5a9d827a34de08538e17aac160fbc",
              "IPY_MODEL_8c5f58c0b09744f7be06f280ad7e1492",
              "IPY_MODEL_09a7ab9c89e54a609cf972560fb3d08a"
            ],
            "layout": "IPY_MODEL_db5a577ba9db4d12bf03a68b1b68c432"
          }
        },
        "93d5a9d827a34de08538e17aac160fbc": {
          "model_module": "@jupyter-widgets/controls",
          "model_name": "HTMLModel",
          "model_module_version": "1.5.0",
          "state": {
            "_dom_classes": [],
            "_model_module": "@jupyter-widgets/controls",
            "_model_module_version": "1.5.0",
            "_model_name": "HTMLModel",
            "_view_count": null,
            "_view_module": "@jupyter-widgets/controls",
            "_view_module_version": "1.5.0",
            "_view_name": "HTMLView",
            "description": "",
            "description_tooltip": null,
            "layout": "IPY_MODEL_7defd1bd4b44475cb6f725729566d5db",
            "placeholder": "​",
            "style": "IPY_MODEL_d7f15bf0a7064c3684ce90e5661b96ed",
            "value": "100%"
          }
        },
        "8c5f58c0b09744f7be06f280ad7e1492": {
          "model_module": "@jupyter-widgets/controls",
          "model_name": "FloatProgressModel",
          "model_module_version": "1.5.0",
          "state": {
            "_dom_classes": [],
            "_model_module": "@jupyter-widgets/controls",
            "_model_module_version": "1.5.0",
            "_model_name": "FloatProgressModel",
            "_view_count": null,
            "_view_module": "@jupyter-widgets/controls",
            "_view_module_version": "1.5.0",
            "_view_name": "ProgressView",
            "bar_style": "success",
            "description": "",
            "description_tooltip": null,
            "layout": "IPY_MODEL_f63cf5a5571c48ec8d6261cf0fa26b3a",
            "max": 10990,
            "min": 0,
            "orientation": "horizontal",
            "style": "IPY_MODEL_76eb66674e3449f99fdf1d80af38bc99",
            "value": 10990
          }
        },
        "09a7ab9c89e54a609cf972560fb3d08a": {
          "model_module": "@jupyter-widgets/controls",
          "model_name": "HTMLModel",
          "model_module_version": "1.5.0",
          "state": {
            "_dom_classes": [],
            "_model_module": "@jupyter-widgets/controls",
            "_model_module_version": "1.5.0",
            "_model_name": "HTMLModel",
            "_view_count": null,
            "_view_module": "@jupyter-widgets/controls",
            "_view_module_version": "1.5.0",
            "_view_name": "HTMLView",
            "description": "",
            "description_tooltip": null,
            "layout": "IPY_MODEL_f177d0a59a0741428d5101f2794bca95",
            "placeholder": "​",
            "style": "IPY_MODEL_86d1ad546eb049f6ab059fb85e447563",
            "value": " 10990/10990 [00:00&lt;00:00, 171949.00it/s]"
          }
        },
        "db5a577ba9db4d12bf03a68b1b68c432": {
          "model_module": "@jupyter-widgets/base",
          "model_name": "LayoutModel",
          "model_module_version": "1.2.0",
          "state": {
            "_model_module": "@jupyter-widgets/base",
            "_model_module_version": "1.2.0",
            "_model_name": "LayoutModel",
            "_view_count": null,
            "_view_module": "@jupyter-widgets/base",
            "_view_module_version": "1.2.0",
            "_view_name": "LayoutView",
            "align_content": null,
            "align_items": null,
            "align_self": null,
            "border": null,
            "bottom": null,
            "display": null,
            "flex": null,
            "flex_flow": null,
            "grid_area": null,
            "grid_auto_columns": null,
            "grid_auto_flow": null,
            "grid_auto_rows": null,
            "grid_column": null,
            "grid_gap": null,
            "grid_row": null,
            "grid_template_areas": null,
            "grid_template_columns": null,
            "grid_template_rows": null,
            "height": null,
            "justify_content": null,
            "justify_items": null,
            "left": null,
            "margin": null,
            "max_height": null,
            "max_width": null,
            "min_height": null,
            "min_width": null,
            "object_fit": null,
            "object_position": null,
            "order": null,
            "overflow": null,
            "overflow_x": null,
            "overflow_y": null,
            "padding": null,
            "right": null,
            "top": null,
            "visibility": null,
            "width": null
          }
        },
        "7defd1bd4b44475cb6f725729566d5db": {
          "model_module": "@jupyter-widgets/base",
          "model_name": "LayoutModel",
          "model_module_version": "1.2.0",
          "state": {
            "_model_module": "@jupyter-widgets/base",
            "_model_module_version": "1.2.0",
            "_model_name": "LayoutModel",
            "_view_count": null,
            "_view_module": "@jupyter-widgets/base",
            "_view_module_version": "1.2.0",
            "_view_name": "LayoutView",
            "align_content": null,
            "align_items": null,
            "align_self": null,
            "border": null,
            "bottom": null,
            "display": null,
            "flex": null,
            "flex_flow": null,
            "grid_area": null,
            "grid_auto_columns": null,
            "grid_auto_flow": null,
            "grid_auto_rows": null,
            "grid_column": null,
            "grid_gap": null,
            "grid_row": null,
            "grid_template_areas": null,
            "grid_template_columns": null,
            "grid_template_rows": null,
            "height": null,
            "justify_content": null,
            "justify_items": null,
            "left": null,
            "margin": null,
            "max_height": null,
            "max_width": null,
            "min_height": null,
            "min_width": null,
            "object_fit": null,
            "object_position": null,
            "order": null,
            "overflow": null,
            "overflow_x": null,
            "overflow_y": null,
            "padding": null,
            "right": null,
            "top": null,
            "visibility": null,
            "width": null
          }
        },
        "d7f15bf0a7064c3684ce90e5661b96ed": {
          "model_module": "@jupyter-widgets/controls",
          "model_name": "DescriptionStyleModel",
          "model_module_version": "1.5.0",
          "state": {
            "_model_module": "@jupyter-widgets/controls",
            "_model_module_version": "1.5.0",
            "_model_name": "DescriptionStyleModel",
            "_view_count": null,
            "_view_module": "@jupyter-widgets/base",
            "_view_module_version": "1.2.0",
            "_view_name": "StyleView",
            "description_width": ""
          }
        },
        "f63cf5a5571c48ec8d6261cf0fa26b3a": {
          "model_module": "@jupyter-widgets/base",
          "model_name": "LayoutModel",
          "model_module_version": "1.2.0",
          "state": {
            "_model_module": "@jupyter-widgets/base",
            "_model_module_version": "1.2.0",
            "_model_name": "LayoutModel",
            "_view_count": null,
            "_view_module": "@jupyter-widgets/base",
            "_view_module_version": "1.2.0",
            "_view_name": "LayoutView",
            "align_content": null,
            "align_items": null,
            "align_self": null,
            "border": null,
            "bottom": null,
            "display": null,
            "flex": null,
            "flex_flow": null,
            "grid_area": null,
            "grid_auto_columns": null,
            "grid_auto_flow": null,
            "grid_auto_rows": null,
            "grid_column": null,
            "grid_gap": null,
            "grid_row": null,
            "grid_template_areas": null,
            "grid_template_columns": null,
            "grid_template_rows": null,
            "height": null,
            "justify_content": null,
            "justify_items": null,
            "left": null,
            "margin": null,
            "max_height": null,
            "max_width": null,
            "min_height": null,
            "min_width": null,
            "object_fit": null,
            "object_position": null,
            "order": null,
            "overflow": null,
            "overflow_x": null,
            "overflow_y": null,
            "padding": null,
            "right": null,
            "top": null,
            "visibility": null,
            "width": null
          }
        },
        "76eb66674e3449f99fdf1d80af38bc99": {
          "model_module": "@jupyter-widgets/controls",
          "model_name": "ProgressStyleModel",
          "model_module_version": "1.5.0",
          "state": {
            "_model_module": "@jupyter-widgets/controls",
            "_model_module_version": "1.5.0",
            "_model_name": "ProgressStyleModel",
            "_view_count": null,
            "_view_module": "@jupyter-widgets/base",
            "_view_module_version": "1.2.0",
            "_view_name": "StyleView",
            "bar_color": null,
            "description_width": ""
          }
        },
        "f177d0a59a0741428d5101f2794bca95": {
          "model_module": "@jupyter-widgets/base",
          "model_name": "LayoutModel",
          "model_module_version": "1.2.0",
          "state": {
            "_model_module": "@jupyter-widgets/base",
            "_model_module_version": "1.2.0",
            "_model_name": "LayoutModel",
            "_view_count": null,
            "_view_module": "@jupyter-widgets/base",
            "_view_module_version": "1.2.0",
            "_view_name": "LayoutView",
            "align_content": null,
            "align_items": null,
            "align_self": null,
            "border": null,
            "bottom": null,
            "display": null,
            "flex": null,
            "flex_flow": null,
            "grid_area": null,
            "grid_auto_columns": null,
            "grid_auto_flow": null,
            "grid_auto_rows": null,
            "grid_column": null,
            "grid_gap": null,
            "grid_row": null,
            "grid_template_areas": null,
            "grid_template_columns": null,
            "grid_template_rows": null,
            "height": null,
            "justify_content": null,
            "justify_items": null,
            "left": null,
            "margin": null,
            "max_height": null,
            "max_width": null,
            "min_height": null,
            "min_width": null,
            "object_fit": null,
            "object_position": null,
            "order": null,
            "overflow": null,
            "overflow_x": null,
            "overflow_y": null,
            "padding": null,
            "right": null,
            "top": null,
            "visibility": null,
            "width": null
          }
        },
        "86d1ad546eb049f6ab059fb85e447563": {
          "model_module": "@jupyter-widgets/controls",
          "model_name": "DescriptionStyleModel",
          "model_module_version": "1.5.0",
          "state": {
            "_model_module": "@jupyter-widgets/controls",
            "_model_module_version": "1.5.0",
            "_model_name": "DescriptionStyleModel",
            "_view_count": null,
            "_view_module": "@jupyter-widgets/base",
            "_view_module_version": "1.2.0",
            "_view_name": "StyleView",
            "description_width": ""
          }
        },
        "4c056670a3034b5f98ba4374751f8df5": {
          "model_module": "@jupyter-widgets/controls",
          "model_name": "HBoxModel",
          "model_module_version": "1.5.0",
          "state": {
            "_dom_classes": [],
            "_model_module": "@jupyter-widgets/controls",
            "_model_module_version": "1.5.0",
            "_model_name": "HBoxModel",
            "_view_count": null,
            "_view_module": "@jupyter-widgets/controls",
            "_view_module_version": "1.5.0",
            "_view_name": "HBoxView",
            "box_style": "",
            "children": [
              "IPY_MODEL_287078f1af2247f1bdfb229ce4747310",
              "IPY_MODEL_b0b0b65dfbe14ea081572c04b423591d",
              "IPY_MODEL_09e6620e2dfe4d719e3d297505f980a4"
            ],
            "layout": "IPY_MODEL_761b653c1b9d4dd8abe146931aa317b2"
          }
        },
        "287078f1af2247f1bdfb229ce4747310": {
          "model_module": "@jupyter-widgets/controls",
          "model_name": "HTMLModel",
          "model_module_version": "1.5.0",
          "state": {
            "_dom_classes": [],
            "_model_module": "@jupyter-widgets/controls",
            "_model_module_version": "1.5.0",
            "_model_name": "HTMLModel",
            "_view_count": null,
            "_view_module": "@jupyter-widgets/controls",
            "_view_module_version": "1.5.0",
            "_view_name": "HTMLView",
            "description": "",
            "description_tooltip": null,
            "layout": "IPY_MODEL_3ac21e15887e43bd95a127b3760fca20",
            "placeholder": "​",
            "style": "IPY_MODEL_586dd11148264f7d8aa51aa4c7bf5eea",
            "value": "Downloading (…)okenizer_config.json: 100%"
          }
        },
        "b0b0b65dfbe14ea081572c04b423591d": {
          "model_module": "@jupyter-widgets/controls",
          "model_name": "FloatProgressModel",
          "model_module_version": "1.5.0",
          "state": {
            "_dom_classes": [],
            "_model_module": "@jupyter-widgets/controls",
            "_model_module_version": "1.5.0",
            "_model_name": "FloatProgressModel",
            "_view_count": null,
            "_view_module": "@jupyter-widgets/controls",
            "_view_module_version": "1.5.0",
            "_view_name": "ProgressView",
            "bar_style": "success",
            "description": "",
            "description_tooltip": null,
            "layout": "IPY_MODEL_40709bbda1a541ca8d70a6d2716b1fe4",
            "max": 29,
            "min": 0,
            "orientation": "horizontal",
            "style": "IPY_MODEL_2a213eed01464436aeda943392c1ad4a",
            "value": 29
          }
        },
        "09e6620e2dfe4d719e3d297505f980a4": {
          "model_module": "@jupyter-widgets/controls",
          "model_name": "HTMLModel",
          "model_module_version": "1.5.0",
          "state": {
            "_dom_classes": [],
            "_model_module": "@jupyter-widgets/controls",
            "_model_module_version": "1.5.0",
            "_model_name": "HTMLModel",
            "_view_count": null,
            "_view_module": "@jupyter-widgets/controls",
            "_view_module_version": "1.5.0",
            "_view_name": "HTMLView",
            "description": "",
            "description_tooltip": null,
            "layout": "IPY_MODEL_e87db2973e464be487c36b248b3651ad",
            "placeholder": "​",
            "style": "IPY_MODEL_890e8c3a3ad6401a91549beb679e35a1",
            "value": " 29.0/29.0 [00:00&lt;00:00, 1.10kB/s]"
          }
        },
        "761b653c1b9d4dd8abe146931aa317b2": {
          "model_module": "@jupyter-widgets/base",
          "model_name": "LayoutModel",
          "model_module_version": "1.2.0",
          "state": {
            "_model_module": "@jupyter-widgets/base",
            "_model_module_version": "1.2.0",
            "_model_name": "LayoutModel",
            "_view_count": null,
            "_view_module": "@jupyter-widgets/base",
            "_view_module_version": "1.2.0",
            "_view_name": "LayoutView",
            "align_content": null,
            "align_items": null,
            "align_self": null,
            "border": null,
            "bottom": null,
            "display": null,
            "flex": null,
            "flex_flow": null,
            "grid_area": null,
            "grid_auto_columns": null,
            "grid_auto_flow": null,
            "grid_auto_rows": null,
            "grid_column": null,
            "grid_gap": null,
            "grid_row": null,
            "grid_template_areas": null,
            "grid_template_columns": null,
            "grid_template_rows": null,
            "height": null,
            "justify_content": null,
            "justify_items": null,
            "left": null,
            "margin": null,
            "max_height": null,
            "max_width": null,
            "min_height": null,
            "min_width": null,
            "object_fit": null,
            "object_position": null,
            "order": null,
            "overflow": null,
            "overflow_x": null,
            "overflow_y": null,
            "padding": null,
            "right": null,
            "top": null,
            "visibility": null,
            "width": null
          }
        },
        "3ac21e15887e43bd95a127b3760fca20": {
          "model_module": "@jupyter-widgets/base",
          "model_name": "LayoutModel",
          "model_module_version": "1.2.0",
          "state": {
            "_model_module": "@jupyter-widgets/base",
            "_model_module_version": "1.2.0",
            "_model_name": "LayoutModel",
            "_view_count": null,
            "_view_module": "@jupyter-widgets/base",
            "_view_module_version": "1.2.0",
            "_view_name": "LayoutView",
            "align_content": null,
            "align_items": null,
            "align_self": null,
            "border": null,
            "bottom": null,
            "display": null,
            "flex": null,
            "flex_flow": null,
            "grid_area": null,
            "grid_auto_columns": null,
            "grid_auto_flow": null,
            "grid_auto_rows": null,
            "grid_column": null,
            "grid_gap": null,
            "grid_row": null,
            "grid_template_areas": null,
            "grid_template_columns": null,
            "grid_template_rows": null,
            "height": null,
            "justify_content": null,
            "justify_items": null,
            "left": null,
            "margin": null,
            "max_height": null,
            "max_width": null,
            "min_height": null,
            "min_width": null,
            "object_fit": null,
            "object_position": null,
            "order": null,
            "overflow": null,
            "overflow_x": null,
            "overflow_y": null,
            "padding": null,
            "right": null,
            "top": null,
            "visibility": null,
            "width": null
          }
        },
        "586dd11148264f7d8aa51aa4c7bf5eea": {
          "model_module": "@jupyter-widgets/controls",
          "model_name": "DescriptionStyleModel",
          "model_module_version": "1.5.0",
          "state": {
            "_model_module": "@jupyter-widgets/controls",
            "_model_module_version": "1.5.0",
            "_model_name": "DescriptionStyleModel",
            "_view_count": null,
            "_view_module": "@jupyter-widgets/base",
            "_view_module_version": "1.2.0",
            "_view_name": "StyleView",
            "description_width": ""
          }
        },
        "40709bbda1a541ca8d70a6d2716b1fe4": {
          "model_module": "@jupyter-widgets/base",
          "model_name": "LayoutModel",
          "model_module_version": "1.2.0",
          "state": {
            "_model_module": "@jupyter-widgets/base",
            "_model_module_version": "1.2.0",
            "_model_name": "LayoutModel",
            "_view_count": null,
            "_view_module": "@jupyter-widgets/base",
            "_view_module_version": "1.2.0",
            "_view_name": "LayoutView",
            "align_content": null,
            "align_items": null,
            "align_self": null,
            "border": null,
            "bottom": null,
            "display": null,
            "flex": null,
            "flex_flow": null,
            "grid_area": null,
            "grid_auto_columns": null,
            "grid_auto_flow": null,
            "grid_auto_rows": null,
            "grid_column": null,
            "grid_gap": null,
            "grid_row": null,
            "grid_template_areas": null,
            "grid_template_columns": null,
            "grid_template_rows": null,
            "height": null,
            "justify_content": null,
            "justify_items": null,
            "left": null,
            "margin": null,
            "max_height": null,
            "max_width": null,
            "min_height": null,
            "min_width": null,
            "object_fit": null,
            "object_position": null,
            "order": null,
            "overflow": null,
            "overflow_x": null,
            "overflow_y": null,
            "padding": null,
            "right": null,
            "top": null,
            "visibility": null,
            "width": null
          }
        },
        "2a213eed01464436aeda943392c1ad4a": {
          "model_module": "@jupyter-widgets/controls",
          "model_name": "ProgressStyleModel",
          "model_module_version": "1.5.0",
          "state": {
            "_model_module": "@jupyter-widgets/controls",
            "_model_module_version": "1.5.0",
            "_model_name": "ProgressStyleModel",
            "_view_count": null,
            "_view_module": "@jupyter-widgets/base",
            "_view_module_version": "1.2.0",
            "_view_name": "StyleView",
            "bar_color": null,
            "description_width": ""
          }
        },
        "e87db2973e464be487c36b248b3651ad": {
          "model_module": "@jupyter-widgets/base",
          "model_name": "LayoutModel",
          "model_module_version": "1.2.0",
          "state": {
            "_model_module": "@jupyter-widgets/base",
            "_model_module_version": "1.2.0",
            "_model_name": "LayoutModel",
            "_view_count": null,
            "_view_module": "@jupyter-widgets/base",
            "_view_module_version": "1.2.0",
            "_view_name": "LayoutView",
            "align_content": null,
            "align_items": null,
            "align_self": null,
            "border": null,
            "bottom": null,
            "display": null,
            "flex": null,
            "flex_flow": null,
            "grid_area": null,
            "grid_auto_columns": null,
            "grid_auto_flow": null,
            "grid_auto_rows": null,
            "grid_column": null,
            "grid_gap": null,
            "grid_row": null,
            "grid_template_areas": null,
            "grid_template_columns": null,
            "grid_template_rows": null,
            "height": null,
            "justify_content": null,
            "justify_items": null,
            "left": null,
            "margin": null,
            "max_height": null,
            "max_width": null,
            "min_height": null,
            "min_width": null,
            "object_fit": null,
            "object_position": null,
            "order": null,
            "overflow": null,
            "overflow_x": null,
            "overflow_y": null,
            "padding": null,
            "right": null,
            "top": null,
            "visibility": null,
            "width": null
          }
        },
        "890e8c3a3ad6401a91549beb679e35a1": {
          "model_module": "@jupyter-widgets/controls",
          "model_name": "DescriptionStyleModel",
          "model_module_version": "1.5.0",
          "state": {
            "_model_module": "@jupyter-widgets/controls",
            "_model_module_version": "1.5.0",
            "_model_name": "DescriptionStyleModel",
            "_view_count": null,
            "_view_module": "@jupyter-widgets/base",
            "_view_module_version": "1.2.0",
            "_view_name": "StyleView",
            "description_width": ""
          }
        },
        "3559d42a0be648239317c584624ece51": {
          "model_module": "@jupyter-widgets/controls",
          "model_name": "HBoxModel",
          "model_module_version": "1.5.0",
          "state": {
            "_dom_classes": [],
            "_model_module": "@jupyter-widgets/controls",
            "_model_module_version": "1.5.0",
            "_model_name": "HBoxModel",
            "_view_count": null,
            "_view_module": "@jupyter-widgets/controls",
            "_view_module_version": "1.5.0",
            "_view_name": "HBoxView",
            "box_style": "",
            "children": [
              "IPY_MODEL_ca5f68693b614eb985e731789f95c4e9",
              "IPY_MODEL_c61130110d7c41af934ded983f1a9661",
              "IPY_MODEL_b67d0da642e3463c9e1fcb4b4748320a"
            ],
            "layout": "IPY_MODEL_2dfc666101f44a20939b55fbd3e4a516"
          }
        },
        "ca5f68693b614eb985e731789f95c4e9": {
          "model_module": "@jupyter-widgets/controls",
          "model_name": "HTMLModel",
          "model_module_version": "1.5.0",
          "state": {
            "_dom_classes": [],
            "_model_module": "@jupyter-widgets/controls",
            "_model_module_version": "1.5.0",
            "_model_name": "HTMLModel",
            "_view_count": null,
            "_view_module": "@jupyter-widgets/controls",
            "_view_module_version": "1.5.0",
            "_view_name": "HTMLView",
            "description": "",
            "description_tooltip": null,
            "layout": "IPY_MODEL_5c8bad6a741d4fa1b88fa6f6e2d7b496",
            "placeholder": "​",
            "style": "IPY_MODEL_3624779fdc7441219797fa1cd642800b",
            "value": "Downloading (…)lve/main/config.json: 100%"
          }
        },
        "c61130110d7c41af934ded983f1a9661": {
          "model_module": "@jupyter-widgets/controls",
          "model_name": "FloatProgressModel",
          "model_module_version": "1.5.0",
          "state": {
            "_dom_classes": [],
            "_model_module": "@jupyter-widgets/controls",
            "_model_module_version": "1.5.0",
            "_model_name": "FloatProgressModel",
            "_view_count": null,
            "_view_module": "@jupyter-widgets/controls",
            "_view_module_version": "1.5.0",
            "_view_name": "ProgressView",
            "bar_style": "success",
            "description": "",
            "description_tooltip": null,
            "layout": "IPY_MODEL_8684d0cb4fb84919856b6b9b9d9348ba",
            "max": 625,
            "min": 0,
            "orientation": "horizontal",
            "style": "IPY_MODEL_864262ae807d46b690b4e03ced8b1cf5",
            "value": 625
          }
        },
        "b67d0da642e3463c9e1fcb4b4748320a": {
          "model_module": "@jupyter-widgets/controls",
          "model_name": "HTMLModel",
          "model_module_version": "1.5.0",
          "state": {
            "_dom_classes": [],
            "_model_module": "@jupyter-widgets/controls",
            "_model_module_version": "1.5.0",
            "_model_name": "HTMLModel",
            "_view_count": null,
            "_view_module": "@jupyter-widgets/controls",
            "_view_module_version": "1.5.0",
            "_view_name": "HTMLView",
            "description": "",
            "description_tooltip": null,
            "layout": "IPY_MODEL_cd11a80d602c47df8f3f2d780e96c6c4",
            "placeholder": "​",
            "style": "IPY_MODEL_9afc972cbcc04f8e9437f58472b2d518",
            "value": " 625/625 [00:00&lt;00:00, 37.7kB/s]"
          }
        },
        "2dfc666101f44a20939b55fbd3e4a516": {
          "model_module": "@jupyter-widgets/base",
          "model_name": "LayoutModel",
          "model_module_version": "1.2.0",
          "state": {
            "_model_module": "@jupyter-widgets/base",
            "_model_module_version": "1.2.0",
            "_model_name": "LayoutModel",
            "_view_count": null,
            "_view_module": "@jupyter-widgets/base",
            "_view_module_version": "1.2.0",
            "_view_name": "LayoutView",
            "align_content": null,
            "align_items": null,
            "align_self": null,
            "border": null,
            "bottom": null,
            "display": null,
            "flex": null,
            "flex_flow": null,
            "grid_area": null,
            "grid_auto_columns": null,
            "grid_auto_flow": null,
            "grid_auto_rows": null,
            "grid_column": null,
            "grid_gap": null,
            "grid_row": null,
            "grid_template_areas": null,
            "grid_template_columns": null,
            "grid_template_rows": null,
            "height": null,
            "justify_content": null,
            "justify_items": null,
            "left": null,
            "margin": null,
            "max_height": null,
            "max_width": null,
            "min_height": null,
            "min_width": null,
            "object_fit": null,
            "object_position": null,
            "order": null,
            "overflow": null,
            "overflow_x": null,
            "overflow_y": null,
            "padding": null,
            "right": null,
            "top": null,
            "visibility": null,
            "width": null
          }
        },
        "5c8bad6a741d4fa1b88fa6f6e2d7b496": {
          "model_module": "@jupyter-widgets/base",
          "model_name": "LayoutModel",
          "model_module_version": "1.2.0",
          "state": {
            "_model_module": "@jupyter-widgets/base",
            "_model_module_version": "1.2.0",
            "_model_name": "LayoutModel",
            "_view_count": null,
            "_view_module": "@jupyter-widgets/base",
            "_view_module_version": "1.2.0",
            "_view_name": "LayoutView",
            "align_content": null,
            "align_items": null,
            "align_self": null,
            "border": null,
            "bottom": null,
            "display": null,
            "flex": null,
            "flex_flow": null,
            "grid_area": null,
            "grid_auto_columns": null,
            "grid_auto_flow": null,
            "grid_auto_rows": null,
            "grid_column": null,
            "grid_gap": null,
            "grid_row": null,
            "grid_template_areas": null,
            "grid_template_columns": null,
            "grid_template_rows": null,
            "height": null,
            "justify_content": null,
            "justify_items": null,
            "left": null,
            "margin": null,
            "max_height": null,
            "max_width": null,
            "min_height": null,
            "min_width": null,
            "object_fit": null,
            "object_position": null,
            "order": null,
            "overflow": null,
            "overflow_x": null,
            "overflow_y": null,
            "padding": null,
            "right": null,
            "top": null,
            "visibility": null,
            "width": null
          }
        },
        "3624779fdc7441219797fa1cd642800b": {
          "model_module": "@jupyter-widgets/controls",
          "model_name": "DescriptionStyleModel",
          "model_module_version": "1.5.0",
          "state": {
            "_model_module": "@jupyter-widgets/controls",
            "_model_module_version": "1.5.0",
            "_model_name": "DescriptionStyleModel",
            "_view_count": null,
            "_view_module": "@jupyter-widgets/base",
            "_view_module_version": "1.2.0",
            "_view_name": "StyleView",
            "description_width": ""
          }
        },
        "8684d0cb4fb84919856b6b9b9d9348ba": {
          "model_module": "@jupyter-widgets/base",
          "model_name": "LayoutModel",
          "model_module_version": "1.2.0",
          "state": {
            "_model_module": "@jupyter-widgets/base",
            "_model_module_version": "1.2.0",
            "_model_name": "LayoutModel",
            "_view_count": null,
            "_view_module": "@jupyter-widgets/base",
            "_view_module_version": "1.2.0",
            "_view_name": "LayoutView",
            "align_content": null,
            "align_items": null,
            "align_self": null,
            "border": null,
            "bottom": null,
            "display": null,
            "flex": null,
            "flex_flow": null,
            "grid_area": null,
            "grid_auto_columns": null,
            "grid_auto_flow": null,
            "grid_auto_rows": null,
            "grid_column": null,
            "grid_gap": null,
            "grid_row": null,
            "grid_template_areas": null,
            "grid_template_columns": null,
            "grid_template_rows": null,
            "height": null,
            "justify_content": null,
            "justify_items": null,
            "left": null,
            "margin": null,
            "max_height": null,
            "max_width": null,
            "min_height": null,
            "min_width": null,
            "object_fit": null,
            "object_position": null,
            "order": null,
            "overflow": null,
            "overflow_x": null,
            "overflow_y": null,
            "padding": null,
            "right": null,
            "top": null,
            "visibility": null,
            "width": null
          }
        },
        "864262ae807d46b690b4e03ced8b1cf5": {
          "model_module": "@jupyter-widgets/controls",
          "model_name": "ProgressStyleModel",
          "model_module_version": "1.5.0",
          "state": {
            "_model_module": "@jupyter-widgets/controls",
            "_model_module_version": "1.5.0",
            "_model_name": "ProgressStyleModel",
            "_view_count": null,
            "_view_module": "@jupyter-widgets/base",
            "_view_module_version": "1.2.0",
            "_view_name": "StyleView",
            "bar_color": null,
            "description_width": ""
          }
        },
        "cd11a80d602c47df8f3f2d780e96c6c4": {
          "model_module": "@jupyter-widgets/base",
          "model_name": "LayoutModel",
          "model_module_version": "1.2.0",
          "state": {
            "_model_module": "@jupyter-widgets/base",
            "_model_module_version": "1.2.0",
            "_model_name": "LayoutModel",
            "_view_count": null,
            "_view_module": "@jupyter-widgets/base",
            "_view_module_version": "1.2.0",
            "_view_name": "LayoutView",
            "align_content": null,
            "align_items": null,
            "align_self": null,
            "border": null,
            "bottom": null,
            "display": null,
            "flex": null,
            "flex_flow": null,
            "grid_area": null,
            "grid_auto_columns": null,
            "grid_auto_flow": null,
            "grid_auto_rows": null,
            "grid_column": null,
            "grid_gap": null,
            "grid_row": null,
            "grid_template_areas": null,
            "grid_template_columns": null,
            "grid_template_rows": null,
            "height": null,
            "justify_content": null,
            "justify_items": null,
            "left": null,
            "margin": null,
            "max_height": null,
            "max_width": null,
            "min_height": null,
            "min_width": null,
            "object_fit": null,
            "object_position": null,
            "order": null,
            "overflow": null,
            "overflow_x": null,
            "overflow_y": null,
            "padding": null,
            "right": null,
            "top": null,
            "visibility": null,
            "width": null
          }
        },
        "9afc972cbcc04f8e9437f58472b2d518": {
          "model_module": "@jupyter-widgets/controls",
          "model_name": "DescriptionStyleModel",
          "model_module_version": "1.5.0",
          "state": {
            "_model_module": "@jupyter-widgets/controls",
            "_model_module_version": "1.5.0",
            "_model_name": "DescriptionStyleModel",
            "_view_count": null,
            "_view_module": "@jupyter-widgets/base",
            "_view_module_version": "1.2.0",
            "_view_name": "StyleView",
            "description_width": ""
          }
        },
        "8fbcadd70b5c415e8108582b2388a38e": {
          "model_module": "@jupyter-widgets/controls",
          "model_name": "HBoxModel",
          "model_module_version": "1.5.0",
          "state": {
            "_dom_classes": [],
            "_model_module": "@jupyter-widgets/controls",
            "_model_module_version": "1.5.0",
            "_model_name": "HBoxModel",
            "_view_count": null,
            "_view_module": "@jupyter-widgets/controls",
            "_view_module_version": "1.5.0",
            "_view_name": "HBoxView",
            "box_style": "",
            "children": [
              "IPY_MODEL_8ae5c093219f41799e35fa5a33ea8069",
              "IPY_MODEL_94956224bdcc432a8bcdb6d08bc5cc48",
              "IPY_MODEL_e4d9dede79f94b3dae322e84ff5dd4be"
            ],
            "layout": "IPY_MODEL_285768699fe3434d9151b1a9c6365a28"
          }
        },
        "8ae5c093219f41799e35fa5a33ea8069": {
          "model_module": "@jupyter-widgets/controls",
          "model_name": "HTMLModel",
          "model_module_version": "1.5.0",
          "state": {
            "_dom_classes": [],
            "_model_module": "@jupyter-widgets/controls",
            "_model_module_version": "1.5.0",
            "_model_name": "HTMLModel",
            "_view_count": null,
            "_view_module": "@jupyter-widgets/controls",
            "_view_module_version": "1.5.0",
            "_view_name": "HTMLView",
            "description": "",
            "description_tooltip": null,
            "layout": "IPY_MODEL_606e134558a84d6eb551e5d3c87651e1",
            "placeholder": "​",
            "style": "IPY_MODEL_e573faa1af69495daa6c375f20266ff8",
            "value": "Downloading (…)solve/main/vocab.txt: 100%"
          }
        },
        "94956224bdcc432a8bcdb6d08bc5cc48": {
          "model_module": "@jupyter-widgets/controls",
          "model_name": "FloatProgressModel",
          "model_module_version": "1.5.0",
          "state": {
            "_dom_classes": [],
            "_model_module": "@jupyter-widgets/controls",
            "_model_module_version": "1.5.0",
            "_model_name": "FloatProgressModel",
            "_view_count": null,
            "_view_module": "@jupyter-widgets/controls",
            "_view_module_version": "1.5.0",
            "_view_name": "ProgressView",
            "bar_style": "success",
            "description": "",
            "description_tooltip": null,
            "layout": "IPY_MODEL_30e62d0dd9494a8796d4659abae7d4e2",
            "max": 995526,
            "min": 0,
            "orientation": "horizontal",
            "style": "IPY_MODEL_121ee585683749359eeac3432abae725",
            "value": 995526
          }
        },
        "e4d9dede79f94b3dae322e84ff5dd4be": {
          "model_module": "@jupyter-widgets/controls",
          "model_name": "HTMLModel",
          "model_module_version": "1.5.0",
          "state": {
            "_dom_classes": [],
            "_model_module": "@jupyter-widgets/controls",
            "_model_module_version": "1.5.0",
            "_model_name": "HTMLModel",
            "_view_count": null,
            "_view_module": "@jupyter-widgets/controls",
            "_view_module_version": "1.5.0",
            "_view_name": "HTMLView",
            "description": "",
            "description_tooltip": null,
            "layout": "IPY_MODEL_ac705c6b2721416cb9fd5ce71f4fe0b9",
            "placeholder": "​",
            "style": "IPY_MODEL_fb15c00cdca74fdcbb5dcc7bdb81cdc3",
            "value": " 996k/996k [00:00&lt;00:00, 1.19MB/s]"
          }
        },
        "285768699fe3434d9151b1a9c6365a28": {
          "model_module": "@jupyter-widgets/base",
          "model_name": "LayoutModel",
          "model_module_version": "1.2.0",
          "state": {
            "_model_module": "@jupyter-widgets/base",
            "_model_module_version": "1.2.0",
            "_model_name": "LayoutModel",
            "_view_count": null,
            "_view_module": "@jupyter-widgets/base",
            "_view_module_version": "1.2.0",
            "_view_name": "LayoutView",
            "align_content": null,
            "align_items": null,
            "align_self": null,
            "border": null,
            "bottom": null,
            "display": null,
            "flex": null,
            "flex_flow": null,
            "grid_area": null,
            "grid_auto_columns": null,
            "grid_auto_flow": null,
            "grid_auto_rows": null,
            "grid_column": null,
            "grid_gap": null,
            "grid_row": null,
            "grid_template_areas": null,
            "grid_template_columns": null,
            "grid_template_rows": null,
            "height": null,
            "justify_content": null,
            "justify_items": null,
            "left": null,
            "margin": null,
            "max_height": null,
            "max_width": null,
            "min_height": null,
            "min_width": null,
            "object_fit": null,
            "object_position": null,
            "order": null,
            "overflow": null,
            "overflow_x": null,
            "overflow_y": null,
            "padding": null,
            "right": null,
            "top": null,
            "visibility": null,
            "width": null
          }
        },
        "606e134558a84d6eb551e5d3c87651e1": {
          "model_module": "@jupyter-widgets/base",
          "model_name": "LayoutModel",
          "model_module_version": "1.2.0",
          "state": {
            "_model_module": "@jupyter-widgets/base",
            "_model_module_version": "1.2.0",
            "_model_name": "LayoutModel",
            "_view_count": null,
            "_view_module": "@jupyter-widgets/base",
            "_view_module_version": "1.2.0",
            "_view_name": "LayoutView",
            "align_content": null,
            "align_items": null,
            "align_self": null,
            "border": null,
            "bottom": null,
            "display": null,
            "flex": null,
            "flex_flow": null,
            "grid_area": null,
            "grid_auto_columns": null,
            "grid_auto_flow": null,
            "grid_auto_rows": null,
            "grid_column": null,
            "grid_gap": null,
            "grid_row": null,
            "grid_template_areas": null,
            "grid_template_columns": null,
            "grid_template_rows": null,
            "height": null,
            "justify_content": null,
            "justify_items": null,
            "left": null,
            "margin": null,
            "max_height": null,
            "max_width": null,
            "min_height": null,
            "min_width": null,
            "object_fit": null,
            "object_position": null,
            "order": null,
            "overflow": null,
            "overflow_x": null,
            "overflow_y": null,
            "padding": null,
            "right": null,
            "top": null,
            "visibility": null,
            "width": null
          }
        },
        "e573faa1af69495daa6c375f20266ff8": {
          "model_module": "@jupyter-widgets/controls",
          "model_name": "DescriptionStyleModel",
          "model_module_version": "1.5.0",
          "state": {
            "_model_module": "@jupyter-widgets/controls",
            "_model_module_version": "1.5.0",
            "_model_name": "DescriptionStyleModel",
            "_view_count": null,
            "_view_module": "@jupyter-widgets/base",
            "_view_module_version": "1.2.0",
            "_view_name": "StyleView",
            "description_width": ""
          }
        },
        "30e62d0dd9494a8796d4659abae7d4e2": {
          "model_module": "@jupyter-widgets/base",
          "model_name": "LayoutModel",
          "model_module_version": "1.2.0",
          "state": {
            "_model_module": "@jupyter-widgets/base",
            "_model_module_version": "1.2.0",
            "_model_name": "LayoutModel",
            "_view_count": null,
            "_view_module": "@jupyter-widgets/base",
            "_view_module_version": "1.2.0",
            "_view_name": "LayoutView",
            "align_content": null,
            "align_items": null,
            "align_self": null,
            "border": null,
            "bottom": null,
            "display": null,
            "flex": null,
            "flex_flow": null,
            "grid_area": null,
            "grid_auto_columns": null,
            "grid_auto_flow": null,
            "grid_auto_rows": null,
            "grid_column": null,
            "grid_gap": null,
            "grid_row": null,
            "grid_template_areas": null,
            "grid_template_columns": null,
            "grid_template_rows": null,
            "height": null,
            "justify_content": null,
            "justify_items": null,
            "left": null,
            "margin": null,
            "max_height": null,
            "max_width": null,
            "min_height": null,
            "min_width": null,
            "object_fit": null,
            "object_position": null,
            "order": null,
            "overflow": null,
            "overflow_x": null,
            "overflow_y": null,
            "padding": null,
            "right": null,
            "top": null,
            "visibility": null,
            "width": null
          }
        },
        "121ee585683749359eeac3432abae725": {
          "model_module": "@jupyter-widgets/controls",
          "model_name": "ProgressStyleModel",
          "model_module_version": "1.5.0",
          "state": {
            "_model_module": "@jupyter-widgets/controls",
            "_model_module_version": "1.5.0",
            "_model_name": "ProgressStyleModel",
            "_view_count": null,
            "_view_module": "@jupyter-widgets/base",
            "_view_module_version": "1.2.0",
            "_view_name": "StyleView",
            "bar_color": null,
            "description_width": ""
          }
        },
        "ac705c6b2721416cb9fd5ce71f4fe0b9": {
          "model_module": "@jupyter-widgets/base",
          "model_name": "LayoutModel",
          "model_module_version": "1.2.0",
          "state": {
            "_model_module": "@jupyter-widgets/base",
            "_model_module_version": "1.2.0",
            "_model_name": "LayoutModel",
            "_view_count": null,
            "_view_module": "@jupyter-widgets/base",
            "_view_module_version": "1.2.0",
            "_view_name": "LayoutView",
            "align_content": null,
            "align_items": null,
            "align_self": null,
            "border": null,
            "bottom": null,
            "display": null,
            "flex": null,
            "flex_flow": null,
            "grid_area": null,
            "grid_auto_columns": null,
            "grid_auto_flow": null,
            "grid_auto_rows": null,
            "grid_column": null,
            "grid_gap": null,
            "grid_row": null,
            "grid_template_areas": null,
            "grid_template_columns": null,
            "grid_template_rows": null,
            "height": null,
            "justify_content": null,
            "justify_items": null,
            "left": null,
            "margin": null,
            "max_height": null,
            "max_width": null,
            "min_height": null,
            "min_width": null,
            "object_fit": null,
            "object_position": null,
            "order": null,
            "overflow": null,
            "overflow_x": null,
            "overflow_y": null,
            "padding": null,
            "right": null,
            "top": null,
            "visibility": null,
            "width": null
          }
        },
        "fb15c00cdca74fdcbb5dcc7bdb81cdc3": {
          "model_module": "@jupyter-widgets/controls",
          "model_name": "DescriptionStyleModel",
          "model_module_version": "1.5.0",
          "state": {
            "_model_module": "@jupyter-widgets/controls",
            "_model_module_version": "1.5.0",
            "_model_name": "DescriptionStyleModel",
            "_view_count": null,
            "_view_module": "@jupyter-widgets/base",
            "_view_module_version": "1.2.0",
            "_view_name": "StyleView",
            "description_width": ""
          }
        },
        "4d6e54ad9a7b4a2891e131323c588269": {
          "model_module": "@jupyter-widgets/controls",
          "model_name": "HBoxModel",
          "model_module_version": "1.5.0",
          "state": {
            "_dom_classes": [],
            "_model_module": "@jupyter-widgets/controls",
            "_model_module_version": "1.5.0",
            "_model_name": "HBoxModel",
            "_view_count": null,
            "_view_module": "@jupyter-widgets/controls",
            "_view_module_version": "1.5.0",
            "_view_name": "HBoxView",
            "box_style": "",
            "children": [
              "IPY_MODEL_4f97078f596749a2b8ff69a1cc287efb",
              "IPY_MODEL_b4907cc375034f509f9dc39a24ac40ae",
              "IPY_MODEL_f8426a9fc6ef4e63bcd50c15c26bf3b1"
            ],
            "layout": "IPY_MODEL_7a6d7ef8539b4717b0cdb88b42c77886"
          }
        },
        "4f97078f596749a2b8ff69a1cc287efb": {
          "model_module": "@jupyter-widgets/controls",
          "model_name": "HTMLModel",
          "model_module_version": "1.5.0",
          "state": {
            "_dom_classes": [],
            "_model_module": "@jupyter-widgets/controls",
            "_model_module_version": "1.5.0",
            "_model_name": "HTMLModel",
            "_view_count": null,
            "_view_module": "@jupyter-widgets/controls",
            "_view_module_version": "1.5.0",
            "_view_name": "HTMLView",
            "description": "",
            "description_tooltip": null,
            "layout": "IPY_MODEL_e629ba2a7f074981a4e86f4a28ee43e7",
            "placeholder": "​",
            "style": "IPY_MODEL_34e20ae2436e4e78835480b3dec97611",
            "value": "Downloading (…)/main/tokenizer.json: 100%"
          }
        },
        "b4907cc375034f509f9dc39a24ac40ae": {
          "model_module": "@jupyter-widgets/controls",
          "model_name": "FloatProgressModel",
          "model_module_version": "1.5.0",
          "state": {
            "_dom_classes": [],
            "_model_module": "@jupyter-widgets/controls",
            "_model_module_version": "1.5.0",
            "_model_name": "FloatProgressModel",
            "_view_count": null,
            "_view_module": "@jupyter-widgets/controls",
            "_view_module_version": "1.5.0",
            "_view_name": "ProgressView",
            "bar_style": "success",
            "description": "",
            "description_tooltip": null,
            "layout": "IPY_MODEL_0a6aa701b5b84b3abe54b52bd8c43de5",
            "max": 1961828,
            "min": 0,
            "orientation": "horizontal",
            "style": "IPY_MODEL_a8b0a5eaea004d498a3e64b1283f82dc",
            "value": 1961828
          }
        },
        "f8426a9fc6ef4e63bcd50c15c26bf3b1": {
          "model_module": "@jupyter-widgets/controls",
          "model_name": "HTMLModel",
          "model_module_version": "1.5.0",
          "state": {
            "_dom_classes": [],
            "_model_module": "@jupyter-widgets/controls",
            "_model_module_version": "1.5.0",
            "_model_name": "HTMLModel",
            "_view_count": null,
            "_view_module": "@jupyter-widgets/controls",
            "_view_module_version": "1.5.0",
            "_view_name": "HTMLView",
            "description": "",
            "description_tooltip": null,
            "layout": "IPY_MODEL_7c71dca4e1334fe594b95527ab7f1200",
            "placeholder": "​",
            "style": "IPY_MODEL_609f112931e845d4bc34352be4c12ba4",
            "value": " 1.96M/1.96M [00:01&lt;00:00, 1.87MB/s]"
          }
        },
        "7a6d7ef8539b4717b0cdb88b42c77886": {
          "model_module": "@jupyter-widgets/base",
          "model_name": "LayoutModel",
          "model_module_version": "1.2.0",
          "state": {
            "_model_module": "@jupyter-widgets/base",
            "_model_module_version": "1.2.0",
            "_model_name": "LayoutModel",
            "_view_count": null,
            "_view_module": "@jupyter-widgets/base",
            "_view_module_version": "1.2.0",
            "_view_name": "LayoutView",
            "align_content": null,
            "align_items": null,
            "align_self": null,
            "border": null,
            "bottom": null,
            "display": null,
            "flex": null,
            "flex_flow": null,
            "grid_area": null,
            "grid_auto_columns": null,
            "grid_auto_flow": null,
            "grid_auto_rows": null,
            "grid_column": null,
            "grid_gap": null,
            "grid_row": null,
            "grid_template_areas": null,
            "grid_template_columns": null,
            "grid_template_rows": null,
            "height": null,
            "justify_content": null,
            "justify_items": null,
            "left": null,
            "margin": null,
            "max_height": null,
            "max_width": null,
            "min_height": null,
            "min_width": null,
            "object_fit": null,
            "object_position": null,
            "order": null,
            "overflow": null,
            "overflow_x": null,
            "overflow_y": null,
            "padding": null,
            "right": null,
            "top": null,
            "visibility": null,
            "width": null
          }
        },
        "e629ba2a7f074981a4e86f4a28ee43e7": {
          "model_module": "@jupyter-widgets/base",
          "model_name": "LayoutModel",
          "model_module_version": "1.2.0",
          "state": {
            "_model_module": "@jupyter-widgets/base",
            "_model_module_version": "1.2.0",
            "_model_name": "LayoutModel",
            "_view_count": null,
            "_view_module": "@jupyter-widgets/base",
            "_view_module_version": "1.2.0",
            "_view_name": "LayoutView",
            "align_content": null,
            "align_items": null,
            "align_self": null,
            "border": null,
            "bottom": null,
            "display": null,
            "flex": null,
            "flex_flow": null,
            "grid_area": null,
            "grid_auto_columns": null,
            "grid_auto_flow": null,
            "grid_auto_rows": null,
            "grid_column": null,
            "grid_gap": null,
            "grid_row": null,
            "grid_template_areas": null,
            "grid_template_columns": null,
            "grid_template_rows": null,
            "height": null,
            "justify_content": null,
            "justify_items": null,
            "left": null,
            "margin": null,
            "max_height": null,
            "max_width": null,
            "min_height": null,
            "min_width": null,
            "object_fit": null,
            "object_position": null,
            "order": null,
            "overflow": null,
            "overflow_x": null,
            "overflow_y": null,
            "padding": null,
            "right": null,
            "top": null,
            "visibility": null,
            "width": null
          }
        },
        "34e20ae2436e4e78835480b3dec97611": {
          "model_module": "@jupyter-widgets/controls",
          "model_name": "DescriptionStyleModel",
          "model_module_version": "1.5.0",
          "state": {
            "_model_module": "@jupyter-widgets/controls",
            "_model_module_version": "1.5.0",
            "_model_name": "DescriptionStyleModel",
            "_view_count": null,
            "_view_module": "@jupyter-widgets/base",
            "_view_module_version": "1.2.0",
            "_view_name": "StyleView",
            "description_width": ""
          }
        },
        "0a6aa701b5b84b3abe54b52bd8c43de5": {
          "model_module": "@jupyter-widgets/base",
          "model_name": "LayoutModel",
          "model_module_version": "1.2.0",
          "state": {
            "_model_module": "@jupyter-widgets/base",
            "_model_module_version": "1.2.0",
            "_model_name": "LayoutModel",
            "_view_count": null,
            "_view_module": "@jupyter-widgets/base",
            "_view_module_version": "1.2.0",
            "_view_name": "LayoutView",
            "align_content": null,
            "align_items": null,
            "align_self": null,
            "border": null,
            "bottom": null,
            "display": null,
            "flex": null,
            "flex_flow": null,
            "grid_area": null,
            "grid_auto_columns": null,
            "grid_auto_flow": null,
            "grid_auto_rows": null,
            "grid_column": null,
            "grid_gap": null,
            "grid_row": null,
            "grid_template_areas": null,
            "grid_template_columns": null,
            "grid_template_rows": null,
            "height": null,
            "justify_content": null,
            "justify_items": null,
            "left": null,
            "margin": null,
            "max_height": null,
            "max_width": null,
            "min_height": null,
            "min_width": null,
            "object_fit": null,
            "object_position": null,
            "order": null,
            "overflow": null,
            "overflow_x": null,
            "overflow_y": null,
            "padding": null,
            "right": null,
            "top": null,
            "visibility": null,
            "width": null
          }
        },
        "a8b0a5eaea004d498a3e64b1283f82dc": {
          "model_module": "@jupyter-widgets/controls",
          "model_name": "ProgressStyleModel",
          "model_module_version": "1.5.0",
          "state": {
            "_model_module": "@jupyter-widgets/controls",
            "_model_module_version": "1.5.0",
            "_model_name": "ProgressStyleModel",
            "_view_count": null,
            "_view_module": "@jupyter-widgets/base",
            "_view_module_version": "1.2.0",
            "_view_name": "StyleView",
            "bar_color": null,
            "description_width": ""
          }
        },
        "7c71dca4e1334fe594b95527ab7f1200": {
          "model_module": "@jupyter-widgets/base",
          "model_name": "LayoutModel",
          "model_module_version": "1.2.0",
          "state": {
            "_model_module": "@jupyter-widgets/base",
            "_model_module_version": "1.2.0",
            "_model_name": "LayoutModel",
            "_view_count": null,
            "_view_module": "@jupyter-widgets/base",
            "_view_module_version": "1.2.0",
            "_view_name": "LayoutView",
            "align_content": null,
            "align_items": null,
            "align_self": null,
            "border": null,
            "bottom": null,
            "display": null,
            "flex": null,
            "flex_flow": null,
            "grid_area": null,
            "grid_auto_columns": null,
            "grid_auto_flow": null,
            "grid_auto_rows": null,
            "grid_column": null,
            "grid_gap": null,
            "grid_row": null,
            "grid_template_areas": null,
            "grid_template_columns": null,
            "grid_template_rows": null,
            "height": null,
            "justify_content": null,
            "justify_items": null,
            "left": null,
            "margin": null,
            "max_height": null,
            "max_width": null,
            "min_height": null,
            "min_width": null,
            "object_fit": null,
            "object_position": null,
            "order": null,
            "overflow": null,
            "overflow_x": null,
            "overflow_y": null,
            "padding": null,
            "right": null,
            "top": null,
            "visibility": null,
            "width": null
          }
        },
        "609f112931e845d4bc34352be4c12ba4": {
          "model_module": "@jupyter-widgets/controls",
          "model_name": "DescriptionStyleModel",
          "model_module_version": "1.5.0",
          "state": {
            "_model_module": "@jupyter-widgets/controls",
            "_model_module_version": "1.5.0",
            "_model_name": "DescriptionStyleModel",
            "_view_count": null,
            "_view_module": "@jupyter-widgets/base",
            "_view_module_version": "1.2.0",
            "_view_name": "StyleView",
            "description_width": ""
          }
        },
        "641f26f8c94b42a68808c981392bcbe4": {
          "model_module": "@jupyter-widgets/controls",
          "model_name": "HBoxModel",
          "model_module_version": "1.5.0",
          "state": {
            "_dom_classes": [],
            "_model_module": "@jupyter-widgets/controls",
            "_model_module_version": "1.5.0",
            "_model_name": "HBoxModel",
            "_view_count": null,
            "_view_module": "@jupyter-widgets/controls",
            "_view_module_version": "1.5.0",
            "_view_name": "HBoxView",
            "box_style": "",
            "children": [
              "IPY_MODEL_5198669380b8448ca260201f9fa86328",
              "IPY_MODEL_9d596c9660544c7b8ef42eb55664ea48",
              "IPY_MODEL_1644bbf4da3044188e90c9bbc2b47d3c"
            ],
            "layout": "IPY_MODEL_f0a5bc609f0f4ae4aa038abcf3738732"
          }
        },
        "5198669380b8448ca260201f9fa86328": {
          "model_module": "@jupyter-widgets/controls",
          "model_name": "HTMLModel",
          "model_module_version": "1.5.0",
          "state": {
            "_dom_classes": [],
            "_model_module": "@jupyter-widgets/controls",
            "_model_module_version": "1.5.0",
            "_model_name": "HTMLModel",
            "_view_count": null,
            "_view_module": "@jupyter-widgets/controls",
            "_view_module_version": "1.5.0",
            "_view_name": "HTMLView",
            "description": "",
            "description_tooltip": null,
            "layout": "IPY_MODEL_99652f9c3e7f4b23b045f378fc0a4cb1",
            "placeholder": "​",
            "style": "IPY_MODEL_af97714ad43a402dbce303dfe922bc52",
            "value": "Downloading tf_model.h5: 100%"
          }
        },
        "9d596c9660544c7b8ef42eb55664ea48": {
          "model_module": "@jupyter-widgets/controls",
          "model_name": "FloatProgressModel",
          "model_module_version": "1.5.0",
          "state": {
            "_dom_classes": [],
            "_model_module": "@jupyter-widgets/controls",
            "_model_module_version": "1.5.0",
            "_model_name": "FloatProgressModel",
            "_view_count": null,
            "_view_module": "@jupyter-widgets/controls",
            "_view_module_version": "1.5.0",
            "_view_name": "ProgressView",
            "bar_style": "success",
            "description": "",
            "description_tooltip": null,
            "layout": "IPY_MODEL_97a1dea897e84132852956e40012a91d",
            "max": 1083389348,
            "min": 0,
            "orientation": "horizontal",
            "style": "IPY_MODEL_da11611a83bd4d67b64885f22931c07f",
            "value": 1083389348
          }
        },
        "1644bbf4da3044188e90c9bbc2b47d3c": {
          "model_module": "@jupyter-widgets/controls",
          "model_name": "HTMLModel",
          "model_module_version": "1.5.0",
          "state": {
            "_dom_classes": [],
            "_model_module": "@jupyter-widgets/controls",
            "_model_module_version": "1.5.0",
            "_model_name": "HTMLModel",
            "_view_count": null,
            "_view_module": "@jupyter-widgets/controls",
            "_view_module_version": "1.5.0",
            "_view_name": "HTMLView",
            "description": "",
            "description_tooltip": null,
            "layout": "IPY_MODEL_e442329a53834a499116a598eb9ed6b8",
            "placeholder": "​",
            "style": "IPY_MODEL_76b3da3ac41f4e7fb3356808ed8f757c",
            "value": " 1.08G/1.08G [00:09&lt;00:00, 72.2MB/s]"
          }
        },
        "f0a5bc609f0f4ae4aa038abcf3738732": {
          "model_module": "@jupyter-widgets/base",
          "model_name": "LayoutModel",
          "model_module_version": "1.2.0",
          "state": {
            "_model_module": "@jupyter-widgets/base",
            "_model_module_version": "1.2.0",
            "_model_name": "LayoutModel",
            "_view_count": null,
            "_view_module": "@jupyter-widgets/base",
            "_view_module_version": "1.2.0",
            "_view_name": "LayoutView",
            "align_content": null,
            "align_items": null,
            "align_self": null,
            "border": null,
            "bottom": null,
            "display": null,
            "flex": null,
            "flex_flow": null,
            "grid_area": null,
            "grid_auto_columns": null,
            "grid_auto_flow": null,
            "grid_auto_rows": null,
            "grid_column": null,
            "grid_gap": null,
            "grid_row": null,
            "grid_template_areas": null,
            "grid_template_columns": null,
            "grid_template_rows": null,
            "height": null,
            "justify_content": null,
            "justify_items": null,
            "left": null,
            "margin": null,
            "max_height": null,
            "max_width": null,
            "min_height": null,
            "min_width": null,
            "object_fit": null,
            "object_position": null,
            "order": null,
            "overflow": null,
            "overflow_x": null,
            "overflow_y": null,
            "padding": null,
            "right": null,
            "top": null,
            "visibility": null,
            "width": null
          }
        },
        "99652f9c3e7f4b23b045f378fc0a4cb1": {
          "model_module": "@jupyter-widgets/base",
          "model_name": "LayoutModel",
          "model_module_version": "1.2.0",
          "state": {
            "_model_module": "@jupyter-widgets/base",
            "_model_module_version": "1.2.0",
            "_model_name": "LayoutModel",
            "_view_count": null,
            "_view_module": "@jupyter-widgets/base",
            "_view_module_version": "1.2.0",
            "_view_name": "LayoutView",
            "align_content": null,
            "align_items": null,
            "align_self": null,
            "border": null,
            "bottom": null,
            "display": null,
            "flex": null,
            "flex_flow": null,
            "grid_area": null,
            "grid_auto_columns": null,
            "grid_auto_flow": null,
            "grid_auto_rows": null,
            "grid_column": null,
            "grid_gap": null,
            "grid_row": null,
            "grid_template_areas": null,
            "grid_template_columns": null,
            "grid_template_rows": null,
            "height": null,
            "justify_content": null,
            "justify_items": null,
            "left": null,
            "margin": null,
            "max_height": null,
            "max_width": null,
            "min_height": null,
            "min_width": null,
            "object_fit": null,
            "object_position": null,
            "order": null,
            "overflow": null,
            "overflow_x": null,
            "overflow_y": null,
            "padding": null,
            "right": null,
            "top": null,
            "visibility": null,
            "width": null
          }
        },
        "af97714ad43a402dbce303dfe922bc52": {
          "model_module": "@jupyter-widgets/controls",
          "model_name": "DescriptionStyleModel",
          "model_module_version": "1.5.0",
          "state": {
            "_model_module": "@jupyter-widgets/controls",
            "_model_module_version": "1.5.0",
            "_model_name": "DescriptionStyleModel",
            "_view_count": null,
            "_view_module": "@jupyter-widgets/base",
            "_view_module_version": "1.2.0",
            "_view_name": "StyleView",
            "description_width": ""
          }
        },
        "97a1dea897e84132852956e40012a91d": {
          "model_module": "@jupyter-widgets/base",
          "model_name": "LayoutModel",
          "model_module_version": "1.2.0",
          "state": {
            "_model_module": "@jupyter-widgets/base",
            "_model_module_version": "1.2.0",
            "_model_name": "LayoutModel",
            "_view_count": null,
            "_view_module": "@jupyter-widgets/base",
            "_view_module_version": "1.2.0",
            "_view_name": "LayoutView",
            "align_content": null,
            "align_items": null,
            "align_self": null,
            "border": null,
            "bottom": null,
            "display": null,
            "flex": null,
            "flex_flow": null,
            "grid_area": null,
            "grid_auto_columns": null,
            "grid_auto_flow": null,
            "grid_auto_rows": null,
            "grid_column": null,
            "grid_gap": null,
            "grid_row": null,
            "grid_template_areas": null,
            "grid_template_columns": null,
            "grid_template_rows": null,
            "height": null,
            "justify_content": null,
            "justify_items": null,
            "left": null,
            "margin": null,
            "max_height": null,
            "max_width": null,
            "min_height": null,
            "min_width": null,
            "object_fit": null,
            "object_position": null,
            "order": null,
            "overflow": null,
            "overflow_x": null,
            "overflow_y": null,
            "padding": null,
            "right": null,
            "top": null,
            "visibility": null,
            "width": null
          }
        },
        "da11611a83bd4d67b64885f22931c07f": {
          "model_module": "@jupyter-widgets/controls",
          "model_name": "ProgressStyleModel",
          "model_module_version": "1.5.0",
          "state": {
            "_model_module": "@jupyter-widgets/controls",
            "_model_module_version": "1.5.0",
            "_model_name": "ProgressStyleModel",
            "_view_count": null,
            "_view_module": "@jupyter-widgets/base",
            "_view_module_version": "1.2.0",
            "_view_name": "StyleView",
            "bar_color": null,
            "description_width": ""
          }
        },
        "e442329a53834a499116a598eb9ed6b8": {
          "model_module": "@jupyter-widgets/base",
          "model_name": "LayoutModel",
          "model_module_version": "1.2.0",
          "state": {
            "_model_module": "@jupyter-widgets/base",
            "_model_module_version": "1.2.0",
            "_model_name": "LayoutModel",
            "_view_count": null,
            "_view_module": "@jupyter-widgets/base",
            "_view_module_version": "1.2.0",
            "_view_name": "LayoutView",
            "align_content": null,
            "align_items": null,
            "align_self": null,
            "border": null,
            "bottom": null,
            "display": null,
            "flex": null,
            "flex_flow": null,
            "grid_area": null,
            "grid_auto_columns": null,
            "grid_auto_flow": null,
            "grid_auto_rows": null,
            "grid_column": null,
            "grid_gap": null,
            "grid_row": null,
            "grid_template_areas": null,
            "grid_template_columns": null,
            "grid_template_rows": null,
            "height": null,
            "justify_content": null,
            "justify_items": null,
            "left": null,
            "margin": null,
            "max_height": null,
            "max_width": null,
            "min_height": null,
            "min_width": null,
            "object_fit": null,
            "object_position": null,
            "order": null,
            "overflow": null,
            "overflow_x": null,
            "overflow_y": null,
            "padding": null,
            "right": null,
            "top": null,
            "visibility": null,
            "width": null
          }
        },
        "76b3da3ac41f4e7fb3356808ed8f757c": {
          "model_module": "@jupyter-widgets/controls",
          "model_name": "DescriptionStyleModel",
          "model_module_version": "1.5.0",
          "state": {
            "_model_module": "@jupyter-widgets/controls",
            "_model_module_version": "1.5.0",
            "_model_name": "DescriptionStyleModel",
            "_view_count": null,
            "_view_module": "@jupyter-widgets/base",
            "_view_module_version": "1.2.0",
            "_view_name": "StyleView",
            "description_width": ""
          }
        }
      }
    },
    "colab": {
      "provenance": [],
      "gpuType": "T4"
    },
    "accelerator": "GPU"
  },
  "nbformat": 4,
  "nbformat_minor": 5
}