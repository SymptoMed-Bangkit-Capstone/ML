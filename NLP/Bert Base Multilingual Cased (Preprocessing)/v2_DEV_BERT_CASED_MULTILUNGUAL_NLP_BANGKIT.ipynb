{
  "cells": [
    {
      "cell_type": "markdown",
      "id": "0b40cd66",
      "metadata": {
        "papermill": {
          "duration": 0.004951,
          "end_time": "2023-04-06T04:11:40.705212",
          "exception": false,
          "start_time": "2023-04-06T04:11:40.700261",
          "status": "completed"
        },
        "tags": [],
        "id": "0b40cd66"
      },
      "source": [
        "## Importing Libraries"
      ]
    },
    {
      "cell_type": "code",
      "source": [
        "!python -m pip install transformers\n",
        "!python -m pip install Sastrawi"
      ],
      "metadata": {
        "colab": {
          "base_uri": "https://localhost:8080/"
        },
        "id": "N30rg8w3TotZ",
        "outputId": "b7c8f259-8da2-4da4-9f2a-b3dba2d6e111"
      },
      "id": "N30rg8w3TotZ",
      "execution_count": null,
      "outputs": [
        {
          "output_type": "stream",
          "name": "stdout",
          "text": [
            "Looking in indexes: https://pypi.org/simple, https://us-python.pkg.dev/colab-wheels/public/simple/\n",
            "Collecting transformers\n",
            "  Downloading transformers-4.29.2-py3-none-any.whl (7.1 MB)\n",
            "\u001b[2K     \u001b[90m━━━━━━━━━━━━━━━━━━━━━━━━━━━━━━━━━━━━━━━━\u001b[0m \u001b[32m7.1/7.1 MB\u001b[0m \u001b[31m29.9 MB/s\u001b[0m eta \u001b[36m0:00:00\u001b[0m\n",
            "\u001b[?25hRequirement already satisfied: filelock in /usr/local/lib/python3.10/dist-packages (from transformers) (3.12.0)\n",
            "Collecting huggingface-hub<1.0,>=0.14.1 (from transformers)\n",
            "  Downloading huggingface_hub-0.14.1-py3-none-any.whl (224 kB)\n",
            "\u001b[2K     \u001b[90m━━━━━━━━━━━━━━━━━━━━━━━━━━━━━━━━━━━━━━\u001b[0m \u001b[32m224.5/224.5 kB\u001b[0m \u001b[31m13.3 MB/s\u001b[0m eta \u001b[36m0:00:00\u001b[0m\n",
            "\u001b[?25hRequirement already satisfied: numpy>=1.17 in /usr/local/lib/python3.10/dist-packages (from transformers) (1.22.4)\n",
            "Requirement already satisfied: packaging>=20.0 in /usr/local/lib/python3.10/dist-packages (from transformers) (23.1)\n",
            "Requirement already satisfied: pyyaml>=5.1 in /usr/local/lib/python3.10/dist-packages (from transformers) (6.0)\n",
            "Requirement already satisfied: regex!=2019.12.17 in /usr/local/lib/python3.10/dist-packages (from transformers) (2022.10.31)\n",
            "Requirement already satisfied: requests in /usr/local/lib/python3.10/dist-packages (from transformers) (2.27.1)\n",
            "Collecting tokenizers!=0.11.3,<0.14,>=0.11.1 (from transformers)\n",
            "  Downloading tokenizers-0.13.3-cp310-cp310-manylinux_2_17_x86_64.manylinux2014_x86_64.whl (7.8 MB)\n",
            "\u001b[2K     \u001b[90m━━━━━━━━━━━━━━━━━━━━━━━━━━━━━━━━━━━━━━━━\u001b[0m \u001b[32m7.8/7.8 MB\u001b[0m \u001b[31m60.6 MB/s\u001b[0m eta \u001b[36m0:00:00\u001b[0m\n",
            "\u001b[?25hRequirement already satisfied: tqdm>=4.27 in /usr/local/lib/python3.10/dist-packages (from transformers) (4.65.0)\n",
            "Requirement already satisfied: fsspec in /usr/local/lib/python3.10/dist-packages (from huggingface-hub<1.0,>=0.14.1->transformers) (2023.4.0)\n",
            "Requirement already satisfied: typing-extensions>=3.7.4.3 in /usr/local/lib/python3.10/dist-packages (from huggingface-hub<1.0,>=0.14.1->transformers) (4.5.0)\n",
            "Requirement already satisfied: urllib3<1.27,>=1.21.1 in /usr/local/lib/python3.10/dist-packages (from requests->transformers) (1.26.15)\n",
            "Requirement already satisfied: certifi>=2017.4.17 in /usr/local/lib/python3.10/dist-packages (from requests->transformers) (2022.12.7)\n",
            "Requirement already satisfied: charset-normalizer~=2.0.0 in /usr/local/lib/python3.10/dist-packages (from requests->transformers) (2.0.12)\n",
            "Requirement already satisfied: idna<4,>=2.5 in /usr/local/lib/python3.10/dist-packages (from requests->transformers) (3.4)\n",
            "Installing collected packages: tokenizers, huggingface-hub, transformers\n",
            "Successfully installed huggingface-hub-0.14.1 tokenizers-0.13.3 transformers-4.29.2\n",
            "Looking in indexes: https://pypi.org/simple, https://us-python.pkg.dev/colab-wheels/public/simple/\n",
            "Collecting Sastrawi\n",
            "  Downloading Sastrawi-1.0.1-py2.py3-none-any.whl (209 kB)\n",
            "\u001b[2K     \u001b[90m━━━━━━━━━━━━━━━━━━━━━━━━━━━━━━━━━━━━━━━\u001b[0m \u001b[32m209.7/209.7 kB\u001b[0m \u001b[31m7.9 MB/s\u001b[0m eta \u001b[36m0:00:00\u001b[0m\n",
            "\u001b[?25hInstalling collected packages: Sastrawi\n",
            "Successfully installed Sastrawi-1.0.1\n"
          ]
        }
      ]
    },
    {
      "cell_type": "code",
      "execution_count": null,
      "id": "2a6ff93a",
      "metadata": {
        "_cell_guid": "b1076dfc-b9ad-4769-8c92-a6c4dae69d19",
        "_uuid": "8f2839f25d086af736a60e9eeb907d3b93b6e0e5",
        "execution": {
          "iopub.execute_input": "2023-04-06T04:11:40.717578Z",
          "iopub.status.busy": "2023-04-06T04:11:40.716851Z",
          "iopub.status.idle": "2023-04-06T04:11:47.849363Z",
          "shell.execute_reply": "2023-04-06T04:11:47.848147Z"
        },
        "papermill": {
          "duration": 7.141688,
          "end_time": "2023-04-06T04:11:47.852005",
          "exception": false,
          "start_time": "2023-04-06T04:11:40.710317",
          "status": "completed"
        },
        "tags": [],
        "id": "2a6ff93a",
        "colab": {
          "base_uri": "https://localhost:8080/",
          "height": 35
        },
        "outputId": "bca3144a-901c-4489-db4b-a75097654000"
      },
      "outputs": [
        {
          "output_type": "execute_result",
          "data": {
            "text/plain": [
              "'1.22.4'"
            ],
            "application/vnd.google.colaboratory.intrinsic+json": {
              "type": "string"
            }
          },
          "metadata": {},
          "execution_count": 2
        }
      ],
      "source": [
        "import numpy as np\n",
        "import pandas as pd\n",
        "import matplotlib.pyplot as plt\n",
        "import seaborn as sea\n",
        "import os\n",
        "from tqdm.notebook import tqdm\n",
        "import re\n",
        "import tensorflow as tf\n",
        "from tensorflow import keras\n",
        "from keras.preprocessing.text import Tokenizer\n",
        "\n",
        "plt.style.use('ggplot')\n",
        "np.__version__"
      ]
    },
    {
      "cell_type": "markdown",
      "id": "1393d062",
      "metadata": {
        "papermill": {
          "duration": 0.005783,
          "end_time": "2023-04-06T04:11:57.892880",
          "exception": false,
          "start_time": "2023-04-06T04:11:57.887097",
          "status": "completed"
        },
        "tags": [],
        "id": "1393d062"
      },
      "source": [
        "## Loading the data"
      ]
    },
    {
      "cell_type": "code",
      "source": [
        "!gdown 1EgJ4xUZeNzzCMjRe4Y5c1rTsmhWLD8lL"
      ],
      "metadata": {
        "id": "WheEYVW2TREz",
        "colab": {
          "base_uri": "https://localhost:8080/"
        },
        "outputId": "00d60484-d0e6-4445-b6c8-872f1314370a"
      },
      "id": "WheEYVW2TREz",
      "execution_count": null,
      "outputs": [
        {
          "output_type": "stream",
          "name": "stdout",
          "text": [
            "Downloading...\n",
            "From: https://drive.google.com/uc?id=1EgJ4xUZeNzzCMjRe4Y5c1rTsmhWLD8lL\n",
            "To: /content/Symptom2DiseaseID.csv\n",
            "\r  0% 0.00/240k [00:00<?, ?B/s]\r100% 240k/240k [00:00<00:00, 144MB/s]\n"
          ]
        }
      ]
    },
    {
      "cell_type": "code",
      "execution_count": null,
      "id": "84f0c37f",
      "metadata": {
        "execution": {
          "iopub.execute_input": "2023-04-06T04:11:57.905975Z",
          "iopub.status.busy": "2023-04-06T04:11:57.905655Z",
          "iopub.status.idle": "2023-04-06T04:11:57.943106Z",
          "shell.execute_reply": "2023-04-06T04:11:57.942174Z"
        },
        "papermill": {
          "duration": 0.046641,
          "end_time": "2023-04-06T04:11:57.945218",
          "exception": false,
          "start_time": "2023-04-06T04:11:57.898577",
          "status": "completed"
        },
        "tags": [],
        "id": "84f0c37f",
        "colab": {
          "base_uri": "https://localhost:8080/",
          "height": 206
        },
        "outputId": "7d433256-5d83-4da6-d56f-96e71ee9844c"
      },
      "outputs": [
        {
          "output_type": "execute_result",
          "data": {
            "text/plain": [
              "   indeks       label                                               text\n",
              "0       0   Psoriasis   Saya telah mengalami ruam kulit di lengan, ka...\n",
              "1       1   Psoriasis   Kulit saya mengelupas, terutama di lutut, sik...\n",
              "2       2   Psoriasis   Saya telah mengalami nyeri sendi di jari, per...\n",
              "3       3   Psoriasis   Ada debu seperti perak di kulit saya, terutam...\n",
              "4       4   Psoriasis   Kuku saya memiliki penyok atau lubang kecil d..."
            ],
            "text/html": [
              "\n",
              "  <div id=\"df-ca2312bb-8ba2-45dd-afec-aed886d0a75d\">\n",
              "    <div class=\"colab-df-container\">\n",
              "      <div>\n",
              "<style scoped>\n",
              "    .dataframe tbody tr th:only-of-type {\n",
              "        vertical-align: middle;\n",
              "    }\n",
              "\n",
              "    .dataframe tbody tr th {\n",
              "        vertical-align: top;\n",
              "    }\n",
              "\n",
              "    .dataframe thead th {\n",
              "        text-align: right;\n",
              "    }\n",
              "</style>\n",
              "<table border=\"1\" class=\"dataframe\">\n",
              "  <thead>\n",
              "    <tr style=\"text-align: right;\">\n",
              "      <th></th>\n",
              "      <th>indeks</th>\n",
              "      <th>label</th>\n",
              "      <th>text</th>\n",
              "    </tr>\n",
              "  </thead>\n",
              "  <tbody>\n",
              "    <tr>\n",
              "      <th>0</th>\n",
              "      <td>0</td>\n",
              "      <td>Psoriasis</td>\n",
              "      <td>Saya telah mengalami ruam kulit di lengan, ka...</td>\n",
              "    </tr>\n",
              "    <tr>\n",
              "      <th>1</th>\n",
              "      <td>1</td>\n",
              "      <td>Psoriasis</td>\n",
              "      <td>Kulit saya mengelupas, terutama di lutut, sik...</td>\n",
              "    </tr>\n",
              "    <tr>\n",
              "      <th>2</th>\n",
              "      <td>2</td>\n",
              "      <td>Psoriasis</td>\n",
              "      <td>Saya telah mengalami nyeri sendi di jari, per...</td>\n",
              "    </tr>\n",
              "    <tr>\n",
              "      <th>3</th>\n",
              "      <td>3</td>\n",
              "      <td>Psoriasis</td>\n",
              "      <td>Ada debu seperti perak di kulit saya, terutam...</td>\n",
              "    </tr>\n",
              "    <tr>\n",
              "      <th>4</th>\n",
              "      <td>4</td>\n",
              "      <td>Psoriasis</td>\n",
              "      <td>Kuku saya memiliki penyok atau lubang kecil d...</td>\n",
              "    </tr>\n",
              "  </tbody>\n",
              "</table>\n",
              "</div>\n",
              "      <button class=\"colab-df-convert\" onclick=\"convertToInteractive('df-ca2312bb-8ba2-45dd-afec-aed886d0a75d')\"\n",
              "              title=\"Convert this dataframe to an interactive table.\"\n",
              "              style=\"display:none;\">\n",
              "        \n",
              "  <svg xmlns=\"http://www.w3.org/2000/svg\" height=\"24px\"viewBox=\"0 0 24 24\"\n",
              "       width=\"24px\">\n",
              "    <path d=\"M0 0h24v24H0V0z\" fill=\"none\"/>\n",
              "    <path d=\"M18.56 5.44l.94 2.06.94-2.06 2.06-.94-2.06-.94-.94-2.06-.94 2.06-2.06.94zm-11 1L8.5 8.5l.94-2.06 2.06-.94-2.06-.94L8.5 2.5l-.94 2.06-2.06.94zm10 10l.94 2.06.94-2.06 2.06-.94-2.06-.94-.94-2.06-.94 2.06-2.06.94z\"/><path d=\"M17.41 7.96l-1.37-1.37c-.4-.4-.92-.59-1.43-.59-.52 0-1.04.2-1.43.59L10.3 9.45l-7.72 7.72c-.78.78-.78 2.05 0 2.83L4 21.41c.39.39.9.59 1.41.59.51 0 1.02-.2 1.41-.59l7.78-7.78 2.81-2.81c.8-.78.8-2.07 0-2.86zM5.41 20L4 18.59l7.72-7.72 1.47 1.35L5.41 20z\"/>\n",
              "  </svg>\n",
              "      </button>\n",
              "      \n",
              "  <style>\n",
              "    .colab-df-container {\n",
              "      display:flex;\n",
              "      flex-wrap:wrap;\n",
              "      gap: 12px;\n",
              "    }\n",
              "\n",
              "    .colab-df-convert {\n",
              "      background-color: #E8F0FE;\n",
              "      border: none;\n",
              "      border-radius: 50%;\n",
              "      cursor: pointer;\n",
              "      display: none;\n",
              "      fill: #1967D2;\n",
              "      height: 32px;\n",
              "      padding: 0 0 0 0;\n",
              "      width: 32px;\n",
              "    }\n",
              "\n",
              "    .colab-df-convert:hover {\n",
              "      background-color: #E2EBFA;\n",
              "      box-shadow: 0px 1px 2px rgba(60, 64, 67, 0.3), 0px 1px 3px 1px rgba(60, 64, 67, 0.15);\n",
              "      fill: #174EA6;\n",
              "    }\n",
              "\n",
              "    [theme=dark] .colab-df-convert {\n",
              "      background-color: #3B4455;\n",
              "      fill: #D2E3FC;\n",
              "    }\n",
              "\n",
              "    [theme=dark] .colab-df-convert:hover {\n",
              "      background-color: #434B5C;\n",
              "      box-shadow: 0px 1px 3px 1px rgba(0, 0, 0, 0.15);\n",
              "      filter: drop-shadow(0px 1px 2px rgba(0, 0, 0, 0.3));\n",
              "      fill: #FFFFFF;\n",
              "    }\n",
              "  </style>\n",
              "\n",
              "      <script>\n",
              "        const buttonEl =\n",
              "          document.querySelector('#df-ca2312bb-8ba2-45dd-afec-aed886d0a75d button.colab-df-convert');\n",
              "        buttonEl.style.display =\n",
              "          google.colab.kernel.accessAllowed ? 'block' : 'none';\n",
              "\n",
              "        async function convertToInteractive(key) {\n",
              "          const element = document.querySelector('#df-ca2312bb-8ba2-45dd-afec-aed886d0a75d');\n",
              "          const dataTable =\n",
              "            await google.colab.kernel.invokeFunction('convertToInteractive',\n",
              "                                                     [key], {});\n",
              "          if (!dataTable) return;\n",
              "\n",
              "          const docLinkHtml = 'Like what you see? Visit the ' +\n",
              "            '<a target=\"_blank\" href=https://colab.research.google.com/notebooks/data_table.ipynb>data table notebook</a>'\n",
              "            + ' to learn more about interactive tables.';\n",
              "          element.innerHTML = '';\n",
              "          dataTable['output_type'] = 'display_data';\n",
              "          await google.colab.output.renderOutput(dataTable, element);\n",
              "          const docLink = document.createElement('div');\n",
              "          docLink.innerHTML = docLinkHtml;\n",
              "          element.appendChild(docLink);\n",
              "        }\n",
              "      </script>\n",
              "    </div>\n",
              "  </div>\n",
              "  "
            ]
          },
          "metadata": {},
          "execution_count": 4
        }
      ],
      "source": [
        "df = pd.read_csv('./Symptom2DiseaseID.csv', delimiter=';')\n",
        "df.head()"
      ]
    },
    {
      "cell_type": "code",
      "execution_count": null,
      "id": "1837267c",
      "metadata": {
        "id": "1837267c"
      },
      "outputs": [],
      "source": [
        "df.drop(\"indeks\", axis=1, inplace=True)"
      ]
    },
    {
      "cell_type": "code",
      "source": [
        "import itertools\n",
        "\n",
        "for i in range(len(df[\"text\"])):\n",
        "    df[\"text\"][i] = re.sub('  +', ' ', df[\"text\"][i])\n",
        "    df[\"text\"][i] = ''.join(''.join(s)[:1] for _, s in itertools.groupby(df[\"text\"][i]))\n",
        "    df[\"text\"][i] = df[\"text\"][i].lower()\n",
        "    df[\"label\"][i] = df[\"label\"][i].lower()\n",
        "\n",
        "df.label = df.label.str.replace('^ +| +$', '', regex=True)"
      ],
      "metadata": {
        "id": "I2g1r2nJTAro"
      },
      "id": "I2g1r2nJTAro",
      "execution_count": null,
      "outputs": []
    },
    {
      "cell_type": "code",
      "source": [
        "for nama_kolom in df.columns:\n",
        "  print(df[nama_kolom].value_counts(), \"\\n\")"
      ],
      "metadata": {
        "colab": {
          "base_uri": "https://localhost:8080/"
        },
        "id": "ZU3zUHa8AxnX",
        "outputId": "6c51b9f2-867e-49d8-8a53-76f1b431fc9b"
      },
      "id": "ZU3zUHa8AxnX",
      "execution_count": null,
      "outputs": [
        {
          "output_type": "stream",
          "name": "stdout",
          "text": [
            "psoriasis                          50\n",
            "pembuluh mekar                     50\n",
            "penyakit ulkus peptikum            50\n",
            "reaksi obat                        50\n",
            "penyakit refluks gastroesofagus    50\n",
            "alergi                             50\n",
            "infeksi saluran kemih              50\n",
            "malaria                            50\n",
            "penyakit kuning                    50\n",
            "spondylosis serviks                50\n",
            "migrain                            50\n",
            "hipertensi                         50\n",
            "asma bronkial                      50\n",
            "jerawat                            50\n",
            "radang sendi                       50\n",
            "wasir dimorfik                     50\n",
            "radang paru-paru                   50\n",
            "flu biasa                          50\n",
            "infeksi jamur                      50\n",
            "demam berdarah                     50\n",
            "impetigo                           50\n",
            "cacar air                          50\n",
            "penyakit tipus                     50\n",
            "diabetes                           50\n",
            "Name: label, dtype: int64 \n",
            "\n",
            " saya merasa sangat gatal, sakit, dan lelah. selain itu, berat badan saya turun dan suhu tubuh saya naik. urine saya berwarna gelap, dan kulit saya menjadi kuning. selain itu, saya juga mengalami sakit perut.                                                            5\n",
            " saya mengalami gatal-gatal hebat, muntah-muntah, dan kelelahan. saya juga mengalami penurunan berat badan dan demam tingi. kulit saya menjadi kuning dan urin saya gelap. saya juga pernah mengalami sakit perut.                                                          3\n",
            " saya merasa otot saya sangat lemah dan leher saya sangat kaku. sendi saya bengkak dan sulit bagi saya untuk bergerak tanpa merasa kaku. berjalan juga sangat menyakitkan.                                                                                                  3\n",
            " saya mengalami sembelit dan sangat sulit untuk pergi ke kamar mandi. ketika saya pergi, rasanya sakit dan tinja saya berdarah. saya juga merasakan sakit di pantat dan anus saya sangat gatal dan iritasi.                                                                 3\n",
            " saya sudah kelelahan dan mengalami mual dan gatal. selain itu, berat badan saya turun dan suhu tubuh saya naik. urine saya berwarna gelap, dan kulit saya menjadi kuning. selain itu, saya juga mengalami sakit perut.                                                     2\n",
            "                                                                                                                                                                                                                                                                           ..\n",
            " saya tidak bisa berhenti batuk dan saya kedinginan. sinus saya benar-benar tersumbat, dan saya dibanjiri lendir. dadaku sakit, dan aku tidak bisa mencium bau apa pun. otot saya juga sangat pegal.                                                                        1\n",
            " saya sering batuk dan sulit bernapas. tengorokan saya sakit dan saya merasa banyak dahak yang terperangkap di dada saya. hidung saya banyak meler, dan saya merasa sangat tersumbat.                                                                                       1\n",
            " saya telah mengalami keletihan yang parah dan sensasi sakit-sakitan. tengorokan saya sangat sakit dan saya mengalami batuk yang cukup parah. hidung saya cukup tersumbat, dan saya mengalami tekanan sinus yang signifikan. saya benar-benar sengsara dan sangat lelah.    1\n",
            "saya merasa sangat sakit dan saya sangat lelah. saya mengalami batuk yang sangat parah dan tengorokan saya sangat sakit. saya mengalami banyak tekanan sinus dan hidung saya benar-benar tersumbat. saya hanya merasa sangat lelah dan sengsara.                            1\n",
            " saya terus menerus bersin dan batuk kering. infeksi saya sepertinya tidak kunjung sembuh, dan jantung saya berdebar-debar. tengorokan saya kadang terasa sakit, tetapi biasanya membaik.                                                                                   1\n",
            "Name: text, Length: 1149, dtype: int64 \n",
            "\n"
          ]
        }
      ]
    },
    {
      "cell_type": "markdown",
      "id": "1a1a3a6a",
      "metadata": {
        "papermill": {
          "duration": 0.0058,
          "end_time": "2023-04-06T04:11:57.995838",
          "exception": false,
          "start_time": "2023-04-06T04:11:57.990038",
          "status": "completed"
        },
        "tags": [],
        "id": "1a1a3a6a"
      },
      "source": [
        "Creating encodings for disease."
      ]
    },
    {
      "cell_type": "code",
      "execution_count": null,
      "id": "9f3f79ff",
      "metadata": {
        "execution": {
          "iopub.execute_input": "2023-04-06T04:11:58.009804Z",
          "iopub.status.busy": "2023-04-06T04:11:58.009515Z",
          "iopub.status.idle": "2023-04-06T04:11:58.019455Z",
          "shell.execute_reply": "2023-04-06T04:11:58.018448Z"
        },
        "papermill": {
          "duration": 0.018935,
          "end_time": "2023-04-06T04:11:58.021513",
          "exception": false,
          "start_time": "2023-04-06T04:11:58.002578",
          "status": "completed"
        },
        "tags": [],
        "colab": {
          "base_uri": "https://localhost:8080/"
        },
        "id": "9f3f79ff",
        "outputId": "70e262c5-bbbe-4515-a9ea-695f62f4f5e0"
      },
      "outputs": [
        {
          "output_type": "execute_result",
          "data": {
            "text/plain": [
              "({0: 'psoriasis',\n",
              "  1: 'pembuluh mekar',\n",
              "  2: 'penyakit tipus',\n",
              "  3: 'cacar air',\n",
              "  4: 'impetigo',\n",
              "  5: 'demam berdarah',\n",
              "  6: 'infeksi jamur',\n",
              "  7: 'flu biasa',\n",
              "  8: 'radang paru-paru',\n",
              "  9: 'wasir dimorfik',\n",
              "  10: 'radang sendi',\n",
              "  11: 'jerawat',\n",
              "  12: 'asma bronkial',\n",
              "  13: 'hipertensi',\n",
              "  14: 'migrain',\n",
              "  15: 'spondylosis serviks',\n",
              "  16: 'penyakit kuning',\n",
              "  17: 'malaria',\n",
              "  18: 'infeksi saluran kemih',\n",
              "  19: 'alergi',\n",
              "  20: 'penyakit refluks gastroesofagus',\n",
              "  21: 'reaksi obat',\n",
              "  22: 'penyakit ulkus peptikum',\n",
              "  23: 'diabetes'},\n",
              " {'psoriasis': 0,\n",
              "  'pembuluh mekar': 1,\n",
              "  'penyakit tipus': 2,\n",
              "  'cacar air': 3,\n",
              "  'impetigo': 4,\n",
              "  'demam berdarah': 5,\n",
              "  'infeksi jamur': 6,\n",
              "  'flu biasa': 7,\n",
              "  'radang paru-paru': 8,\n",
              "  'wasir dimorfik': 9,\n",
              "  'radang sendi': 10,\n",
              "  'jerawat': 11,\n",
              "  'asma bronkial': 12,\n",
              "  'hipertensi': 13,\n",
              "  'migrain': 14,\n",
              "  'spondylosis serviks': 15,\n",
              "  'penyakit kuning': 16,\n",
              "  'malaria': 17,\n",
              "  'infeksi saluran kemih': 18,\n",
              "  'alergi': 19,\n",
              "  'penyakit refluks gastroesofagus': 20,\n",
              "  'reaksi obat': 21,\n",
              "  'penyakit ulkus peptikum': 22,\n",
              "  'diabetes': 23})"
            ]
          },
          "metadata": {},
          "execution_count": 8
        }
      ],
      "source": [
        "int2label = {}\n",
        "\n",
        "for i, disease in enumerate(df['label'].unique()):\n",
        "    int2label[i] = disease\n",
        "\n",
        "label2int = {v : k for k, v in int2label.items()}\n",
        "num_classes = len(int2label)\n",
        "\n",
        "int2label, label2int"
      ]
    },
    {
      "cell_type": "markdown",
      "id": "763636f6",
      "metadata": {
        "papermill": {
          "duration": 0.006036,
          "end_time": "2023-04-06T04:11:58.033788",
          "exception": false,
          "start_time": "2023-04-06T04:11:58.027752",
          "status": "completed"
        },
        "tags": [],
        "id": "763636f6"
      },
      "source": [
        "## Data Distribution"
      ]
    },
    {
      "cell_type": "code",
      "execution_count": null,
      "id": "d9879e91",
      "metadata": {
        "execution": {
          "iopub.execute_input": "2023-04-06T04:11:58.047157Z",
          "iopub.status.busy": "2023-04-06T04:11:58.046841Z",
          "iopub.status.idle": "2023-04-06T04:11:58.493886Z",
          "shell.execute_reply": "2023-04-06T04:11:58.492907Z"
        },
        "papermill": {
          "duration": 0.456124,
          "end_time": "2023-04-06T04:11:58.496173",
          "exception": false,
          "start_time": "2023-04-06T04:11:58.040049",
          "status": "completed"
        },
        "tags": [],
        "colab": {
          "base_uri": "https://localhost:8080/",
          "height": 740
        },
        "id": "d9879e91",
        "outputId": "2361d437-e70b-4885-f1d5-7104a15f42e9"
      },
      "outputs": [
        {
          "output_type": "execute_result",
          "data": {
            "text/plain": [
              "Text(0.5, 1.0, 'Count of each disease')"
            ]
          },
          "metadata": {},
          "execution_count": 9
        },
        {
          "output_type": "display_data",
          "data": {
            "text/plain": [
              "<Figure size 1000x800 with 1 Axes>"
            ],
            "image/png": "[encoded data removed]"
          },
          "metadata": {}
        }
      ],
      "source": [
        "plt.figure(figsize = (10, 8))\n",
        "\n",
        "sea.countplot(y = df['label'], palette = 'Blues_d')\n",
        "plt.title('Count of each disease')"
      ]
    },
    {
      "cell_type": "markdown",
      "id": "372d9672",
      "metadata": {
        "papermill": {
          "duration": 0.007259,
          "end_time": "2023-04-06T04:11:58.511213",
          "exception": false,
          "start_time": "2023-04-06T04:11:58.503954",
          "status": "completed"
        },
        "tags": [],
        "id": "372d9672"
      },
      "source": [
        "## Distribution of the lenght of description"
      ]
    },
    {
      "cell_type": "code",
      "execution_count": null,
      "id": "a3255b14",
      "metadata": {
        "execution": {
          "iopub.execute_input": "2023-04-06T04:11:58.526547Z",
          "iopub.status.busy": "2023-04-06T04:11:58.526240Z",
          "iopub.status.idle": "2023-04-06T04:11:58.844073Z",
          "shell.execute_reply": "2023-04-06T04:11:58.843091Z"
        },
        "papermill": {
          "duration": 0.328297,
          "end_time": "2023-04-06T04:11:58.846485",
          "exception": false,
          "start_time": "2023-04-06T04:11:58.518188",
          "status": "completed"
        },
        "tags": [],
        "colab": {
          "base_uri": "https://localhost:8080/",
          "height": 502,
          "referenced_widgets": [
            "fd57f11d7f524a008c26d9341a1cc3e9",
            "530674d503634846a68bd96ca671e2d2",
            "1d1b6f6b2b3e404bb7a2f34ddd191f83",
            "a3f28fbe92af41f8b720bc88e4848750",
            "3853af4856b44c388f6054cc6cebb401",
            "b97b981e8fec4c5cbad29761fa0d810c",
            "c22f188d663e4ebe803593197f04acd1",
            "50dc2912dc824fc8bf210430f768ab3c",
            "d4a625510e4c4582a71c5e7e17a4fd85",
            "7f90f32c111d4c8980ab2f82f68bccfa",
            "0951fb4ec35344468508db3f40152020"
          ]
        },
        "id": "a3255b14",
        "outputId": "c81489a0-fef8-49a4-c95d-c8fb56ac0377"
      },
      "outputs": [
        {
          "output_type": "display_data",
          "data": {
            "text/plain": [
              "  0%|          | 0/1200 [00:00<?, ?it/s]"
            ],
            "application/vnd.jupyter.widget-view+json": {
              "version_major": 2,
              "version_minor": 0,
              "model_id": "fd57f11d7f524a008c26d9341a1cc3e9"
            }
          },
          "metadata": {}
        },
        {
          "output_type": "execute_result",
          "data": {
            "text/plain": [
              "Text(0.5, 1.0, 'Distribution of description length')"
            ]
          },
          "metadata": {},
          "execution_count": 10
        },
        {
          "output_type": "display_data",
          "data": {
            "text/plain": [
              "<Figure size 640x480 with 1 Axes>"
            ],
            "image/png": "[encoded data removed]"
          },
          "metadata": {}
        }
      ],
      "source": [
        "length = []\n",
        "for txt in tqdm(df['text'].values):\n",
        "    length.append(len(txt.split()))\n",
        "\n",
        "sea.histplot(length, kde = True, bins = 20)\n",
        "plt.title('Distribution of description length')"
      ]
    },
    {
      "cell_type": "code",
      "execution_count": null,
      "id": "14d22426",
      "metadata": {
        "execution": {
          "iopub.execute_input": "2023-04-06T04:11:58.866143Z",
          "iopub.status.busy": "2023-04-06T04:11:58.864521Z",
          "iopub.status.idle": "2023-04-06T04:11:58.872088Z",
          "shell.execute_reply": "2023-04-06T04:11:58.871166Z"
        },
        "papermill": {
          "duration": 0.019088,
          "end_time": "2023-04-06T04:11:58.874327",
          "exception": false,
          "start_time": "2023-04-06T04:11:58.855239",
          "status": "completed"
        },
        "tags": [],
        "id": "14d22426"
      },
      "outputs": [],
      "source": [
        "df['label'] = df['label'].map(lambda x : label2int[x])"
      ]
    },
    {
      "cell_type": "code",
      "source": [
        "df[\"label\"].value_counts()"
      ],
      "metadata": {
        "colab": {
          "base_uri": "https://localhost:8080/"
        },
        "id": "ZZCy-Gz5A6sd",
        "outputId": "4152c4ec-86b4-4e0a-90e6-a10f705d25af"
      },
      "id": "ZZCy-Gz5A6sd",
      "execution_count": null,
      "outputs": [
        {
          "output_type": "execute_result",
          "data": {
            "text/plain": [
              "0     50\n",
              "1     50\n",
              "22    50\n",
              "21    50\n",
              "20    50\n",
              "19    50\n",
              "18    50\n",
              "17    50\n",
              "16    50\n",
              "15    50\n",
              "14    50\n",
              "13    50\n",
              "12    50\n",
              "11    50\n",
              "10    50\n",
              "9     50\n",
              "8     50\n",
              "7     50\n",
              "6     50\n",
              "5     50\n",
              "4     50\n",
              "3     50\n",
              "2     50\n",
              "23    50\n",
              "Name: label, dtype: int64"
            ]
          },
          "metadata": {},
          "execution_count": 12
        }
      ]
    },
    {
      "cell_type": "code",
      "execution_count": null,
      "id": "62d364d9",
      "metadata": {
        "execution": {
          "iopub.execute_input": "2023-04-06T04:11:58.891925Z",
          "iopub.status.busy": "2023-04-06T04:11:58.891647Z",
          "iopub.status.idle": "2023-04-06T04:11:58.929395Z",
          "shell.execute_reply": "2023-04-06T04:11:58.928193Z"
        },
        "papermill": {
          "duration": 0.049272,
          "end_time": "2023-04-06T04:11:58.931693",
          "exception": false,
          "start_time": "2023-04-06T04:11:58.882421",
          "status": "completed"
        },
        "tags": [],
        "colab": {
          "base_uri": "https://localhost:8080/"
        },
        "id": "62d364d9",
        "outputId": "bbaf0168-3f8d-45b1-f534-598f75c7e090"
      },
      "outputs": [
        {
          "output_type": "stream",
          "name": "stdout",
          "text": [
            "X vocab: 1749\n"
          ]
        }
      ],
      "source": [
        "X, y = df['text'].values, df['label'].values\n",
        "\n",
        "x_tokenizer = Tokenizer(filters = '')\n",
        "x_tokenizer.fit_on_texts(X)\n",
        "x_vocab = len(x_tokenizer.word_index) + 1\n",
        "print(\"X vocab:\", x_vocab)"
      ]
    },
    {
      "cell_type": "markdown",
      "id": "fc27376e",
      "metadata": {
        "papermill": {
          "duration": 0.007651,
          "end_time": "2023-04-06T04:11:58.947594",
          "exception": false,
          "start_time": "2023-04-06T04:11:58.939943",
          "status": "completed"
        },
        "tags": [],
        "id": "fc27376e"
      },
      "source": [
        "## Creating the train and testing data"
      ]
    },
    {
      "cell_type": "code",
      "execution_count": null,
      "id": "066444cb",
      "metadata": {
        "execution": {
          "iopub.execute_input": "2023-04-06T04:11:58.964614Z",
          "iopub.status.busy": "2023-04-06T04:11:58.964068Z",
          "iopub.status.idle": "2023-04-06T04:11:59.111860Z",
          "shell.execute_reply": "2023-04-06T04:11:59.110761Z"
        },
        "papermill": {
          "duration": 0.158924,
          "end_time": "2023-04-06T04:11:59.114422",
          "exception": false,
          "start_time": "2023-04-06T04:11:58.955498",
          "status": "completed"
        },
        "tags": [],
        "colab": {
          "base_uri": "https://localhost:8080/"
        },
        "id": "066444cb",
        "outputId": "4229e586-f574-4e8a-a4b4-3250291411fd"
      },
      "outputs": [
        {
          "output_type": "execute_result",
          "data": {
            "text/plain": [
              "((1080,), (120,), (1080,), (120,))"
            ]
          },
          "metadata": {},
          "execution_count": 14
        }
      ],
      "source": [
        "from sklearn.model_selection import train_test_split\n",
        "\n",
        "train_x, val_x, train_y, val_y = train_test_split(X, y, test_size = 0.1, stratify = y)\n",
        "train_x.shape, val_x.shape, train_y.shape, val_y.shape"
      ]
    },
    {
      "cell_type": "markdown",
      "id": "e6820e3f",
      "metadata": {
        "papermill": {
          "duration": 0.008148,
          "end_time": "2023-04-06T04:11:59.130974",
          "exception": false,
          "start_time": "2023-04-06T04:11:59.122826",
          "status": "completed"
        },
        "tags": [],
        "id": "e6820e3f"
      },
      "source": [
        "## Converting the data into `tf.data.Dataset`\n",
        "\n",
        "1. The tokenizer of pretrained bert is downloaded and used.\n",
        "2. `train_dataset` and `val_dataset` is created using `tf.data.Dataset` with batch size 8."
      ]
    },
    {
      "cell_type": "code",
      "execution_count": null,
      "id": "9b2c5a88",
      "metadata": {
        "execution": {
          "iopub.execute_input": "2023-04-06T04:11:59.149298Z",
          "iopub.status.busy": "2023-04-06T04:11:59.147753Z",
          "iopub.status.idle": "2023-04-06T04:12:09.437535Z",
          "shell.execute_reply": "2023-04-06T04:12:09.436452Z"
        },
        "papermill": {
          "duration": 10.301704,
          "end_time": "2023-04-06T04:12:09.440605",
          "exception": false,
          "start_time": "2023-04-06T04:11:59.138901",
          "status": "completed"
        },
        "tags": [],
        "id": "9b2c5a88",
        "colab": {
          "base_uri": "https://localhost:8080/",
          "height": 145,
          "referenced_widgets": [
            "59fd54d084ee4c3e82fb88bc14d0cd49",
            "b6fcb5efe4ec4cbdbaaa432b0965c36f",
            "7bdc7ff5084b44b2a9b65b544421ea4c",
            "48fad29df6644bc4b1f5e327bd45a723",
            "9a5b2e95122048b38f3ffec9a3a971f4",
            "f9a10cd77fb3439a845d001c56f5d002",
            "eccf891f125148c4ae03955437cc3878",
            "4cff49227e124b9eb2e1a0a0e3503efc",
            "994e4fcb47a04c7bbe543af8ad314cab",
            "230930a3d5f8431187bcaf7457f344a2",
            "4f757d71fadb4671b2e1e038533800d3",
            "13dadd2b15c947a48b5441e153b77510",
            "f3e35a83f4ab48a191643e8ea6be1c0c",
            "5e068f083fd549328d127539f21df85e",
            "d50ad9801fe84e7293147d66ee2d74b9",
            "067febf55d734efdb067086e7a3afb43",
            "770178a63f794d5486cd2b39ac707de3",
            "b44ffb5dd7f6400fad6b1a8ce53bacbc",
            "b4c375c128184f70a3422de553037d50",
            "81ba67d9a50440e6a4002854367aa9a2",
            "548ce1b82a844224b1c24871247e593c",
            "52acdc565bf34b71a8281f46ec850a89",
            "c16a2d0bc1aa47b1b0b32e115e7a2816",
            "490d5d63b55444da901294b0c27c054c",
            "a8143a9063eb4ed385cfc64fb13a7f2f",
            "b2d572b2a65b4198a7e6849fce2fd3e4",
            "069e17f5fabe423d8ad7df6b6261359d",
            "6f81b3767d204da18649f34aef23d653",
            "2963e7c672874861bbaa9d4765f8508a",
            "e7fdb8eb4f094b8c9826b6732910f336",
            "8eb8a1136de4485bac05555f2dac4e87",
            "6f29680ecd834a499655b07491feaaff",
            "8bf3774610ee432dae6cc58665e5e9c2",
            "5d888676e917493fa7340abed1bdfc92",
            "5bae253f14384cfe8d58f8c8fe2371c6",
            "23e3a3c3a28d4397a6003fd6aaaeeed8",
            "818ed0cf4361461da5eb116e2699209c",
            "35e0aa5571a44f9e992d7aa5b1f69234",
            "55697925987b46f7a005381173979419",
            "f1a187e4b26b4a9dbccec16fae7d0667",
            "a628d6fdc4184d6a9ea09a74cd81fe91",
            "fdc85c155cd0474eb2c8eee662d5ba7d",
            "cefb3e7cca654bec9b23c6a4139ce9d6",
            "87a69bc5a0954f0d9428b8eb60441f62"
          ]
        },
        "outputId": "56dd6771-88a6-447c-cd49-a0798c2f0299"
      },
      "outputs": [
        {
          "output_type": "display_data",
          "data": {
            "text/plain": [
              "Downloading (…)okenizer_config.json:   0%|          | 0.00/29.0 [00:00<?, ?B/s]"
            ],
            "application/vnd.jupyter.widget-view+json": {
              "version_major": 2,
              "version_minor": 0,
              "model_id": "59fd54d084ee4c3e82fb88bc14d0cd49"
            }
          },
          "metadata": {}
        },
        {
          "output_type": "display_data",
          "data": {
            "text/plain": [
              "Downloading (…)lve/main/config.json:   0%|          | 0.00/625 [00:00<?, ?B/s]"
            ],
            "application/vnd.jupyter.widget-view+json": {
              "version_major": 2,
              "version_minor": 0,
              "model_id": "13dadd2b15c947a48b5441e153b77510"
            }
          },
          "metadata": {}
        },
        {
          "output_type": "display_data",
          "data": {
            "text/plain": [
              "Downloading (…)solve/main/vocab.txt:   0%|          | 0.00/996k [00:00<?, ?B/s]"
            ],
            "application/vnd.jupyter.widget-view+json": {
              "version_major": 2,
              "version_minor": 0,
              "model_id": "c16a2d0bc1aa47b1b0b32e115e7a2816"
            }
          },
          "metadata": {}
        },
        {
          "output_type": "display_data",
          "data": {
            "text/plain": [
              "Downloading (…)/main/tokenizer.json:   0%|          | 0.00/1.96M [00:00<?, ?B/s]"
            ],
            "application/vnd.jupyter.widget-view+json": {
              "version_major": 2,
              "version_minor": 0,
              "model_id": "5d888676e917493fa7340abed1bdfc92"
            }
          },
          "metadata": {}
        }
      ],
      "source": [
        "from transformers import AutoTokenizer\n",
        "BATCH_SIZE = 8\n",
        "\n",
        "tokenizer = AutoTokenizer.from_pretrained(\"bert-base-multilingual-cased\")\n",
        "train_encodings = tokenizer(list(train_x), padding=\"max_length\", truncation=True)\n",
        "val_encodings = tokenizer(list(val_x), padding=\"max_length\", truncation=True)\n",
        "\n",
        "train_dataset = tf.data.Dataset.from_tensor_slices((\n",
        "    dict(train_encodings),\n",
        "    train_y\n",
        ")).batch(BATCH_SIZE)\n",
        "\n",
        "val_dataset = tf.data.Dataset.from_tensor_slices((\n",
        "    dict(val_encodings),\n",
        "    val_y\n",
        ")).batch(BATCH_SIZE)\n"
      ]
    },
    {
      "cell_type": "code",
      "source": [
        "num_classes = 24\n",
        "\n",
        "from transformers import TFAutoModelForSequenceClassification\n",
        "\n",
        "model = TFAutoModelForSequenceClassification.from_pretrained(\n",
        "    \"bert-base-multilingual-cased\", \n",
        "    num_labels = num_classes, \n",
        "    id2label = int2label, \n",
        "    label2id = label2int,\n",
        "    output_attentions = True)\n",
        "\n",
        "model.compile(\n",
        "    loss = keras.losses.SparseCategoricalCrossentropy(from_logits=True),\n",
        "    optimizer = keras.optimizers.Adam(learning_rate = 3e-5),\n",
        "    metrics = ['accuracy'])\n",
        "\n",
        "model"
      ],
      "metadata": {
        "colab": {
          "base_uri": "https://localhost:8080/",
          "height": 156,
          "referenced_widgets": [
            "a43f3982ef5d4256963e61f6f9a36022",
            "2cfbef9ab01d4a87be54165a0c8a1c0d",
            "35aa822e5de94c048c0d37be0c73cb63",
            "a73c326d5ce94bacbabef884f6465ab4",
            "174da07dc5b2432c9de28e9954d5e7ec",
            "92e5da353a0545b7acb2019274daa340",
            "e31a64f2977841c8b5f8763ec8b16dff",
            "569090543f4c4f6e827361d7528f461d",
            "2d5dce583fbb4c829e70ff5e0a7b0f98",
            "8ca578ee5a474ffeb36bb611f94d5033",
            "e414332f1b8b4a76841915e3c021a65d"
          ]
        },
        "id": "bp6MyJ2RFInb",
        "outputId": "8761c36e-b6d7-409c-a413-440c516d26cd"
      },
      "id": "bp6MyJ2RFInb",
      "execution_count": null,
      "outputs": [
        {
          "output_type": "display_data",
          "data": {
            "text/plain": [
              "Downloading tf_model.h5:   0%|          | 0.00/1.08G [00:00<?, ?B/s]"
            ],
            "application/vnd.jupyter.widget-view+json": {
              "version_major": 2,
              "version_minor": 0,
              "model_id": "a43f3982ef5d4256963e61f6f9a36022"
            }
          },
          "metadata": {}
        },
        {
          "output_type": "stream",
          "name": "stderr",
          "text": [
            "All model checkpoint layers were used when initializing TFBertForSequenceClassification.\n",
            "\n",
            "Some layers of TFBertForSequenceClassification were not initialized from the model checkpoint at bert-base-multilingual-cased and are newly initialized: ['classifier']\n",
            "You should probably TRAIN this model on a down-stream task to be able to use it for predictions and inference.\n"
          ]
        },
        {
          "output_type": "execute_result",
          "data": {
            "text/plain": [
              "<transformers.models.bert.modeling_tf_bert.TFBertForSequenceClassification at 0x7f84e04e1ea0>"
            ]
          },
          "metadata": {},
          "execution_count": 16
        }
      ]
    },
    {
      "cell_type": "code",
      "source": [
        "for layer in model.layers:\n",
        "    print(layer, layer.trainable)"
      ],
      "metadata": {
        "colab": {
          "base_uri": "https://localhost:8080/"
        },
        "id": "cUqkar8DHIno",
        "outputId": "1e67ad4c-ef1b-4dc1-f7b0-6d28ce517c32"
      },
      "id": "cUqkar8DHIno",
      "execution_count": null,
      "outputs": [
        {
          "output_type": "stream",
          "name": "stdout",
          "text": [
            "<transformers.models.bert.modeling_tf_bert.TFBertMainLayer object at 0x7f84e23a44f0> True\n",
            "<keras.layers.regularization.dropout.Dropout object at 0x7f83b6bee050> True\n",
            "<keras.layers.core.dense.Dense object at 0x7f83b6bee440> True\n"
          ]
        }
      ]
    },
    {
      "cell_type": "code",
      "source": [
        "model.summary()"
      ],
      "metadata": {
        "colab": {
          "base_uri": "https://localhost:8080/"
        },
        "id": "QCunSrpScgbb",
        "outputId": "29e8c6c7-6016-499f-c756-c421b98ec1c5"
      },
      "id": "QCunSrpScgbb",
      "execution_count": null,
      "outputs": [
        {
          "output_type": "stream",
          "name": "stdout",
          "text": [
            "Model: \"tf_bert_for_sequence_classification\"\n",
            "_________________________________________________________________\n",
            " Layer (type)                Output Shape              Param #   \n",
            "=================================================================\n",
            " bert (TFBertMainLayer)      multiple                  177853440 \n",
            "                                                                 \n",
            " dropout_37 (Dropout)        multiple                  0         \n",
            "                                                                 \n",
            " classifier (Dense)          multiple                  18456     \n",
            "                                                                 \n",
            "=================================================================\n",
            "Total params: 177,871,896\n",
            "Trainable params: 177,871,896\n",
            "Non-trainable params: 0\n",
            "_________________________________________________________________\n"
          ]
        }
      ]
    },
    {
      "cell_type": "markdown",
      "id": "0f559f08",
      "metadata": {
        "papermill": {
          "duration": 0.008871,
          "end_time": "2023-04-06T04:12:29.194198",
          "exception": false,
          "start_time": "2023-04-06T04:12:29.185327",
          "status": "completed"
        },
        "tags": [],
        "id": "0f559f08"
      },
      "source": [
        "## Fine tuning the model\n",
        "\n",
        "1. The model is fined tuned for 3 epochs."
      ]
    },
    {
      "cell_type": "code",
      "execution_count": null,
      "id": "bc4cb83e",
      "metadata": {
        "execution": {
          "iopub.execute_input": "2023-04-06T04:12:29.213235Z",
          "iopub.status.busy": "2023-04-06T04:12:29.212943Z",
          "iopub.status.idle": "2023-04-06T04:17:17.975928Z",
          "shell.execute_reply": "2023-04-06T04:17:17.974896Z"
        },
        "papermill": {
          "duration": 288.775351,
          "end_time": "2023-04-06T04:17:17.978326",
          "exception": false,
          "start_time": "2023-04-06T04:12:29.202975",
          "status": "completed"
        },
        "tags": [],
        "colab": {
          "base_uri": "https://localhost:8080/"
        },
        "id": "bc4cb83e",
        "outputId": "f9578417-5824-4db9-89af-d23cee84c605"
      },
      "outputs": [
        {
          "output_type": "stream",
          "name": "stdout",
          "text": [
            "Epoch 1/10\n",
            "135/135 [==============================] - 195s 988ms/step - loss: 3.0550 - accuracy: 0.1472 - val_loss: 2.2887 - val_accuracy: 0.5750\n",
            "Epoch 2/10\n",
            "135/135 [==============================] - 131s 970ms/step - loss: 1.6316 - accuracy: 0.7167 - val_loss: 0.9471 - val_accuracy: 0.7833\n",
            "Epoch 3/10\n",
            "135/135 [==============================] - 131s 970ms/step - loss: 0.7038 - accuracy: 0.8944 - val_loss: 0.3898 - val_accuracy: 0.9500\n",
            "Epoch 4/10\n",
            "135/135 [==============================] - 131s 971ms/step - loss: 0.3370 - accuracy: 0.9639 - val_loss: 0.2213 - val_accuracy: 0.9583\n",
            "Epoch 5/10\n",
            "135/135 [==============================] - 131s 970ms/step - loss: 0.1899 - accuracy: 0.9759 - val_loss: 0.2001 - val_accuracy: 0.9667\n",
            "Epoch 6/10\n",
            "135/135 [==============================] - 131s 971ms/step - loss: 0.1089 - accuracy: 0.9917 - val_loss: 0.1567 - val_accuracy: 0.9583\n",
            "Epoch 7/10\n",
            "135/135 [==============================] - 131s 971ms/step - loss: 0.0621 - accuracy: 0.9972 - val_loss: 0.1019 - val_accuracy: 0.9583\n",
            "Epoch 8/10\n",
            "135/135 [==============================] - 131s 971ms/step - loss: 0.0390 - accuracy: 0.9991 - val_loss: 0.0994 - val_accuracy: 0.9750\n",
            "Epoch 9/10\n",
            "135/135 [==============================] - 131s 971ms/step - loss: 0.0268 - accuracy: 1.0000 - val_loss: 0.0880 - val_accuracy: 0.9750\n",
            "Epoch 10/10\n",
            "135/135 [==============================] - 131s 969ms/step - loss: 0.0213 - accuracy: 1.0000 - val_loss: 0.0912 - val_accuracy: 0.9750\n"
          ]
        }
      ],
      "source": [
        "EPOCHS = 10\n",
        "batch_size = 16\n",
        "\n",
        "history = model.fit(train_dataset,\n",
        "          batch_size=batch_size,\n",
        "          epochs = EPOCHS,\n",
        "          validation_data = val_dataset)"
      ]
    },
    {
      "cell_type": "code",
      "source": [
        "model.evaluate(val_dataset, batch_size=batch_size)"
      ],
      "metadata": {
        "colab": {
          "base_uri": "https://localhost:8080/"
        },
        "id": "TbyUCe1aHzGh",
        "outputId": "e40217d4-8b8d-4b17-beff-b6b0f6e2120b"
      },
      "id": "TbyUCe1aHzGh",
      "execution_count": null,
      "outputs": [
        {
          "output_type": "stream",
          "name": "stdout",
          "text": [
            "15/15 [==============================] - 5s 342ms/step - loss: 0.0912 - accuracy: 0.9750\n"
          ]
        },
        {
          "output_type": "execute_result",
          "data": {
            "text/plain": [
              "[0.09120181947946548, 0.9750000238418579]"
            ]
          },
          "metadata": {},
          "execution_count": 20
        }
      ]
    },
    {
      "cell_type": "markdown",
      "id": "5328a41d",
      "metadata": {
        "papermill": {
          "duration": 0.03055,
          "end_time": "2023-04-06T04:17:18.039325",
          "exception": false,
          "start_time": "2023-04-06T04:17:18.008775",
          "status": "completed"
        },
        "tags": [],
        "id": "5328a41d"
      },
      "source": [
        "## Plotting the loss and accuracy plot."
      ]
    },
    {
      "cell_type": "code",
      "execution_count": null,
      "id": "625b8dc8",
      "metadata": {
        "execution": {
          "iopub.execute_input": "2023-04-06T04:17:18.103547Z",
          "iopub.status.busy": "2023-04-06T04:17:18.102539Z",
          "iopub.status.idle": "2023-04-06T04:17:18.542759Z",
          "shell.execute_reply": "2023-04-06T04:17:18.541593Z"
        },
        "papermill": {
          "duration": 0.475786,
          "end_time": "2023-04-06T04:17:18.545622",
          "exception": false,
          "start_time": "2023-04-06T04:17:18.069836",
          "status": "completed"
        },
        "tags": [],
        "colab": {
          "base_uri": "https://localhost:8080/",
          "height": 486
        },
        "id": "625b8dc8",
        "outputId": "eca3d470-4e9d-4181-b03a-72cf24299c61"
      },
      "outputs": [
        {
          "output_type": "execute_result",
          "data": {
            "text/plain": [
              "<matplotlib.legend.Legend at 0x7f82a2270220>"
            ]
          },
          "metadata": {},
          "execution_count": 21
        },
        {
          "output_type": "display_data",
          "data": {
            "text/plain": [
              "<Figure size 1400x500 with 2 Axes>"
            ],
            "image/png": "[encoded data removed]"
          },
          "metadata": {}
        }
      ],
      "source": [
        "plt.figure(figsize = (14, 5))\n",
        "\n",
        "plt.subplot(1,2,1)\n",
        "plt.title('Loss')\n",
        "plt.plot(history.history['loss'], marker = 'o', label = 'Training')\n",
        "plt.plot(history.history['val_loss'], marker='o', label = 'Validation')\n",
        "plt.legend()\n",
        "\n",
        "plt.subplot(1,2,2)\n",
        "plt.title('Accuracy')\n",
        "plt.plot(history.history['accuracy'], marker = 'o', label = 'Training')\n",
        "plt.plot(history.history['val_accuracy'], marker='o', label = 'Validation')\n",
        "plt.legend()\n"
      ]
    },
    {
      "cell_type": "markdown",
      "id": "9aeffcca",
      "metadata": {
        "papermill": {
          "duration": 0.031776,
          "end_time": "2023-04-06T04:17:18.612882",
          "exception": false,
          "start_time": "2023-04-06T04:17:18.581106",
          "status": "completed"
        },
        "tags": [],
        "id": "9aeffcca"
      },
      "source": [
        "## Testing the model on custom input."
      ]
    },
    {
      "cell_type": "code",
      "execution_count": null,
      "id": "9745ec82",
      "metadata": {
        "execution": {
          "iopub.execute_input": "2023-04-06T04:17:18.686291Z",
          "iopub.status.busy": "2023-04-06T04:17:18.685270Z",
          "iopub.status.idle": "2023-04-06T04:17:21.110169Z",
          "shell.execute_reply": "2023-04-06T04:17:21.108878Z"
        },
        "papermill": {
          "duration": 2.46847,
          "end_time": "2023-04-06T04:17:21.112972",
          "exception": false,
          "start_time": "2023-04-06T04:17:18.644502",
          "status": "completed"
        },
        "tags": [],
        "colab": {
          "base_uri": "https://localhost:8080/"
        },
        "id": "9745ec82",
        "outputId": "63cfbd73-164c-4e85-df43-9fd75b523af5"
      },
      "outputs": [
        {
          "output_type": "stream",
          "name": "stdout",
          "text": [
            "[{'label': 'diabetes', 'score': 0.9841550588607788}, {'label': 'reaksi obat', 'score': 0.0018965370254591107}]\n",
            "[{'label': 'penyakit tipus', 'score': 0.9882849454879761}, {'label': 'penyakit ulkus peptikum', 'score': 0.001437068567611277}]\n"
          ]
        }
      ],
      "source": [
        "from transformers import TextClassificationPipeline\n",
        "\n",
        "pipe = TextClassificationPipeline(model=model, tokenizer=tokenizer, top_k = num_classes)\n",
        "\n",
        "text1 = str(\" Penglihatan saya berkabut, dan tampaknya semakin memburuk. Saya merasa lelah dan lelah sepanjang waktu. Saya juga sering mengalami pusing parah dan pusing.\").lower()\n",
        "text2 = str(\"Saya mengalami sembelit dan sakit perut, dan itu sangat tidak nyaman. Sakit perut semakin parah dan mulai mempengaruhi kehidupan sehari-hari saya. Apalagi setiap malam saya menggigil, diikuti demam ringan.\").lower()\n",
        "\n",
        "pred1 = pipe(text1)\n",
        "pred2 = pipe(text2)\n",
        "\n",
        "print(pred1[0][:2])\n",
        "print(pred2[0][:2])"
      ]
    },
    {
      "cell_type": "code",
      "source": [
        "!mkdir ./save-bert-v1-multilungual"
      ],
      "metadata": {
        "id": "FeQqtD3DdJSz"
      },
      "id": "FeQqtD3DdJSz",
      "execution_count": null,
      "outputs": []
    },
    {
      "cell_type": "code",
      "source": [
        "model.save(\"save-bert-v1-multilungual\")"
      ],
      "metadata": {
        "colab": {
          "base_uri": "https://localhost:8080/"
        },
        "id": "VOhHHyWLcTa8",
        "outputId": "339e108a-c4f1-4e9a-e9e4-3731a2096ea0"
      },
      "id": "VOhHHyWLcTa8",
      "execution_count": null,
      "outputs": [
        {
          "output_type": "stream",
          "name": "stderr",
          "text": [
            "WARNING:absl:Found untraced functions such as embeddings_layer_call_fn, embeddings_layer_call_and_return_conditional_losses, encoder_layer_call_fn, encoder_layer_call_and_return_conditional_losses, pooler_layer_call_fn while saving (showing 5 of 420). These functions will not be directly callable after loading.\n"
          ]
        }
      ]
    },
    {
      "cell_type": "code",
      "source": [
        "!zip -r save-bert-v1-multilungual.zip \"./save-bert-v1-multilungual/\""
      ],
      "metadata": {
        "colab": {
          "base_uri": "https://localhost:8080/"
        },
        "id": "gKc0TPcfdfA7",
        "outputId": "5c9f8e59-b168-4477-b3e9-ef37635635a1"
      },
      "id": "gKc0TPcfdfA7",
      "execution_count": null,
      "outputs": [
        {
          "output_type": "stream",
          "name": "stdout",
          "text": [
            "  adding: save-bert-v1-multilungual/ (stored 0%)\n",
            "  adding: save-bert-v1-multilungual/saved_model.pb (deflated 92%)\n",
            "  adding: save-bert-v1-multilungual/fingerprint.pb (stored 0%)\n",
            "  adding: save-bert-v1-multilungual/assets/ (stored 0%)\n",
            "  adding: save-bert-v1-multilungual/keras_metadata.pb (deflated 95%)\n",
            "  adding: save-bert-v1-multilungual/variables/ (stored 0%)\n",
            "  adding: save-bert-v1-multilungual/variables/variables.data-00000-of-00001 (deflated 39%)\n",
            "  adding: save-bert-v1-multilungual/variables/variables.index (deflated 79%)\n"
          ]
        }
      ]
    },
    {
      "cell_type": "code",
      "source": [
        "!ls -lh save-bert-v1-multilungual.zip"
      ],
      "metadata": {
        "colab": {
          "base_uri": "https://localhost:8080/"
        },
        "id": "Y6Om_rCheyHX",
        "outputId": "1ef2f126-79cc-4738-9221-12f1677fd278"
      },
      "id": "Y6Om_rCheyHX",
      "execution_count": null,
      "outputs": [
        {
          "output_type": "stream",
          "name": "stdout",
          "text": [
            "-rw-r--r-- 1 root root 1.3G May 23 22:11 save-bert-v1-multilungual.zip\n"
          ]
        }
      ]
    },
    {
      "cell_type": "code",
      "source": [
        "from google.colab import drive\n",
        "drive.mount('/content/drive')"
      ],
      "metadata": {
        "colab": {
          "base_uri": "https://localhost:8080/"
        },
        "id": "teG4LiSzhOe6",
        "outputId": "bc8966fe-4c35-4aae-a485-fdede0ac1efc"
      },
      "id": "teG4LiSzhOe6",
      "execution_count": null,
      "outputs": [
        {
          "output_type": "stream",
          "name": "stdout",
          "text": [
            "Mounted at /content/drive\n"
          ]
        }
      ]
    },
    {
      "cell_type": "code",
      "source": [
        "!cp -rv save-bert-v1-multilungual.zip \"/content/drive/My Drive/\""
      ],
      "metadata": {
        "id": "5QIPzwAxhPny",
        "colab": {
          "base_uri": "https://localhost:8080/"
        },
        "outputId": "60fce94f-e00b-4af2-8d0e-03ca8810a158"
      },
      "id": "5QIPzwAxhPny",
      "execution_count": null,
      "outputs": [
        {
          "output_type": "stream",
          "name": "stdout",
          "text": [
            "'save-bert-v1-multilungual.zip' -> '/content/drive/My Drive/save-bert-v1-multilungual.zip'\n"
          ]
        }
      ]
    }
  ],
  "metadata": {
    "kernelspec": {
      "display_name": "Python 3",
      "language": "python",
      "name": "python3"
    },
    "language_info": {
      "codemirror_mode": {
        "name": "ipython",
        "version": 3
      },
      "file_extension": ".py",
      "mimetype": "text/x-python",
      "name": "python",
      "nbconvert_exporter": "python",
      "pygments_lexer": "ipython3",
      "version": "3.8.8"
    },
    "papermill": {
      "default_parameters": {},
      "duration": 352.818072,
      "end_time": "2023-04-06T04:17:24.927541",
      "environment_variables": {},
      "exception": null,
      "input_path": "__notebook__.ipynb",
      "output_path": "__notebook__.ipynb",
      "parameters": {},
      "start_time": "2023-04-06T04:11:32.109469",
      "version": "2.4.0"
    },
    "widgets": {
      "application/vnd.jupyter.widget-state+json": {
        "fd57f11d7f524a008c26d9341a1cc3e9": {
          "model_module": "@jupyter-widgets/controls",
          "model_name": "HBoxModel",
          "model_module_version": "1.5.0",
          "state": {
            "_dom_classes": [],
            "_model_module": "@jupyter-widgets/controls",
            "_model_module_version": "1.5.0",
            "_model_name": "HBoxModel",
            "_view_count": null,
            "_view_module": "@jupyter-widgets/controls",
            "_view_module_version": "1.5.0",
            "_view_name": "HBoxView",
            "box_style": "",
            "children": [
              "IPY_MODEL_530674d503634846a68bd96ca671e2d2",
              "IPY_MODEL_1d1b6f6b2b3e404bb7a2f34ddd191f83",
              "IPY_MODEL_a3f28fbe92af41f8b720bc88e4848750"
            ],
            "layout": "IPY_MODEL_3853af4856b44c388f6054cc6cebb401"
          }
        },
        "530674d503634846a68bd96ca671e2d2": {
          "model_module": "@jupyter-widgets/controls",
          "model_name": "HTMLModel",
          "model_module_version": "1.5.0",
          "state": {
            "_dom_classes": [],
            "_model_module": "@jupyter-widgets/controls",
            "_model_module_version": "1.5.0",
            "_model_name": "HTMLModel",
            "_view_count": null,
            "_view_module": "@jupyter-widgets/controls",
            "_view_module_version": "1.5.0",
            "_view_name": "HTMLView",
            "description": "",
            "description_tooltip": null,
            "layout": "IPY_MODEL_b97b981e8fec4c5cbad29761fa0d810c",
            "placeholder": "​",
            "style": "IPY_MODEL_c22f188d663e4ebe803593197f04acd1",
            "value": "100%"
          }
        },
        "1d1b6f6b2b3e404bb7a2f34ddd191f83": {
          "model_module": "@jupyter-widgets/controls",
          "model_name": "FloatProgressModel",
          "model_module_version": "1.5.0",
          "state": {
            "_dom_classes": [],
            "_model_module": "@jupyter-widgets/controls",
            "_model_module_version": "1.5.0",
            "_model_name": "FloatProgressModel",
            "_view_count": null,
            "_view_module": "@jupyter-widgets/controls",
            "_view_module_version": "1.5.0",
            "_view_name": "ProgressView",
            "bar_style": "success",
            "description": "",
            "description_tooltip": null,
            "layout": "IPY_MODEL_50dc2912dc824fc8bf210430f768ab3c",
            "max": 1200,
            "min": 0,
            "orientation": "horizontal",
            "style": "IPY_MODEL_d4a625510e4c4582a71c5e7e17a4fd85",
            "value": 1200
          }
        },
        "a3f28fbe92af41f8b720bc88e4848750": {
          "model_module": "@jupyter-widgets/controls",
          "model_name": "HTMLModel",
          "model_module_version": "1.5.0",
          "state": {
            "_dom_classes": [],
            "_model_module": "@jupyter-widgets/controls",
            "_model_module_version": "1.5.0",
            "_model_name": "HTMLModel",
            "_view_count": null,
            "_view_module": "@jupyter-widgets/controls",
            "_view_module_version": "1.5.0",
            "_view_name": "HTMLView",
            "description": "",
            "description_tooltip": null,
            "layout": "IPY_MODEL_7f90f32c111d4c8980ab2f82f68bccfa",
            "placeholder": "​",
            "style": "IPY_MODEL_0951fb4ec35344468508db3f40152020",
            "value": " 1200/1200 [00:00&lt;00:00, 40508.37it/s]"
          }
        },
        "3853af4856b44c388f6054cc6cebb401": {
          "model_module": "@jupyter-widgets/base",
          "model_name": "LayoutModel",
          "model_module_version": "1.2.0",
          "state": {
            "_model_module": "@jupyter-widgets/base",
            "_model_module_version": "1.2.0",
            "_model_name": "LayoutModel",
            "_view_count": null,
            "_view_module": "@jupyter-widgets/base",
            "_view_module_version": "1.2.0",
            "_view_name": "LayoutView",
            "align_content": null,
            "align_items": null,
            "align_self": null,
            "border": null,
            "bottom": null,
            "display": null,
            "flex": null,
            "flex_flow": null,
            "grid_area": null,
            "grid_auto_columns": null,
            "grid_auto_flow": null,
            "grid_auto_rows": null,
            "grid_column": null,
            "grid_gap": null,
            "grid_row": null,
            "grid_template_areas": null,
            "grid_template_columns": null,
            "grid_template_rows": null,
            "height": null,
            "justify_content": null,
            "justify_items": null,
            "left": null,
            "margin": null,
            "max_height": null,
            "max_width": null,
            "min_height": null,
            "min_width": null,
            "object_fit": null,
            "object_position": null,
            "order": null,
            "overflow": null,
            "overflow_x": null,
            "overflow_y": null,
            "padding": null,
            "right": null,
            "top": null,
            "visibility": null,
            "width": null
          }
        },
        "b97b981e8fec4c5cbad29761fa0d810c": {
          "model_module": "@jupyter-widgets/base",
          "model_name": "LayoutModel",
          "model_module_version": "1.2.0",
          "state": {
            "_model_module": "@jupyter-widgets/base",
            "_model_module_version": "1.2.0",
            "_model_name": "LayoutModel",
            "_view_count": null,
            "_view_module": "@jupyter-widgets/base",
            "_view_module_version": "1.2.0",
            "_view_name": "LayoutView",
            "align_content": null,
            "align_items": null,
            "align_self": null,
            "border": null,
            "bottom": null,
            "display": null,
            "flex": null,
            "flex_flow": null,
            "grid_area": null,
            "grid_auto_columns": null,
            "grid_auto_flow": null,
            "grid_auto_rows": null,
            "grid_column": null,
            "grid_gap": null,
            "grid_row": null,
            "grid_template_areas": null,
            "grid_template_columns": null,
            "grid_template_rows": null,
            "height": null,
            "justify_content": null,
            "justify_items": null,
            "left": null,
            "margin": null,
            "max_height": null,
            "max_width": null,
            "min_height": null,
            "min_width": null,
            "object_fit": null,
            "object_position": null,
            "order": null,
            "overflow": null,
            "overflow_x": null,
            "overflow_y": null,
            "padding": null,
            "right": null,
            "top": null,
            "visibility": null,
            "width": null
          }
        },
        "c22f188d663e4ebe803593197f04acd1": {
          "model_module": "@jupyter-widgets/controls",
          "model_name": "DescriptionStyleModel",
          "model_module_version": "1.5.0",
          "state": {
            "_model_module": "@jupyter-widgets/controls",
            "_model_module_version": "1.5.0",
            "_model_name": "DescriptionStyleModel",
            "_view_count": null,
            "_view_module": "@jupyter-widgets/base",
            "_view_module_version": "1.2.0",
            "_view_name": "StyleView",
            "description_width": ""
          }
        },
        "50dc2912dc824fc8bf210430f768ab3c": {
          "model_module": "@jupyter-widgets/base",
          "model_name": "LayoutModel",
          "model_module_version": "1.2.0",
          "state": {
            "_model_module": "@jupyter-widgets/base",
            "_model_module_version": "1.2.0",
            "_model_name": "LayoutModel",
            "_view_count": null,
            "_view_module": "@jupyter-widgets/base",
            "_view_module_version": "1.2.0",
            "_view_name": "LayoutView",
            "align_content": null,
            "align_items": null,
            "align_self": null,
            "border": null,
            "bottom": null,
            "display": null,
            "flex": null,
            "flex_flow": null,
            "grid_area": null,
            "grid_auto_columns": null,
            "grid_auto_flow": null,
            "grid_auto_rows": null,
            "grid_column": null,
            "grid_gap": null,
            "grid_row": null,
            "grid_template_areas": null,
            "grid_template_columns": null,
            "grid_template_rows": null,
            "height": null,
            "justify_content": null,
            "justify_items": null,
            "left": null,
            "margin": null,
            "max_height": null,
            "max_width": null,
            "min_height": null,
            "min_width": null,
            "object_fit": null,
            "object_position": null,
            "order": null,
            "overflow": null,
            "overflow_x": null,
            "overflow_y": null,
            "padding": null,
            "right": null,
            "top": null,
            "visibility": null,
            "width": null
          }
        },
        "d4a625510e4c4582a71c5e7e17a4fd85": {
          "model_module": "@jupyter-widgets/controls",
          "model_name": "ProgressStyleModel",
          "model_module_version": "1.5.0",
          "state": {
            "_model_module": "@jupyter-widgets/controls",
            "_model_module_version": "1.5.0",
            "_model_name": "ProgressStyleModel",
            "_view_count": null,
            "_view_module": "@jupyter-widgets/base",
            "_view_module_version": "1.2.0",
            "_view_name": "StyleView",
            "bar_color": null,
            "description_width": ""
          }
        },
        "7f90f32c111d4c8980ab2f82f68bccfa": {
          "model_module": "@jupyter-widgets/base",
          "model_name": "LayoutModel",
          "model_module_version": "1.2.0",
          "state": {
            "_model_module": "@jupyter-widgets/base",
            "_model_module_version": "1.2.0",
            "_model_name": "LayoutModel",
            "_view_count": null,
            "_view_module": "@jupyter-widgets/base",
            "_view_module_version": "1.2.0",
            "_view_name": "LayoutView",
            "align_content": null,
            "align_items": null,
            "align_self": null,
            "border": null,
            "bottom": null,
            "display": null,
            "flex": null,
            "flex_flow": null,
            "grid_area": null,
            "grid_auto_columns": null,
            "grid_auto_flow": null,
            "grid_auto_rows": null,
            "grid_column": null,
            "grid_gap": null,
            "grid_row": null,
            "grid_template_areas": null,
            "grid_template_columns": null,
            "grid_template_rows": null,
            "height": null,
            "justify_content": null,
            "justify_items": null,
            "left": null,
            "margin": null,
            "max_height": null,
            "max_width": null,
            "min_height": null,
            "min_width": null,
            "object_fit": null,
            "object_position": null,
            "order": null,
            "overflow": null,
            "overflow_x": null,
            "overflow_y": null,
            "padding": null,
            "right": null,
            "top": null,
            "visibility": null,
            "width": null
          }
        },
        "0951fb4ec35344468508db3f40152020": {
          "model_module": "@jupyter-widgets/controls",
          "model_name": "DescriptionStyleModel",
          "model_module_version": "1.5.0",
          "state": {
            "_model_module": "@jupyter-widgets/controls",
            "_model_module_version": "1.5.0",
            "_model_name": "DescriptionStyleModel",
            "_view_count": null,
            "_view_module": "@jupyter-widgets/base",
            "_view_module_version": "1.2.0",
            "_view_name": "StyleView",
            "description_width": ""
          }
        },
        "59fd54d084ee4c3e82fb88bc14d0cd49": {
          "model_module": "@jupyter-widgets/controls",
          "model_name": "HBoxModel",
          "model_module_version": "1.5.0",
          "state": {
            "_dom_classes": [],
            "_model_module": "@jupyter-widgets/controls",
            "_model_module_version": "1.5.0",
            "_model_name": "HBoxModel",
            "_view_count": null,
            "_view_module": "@jupyter-widgets/controls",
            "_view_module_version": "1.5.0",
            "_view_name": "HBoxView",
            "box_style": "",
            "children": [
              "IPY_MODEL_b6fcb5efe4ec4cbdbaaa432b0965c36f",
              "IPY_MODEL_7bdc7ff5084b44b2a9b65b544421ea4c",
              "IPY_MODEL_48fad29df6644bc4b1f5e327bd45a723"
            ],
            "layout": "IPY_MODEL_9a5b2e95122048b38f3ffec9a3a971f4"
          }
        },
        "b6fcb5efe4ec4cbdbaaa432b0965c36f": {
          "model_module": "@jupyter-widgets/controls",
          "model_name": "HTMLModel",
          "model_module_version": "1.5.0",
          "state": {
            "_dom_classes": [],
            "_model_module": "@jupyter-widgets/controls",
            "_model_module_version": "1.5.0",
            "_model_name": "HTMLModel",
            "_view_count": null,
            "_view_module": "@jupyter-widgets/controls",
            "_view_module_version": "1.5.0",
            "_view_name": "HTMLView",
            "description": "",
            "description_tooltip": null,
            "layout": "IPY_MODEL_f9a10cd77fb3439a845d001c56f5d002",
            "placeholder": "​",
            "style": "IPY_MODEL_eccf891f125148c4ae03955437cc3878",
            "value": "Downloading (…)okenizer_config.json: 100%"
          }
        },
        "7bdc7ff5084b44b2a9b65b544421ea4c": {
          "model_module": "@jupyter-widgets/controls",
          "model_name": "FloatProgressModel",
          "model_module_version": "1.5.0",
          "state": {
            "_dom_classes": [],
            "_model_module": "@jupyter-widgets/controls",
            "_model_module_version": "1.5.0",
            "_model_name": "FloatProgressModel",
            "_view_count": null,
            "_view_module": "@jupyter-widgets/controls",
            "_view_module_version": "1.5.0",
            "_view_name": "ProgressView",
            "bar_style": "success",
            "description": "",
            "description_tooltip": null,
            "layout": "IPY_MODEL_4cff49227e124b9eb2e1a0a0e3503efc",
            "max": 29,
            "min": 0,
            "orientation": "horizontal",
            "style": "IPY_MODEL_994e4fcb47a04c7bbe543af8ad314cab",
            "value": 29
          }
        },
        "48fad29df6644bc4b1f5e327bd45a723": {
          "model_module": "@jupyter-widgets/controls",
          "model_name": "HTMLModel",
          "model_module_version": "1.5.0",
          "state": {
            "_dom_classes": [],
            "_model_module": "@jupyter-widgets/controls",
            "_model_module_version": "1.5.0",
            "_model_name": "HTMLModel",
            "_view_count": null,
            "_view_module": "@jupyter-widgets/controls",
            "_view_module_version": "1.5.0",
            "_view_name": "HTMLView",
            "description": "",
            "description_tooltip": null,
            "layout": "IPY_MODEL_230930a3d5f8431187bcaf7457f344a2",
            "placeholder": "​",
            "style": "IPY_MODEL_4f757d71fadb4671b2e1e038533800d3",
            "value": " 29.0/29.0 [00:00&lt;00:00, 1.36kB/s]"
          }
        },
        "9a5b2e95122048b38f3ffec9a3a971f4": {
          "model_module": "@jupyter-widgets/base",
          "model_name": "LayoutModel",
          "model_module_version": "1.2.0",
          "state": {
            "_model_module": "@jupyter-widgets/base",
            "_model_module_version": "1.2.0",
            "_model_name": "LayoutModel",
            "_view_count": null,
            "_view_module": "@jupyter-widgets/base",
            "_view_module_version": "1.2.0",
            "_view_name": "LayoutView",
            "align_content": null,
            "align_items": null,
            "align_self": null,
            "border": null,
            "bottom": null,
            "display": null,
            "flex": null,
            "flex_flow": null,
            "grid_area": null,
            "grid_auto_columns": null,
            "grid_auto_flow": null,
            "grid_auto_rows": null,
            "grid_column": null,
            "grid_gap": null,
            "grid_row": null,
            "grid_template_areas": null,
            "grid_template_columns": null,
            "grid_template_rows": null,
            "height": null,
            "justify_content": null,
            "justify_items": null,
            "left": null,
            "margin": null,
            "max_height": null,
            "max_width": null,
            "min_height": null,
            "min_width": null,
            "object_fit": null,
            "object_position": null,
            "order": null,
            "overflow": null,
            "overflow_x": null,
            "overflow_y": null,
            "padding": null,
            "right": null,
            "top": null,
            "visibility": null,
            "width": null
          }
        },
        "f9a10cd77fb3439a845d001c56f5d002": {
          "model_module": "@jupyter-widgets/base",
          "model_name": "LayoutModel",
          "model_module_version": "1.2.0",
          "state": {
            "_model_module": "@jupyter-widgets/base",
            "_model_module_version": "1.2.0",
            "_model_name": "LayoutModel",
            "_view_count": null,
            "_view_module": "@jupyter-widgets/base",
            "_view_module_version": "1.2.0",
            "_view_name": "LayoutView",
            "align_content": null,
            "align_items": null,
            "align_self": null,
            "border": null,
            "bottom": null,
            "display": null,
            "flex": null,
            "flex_flow": null,
            "grid_area": null,
            "grid_auto_columns": null,
            "grid_auto_flow": null,
            "grid_auto_rows": null,
            "grid_column": null,
            "grid_gap": null,
            "grid_row": null,
            "grid_template_areas": null,
            "grid_template_columns": null,
            "grid_template_rows": null,
            "height": null,
            "justify_content": null,
            "justify_items": null,
            "left": null,
            "margin": null,
            "max_height": null,
            "max_width": null,
            "min_height": null,
            "min_width": null,
            "object_fit": null,
            "object_position": null,
            "order": null,
            "overflow": null,
            "overflow_x": null,
            "overflow_y": null,
            "padding": null,
            "right": null,
            "top": null,
            "visibility": null,
            "width": null
          }
        },
        "eccf891f125148c4ae03955437cc3878": {
          "model_module": "@jupyter-widgets/controls",
          "model_name": "DescriptionStyleModel",
          "model_module_version": "1.5.0",
          "state": {
            "_model_module": "@jupyter-widgets/controls",
            "_model_module_version": "1.5.0",
            "_model_name": "DescriptionStyleModel",
            "_view_count": null,
            "_view_module": "@jupyter-widgets/base",
            "_view_module_version": "1.2.0",
            "_view_name": "StyleView",
            "description_width": ""
          }
        },
        "4cff49227e124b9eb2e1a0a0e3503efc": {
          "model_module": "@jupyter-widgets/base",
          "model_name": "LayoutModel",
          "model_module_version": "1.2.0",
          "state": {
            "_model_module": "@jupyter-widgets/base",
            "_model_module_version": "1.2.0",
            "_model_name": "LayoutModel",
            "_view_count": null,
            "_view_module": "@jupyter-widgets/base",
            "_view_module_version": "1.2.0",
            "_view_name": "LayoutView",
            "align_content": null,
            "align_items": null,
            "align_self": null,
            "border": null,
            "bottom": null,
            "display": null,
            "flex": null,
            "flex_flow": null,
            "grid_area": null,
            "grid_auto_columns": null,
            "grid_auto_flow": null,
            "grid_auto_rows": null,
            "grid_column": null,
            "grid_gap": null,
            "grid_row": null,
            "grid_template_areas": null,
            "grid_template_columns": null,
            "grid_template_rows": null,
            "height": null,
            "justify_content": null,
            "justify_items": null,
            "left": null,
            "margin": null,
            "max_height": null,
            "max_width": null,
            "min_height": null,
            "min_width": null,
            "object_fit": null,
            "object_position": null,
            "order": null,
            "overflow": null,
            "overflow_x": null,
            "overflow_y": null,
            "padding": null,
            "right": null,
            "top": null,
            "visibility": null,
            "width": null
          }
        },
        "994e4fcb47a04c7bbe543af8ad314cab": {
          "model_module": "@jupyter-widgets/controls",
          "model_name": "ProgressStyleModel",
          "model_module_version": "1.5.0",
          "state": {
            "_model_module": "@jupyter-widgets/controls",
            "_model_module_version": "1.5.0",
            "_model_name": "ProgressStyleModel",
            "_view_count": null,
            "_view_module": "@jupyter-widgets/base",
            "_view_module_version": "1.2.0",
            "_view_name": "StyleView",
            "bar_color": null,
            "description_width": ""
          }
        },
        "230930a3d5f8431187bcaf7457f344a2": {
          "model_module": "@jupyter-widgets/base",
          "model_name": "LayoutModel",
          "model_module_version": "1.2.0",
          "state": {
            "_model_module": "@jupyter-widgets/base",
            "_model_module_version": "1.2.0",
            "_model_name": "LayoutModel",
            "_view_count": null,
            "_view_module": "@jupyter-widgets/base",
            "_view_module_version": "1.2.0",
            "_view_name": "LayoutView",
            "align_content": null,
            "align_items": null,
            "align_self": null,
            "border": null,
            "bottom": null,
            "display": null,
            "flex": null,
            "flex_flow": null,
            "grid_area": null,
            "grid_auto_columns": null,
            "grid_auto_flow": null,
            "grid_auto_rows": null,
            "grid_column": null,
            "grid_gap": null,
            "grid_row": null,
            "grid_template_areas": null,
            "grid_template_columns": null,
            "grid_template_rows": null,
            "height": null,
            "justify_content": null,
            "justify_items": null,
            "left": null,
            "margin": null,
            "max_height": null,
            "max_width": null,
            "min_height": null,
            "min_width": null,
            "object_fit": null,
            "object_position": null,
            "order": null,
            "overflow": null,
            "overflow_x": null,
            "overflow_y": null,
            "padding": null,
            "right": null,
            "top": null,
            "visibility": null,
            "width": null
          }
        },
        "4f757d71fadb4671b2e1e038533800d3": {
          "model_module": "@jupyter-widgets/controls",
          "model_name": "DescriptionStyleModel",
          "model_module_version": "1.5.0",
          "state": {
            "_model_module": "@jupyter-widgets/controls",
            "_model_module_version": "1.5.0",
            "_model_name": "DescriptionStyleModel",
            "_view_count": null,
            "_view_module": "@jupyter-widgets/base",
            "_view_module_version": "1.2.0",
            "_view_name": "StyleView",
            "description_width": ""
          }
        },
        "13dadd2b15c947a48b5441e153b77510": {
          "model_module": "@jupyter-widgets/controls",
          "model_name": "HBoxModel",
          "model_module_version": "1.5.0",
          "state": {
            "_dom_classes": [],
            "_model_module": "@jupyter-widgets/controls",
            "_model_module_version": "1.5.0",
            "_model_name": "HBoxModel",
            "_view_count": null,
            "_view_module": "@jupyter-widgets/controls",
            "_view_module_version": "1.5.0",
            "_view_name": "HBoxView",
            "box_style": "",
            "children": [
              "IPY_MODEL_f3e35a83f4ab48a191643e8ea6be1c0c",
              "IPY_MODEL_5e068f083fd549328d127539f21df85e",
              "IPY_MODEL_d50ad9801fe84e7293147d66ee2d74b9"
            ],
            "layout": "IPY_MODEL_067febf55d734efdb067086e7a3afb43"
          }
        },
        "f3e35a83f4ab48a191643e8ea6be1c0c": {
          "model_module": "@jupyter-widgets/controls",
          "model_name": "HTMLModel",
          "model_module_version": "1.5.0",
          "state": {
            "_dom_classes": [],
            "_model_module": "@jupyter-widgets/controls",
            "_model_module_version": "1.5.0",
            "_model_name": "HTMLModel",
            "_view_count": null,
            "_view_module": "@jupyter-widgets/controls",
            "_view_module_version": "1.5.0",
            "_view_name": "HTMLView",
            "description": "",
            "description_tooltip": null,
            "layout": "IPY_MODEL_770178a63f794d5486cd2b39ac707de3",
            "placeholder": "​",
            "style": "IPY_MODEL_b44ffb5dd7f6400fad6b1a8ce53bacbc",
            "value": "Downloading (…)lve/main/config.json: 100%"
          }
        },
        "5e068f083fd549328d127539f21df85e": {
          "model_module": "@jupyter-widgets/controls",
          "model_name": "FloatProgressModel",
          "model_module_version": "1.5.0",
          "state": {
            "_dom_classes": [],
            "_model_module": "@jupyter-widgets/controls",
            "_model_module_version": "1.5.0",
            "_model_name": "FloatProgressModel",
            "_view_count": null,
            "_view_module": "@jupyter-widgets/controls",
            "_view_module_version": "1.5.0",
            "_view_name": "ProgressView",
            "bar_style": "success",
            "description": "",
            "description_tooltip": null,
            "layout": "IPY_MODEL_b4c375c128184f70a3422de553037d50",
            "max": 625,
            "min": 0,
            "orientation": "horizontal",
            "style": "IPY_MODEL_81ba67d9a50440e6a4002854367aa9a2",
            "value": 625
          }
        },
        "d50ad9801fe84e7293147d66ee2d74b9": {
          "model_module": "@jupyter-widgets/controls",
          "model_name": "HTMLModel",
          "model_module_version": "1.5.0",
          "state": {
            "_dom_classes": [],
            "_model_module": "@jupyter-widgets/controls",
            "_model_module_version": "1.5.0",
            "_model_name": "HTMLModel",
            "_view_count": null,
            "_view_module": "@jupyter-widgets/controls",
            "_view_module_version": "1.5.0",
            "_view_name": "HTMLView",
            "description": "",
            "description_tooltip": null,
            "layout": "IPY_MODEL_548ce1b82a844224b1c24871247e593c",
            "placeholder": "​",
            "style": "IPY_MODEL_52acdc565bf34b71a8281f46ec850a89",
            "value": " 625/625 [00:00&lt;00:00, 45.9kB/s]"
          }
        },
        "067febf55d734efdb067086e7a3afb43": {
          "model_module": "@jupyter-widgets/base",
          "model_name": "LayoutModel",
          "model_module_version": "1.2.0",
          "state": {
            "_model_module": "@jupyter-widgets/base",
            "_model_module_version": "1.2.0",
            "_model_name": "LayoutModel",
            "_view_count": null,
            "_view_module": "@jupyter-widgets/base",
            "_view_module_version": "1.2.0",
            "_view_name": "LayoutView",
            "align_content": null,
            "align_items": null,
            "align_self": null,
            "border": null,
            "bottom": null,
            "display": null,
            "flex": null,
            "flex_flow": null,
            "grid_area": null,
            "grid_auto_columns": null,
            "grid_auto_flow": null,
            "grid_auto_rows": null,
            "grid_column": null,
            "grid_gap": null,
            "grid_row": null,
            "grid_template_areas": null,
            "grid_template_columns": null,
            "grid_template_rows": null,
            "height": null,
            "justify_content": null,
            "justify_items": null,
            "left": null,
            "margin": null,
            "max_height": null,
            "max_width": null,
            "min_height": null,
            "min_width": null,
            "object_fit": null,
            "object_position": null,
            "order": null,
            "overflow": null,
            "overflow_x": null,
            "overflow_y": null,
            "padding": null,
            "right": null,
            "top": null,
            "visibility": null,
            "width": null
          }
        },
        "770178a63f794d5486cd2b39ac707de3": {
          "model_module": "@jupyter-widgets/base",
          "model_name": "LayoutModel",
          "model_module_version": "1.2.0",
          "state": {
            "_model_module": "@jupyter-widgets/base",
            "_model_module_version": "1.2.0",
            "_model_name": "LayoutModel",
            "_view_count": null,
            "_view_module": "@jupyter-widgets/base",
            "_view_module_version": "1.2.0",
            "_view_name": "LayoutView",
            "align_content": null,
            "align_items": null,
            "align_self": null,
            "border": null,
            "bottom": null,
            "display": null,
            "flex": null,
            "flex_flow": null,
            "grid_area": null,
            "grid_auto_columns": null,
            "grid_auto_flow": null,
            "grid_auto_rows": null,
            "grid_column": null,
            "grid_gap": null,
            "grid_row": null,
            "grid_template_areas": null,
            "grid_template_columns": null,
            "grid_template_rows": null,
            "height": null,
            "justify_content": null,
            "justify_items": null,
            "left": null,
            "margin": null,
            "max_height": null,
            "max_width": null,
            "min_height": null,
            "min_width": null,
            "object_fit": null,
            "object_position": null,
            "order": null,
            "overflow": null,
            "overflow_x": null,
            "overflow_y": null,
            "padding": null,
            "right": null,
            "top": null,
            "visibility": null,
            "width": null
          }
        },
        "b44ffb5dd7f6400fad6b1a8ce53bacbc": {
          "model_module": "@jupyter-widgets/controls",
          "model_name": "DescriptionStyleModel",
          "model_module_version": "1.5.0",
          "state": {
            "_model_module": "@jupyter-widgets/controls",
            "_model_module_version": "1.5.0",
            "_model_name": "DescriptionStyleModel",
            "_view_count": null,
            "_view_module": "@jupyter-widgets/base",
            "_view_module_version": "1.2.0",
            "_view_name": "StyleView",
            "description_width": ""
          }
        },
        "b4c375c128184f70a3422de553037d50": {
          "model_module": "@jupyter-widgets/base",
          "model_name": "LayoutModel",
          "model_module_version": "1.2.0",
          "state": {
            "_model_module": "@jupyter-widgets/base",
            "_model_module_version": "1.2.0",
            "_model_name": "LayoutModel",
            "_view_count": null,
            "_view_module": "@jupyter-widgets/base",
            "_view_module_version": "1.2.0",
            "_view_name": "LayoutView",
            "align_content": null,
            "align_items": null,
            "align_self": null,
            "border": null,
            "bottom": null,
            "display": null,
            "flex": null,
            "flex_flow": null,
            "grid_area": null,
            "grid_auto_columns": null,
            "grid_auto_flow": null,
            "grid_auto_rows": null,
            "grid_column": null,
            "grid_gap": null,
            "grid_row": null,
            "grid_template_areas": null,
            "grid_template_columns": null,
            "grid_template_rows": null,
            "height": null,
            "justify_content": null,
            "justify_items": null,
            "left": null,
            "margin": null,
            "max_height": null,
            "max_width": null,
            "min_height": null,
            "min_width": null,
            "object_fit": null,
            "object_position": null,
            "order": null,
            "overflow": null,
            "overflow_x": null,
            "overflow_y": null,
            "padding": null,
            "right": null,
            "top": null,
            "visibility": null,
            "width": null
          }
        },
        "81ba67d9a50440e6a4002854367aa9a2": {
          "model_module": "@jupyter-widgets/controls",
          "model_name": "ProgressStyleModel",
          "model_module_version": "1.5.0",
          "state": {
            "_model_module": "@jupyter-widgets/controls",
            "_model_module_version": "1.5.0",
            "_model_name": "ProgressStyleModel",
            "_view_count": null,
            "_view_module": "@jupyter-widgets/base",
            "_view_module_version": "1.2.0",
            "_view_name": "StyleView",
            "bar_color": null,
            "description_width": ""
          }
        },
        "548ce1b82a844224b1c24871247e593c": {
          "model_module": "@jupyter-widgets/base",
          "model_name": "LayoutModel",
          "model_module_version": "1.2.0",
          "state": {
            "_model_module": "@jupyter-widgets/base",
            "_model_module_version": "1.2.0",
            "_model_name": "LayoutModel",
            "_view_count": null,
            "_view_module": "@jupyter-widgets/base",
            "_view_module_version": "1.2.0",
            "_view_name": "LayoutView",
            "align_content": null,
            "align_items": null,
            "align_self": null,
            "border": null,
            "bottom": null,
            "display": null,
            "flex": null,
            "flex_flow": null,
            "grid_area": null,
            "grid_auto_columns": null,
            "grid_auto_flow": null,
            "grid_auto_rows": null,
            "grid_column": null,
            "grid_gap": null,
            "grid_row": null,
            "grid_template_areas": null,
            "grid_template_columns": null,
            "grid_template_rows": null,
            "height": null,
            "justify_content": null,
            "justify_items": null,
            "left": null,
            "margin": null,
            "max_height": null,
            "max_width": null,
            "min_height": null,
            "min_width": null,
            "object_fit": null,
            "object_position": null,
            "order": null,
            "overflow": null,
            "overflow_x": null,
            "overflow_y": null,
            "padding": null,
            "right": null,
            "top": null,
            "visibility": null,
            "width": null
          }
        },
        "52acdc565bf34b71a8281f46ec850a89": {
          "model_module": "@jupyter-widgets/controls",
          "model_name": "DescriptionStyleModel",
          "model_module_version": "1.5.0",
          "state": {
            "_model_module": "@jupyter-widgets/controls",
            "_model_module_version": "1.5.0",
            "_model_name": "DescriptionStyleModel",
            "_view_count": null,
            "_view_module": "@jupyter-widgets/base",
            "_view_module_version": "1.2.0",
            "_view_name": "StyleView",
            "description_width": ""
          }
        },
        "c16a2d0bc1aa47b1b0b32e115e7a2816": {
          "model_module": "@jupyter-widgets/controls",
          "model_name": "HBoxModel",
          "model_module_version": "1.5.0",
          "state": {
            "_dom_classes": [],
            "_model_module": "@jupyter-widgets/controls",
            "_model_module_version": "1.5.0",
            "_model_name": "HBoxModel",
            "_view_count": null,
            "_view_module": "@jupyter-widgets/controls",
            "_view_module_version": "1.5.0",
            "_view_name": "HBoxView",
            "box_style": "",
            "children": [
              "IPY_MODEL_490d5d63b55444da901294b0c27c054c",
              "IPY_MODEL_a8143a9063eb4ed385cfc64fb13a7f2f",
              "IPY_MODEL_b2d572b2a65b4198a7e6849fce2fd3e4"
            ],
            "layout": "IPY_MODEL_069e17f5fabe423d8ad7df6b6261359d"
          }
        },
        "490d5d63b55444da901294b0c27c054c": {
          "model_module": "@jupyter-widgets/controls",
          "model_name": "HTMLModel",
          "model_module_version": "1.5.0",
          "state": {
            "_dom_classes": [],
            "_model_module": "@jupyter-widgets/controls",
            "_model_module_version": "1.5.0",
            "_model_name": "HTMLModel",
            "_view_count": null,
            "_view_module": "@jupyter-widgets/controls",
            "_view_module_version": "1.5.0",
            "_view_name": "HTMLView",
            "description": "",
            "description_tooltip": null,
            "layout": "IPY_MODEL_6f81b3767d204da18649f34aef23d653",
            "placeholder": "​",
            "style": "IPY_MODEL_2963e7c672874861bbaa9d4765f8508a",
            "value": "Downloading (…)solve/main/vocab.txt: 100%"
          }
        },
        "a8143a9063eb4ed385cfc64fb13a7f2f": {
          "model_module": "@jupyter-widgets/controls",
          "model_name": "FloatProgressModel",
          "model_module_version": "1.5.0",
          "state": {
            "_dom_classes": [],
            "_model_module": "@jupyter-widgets/controls",
            "_model_module_version": "1.5.0",
            "_model_name": "FloatProgressModel",
            "_view_count": null,
            "_view_module": "@jupyter-widgets/controls",
            "_view_module_version": "1.5.0",
            "_view_name": "ProgressView",
            "bar_style": "success",
            "description": "",
            "description_tooltip": null,
            "layout": "IPY_MODEL_e7fdb8eb4f094b8c9826b6732910f336",
            "max": 995526,
            "min": 0,
            "orientation": "horizontal",
            "style": "IPY_MODEL_8eb8a1136de4485bac05555f2dac4e87",
            "value": 995526
          }
        },
        "b2d572b2a65b4198a7e6849fce2fd3e4": {
          "model_module": "@jupyter-widgets/controls",
          "model_name": "HTMLModel",
          "model_module_version": "1.5.0",
          "state": {
            "_dom_classes": [],
            "_model_module": "@jupyter-widgets/controls",
            "_model_module_version": "1.5.0",
            "_model_name": "HTMLModel",
            "_view_count": null,
            "_view_module": "@jupyter-widgets/controls",
            "_view_module_version": "1.5.0",
            "_view_name": "HTMLView",
            "description": "",
            "description_tooltip": null,
            "layout": "IPY_MODEL_6f29680ecd834a499655b07491feaaff",
            "placeholder": "​",
            "style": "IPY_MODEL_8bf3774610ee432dae6cc58665e5e9c2",
            "value": " 996k/996k [00:00&lt;00:00, 14.4MB/s]"
          }
        },
        "069e17f5fabe423d8ad7df6b6261359d": {
          "model_module": "@jupyter-widgets/base",
          "model_name": "LayoutModel",
          "model_module_version": "1.2.0",
          "state": {
            "_model_module": "@jupyter-widgets/base",
            "_model_module_version": "1.2.0",
            "_model_name": "LayoutModel",
            "_view_count": null,
            "_view_module": "@jupyter-widgets/base",
            "_view_module_version": "1.2.0",
            "_view_name": "LayoutView",
            "align_content": null,
            "align_items": null,
            "align_self": null,
            "border": null,
            "bottom": null,
            "display": null,
            "flex": null,
            "flex_flow": null,
            "grid_area": null,
            "grid_auto_columns": null,
            "grid_auto_flow": null,
            "grid_auto_rows": null,
            "grid_column": null,
            "grid_gap": null,
            "grid_row": null,
            "grid_template_areas": null,
            "grid_template_columns": null,
            "grid_template_rows": null,
            "height": null,
            "justify_content": null,
            "justify_items": null,
            "left": null,
            "margin": null,
            "max_height": null,
            "max_width": null,
            "min_height": null,
            "min_width": null,
            "object_fit": null,
            "object_position": null,
            "order": null,
            "overflow": null,
            "overflow_x": null,
            "overflow_y": null,
            "padding": null,
            "right": null,
            "top": null,
            "visibility": null,
            "width": null
          }
        },
        "6f81b3767d204da18649f34aef23d653": {
          "model_module": "@jupyter-widgets/base",
          "model_name": "LayoutModel",
          "model_module_version": "1.2.0",
          "state": {
            "_model_module": "@jupyter-widgets/base",
            "_model_module_version": "1.2.0",
            "_model_name": "LayoutModel",
            "_view_count": null,
            "_view_module": "@jupyter-widgets/base",
            "_view_module_version": "1.2.0",
            "_view_name": "LayoutView",
            "align_content": null,
            "align_items": null,
            "align_self": null,
            "border": null,
            "bottom": null,
            "display": null,
            "flex": null,
            "flex_flow": null,
            "grid_area": null,
            "grid_auto_columns": null,
            "grid_auto_flow": null,
            "grid_auto_rows": null,
            "grid_column": null,
            "grid_gap": null,
            "grid_row": null,
            "grid_template_areas": null,
            "grid_template_columns": null,
            "grid_template_rows": null,
            "height": null,
            "justify_content": null,
            "justify_items": null,
            "left": null,
            "margin": null,
            "max_height": null,
            "max_width": null,
            "min_height": null,
            "min_width": null,
            "object_fit": null,
            "object_position": null,
            "order": null,
            "overflow": null,
            "overflow_x": null,
            "overflow_y": null,
            "padding": null,
            "right": null,
            "top": null,
            "visibility": null,
            "width": null
          }
        },
        "2963e7c672874861bbaa9d4765f8508a": {
          "model_module": "@jupyter-widgets/controls",
          "model_name": "DescriptionStyleModel",
          "model_module_version": "1.5.0",
          "state": {
            "_model_module": "@jupyter-widgets/controls",
            "_model_module_version": "1.5.0",
            "_model_name": "DescriptionStyleModel",
            "_view_count": null,
            "_view_module": "@jupyter-widgets/base",
            "_view_module_version": "1.2.0",
            "_view_name": "StyleView",
            "description_width": ""
          }
        },
        "e7fdb8eb4f094b8c9826b6732910f336": {
          "model_module": "@jupyter-widgets/base",
          "model_name": "LayoutModel",
          "model_module_version": "1.2.0",
          "state": {
            "_model_module": "@jupyter-widgets/base",
            "_model_module_version": "1.2.0",
            "_model_name": "LayoutModel",
            "_view_count": null,
            "_view_module": "@jupyter-widgets/base",
            "_view_module_version": "1.2.0",
            "_view_name": "LayoutView",
            "align_content": null,
            "align_items": null,
            "align_self": null,
            "border": null,
            "bottom": null,
            "display": null,
            "flex": null,
            "flex_flow": null,
            "grid_area": null,
            "grid_auto_columns": null,
            "grid_auto_flow": null,
            "grid_auto_rows": null,
            "grid_column": null,
            "grid_gap": null,
            "grid_row": null,
            "grid_template_areas": null,
            "grid_template_columns": null,
            "grid_template_rows": null,
            "height": null,
            "justify_content": null,
            "justify_items": null,
            "left": null,
            "margin": null,
            "max_height": null,
            "max_width": null,
            "min_height": null,
            "min_width": null,
            "object_fit": null,
            "object_position": null,
            "order": null,
            "overflow": null,
            "overflow_x": null,
            "overflow_y": null,
            "padding": null,
            "right": null,
            "top": null,
            "visibility": null,
            "width": null
          }
        },
        "8eb8a1136de4485bac05555f2dac4e87": {
          "model_module": "@jupyter-widgets/controls",
          "model_name": "ProgressStyleModel",
          "model_module_version": "1.5.0",
          "state": {
            "_model_module": "@jupyter-widgets/controls",
            "_model_module_version": "1.5.0",
            "_model_name": "ProgressStyleModel",
            "_view_count": null,
            "_view_module": "@jupyter-widgets/base",
            "_view_module_version": "1.2.0",
            "_view_name": "StyleView",
            "bar_color": null,
            "description_width": ""
          }
        },
        "6f29680ecd834a499655b07491feaaff": {
          "model_module": "@jupyter-widgets/base",
          "model_name": "LayoutModel",
          "model_module_version": "1.2.0",
          "state": {
            "_model_module": "@jupyter-widgets/base",
            "_model_module_version": "1.2.0",
            "_model_name": "LayoutModel",
            "_view_count": null,
            "_view_module": "@jupyter-widgets/base",
            "_view_module_version": "1.2.0",
            "_view_name": "LayoutView",
            "align_content": null,
            "align_items": null,
            "align_self": null,
            "border": null,
            "bottom": null,
            "display": null,
            "flex": null,
            "flex_flow": null,
            "grid_area": null,
            "grid_auto_columns": null,
            "grid_auto_flow": null,
            "grid_auto_rows": null,
            "grid_column": null,
            "grid_gap": null,
            "grid_row": null,
            "grid_template_areas": null,
            "grid_template_columns": null,
            "grid_template_rows": null,
            "height": null,
            "justify_content": null,
            "justify_items": null,
            "left": null,
            "margin": null,
            "max_height": null,
            "max_width": null,
            "min_height": null,
            "min_width": null,
            "object_fit": null,
            "object_position": null,
            "order": null,
            "overflow": null,
            "overflow_x": null,
            "overflow_y": null,
            "padding": null,
            "right": null,
            "top": null,
            "visibility": null,
            "width": null
          }
        },
        "8bf3774610ee432dae6cc58665e5e9c2": {
          "model_module": "@jupyter-widgets/controls",
          "model_name": "DescriptionStyleModel",
          "model_module_version": "1.5.0",
          "state": {
            "_model_module": "@jupyter-widgets/controls",
            "_model_module_version": "1.5.0",
            "_model_name": "DescriptionStyleModel",
            "_view_count": null,
            "_view_module": "@jupyter-widgets/base",
            "_view_module_version": "1.2.0",
            "_view_name": "StyleView",
            "description_width": ""
          }
        },
        "5d888676e917493fa7340abed1bdfc92": {
          "model_module": "@jupyter-widgets/controls",
          "model_name": "HBoxModel",
          "model_module_version": "1.5.0",
          "state": {
            "_dom_classes": [],
            "_model_module": "@jupyter-widgets/controls",
            "_model_module_version": "1.5.0",
            "_model_name": "HBoxModel",
            "_view_count": null,
            "_view_module": "@jupyter-widgets/controls",
            "_view_module_version": "1.5.0",
            "_view_name": "HBoxView",
            "box_style": "",
            "children": [
              "IPY_MODEL_5bae253f14384cfe8d58f8c8fe2371c6",
              "IPY_MODEL_23e3a3c3a28d4397a6003fd6aaaeeed8",
              "IPY_MODEL_818ed0cf4361461da5eb116e2699209c"
            ],
            "layout": "IPY_MODEL_35e0aa5571a44f9e992d7aa5b1f69234"
          }
        },
        "5bae253f14384cfe8d58f8c8fe2371c6": {
          "model_module": "@jupyter-widgets/controls",
          "model_name": "HTMLModel",
          "model_module_version": "1.5.0",
          "state": {
            "_dom_classes": [],
            "_model_module": "@jupyter-widgets/controls",
            "_model_module_version": "1.5.0",
            "_model_name": "HTMLModel",
            "_view_count": null,
            "_view_module": "@jupyter-widgets/controls",
            "_view_module_version": "1.5.0",
            "_view_name": "HTMLView",
            "description": "",
            "description_tooltip": null,
            "layout": "IPY_MODEL_55697925987b46f7a005381173979419",
            "placeholder": "​",
            "style": "IPY_MODEL_f1a187e4b26b4a9dbccec16fae7d0667",
            "value": "Downloading (…)/main/tokenizer.json: 100%"
          }
        },
        "23e3a3c3a28d4397a6003fd6aaaeeed8": {
          "model_module": "@jupyter-widgets/controls",
          "model_name": "FloatProgressModel",
          "model_module_version": "1.5.0",
          "state": {
            "_dom_classes": [],
            "_model_module": "@jupyter-widgets/controls",
            "_model_module_version": "1.5.0",
            "_model_name": "FloatProgressModel",
            "_view_count": null,
            "_view_module": "@jupyter-widgets/controls",
            "_view_module_version": "1.5.0",
            "_view_name": "ProgressView",
            "bar_style": "success",
            "description": "",
            "description_tooltip": null,
            "layout": "IPY_MODEL_a628d6fdc4184d6a9ea09a74cd81fe91",
            "max": 1961828,
            "min": 0,
            "orientation": "horizontal",
            "style": "IPY_MODEL_fdc85c155cd0474eb2c8eee662d5ba7d",
            "value": 1961828
          }
        },
        "818ed0cf4361461da5eb116e2699209c": {
          "model_module": "@jupyter-widgets/controls",
          "model_name": "HTMLModel",
          "model_module_version": "1.5.0",
          "state": {
            "_dom_classes": [],
            "_model_module": "@jupyter-widgets/controls",
            "_model_module_version": "1.5.0",
            "_model_name": "HTMLModel",
            "_view_count": null,
            "_view_module": "@jupyter-widgets/controls",
            "_view_module_version": "1.5.0",
            "_view_name": "HTMLView",
            "description": "",
            "description_tooltip": null,
            "layout": "IPY_MODEL_cefb3e7cca654bec9b23c6a4139ce9d6",
            "placeholder": "​",
            "style": "IPY_MODEL_87a69bc5a0954f0d9428b8eb60441f62",
            "value": " 1.96M/1.96M [00:00&lt;00:00, 6.51MB/s]"
          }
        },
        "35e0aa5571a44f9e992d7aa5b1f69234": {
          "model_module": "@jupyter-widgets/base",
          "model_name": "LayoutModel",
          "model_module_version": "1.2.0",
          "state": {
            "_model_module": "@jupyter-widgets/base",
            "_model_module_version": "1.2.0",
            "_model_name": "LayoutModel",
            "_view_count": null,
            "_view_module": "@jupyter-widgets/base",
            "_view_module_version": "1.2.0",
            "_view_name": "LayoutView",
            "align_content": null,
            "align_items": null,
            "align_self": null,
            "border": null,
            "bottom": null,
            "display": null,
            "flex": null,
            "flex_flow": null,
            "grid_area": null,
            "grid_auto_columns": null,
            "grid_auto_flow": null,
            "grid_auto_rows": null,
            "grid_column": null,
            "grid_gap": null,
            "grid_row": null,
            "grid_template_areas": null,
            "grid_template_columns": null,
            "grid_template_rows": null,
            "height": null,
            "justify_content": null,
            "justify_items": null,
            "left": null,
            "margin": null,
            "max_height": null,
            "max_width": null,
            "min_height": null,
            "min_width": null,
            "object_fit": null,
            "object_position": null,
            "order": null,
            "overflow": null,
            "overflow_x": null,
            "overflow_y": null,
            "padding": null,
            "right": null,
            "top": null,
            "visibility": null,
            "width": null
          }
        },
        "55697925987b46f7a005381173979419": {
          "model_module": "@jupyter-widgets/base",
          "model_name": "LayoutModel",
          "model_module_version": "1.2.0",
          "state": {
            "_model_module": "@jupyter-widgets/base",
            "_model_module_version": "1.2.0",
            "_model_name": "LayoutModel",
            "_view_count": null,
            "_view_module": "@jupyter-widgets/base",
            "_view_module_version": "1.2.0",
            "_view_name": "LayoutView",
            "align_content": null,
            "align_items": null,
            "align_self": null,
            "border": null,
            "bottom": null,
            "display": null,
            "flex": null,
            "flex_flow": null,
            "grid_area": null,
            "grid_auto_columns": null,
            "grid_auto_flow": null,
            "grid_auto_rows": null,
            "grid_column": null,
            "grid_gap": null,
            "grid_row": null,
            "grid_template_areas": null,
            "grid_template_columns": null,
            "grid_template_rows": null,
            "height": null,
            "justify_content": null,
            "justify_items": null,
            "left": null,
            "margin": null,
            "max_height": null,
            "max_width": null,
            "min_height": null,
            "min_width": null,
            "object_fit": null,
            "object_position": null,
            "order": null,
            "overflow": null,
            "overflow_x": null,
            "overflow_y": null,
            "padding": null,
            "right": null,
            "top": null,
            "visibility": null,
            "width": null
          }
        },
        "f1a187e4b26b4a9dbccec16fae7d0667": {
          "model_module": "@jupyter-widgets/controls",
          "model_name": "DescriptionStyleModel",
          "model_module_version": "1.5.0",
          "state": {
            "_model_module": "@jupyter-widgets/controls",
            "_model_module_version": "1.5.0",
            "_model_name": "DescriptionStyleModel",
            "_view_count": null,
            "_view_module": "@jupyter-widgets/base",
            "_view_module_version": "1.2.0",
            "_view_name": "StyleView",
            "description_width": ""
          }
        },
        "a628d6fdc4184d6a9ea09a74cd81fe91": {
          "model_module": "@jupyter-widgets/base",
          "model_name": "LayoutModel",
          "model_module_version": "1.2.0",
          "state": {
            "_model_module": "@jupyter-widgets/base",
            "_model_module_version": "1.2.0",
            "_model_name": "LayoutModel",
            "_view_count": null,
            "_view_module": "@jupyter-widgets/base",
            "_view_module_version": "1.2.0",
            "_view_name": "LayoutView",
            "align_content": null,
            "align_items": null,
            "align_self": null,
            "border": null,
            "bottom": null,
            "display": null,
            "flex": null,
            "flex_flow": null,
            "grid_area": null,
            "grid_auto_columns": null,
            "grid_auto_flow": null,
            "grid_auto_rows": null,
            "grid_column": null,
            "grid_gap": null,
            "grid_row": null,
            "grid_template_areas": null,
            "grid_template_columns": null,
            "grid_template_rows": null,
            "height": null,
            "justify_content": null,
            "justify_items": null,
            "left": null,
            "margin": null,
            "max_height": null,
            "max_width": null,
            "min_height": null,
            "min_width": null,
            "object_fit": null,
            "object_position": null,
            "order": null,
            "overflow": null,
            "overflow_x": null,
            "overflow_y": null,
            "padding": null,
            "right": null,
            "top": null,
            "visibility": null,
            "width": null
          }
        },
        "fdc85c155cd0474eb2c8eee662d5ba7d": {
          "model_module": "@jupyter-widgets/controls",
          "model_name": "ProgressStyleModel",
          "model_module_version": "1.5.0",
          "state": {
            "_model_module": "@jupyter-widgets/controls",
            "_model_module_version": "1.5.0",
            "_model_name": "ProgressStyleModel",
            "_view_count": null,
            "_view_module": "@jupyter-widgets/base",
            "_view_module_version": "1.2.0",
            "_view_name": "StyleView",
            "bar_color": null,
            "description_width": ""
          }
        },
        "cefb3e7cca654bec9b23c6a4139ce9d6": {
          "model_module": "@jupyter-widgets/base",
          "model_name": "LayoutModel",
          "model_module_version": "1.2.0",
          "state": {
            "_model_module": "@jupyter-widgets/base",
            "_model_module_version": "1.2.0",
            "_model_name": "LayoutModel",
            "_view_count": null,
            "_view_module": "@jupyter-widgets/base",
            "_view_module_version": "1.2.0",
            "_view_name": "LayoutView",
            "align_content": null,
            "align_items": null,
            "align_self": null,
            "border": null,
            "bottom": null,
            "display": null,
            "flex": null,
            "flex_flow": null,
            "grid_area": null,
            "grid_auto_columns": null,
            "grid_auto_flow": null,
            "grid_auto_rows": null,
            "grid_column": null,
            "grid_gap": null,
            "grid_row": null,
            "grid_template_areas": null,
            "grid_template_columns": null,
            "grid_template_rows": null,
            "height": null,
            "justify_content": null,
            "justify_items": null,
            "left": null,
            "margin": null,
            "max_height": null,
            "max_width": null,
            "min_height": null,
            "min_width": null,
            "object_fit": null,
            "object_position": null,
            "order": null,
            "overflow": null,
            "overflow_x": null,
            "overflow_y": null,
            "padding": null,
            "right": null,
            "top": null,
            "visibility": null,
            "width": null
          }
        },
        "87a69bc5a0954f0d9428b8eb60441f62": {
          "model_module": "@jupyter-widgets/controls",
          "model_name": "DescriptionStyleModel",
          "model_module_version": "1.5.0",
          "state": {
            "_model_module": "@jupyter-widgets/controls",
            "_model_module_version": "1.5.0",
            "_model_name": "DescriptionStyleModel",
            "_view_count": null,
            "_view_module": "@jupyter-widgets/base",
            "_view_module_version": "1.2.0",
            "_view_name": "StyleView",
            "description_width": ""
          }
        },
        "a43f3982ef5d4256963e61f6f9a36022": {
          "model_module": "@jupyter-widgets/controls",
          "model_name": "HBoxModel",
          "model_module_version": "1.5.0",
          "state": {
            "_dom_classes": [],
            "_model_module": "@jupyter-widgets/controls",
            "_model_module_version": "1.5.0",
            "_model_name": "HBoxModel",
            "_view_count": null,
            "_view_module": "@jupyter-widgets/controls",
            "_view_module_version": "1.5.0",
            "_view_name": "HBoxView",
            "box_style": "",
            "children": [
              "IPY_MODEL_2cfbef9ab01d4a87be54165a0c8a1c0d",
              "IPY_MODEL_35aa822e5de94c048c0d37be0c73cb63",
              "IPY_MODEL_a73c326d5ce94bacbabef884f6465ab4"
            ],
            "layout": "IPY_MODEL_174da07dc5b2432c9de28e9954d5e7ec"
          }
        },
        "2cfbef9ab01d4a87be54165a0c8a1c0d": {
          "model_module": "@jupyter-widgets/controls",
          "model_name": "HTMLModel",
          "model_module_version": "1.5.0",
          "state": {
            "_dom_classes": [],
            "_model_module": "@jupyter-widgets/controls",
            "_model_module_version": "1.5.0",
            "_model_name": "HTMLModel",
            "_view_count": null,
            "_view_module": "@jupyter-widgets/controls",
            "_view_module_version": "1.5.0",
            "_view_name": "HTMLView",
            "description": "",
            "description_tooltip": null,
            "layout": "IPY_MODEL_92e5da353a0545b7acb2019274daa340",
            "placeholder": "​",
            "style": "IPY_MODEL_e31a64f2977841c8b5f8763ec8b16dff",
            "value": "Downloading tf_model.h5: 100%"
          }
        },
        "35aa822e5de94c048c0d37be0c73cb63": {
          "model_module": "@jupyter-widgets/controls",
          "model_name": "FloatProgressModel",
          "model_module_version": "1.5.0",
          "state": {
            "_dom_classes": [],
            "_model_module": "@jupyter-widgets/controls",
            "_model_module_version": "1.5.0",
            "_model_name": "FloatProgressModel",
            "_view_count": null,
            "_view_module": "@jupyter-widgets/controls",
            "_view_module_version": "1.5.0",
            "_view_name": "ProgressView",
            "bar_style": "success",
            "description": "",
            "description_tooltip": null,
            "layout": "IPY_MODEL_569090543f4c4f6e827361d7528f461d",
            "max": 1083389348,
            "min": 0,
            "orientation": "horizontal",
            "style": "IPY_MODEL_2d5dce583fbb4c829e70ff5e0a7b0f98",
            "value": 1083389348
          }
        },
        "a73c326d5ce94bacbabef884f6465ab4": {
          "model_module": "@jupyter-widgets/controls",
          "model_name": "HTMLModel",
          "model_module_version": "1.5.0",
          "state": {
            "_dom_classes": [],
            "_model_module": "@jupyter-widgets/controls",
            "_model_module_version": "1.5.0",
            "_model_name": "HTMLModel",
            "_view_count": null,
            "_view_module": "@jupyter-widgets/controls",
            "_view_module_version": "1.5.0",
            "_view_name": "HTMLView",
            "description": "",
            "description_tooltip": null,
            "layout": "IPY_MODEL_8ca578ee5a474ffeb36bb611f94d5033",
            "placeholder": "​",
            "style": "IPY_MODEL_e414332f1b8b4a76841915e3c021a65d",
            "value": " 1.08G/1.08G [00:09&lt;00:00, 179MB/s]"
          }
        },
        "174da07dc5b2432c9de28e9954d5e7ec": {
          "model_module": "@jupyter-widgets/base",
          "model_name": "LayoutModel",
          "model_module_version": "1.2.0",
          "state": {
            "_model_module": "@jupyter-widgets/base",
            "_model_module_version": "1.2.0",
            "_model_name": "LayoutModel",
            "_view_count": null,
            "_view_module": "@jupyter-widgets/base",
            "_view_module_version": "1.2.0",
            "_view_name": "LayoutView",
            "align_content": null,
            "align_items": null,
            "align_self": null,
            "border": null,
            "bottom": null,
            "display": null,
            "flex": null,
            "flex_flow": null,
            "grid_area": null,
            "grid_auto_columns": null,
            "grid_auto_flow": null,
            "grid_auto_rows": null,
            "grid_column": null,
            "grid_gap": null,
            "grid_row": null,
            "grid_template_areas": null,
            "grid_template_columns": null,
            "grid_template_rows": null,
            "height": null,
            "justify_content": null,
            "justify_items": null,
            "left": null,
            "margin": null,
            "max_height": null,
            "max_width": null,
            "min_height": null,
            "min_width": null,
            "object_fit": null,
            "object_position": null,
            "order": null,
            "overflow": null,
            "overflow_x": null,
            "overflow_y": null,
            "padding": null,
            "right": null,
            "top": null,
            "visibility": null,
            "width": null
          }
        },
        "92e5da353a0545b7acb2019274daa340": {
          "model_module": "@jupyter-widgets/base",
          "model_name": "LayoutModel",
          "model_module_version": "1.2.0",
          "state": {
            "_model_module": "@jupyter-widgets/base",
            "_model_module_version": "1.2.0",
            "_model_name": "LayoutModel",
            "_view_count": null,
            "_view_module": "@jupyter-widgets/base",
            "_view_module_version": "1.2.0",
            "_view_name": "LayoutView",
            "align_content": null,
            "align_items": null,
            "align_self": null,
            "border": null,
            "bottom": null,
            "display": null,
            "flex": null,
            "flex_flow": null,
            "grid_area": null,
            "grid_auto_columns": null,
            "grid_auto_flow": null,
            "grid_auto_rows": null,
            "grid_column": null,
            "grid_gap": null,
            "grid_row": null,
            "grid_template_areas": null,
            "grid_template_columns": null,
            "grid_template_rows": null,
            "height": null,
            "justify_content": null,
            "justify_items": null,
            "left": null,
            "margin": null,
            "max_height": null,
            "max_width": null,
            "min_height": null,
            "min_width": null,
            "object_fit": null,
            "object_position": null,
            "order": null,
            "overflow": null,
            "overflow_x": null,
            "overflow_y": null,
            "padding": null,
            "right": null,
            "top": null,
            "visibility": null,
            "width": null
          }
        },
        "e31a64f2977841c8b5f8763ec8b16dff": {
          "model_module": "@jupyter-widgets/controls",
          "model_name": "DescriptionStyleModel",
          "model_module_version": "1.5.0",
          "state": {
            "_model_module": "@jupyter-widgets/controls",
            "_model_module_version": "1.5.0",
            "_model_name": "DescriptionStyleModel",
            "_view_count": null,
            "_view_module": "@jupyter-widgets/base",
            "_view_module_version": "1.2.0",
            "_view_name": "StyleView",
            "description_width": ""
          }
        },
        "569090543f4c4f6e827361d7528f461d": {
          "model_module": "@jupyter-widgets/base",
          "model_name": "LayoutModel",
          "model_module_version": "1.2.0",
          "state": {
            "_model_module": "@jupyter-widgets/base",
            "_model_module_version": "1.2.0",
            "_model_name": "LayoutModel",
            "_view_count": null,
            "_view_module": "@jupyter-widgets/base",
            "_view_module_version": "1.2.0",
            "_view_name": "LayoutView",
            "align_content": null,
            "align_items": null,
            "align_self": null,
            "border": null,
            "bottom": null,
            "display": null,
            "flex": null,
            "flex_flow": null,
            "grid_area": null,
            "grid_auto_columns": null,
            "grid_auto_flow": null,
            "grid_auto_rows": null,
            "grid_column": null,
            "grid_gap": null,
            "grid_row": null,
            "grid_template_areas": null,
            "grid_template_columns": null,
            "grid_template_rows": null,
            "height": null,
            "justify_content": null,
            "justify_items": null,
            "left": null,
            "margin": null,
            "max_height": null,
            "max_width": null,
            "min_height": null,
            "min_width": null,
            "object_fit": null,
            "object_position": null,
            "order": null,
            "overflow": null,
            "overflow_x": null,
            "overflow_y": null,
            "padding": null,
            "right": null,
            "top": null,
            "visibility": null,
            "width": null
          }
        },
        "2d5dce583fbb4c829e70ff5e0a7b0f98": {
          "model_module": "@jupyter-widgets/controls",
          "model_name": "ProgressStyleModel",
          "model_module_version": "1.5.0",
          "state": {
            "_model_module": "@jupyter-widgets/controls",
            "_model_module_version": "1.5.0",
            "_model_name": "ProgressStyleModel",
            "_view_count": null,
            "_view_module": "@jupyter-widgets/base",
            "_view_module_version": "1.2.0",
            "_view_name": "StyleView",
            "bar_color": null,
            "description_width": ""
          }
        },
        "8ca578ee5a474ffeb36bb611f94d5033": {
          "model_module": "@jupyter-widgets/base",
          "model_name": "LayoutModel",
          "model_module_version": "1.2.0",
          "state": {
            "_model_module": "@jupyter-widgets/base",
            "_model_module_version": "1.2.0",
            "_model_name": "LayoutModel",
            "_view_count": null,
            "_view_module": "@jupyter-widgets/base",
            "_view_module_version": "1.2.0",
            "_view_name": "LayoutView",
            "align_content": null,
            "align_items": null,
            "align_self": null,
            "border": null,
            "bottom": null,
            "display": null,
            "flex": null,
            "flex_flow": null,
            "grid_area": null,
            "grid_auto_columns": null,
            "grid_auto_flow": null,
            "grid_auto_rows": null,
            "grid_column": null,
            "grid_gap": null,
            "grid_row": null,
            "grid_template_areas": null,
            "grid_template_columns": null,
            "grid_template_rows": null,
            "height": null,
            "justify_content": null,
            "justify_items": null,
            "left": null,
            "margin": null,
            "max_height": null,
            "max_width": null,
            "min_height": null,
            "min_width": null,
            "object_fit": null,
            "object_position": null,
            "order": null,
            "overflow": null,
            "overflow_x": null,
            "overflow_y": null,
            "padding": null,
            "right": null,
            "top": null,
            "visibility": null,
            "width": null
          }
        },
        "e414332f1b8b4a76841915e3c021a65d": {
          "model_module": "@jupyter-widgets/controls",
          "model_name": "DescriptionStyleModel",
          "model_module_version": "1.5.0",
          "state": {
            "_model_module": "@jupyter-widgets/controls",
            "_model_module_version": "1.5.0",
            "_model_name": "DescriptionStyleModel",
            "_view_count": null,
            "_view_module": "@jupyter-widgets/base",
            "_view_module_version": "1.2.0",
            "_view_name": "StyleView",
            "description_width": ""
          }
        }
      }
    },
    "colab": {
      "provenance": [],
      "gpuType": "T4"
    },
    "accelerator": "GPU",
    "gpuClass": "standard"
  },
  "nbformat": 4,
  "nbformat_minor": 5
}