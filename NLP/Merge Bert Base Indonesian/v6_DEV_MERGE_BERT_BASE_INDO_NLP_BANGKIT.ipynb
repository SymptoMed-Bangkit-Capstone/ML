{
  "cells": [
    {
      "cell_type": "markdown",
      "id": "0b40cd66",
      "metadata": {
        "papermill": {
          "duration": 0.004951,
          "end_time": "2023-04-06T04:11:40.705212",
          "exception": false,
          "start_time": "2023-04-06T04:11:40.700261",
          "status": "completed"
        },
        "tags": [],
        "id": "0b40cd66"
      },
      "source": [
        "## Importing Libraries"
      ]
    },
    {
      "cell_type": "code",
      "source": [
        "!python -m pip install transformers\n",
        "!python -m pip install Sastrawi\n",
        "!python -m pip install xformers"
      ],
      "metadata": {
        "colab": {
          "base_uri": "https://localhost:8080/"
        },
        "id": "N30rg8w3TotZ",
        "outputId": "8189610a-9b38-436d-bf70-3ceed99905d2"
      },
      "id": "N30rg8w3TotZ",
      "execution_count": null,
      "outputs": [
        {
          "output_type": "stream",
          "name": "stdout",
          "text": [
            "Looking in indexes: https://pypi.org/simple, https://us-python.pkg.dev/colab-wheels/public/simple/\n",
            "Collecting transformers\n",
            "  Downloading transformers-4.29.2-py3-none-any.whl (7.1 MB)\n",
            "\u001b[2K     \u001b[90m━━━━━━━━━━━━━━━━━━━━━━━━━━━━━━━━━━━━━━━━\u001b[0m \u001b[32m7.1/7.1 MB\u001b[0m \u001b[31m39.9 MB/s\u001b[0m eta \u001b[36m0:00:00\u001b[0m\n",
            "\u001b[?25hRequirement already satisfied: filelock in /usr/local/lib/python3.10/dist-packages (from transformers) (3.12.0)\n",
            "Collecting huggingface-hub<1.0,>=0.14.1 (from transformers)\n",
            "  Downloading huggingface_hub-0.15.1-py3-none-any.whl (236 kB)\n",
            "\u001b[2K     \u001b[90m━━━━━━━━━━━━━━━━━━━━━━━━━━━━━━━━━━━━━━\u001b[0m \u001b[32m236.8/236.8 kB\u001b[0m \u001b[31m26.0 MB/s\u001b[0m eta \u001b[36m0:00:00\u001b[0m\n",
            "\u001b[?25hRequirement already satisfied: numpy>=1.17 in /usr/local/lib/python3.10/dist-packages (from transformers) (1.22.4)\n",
            "Requirement already satisfied: packaging>=20.0 in /usr/local/lib/python3.10/dist-packages (from transformers) (23.1)\n",
            "Requirement already satisfied: pyyaml>=5.1 in /usr/local/lib/python3.10/dist-packages (from transformers) (6.0)\n",
            "Requirement already satisfied: regex!=2019.12.17 in /usr/local/lib/python3.10/dist-packages (from transformers) (2022.10.31)\n",
            "Requirement already satisfied: requests in /usr/local/lib/python3.10/dist-packages (from transformers) (2.27.1)\n",
            "Collecting tokenizers!=0.11.3,<0.14,>=0.11.1 (from transformers)\n",
            "  Downloading tokenizers-0.13.3-cp310-cp310-manylinux_2_17_x86_64.manylinux2014_x86_64.whl (7.8 MB)\n",
            "\u001b[2K     \u001b[90m━━━━━━━━━━━━━━━━━━━━━━━━━━━━━━━━━━━━━━━━\u001b[0m \u001b[32m7.8/7.8 MB\u001b[0m \u001b[31m46.3 MB/s\u001b[0m eta \u001b[36m0:00:00\u001b[0m\n",
            "\u001b[?25hRequirement already satisfied: tqdm>=4.27 in /usr/local/lib/python3.10/dist-packages (from transformers) (4.65.0)\n",
            "Requirement already satisfied: fsspec in /usr/local/lib/python3.10/dist-packages (from huggingface-hub<1.0,>=0.14.1->transformers) (2023.4.0)\n",
            "Requirement already satisfied: typing-extensions>=3.7.4.3 in /usr/local/lib/python3.10/dist-packages (from huggingface-hub<1.0,>=0.14.1->transformers) (4.5.0)\n",
            "Requirement already satisfied: urllib3<1.27,>=1.21.1 in /usr/local/lib/python3.10/dist-packages (from requests->transformers) (1.26.15)\n",
            "Requirement already satisfied: certifi>=2017.4.17 in /usr/local/lib/python3.10/dist-packages (from requests->transformers) (2022.12.7)\n",
            "Requirement already satisfied: charset-normalizer~=2.0.0 in /usr/local/lib/python3.10/dist-packages (from requests->transformers) (2.0.12)\n",
            "Requirement already satisfied: idna<4,>=2.5 in /usr/local/lib/python3.10/dist-packages (from requests->transformers) (3.4)\n",
            "Installing collected packages: tokenizers, huggingface-hub, transformers\n",
            "Successfully installed huggingface-hub-0.15.1 tokenizers-0.13.3 transformers-4.29.2\n",
            "Looking in indexes: https://pypi.org/simple, https://us-python.pkg.dev/colab-wheels/public/simple/\n",
            "Collecting Sastrawi\n",
            "  Downloading Sastrawi-1.0.1-py2.py3-none-any.whl (209 kB)\n",
            "\u001b[2K     \u001b[90m━━━━━━━━━━━━━━━━━━━━━━━━━━━━━━━━━━━━━━━\u001b[0m \u001b[32m209.7/209.7 kB\u001b[0m \u001b[31m5.7 MB/s\u001b[0m eta \u001b[36m0:00:00\u001b[0m\n",
            "\u001b[?25hInstalling collected packages: Sastrawi\n",
            "Successfully installed Sastrawi-1.0.1\n",
            "Looking in indexes: https://pypi.org/simple, https://us-python.pkg.dev/colab-wheels/public/simple/\n",
            "Collecting xformers\n",
            "  Downloading xformers-0.0.20-cp310-cp310-manylinux2014_x86_64.whl (109.1 MB)\n",
            "\u001b[2K     \u001b[90m━━━━━━━━━━━━━━━━━━━━━━━━━━━━━━━━━━━━━━━\u001b[0m \u001b[32m109.1/109.1 MB\u001b[0m \u001b[31m8.7 MB/s\u001b[0m eta \u001b[36m0:00:00\u001b[0m\n",
            "\u001b[?25hRequirement already satisfied: numpy in /usr/local/lib/python3.10/dist-packages (from xformers) (1.22.4)\n",
            "Collecting pyre-extensions==0.0.29 (from xformers)\n",
            "  Downloading pyre_extensions-0.0.29-py3-none-any.whl (12 kB)\n",
            "Requirement already satisfied: torch==2.0.1 in /usr/local/lib/python3.10/dist-packages (from xformers) (2.0.1+cu118)\n",
            "Collecting typing-inspect (from pyre-extensions==0.0.29->xformers)\n",
            "  Downloading typing_inspect-0.9.0-py3-none-any.whl (8.8 kB)\n",
            "Requirement already satisfied: typing-extensions in /usr/local/lib/python3.10/dist-packages (from pyre-extensions==0.0.29->xformers) (4.5.0)\n",
            "Requirement already satisfied: filelock in /usr/local/lib/python3.10/dist-packages (from torch==2.0.1->xformers) (3.12.0)\n",
            "Requirement already satisfied: sympy in /usr/local/lib/python3.10/dist-packages (from torch==2.0.1->xformers) (1.11.1)\n",
            "Requirement already satisfied: networkx in /usr/local/lib/python3.10/dist-packages (from torch==2.0.1->xformers) (3.1)\n",
            "Requirement already satisfied: jinja2 in /usr/local/lib/python3.10/dist-packages (from torch==2.0.1->xformers) (3.1.2)\n",
            "Requirement already satisfied: triton==2.0.0 in /usr/local/lib/python3.10/dist-packages (from torch==2.0.1->xformers) (2.0.0)\n",
            "Requirement already satisfied: cmake in /usr/local/lib/python3.10/dist-packages (from triton==2.0.0->torch==2.0.1->xformers) (3.25.2)\n",
            "Requirement already satisfied: lit in /usr/local/lib/python3.10/dist-packages (from triton==2.0.0->torch==2.0.1->xformers) (16.0.5)\n",
            "Requirement already satisfied: MarkupSafe>=2.0 in /usr/local/lib/python3.10/dist-packages (from jinja2->torch==2.0.1->xformers) (2.1.2)\n",
            "Requirement already satisfied: mpmath>=0.19 in /usr/local/lib/python3.10/dist-packages (from sympy->torch==2.0.1->xformers) (1.3.0)\n",
            "Collecting mypy-extensions>=0.3.0 (from typing-inspect->pyre-extensions==0.0.29->xformers)\n",
            "  Downloading mypy_extensions-1.0.0-py3-none-any.whl (4.7 kB)\n",
            "Installing collected packages: mypy-extensions, typing-inspect, pyre-extensions, xformers\n",
            "Successfully installed mypy-extensions-1.0.0 pyre-extensions-0.0.29 typing-inspect-0.9.0 xformers-0.0.20\n"
          ]
        }
      ]
    },
    {
      "cell_type": "code",
      "execution_count": null,
      "id": "2a6ff93a",
      "metadata": {
        "_cell_guid": "b1076dfc-b9ad-4769-8c92-a6c4dae69d19",
        "_uuid": "8f2839f25d086af736a60e9eeb907d3b93b6e0e5",
        "execution": {
          "iopub.execute_input": "2023-04-06T04:11:40.717578Z",
          "iopub.status.busy": "2023-04-06T04:11:40.716851Z",
          "iopub.status.idle": "2023-04-06T04:11:47.849363Z",
          "shell.execute_reply": "2023-04-06T04:11:47.848147Z"
        },
        "papermill": {
          "duration": 7.141688,
          "end_time": "2023-04-06T04:11:47.852005",
          "exception": false,
          "start_time": "2023-04-06T04:11:40.710317",
          "status": "completed"
        },
        "tags": [],
        "id": "2a6ff93a",
        "colab": {
          "base_uri": "https://localhost:8080/",
          "height": 36
        },
        "outputId": "70aaa16f-a3fa-416a-916a-16691305e06f"
      },
      "outputs": [
        {
          "output_type": "execute_result",
          "data": {
            "text/plain": [
              "'1.22.4'"
            ],
            "application/vnd.google.colaboratory.intrinsic+json": {
              "type": "string"
            }
          },
          "metadata": {},
          "execution_count": 2
        }
      ],
      "source": [
        "import numpy as np\n",
        "import pandas as pd\n",
        "import matplotlib.pyplot as plt\n",
        "import seaborn as sea\n",
        "import os\n",
        "from tqdm.notebook import tqdm\n",
        "import re\n",
        "import tensorflow as tf\n",
        "from tensorflow import keras\n",
        "from keras.preprocessing.text import Tokenizer\n",
        "from Sastrawi.Dictionary.ArrayDictionary import ArrayDictionary\n",
        "from Sastrawi.StopWordRemover.StopWordRemover import StopWordRemover\n",
        "from Sastrawi.StopWordRemover.StopWordRemoverFactory import StopWordRemoverFactory\n",
        "\n",
        "plt.style.use('ggplot')\n",
        "np.__version__"
      ]
    },
    {
      "cell_type": "markdown",
      "id": "1393d062",
      "metadata": {
        "papermill": {
          "duration": 0.005783,
          "end_time": "2023-04-06T04:11:57.892880",
          "exception": false,
          "start_time": "2023-04-06T04:11:57.887097",
          "status": "completed"
        },
        "tags": [],
        "id": "1393d062"
      },
      "source": [
        "## Loading the data"
      ]
    },
    {
      "cell_type": "code",
      "source": [
        "!gdown 1EgJ4xUZeNzzCMjRe4Y5c1rTsmhWLD8lL\n",
        "!gdown 1bSIqET2ZpqwonIygZP8IEh49yFJ170yD"
      ],
      "metadata": {
        "id": "WheEYVW2TREz",
        "colab": {
          "base_uri": "https://localhost:8080/"
        },
        "outputId": "695c3310-3ba2-4c5b-fb9b-452ccb6f709c"
      },
      "id": "WheEYVW2TREz",
      "execution_count": null,
      "outputs": [
        {
          "output_type": "stream",
          "name": "stdout",
          "text": [
            "Downloading...\n",
            "From: https://drive.google.com/uc?id=1EgJ4xUZeNzzCMjRe4Y5c1rTsmhWLD8lL\n",
            "To: /content/Symptom2DiseaseID.csv\n",
            "100% 240k/240k [00:00<00:00, 166MB/s]\n",
            "Downloading...\n",
            "From: https://drive.google.com/uc?id=1bSIqET2ZpqwonIygZP8IEh49yFJ170yD\n",
            "To: /content/Converted DS Dataset-revised-v2.csv\n",
            "100% 1.59M/1.59M [00:00<00:00, 186MB/s]\n"
          ]
        }
      ]
    },
    {
      "cell_type": "code",
      "execution_count": null,
      "id": "84f0c37f",
      "metadata": {
        "execution": {
          "iopub.execute_input": "2023-04-06T04:11:57.905975Z",
          "iopub.status.busy": "2023-04-06T04:11:57.905655Z",
          "iopub.status.idle": "2023-04-06T04:11:57.943106Z",
          "shell.execute_reply": "2023-04-06T04:11:57.942174Z"
        },
        "papermill": {
          "duration": 0.046641,
          "end_time": "2023-04-06T04:11:57.945218",
          "exception": false,
          "start_time": "2023-04-06T04:11:57.898577",
          "status": "completed"
        },
        "tags": [],
        "id": "84f0c37f",
        "colab": {
          "base_uri": "https://localhost:8080/",
          "height": 206
        },
        "outputId": "603e5f9b-cbdb-4003-aa0b-3e34343c1308"
      },
      "outputs": [
        {
          "output_type": "execute_result",
          "data": {
            "text/plain": [
              "        label                                               text\n",
              "0   Psoriasis   Saya telah mengalami ruam kulit di lengan, ka...\n",
              "1   Psoriasis   Kulit saya mengelupas, terutama di lutut, sik...\n",
              "2   Psoriasis   Saya telah mengalami nyeri sendi di jari, per...\n",
              "3   Psoriasis   Ada debu seperti perak di kulit saya, terutam...\n",
              "4   Psoriasis   Kuku saya memiliki penyok atau lubang kecil d..."
            ],
            "text/html": [
              "\n",
              "  <div id=\"df-b5a17d44-e2a6-410e-b68b-2c6f9563951f\">\n",
              "    <div class=\"colab-df-container\">\n",
              "      <div>\n",
              "<style scoped>\n",
              "    .dataframe tbody tr th:only-of-type {\n",
              "        vertical-align: middle;\n",
              "    }\n",
              "\n",
              "    .dataframe tbody tr th {\n",
              "        vertical-align: top;\n",
              "    }\n",
              "\n",
              "    .dataframe thead th {\n",
              "        text-align: right;\n",
              "    }\n",
              "</style>\n",
              "<table border=\"1\" class=\"dataframe\">\n",
              "  <thead>\n",
              "    <tr style=\"text-align: right;\">\n",
              "      <th></th>\n",
              "      <th>label</th>\n",
              "      <th>text</th>\n",
              "    </tr>\n",
              "  </thead>\n",
              "  <tbody>\n",
              "    <tr>\n",
              "      <th>0</th>\n",
              "      <td>Psoriasis</td>\n",
              "      <td>Saya telah mengalami ruam kulit di lengan, ka...</td>\n",
              "    </tr>\n",
              "    <tr>\n",
              "      <th>1</th>\n",
              "      <td>Psoriasis</td>\n",
              "      <td>Kulit saya mengelupas, terutama di lutut, sik...</td>\n",
              "    </tr>\n",
              "    <tr>\n",
              "      <th>2</th>\n",
              "      <td>Psoriasis</td>\n",
              "      <td>Saya telah mengalami nyeri sendi di jari, per...</td>\n",
              "    </tr>\n",
              "    <tr>\n",
              "      <th>3</th>\n",
              "      <td>Psoriasis</td>\n",
              "      <td>Ada debu seperti perak di kulit saya, terutam...</td>\n",
              "    </tr>\n",
              "    <tr>\n",
              "      <th>4</th>\n",
              "      <td>Psoriasis</td>\n",
              "      <td>Kuku saya memiliki penyok atau lubang kecil d...</td>\n",
              "    </tr>\n",
              "  </tbody>\n",
              "</table>\n",
              "</div>\n",
              "      <button class=\"colab-df-convert\" onclick=\"convertToInteractive('df-b5a17d44-e2a6-410e-b68b-2c6f9563951f')\"\n",
              "              title=\"Convert this dataframe to an interactive table.\"\n",
              "              style=\"display:none;\">\n",
              "        \n",
              "  <svg xmlns=\"http://www.w3.org/2000/svg\" height=\"24px\"viewBox=\"0 0 24 24\"\n",
              "       width=\"24px\">\n",
              "    <path d=\"M0 0h24v24H0V0z\" fill=\"none\"/>\n",
              "    <path d=\"M18.56 5.44l.94 2.06.94-2.06 2.06-.94-2.06-.94-.94-2.06-.94 2.06-2.06.94zm-11 1L8.5 8.5l.94-2.06 2.06-.94-2.06-.94L8.5 2.5l-.94 2.06-2.06.94zm10 10l.94 2.06.94-2.06 2.06-.94-2.06-.94-.94-2.06-.94 2.06-2.06.94z\"/><path d=\"M17.41 7.96l-1.37-1.37c-.4-.4-.92-.59-1.43-.59-.52 0-1.04.2-1.43.59L10.3 9.45l-7.72 7.72c-.78.78-.78 2.05 0 2.83L4 21.41c.39.39.9.59 1.41.59.51 0 1.02-.2 1.41-.59l7.78-7.78 2.81-2.81c.8-.78.8-2.07 0-2.86zM5.41 20L4 18.59l7.72-7.72 1.47 1.35L5.41 20z\"/>\n",
              "  </svg>\n",
              "      </button>\n",
              "      \n",
              "  <style>\n",
              "    .colab-df-container {\n",
              "      display:flex;\n",
              "      flex-wrap:wrap;\n",
              "      gap: 12px;\n",
              "    }\n",
              "\n",
              "    .colab-df-convert {\n",
              "      background-color: #E8F0FE;\n",
              "      border: none;\n",
              "      border-radius: 50%;\n",
              "      cursor: pointer;\n",
              "      display: none;\n",
              "      fill: #1967D2;\n",
              "      height: 32px;\n",
              "      padding: 0 0 0 0;\n",
              "      width: 32px;\n",
              "    }\n",
              "\n",
              "    .colab-df-convert:hover {\n",
              "      background-color: #E2EBFA;\n",
              "      box-shadow: 0px 1px 2px rgba(60, 64, 67, 0.3), 0px 1px 3px 1px rgba(60, 64, 67, 0.15);\n",
              "      fill: #174EA6;\n",
              "    }\n",
              "\n",
              "    [theme=dark] .colab-df-convert {\n",
              "      background-color: #3B4455;\n",
              "      fill: #D2E3FC;\n",
              "    }\n",
              "\n",
              "    [theme=dark] .colab-df-convert:hover {\n",
              "      background-color: #434B5C;\n",
              "      box-shadow: 0px 1px 3px 1px rgba(0, 0, 0, 0.15);\n",
              "      filter: drop-shadow(0px 1px 2px rgba(0, 0, 0, 0.3));\n",
              "      fill: #FFFFFF;\n",
              "    }\n",
              "  </style>\n",
              "\n",
              "      <script>\n",
              "        const buttonEl =\n",
              "          document.querySelector('#df-b5a17d44-e2a6-410e-b68b-2c6f9563951f button.colab-df-convert');\n",
              "        buttonEl.style.display =\n",
              "          google.colab.kernel.accessAllowed ? 'block' : 'none';\n",
              "\n",
              "        async function convertToInteractive(key) {\n",
              "          const element = document.querySelector('#df-b5a17d44-e2a6-410e-b68b-2c6f9563951f');\n",
              "          const dataTable =\n",
              "            await google.colab.kernel.invokeFunction('convertToInteractive',\n",
              "                                                     [key], {});\n",
              "          if (!dataTable) return;\n",
              "\n",
              "          const docLinkHtml = 'Like what you see? Visit the ' +\n",
              "            '<a target=\"_blank\" href=https://colab.research.google.com/notebooks/data_table.ipynb>data table notebook</a>'\n",
              "            + ' to learn more about interactive tables.';\n",
              "          element.innerHTML = '';\n",
              "          dataTable['output_type'] = 'display_data';\n",
              "          await google.colab.output.renderOutput(dataTable, element);\n",
              "          const docLink = document.createElement('div');\n",
              "          docLink.innerHTML = docLinkHtml;\n",
              "          element.appendChild(docLink);\n",
              "        }\n",
              "      </script>\n",
              "    </div>\n",
              "  </div>\n",
              "  "
            ]
          },
          "metadata": {},
          "execution_count": 4
        }
      ],
      "source": [
        "dfNLP = pd.read_csv('./Symptom2DiseaseID.csv', delimiter=';')\n",
        "dfNLP.drop(\"indeks\", axis=1, inplace=True)\n",
        "dfNLP.head()"
      ]
    },
    {
      "cell_type": "code",
      "source": [
        "dfCnv = pd.read_csv('./Converted DS Dataset-revised-v2.csv', delimiter=';')\n",
        "# dfCnv.drop(\"Unnamed: 0\", axis=1, inplace=True)\n",
        "dfCnv.head()"
      ],
      "metadata": {
        "colab": {
          "base_uri": "https://localhost:8080/",
          "height": 206
        },
        "id": "gUr75lOMfQJ1",
        "outputId": "9c6da732-a48b-441d-9eef-51ac05225490"
      },
      "id": "gUr75lOMfQJ1",
      "execution_count": null,
      "outputs": [
        {
          "output_type": "execute_result",
          "data": {
            "text/plain": [
              "                                            symptoms  prognosa\n",
              "0  Saya mengalami ruam kulit dalam beberapa hari ...        19\n",
              "1  Saya mengalami erupsi kulit nodal dalam bebera...        19\n",
              "2  Saya mengalami erupsi kulit nodal dalam bebera...        19\n",
              "3  Saya mengalami gatal dalam beberapa hari terak...        19\n",
              "4  Saya mengalami ruam kulit dalam beberapa hari ...        19"
            ],
            "text/html": [
              "\n",
              "  <div id=\"df-48dc0fb3-4731-46ee-949e-f226580015d5\">\n",
              "    <div class=\"colab-df-container\">\n",
              "      <div>\n",
              "<style scoped>\n",
              "    .dataframe tbody tr th:only-of-type {\n",
              "        vertical-align: middle;\n",
              "    }\n",
              "\n",
              "    .dataframe tbody tr th {\n",
              "        vertical-align: top;\n",
              "    }\n",
              "\n",
              "    .dataframe thead th {\n",
              "        text-align: right;\n",
              "    }\n",
              "</style>\n",
              "<table border=\"1\" class=\"dataframe\">\n",
              "  <thead>\n",
              "    <tr style=\"text-align: right;\">\n",
              "      <th></th>\n",
              "      <th>symptoms</th>\n",
              "      <th>prognosa</th>\n",
              "    </tr>\n",
              "  </thead>\n",
              "  <tbody>\n",
              "    <tr>\n",
              "      <th>0</th>\n",
              "      <td>Saya mengalami ruam kulit dalam beberapa hari ...</td>\n",
              "      <td>19</td>\n",
              "    </tr>\n",
              "    <tr>\n",
              "      <th>1</th>\n",
              "      <td>Saya mengalami erupsi kulit nodal dalam bebera...</td>\n",
              "      <td>19</td>\n",
              "    </tr>\n",
              "    <tr>\n",
              "      <th>2</th>\n",
              "      <td>Saya mengalami erupsi kulit nodal dalam bebera...</td>\n",
              "      <td>19</td>\n",
              "    </tr>\n",
              "    <tr>\n",
              "      <th>3</th>\n",
              "      <td>Saya mengalami gatal dalam beberapa hari terak...</td>\n",
              "      <td>19</td>\n",
              "    </tr>\n",
              "    <tr>\n",
              "      <th>4</th>\n",
              "      <td>Saya mengalami ruam kulit dalam beberapa hari ...</td>\n",
              "      <td>19</td>\n",
              "    </tr>\n",
              "  </tbody>\n",
              "</table>\n",
              "</div>\n",
              "      <button class=\"colab-df-convert\" onclick=\"convertToInteractive('df-48dc0fb3-4731-46ee-949e-f226580015d5')\"\n",
              "              title=\"Convert this dataframe to an interactive table.\"\n",
              "              style=\"display:none;\">\n",
              "        \n",
              "  <svg xmlns=\"http://www.w3.org/2000/svg\" height=\"24px\"viewBox=\"0 0 24 24\"\n",
              "       width=\"24px\">\n",
              "    <path d=\"M0 0h24v24H0V0z\" fill=\"none\"/>\n",
              "    <path d=\"M18.56 5.44l.94 2.06.94-2.06 2.06-.94-2.06-.94-.94-2.06-.94 2.06-2.06.94zm-11 1L8.5 8.5l.94-2.06 2.06-.94-2.06-.94L8.5 2.5l-.94 2.06-2.06.94zm10 10l.94 2.06.94-2.06 2.06-.94-2.06-.94-.94-2.06-.94 2.06-2.06.94z\"/><path d=\"M17.41 7.96l-1.37-1.37c-.4-.4-.92-.59-1.43-.59-.52 0-1.04.2-1.43.59L10.3 9.45l-7.72 7.72c-.78.78-.78 2.05 0 2.83L4 21.41c.39.39.9.59 1.41.59.51 0 1.02-.2 1.41-.59l7.78-7.78 2.81-2.81c.8-.78.8-2.07 0-2.86zM5.41 20L4 18.59l7.72-7.72 1.47 1.35L5.41 20z\"/>\n",
              "  </svg>\n",
              "      </button>\n",
              "      \n",
              "  <style>\n",
              "    .colab-df-container {\n",
              "      display:flex;\n",
              "      flex-wrap:wrap;\n",
              "      gap: 12px;\n",
              "    }\n",
              "\n",
              "    .colab-df-convert {\n",
              "      background-color: #E8F0FE;\n",
              "      border: none;\n",
              "      border-radius: 50%;\n",
              "      cursor: pointer;\n",
              "      display: none;\n",
              "      fill: #1967D2;\n",
              "      height: 32px;\n",
              "      padding: 0 0 0 0;\n",
              "      width: 32px;\n",
              "    }\n",
              "\n",
              "    .colab-df-convert:hover {\n",
              "      background-color: #E2EBFA;\n",
              "      box-shadow: 0px 1px 2px rgba(60, 64, 67, 0.3), 0px 1px 3px 1px rgba(60, 64, 67, 0.15);\n",
              "      fill: #174EA6;\n",
              "    }\n",
              "\n",
              "    [theme=dark] .colab-df-convert {\n",
              "      background-color: #3B4455;\n",
              "      fill: #D2E3FC;\n",
              "    }\n",
              "\n",
              "    [theme=dark] .colab-df-convert:hover {\n",
              "      background-color: #434B5C;\n",
              "      box-shadow: 0px 1px 3px 1px rgba(0, 0, 0, 0.15);\n",
              "      filter: drop-shadow(0px 1px 2px rgba(0, 0, 0, 0.3));\n",
              "      fill: #FFFFFF;\n",
              "    }\n",
              "  </style>\n",
              "\n",
              "      <script>\n",
              "        const buttonEl =\n",
              "          document.querySelector('#df-48dc0fb3-4731-46ee-949e-f226580015d5 button.colab-df-convert');\n",
              "        buttonEl.style.display =\n",
              "          google.colab.kernel.accessAllowed ? 'block' : 'none';\n",
              "\n",
              "        async function convertToInteractive(key) {\n",
              "          const element = document.querySelector('#df-48dc0fb3-4731-46ee-949e-f226580015d5');\n",
              "          const dataTable =\n",
              "            await google.colab.kernel.invokeFunction('convertToInteractive',\n",
              "                                                     [key], {});\n",
              "          if (!dataTable) return;\n",
              "\n",
              "          const docLinkHtml = 'Like what you see? Visit the ' +\n",
              "            '<a target=\"_blank\" href=https://colab.research.google.com/notebooks/data_table.ipynb>data table notebook</a>'\n",
              "            + ' to learn more about interactive tables.';\n",
              "          element.innerHTML = '';\n",
              "          dataTable['output_type'] = 'display_data';\n",
              "          await google.colab.output.renderOutput(dataTable, element);\n",
              "          const docLink = document.createElement('div');\n",
              "          docLink.innerHTML = docLinkHtml;\n",
              "          element.appendChild(docLink);\n",
              "        }\n",
              "      </script>\n",
              "    </div>\n",
              "  </div>\n",
              "  "
            ]
          },
          "metadata": {},
          "execution_count": 5
        }
      ]
    },
    {
      "cell_type": "code",
      "source": [
        "dfNLP.label = dfNLP.label.str.replace('^ +| +$', '', regex=True)\n",
        "dfNLP['label'] = dfNLP['label'].replace({'Pembuluh mekar':'Varises', 'Wasir Dimorfik' : 'Wasir', 'spondylosis serviks':'Spondylosis'})\n",
        "dfNLP['label'] = dfNLP['label'].str.title()\n",
        "dfCnv.rename(columns={'symptoms': 'text', 'prognosa': 'label'}, inplace=True)\n",
        "dfCnv = dfCnv[dfCnv.columns[::-1]]"
      ],
      "metadata": {
        "id": "PLt4eHGmfwu1"
      },
      "id": "PLt4eHGmfwu1",
      "execution_count": null,
      "outputs": []
    },
    {
      "cell_type": "code",
      "source": [
        "indextolabel = {\n",
        "    0: 'Vertigo Posisi Paroymsal',\n",
        "    1: 'AIDS',\n",
        "    2: 'Alergi',\n",
        "    3: 'Asma Bronkial',\n",
        "    4: 'Cacar Air',\n",
        "    5: 'Diabetes',\n",
        "    6: 'Flu Biasa',\n",
        "    7: 'GERD',\n",
        "    8: 'Gastroenteritis',\n",
        "    9: 'Hepatitis B',\n",
        "    10: 'Hepatitis C',\n",
        "    11: 'Hepatitis D',\n",
        "    12: 'Hepatitis E',\n",
        "    13: 'Hepatitis Alkoholik',\n",
        "    14: 'Hipertensi',\n",
        "    15: 'Hipertiroidisme',\n",
        "    16: 'Hipoglikemia',\n",
        "    17: 'Hipotiroidisme',\n",
        "    18: 'Impetigo',\n",
        "    19: 'Infeksi Jamur',\n",
        "    20: 'Infeksi Saluran Kemih',\n",
        "    21: 'Jerawat',\n",
        "    22: 'Pendarahan Otak',\n",
        "    23: 'Malaria',\n",
        "    24: 'Migrain',\n",
        "    25: 'Osteoartritis',\n",
        "    26: 'Varises',\n",
        "    27: 'Penyakit Kuning',\n",
        "    28: 'Penyakit Tipus',\n",
        "    29: 'Penyakit Ulkus Peptikum',\n",
        "    30: 'Psoriasis',\n",
        "    31: 'Radang Paru-Paru',\n",
        "    32: 'Radang Sendi',\n",
        "    33: 'Reaksi Obat',\n",
        "    34: 'Serangan Jantung',\n",
        "    35: 'TBC',\n",
        "    36: 'Wasir',\n",
        "    37: 'Demam Berdarah',\n",
        "    38: 'hepatitis A',\n",
        "    39: 'kolestasis Kronis',\n",
        "    40: 'Spondylosis',\n",
        "}\n",
        "\n",
        "dfCnv['label'] = dfCnv['label'].replace(indextolabel)"
      ],
      "metadata": {
        "id": "p-ixsHSoh5DY"
      },
      "id": "p-ixsHSoh5DY",
      "execution_count": null,
      "outputs": []
    },
    {
      "cell_type": "code",
      "source": [
        "dfNLP['label'].value_counts()"
      ],
      "metadata": {
        "colab": {
          "base_uri": "https://localhost:8080/"
        },
        "id": "-11yqtzIhngH",
        "outputId": "7974f591-f13b-48ad-d486-a783bb341d30"
      },
      "id": "-11yqtzIhngH",
      "execution_count": null,
      "outputs": [
        {
          "output_type": "execute_result",
          "data": {
            "text/plain": [
              "Psoriasis                          50\n",
              "Varises                            50\n",
              "Penyakit Ulkus Peptikum            50\n",
              "Reaksi Obat                        50\n",
              "Penyakit Refluks Gastroesofagus    50\n",
              "Alergi                             50\n",
              "Infeksi Saluran Kemih              50\n",
              "Malaria                            50\n",
              "Penyakit Kuning                    50\n",
              "Spondylosis                        50\n",
              "Migrain                            50\n",
              "Hipertensi                         50\n",
              "Asma Bronkial                      50\n",
              "Jerawat                            50\n",
              "Radang Sendi                       50\n",
              "Wasir                              50\n",
              "Radang Paru-Paru                   50\n",
              "Flu Biasa                          50\n",
              "Infeksi Jamur                      50\n",
              "Demam Berdarah                     50\n",
              "Impetigo                           50\n",
              "Cacar Air                          50\n",
              "Penyakit Tipus                     50\n",
              "Diabetes                           50\n",
              "Name: label, dtype: int64"
            ]
          },
          "metadata": {},
          "execution_count": 8
        }
      ]
    },
    {
      "cell_type": "code",
      "source": [
        "dfCnv['label'].value_counts()"
      ],
      "metadata": {
        "colab": {
          "base_uri": "https://localhost:8080/"
        },
        "id": "6qCVv6DFgq-c",
        "outputId": "9454a0c6-da12-44e6-fa6b-875314d096e0"
      },
      "id": "6qCVv6DFgq-c",
      "execution_count": null,
      "outputs": [
        {
          "output_type": "execute_result",
          "data": {
            "text/plain": [
              "Infeksi Jamur               120\n",
              "Hepatitis C                 120\n",
              "Hepatitis E                 120\n",
              "Hepatitis Alkoholik         120\n",
              "TBC                         120\n",
              "Flu Biasa                   120\n",
              "Radang Paru-Paru            120\n",
              "Wasir                       120\n",
              "Serangan Jantung            120\n",
              "Varises                     120\n",
              "Hipotiroidisme              120\n",
              "Hipertiroidisme             120\n",
              "Hipoglikemia                120\n",
              "Osteoartritis               120\n",
              "Radang Sendi                120\n",
              "Vertigo Posisi Paroymsal    120\n",
              "Jerawat                     120\n",
              "Infeksi Saluran Kemih       120\n",
              "Psoriasis                   120\n",
              "Hepatitis D                 120\n",
              "Hepatitis B                 120\n",
              "Alergi                      120\n",
              "hepatitis A                 120\n",
              "GERD                        120\n",
              "kolestasis Kronis           120\n",
              "Reaksi Obat                 120\n",
              "Penyakit Ulkus Peptikum     120\n",
              "AIDS                        120\n",
              "Diabetes                    120\n",
              "Gastroenteritis             120\n",
              "Asma Bronkial               120\n",
              "Hipertensi                  120\n",
              "Migrain                     120\n",
              "Spondylosis                 120\n",
              "Pendarahan Otak             120\n",
              "Penyakit Kuning             120\n",
              "Malaria                     120\n",
              "Cacar Air                   120\n",
              "Demam Berdarah              120\n",
              "Penyakit Tipus              120\n",
              "Impetigo                    120\n",
              "Name: label, dtype: int64"
            ]
          },
          "metadata": {},
          "execution_count": 9
        }
      ]
    },
    {
      "cell_type": "code",
      "source": [
        "dfMerge = pd.concat([dfCnv, dfNLP], ignore_index=True)"
      ],
      "metadata": {
        "id": "XZ2mQ5PQkwpq"
      },
      "id": "XZ2mQ5PQkwpq",
      "execution_count": null,
      "outputs": []
    },
    {
      "cell_type": "code",
      "source": [
        "dfMerge.head()"
      ],
      "metadata": {
        "colab": {
          "base_uri": "https://localhost:8080/",
          "height": 206
        },
        "id": "sn145K2AvSOY",
        "outputId": "7963e747-afb7-4556-98a5-7f43d708b9df"
      },
      "id": "sn145K2AvSOY",
      "execution_count": null,
      "outputs": [
        {
          "output_type": "execute_result",
          "data": {
            "text/plain": [
              "           label                                               text\n",
              "0  Infeksi Jamur  Saya mengalami ruam kulit dalam beberapa hari ...\n",
              "1  Infeksi Jamur  Saya mengalami erupsi kulit nodal dalam bebera...\n",
              "2  Infeksi Jamur  Saya mengalami erupsi kulit nodal dalam bebera...\n",
              "3  Infeksi Jamur  Saya mengalami gatal dalam beberapa hari terak...\n",
              "4  Infeksi Jamur  Saya mengalami ruam kulit dalam beberapa hari ..."
            ],
            "text/html": [
              "\n",
              "  <div id=\"df-8bc32ff7-57a8-4d1e-8440-15f326f8108e\">\n",
              "    <div class=\"colab-df-container\">\n",
              "      <div>\n",
              "<style scoped>\n",
              "    .dataframe tbody tr th:only-of-type {\n",
              "        vertical-align: middle;\n",
              "    }\n",
              "\n",
              "    .dataframe tbody tr th {\n",
              "        vertical-align: top;\n",
              "    }\n",
              "\n",
              "    .dataframe thead th {\n",
              "        text-align: right;\n",
              "    }\n",
              "</style>\n",
              "<table border=\"1\" class=\"dataframe\">\n",
              "  <thead>\n",
              "    <tr style=\"text-align: right;\">\n",
              "      <th></th>\n",
              "      <th>label</th>\n",
              "      <th>text</th>\n",
              "    </tr>\n",
              "  </thead>\n",
              "  <tbody>\n",
              "    <tr>\n",
              "      <th>0</th>\n",
              "      <td>Infeksi Jamur</td>\n",
              "      <td>Saya mengalami ruam kulit dalam beberapa hari ...</td>\n",
              "    </tr>\n",
              "    <tr>\n",
              "      <th>1</th>\n",
              "      <td>Infeksi Jamur</td>\n",
              "      <td>Saya mengalami erupsi kulit nodal dalam bebera...</td>\n",
              "    </tr>\n",
              "    <tr>\n",
              "      <th>2</th>\n",
              "      <td>Infeksi Jamur</td>\n",
              "      <td>Saya mengalami erupsi kulit nodal dalam bebera...</td>\n",
              "    </tr>\n",
              "    <tr>\n",
              "      <th>3</th>\n",
              "      <td>Infeksi Jamur</td>\n",
              "      <td>Saya mengalami gatal dalam beberapa hari terak...</td>\n",
              "    </tr>\n",
              "    <tr>\n",
              "      <th>4</th>\n",
              "      <td>Infeksi Jamur</td>\n",
              "      <td>Saya mengalami ruam kulit dalam beberapa hari ...</td>\n",
              "    </tr>\n",
              "  </tbody>\n",
              "</table>\n",
              "</div>\n",
              "      <button class=\"colab-df-convert\" onclick=\"convertToInteractive('df-8bc32ff7-57a8-4d1e-8440-15f326f8108e')\"\n",
              "              title=\"Convert this dataframe to an interactive table.\"\n",
              "              style=\"display:none;\">\n",
              "        \n",
              "  <svg xmlns=\"http://www.w3.org/2000/svg\" height=\"24px\"viewBox=\"0 0 24 24\"\n",
              "       width=\"24px\">\n",
              "    <path d=\"M0 0h24v24H0V0z\" fill=\"none\"/>\n",
              "    <path d=\"M18.56 5.44l.94 2.06.94-2.06 2.06-.94-2.06-.94-.94-2.06-.94 2.06-2.06.94zm-11 1L8.5 8.5l.94-2.06 2.06-.94-2.06-.94L8.5 2.5l-.94 2.06-2.06.94zm10 10l.94 2.06.94-2.06 2.06-.94-2.06-.94-.94-2.06-.94 2.06-2.06.94z\"/><path d=\"M17.41 7.96l-1.37-1.37c-.4-.4-.92-.59-1.43-.59-.52 0-1.04.2-1.43.59L10.3 9.45l-7.72 7.72c-.78.78-.78 2.05 0 2.83L4 21.41c.39.39.9.59 1.41.59.51 0 1.02-.2 1.41-.59l7.78-7.78 2.81-2.81c.8-.78.8-2.07 0-2.86zM5.41 20L4 18.59l7.72-7.72 1.47 1.35L5.41 20z\"/>\n",
              "  </svg>\n",
              "      </button>\n",
              "      \n",
              "  <style>\n",
              "    .colab-df-container {\n",
              "      display:flex;\n",
              "      flex-wrap:wrap;\n",
              "      gap: 12px;\n",
              "    }\n",
              "\n",
              "    .colab-df-convert {\n",
              "      background-color: #E8F0FE;\n",
              "      border: none;\n",
              "      border-radius: 50%;\n",
              "      cursor: pointer;\n",
              "      display: none;\n",
              "      fill: #1967D2;\n",
              "      height: 32px;\n",
              "      padding: 0 0 0 0;\n",
              "      width: 32px;\n",
              "    }\n",
              "\n",
              "    .colab-df-convert:hover {\n",
              "      background-color: #E2EBFA;\n",
              "      box-shadow: 0px 1px 2px rgba(60, 64, 67, 0.3), 0px 1px 3px 1px rgba(60, 64, 67, 0.15);\n",
              "      fill: #174EA6;\n",
              "    }\n",
              "\n",
              "    [theme=dark] .colab-df-convert {\n",
              "      background-color: #3B4455;\n",
              "      fill: #D2E3FC;\n",
              "    }\n",
              "\n",
              "    [theme=dark] .colab-df-convert:hover {\n",
              "      background-color: #434B5C;\n",
              "      box-shadow: 0px 1px 3px 1px rgba(0, 0, 0, 0.15);\n",
              "      filter: drop-shadow(0px 1px 2px rgba(0, 0, 0, 0.3));\n",
              "      fill: #FFFFFF;\n",
              "    }\n",
              "  </style>\n",
              "\n",
              "      <script>\n",
              "        const buttonEl =\n",
              "          document.querySelector('#df-8bc32ff7-57a8-4d1e-8440-15f326f8108e button.colab-df-convert');\n",
              "        buttonEl.style.display =\n",
              "          google.colab.kernel.accessAllowed ? 'block' : 'none';\n",
              "\n",
              "        async function convertToInteractive(key) {\n",
              "          const element = document.querySelector('#df-8bc32ff7-57a8-4d1e-8440-15f326f8108e');\n",
              "          const dataTable =\n",
              "            await google.colab.kernel.invokeFunction('convertToInteractive',\n",
              "                                                     [key], {});\n",
              "          if (!dataTable) return;\n",
              "\n",
              "          const docLinkHtml = 'Like what you see? Visit the ' +\n",
              "            '<a target=\"_blank\" href=https://colab.research.google.com/notebooks/data_table.ipynb>data table notebook</a>'\n",
              "            + ' to learn more about interactive tables.';\n",
              "          element.innerHTML = '';\n",
              "          dataTable['output_type'] = 'display_data';\n",
              "          await google.colab.output.renderOutput(dataTable, element);\n",
              "          const docLink = document.createElement('div');\n",
              "          docLink.innerHTML = docLinkHtml;\n",
              "          element.appendChild(docLink);\n",
              "        }\n",
              "      </script>\n",
              "    </div>\n",
              "  </div>\n",
              "  "
            ]
          },
          "metadata": {},
          "execution_count": 11
        }
      ]
    },
    {
      "cell_type": "code",
      "source": [
        "for nama_kolom in dfMerge.columns:\n",
        "  print(dfMerge[nama_kolom].value_counts(), \"\\n\")"
      ],
      "metadata": {
        "colab": {
          "base_uri": "https://localhost:8080/"
        },
        "id": "xwrLIOqdgMiG",
        "outputId": "8298e4d2-cd12-4883-e3ea-2ab98d8563d7"
      },
      "id": "xwrLIOqdgMiG",
      "execution_count": null,
      "outputs": [
        {
          "output_type": "stream",
          "name": "stdout",
          "text": [
            "Infeksi Jamur                      170\n",
            "Spondylosis                        170\n",
            "Radang Paru-Paru                   170\n",
            "Flu Biasa                          170\n",
            "Varises                            170\n",
            "Alergi                             170\n",
            "Radang Sendi                       170\n",
            "Penyakit Tipus                     170\n",
            "Demam Berdarah                     170\n",
            "Cacar Air                          170\n",
            "Malaria                            170\n",
            "Penyakit Kuning                    170\n",
            "Migrain                            170\n",
            "Infeksi Saluran Kemih              170\n",
            "Impetigo                           170\n",
            "Psoriasis                          170\n",
            "Reaksi Obat                        170\n",
            "Penyakit Ulkus Peptikum            170\n",
            "Wasir                              170\n",
            "Diabetes                           170\n",
            "Jerawat                            170\n",
            "Asma Bronkial                      170\n",
            "Hipertensi                         170\n",
            "Vertigo Posisi Paroymsal           120\n",
            "Hipoglikemia                       120\n",
            "Hipertiroidisme                    120\n",
            "Hipotiroidisme                     120\n",
            "Serangan Jantung                   120\n",
            "Osteoartritis                      120\n",
            "Hepatitis C                        120\n",
            "TBC                                120\n",
            "Hepatitis Alkoholik                120\n",
            "Hepatitis E                        120\n",
            "Hepatitis D                        120\n",
            "Hepatitis B                        120\n",
            "hepatitis A                        120\n",
            "Pendarahan Otak                    120\n",
            "Gastroenteritis                    120\n",
            "AIDS                               120\n",
            "kolestasis Kronis                  120\n",
            "GERD                               120\n",
            "Penyakit Refluks Gastroesofagus     50\n",
            "Name: label, dtype: int64 \n",
            "\n",
            " Saya merasa sangat gatal, sakit, dan lelah. Selain itu, berat badan saya turun dan suhu tubuh saya naik. Urine saya berwarna gelap, dan kulit saya menjadi kuning. Selain itu, saya juga mengalami sakit perut.                                                                                                                                                                    5\n",
            "Gejala muntah sangat mengganggu keseharian saya. Saya mengalami nyeri dada dalam beberapa hari terakhir. Gejala sesak napas sangat mengganggu keseharian saya.                                                                                                                                                                                                                      4\n",
            " Saya mengalami sembelit dan sangat sulit untuk pergi ke kamar mandi. Ketika saya pergi, rasanya sakit dan tinja saya berdarah. Saya juga merasakan sakit di pantat dan anus saya sangat gatal dan iritasi.                                                                                                                                                                         3\n",
            "Gejala bau urin yang busuk sangat mengganggu keseharian saya. Saya mengalami rasa tidak nyaman pada kandung kemih dalam beberapa hari terakhir. Gejala rasa urin terus menerus sangat mengganggu keseharian saya. Gejala perih buang air kecil sangat mengganggu keseharian saya.                                                                                                   3\n",
            "Gejala ruam kulit sangat mengganggu keseharian saya. Gejala berteriak teriak sangat mengganggu keseharian saya. Gejala komedo sangat mengganggu keseharian saya.                                                                                                                                                                                                                    3\n",
            "                                                                                                                                                                                                                                                                                                                                                                                   ..\n",
            "Gejala nyeri sendi sangat mengganggu keseharian saya. Gejala kulit menjadi ke abu abuan sangat mengganggu keseharian saya. Saya mengalami pengelupasan kulit dalam beberapa hari terakhir. Saya mengalami penyok kecil di kuku dalam beberapa hari terakhir. Gejala kuku inflamasi sangat mengganggu keseharian saya. Gejala ruam kulit sangat mengganggu keseharian saya.          1\n",
            "Gejala pengelupasan kulit sangat mengganggu keseharian saya. Gejala kulit menjadi ke abu abuan sangat mengganggu keseharian saya. Saya mengalami penyok kecil di kuku dalam beberapa hari terakhir. Saya mengalami ruam kulit dalam beberapa hari terakhir. Saya mengalami kuku inflamasi dalam beberapa hari terakhir. Saya mengalami nyeri sendi dalam beberapa hari terakhir.    1\n",
            "Gejala ruam kulit sangat mengganggu keseharian saya. Gejala kulit menjadi ke abu abuan sangat mengganggu keseharian saya. Gejala pengelupasan kulit sangat mengganggu keseharian saya. Saya mengalami penyok kecil di kuku dalam beberapa hari terakhir. Gejala nyeri sendi sangat mengganggu keseharian saya.                                                                      1\n",
            "Saya mengalami nyeri sendi dalam beberapa hari terakhir. Saya mengalami pengelupasan kulit dalam beberapa hari terakhir. Saya mengalami kuku inflamasi dalam beberapa hari terakhir. Gejala kulit menjadi ke abu abuan sangat mengganggu keseharian saya. Gejala ruam kulit sangat mengganggu keseharian saya.                                                                      1\n",
            " Saya terus menerus bersin dan batuk kering. Infeksi saya sepertinya tidak kunjung sembuh, dan jantung saya berdebar-debar. Tenggorokan saya kadang terasa sakit, tetapi biasanya membaik.                                                                                                                                                                                          1\n",
            "Name: text, Length: 5985, dtype: int64 \n",
            "\n"
          ]
        }
      ]
    },
    {
      "cell_type": "code",
      "source": [
        "import itertools\n",
        "factory = StopWordRemoverFactory()\n",
        "\n",
        "addStopwords = ['saya', 'saya.', 'itu', 'itu,', 'juga']\n",
        "removeStopwords = ['atau', 'dalam', 'dan', 'dari', 'di', 'pada', 'ke', 'saat','sekitar', 'seperti', 'tidak', 'yang']\n",
        "\n",
        "stopWords = factory.get_stop_words()+addStopwords\n",
        "\n",
        "for removeStopword in removeStopwords:\n",
        "    if removeStopword in stopWords:\n",
        "        stopWords.remove(removeStopword)\n",
        "    else:\n",
        "        continue\n",
        "\n",
        "dictionaryWord = ArrayDictionary(stopWords)\n",
        "stopWordRemover = StopWordRemover(dictionaryWord)\n",
        "\n",
        "for i in range(len(dfMerge[\"text\"])):\n",
        "    dfMerge[\"text\"][i] = dfMerge[\"text\"][i].lstrip()\n",
        "    dfMerge[\"text\"][i] = re.sub('  +', ' ', dfMerge[\"text\"][i])\n",
        "    dfMerge[\"text\"][i] = re.sub(r'[^\\x00-\\x7f]','r', dfMerge[\"text\"][i])\n",
        "    dfMerge[\"text\"][i] = dfMerge[\"text\"][i].encode('ascii', 'ignore').decode('utf-8')\n",
        "    dfMerge[\"text\"][i] = ''.join(''.join(s)[:1] for _, s in itertools.groupby(dfMerge[\"text\"][i]))\n",
        "    dfMerge[\"text\"][i] = dfMerge[\"text\"][i].lower()\n",
        "    dfMerge[\"text\"][i] = stopWordRemover.remove(dfMerge[\"text\"][i])\n",
        "    dfMerge[\"label\"][i] = dfMerge[\"label\"][i].lower()\n",
        "    dfMerge[\"label\"][i] = dfMerge[\"label\"][i].title()\n",
        "\n",
        "dfMerge.label = dfMerge.label.str.replace('^ +| +$', '', regex=True)"
      ],
      "metadata": {
        "id": "I2g1r2nJTAro"
      },
      "id": "I2g1r2nJTAro",
      "execution_count": null,
      "outputs": []
    },
    {
      "cell_type": "code",
      "source": [
        "dfMerge.head()"
      ],
      "metadata": {
        "colab": {
          "base_uri": "https://localhost:8080/",
          "height": 206
        },
        "id": "r3OYMl9wvXLZ",
        "outputId": "1283ff00-53e8-440e-9a96-54e485f424ac"
      },
      "id": "r3OYMl9wvXLZ",
      "execution_count": null,
      "outputs": [
        {
          "output_type": "execute_result",
          "data": {
            "text/plain": [
              "           label                                               text\n",
              "0  Infeksi Jamur  mengalami ruam kulit dalam beberapa hari terak...\n",
              "1  Infeksi Jamur  mengalami erupsi kulit nodal dalam beberapa ha...\n",
              "2  Infeksi Jamur  mengalami erupsi kulit nodal dalam beberapa ha...\n",
              "3  Infeksi Jamur  mengalami gatal dalam beberapa hari terakhir. ...\n",
              "4  Infeksi Jamur  mengalami ruam kulit dalam beberapa hari terak..."
            ],
            "text/html": [
              "\n",
              "  <div id=\"df-537e20eb-6755-4a63-9fcb-5b93d0077d6a\">\n",
              "    <div class=\"colab-df-container\">\n",
              "      <div>\n",
              "<style scoped>\n",
              "    .dataframe tbody tr th:only-of-type {\n",
              "        vertical-align: middle;\n",
              "    }\n",
              "\n",
              "    .dataframe tbody tr th {\n",
              "        vertical-align: top;\n",
              "    }\n",
              "\n",
              "    .dataframe thead th {\n",
              "        text-align: right;\n",
              "    }\n",
              "</style>\n",
              "<table border=\"1\" class=\"dataframe\">\n",
              "  <thead>\n",
              "    <tr style=\"text-align: right;\">\n",
              "      <th></th>\n",
              "      <th>label</th>\n",
              "      <th>text</th>\n",
              "    </tr>\n",
              "  </thead>\n",
              "  <tbody>\n",
              "    <tr>\n",
              "      <th>0</th>\n",
              "      <td>Infeksi Jamur</td>\n",
              "      <td>mengalami ruam kulit dalam beberapa hari terak...</td>\n",
              "    </tr>\n",
              "    <tr>\n",
              "      <th>1</th>\n",
              "      <td>Infeksi Jamur</td>\n",
              "      <td>mengalami erupsi kulit nodal dalam beberapa ha...</td>\n",
              "    </tr>\n",
              "    <tr>\n",
              "      <th>2</th>\n",
              "      <td>Infeksi Jamur</td>\n",
              "      <td>mengalami erupsi kulit nodal dalam beberapa ha...</td>\n",
              "    </tr>\n",
              "    <tr>\n",
              "      <th>3</th>\n",
              "      <td>Infeksi Jamur</td>\n",
              "      <td>mengalami gatal dalam beberapa hari terakhir. ...</td>\n",
              "    </tr>\n",
              "    <tr>\n",
              "      <th>4</th>\n",
              "      <td>Infeksi Jamur</td>\n",
              "      <td>mengalami ruam kulit dalam beberapa hari terak...</td>\n",
              "    </tr>\n",
              "  </tbody>\n",
              "</table>\n",
              "</div>\n",
              "      <button class=\"colab-df-convert\" onclick=\"convertToInteractive('df-537e20eb-6755-4a63-9fcb-5b93d0077d6a')\"\n",
              "              title=\"Convert this dataframe to an interactive table.\"\n",
              "              style=\"display:none;\">\n",
              "        \n",
              "  <svg xmlns=\"http://www.w3.org/2000/svg\" height=\"24px\"viewBox=\"0 0 24 24\"\n",
              "       width=\"24px\">\n",
              "    <path d=\"M0 0h24v24H0V0z\" fill=\"none\"/>\n",
              "    <path d=\"M18.56 5.44l.94 2.06.94-2.06 2.06-.94-2.06-.94-.94-2.06-.94 2.06-2.06.94zm-11 1L8.5 8.5l.94-2.06 2.06-.94-2.06-.94L8.5 2.5l-.94 2.06-2.06.94zm10 10l.94 2.06.94-2.06 2.06-.94-2.06-.94-.94-2.06-.94 2.06-2.06.94z\"/><path d=\"M17.41 7.96l-1.37-1.37c-.4-.4-.92-.59-1.43-.59-.52 0-1.04.2-1.43.59L10.3 9.45l-7.72 7.72c-.78.78-.78 2.05 0 2.83L4 21.41c.39.39.9.59 1.41.59.51 0 1.02-.2 1.41-.59l7.78-7.78 2.81-2.81c.8-.78.8-2.07 0-2.86zM5.41 20L4 18.59l7.72-7.72 1.47 1.35L5.41 20z\"/>\n",
              "  </svg>\n",
              "      </button>\n",
              "      \n",
              "  <style>\n",
              "    .colab-df-container {\n",
              "      display:flex;\n",
              "      flex-wrap:wrap;\n",
              "      gap: 12px;\n",
              "    }\n",
              "\n",
              "    .colab-df-convert {\n",
              "      background-color: #E8F0FE;\n",
              "      border: none;\n",
              "      border-radius: 50%;\n",
              "      cursor: pointer;\n",
              "      display: none;\n",
              "      fill: #1967D2;\n",
              "      height: 32px;\n",
              "      padding: 0 0 0 0;\n",
              "      width: 32px;\n",
              "    }\n",
              "\n",
              "    .colab-df-convert:hover {\n",
              "      background-color: #E2EBFA;\n",
              "      box-shadow: 0px 1px 2px rgba(60, 64, 67, 0.3), 0px 1px 3px 1px rgba(60, 64, 67, 0.15);\n",
              "      fill: #174EA6;\n",
              "    }\n",
              "\n",
              "    [theme=dark] .colab-df-convert {\n",
              "      background-color: #3B4455;\n",
              "      fill: #D2E3FC;\n",
              "    }\n",
              "\n",
              "    [theme=dark] .colab-df-convert:hover {\n",
              "      background-color: #434B5C;\n",
              "      box-shadow: 0px 1px 3px 1px rgba(0, 0, 0, 0.15);\n",
              "      filter: drop-shadow(0px 1px 2px rgba(0, 0, 0, 0.3));\n",
              "      fill: #FFFFFF;\n",
              "    }\n",
              "  </style>\n",
              "\n",
              "      <script>\n",
              "        const buttonEl =\n",
              "          document.querySelector('#df-537e20eb-6755-4a63-9fcb-5b93d0077d6a button.colab-df-convert');\n",
              "        buttonEl.style.display =\n",
              "          google.colab.kernel.accessAllowed ? 'block' : 'none';\n",
              "\n",
              "        async function convertToInteractive(key) {\n",
              "          const element = document.querySelector('#df-537e20eb-6755-4a63-9fcb-5b93d0077d6a');\n",
              "          const dataTable =\n",
              "            await google.colab.kernel.invokeFunction('convertToInteractive',\n",
              "                                                     [key], {});\n",
              "          if (!dataTable) return;\n",
              "\n",
              "          const docLinkHtml = 'Like what you see? Visit the ' +\n",
              "            '<a target=\"_blank\" href=https://colab.research.google.com/notebooks/data_table.ipynb>data table notebook</a>'\n",
              "            + ' to learn more about interactive tables.';\n",
              "          element.innerHTML = '';\n",
              "          dataTable['output_type'] = 'display_data';\n",
              "          await google.colab.output.renderOutput(dataTable, element);\n",
              "          const docLink = document.createElement('div');\n",
              "          docLink.innerHTML = docLinkHtml;\n",
              "          element.appendChild(docLink);\n",
              "        }\n",
              "      </script>\n",
              "    </div>\n",
              "  </div>\n",
              "  "
            ]
          },
          "metadata": {},
          "execution_count": 14
        }
      ]
    },
    {
      "cell_type": "code",
      "source": [
        "# df_sampel = pd.concat([dfMerge[dfMerge['label'] == kelas].sample(n=50, random_state=42) for kelas in dfMerge['label'].unique() if kelas not in ['Pembuluh Mekar', 'Wasir Dimorfik', 'Penyakit Refluks Gastroesofagus']])\n",
        "# dfMerge = pd.concat([dfMerge[dfMerge['label'].isin(['Pembuluh Mekar', 'Wasir Dimorfik', 'Penyakit Refluks Gastroesofagus'])], df_sampel])"
      ],
      "metadata": {
        "id": "wO1yrmrd-CIH"
      },
      "id": "wO1yrmrd-CIH",
      "execution_count": null,
      "outputs": []
    },
    {
      "cell_type": "code",
      "source": [
        "for nama_kolom in dfMerge.columns:\n",
        "  print(dfMerge[nama_kolom].value_counts(), \"\\n\")"
      ],
      "metadata": {
        "colab": {
          "base_uri": "https://localhost:8080/"
        },
        "id": "ZU3zUHa8AxnX",
        "outputId": "f9214ac9-3b8a-4799-8570-30906b727f87"
      },
      "id": "ZU3zUHa8AxnX",
      "execution_count": null,
      "outputs": [
        {
          "output_type": "stream",
          "name": "stdout",
          "text": [
            "Infeksi Jamur                      170\n",
            "Spondylosis                        170\n",
            "Radang Paru-Paru                   170\n",
            "Flu Biasa                          170\n",
            "Varises                            170\n",
            "Alergi                             170\n",
            "Radang Sendi                       170\n",
            "Penyakit Tipus                     170\n",
            "Demam Berdarah                     170\n",
            "Cacar Air                          170\n",
            "Malaria                            170\n",
            "Penyakit Kuning                    170\n",
            "Migrain                            170\n",
            "Infeksi Saluran Kemih              170\n",
            "Impetigo                           170\n",
            "Psoriasis                          170\n",
            "Reaksi Obat                        170\n",
            "Penyakit Ulkus Peptikum            170\n",
            "Wasir                              170\n",
            "Diabetes                           170\n",
            "Jerawat                            170\n",
            "Asma Bronkial                      170\n",
            "Hipertensi                         170\n",
            "Vertigo Posisi Paroymsal           120\n",
            "Hipoglikemia                       120\n",
            "Hipertiroidisme                    120\n",
            "Hipotiroidisme                     120\n",
            "Serangan Jantung                   120\n",
            "Osteoartritis                      120\n",
            "Hepatitis C                        120\n",
            "Tbc                                120\n",
            "Hepatitis Alkoholik                120\n",
            "Hepatitis E                        120\n",
            "Hepatitis D                        120\n",
            "Hepatitis B                        120\n",
            "Hepatitis A                        120\n",
            "Pendarahan Otak                    120\n",
            "Gastroenteritis                    120\n",
            "Aids                               120\n",
            "Kolestasis Kronis                  120\n",
            "Gerd                               120\n",
            "Penyakit Refluks Gastroesofagus     50\n",
            "Name: label, dtype: int64 \n",
            "\n",
            "merasa sangat gatal, sakit, dan lelah. itu, berat badan turun dan suhu tubuh naik. urine berwarna gelap, dan kulit menjadi kuning. itu, juga mengalami sakit perut.                                                                                                                                                                                  5\n",
            "gejala muntah sangat mengangu keseharian saya mengalami nyeri dada dalam beberapa hari terakhir. gejala sesak napas sangat mengangu keseharian                                                                                                                                                                                                       4\n",
            "mengalami sembelit dan sangat sulit pergi ke kamar mandi. pergi, rasanya sakit dan tinja berdarah. juga merasakan sakit di pantat dan anus saya sangat gatal dan iritasi.                                                                                                                                                                            3\n",
            "gejala bau urin yang busuk sangat mengangu keseharian saya mengalami rasa tidak nyaman pada kandung kemih dalam beberapa hari terakhir. gejala rasa urin terus menerus sangat mengangu keseharian gejala perih buang air kecil sangat mengangu keseharian                                                                                            3\n",
            "gejala ruam kulit sangat mengangu keseharian gejala berteriak teriak sangat mengangu keseharian gejala komedo sangat mengangu keseharian                                                                                                                                                                                                             3\n",
            "                                                                                                                                                                                                                                                                                                                                                    ..\n",
            "gejala nyeri sendi sangat mengangu keseharian gejala kulit menjadi ke abu abuan sangat mengangu keseharian mengalami pengelupasan kulit dalam beberapa hari terakhir. saya mengalami penyok kecil di kuku dalam beberapa hari terakhir. gejala kuku inflamasi sangat mengangu keseharian gejala ruam kulit sangat mengangu keseharian                1\n",
            "gejala pengelupasan kulit sangat mengangu keseharian gejala kulit menjadi ke abu abuan sangat mengangu keseharian mengalami penyok kecil di kuku dalam beberapa hari terakhir. mengalami ruam kulit dalam beberapa hari terakhir. mengalami kuku inflamasi dalam beberapa hari terakhir. saya mengalami nyeri sendi dalam beberapa hari terakhir.    1\n",
            "gejala ruam kulit sangat mengangu keseharian gejala kulit menjadi ke abu abuan sangat mengangu keseharian gejala pengelupasan kulit sangat mengangu keseharian saya mengalami penyok kecil di kuku dalam beberapa hari terakhir. gejala nyeri sendi sangat mengangu keseharian                                                                       1\n",
            "mengalami nyeri sendi dalam beberapa hari terakhir. mengalami pengelupasan kulit dalam beberapa hari terakhir. mengalami kuku inflamasi dalam beberapa hari terakhir. gejala kulit menjadi ke abu abuan sangat mengangu keseharian gejala ruam kulit sangat mengangu keseharian                                                                      1\n",
            "terus menerus bersin dan batuk kering. infeksi sepertinya tidak kunjung sembuh, dan jantung berdebar-debar. tengorokan kadang terasa sakit, biasanya membaik.                                                                                                                                                                                        1\n",
            "Name: text, Length: 5985, dtype: int64 \n",
            "\n"
          ]
        }
      ]
    },
    {
      "cell_type": "markdown",
      "id": "1a1a3a6a",
      "metadata": {
        "papermill": {
          "duration": 0.0058,
          "end_time": "2023-04-06T04:11:57.995838",
          "exception": false,
          "start_time": "2023-04-06T04:11:57.990038",
          "status": "completed"
        },
        "tags": [],
        "id": "1a1a3a6a"
      },
      "source": [
        "Creating encodings for disease."
      ]
    },
    {
      "cell_type": "code",
      "execution_count": null,
      "id": "9f3f79ff",
      "metadata": {
        "execution": {
          "iopub.execute_input": "2023-04-06T04:11:58.009804Z",
          "iopub.status.busy": "2023-04-06T04:11:58.009515Z",
          "iopub.status.idle": "2023-04-06T04:11:58.019455Z",
          "shell.execute_reply": "2023-04-06T04:11:58.018448Z"
        },
        "papermill": {
          "duration": 0.018935,
          "end_time": "2023-04-06T04:11:58.021513",
          "exception": false,
          "start_time": "2023-04-06T04:11:58.002578",
          "status": "completed"
        },
        "tags": [],
        "colab": {
          "base_uri": "https://localhost:8080/"
        },
        "id": "9f3f79ff",
        "outputId": "0a97050f-5531-47ca-8f2c-90486579c461"
      },
      "outputs": [
        {
          "output_type": "execute_result",
          "data": {
            "text/plain": [
              "({0: 'Infeksi Jamur',\n",
              "  1: 'Alergi',\n",
              "  2: 'Gerd',\n",
              "  3: 'Kolestasis Kronis',\n",
              "  4: 'Reaksi Obat',\n",
              "  5: 'Penyakit Ulkus Peptikum',\n",
              "  6: 'Aids',\n",
              "  7: 'Diabetes',\n",
              "  8: 'Gastroenteritis',\n",
              "  9: 'Asma Bronkial',\n",
              "  10: 'Hipertensi',\n",
              "  11: 'Migrain',\n",
              "  12: 'Spondylosis',\n",
              "  13: 'Pendarahan Otak',\n",
              "  14: 'Penyakit Kuning',\n",
              "  15: 'Malaria',\n",
              "  16: 'Cacar Air',\n",
              "  17: 'Demam Berdarah',\n",
              "  18: 'Penyakit Tipus',\n",
              "  19: 'Hepatitis A',\n",
              "  20: 'Hepatitis B',\n",
              "  21: 'Hepatitis C',\n",
              "  22: 'Hepatitis D',\n",
              "  23: 'Hepatitis E',\n",
              "  24: 'Hepatitis Alkoholik',\n",
              "  25: 'Tbc',\n",
              "  26: 'Flu Biasa',\n",
              "  27: 'Radang Paru-Paru',\n",
              "  28: 'Wasir',\n",
              "  29: 'Serangan Jantung',\n",
              "  30: 'Varises',\n",
              "  31: 'Hipotiroidisme',\n",
              "  32: 'Hipertiroidisme',\n",
              "  33: 'Hipoglikemia',\n",
              "  34: 'Osteoartritis',\n",
              "  35: 'Radang Sendi',\n",
              "  36: 'Vertigo Posisi Paroymsal',\n",
              "  37: 'Jerawat',\n",
              "  38: 'Infeksi Saluran Kemih',\n",
              "  39: 'Psoriasis',\n",
              "  40: 'Impetigo',\n",
              "  41: 'Penyakit Refluks Gastroesofagus'},\n",
              " {'Infeksi Jamur': 0,\n",
              "  'Alergi': 1,\n",
              "  'Gerd': 2,\n",
              "  'Kolestasis Kronis': 3,\n",
              "  'Reaksi Obat': 4,\n",
              "  'Penyakit Ulkus Peptikum': 5,\n",
              "  'Aids': 6,\n",
              "  'Diabetes': 7,\n",
              "  'Gastroenteritis': 8,\n",
              "  'Asma Bronkial': 9,\n",
              "  'Hipertensi': 10,\n",
              "  'Migrain': 11,\n",
              "  'Spondylosis': 12,\n",
              "  'Pendarahan Otak': 13,\n",
              "  'Penyakit Kuning': 14,\n",
              "  'Malaria': 15,\n",
              "  'Cacar Air': 16,\n",
              "  'Demam Berdarah': 17,\n",
              "  'Penyakit Tipus': 18,\n",
              "  'Hepatitis A': 19,\n",
              "  'Hepatitis B': 20,\n",
              "  'Hepatitis C': 21,\n",
              "  'Hepatitis D': 22,\n",
              "  'Hepatitis E': 23,\n",
              "  'Hepatitis Alkoholik': 24,\n",
              "  'Tbc': 25,\n",
              "  'Flu Biasa': 26,\n",
              "  'Radang Paru-Paru': 27,\n",
              "  'Wasir': 28,\n",
              "  'Serangan Jantung': 29,\n",
              "  'Varises': 30,\n",
              "  'Hipotiroidisme': 31,\n",
              "  'Hipertiroidisme': 32,\n",
              "  'Hipoglikemia': 33,\n",
              "  'Osteoartritis': 34,\n",
              "  'Radang Sendi': 35,\n",
              "  'Vertigo Posisi Paroymsal': 36,\n",
              "  'Jerawat': 37,\n",
              "  'Infeksi Saluran Kemih': 38,\n",
              "  'Psoriasis': 39,\n",
              "  'Impetigo': 40,\n",
              "  'Penyakit Refluks Gastroesofagus': 41})"
            ]
          },
          "metadata": {},
          "execution_count": 17
        }
      ],
      "source": [
        "int2label = {}\n",
        "\n",
        "for i, disease in enumerate(dfMerge['label'].unique()):\n",
        "    int2label[i] = disease\n",
        "\n",
        "label2int = {v : k for k, v in int2label.items()}\n",
        "num_classes = len(int2label)\n",
        "\n",
        "int2label, label2int"
      ]
    },
    {
      "cell_type": "markdown",
      "id": "763636f6",
      "metadata": {
        "papermill": {
          "duration": 0.006036,
          "end_time": "2023-04-06T04:11:58.033788",
          "exception": false,
          "start_time": "2023-04-06T04:11:58.027752",
          "status": "completed"
        },
        "tags": [],
        "id": "763636f6"
      },
      "source": [
        "## Data Distribution"
      ]
    },
    {
      "cell_type": "code",
      "execution_count": null,
      "id": "d9879e91",
      "metadata": {
        "execution": {
          "iopub.execute_input": "2023-04-06T04:11:58.047157Z",
          "iopub.status.busy": "2023-04-06T04:11:58.046841Z",
          "iopub.status.idle": "2023-04-06T04:11:58.493886Z",
          "shell.execute_reply": "2023-04-06T04:11:58.492907Z"
        },
        "papermill": {
          "duration": 0.456124,
          "end_time": "2023-04-06T04:11:58.496173",
          "exception": false,
          "start_time": "2023-04-06T04:11:58.040049",
          "status": "completed"
        },
        "tags": [],
        "colab": {
          "base_uri": "https://localhost:8080/",
          "height": 740
        },
        "id": "d9879e91",
        "outputId": "2130c580-42e6-4842-f58e-63d5bd33c37b"
      },
      "outputs": [
        {
          "output_type": "execute_result",
          "data": {
            "text/plain": [
              "Text(0.5, 1.0, 'Jumlah Data untuk masing-masing penyakit')"
            ]
          },
          "metadata": {},
          "execution_count": 18
        },
        {
          "output_type": "display_data",
          "data": {
            "text/plain": [
              "<Figure size 1000x800 with 1 Axes>"
            ],
            "image/png": "[encoded data removed]"
          },
          "metadata": {}
        }
      ],
      "source": [
        "plt.figure(figsize = (10, 8))\n",
        "\n",
        "sea.countplot(y = dfMerge['label'], palette = 'Blues_d')\n",
        "plt.title('Jumlah Data untuk masing-masing penyakit')"
      ]
    },
    {
      "cell_type": "markdown",
      "id": "372d9672",
      "metadata": {
        "papermill": {
          "duration": 0.007259,
          "end_time": "2023-04-06T04:11:58.511213",
          "exception": false,
          "start_time": "2023-04-06T04:11:58.503954",
          "status": "completed"
        },
        "tags": [],
        "id": "372d9672"
      },
      "source": [
        "## Distribution of the lenght of description"
      ]
    },
    {
      "cell_type": "code",
      "execution_count": null,
      "id": "a3255b14",
      "metadata": {
        "execution": {
          "iopub.execute_input": "2023-04-06T04:11:58.526547Z",
          "iopub.status.busy": "2023-04-06T04:11:58.526240Z",
          "iopub.status.idle": "2023-04-06T04:11:58.844073Z",
          "shell.execute_reply": "2023-04-06T04:11:58.843091Z"
        },
        "papermill": {
          "duration": 0.328297,
          "end_time": "2023-04-06T04:11:58.846485",
          "exception": false,
          "start_time": "2023-04-06T04:11:58.518188",
          "status": "completed"
        },
        "tags": [],
        "colab": {
          "base_uri": "https://localhost:8080/",
          "height": 502,
          "referenced_widgets": [
            "9b58c9f4f1a0412f8a1f4837cf943802",
            "4b95662f05d44accba071a0cf34224fc",
            "9477c171c6f247b2af46e851f00bd389",
            "98320c83600d4f65b204744bb329204c",
            "01b6c5dd2f784dbdbd4234a0e292141d",
            "be6f12a7c4e34c9898dd2ac452a2b90d",
            "98e6500688304000a2d1adbb1beedbce",
            "b02bda63dd114ebb9d30f7c234064551",
            "66fa68e1d9bc48fbbdf33515144c9ac7",
            "249b98eb134c44679629f2b0f862f849",
            "84f3c0955812448ca893cead51acbb20"
          ]
        },
        "id": "a3255b14",
        "outputId": "78a38042-8fad-4215-88e8-e36259cbf45b"
      },
      "outputs": [
        {
          "output_type": "display_data",
          "data": {
            "text/plain": [
              "  0%|          | 0/6120 [00:00<?, ?it/s]"
            ],
            "application/vnd.jupyter.widget-view+json": {
              "version_major": 2,
              "version_minor": 0,
              "model_id": "9b58c9f4f1a0412f8a1f4837cf943802"
            }
          },
          "metadata": {}
        },
        {
          "output_type": "stream",
          "name": "stdout",
          "text": [
            "Max Length is :  55\n"
          ]
        },
        {
          "output_type": "display_data",
          "data": {
            "text/plain": [
              "<Figure size 640x480 with 1 Axes>"
            ],
            "image/png": "[encoded data removed]"
          },
          "metadata": {}
        }
      ],
      "source": [
        "length = []\n",
        "for txt in tqdm(dfMerge['text'].values):\n",
        "    length.append(len(txt.split()))\n",
        "\n",
        "sea.histplot(length, kde = True, bins = 20)\n",
        "plt.title('Distribution of description length')\n",
        "print(\"Max Length is : \", max(length))"
      ]
    },
    {
      "cell_type": "code",
      "execution_count": null,
      "id": "14d22426",
      "metadata": {
        "execution": {
          "iopub.execute_input": "2023-04-06T04:11:58.866143Z",
          "iopub.status.busy": "2023-04-06T04:11:58.864521Z",
          "iopub.status.idle": "2023-04-06T04:11:58.872088Z",
          "shell.execute_reply": "2023-04-06T04:11:58.871166Z"
        },
        "papermill": {
          "duration": 0.019088,
          "end_time": "2023-04-06T04:11:58.874327",
          "exception": false,
          "start_time": "2023-04-06T04:11:58.855239",
          "status": "completed"
        },
        "tags": [],
        "id": "14d22426"
      },
      "outputs": [],
      "source": [
        "dfMerge['label'] = dfMerge['label'].map(lambda x : label2int[x])"
      ]
    },
    {
      "cell_type": "code",
      "execution_count": null,
      "id": "62d364d9",
      "metadata": {
        "execution": {
          "iopub.execute_input": "2023-04-06T04:11:58.891925Z",
          "iopub.status.busy": "2023-04-06T04:11:58.891647Z",
          "iopub.status.idle": "2023-04-06T04:11:58.929395Z",
          "shell.execute_reply": "2023-04-06T04:11:58.928193Z"
        },
        "papermill": {
          "duration": 0.049272,
          "end_time": "2023-04-06T04:11:58.931693",
          "exception": false,
          "start_time": "2023-04-06T04:11:58.882421",
          "status": "completed"
        },
        "tags": [],
        "colab": {
          "base_uri": "https://localhost:8080/"
        },
        "id": "62d364d9",
        "outputId": "4e3e7ada-8572-44ca-d9c3-d914ad3b9400"
      },
      "outputs": [
        {
          "output_type": "stream",
          "name": "stdout",
          "text": [
            "X vocab: 1801\n"
          ]
        }
      ],
      "source": [
        "X, y = dfMerge['text'].values, dfMerge['label'].values\n",
        "\n",
        "x_tokenizer = Tokenizer(filters = '')\n",
        "x_tokenizer.fit_on_texts(X)\n",
        "x_vocab = len(x_tokenizer.word_index) + 1\n",
        "print(\"X vocab:\", x_vocab)"
      ]
    },
    {
      "cell_type": "markdown",
      "id": "fc27376e",
      "metadata": {
        "papermill": {
          "duration": 0.007651,
          "end_time": "2023-04-06T04:11:58.947594",
          "exception": false,
          "start_time": "2023-04-06T04:11:58.939943",
          "status": "completed"
        },
        "tags": [],
        "id": "fc27376e"
      },
      "source": [
        "## Creating the train and testing data"
      ]
    },
    {
      "cell_type": "code",
      "execution_count": null,
      "id": "066444cb",
      "metadata": {
        "execution": {
          "iopub.execute_input": "2023-04-06T04:11:58.964614Z",
          "iopub.status.busy": "2023-04-06T04:11:58.964068Z",
          "iopub.status.idle": "2023-04-06T04:11:59.111860Z",
          "shell.execute_reply": "2023-04-06T04:11:59.110761Z"
        },
        "papermill": {
          "duration": 0.158924,
          "end_time": "2023-04-06T04:11:59.114422",
          "exception": false,
          "start_time": "2023-04-06T04:11:58.955498",
          "status": "completed"
        },
        "tags": [],
        "colab": {
          "base_uri": "https://localhost:8080/"
        },
        "id": "066444cb",
        "outputId": "e048f611-7021-48cb-c250-b936ceb17429"
      },
      "outputs": [
        {
          "output_type": "execute_result",
          "data": {
            "text/plain": [
              "((5508,), (612,), (5508,), (612,))"
            ]
          },
          "metadata": {},
          "execution_count": 22
        }
      ],
      "source": [
        "from sklearn.model_selection import train_test_split\n",
        "\n",
        "train_x, val_x, train_y, val_y = train_test_split(X, y, test_size = 0.1, stratify = y)\n",
        "train_x.shape, val_x.shape, train_y.shape, val_y.shape"
      ]
    },
    {
      "cell_type": "code",
      "execution_count": null,
      "id": "9b2c5a88",
      "metadata": {
        "execution": {
          "iopub.execute_input": "2023-04-06T04:11:59.149298Z",
          "iopub.status.busy": "2023-04-06T04:11:59.147753Z",
          "iopub.status.idle": "2023-04-06T04:12:09.437535Z",
          "shell.execute_reply": "2023-04-06T04:12:09.436452Z"
        },
        "papermill": {
          "duration": 10.301704,
          "end_time": "2023-04-06T04:12:09.440605",
          "exception": false,
          "start_time": "2023-04-06T04:11:59.138901",
          "status": "completed"
        },
        "tags": [],
        "id": "9b2c5a88",
        "colab": {
          "base_uri": "https://localhost:8080/",
          "height": 145,
          "referenced_widgets": [
            "60ec86dc6b6246e0b703486e6485d4f6",
            "61147fedb9e14065860a752b587ca27f",
            "a3032a153f2949249afc69b518501bc4",
            "5333ed961d634d3699da4600d1de901f",
            "6500407000d2474e8292984fcb773183",
            "06135191fb854479a04cf4d8f8f8336c",
            "68d342b16e8f4ab68321c9e49c7622d8",
            "075267049b2d4f24b10826361428ee1a",
            "0b388180bef242c2b64f440ff0ea24e6",
            "08750e8c662a439f80d1dd3fc7d5e118",
            "51a80882678449a8a3c92c33b4375bc9",
            "75adbd7f1a954da79da5761bfc68864e",
            "34aa1470167448799b1c119e7296d61f",
            "a901c05f246c42a6b6d04ccfc0a3364d",
            "ec4b44f2bb13476fb0da9228f420db04",
            "4e79d727d3f04d9681b5719dd85201b4",
            "43f56e6dd90f42cb87020e459ada0617",
            "6d5163a8f53f4eafad868cd3e96136af",
            "d73644a17332420bb359bc3dae208da2",
            "22ee2a1ec3344eba8932af1774ef6d14",
            "3ea0ed71c3c1420d8f0152cef4df4096",
            "8ad51f1a7eaf46df83102a8c4809bca6",
            "1f63ac85fc2046959cccd19da2192fef",
            "470119f60d2c45e0a524ee5105a5d2ce",
            "617a6eb46e124545b4753e513dd69b78",
            "077ba7499a824f46968eabddaa5d24ab",
            "09b93b54866945f3a300333d32c072a5",
            "fa56f64779d84a3ebafe9806bf38c064",
            "3c3d6caa76fb406dbe138954fa1131da",
            "e5f98e3bd464481dadb2652a71bda848",
            "47e46c65da1a47f1916b1032f24899d1",
            "d07d46c0c0784cbd976ac8c38465438f",
            "f9967d0bb0d548cd896248b923accd5a",
            "65d88997066c448f87b0d3ac54df07eb",
            "2324610656ea454ab7a0a9718cca6df8",
            "b9673dd5c8454278b535545ee07bca76",
            "e229f04aa8284ddfa3eba88f2aacb068",
            "a8a1b7e346724f2591ce8735bf8bebf0",
            "0d07914aa6e8405c985bb8c0e4a0a74a",
            "bfa99d2b0ed248ebbcfbac72c26b1ad8",
            "5e848ff4cb7844bba3843e87061311f5",
            "31acf6a511c44a5694e4dc07ebfe3614",
            "63bb47e300eb42fbb9312bef092cd2eb",
            "f4db7576e9004e19bb741d180e7d987c"
          ]
        },
        "outputId": "a4dc9307-653e-4182-ee00-dfad3e4a75c6"
      },
      "outputs": [
        {
          "output_type": "display_data",
          "data": {
            "text/plain": [
              "Downloading (…)okenizer_config.json:   0%|          | 0.00/62.0 [00:00<?, ?B/s]"
            ],
            "application/vnd.jupyter.widget-view+json": {
              "version_major": 2,
              "version_minor": 0,
              "model_id": "60ec86dc6b6246e0b703486e6485d4f6"
            }
          },
          "metadata": {}
        },
        {
          "output_type": "display_data",
          "data": {
            "text/plain": [
              "Downloading (…)lve/main/config.json:   0%|          | 0.00/468 [00:00<?, ?B/s]"
            ],
            "application/vnd.jupyter.widget-view+json": {
              "version_major": 2,
              "version_minor": 0,
              "model_id": "75adbd7f1a954da79da5761bfc68864e"
            }
          },
          "metadata": {}
        },
        {
          "output_type": "display_data",
          "data": {
            "text/plain": [
              "Downloading (…)solve/main/vocab.txt:   0%|          | 0.00/230k [00:00<?, ?B/s]"
            ],
            "application/vnd.jupyter.widget-view+json": {
              "version_major": 2,
              "version_minor": 0,
              "model_id": "1f63ac85fc2046959cccd19da2192fef"
            }
          },
          "metadata": {}
        },
        {
          "output_type": "display_data",
          "data": {
            "text/plain": [
              "Downloading (…)cial_tokens_map.json:   0%|          | 0.00/112 [00:00<?, ?B/s]"
            ],
            "application/vnd.jupyter.widget-view+json": {
              "version_major": 2,
              "version_minor": 0,
              "model_id": "65d88997066c448f87b0d3ac54df07eb"
            }
          },
          "metadata": {}
        }
      ],
      "source": [
        "from transformers import AutoTokenizer\n",
        "BATCH_SIZE = 8\n",
        "\n",
        "tokenizer = AutoTokenizer.from_pretrained(\"cahya/bert-base-indonesian-522M\")\n",
        "train_encodings = tokenizer(list(train_x), max_length=512, padding='max_length', truncation=True)\n",
        "val_encodings = tokenizer(list(val_x), max_length=512, padding='max_length', truncation=True)\n",
        "\n",
        "train_dataset = tf.data.Dataset.from_tensor_slices((\n",
        "    dict(train_encodings),\n",
        "    train_y\n",
        ")).batch(BATCH_SIZE)\n",
        "\n",
        "val_dataset = tf.data.Dataset.from_tensor_slices((\n",
        "    dict(val_encodings),\n",
        "    val_y\n",
        ")).batch(BATCH_SIZE)\n"
      ]
    },
    {
      "cell_type": "code",
      "source": [
        "num_classes = 42\n",
        "\n",
        "from transformers import TFAutoModelForSequenceClassification\n",
        "\n",
        "model = TFAutoModelForSequenceClassification.from_pretrained(\n",
        "    \"cahya/bert-base-indonesian-522M\", \n",
        "    num_labels = num_classes, \n",
        "    id2label = int2label, \n",
        "    label2id = label2int,\n",
        "    output_attentions = True)\n",
        "\n",
        "model.compile(\n",
        "    loss = keras.losses.SparseCategoricalCrossentropy(from_logits=True),\n",
        "    optimizer = keras.optimizers.Adam(learning_rate = 3e-5),\n",
        "    metrics = ['accuracy'])\n",
        "\n",
        "model"
      ],
      "metadata": {
        "colab": {
          "base_uri": "https://localhost:8080/",
          "height": 156,
          "referenced_widgets": [
            "a3de725aa67c4677ad0e511925d68ba2",
            "9c7e51876cf94a4f9ca631ebce7a0adc",
            "b3da5812f2ca45f7ac5c22dd4579e4fa",
            "b26927a694a14b8192e7306f66771684",
            "84919be9afd94434b38f80951ced81f9",
            "12e1060d0e354a40811c443419362eaf",
            "be0a1f4c9fd145c290094b451971a8b7",
            "6ab6af632a174280b7c995d1f4784caa",
            "8cf1258e271e48b08db776f235ea7d88",
            "4b47ed11709349de88839995b0e50706",
            "ab066116425e4e02b0da2c1abc34fb06"
          ]
        },
        "id": "bp6MyJ2RFInb",
        "outputId": "030b31a2-1840-477e-8a9c-7d93000d92d2"
      },
      "id": "bp6MyJ2RFInb",
      "execution_count": null,
      "outputs": [
        {
          "output_type": "display_data",
          "data": {
            "text/plain": [
              "Downloading tf_model.h5:   0%|          | 0.00/545M [00:00<?, ?B/s]"
            ],
            "application/vnd.jupyter.widget-view+json": {
              "version_major": 2,
              "version_minor": 0,
              "model_id": "a3de725aa67c4677ad0e511925d68ba2"
            }
          },
          "metadata": {}
        },
        {
          "output_type": "stream",
          "name": "stderr",
          "text": [
            "All model checkpoint layers were used when initializing TFBertForSequenceClassification.\n",
            "\n",
            "Some layers of TFBertForSequenceClassification were not initialized from the model checkpoint at cahya/bert-base-indonesian-522M and are newly initialized: ['classifier']\n",
            "You should probably TRAIN this model on a down-stream task to be able to use it for predictions and inference.\n"
          ]
        },
        {
          "output_type": "execute_result",
          "data": {
            "text/plain": [
              "<transformers.models.bert.modeling_tf_bert.TFBertForSequenceClassification at 0x7fd8486fe1a0>"
            ]
          },
          "metadata": {},
          "execution_count": 33
        }
      ]
    },
    {
      "cell_type": "code",
      "source": [
        "for layer in model.layers:\n",
        "    print(layer, layer.trainable)"
      ],
      "metadata": {
        "colab": {
          "base_uri": "https://localhost:8080/"
        },
        "id": "cUqkar8DHIno",
        "outputId": "08519379-8e27-40f0-879e-278d636c2ae9"
      },
      "id": "cUqkar8DHIno",
      "execution_count": null,
      "outputs": [
        {
          "output_type": "stream",
          "name": "stdout",
          "text": [
            "<transformers.models.bert.modeling_tf_bert.TFBertMainLayer object at 0x7fd8481e6fe0> True\n",
            "<keras.layers.regularization.dropout.Dropout object at 0x7fd84814d0f0> True\n",
            "<keras.layers.core.dense.Dense object at 0x7fd84814d4e0> True\n"
          ]
        }
      ]
    },
    {
      "cell_type": "code",
      "source": [
        "model.summary()"
      ],
      "metadata": {
        "colab": {
          "base_uri": "https://localhost:8080/"
        },
        "id": "QCunSrpScgbb",
        "outputId": "4045918d-4190-43de-f8ba-3536acd1cd0e"
      },
      "id": "QCunSrpScgbb",
      "execution_count": null,
      "outputs": [
        {
          "output_type": "stream",
          "name": "stdout",
          "text": [
            "Model: \"tf_bert_for_sequence_classification\"\n",
            "_________________________________________________________________\n",
            " Layer (type)                Output Shape              Param #   \n",
            "=================================================================\n",
            " bert (TFBertMainLayer)      multiple                  110617344 \n",
            "                                                                 \n",
            " dropout_37 (Dropout)        multiple                  0         \n",
            "                                                                 \n",
            " classifier (Dense)          multiple                  32298     \n",
            "                                                                 \n",
            "=================================================================\n",
            "Total params: 110,649,642\n",
            "Trainable params: 110,649,642\n",
            "Non-trainable params: 0\n",
            "_________________________________________________________________\n"
          ]
        }
      ]
    },
    {
      "cell_type": "code",
      "source": [
        "EPOCHS = 10\n",
        "batch_size = 16\n",
        "\n",
        "history = model.fit(train_dataset,\n",
        "          batch_size=batch_size,\n",
        "          epochs = EPOCHS,\n",
        "          validation_data = val_dataset)"
      ],
      "metadata": {
        "colab": {
          "base_uri": "https://localhost:8080/"
        },
        "id": "_bLkSCfnlaPQ",
        "outputId": "5af25f3c-4bc4-4ff1-8067-6eca410d3d41"
      },
      "id": "_bLkSCfnlaPQ",
      "execution_count": null,
      "outputs": [
        {
          "output_type": "stream",
          "name": "stdout",
          "text": [
            "Epoch 1/10\n",
            "689/689 [==============================] - 705s 942ms/step - loss: 0.7707 - accuracy: 0.8807 - val_loss: 0.1307 - val_accuracy: 0.9771\n",
            "Epoch 2/10\n",
            "689/689 [==============================] - 661s 959ms/step - loss: 0.0632 - accuracy: 0.9918 - val_loss: 0.0679 - val_accuracy: 0.9886\n",
            "Epoch 3/10\n",
            "689/689 [==============================] - 645s 935ms/step - loss: 0.0183 - accuracy: 0.9984 - val_loss: 0.0382 - val_accuracy: 0.9902\n",
            "Epoch 4/10\n",
            "689/689 [==============================] - 645s 936ms/step - loss: 0.0172 - accuracy: 0.9980 - val_loss: 0.0376 - val_accuracy: 0.9935\n",
            "Epoch 5/10\n",
            "689/689 [==============================] - 645s 937ms/step - loss: 0.0245 - accuracy: 0.9971 - val_loss: 0.0680 - val_accuracy: 0.9837\n",
            "Epoch 6/10\n",
            "689/689 [==============================] - 644s 935ms/step - loss: 0.0471 - accuracy: 0.9907 - val_loss: 0.0427 - val_accuracy: 0.9918\n",
            "Epoch 7/10\n",
            "689/689 [==============================] - 644s 935ms/step - loss: 0.0158 - accuracy: 0.9966 - val_loss: 0.0400 - val_accuracy: 0.9902\n",
            "Epoch 8/10\n",
            "689/689 [==============================] - 660s 959ms/step - loss: 0.0131 - accuracy: 0.9975 - val_loss: 0.1946 - val_accuracy: 0.9477\n",
            "Epoch 9/10\n",
            "689/689 [==============================] - 645s 936ms/step - loss: 0.0530 - accuracy: 0.9884 - val_loss: 0.0726 - val_accuracy: 0.9886\n",
            "Epoch 10/10\n",
            "689/689 [==============================] - 644s 935ms/step - loss: 0.0141 - accuracy: 0.9969 - val_loss: 0.0364 - val_accuracy: 0.9918\n"
          ]
        }
      ]
    },
    {
      "cell_type": "code",
      "source": [
        "model.evaluate(val_dataset, batch_size=batch_size)"
      ],
      "metadata": {
        "id": "TfPg4pcAligZ",
        "colab": {
          "base_uri": "https://localhost:8080/"
        },
        "outputId": "e98eeb9b-3501-4312-b19c-26e0c93bded7"
      },
      "id": "TfPg4pcAligZ",
      "execution_count": null,
      "outputs": [
        {
          "output_type": "stream",
          "name": "stdout",
          "text": [
            "77/77 [==============================] - 25s 327ms/step - loss: 0.0364 - accuracy: 0.9918\n"
          ]
        },
        {
          "output_type": "execute_result",
          "data": {
            "text/plain": [
              "[0.03635048866271973, 0.991830050945282]"
            ]
          },
          "metadata": {},
          "execution_count": 37
        }
      ]
    },
    {
      "cell_type": "markdown",
      "id": "5328a41d",
      "metadata": {
        "papermill": {
          "duration": 0.03055,
          "end_time": "2023-04-06T04:17:18.039325",
          "exception": false,
          "start_time": "2023-04-06T04:17:18.008775",
          "status": "completed"
        },
        "tags": [],
        "id": "5328a41d"
      },
      "source": [
        "## Plotting the loss and accuracy plot."
      ]
    },
    {
      "cell_type": "code",
      "source": [
        "plt.figure(figsize = (14, 5))\n",
        "\n",
        "plt.subplot(1,2,1)\n",
        "plt.title('Loss')\n",
        "plt.plot(history.history['loss'], marker = 'o', label = 'Training')\n",
        "plt.plot(history.history['val_loss'], marker='o', label = 'Validation')\n",
        "plt.legend()\n",
        "\n",
        "plt.subplot(1,2,2)\n",
        "plt.title('Accuracy')\n",
        "plt.plot(history.history['accuracy'], marker = 'o', label = 'Training')\n",
        "plt.plot(history.history['val_accuracy'], marker='o', label = 'Validation')\n",
        "plt.legend()"
      ],
      "metadata": {
        "id": "KCBRqrCyljwy",
        "colab": {
          "base_uri": "https://localhost:8080/"
        },
        "outputId": "8888d4e7-512e-4cbe-89fe-930347416cf3"
      },
      "id": "KCBRqrCyljwy",
      "execution_count": null,
      "outputs": [
        {
          "output_type": "execute_result",
          "data": {
            "text/plain": [
              "<matplotlib.legend.Legend at 0x7fd8f68ad4e0>"
            ]
          },
          "metadata": {},
          "execution_count": 38
        }
      ]
    },
    {
      "cell_type": "markdown",
      "id": "9aeffcca",
      "metadata": {
        "papermill": {
          "duration": 0.031776,
          "end_time": "2023-04-06T04:17:18.612882",
          "exception": false,
          "start_time": "2023-04-06T04:17:18.581106",
          "status": "completed"
        },
        "tags": [],
        "id": "9aeffcca"
      },
      "source": [
        "## Testing the model on custom input."
      ]
    },
    {
      "cell_type": "code",
      "source": [
        "path = \"./model_merge_bert_multilungual_v6\"\n",
        "path2 = \"./tokenizer_merge_bert_multilungual_v6\"\n",
        "model.save_pretrained(path)\n",
        "tokenizer.save_pretrained(path2)"
      ],
      "metadata": {
        "id": "PboIOFheckzA",
        "colab": {
          "base_uri": "https://localhost:8080/"
        },
        "outputId": "04e9ad59-6754-42c6-ff7e-30b314dc108c"
      },
      "id": "PboIOFheckzA",
      "execution_count": null,
      "outputs": [
        {
          "output_type": "execute_result",
          "data": {
            "text/plain": [
              "('./tokenizer_merge_bert_multilungual_v6/tokenizer_config.json',\n",
              " './tokenizer_merge_bert_multilungual_v6/special_tokens_map.json',\n",
              " './tokenizer_merge_bert_multilungual_v6/vocab.txt',\n",
              " './tokenizer_merge_bert_multilungual_v6/added_tokens.json',\n",
              " './tokenizer_merge_bert_multilungual_v6/tokenizer.json')"
            ]
          },
          "metadata": {},
          "execution_count": 42
        }
      ]
    },
    {
      "cell_type": "code",
      "source": [
        "!zip -r model_merge_bert_multilungual_v6.zip \"/content/model_merge_bert_multilungual_v6\""
      ],
      "metadata": {
        "id": "ac4zctPhf4DI",
        "colab": {
          "base_uri": "https://localhost:8080/"
        },
        "outputId": "2a2247a3-c384-4691-a26b-106f7be121eb"
      },
      "id": "ac4zctPhf4DI",
      "execution_count": null,
      "outputs": [
        {
          "output_type": "stream",
          "name": "stdout",
          "text": [
            "  adding: content/model_merge_bert_multilungual_v6/ (stored 0%)\n",
            "  adding: content/model_merge_bert_multilungual_v6/config.json (deflated 61%)\n",
            "  adding: content/model_merge_bert_multilungual_v6/tf_model.h5 (deflated 7%)\n"
          ]
        }
      ]
    },
    {
      "cell_type": "code",
      "source": [
        "!zip -r tokenizer_merge_bert_multilungual_v6.zip \"/content/tokenizer_merge_bert_multilungual_v6\""
      ],
      "metadata": {
        "id": "Bj48aO-Pf6SO",
        "colab": {
          "base_uri": "https://localhost:8080/"
        },
        "outputId": "8bd416e1-bdbb-49ab-c561-56a77dfa2b05"
      },
      "id": "Bj48aO-Pf6SO",
      "execution_count": null,
      "outputs": [
        {
          "output_type": "stream",
          "name": "stdout",
          "text": [
            "  adding: content/tokenizer_merge_bert_multilungual_v6/ (stored 0%)\n",
            "  adding: content/tokenizer_merge_bert_multilungual_v6/tokenizer_config.json (deflated 47%)\n",
            "  adding: content/tokenizer_merge_bert_multilungual_v6/special_tokens_map.json (deflated 42%)\n",
            "  adding: content/tokenizer_merge_bert_multilungual_v6/vocab.txt (deflated 51%)\n",
            "  adding: content/tokenizer_merge_bert_multilungual_v6/tokenizer.json (deflated 71%)\n"
          ]
        }
      ]
    },
    {
      "cell_type": "code",
      "source": [
        "from transformers import BertTokenizer, BertForSequenceClassification, BertModel"
      ],
      "metadata": {
        "id": "C1iPeGAzgPai"
      },
      "id": "C1iPeGAzgPai",
      "execution_count": null,
      "outputs": []
    },
    {
      "cell_type": "code",
      "source": [
        "tokenizerlocal = BertTokenizer.from_pretrained(\"./tokenizer_merge_bert_multilungual_v6\", local_files_only=True)"
      ],
      "metadata": {
        "id": "C2Sa_I2MhDZL"
      },
      "id": "C2Sa_I2MhDZL",
      "execution_count": null,
      "outputs": []
    },
    {
      "cell_type": "code",
      "source": [
        "modellocal = BertForSequenceClassification.from_pretrained(\"./model_merge_bert_multilungual_v6\", from_tf=True)"
      ],
      "metadata": {
        "id": "L90Wy3bjhcbv",
        "colab": {
          "base_uri": "https://localhost:8080/"
        },
        "outputId": "75bbf84c-7285-41db-a740-57d36bc83657"
      },
      "id": "L90Wy3bjhcbv",
      "execution_count": null,
      "outputs": [
        {
          "output_type": "stream",
          "name": "stderr",
          "text": [
            "All TF 2.0 model weights were used when initializing BertForSequenceClassification.\n",
            "\n",
            "All the weights of BertForSequenceClassification were initialized from the TF 2.0 model.\n",
            "If your task is similar to the task the model of the checkpoint was trained on, you can already use BertForSequenceClassification for predictions without further training.\n"
          ]
        }
      ]
    },
    {
      "cell_type": "code",
      "execution_count": null,
      "id": "9745ec82",
      "metadata": {
        "execution": {
          "iopub.execute_input": "2023-04-06T04:17:18.686291Z",
          "iopub.status.busy": "2023-04-06T04:17:18.685270Z",
          "iopub.status.idle": "2023-04-06T04:17:21.110169Z",
          "shell.execute_reply": "2023-04-06T04:17:21.108878Z"
        },
        "papermill": {
          "duration": 2.46847,
          "end_time": "2023-04-06T04:17:21.112972",
          "exception": false,
          "start_time": "2023-04-06T04:17:18.644502",
          "status": "completed"
        },
        "tags": [],
        "id": "9745ec82",
        "colab": {
          "base_uri": "https://localhost:8080/"
        },
        "outputId": "c1fb549d-3c4b-45a5-8dc1-c4ab3c7f2276"
      },
      "outputs": [
        {
          "output_type": "stream",
          "name": "stdout",
          "text": [
            "[{'label': 'Diabetes', 'score': 0.9974272847175598}, {'label': 'Reaksi Obat', 'score': 0.0008538312977179885}]\n",
            "[{'label': 'Penyakit Tipus', 'score': 0.9986407160758972}, {'label': 'Penyakit Ulkus Peptikum', 'score': 0.00014719706086907536}]\n",
            "[{'label': 'Penyakit Kuning', 'score': 0.9992955923080444}, {'label': 'Radang Paru-Paru', 'score': 0.00010148355067940429}]\n"
          ]
        }
      ],
      "source": [
        "from transformers import TextClassificationPipeline\n",
        "\n",
        "pipe = TextClassificationPipeline(model=modellocal, tokenizer=tokenizerlocal, top_k = 24)\n",
        "\n",
        "text1 = str(\" Penglihatan saya berkabut, dan tampaknya semakin memburuk. Saya merasa lelah dan lelah sepanjang waktu. Saya juga sering mengalami pusing parah dan pusing.\").lower()\n",
        "text2 = str(\"Saya mengalami sembelit dan sakit perut, dan itu sangat tidak nyaman. Sakit perut semakin parah dan mulai mempengaruhi kehidupan sehari-hari saya. Apalagi setiap malam saya menggigil, diikuti demam ringan.\").lower()\n",
        "text3 = str(\" saya merasa sangat gatal, sakit, dan lelah. selain itu, berat badan saya turun dan suhu tubuh saya naik. urine saya berwarna gelap, dan kulit saya menjadi kuning. selain itu, saya juga mengalami sakit perut.\").lower()\n",
        "\n",
        "pred1 = pipe(text1)\n",
        "pred2 = pipe(text2)\n",
        "pred3 = pipe(text3)\n",
        "\n",
        "print(pred1[0][:2])\n",
        "print(pred2[0][:2])\n",
        "print(pred3[0][:2])"
      ]
    },
    {
      "cell_type": "code",
      "source": [
        "factory = StopWordRemoverFactory()\n",
        "addStopwords = ['juga', 'itu', 'saya']\n",
        "removeStopwords = ['namun', 'tidak', 'setelah', 'masih', 'dengan', \"merasakan\", \"adanya\", \"ada\"]\n",
        "stopWords = factory.get_stop_words()+addStopwords\n",
        "\n",
        "for removeStopword in removeStopwords:\n",
        "    if removeStopword in stopWords:\n",
        "        stopWords.remove(removeStopword)\n",
        "    else:\n",
        "        continue\n",
        "\n",
        "dictionaryWord = ArrayDictionary(stopWords)\n",
        "stopWordRemover = StopWordRemover(dictionaryWord)\n",
        "\n",
        "def preprocessing_user_input(text):\n",
        "    global stopWordRemover\n",
        "\n",
        "    text = re.sub('  +', ' ', text)\n",
        "    text = re.sub(r'[^\\x00-\\x7f]','r', text)\n",
        "    text = text.encode('ascii', 'ignore').decode('utf-8')\n",
        "    text = ''.join(''.join(s)[:1] for _, s in itertools.groupby(text))\n",
        "    text = text.lstrip()\n",
        "    text = text.lower()\n",
        "    text = stopWordRemover.remove(text)\n",
        "\n",
        "    return text"
      ],
      "metadata": {
        "id": "lfzqE4dCBnUp"
      },
      "id": "lfzqE4dCBnUp",
      "execution_count": null,
      "outputs": []
    },
    {
      "cell_type": "code",
      "source": [
        "%%time\n",
        "text1 = str(\" Penglihatan saya berkabut, dan tampaknya semakin memburuk. Saya merasa lelah dan lelah sepanjang waktu. Saya juga sering mengalami pusing parah dan pusing.\").lower()\n",
        "text2 = str(\"Saya mengalami sembelit dan sakit perut, dan itu sangat tidak nyaman. Sakit perut semakin parah dan mulai mempengaruhi kehidupan sehari-hari saya. Apalagi setiap malam saya menggigil, diikuti demam ringan.\").lower()\n",
        "text3 = str(\" saya merasa sangat gatal, sakit, dan lelah. selain itu, berat badan saya turun dan suhu tubuh saya naik. urine saya berwarna gelap, dan kulit saya menjadi kuning. selain itu, saya juga mengalami sakit perut.\").lower()\n",
        "\n",
        "pred1 = pipe(text1)\n",
        "pred2 = pipe(text2)\n",
        "pred3 = pipe(text3)\n",
        "\n",
        "print(pred1[0][:2])\n",
        "print(pred2[0][:2])\n",
        "print(pred3[0][:2])"
      ],
      "metadata": {
        "colab": {
          "base_uri": "https://localhost:8080/"
        },
        "id": "JIxN1FysBVL4",
        "outputId": "ebe8d74c-abc6-4bdc-e791-5c9e16f4b706"
      },
      "id": "JIxN1FysBVL4",
      "execution_count": null,
      "outputs": [
        {
          "output_type": "stream",
          "name": "stdout",
          "text": [
            "[{'label': 'Diabetes', 'score': 0.9974272847175598}, {'label': 'Reaksi Obat', 'score': 0.0008538312977179885}]\n",
            "[{'label': 'Penyakit Tipus', 'score': 0.9986407160758972}, {'label': 'Penyakit Ulkus Peptikum', 'score': 0.00014719706086907536}]\n",
            "[{'label': 'Penyakit Kuning', 'score': 0.9992955923080444}, {'label': 'Radang Paru-Paru', 'score': 0.00010148355067940429}]\n",
            "CPU times: user 462 ms, sys: 323 µs, total: 463 ms\n",
            "Wall time: 467 ms\n"
          ]
        }
      ]
    },
    {
      "cell_type": "code",
      "source": [
        "%%time\n",
        "text1 = \" Penglihatan saya berkabut, dan tampaknya semakin memburuk. Saya merasa lelah dan lelah sepanjang waktu. Saya juga sering mengalami pusing parah dan pusing.\"\n",
        "text2 = \"Saya mengalami sembelit dan sakit perut, dan itu sangat tidak nyaman. Sakit perut semakin parah dan mulai mempengaruhi kehidupan sehari-hari saya. Apalagi setiap malam saya menggigil, diikuti demam ringan.\"\n",
        "text3 = \" saya merasa sangat gatal, sakit, dan lelah. selain itu, berat badan saya turun dan suhu tubuh saya naik. urine saya berwarna gelap, dan kulit saya menjadi kuning. selain itu, saya juga mengalami sakit perut.\"\n",
        "\n",
        "pred1 = pipe(preprocessing_user_input(text1))\n",
        "pred2 = pipe(preprocessing_user_input(text2))\n",
        "pred3 = pipe(preprocessing_user_input(text3))\n",
        "\n",
        "print(pred1[0][:2])\n",
        "print(pred2[0][:2])\n",
        "print(pred3[0][:2])"
      ],
      "metadata": {
        "colab": {
          "base_uri": "https://localhost:8080/"
        },
        "id": "Q6aVBELEByNb",
        "outputId": "3da05f48-7d3c-4793-ea47-10e4a28c9bbf"
      },
      "id": "Q6aVBELEByNb",
      "execution_count": null,
      "outputs": [
        {
          "output_type": "stream",
          "name": "stdout",
          "text": [
            "[{'label': 'Diabetes', 'score': 0.9979953765869141}, {'label': 'Reaksi Obat', 'score': 0.0006259650690481067}]\n",
            "[{'label': 'Penyakit Tipus', 'score': 0.9988681077957153}, {'label': 'Penyakit Ulkus Peptikum', 'score': 9.743473492562771e-05}]\n",
            "[{'label': 'Penyakit Kuning', 'score': 0.9994640946388245}, {'label': 'Radang Paru-Paru', 'score': 5.708999015041627e-05}]\n",
            "CPU times: user 420 ms, sys: 0 ns, total: 420 ms\n",
            "Wall time: 428 ms\n"
          ]
        }
      ]
    },
    {
      "cell_type": "code",
      "source": [
        "pred1 = pipe(preprocessing_user_input(\"saya sepertinya sakit\"))\n",
        "\n",
        "print(pred1[0][:2])"
      ],
      "metadata": {
        "colab": {
          "base_uri": "https://localhost:8080/"
        },
        "id": "zfsW0SRs-VIf",
        "outputId": "f21717b6-764e-4e90-b8bf-469d4ef1c60b"
      },
      "id": "zfsW0SRs-VIf",
      "execution_count": null,
      "outputs": [
        {
          "output_type": "stream",
          "name": "stdout",
          "text": [
            "[{'label': 'Cacar Air', 'score': 0.4044741690158844}, {'label': 'Hepatitis C', 'score': 0.3164357542991638}]\n"
          ]
        }
      ]
    },
    {
      "cell_type": "code",
      "source": [
        "!ls -lh tokenizer_merge_bert_multilungual_v6.zip model_merge_bert_multilungual_v6.zip"
      ],
      "metadata": {
        "id": "AiGQglT9jWzA",
        "colab": {
          "base_uri": "https://localhost:8080/"
        },
        "outputId": "313c49cb-0556-4d2b-c9d2-562d642c4443"
      },
      "id": "AiGQglT9jWzA",
      "execution_count": null,
      "outputs": [
        {
          "output_type": "stream",
          "name": "stdout",
          "text": [
            "-rw-r--r-- 1 root root 392M Jun  4 22:16 model_merge_bert_multilungual_v6.zip\n",
            "-rw-r--r-- 1 root root 319K Jun  4 22:16 tokenizer_merge_bert_multilungual_v6.zip\n"
          ]
        }
      ]
    },
    {
      "cell_type": "code",
      "source": [
        "from google.colab import drive\n",
        "drive.mount('/content/drive')"
      ],
      "metadata": {
        "id": "teG4LiSzhOe6",
        "colab": {
          "base_uri": "https://localhost:8080/"
        },
        "outputId": "3012d2ba-b643-49bc-8570-7680d524d1cf"
      },
      "id": "teG4LiSzhOe6",
      "execution_count": null,
      "outputs": [
        {
          "output_type": "stream",
          "name": "stdout",
          "text": [
            "Mounted at /content/drive\n"
          ]
        }
      ]
    },
    {
      "cell_type": "code",
      "source": [
        "!cp -r tokenizer_merge_bert_multilungual_v6.zip \"/content/drive/My Drive/Save Model Capstone/\""
      ],
      "metadata": {
        "id": "1B6DKfyljG91"
      },
      "id": "1B6DKfyljG91",
      "execution_count": null,
      "outputs": []
    },
    {
      "cell_type": "code",
      "source": [
        "!cp -r model_merge_bert_multilungual_v6.zip \"/content/drive/My Drive/Save Model Capstone/\""
      ],
      "metadata": {
        "id": "5QIPzwAxhPny"
      },
      "id": "5QIPzwAxhPny",
      "execution_count": null,
      "outputs": []
    },
    {
      "cell_type": "code",
      "source": [
        "dfMerge.to_csv('data_merge_nlp-csv_clean_v6.csv', index = False, header = True, index_label = None)\n",
        "!cp -r data_merge_nlp-csv_clean_v6.csv \"/content/drive/My Drive/Save Model Capstone/\""
      ],
      "metadata": {
        "id": "ya280v9XALw9"
      },
      "id": "ya280v9XALw9",
      "execution_count": null,
      "outputs": []
    }
  ],
  "metadata": {
    "kernelspec": {
      "display_name": "Python 3",
      "name": "python3"
    },
    "language_info": {
      "codemirror_mode": {
        "name": "ipython",
        "version": 3
      },
      "file_extension": ".py",
      "mimetype": "text/x-python",
      "name": "python",
      "nbconvert_exporter": "python",
      "pygments_lexer": "ipython3",
      "version": "3.8.8"
    },
    "papermill": {
      "default_parameters": {},
      "duration": 352.818072,
      "end_time": "2023-04-06T04:17:24.927541",
      "environment_variables": {},
      "exception": null,
      "input_path": "__notebook__.ipynb",
      "output_path": "__notebook__.ipynb",
      "parameters": {},
      "start_time": "2023-04-06T04:11:32.109469",
      "version": "2.4.0"
    },
    "widgets": {
      "application/vnd.jupyter.widget-state+json": {
        "9b58c9f4f1a0412f8a1f4837cf943802": {
          "model_module": "@jupyter-widgets/controls",
          "model_name": "HBoxModel",
          "model_module_version": "1.5.0",
          "state": {
            "_dom_classes": [],
            "_model_module": "@jupyter-widgets/controls",
            "_model_module_version": "1.5.0",
            "_model_name": "HBoxModel",
            "_view_count": null,
            "_view_module": "@jupyter-widgets/controls",
            "_view_module_version": "1.5.0",
            "_view_name": "HBoxView",
            "box_style": "",
            "children": [
              "IPY_MODEL_4b95662f05d44accba071a0cf34224fc",
              "IPY_MODEL_9477c171c6f247b2af46e851f00bd389",
              "IPY_MODEL_98320c83600d4f65b204744bb329204c"
            ],
            "layout": "IPY_MODEL_01b6c5dd2f784dbdbd4234a0e292141d"
          }
        },
        "4b95662f05d44accba071a0cf34224fc": {
          "model_module": "@jupyter-widgets/controls",
          "model_name": "HTMLModel",
          "model_module_version": "1.5.0",
          "state": {
            "_dom_classes": [],
            "_model_module": "@jupyter-widgets/controls",
            "_model_module_version": "1.5.0",
            "_model_name": "HTMLModel",
            "_view_count": null,
            "_view_module": "@jupyter-widgets/controls",
            "_view_module_version": "1.5.0",
            "_view_name": "HTMLView",
            "description": "",
            "description_tooltip": null,
            "layout": "IPY_MODEL_be6f12a7c4e34c9898dd2ac452a2b90d",
            "placeholder": "​",
            "style": "IPY_MODEL_98e6500688304000a2d1adbb1beedbce",
            "value": "100%"
          }
        },
        "9477c171c6f247b2af46e851f00bd389": {
          "model_module": "@jupyter-widgets/controls",
          "model_name": "FloatProgressModel",
          "model_module_version": "1.5.0",
          "state": {
            "_dom_classes": [],
            "_model_module": "@jupyter-widgets/controls",
            "_model_module_version": "1.5.0",
            "_model_name": "FloatProgressModel",
            "_view_count": null,
            "_view_module": "@jupyter-widgets/controls",
            "_view_module_version": "1.5.0",
            "_view_name": "ProgressView",
            "bar_style": "success",
            "description": "",
            "description_tooltip": null,
            "layout": "IPY_MODEL_b02bda63dd114ebb9d30f7c234064551",
            "max": 6120,
            "min": 0,
            "orientation": "horizontal",
            "style": "IPY_MODEL_66fa68e1d9bc48fbbdf33515144c9ac7",
            "value": 6120
          }
        },
        "98320c83600d4f65b204744bb329204c": {
          "model_module": "@jupyter-widgets/controls",
          "model_name": "HTMLModel",
          "model_module_version": "1.5.0",
          "state": {
            "_dom_classes": [],
            "_model_module": "@jupyter-widgets/controls",
            "_model_module_version": "1.5.0",
            "_model_name": "HTMLModel",
            "_view_count": null,
            "_view_module": "@jupyter-widgets/controls",
            "_view_module_version": "1.5.0",
            "_view_name": "HTMLView",
            "description": "",
            "description_tooltip": null,
            "layout": "IPY_MODEL_249b98eb134c44679629f2b0f862f849",
            "placeholder": "​",
            "style": "IPY_MODEL_84f3c0955812448ca893cead51acbb20",
            "value": " 6120/6120 [00:00&lt;00:00, 72317.22it/s]"
          }
        },
        "01b6c5dd2f784dbdbd4234a0e292141d": {
          "model_module": "@jupyter-widgets/base",
          "model_name": "LayoutModel",
          "model_module_version": "1.2.0",
          "state": {
            "_model_module": "@jupyter-widgets/base",
            "_model_module_version": "1.2.0",
            "_model_name": "LayoutModel",
            "_view_count": null,
            "_view_module": "@jupyter-widgets/base",
            "_view_module_version": "1.2.0",
            "_view_name": "LayoutView",
            "align_content": null,
            "align_items": null,
            "align_self": null,
            "border": null,
            "bottom": null,
            "display": null,
            "flex": null,
            "flex_flow": null,
            "grid_area": null,
            "grid_auto_columns": null,
            "grid_auto_flow": null,
            "grid_auto_rows": null,
            "grid_column": null,
            "grid_gap": null,
            "grid_row": null,
            "grid_template_areas": null,
            "grid_template_columns": null,
            "grid_template_rows": null,
            "height": null,
            "justify_content": null,
            "justify_items": null,
            "left": null,
            "margin": null,
            "max_height": null,
            "max_width": null,
            "min_height": null,
            "min_width": null,
            "object_fit": null,
            "object_position": null,
            "order": null,
            "overflow": null,
            "overflow_x": null,
            "overflow_y": null,
            "padding": null,
            "right": null,
            "top": null,
            "visibility": null,
            "width": null
          }
        },
        "be6f12a7c4e34c9898dd2ac452a2b90d": {
          "model_module": "@jupyter-widgets/base",
          "model_name": "LayoutModel",
          "model_module_version": "1.2.0",
          "state": {
            "_model_module": "@jupyter-widgets/base",
            "_model_module_version": "1.2.0",
            "_model_name": "LayoutModel",
            "_view_count": null,
            "_view_module": "@jupyter-widgets/base",
            "_view_module_version": "1.2.0",
            "_view_name": "LayoutView",
            "align_content": null,
            "align_items": null,
            "align_self": null,
            "border": null,
            "bottom": null,
            "display": null,
            "flex": null,
            "flex_flow": null,
            "grid_area": null,
            "grid_auto_columns": null,
            "grid_auto_flow": null,
            "grid_auto_rows": null,
            "grid_column": null,
            "grid_gap": null,
            "grid_row": null,
            "grid_template_areas": null,
            "grid_template_columns": null,
            "grid_template_rows": null,
            "height": null,
            "justify_content": null,
            "justify_items": null,
            "left": null,
            "margin": null,
            "max_height": null,
            "max_width": null,
            "min_height": null,
            "min_width": null,
            "object_fit": null,
            "object_position": null,
            "order": null,
            "overflow": null,
            "overflow_x": null,
            "overflow_y": null,
            "padding": null,
            "right": null,
            "top": null,
            "visibility": null,
            "width": null
          }
        },
        "98e6500688304000a2d1adbb1beedbce": {
          "model_module": "@jupyter-widgets/controls",
          "model_name": "DescriptionStyleModel",
          "model_module_version": "1.5.0",
          "state": {
            "_model_module": "@jupyter-widgets/controls",
            "_model_module_version": "1.5.0",
            "_model_name": "DescriptionStyleModel",
            "_view_count": null,
            "_view_module": "@jupyter-widgets/base",
            "_view_module_version": "1.2.0",
            "_view_name": "StyleView",
            "description_width": ""
          }
        },
        "b02bda63dd114ebb9d30f7c234064551": {
          "model_module": "@jupyter-widgets/base",
          "model_name": "LayoutModel",
          "model_module_version": "1.2.0",
          "state": {
            "_model_module": "@jupyter-widgets/base",
            "_model_module_version": "1.2.0",
            "_model_name": "LayoutModel",
            "_view_count": null,
            "_view_module": "@jupyter-widgets/base",
            "_view_module_version": "1.2.0",
            "_view_name": "LayoutView",
            "align_content": null,
            "align_items": null,
            "align_self": null,
            "border": null,
            "bottom": null,
            "display": null,
            "flex": null,
            "flex_flow": null,
            "grid_area": null,
            "grid_auto_columns": null,
            "grid_auto_flow": null,
            "grid_auto_rows": null,
            "grid_column": null,
            "grid_gap": null,
            "grid_row": null,
            "grid_template_areas": null,
            "grid_template_columns": null,
            "grid_template_rows": null,
            "height": null,
            "justify_content": null,
            "justify_items": null,
            "left": null,
            "margin": null,
            "max_height": null,
            "max_width": null,
            "min_height": null,
            "min_width": null,
            "object_fit": null,
            "object_position": null,
            "order": null,
            "overflow": null,
            "overflow_x": null,
            "overflow_y": null,
            "padding": null,
            "right": null,
            "top": null,
            "visibility": null,
            "width": null
          }
        },
        "66fa68e1d9bc48fbbdf33515144c9ac7": {
          "model_module": "@jupyter-widgets/controls",
          "model_name": "ProgressStyleModel",
          "model_module_version": "1.5.0",
          "state": {
            "_model_module": "@jupyter-widgets/controls",
            "_model_module_version": "1.5.0",
            "_model_name": "ProgressStyleModel",
            "_view_count": null,
            "_view_module": "@jupyter-widgets/base",
            "_view_module_version": "1.2.0",
            "_view_name": "StyleView",
            "bar_color": null,
            "description_width": ""
          }
        },
        "249b98eb134c44679629f2b0f862f849": {
          "model_module": "@jupyter-widgets/base",
          "model_name": "LayoutModel",
          "model_module_version": "1.2.0",
          "state": {
            "_model_module": "@jupyter-widgets/base",
            "_model_module_version": "1.2.0",
            "_model_name": "LayoutModel",
            "_view_count": null,
            "_view_module": "@jupyter-widgets/base",
            "_view_module_version": "1.2.0",
            "_view_name": "LayoutView",
            "align_content": null,
            "align_items": null,
            "align_self": null,
            "border": null,
            "bottom": null,
            "display": null,
            "flex": null,
            "flex_flow": null,
            "grid_area": null,
            "grid_auto_columns": null,
            "grid_auto_flow": null,
            "grid_auto_rows": null,
            "grid_column": null,
            "grid_gap": null,
            "grid_row": null,
            "grid_template_areas": null,
            "grid_template_columns": null,
            "grid_template_rows": null,
            "height": null,
            "justify_content": null,
            "justify_items": null,
            "left": null,
            "margin": null,
            "max_height": null,
            "max_width": null,
            "min_height": null,
            "min_width": null,
            "object_fit": null,
            "object_position": null,
            "order": null,
            "overflow": null,
            "overflow_x": null,
            "overflow_y": null,
            "padding": null,
            "right": null,
            "top": null,
            "visibility": null,
            "width": null
          }
        },
        "84f3c0955812448ca893cead51acbb20": {
          "model_module": "@jupyter-widgets/controls",
          "model_name": "DescriptionStyleModel",
          "model_module_version": "1.5.0",
          "state": {
            "_model_module": "@jupyter-widgets/controls",
            "_model_module_version": "1.5.0",
            "_model_name": "DescriptionStyleModel",
            "_view_count": null,
            "_view_module": "@jupyter-widgets/base",
            "_view_module_version": "1.2.0",
            "_view_name": "StyleView",
            "description_width": ""
          }
        },
        "60ec86dc6b6246e0b703486e6485d4f6": {
          "model_module": "@jupyter-widgets/controls",
          "model_name": "HBoxModel",
          "model_module_version": "1.5.0",
          "state": {
            "_dom_classes": [],
            "_model_module": "@jupyter-widgets/controls",
            "_model_module_version": "1.5.0",
            "_model_name": "HBoxModel",
            "_view_count": null,
            "_view_module": "@jupyter-widgets/controls",
            "_view_module_version": "1.5.0",
            "_view_name": "HBoxView",
            "box_style": "",
            "children": [
              "IPY_MODEL_61147fedb9e14065860a752b587ca27f",
              "IPY_MODEL_a3032a153f2949249afc69b518501bc4",
              "IPY_MODEL_5333ed961d634d3699da4600d1de901f"
            ],
            "layout": "IPY_MODEL_6500407000d2474e8292984fcb773183"
          }
        },
        "61147fedb9e14065860a752b587ca27f": {
          "model_module": "@jupyter-widgets/controls",
          "model_name": "HTMLModel",
          "model_module_version": "1.5.0",
          "state": {
            "_dom_classes": [],
            "_model_module": "@jupyter-widgets/controls",
            "_model_module_version": "1.5.0",
            "_model_name": "HTMLModel",
            "_view_count": null,
            "_view_module": "@jupyter-widgets/controls",
            "_view_module_version": "1.5.0",
            "_view_name": "HTMLView",
            "description": "",
            "description_tooltip": null,
            "layout": "IPY_MODEL_06135191fb854479a04cf4d8f8f8336c",
            "placeholder": "​",
            "style": "IPY_MODEL_68d342b16e8f4ab68321c9e49c7622d8",
            "value": "Downloading (…)okenizer_config.json: 100%"
          }
        },
        "a3032a153f2949249afc69b518501bc4": {
          "model_module": "@jupyter-widgets/controls",
          "model_name": "FloatProgressModel",
          "model_module_version": "1.5.0",
          "state": {
            "_dom_classes": [],
            "_model_module": "@jupyter-widgets/controls",
            "_model_module_version": "1.5.0",
            "_model_name": "FloatProgressModel",
            "_view_count": null,
            "_view_module": "@jupyter-widgets/controls",
            "_view_module_version": "1.5.0",
            "_view_name": "ProgressView",
            "bar_style": "success",
            "description": "",
            "description_tooltip": null,
            "layout": "IPY_MODEL_075267049b2d4f24b10826361428ee1a",
            "max": 62,
            "min": 0,
            "orientation": "horizontal",
            "style": "IPY_MODEL_0b388180bef242c2b64f440ff0ea24e6",
            "value": 62
          }
        },
        "5333ed961d634d3699da4600d1de901f": {
          "model_module": "@jupyter-widgets/controls",
          "model_name": "HTMLModel",
          "model_module_version": "1.5.0",
          "state": {
            "_dom_classes": [],
            "_model_module": "@jupyter-widgets/controls",
            "_model_module_version": "1.5.0",
            "_model_name": "HTMLModel",
            "_view_count": null,
            "_view_module": "@jupyter-widgets/controls",
            "_view_module_version": "1.5.0",
            "_view_name": "HTMLView",
            "description": "",
            "description_tooltip": null,
            "layout": "IPY_MODEL_08750e8c662a439f80d1dd3fc7d5e118",
            "placeholder": "​",
            "style": "IPY_MODEL_51a80882678449a8a3c92c33b4375bc9",
            "value": " 62.0/62.0 [00:00&lt;00:00, 1.82kB/s]"
          }
        },
        "6500407000d2474e8292984fcb773183": {
          "model_module": "@jupyter-widgets/base",
          "model_name": "LayoutModel",
          "model_module_version": "1.2.0",
          "state": {
            "_model_module": "@jupyter-widgets/base",
            "_model_module_version": "1.2.0",
            "_model_name": "LayoutModel",
            "_view_count": null,
            "_view_module": "@jupyter-widgets/base",
            "_view_module_version": "1.2.0",
            "_view_name": "LayoutView",
            "align_content": null,
            "align_items": null,
            "align_self": null,
            "border": null,
            "bottom": null,
            "display": null,
            "flex": null,
            "flex_flow": null,
            "grid_area": null,
            "grid_auto_columns": null,
            "grid_auto_flow": null,
            "grid_auto_rows": null,
            "grid_column": null,
            "grid_gap": null,
            "grid_row": null,
            "grid_template_areas": null,
            "grid_template_columns": null,
            "grid_template_rows": null,
            "height": null,
            "justify_content": null,
            "justify_items": null,
            "left": null,
            "margin": null,
            "max_height": null,
            "max_width": null,
            "min_height": null,
            "min_width": null,
            "object_fit": null,
            "object_position": null,
            "order": null,
            "overflow": null,
            "overflow_x": null,
            "overflow_y": null,
            "padding": null,
            "right": null,
            "top": null,
            "visibility": null,
            "width": null
          }
        },
        "06135191fb854479a04cf4d8f8f8336c": {
          "model_module": "@jupyter-widgets/base",
          "model_name": "LayoutModel",
          "model_module_version": "1.2.0",
          "state": {
            "_model_module": "@jupyter-widgets/base",
            "_model_module_version": "1.2.0",
            "_model_name": "LayoutModel",
            "_view_count": null,
            "_view_module": "@jupyter-widgets/base",
            "_view_module_version": "1.2.0",
            "_view_name": "LayoutView",
            "align_content": null,
            "align_items": null,
            "align_self": null,
            "border": null,
            "bottom": null,
            "display": null,
            "flex": null,
            "flex_flow": null,
            "grid_area": null,
            "grid_auto_columns": null,
            "grid_auto_flow": null,
            "grid_auto_rows": null,
            "grid_column": null,
            "grid_gap": null,
            "grid_row": null,
            "grid_template_areas": null,
            "grid_template_columns": null,
            "grid_template_rows": null,
            "height": null,
            "justify_content": null,
            "justify_items": null,
            "left": null,
            "margin": null,
            "max_height": null,
            "max_width": null,
            "min_height": null,
            "min_width": null,
            "object_fit": null,
            "object_position": null,
            "order": null,
            "overflow": null,
            "overflow_x": null,
            "overflow_y": null,
            "padding": null,
            "right": null,
            "top": null,
            "visibility": null,
            "width": null
          }
        },
        "68d342b16e8f4ab68321c9e49c7622d8": {
          "model_module": "@jupyter-widgets/controls",
          "model_name": "DescriptionStyleModel",
          "model_module_version": "1.5.0",
          "state": {
            "_model_module": "@jupyter-widgets/controls",
            "_model_module_version": "1.5.0",
            "_model_name": "DescriptionStyleModel",
            "_view_count": null,
            "_view_module": "@jupyter-widgets/base",
            "_view_module_version": "1.2.0",
            "_view_name": "StyleView",
            "description_width": ""
          }
        },
        "075267049b2d4f24b10826361428ee1a": {
          "model_module": "@jupyter-widgets/base",
          "model_name": "LayoutModel",
          "model_module_version": "1.2.0",
          "state": {
            "_model_module": "@jupyter-widgets/base",
            "_model_module_version": "1.2.0",
            "_model_name": "LayoutModel",
            "_view_count": null,
            "_view_module": "@jupyter-widgets/base",
            "_view_module_version": "1.2.0",
            "_view_name": "LayoutView",
            "align_content": null,
            "align_items": null,
            "align_self": null,
            "border": null,
            "bottom": null,
            "display": null,
            "flex": null,
            "flex_flow": null,
            "grid_area": null,
            "grid_auto_columns": null,
            "grid_auto_flow": null,
            "grid_auto_rows": null,
            "grid_column": null,
            "grid_gap": null,
            "grid_row": null,
            "grid_template_areas": null,
            "grid_template_columns": null,
            "grid_template_rows": null,
            "height": null,
            "justify_content": null,
            "justify_items": null,
            "left": null,
            "margin": null,
            "max_height": null,
            "max_width": null,
            "min_height": null,
            "min_width": null,
            "object_fit": null,
            "object_position": null,
            "order": null,
            "overflow": null,
            "overflow_x": null,
            "overflow_y": null,
            "padding": null,
            "right": null,
            "top": null,
            "visibility": null,
            "width": null
          }
        },
        "0b388180bef242c2b64f440ff0ea24e6": {
          "model_module": "@jupyter-widgets/controls",
          "model_name": "ProgressStyleModel",
          "model_module_version": "1.5.0",
          "state": {
            "_model_module": "@jupyter-widgets/controls",
            "_model_module_version": "1.5.0",
            "_model_name": "ProgressStyleModel",
            "_view_count": null,
            "_view_module": "@jupyter-widgets/base",
            "_view_module_version": "1.2.0",
            "_view_name": "StyleView",
            "bar_color": null,
            "description_width": ""
          }
        },
        "08750e8c662a439f80d1dd3fc7d5e118": {
          "model_module": "@jupyter-widgets/base",
          "model_name": "LayoutModel",
          "model_module_version": "1.2.0",
          "state": {
            "_model_module": "@jupyter-widgets/base",
            "_model_module_version": "1.2.0",
            "_model_name": "LayoutModel",
            "_view_count": null,
            "_view_module": "@jupyter-widgets/base",
            "_view_module_version": "1.2.0",
            "_view_name": "LayoutView",
            "align_content": null,
            "align_items": null,
            "align_self": null,
            "border": null,
            "bottom": null,
            "display": null,
            "flex": null,
            "flex_flow": null,
            "grid_area": null,
            "grid_auto_columns": null,
            "grid_auto_flow": null,
            "grid_auto_rows": null,
            "grid_column": null,
            "grid_gap": null,
            "grid_row": null,
            "grid_template_areas": null,
            "grid_template_columns": null,
            "grid_template_rows": null,
            "height": null,
            "justify_content": null,
            "justify_items": null,
            "left": null,
            "margin": null,
            "max_height": null,
            "max_width": null,
            "min_height": null,
            "min_width": null,
            "object_fit": null,
            "object_position": null,
            "order": null,
            "overflow": null,
            "overflow_x": null,
            "overflow_y": null,
            "padding": null,
            "right": null,
            "top": null,
            "visibility": null,
            "width": null
          }
        },
        "51a80882678449a8a3c92c33b4375bc9": {
          "model_module": "@jupyter-widgets/controls",
          "model_name": "DescriptionStyleModel",
          "model_module_version": "1.5.0",
          "state": {
            "_model_module": "@jupyter-widgets/controls",
            "_model_module_version": "1.5.0",
            "_model_name": "DescriptionStyleModel",
            "_view_count": null,
            "_view_module": "@jupyter-widgets/base",
            "_view_module_version": "1.2.0",
            "_view_name": "StyleView",
            "description_width": ""
          }
        },
        "75adbd7f1a954da79da5761bfc68864e": {
          "model_module": "@jupyter-widgets/controls",
          "model_name": "HBoxModel",
          "model_module_version": "1.5.0",
          "state": {
            "_dom_classes": [],
            "_model_module": "@jupyter-widgets/controls",
            "_model_module_version": "1.5.0",
            "_model_name": "HBoxModel",
            "_view_count": null,
            "_view_module": "@jupyter-widgets/controls",
            "_view_module_version": "1.5.0",
            "_view_name": "HBoxView",
            "box_style": "",
            "children": [
              "IPY_MODEL_34aa1470167448799b1c119e7296d61f",
              "IPY_MODEL_a901c05f246c42a6b6d04ccfc0a3364d",
              "IPY_MODEL_ec4b44f2bb13476fb0da9228f420db04"
            ],
            "layout": "IPY_MODEL_4e79d727d3f04d9681b5719dd85201b4"
          }
        },
        "34aa1470167448799b1c119e7296d61f": {
          "model_module": "@jupyter-widgets/controls",
          "model_name": "HTMLModel",
          "model_module_version": "1.5.0",
          "state": {
            "_dom_classes": [],
            "_model_module": "@jupyter-widgets/controls",
            "_model_module_version": "1.5.0",
            "_model_name": "HTMLModel",
            "_view_count": null,
            "_view_module": "@jupyter-widgets/controls",
            "_view_module_version": "1.5.0",
            "_view_name": "HTMLView",
            "description": "",
            "description_tooltip": null,
            "layout": "IPY_MODEL_43f56e6dd90f42cb87020e459ada0617",
            "placeholder": "​",
            "style": "IPY_MODEL_6d5163a8f53f4eafad868cd3e96136af",
            "value": "Downloading (…)lve/main/config.json: 100%"
          }
        },
        "a901c05f246c42a6b6d04ccfc0a3364d": {
          "model_module": "@jupyter-widgets/controls",
          "model_name": "FloatProgressModel",
          "model_module_version": "1.5.0",
          "state": {
            "_dom_classes": [],
            "_model_module": "@jupyter-widgets/controls",
            "_model_module_version": "1.5.0",
            "_model_name": "FloatProgressModel",
            "_view_count": null,
            "_view_module": "@jupyter-widgets/controls",
            "_view_module_version": "1.5.0",
            "_view_name": "ProgressView",
            "bar_style": "success",
            "description": "",
            "description_tooltip": null,
            "layout": "IPY_MODEL_d73644a17332420bb359bc3dae208da2",
            "max": 468,
            "min": 0,
            "orientation": "horizontal",
            "style": "IPY_MODEL_22ee2a1ec3344eba8932af1774ef6d14",
            "value": 468
          }
        },
        "ec4b44f2bb13476fb0da9228f420db04": {
          "model_module": "@jupyter-widgets/controls",
          "model_name": "HTMLModel",
          "model_module_version": "1.5.0",
          "state": {
            "_dom_classes": [],
            "_model_module": "@jupyter-widgets/controls",
            "_model_module_version": "1.5.0",
            "_model_name": "HTMLModel",
            "_view_count": null,
            "_view_module": "@jupyter-widgets/controls",
            "_view_module_version": "1.5.0",
            "_view_name": "HTMLView",
            "description": "",
            "description_tooltip": null,
            "layout": "IPY_MODEL_3ea0ed71c3c1420d8f0152cef4df4096",
            "placeholder": "​",
            "style": "IPY_MODEL_8ad51f1a7eaf46df83102a8c4809bca6",
            "value": " 468/468 [00:00&lt;00:00, 14.7kB/s]"
          }
        },
        "4e79d727d3f04d9681b5719dd85201b4": {
          "model_module": "@jupyter-widgets/base",
          "model_name": "LayoutModel",
          "model_module_version": "1.2.0",
          "state": {
            "_model_module": "@jupyter-widgets/base",
            "_model_module_version": "1.2.0",
            "_model_name": "LayoutModel",
            "_view_count": null,
            "_view_module": "@jupyter-widgets/base",
            "_view_module_version": "1.2.0",
            "_view_name": "LayoutView",
            "align_content": null,
            "align_items": null,
            "align_self": null,
            "border": null,
            "bottom": null,
            "display": null,
            "flex": null,
            "flex_flow": null,
            "grid_area": null,
            "grid_auto_columns": null,
            "grid_auto_flow": null,
            "grid_auto_rows": null,
            "grid_column": null,
            "grid_gap": null,
            "grid_row": null,
            "grid_template_areas": null,
            "grid_template_columns": null,
            "grid_template_rows": null,
            "height": null,
            "justify_content": null,
            "justify_items": null,
            "left": null,
            "margin": null,
            "max_height": null,
            "max_width": null,
            "min_height": null,
            "min_width": null,
            "object_fit": null,
            "object_position": null,
            "order": null,
            "overflow": null,
            "overflow_x": null,
            "overflow_y": null,
            "padding": null,
            "right": null,
            "top": null,
            "visibility": null,
            "width": null
          }
        },
        "43f56e6dd90f42cb87020e459ada0617": {
          "model_module": "@jupyter-widgets/base",
          "model_name": "LayoutModel",
          "model_module_version": "1.2.0",
          "state": {
            "_model_module": "@jupyter-widgets/base",
            "_model_module_version": "1.2.0",
            "_model_name": "LayoutModel",
            "_view_count": null,
            "_view_module": "@jupyter-widgets/base",
            "_view_module_version": "1.2.0",
            "_view_name": "LayoutView",
            "align_content": null,
            "align_items": null,
            "align_self": null,
            "border": null,
            "bottom": null,
            "display": null,
            "flex": null,
            "flex_flow": null,
            "grid_area": null,
            "grid_auto_columns": null,
            "grid_auto_flow": null,
            "grid_auto_rows": null,
            "grid_column": null,
            "grid_gap": null,
            "grid_row": null,
            "grid_template_areas": null,
            "grid_template_columns": null,
            "grid_template_rows": null,
            "height": null,
            "justify_content": null,
            "justify_items": null,
            "left": null,
            "margin": null,
            "max_height": null,
            "max_width": null,
            "min_height": null,
            "min_width": null,
            "object_fit": null,
            "object_position": null,
            "order": null,
            "overflow": null,
            "overflow_x": null,
            "overflow_y": null,
            "padding": null,
            "right": null,
            "top": null,
            "visibility": null,
            "width": null
          }
        },
        "6d5163a8f53f4eafad868cd3e96136af": {
          "model_module": "@jupyter-widgets/controls",
          "model_name": "DescriptionStyleModel",
          "model_module_version": "1.5.0",
          "state": {
            "_model_module": "@jupyter-widgets/controls",
            "_model_module_version": "1.5.0",
            "_model_name": "DescriptionStyleModel",
            "_view_count": null,
            "_view_module": "@jupyter-widgets/base",
            "_view_module_version": "1.2.0",
            "_view_name": "StyleView",
            "description_width": ""
          }
        },
        "d73644a17332420bb359bc3dae208da2": {
          "model_module": "@jupyter-widgets/base",
          "model_name": "LayoutModel",
          "model_module_version": "1.2.0",
          "state": {
            "_model_module": "@jupyter-widgets/base",
            "_model_module_version": "1.2.0",
            "_model_name": "LayoutModel",
            "_view_count": null,
            "_view_module": "@jupyter-widgets/base",
            "_view_module_version": "1.2.0",
            "_view_name": "LayoutView",
            "align_content": null,
            "align_items": null,
            "align_self": null,
            "border": null,
            "bottom": null,
            "display": null,
            "flex": null,
            "flex_flow": null,
            "grid_area": null,
            "grid_auto_columns": null,
            "grid_auto_flow": null,
            "grid_auto_rows": null,
            "grid_column": null,
            "grid_gap": null,
            "grid_row": null,
            "grid_template_areas": null,
            "grid_template_columns": null,
            "grid_template_rows": null,
            "height": null,
            "justify_content": null,
            "justify_items": null,
            "left": null,
            "margin": null,
            "max_height": null,
            "max_width": null,
            "min_height": null,
            "min_width": null,
            "object_fit": null,
            "object_position": null,
            "order": null,
            "overflow": null,
            "overflow_x": null,
            "overflow_y": null,
            "padding": null,
            "right": null,
            "top": null,
            "visibility": null,
            "width": null
          }
        },
        "22ee2a1ec3344eba8932af1774ef6d14": {
          "model_module": "@jupyter-widgets/controls",
          "model_name": "ProgressStyleModel",
          "model_module_version": "1.5.0",
          "state": {
            "_model_module": "@jupyter-widgets/controls",
            "_model_module_version": "1.5.0",
            "_model_name": "ProgressStyleModel",
            "_view_count": null,
            "_view_module": "@jupyter-widgets/base",
            "_view_module_version": "1.2.0",
            "_view_name": "StyleView",
            "bar_color": null,
            "description_width": ""
          }
        },
        "3ea0ed71c3c1420d8f0152cef4df4096": {
          "model_module": "@jupyter-widgets/base",
          "model_name": "LayoutModel",
          "model_module_version": "1.2.0",
          "state": {
            "_model_module": "@jupyter-widgets/base",
            "_model_module_version": "1.2.0",
            "_model_name": "LayoutModel",
            "_view_count": null,
            "_view_module": "@jupyter-widgets/base",
            "_view_module_version": "1.2.0",
            "_view_name": "LayoutView",
            "align_content": null,
            "align_items": null,
            "align_self": null,
            "border": null,
            "bottom": null,
            "display": null,
            "flex": null,
            "flex_flow": null,
            "grid_area": null,
            "grid_auto_columns": null,
            "grid_auto_flow": null,
            "grid_auto_rows": null,
            "grid_column": null,
            "grid_gap": null,
            "grid_row": null,
            "grid_template_areas": null,
            "grid_template_columns": null,
            "grid_template_rows": null,
            "height": null,
            "justify_content": null,
            "justify_items": null,
            "left": null,
            "margin": null,
            "max_height": null,
            "max_width": null,
            "min_height": null,
            "min_width": null,
            "object_fit": null,
            "object_position": null,
            "order": null,
            "overflow": null,
            "overflow_x": null,
            "overflow_y": null,
            "padding": null,
            "right": null,
            "top": null,
            "visibility": null,
            "width": null
          }
        },
        "8ad51f1a7eaf46df83102a8c4809bca6": {
          "model_module": "@jupyter-widgets/controls",
          "model_name": "DescriptionStyleModel",
          "model_module_version": "1.5.0",
          "state": {
            "_model_module": "@jupyter-widgets/controls",
            "_model_module_version": "1.5.0",
            "_model_name": "DescriptionStyleModel",
            "_view_count": null,
            "_view_module": "@jupyter-widgets/base",
            "_view_module_version": "1.2.0",
            "_view_name": "StyleView",
            "description_width": ""
          }
        },
        "1f63ac85fc2046959cccd19da2192fef": {
          "model_module": "@jupyter-widgets/controls",
          "model_name": "HBoxModel",
          "model_module_version": "1.5.0",
          "state": {
            "_dom_classes": [],
            "_model_module": "@jupyter-widgets/controls",
            "_model_module_version": "1.5.0",
            "_model_name": "HBoxModel",
            "_view_count": null,
            "_view_module": "@jupyter-widgets/controls",
            "_view_module_version": "1.5.0",
            "_view_name": "HBoxView",
            "box_style": "",
            "children": [
              "IPY_MODEL_470119f60d2c45e0a524ee5105a5d2ce",
              "IPY_MODEL_617a6eb46e124545b4753e513dd69b78",
              "IPY_MODEL_077ba7499a824f46968eabddaa5d24ab"
            ],
            "layout": "IPY_MODEL_09b93b54866945f3a300333d32c072a5"
          }
        },
        "470119f60d2c45e0a524ee5105a5d2ce": {
          "model_module": "@jupyter-widgets/controls",
          "model_name": "HTMLModel",
          "model_module_version": "1.5.0",
          "state": {
            "_dom_classes": [],
            "_model_module": "@jupyter-widgets/controls",
            "_model_module_version": "1.5.0",
            "_model_name": "HTMLModel",
            "_view_count": null,
            "_view_module": "@jupyter-widgets/controls",
            "_view_module_version": "1.5.0",
            "_view_name": "HTMLView",
            "description": "",
            "description_tooltip": null,
            "layout": "IPY_MODEL_fa56f64779d84a3ebafe9806bf38c064",
            "placeholder": "​",
            "style": "IPY_MODEL_3c3d6caa76fb406dbe138954fa1131da",
            "value": "Downloading (…)solve/main/vocab.txt: 100%"
          }
        },
        "617a6eb46e124545b4753e513dd69b78": {
          "model_module": "@jupyter-widgets/controls",
          "model_name": "FloatProgressModel",
          "model_module_version": "1.5.0",
          "state": {
            "_dom_classes": [],
            "_model_module": "@jupyter-widgets/controls",
            "_model_module_version": "1.5.0",
            "_model_name": "FloatProgressModel",
            "_view_count": null,
            "_view_module": "@jupyter-widgets/controls",
            "_view_module_version": "1.5.0",
            "_view_name": "ProgressView",
            "bar_style": "success",
            "description": "",
            "description_tooltip": null,
            "layout": "IPY_MODEL_e5f98e3bd464481dadb2652a71bda848",
            "max": 229513,
            "min": 0,
            "orientation": "horizontal",
            "style": "IPY_MODEL_47e46c65da1a47f1916b1032f24899d1",
            "value": 229513
          }
        },
        "077ba7499a824f46968eabddaa5d24ab": {
          "model_module": "@jupyter-widgets/controls",
          "model_name": "HTMLModel",
          "model_module_version": "1.5.0",
          "state": {
            "_dom_classes": [],
            "_model_module": "@jupyter-widgets/controls",
            "_model_module_version": "1.5.0",
            "_model_name": "HTMLModel",
            "_view_count": null,
            "_view_module": "@jupyter-widgets/controls",
            "_view_module_version": "1.5.0",
            "_view_name": "HTMLView",
            "description": "",
            "description_tooltip": null,
            "layout": "IPY_MODEL_d07d46c0c0784cbd976ac8c38465438f",
            "placeholder": "​",
            "style": "IPY_MODEL_f9967d0bb0d548cd896248b923accd5a",
            "value": " 230k/230k [00:00&lt;00:00, 4.68MB/s]"
          }
        },
        "09b93b54866945f3a300333d32c072a5": {
          "model_module": "@jupyter-widgets/base",
          "model_name": "LayoutModel",
          "model_module_version": "1.2.0",
          "state": {
            "_model_module": "@jupyter-widgets/base",
            "_model_module_version": "1.2.0",
            "_model_name": "LayoutModel",
            "_view_count": null,
            "_view_module": "@jupyter-widgets/base",
            "_view_module_version": "1.2.0",
            "_view_name": "LayoutView",
            "align_content": null,
            "align_items": null,
            "align_self": null,
            "border": null,
            "bottom": null,
            "display": null,
            "flex": null,
            "flex_flow": null,
            "grid_area": null,
            "grid_auto_columns": null,
            "grid_auto_flow": null,
            "grid_auto_rows": null,
            "grid_column": null,
            "grid_gap": null,
            "grid_row": null,
            "grid_template_areas": null,
            "grid_template_columns": null,
            "grid_template_rows": null,
            "height": null,
            "justify_content": null,
            "justify_items": null,
            "left": null,
            "margin": null,
            "max_height": null,
            "max_width": null,
            "min_height": null,
            "min_width": null,
            "object_fit": null,
            "object_position": null,
            "order": null,
            "overflow": null,
            "overflow_x": null,
            "overflow_y": null,
            "padding": null,
            "right": null,
            "top": null,
            "visibility": null,
            "width": null
          }
        },
        "fa56f64779d84a3ebafe9806bf38c064": {
          "model_module": "@jupyter-widgets/base",
          "model_name": "LayoutModel",
          "model_module_version": "1.2.0",
          "state": {
            "_model_module": "@jupyter-widgets/base",
            "_model_module_version": "1.2.0",
            "_model_name": "LayoutModel",
            "_view_count": null,
            "_view_module": "@jupyter-widgets/base",
            "_view_module_version": "1.2.0",
            "_view_name": "LayoutView",
            "align_content": null,
            "align_items": null,
            "align_self": null,
            "border": null,
            "bottom": null,
            "display": null,
            "flex": null,
            "flex_flow": null,
            "grid_area": null,
            "grid_auto_columns": null,
            "grid_auto_flow": null,
            "grid_auto_rows": null,
            "grid_column": null,
            "grid_gap": null,
            "grid_row": null,
            "grid_template_areas": null,
            "grid_template_columns": null,
            "grid_template_rows": null,
            "height": null,
            "justify_content": null,
            "justify_items": null,
            "left": null,
            "margin": null,
            "max_height": null,
            "max_width": null,
            "min_height": null,
            "min_width": null,
            "object_fit": null,
            "object_position": null,
            "order": null,
            "overflow": null,
            "overflow_x": null,
            "overflow_y": null,
            "padding": null,
            "right": null,
            "top": null,
            "visibility": null,
            "width": null
          }
        },
        "3c3d6caa76fb406dbe138954fa1131da": {
          "model_module": "@jupyter-widgets/controls",
          "model_name": "DescriptionStyleModel",
          "model_module_version": "1.5.0",
          "state": {
            "_model_module": "@jupyter-widgets/controls",
            "_model_module_version": "1.5.0",
            "_model_name": "DescriptionStyleModel",
            "_view_count": null,
            "_view_module": "@jupyter-widgets/base",
            "_view_module_version": "1.2.0",
            "_view_name": "StyleView",
            "description_width": ""
          }
        },
        "e5f98e3bd464481dadb2652a71bda848": {
          "model_module": "@jupyter-widgets/base",
          "model_name": "LayoutModel",
          "model_module_version": "1.2.0",
          "state": {
            "_model_module": "@jupyter-widgets/base",
            "_model_module_version": "1.2.0",
            "_model_name": "LayoutModel",
            "_view_count": null,
            "_view_module": "@jupyter-widgets/base",
            "_view_module_version": "1.2.0",
            "_view_name": "LayoutView",
            "align_content": null,
            "align_items": null,
            "align_self": null,
            "border": null,
            "bottom": null,
            "display": null,
            "flex": null,
            "flex_flow": null,
            "grid_area": null,
            "grid_auto_columns": null,
            "grid_auto_flow": null,
            "grid_auto_rows": null,
            "grid_column": null,
            "grid_gap": null,
            "grid_row": null,
            "grid_template_areas": null,
            "grid_template_columns": null,
            "grid_template_rows": null,
            "height": null,
            "justify_content": null,
            "justify_items": null,
            "left": null,
            "margin": null,
            "max_height": null,
            "max_width": null,
            "min_height": null,
            "min_width": null,
            "object_fit": null,
            "object_position": null,
            "order": null,
            "overflow": null,
            "overflow_x": null,
            "overflow_y": null,
            "padding": null,
            "right": null,
            "top": null,
            "visibility": null,
            "width": null
          }
        },
        "47e46c65da1a47f1916b1032f24899d1": {
          "model_module": "@jupyter-widgets/controls",
          "model_name": "ProgressStyleModel",
          "model_module_version": "1.5.0",
          "state": {
            "_model_module": "@jupyter-widgets/controls",
            "_model_module_version": "1.5.0",
            "_model_name": "ProgressStyleModel",
            "_view_count": null,
            "_view_module": "@jupyter-widgets/base",
            "_view_module_version": "1.2.0",
            "_view_name": "StyleView",
            "bar_color": null,
            "description_width": ""
          }
        },
        "d07d46c0c0784cbd976ac8c38465438f": {
          "model_module": "@jupyter-widgets/base",
          "model_name": "LayoutModel",
          "model_module_version": "1.2.0",
          "state": {
            "_model_module": "@jupyter-widgets/base",
            "_model_module_version": "1.2.0",
            "_model_name": "LayoutModel",
            "_view_count": null,
            "_view_module": "@jupyter-widgets/base",
            "_view_module_version": "1.2.0",
            "_view_name": "LayoutView",
            "align_content": null,
            "align_items": null,
            "align_self": null,
            "border": null,
            "bottom": null,
            "display": null,
            "flex": null,
            "flex_flow": null,
            "grid_area": null,
            "grid_auto_columns": null,
            "grid_auto_flow": null,
            "grid_auto_rows": null,
            "grid_column": null,
            "grid_gap": null,
            "grid_row": null,
            "grid_template_areas": null,
            "grid_template_columns": null,
            "grid_template_rows": null,
            "height": null,
            "justify_content": null,
            "justify_items": null,
            "left": null,
            "margin": null,
            "max_height": null,
            "max_width": null,
            "min_height": null,
            "min_width": null,
            "object_fit": null,
            "object_position": null,
            "order": null,
            "overflow": null,
            "overflow_x": null,
            "overflow_y": null,
            "padding": null,
            "right": null,
            "top": null,
            "visibility": null,
            "width": null
          }
        },
        "f9967d0bb0d548cd896248b923accd5a": {
          "model_module": "@jupyter-widgets/controls",
          "model_name": "DescriptionStyleModel",
          "model_module_version": "1.5.0",
          "state": {
            "_model_module": "@jupyter-widgets/controls",
            "_model_module_version": "1.5.0",
            "_model_name": "DescriptionStyleModel",
            "_view_count": null,
            "_view_module": "@jupyter-widgets/base",
            "_view_module_version": "1.2.0",
            "_view_name": "StyleView",
            "description_width": ""
          }
        },
        "65d88997066c448f87b0d3ac54df07eb": {
          "model_module": "@jupyter-widgets/controls",
          "model_name": "HBoxModel",
          "model_module_version": "1.5.0",
          "state": {
            "_dom_classes": [],
            "_model_module": "@jupyter-widgets/controls",
            "_model_module_version": "1.5.0",
            "_model_name": "HBoxModel",
            "_view_count": null,
            "_view_module": "@jupyter-widgets/controls",
            "_view_module_version": "1.5.0",
            "_view_name": "HBoxView",
            "box_style": "",
            "children": [
              "IPY_MODEL_2324610656ea454ab7a0a9718cca6df8",
              "IPY_MODEL_b9673dd5c8454278b535545ee07bca76",
              "IPY_MODEL_e229f04aa8284ddfa3eba88f2aacb068"
            ],
            "layout": "IPY_MODEL_a8a1b7e346724f2591ce8735bf8bebf0"
          }
        },
        "2324610656ea454ab7a0a9718cca6df8": {
          "model_module": "@jupyter-widgets/controls",
          "model_name": "HTMLModel",
          "model_module_version": "1.5.0",
          "state": {
            "_dom_classes": [],
            "_model_module": "@jupyter-widgets/controls",
            "_model_module_version": "1.5.0",
            "_model_name": "HTMLModel",
            "_view_count": null,
            "_view_module": "@jupyter-widgets/controls",
            "_view_module_version": "1.5.0",
            "_view_name": "HTMLView",
            "description": "",
            "description_tooltip": null,
            "layout": "IPY_MODEL_0d07914aa6e8405c985bb8c0e4a0a74a",
            "placeholder": "​",
            "style": "IPY_MODEL_bfa99d2b0ed248ebbcfbac72c26b1ad8",
            "value": "Downloading (…)cial_tokens_map.json: 100%"
          }
        },
        "b9673dd5c8454278b535545ee07bca76": {
          "model_module": "@jupyter-widgets/controls",
          "model_name": "FloatProgressModel",
          "model_module_version": "1.5.0",
          "state": {
            "_dom_classes": [],
            "_model_module": "@jupyter-widgets/controls",
            "_model_module_version": "1.5.0",
            "_model_name": "FloatProgressModel",
            "_view_count": null,
            "_view_module": "@jupyter-widgets/controls",
            "_view_module_version": "1.5.0",
            "_view_name": "ProgressView",
            "bar_style": "success",
            "description": "",
            "description_tooltip": null,
            "layout": "IPY_MODEL_5e848ff4cb7844bba3843e87061311f5",
            "max": 112,
            "min": 0,
            "orientation": "horizontal",
            "style": "IPY_MODEL_31acf6a511c44a5694e4dc07ebfe3614",
            "value": 112
          }
        },
        "e229f04aa8284ddfa3eba88f2aacb068": {
          "model_module": "@jupyter-widgets/controls",
          "model_name": "HTMLModel",
          "model_module_version": "1.5.0",
          "state": {
            "_dom_classes": [],
            "_model_module": "@jupyter-widgets/controls",
            "_model_module_version": "1.5.0",
            "_model_name": "HTMLModel",
            "_view_count": null,
            "_view_module": "@jupyter-widgets/controls",
            "_view_module_version": "1.5.0",
            "_view_name": "HTMLView",
            "description": "",
            "description_tooltip": null,
            "layout": "IPY_MODEL_63bb47e300eb42fbb9312bef092cd2eb",
            "placeholder": "​",
            "style": "IPY_MODEL_f4db7576e9004e19bb741d180e7d987c",
            "value": " 112/112 [00:00&lt;00:00, 2.95kB/s]"
          }
        },
        "a8a1b7e346724f2591ce8735bf8bebf0": {
          "model_module": "@jupyter-widgets/base",
          "model_name": "LayoutModel",
          "model_module_version": "1.2.0",
          "state": {
            "_model_module": "@jupyter-widgets/base",
            "_model_module_version": "1.2.0",
            "_model_name": "LayoutModel",
            "_view_count": null,
            "_view_module": "@jupyter-widgets/base",
            "_view_module_version": "1.2.0",
            "_view_name": "LayoutView",
            "align_content": null,
            "align_items": null,
            "align_self": null,
            "border": null,
            "bottom": null,
            "display": null,
            "flex": null,
            "flex_flow": null,
            "grid_area": null,
            "grid_auto_columns": null,
            "grid_auto_flow": null,
            "grid_auto_rows": null,
            "grid_column": null,
            "grid_gap": null,
            "grid_row": null,
            "grid_template_areas": null,
            "grid_template_columns": null,
            "grid_template_rows": null,
            "height": null,
            "justify_content": null,
            "justify_items": null,
            "left": null,
            "margin": null,
            "max_height": null,
            "max_width": null,
            "min_height": null,
            "min_width": null,
            "object_fit": null,
            "object_position": null,
            "order": null,
            "overflow": null,
            "overflow_x": null,
            "overflow_y": null,
            "padding": null,
            "right": null,
            "top": null,
            "visibility": null,
            "width": null
          }
        },
        "0d07914aa6e8405c985bb8c0e4a0a74a": {
          "model_module": "@jupyter-widgets/base",
          "model_name": "LayoutModel",
          "model_module_version": "1.2.0",
          "state": {
            "_model_module": "@jupyter-widgets/base",
            "_model_module_version": "1.2.0",
            "_model_name": "LayoutModel",
            "_view_count": null,
            "_view_module": "@jupyter-widgets/base",
            "_view_module_version": "1.2.0",
            "_view_name": "LayoutView",
            "align_content": null,
            "align_items": null,
            "align_self": null,
            "border": null,
            "bottom": null,
            "display": null,
            "flex": null,
            "flex_flow": null,
            "grid_area": null,
            "grid_auto_columns": null,
            "grid_auto_flow": null,
            "grid_auto_rows": null,
            "grid_column": null,
            "grid_gap": null,
            "grid_row": null,
            "grid_template_areas": null,
            "grid_template_columns": null,
            "grid_template_rows": null,
            "height": null,
            "justify_content": null,
            "justify_items": null,
            "left": null,
            "margin": null,
            "max_height": null,
            "max_width": null,
            "min_height": null,
            "min_width": null,
            "object_fit": null,
            "object_position": null,
            "order": null,
            "overflow": null,
            "overflow_x": null,
            "overflow_y": null,
            "padding": null,
            "right": null,
            "top": null,
            "visibility": null,
            "width": null
          }
        },
        "bfa99d2b0ed248ebbcfbac72c26b1ad8": {
          "model_module": "@jupyter-widgets/controls",
          "model_name": "DescriptionStyleModel",
          "model_module_version": "1.5.0",
          "state": {
            "_model_module": "@jupyter-widgets/controls",
            "_model_module_version": "1.5.0",
            "_model_name": "DescriptionStyleModel",
            "_view_count": null,
            "_view_module": "@jupyter-widgets/base",
            "_view_module_version": "1.2.0",
            "_view_name": "StyleView",
            "description_width": ""
          }
        },
        "5e848ff4cb7844bba3843e87061311f5": {
          "model_module": "@jupyter-widgets/base",
          "model_name": "LayoutModel",
          "model_module_version": "1.2.0",
          "state": {
            "_model_module": "@jupyter-widgets/base",
            "_model_module_version": "1.2.0",
            "_model_name": "LayoutModel",
            "_view_count": null,
            "_view_module": "@jupyter-widgets/base",
            "_view_module_version": "1.2.0",
            "_view_name": "LayoutView",
            "align_content": null,
            "align_items": null,
            "align_self": null,
            "border": null,
            "bottom": null,
            "display": null,
            "flex": null,
            "flex_flow": null,
            "grid_area": null,
            "grid_auto_columns": null,
            "grid_auto_flow": null,
            "grid_auto_rows": null,
            "grid_column": null,
            "grid_gap": null,
            "grid_row": null,
            "grid_template_areas": null,
            "grid_template_columns": null,
            "grid_template_rows": null,
            "height": null,
            "justify_content": null,
            "justify_items": null,
            "left": null,
            "margin": null,
            "max_height": null,
            "max_width": null,
            "min_height": null,
            "min_width": null,
            "object_fit": null,
            "object_position": null,
            "order": null,
            "overflow": null,
            "overflow_x": null,
            "overflow_y": null,
            "padding": null,
            "right": null,
            "top": null,
            "visibility": null,
            "width": null
          }
        },
        "31acf6a511c44a5694e4dc07ebfe3614": {
          "model_module": "@jupyter-widgets/controls",
          "model_name": "ProgressStyleModel",
          "model_module_version": "1.5.0",
          "state": {
            "_model_module": "@jupyter-widgets/controls",
            "_model_module_version": "1.5.0",
            "_model_name": "ProgressStyleModel",
            "_view_count": null,
            "_view_module": "@jupyter-widgets/base",
            "_view_module_version": "1.2.0",
            "_view_name": "StyleView",
            "bar_color": null,
            "description_width": ""
          }
        },
        "63bb47e300eb42fbb9312bef092cd2eb": {
          "model_module": "@jupyter-widgets/base",
          "model_name": "LayoutModel",
          "model_module_version": "1.2.0",
          "state": {
            "_model_module": "@jupyter-widgets/base",
            "_model_module_version": "1.2.0",
            "_model_name": "LayoutModel",
            "_view_count": null,
            "_view_module": "@jupyter-widgets/base",
            "_view_module_version": "1.2.0",
            "_view_name": "LayoutView",
            "align_content": null,
            "align_items": null,
            "align_self": null,
            "border": null,
            "bottom": null,
            "display": null,
            "flex": null,
            "flex_flow": null,
            "grid_area": null,
            "grid_auto_columns": null,
            "grid_auto_flow": null,
            "grid_auto_rows": null,
            "grid_column": null,
            "grid_gap": null,
            "grid_row": null,
            "grid_template_areas": null,
            "grid_template_columns": null,
            "grid_template_rows": null,
            "height": null,
            "justify_content": null,
            "justify_items": null,
            "left": null,
            "margin": null,
            "max_height": null,
            "max_width": null,
            "min_height": null,
            "min_width": null,
            "object_fit": null,
            "object_position": null,
            "order": null,
            "overflow": null,
            "overflow_x": null,
            "overflow_y": null,
            "padding": null,
            "right": null,
            "top": null,
            "visibility": null,
            "width": null
          }
        },
        "f4db7576e9004e19bb741d180e7d987c": {
          "model_module": "@jupyter-widgets/controls",
          "model_name": "DescriptionStyleModel",
          "model_module_version": "1.5.0",
          "state": {
            "_model_module": "@jupyter-widgets/controls",
            "_model_module_version": "1.5.0",
            "_model_name": "DescriptionStyleModel",
            "_view_count": null,
            "_view_module": "@jupyter-widgets/base",
            "_view_module_version": "1.2.0",
            "_view_name": "StyleView",
            "description_width": ""
          }
        },
        "a3de725aa67c4677ad0e511925d68ba2": {
          "model_module": "@jupyter-widgets/controls",
          "model_name": "HBoxModel",
          "model_module_version": "1.5.0",
          "state": {
            "_dom_classes": [],
            "_model_module": "@jupyter-widgets/controls",
            "_model_module_version": "1.5.0",
            "_model_name": "HBoxModel",
            "_view_count": null,
            "_view_module": "@jupyter-widgets/controls",
            "_view_module_version": "1.5.0",
            "_view_name": "HBoxView",
            "box_style": "",
            "children": [
              "IPY_MODEL_9c7e51876cf94a4f9ca631ebce7a0adc",
              "IPY_MODEL_b3da5812f2ca45f7ac5c22dd4579e4fa",
              "IPY_MODEL_b26927a694a14b8192e7306f66771684"
            ],
            "layout": "IPY_MODEL_84919be9afd94434b38f80951ced81f9"
          }
        },
        "9c7e51876cf94a4f9ca631ebce7a0adc": {
          "model_module": "@jupyter-widgets/controls",
          "model_name": "HTMLModel",
          "model_module_version": "1.5.0",
          "state": {
            "_dom_classes": [],
            "_model_module": "@jupyter-widgets/controls",
            "_model_module_version": "1.5.0",
            "_model_name": "HTMLModel",
            "_view_count": null,
            "_view_module": "@jupyter-widgets/controls",
            "_view_module_version": "1.5.0",
            "_view_name": "HTMLView",
            "description": "",
            "description_tooltip": null,
            "layout": "IPY_MODEL_12e1060d0e354a40811c443419362eaf",
            "placeholder": "​",
            "style": "IPY_MODEL_be0a1f4c9fd145c290094b451971a8b7",
            "value": "Downloading tf_model.h5: 100%"
          }
        },
        "b3da5812f2ca45f7ac5c22dd4579e4fa": {
          "model_module": "@jupyter-widgets/controls",
          "model_name": "FloatProgressModel",
          "model_module_version": "1.5.0",
          "state": {
            "_dom_classes": [],
            "_model_module": "@jupyter-widgets/controls",
            "_model_module_version": "1.5.0",
            "_model_name": "FloatProgressModel",
            "_view_count": null,
            "_view_module": "@jupyter-widgets/controls",
            "_view_module_version": "1.5.0",
            "_view_name": "ProgressView",
            "bar_style": "success",
            "description": "",
            "description_tooltip": null,
            "layout": "IPY_MODEL_6ab6af632a174280b7c995d1f4784caa",
            "max": 545136632,
            "min": 0,
            "orientation": "horizontal",
            "style": "IPY_MODEL_8cf1258e271e48b08db776f235ea7d88",
            "value": 545136632
          }
        },
        "b26927a694a14b8192e7306f66771684": {
          "model_module": "@jupyter-widgets/controls",
          "model_name": "HTMLModel",
          "model_module_version": "1.5.0",
          "state": {
            "_dom_classes": [],
            "_model_module": "@jupyter-widgets/controls",
            "_model_module_version": "1.5.0",
            "_model_name": "HTMLModel",
            "_view_count": null,
            "_view_module": "@jupyter-widgets/controls",
            "_view_module_version": "1.5.0",
            "_view_name": "HTMLView",
            "description": "",
            "description_tooltip": null,
            "layout": "IPY_MODEL_4b47ed11709349de88839995b0e50706",
            "placeholder": "​",
            "style": "IPY_MODEL_ab066116425e4e02b0da2c1abc34fb06",
            "value": " 545M/545M [00:03&lt;00:00, 107MB/s]"
          }
        },
        "84919be9afd94434b38f80951ced81f9": {
          "model_module": "@jupyter-widgets/base",
          "model_name": "LayoutModel",
          "model_module_version": "1.2.0",
          "state": {
            "_model_module": "@jupyter-widgets/base",
            "_model_module_version": "1.2.0",
            "_model_name": "LayoutModel",
            "_view_count": null,
            "_view_module": "@jupyter-widgets/base",
            "_view_module_version": "1.2.0",
            "_view_name": "LayoutView",
            "align_content": null,
            "align_items": null,
            "align_self": null,
            "border": null,
            "bottom": null,
            "display": null,
            "flex": null,
            "flex_flow": null,
            "grid_area": null,
            "grid_auto_columns": null,
            "grid_auto_flow": null,
            "grid_auto_rows": null,
            "grid_column": null,
            "grid_gap": null,
            "grid_row": null,
            "grid_template_areas": null,
            "grid_template_columns": null,
            "grid_template_rows": null,
            "height": null,
            "justify_content": null,
            "justify_items": null,
            "left": null,
            "margin": null,
            "max_height": null,
            "max_width": null,
            "min_height": null,
            "min_width": null,
            "object_fit": null,
            "object_position": null,
            "order": null,
            "overflow": null,
            "overflow_x": null,
            "overflow_y": null,
            "padding": null,
            "right": null,
            "top": null,
            "visibility": null,
            "width": null
          }
        },
        "12e1060d0e354a40811c443419362eaf": {
          "model_module": "@jupyter-widgets/base",
          "model_name": "LayoutModel",
          "model_module_version": "1.2.0",
          "state": {
            "_model_module": "@jupyter-widgets/base",
            "_model_module_version": "1.2.0",
            "_model_name": "LayoutModel",
            "_view_count": null,
            "_view_module": "@jupyter-widgets/base",
            "_view_module_version": "1.2.0",
            "_view_name": "LayoutView",
            "align_content": null,
            "align_items": null,
            "align_self": null,
            "border": null,
            "bottom": null,
            "display": null,
            "flex": null,
            "flex_flow": null,
            "grid_area": null,
            "grid_auto_columns": null,
            "grid_auto_flow": null,
            "grid_auto_rows": null,
            "grid_column": null,
            "grid_gap": null,
            "grid_row": null,
            "grid_template_areas": null,
            "grid_template_columns": null,
            "grid_template_rows": null,
            "height": null,
            "justify_content": null,
            "justify_items": null,
            "left": null,
            "margin": null,
            "max_height": null,
            "max_width": null,
            "min_height": null,
            "min_width": null,
            "object_fit": null,
            "object_position": null,
            "order": null,
            "overflow": null,
            "overflow_x": null,
            "overflow_y": null,
            "padding": null,
            "right": null,
            "top": null,
            "visibility": null,
            "width": null
          }
        },
        "be0a1f4c9fd145c290094b451971a8b7": {
          "model_module": "@jupyter-widgets/controls",
          "model_name": "DescriptionStyleModel",
          "model_module_version": "1.5.0",
          "state": {
            "_model_module": "@jupyter-widgets/controls",
            "_model_module_version": "1.5.0",
            "_model_name": "DescriptionStyleModel",
            "_view_count": null,
            "_view_module": "@jupyter-widgets/base",
            "_view_module_version": "1.2.0",
            "_view_name": "StyleView",
            "description_width": ""
          }
        },
        "6ab6af632a174280b7c995d1f4784caa": {
          "model_module": "@jupyter-widgets/base",
          "model_name": "LayoutModel",
          "model_module_version": "1.2.0",
          "state": {
            "_model_module": "@jupyter-widgets/base",
            "_model_module_version": "1.2.0",
            "_model_name": "LayoutModel",
            "_view_count": null,
            "_view_module": "@jupyter-widgets/base",
            "_view_module_version": "1.2.0",
            "_view_name": "LayoutView",
            "align_content": null,
            "align_items": null,
            "align_self": null,
            "border": null,
            "bottom": null,
            "display": null,
            "flex": null,
            "flex_flow": null,
            "grid_area": null,
            "grid_auto_columns": null,
            "grid_auto_flow": null,
            "grid_auto_rows": null,
            "grid_column": null,
            "grid_gap": null,
            "grid_row": null,
            "grid_template_areas": null,
            "grid_template_columns": null,
            "grid_template_rows": null,
            "height": null,
            "justify_content": null,
            "justify_items": null,
            "left": null,
            "margin": null,
            "max_height": null,
            "max_width": null,
            "min_height": null,
            "min_width": null,
            "object_fit": null,
            "object_position": null,
            "order": null,
            "overflow": null,
            "overflow_x": null,
            "overflow_y": null,
            "padding": null,
            "right": null,
            "top": null,
            "visibility": null,
            "width": null
          }
        },
        "8cf1258e271e48b08db776f235ea7d88": {
          "model_module": "@jupyter-widgets/controls",
          "model_name": "ProgressStyleModel",
          "model_module_version": "1.5.0",
          "state": {
            "_model_module": "@jupyter-widgets/controls",
            "_model_module_version": "1.5.0",
            "_model_name": "ProgressStyleModel",
            "_view_count": null,
            "_view_module": "@jupyter-widgets/base",
            "_view_module_version": "1.2.0",
            "_view_name": "StyleView",
            "bar_color": null,
            "description_width": ""
          }
        },
        "4b47ed11709349de88839995b0e50706": {
          "model_module": "@jupyter-widgets/base",
          "model_name": "LayoutModel",
          "model_module_version": "1.2.0",
          "state": {
            "_model_module": "@jupyter-widgets/base",
            "_model_module_version": "1.2.0",
            "_model_name": "LayoutModel",
            "_view_count": null,
            "_view_module": "@jupyter-widgets/base",
            "_view_module_version": "1.2.0",
            "_view_name": "LayoutView",
            "align_content": null,
            "align_items": null,
            "align_self": null,
            "border": null,
            "bottom": null,
            "display": null,
            "flex": null,
            "flex_flow": null,
            "grid_area": null,
            "grid_auto_columns": null,
            "grid_auto_flow": null,
            "grid_auto_rows": null,
            "grid_column": null,
            "grid_gap": null,
            "grid_row": null,
            "grid_template_areas": null,
            "grid_template_columns": null,
            "grid_template_rows": null,
            "height": null,
            "justify_content": null,
            "justify_items": null,
            "left": null,
            "margin": null,
            "max_height": null,
            "max_width": null,
            "min_height": null,
            "min_width": null,
            "object_fit": null,
            "object_position": null,
            "order": null,
            "overflow": null,
            "overflow_x": null,
            "overflow_y": null,
            "padding": null,
            "right": null,
            "top": null,
            "visibility": null,
            "width": null
          }
        },
        "ab066116425e4e02b0da2c1abc34fb06": {
          "model_module": "@jupyter-widgets/controls",
          "model_name": "DescriptionStyleModel",
          "model_module_version": "1.5.0",
          "state": {
            "_model_module": "@jupyter-widgets/controls",
            "_model_module_version": "1.5.0",
            "_model_name": "DescriptionStyleModel",
            "_view_count": null,
            "_view_module": "@jupyter-widgets/base",
            "_view_module_version": "1.2.0",
            "_view_name": "StyleView",
            "description_width": ""
          }
        }
      }
    },
    "colab": {
      "provenance": [],
      "gpuType": "T4"
    },
    "accelerator": "GPU"
  },
  "nbformat": 4,
  "nbformat_minor": 5
}