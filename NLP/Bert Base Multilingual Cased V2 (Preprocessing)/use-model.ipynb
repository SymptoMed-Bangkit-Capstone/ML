{
 "cells": [
  {
   "cell_type": "code",
   "execution_count": null,
   "metadata": {},
   "outputs": [],
   "source": [
    "!python -m pip install keras\n",
    "!python -m pip install gdown\n",
    "!python -m pip install numpy\n",
    "!python -m pip install uvicorn\n",
    "!python -m pip install xformers\n",
    "!python -m pip install tensorflow\n",
    "!python -m pip install transformers"
   ]
  },
  {
   "cell_type": "code",
   "execution_count": null,
   "metadata": {},
   "outputs": [],
   "source": [
    "!gdown 1-92ktdUaxJy96qPBur5yO8b3LN-Ys8ze\n",
    "!gdown 1-89UzTTd0stUywsEoeuOknu6HrJucxZc"
   ]
  },
  {
   "cell_type": "code",
   "execution_count": null,
   "metadata": {},
   "outputs": [],
   "source": [
    "!unzip model_bert_multilungual_v2.zip -d /workspaces/codespaces-jupyter/\n",
    "!unzip tokenizer_bert_multilungual_v2.zip -d /workspaces/codespaces-jupyter/"
   ]
  },
  {
   "cell_type": "code",
   "execution_count": null,
   "metadata": {},
   "outputs": [],
   "source": [
    "import os\n",
    "import numpy as np\n",
    "import tensorflow as tf\n",
    "from transformers import TextClassificationPipeline\n",
    "from transformers import BertTokenizer, BertForSequenceClassification"
   ]
  },
  {
   "cell_type": "code",
   "execution_count": null,
   "metadata": {},
   "outputs": [],
   "source": [
    "import uvicorn\n",
    "from enum import Enum\n",
    "from pydantic import BaseModel\n",
    "from fastapi import FastAPI, HTTPException, Path, Query"
   ]
  },
  {
   "cell_type": "code",
   "execution_count": null,
   "metadata": {},
   "outputs": [],
   "source": [
    "tokenizer = BertTokenizer.from_pretrained(\"./content/tokenizer_bert_multilungual_v2\", local_files_only=True)\n",
    "model = BertForSequenceClassification.from_pretrained(\"./content/model_bert_multilungual_v2\", from_tf=True)\n",
    "pipe = TextClassificationPipeline(model=model, tokenizer=tokenizer, top_k = 24)"
   ]
  },
  {
   "cell_type": "code",
   "execution_count": null,
   "metadata": {},
   "outputs": [],
   "source": [
    "text1 = str(\" Penglihatan saya berkabut, dan tampaknya semakin memburuk. Saya merasa lelah dan lelah sepanjang waktu. Saya juga sering mengalami pusing parah dan pusing.\").lower()\n",
    "text2 = str(\"Saya mengalami sembelit dan sakit perut, dan itu sangat tidak nyaman. Sakit perut semakin parah dan mulai mempengaruhi kehidupan sehari-hari saya. Apalagi setiap malam saya menggigil, diikuti demam ringan.\").lower()\n",
    "\n",
    "pred1 = pipe(text1)\n",
    "pred2 = pipe(text2)\n",
    "\n",
    "print(pred1[0][:2])\n",
    "print(pred2[0][:2])"
   ]
  },
  {
   "cell_type": "code",
   "execution_count": null,
   "metadata": {},
   "outputs": [],
   "source": [
    "print(pipe(\"Saya sakit kepala dan kulit gatal-gatal bercak merah\")[0][0])"
   ]
  }
 ],
 "metadata": {
  "language_info": {
   "name": "python"
  },
  "orig_nbformat": 4
 },
 "nbformat": 4,
 "nbformat_minor": 2
}
