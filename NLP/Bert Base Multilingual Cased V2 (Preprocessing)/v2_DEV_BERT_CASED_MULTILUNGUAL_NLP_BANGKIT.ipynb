{
  "cells": [
    {
      "cell_type": "markdown",
      "id": "0b40cd66",
      "metadata": {
        "papermill": {
          "duration": 0.004951,
          "end_time": "2023-04-06T04:11:40.705212",
          "exception": false,
          "start_time": "2023-04-06T04:11:40.700261",
          "status": "completed"
        },
        "tags": [],
        "id": "0b40cd66"
      },
      "source": [
        "## Importing Libraries"
      ]
    },
    {
      "cell_type": "code",
      "source": [
        "!python -m pip install transformers\n",
        "!python -m pip install xformers"
      ],
      "metadata": {
        "colab": {
          "base_uri": "https://localhost:8080/"
        },
        "id": "N30rg8w3TotZ",
        "outputId": "be3e00c6-416c-4004-fa0c-376eebe48123"
      },
      "id": "N30rg8w3TotZ",
      "execution_count": 38,
      "outputs": [
        {
          "output_type": "stream",
          "name": "stdout",
          "text": [
            "Looking in indexes: https://pypi.org/simple, https://us-python.pkg.dev/colab-wheels/public/simple/\n",
            "Requirement already satisfied: transformers in /usr/local/lib/python3.10/dist-packages (4.29.2)\n",
            "Requirement already satisfied: filelock in /usr/local/lib/python3.10/dist-packages (from transformers) (3.12.0)\n",
            "Requirement already satisfied: huggingface-hub<1.0,>=0.14.1 in /usr/local/lib/python3.10/dist-packages (from transformers) (0.14.1)\n",
            "Requirement already satisfied: numpy>=1.17 in /usr/local/lib/python3.10/dist-packages (from transformers) (1.22.4)\n",
            "Requirement already satisfied: packaging>=20.0 in /usr/local/lib/python3.10/dist-packages (from transformers) (23.1)\n",
            "Requirement already satisfied: pyyaml>=5.1 in /usr/local/lib/python3.10/dist-packages (from transformers) (6.0)\n",
            "Requirement already satisfied: regex!=2019.12.17 in /usr/local/lib/python3.10/dist-packages (from transformers) (2022.10.31)\n",
            "Requirement already satisfied: requests in /usr/local/lib/python3.10/dist-packages (from transformers) (2.27.1)\n",
            "Requirement already satisfied: tokenizers!=0.11.3,<0.14,>=0.11.1 in /usr/local/lib/python3.10/dist-packages (from transformers) (0.13.3)\n",
            "Requirement already satisfied: tqdm>=4.27 in /usr/local/lib/python3.10/dist-packages (from transformers) (4.65.0)\n",
            "Requirement already satisfied: fsspec in /usr/local/lib/python3.10/dist-packages (from huggingface-hub<1.0,>=0.14.1->transformers) (2023.4.0)\n",
            "Requirement already satisfied: typing-extensions>=3.7.4.3 in /usr/local/lib/python3.10/dist-packages (from huggingface-hub<1.0,>=0.14.1->transformers) (4.5.0)\n",
            "Requirement already satisfied: urllib3<1.27,>=1.21.1 in /usr/local/lib/python3.10/dist-packages (from requests->transformers) (1.26.15)\n",
            "Requirement already satisfied: certifi>=2017.4.17 in /usr/local/lib/python3.10/dist-packages (from requests->transformers) (2022.12.7)\n",
            "Requirement already satisfied: charset-normalizer~=2.0.0 in /usr/local/lib/python3.10/dist-packages (from requests->transformers) (2.0.12)\n",
            "Requirement already satisfied: idna<4,>=2.5 in /usr/local/lib/python3.10/dist-packages (from requests->transformers) (3.4)\n",
            "Looking in indexes: https://pypi.org/simple, https://us-python.pkg.dev/colab-wheels/public/simple/\n",
            "Requirement already satisfied: xformers in /usr/local/lib/python3.10/dist-packages (0.0.20)\n",
            "Requirement already satisfied: numpy in /usr/local/lib/python3.10/dist-packages (from xformers) (1.22.4)\n",
            "Requirement already satisfied: pyre-extensions==0.0.29 in /usr/local/lib/python3.10/dist-packages (from xformers) (0.0.29)\n",
            "Requirement already satisfied: torch==2.0.1 in /usr/local/lib/python3.10/dist-packages (from xformers) (2.0.1+cu118)\n",
            "Requirement already satisfied: typing-inspect in /usr/local/lib/python3.10/dist-packages (from pyre-extensions==0.0.29->xformers) (0.9.0)\n",
            "Requirement already satisfied: typing-extensions in /usr/local/lib/python3.10/dist-packages (from pyre-extensions==0.0.29->xformers) (4.5.0)\n",
            "Requirement already satisfied: filelock in /usr/local/lib/python3.10/dist-packages (from torch==2.0.1->xformers) (3.12.0)\n",
            "Requirement already satisfied: sympy in /usr/local/lib/python3.10/dist-packages (from torch==2.0.1->xformers) (1.11.1)\n",
            "Requirement already satisfied: networkx in /usr/local/lib/python3.10/dist-packages (from torch==2.0.1->xformers) (3.1)\n",
            "Requirement already satisfied: jinja2 in /usr/local/lib/python3.10/dist-packages (from torch==2.0.1->xformers) (3.1.2)\n",
            "Requirement already satisfied: triton==2.0.0 in /usr/local/lib/python3.10/dist-packages (from torch==2.0.1->xformers) (2.0.0)\n",
            "Requirement already satisfied: cmake in /usr/local/lib/python3.10/dist-packages (from triton==2.0.0->torch==2.0.1->xformers) (3.25.2)\n",
            "Requirement already satisfied: lit in /usr/local/lib/python3.10/dist-packages (from triton==2.0.0->torch==2.0.1->xformers) (16.0.5)\n",
            "Requirement already satisfied: MarkupSafe>=2.0 in /usr/local/lib/python3.10/dist-packages (from jinja2->torch==2.0.1->xformers) (2.1.2)\n",
            "Requirement already satisfied: mpmath>=0.19 in /usr/local/lib/python3.10/dist-packages (from sympy->torch==2.0.1->xformers) (1.3.0)\n",
            "Requirement already satisfied: mypy-extensions>=0.3.0 in /usr/local/lib/python3.10/dist-packages (from typing-inspect->pyre-extensions==0.0.29->xformers) (1.0.0)\n"
          ]
        }
      ]
    },
    {
      "cell_type": "code",
      "execution_count": 2,
      "id": "2a6ff93a",
      "metadata": {
        "_cell_guid": "b1076dfc-b9ad-4769-8c92-a6c4dae69d19",
        "_uuid": "8f2839f25d086af736a60e9eeb907d3b93b6e0e5",
        "execution": {
          "iopub.execute_input": "2023-04-06T04:11:40.717578Z",
          "iopub.status.busy": "2023-04-06T04:11:40.716851Z",
          "iopub.status.idle": "2023-04-06T04:11:47.849363Z",
          "shell.execute_reply": "2023-04-06T04:11:47.848147Z"
        },
        "papermill": {
          "duration": 7.141688,
          "end_time": "2023-04-06T04:11:47.852005",
          "exception": false,
          "start_time": "2023-04-06T04:11:40.710317",
          "status": "completed"
        },
        "tags": [],
        "id": "2a6ff93a",
        "colab": {
          "base_uri": "https://localhost:8080/",
          "height": 35
        },
        "outputId": "e3e64423-27c1-484d-a719-8629a3384f97"
      },
      "outputs": [
        {
          "output_type": "execute_result",
          "data": {
            "text/plain": [
              "'1.22.4'"
            ],
            "application/vnd.google.colaboratory.intrinsic+json": {
              "type": "string"
            }
          },
          "metadata": {},
          "execution_count": 2
        }
      ],
      "source": [
        "import numpy as np\n",
        "import pandas as pd\n",
        "import matplotlib.pyplot as plt\n",
        "import seaborn as sea\n",
        "import os\n",
        "from tqdm.notebook import tqdm\n",
        "import re\n",
        "import tensorflow as tf\n",
        "from tensorflow import keras\n",
        "from keras.preprocessing.text import Tokenizer\n",
        "\n",
        "plt.style.use('ggplot')\n",
        "np.__version__"
      ]
    },
    {
      "cell_type": "markdown",
      "id": "1393d062",
      "metadata": {
        "papermill": {
          "duration": 0.005783,
          "end_time": "2023-04-06T04:11:57.892880",
          "exception": false,
          "start_time": "2023-04-06T04:11:57.887097",
          "status": "completed"
        },
        "tags": [],
        "id": "1393d062"
      },
      "source": [
        "## Loading the data"
      ]
    },
    {
      "cell_type": "code",
      "source": [
        "!gdown 1EgJ4xUZeNzzCMjRe4Y5c1rTsmhWLD8lL"
      ],
      "metadata": {
        "id": "WheEYVW2TREz",
        "colab": {
          "base_uri": "https://localhost:8080/"
        },
        "outputId": "d897840d-cff1-4a48-8744-06cbe48bd1a8"
      },
      "id": "WheEYVW2TREz",
      "execution_count": 3,
      "outputs": [
        {
          "output_type": "stream",
          "name": "stdout",
          "text": [
            "Downloading...\n",
            "From: https://drive.google.com/uc?id=1EgJ4xUZeNzzCMjRe4Y5c1rTsmhWLD8lL\n",
            "To: /content/Symptom2DiseaseID.csv\n",
            "\r  0% 0.00/240k [00:00<?, ?B/s]\r100% 240k/240k [00:00<00:00, 103MB/s]\n"
          ]
        }
      ]
    },
    {
      "cell_type": "code",
      "execution_count": 4,
      "id": "84f0c37f",
      "metadata": {
        "execution": {
          "iopub.execute_input": "2023-04-06T04:11:57.905975Z",
          "iopub.status.busy": "2023-04-06T04:11:57.905655Z",
          "iopub.status.idle": "2023-04-06T04:11:57.943106Z",
          "shell.execute_reply": "2023-04-06T04:11:57.942174Z"
        },
        "papermill": {
          "duration": 0.046641,
          "end_time": "2023-04-06T04:11:57.945218",
          "exception": false,
          "start_time": "2023-04-06T04:11:57.898577",
          "status": "completed"
        },
        "tags": [],
        "id": "84f0c37f",
        "colab": {
          "base_uri": "https://localhost:8080/",
          "height": 206
        },
        "outputId": "84212e66-67b1-490e-83c3-bd7ca1b39a1b"
      },
      "outputs": [
        {
          "output_type": "execute_result",
          "data": {
            "text/plain": [
              "   indeks       label                                               text\n",
              "0       0   Psoriasis   Saya telah mengalami ruam kulit di lengan, ka...\n",
              "1       1   Psoriasis   Kulit saya mengelupas, terutama di lutut, sik...\n",
              "2       2   Psoriasis   Saya telah mengalami nyeri sendi di jari, per...\n",
              "3       3   Psoriasis   Ada debu seperti perak di kulit saya, terutam...\n",
              "4       4   Psoriasis   Kuku saya memiliki penyok atau lubang kecil d..."
            ],
            "text/html": [
              "\n",
              "  <div id=\"df-1d987cfa-8779-4049-b5ea-1a42011899c7\">\n",
              "    <div class=\"colab-df-container\">\n",
              "      <div>\n",
              "<style scoped>\n",
              "    .dataframe tbody tr th:only-of-type {\n",
              "        vertical-align: middle;\n",
              "    }\n",
              "\n",
              "    .dataframe tbody tr th {\n",
              "        vertical-align: top;\n",
              "    }\n",
              "\n",
              "    .dataframe thead th {\n",
              "        text-align: right;\n",
              "    }\n",
              "</style>\n",
              "<table border=\"1\" class=\"dataframe\">\n",
              "  <thead>\n",
              "    <tr style=\"text-align: right;\">\n",
              "      <th></th>\n",
              "      <th>indeks</th>\n",
              "      <th>label</th>\n",
              "      <th>text</th>\n",
              "    </tr>\n",
              "  </thead>\n",
              "  <tbody>\n",
              "    <tr>\n",
              "      <th>0</th>\n",
              "      <td>0</td>\n",
              "      <td>Psoriasis</td>\n",
              "      <td>Saya telah mengalami ruam kulit di lengan, ka...</td>\n",
              "    </tr>\n",
              "    <tr>\n",
              "      <th>1</th>\n",
              "      <td>1</td>\n",
              "      <td>Psoriasis</td>\n",
              "      <td>Kulit saya mengelupas, terutama di lutut, sik...</td>\n",
              "    </tr>\n",
              "    <tr>\n",
              "      <th>2</th>\n",
              "      <td>2</td>\n",
              "      <td>Psoriasis</td>\n",
              "      <td>Saya telah mengalami nyeri sendi di jari, per...</td>\n",
              "    </tr>\n",
              "    <tr>\n",
              "      <th>3</th>\n",
              "      <td>3</td>\n",
              "      <td>Psoriasis</td>\n",
              "      <td>Ada debu seperti perak di kulit saya, terutam...</td>\n",
              "    </tr>\n",
              "    <tr>\n",
              "      <th>4</th>\n",
              "      <td>4</td>\n",
              "      <td>Psoriasis</td>\n",
              "      <td>Kuku saya memiliki penyok atau lubang kecil d...</td>\n",
              "    </tr>\n",
              "  </tbody>\n",
              "</table>\n",
              "</div>\n",
              "      <button class=\"colab-df-convert\" onclick=\"convertToInteractive('df-1d987cfa-8779-4049-b5ea-1a42011899c7')\"\n",
              "              title=\"Convert this dataframe to an interactive table.\"\n",
              "              style=\"display:none;\">\n",
              "        \n",
              "  <svg xmlns=\"http://www.w3.org/2000/svg\" height=\"24px\"viewBox=\"0 0 24 24\"\n",
              "       width=\"24px\">\n",
              "    <path d=\"M0 0h24v24H0V0z\" fill=\"none\"/>\n",
              "    <path d=\"M18.56 5.44l.94 2.06.94-2.06 2.06-.94-2.06-.94-.94-2.06-.94 2.06-2.06.94zm-11 1L8.5 8.5l.94-2.06 2.06-.94-2.06-.94L8.5 2.5l-.94 2.06-2.06.94zm10 10l.94 2.06.94-2.06 2.06-.94-2.06-.94-.94-2.06-.94 2.06-2.06.94z\"/><path d=\"M17.41 7.96l-1.37-1.37c-.4-.4-.92-.59-1.43-.59-.52 0-1.04.2-1.43.59L10.3 9.45l-7.72 7.72c-.78.78-.78 2.05 0 2.83L4 21.41c.39.39.9.59 1.41.59.51 0 1.02-.2 1.41-.59l7.78-7.78 2.81-2.81c.8-.78.8-2.07 0-2.86zM5.41 20L4 18.59l7.72-7.72 1.47 1.35L5.41 20z\"/>\n",
              "  </svg>\n",
              "      </button>\n",
              "      \n",
              "  <style>\n",
              "    .colab-df-container {\n",
              "      display:flex;\n",
              "      flex-wrap:wrap;\n",
              "      gap: 12px;\n",
              "    }\n",
              "\n",
              "    .colab-df-convert {\n",
              "      background-color: #E8F0FE;\n",
              "      border: none;\n",
              "      border-radius: 50%;\n",
              "      cursor: pointer;\n",
              "      display: none;\n",
              "      fill: #1967D2;\n",
              "      height: 32px;\n",
              "      padding: 0 0 0 0;\n",
              "      width: 32px;\n",
              "    }\n",
              "\n",
              "    .colab-df-convert:hover {\n",
              "      background-color: #E2EBFA;\n",
              "      box-shadow: 0px 1px 2px rgba(60, 64, 67, 0.3), 0px 1px 3px 1px rgba(60, 64, 67, 0.15);\n",
              "      fill: #174EA6;\n",
              "    }\n",
              "\n",
              "    [theme=dark] .colab-df-convert {\n",
              "      background-color: #3B4455;\n",
              "      fill: #D2E3FC;\n",
              "    }\n",
              "\n",
              "    [theme=dark] .colab-df-convert:hover {\n",
              "      background-color: #434B5C;\n",
              "      box-shadow: 0px 1px 3px 1px rgba(0, 0, 0, 0.15);\n",
              "      filter: drop-shadow(0px 1px 2px rgba(0, 0, 0, 0.3));\n",
              "      fill: #FFFFFF;\n",
              "    }\n",
              "  </style>\n",
              "\n",
              "      <script>\n",
              "        const buttonEl =\n",
              "          document.querySelector('#df-1d987cfa-8779-4049-b5ea-1a42011899c7 button.colab-df-convert');\n",
              "        buttonEl.style.display =\n",
              "          google.colab.kernel.accessAllowed ? 'block' : 'none';\n",
              "\n",
              "        async function convertToInteractive(key) {\n",
              "          const element = document.querySelector('#df-1d987cfa-8779-4049-b5ea-1a42011899c7');\n",
              "          const dataTable =\n",
              "            await google.colab.kernel.invokeFunction('convertToInteractive',\n",
              "                                                     [key], {});\n",
              "          if (!dataTable) return;\n",
              "\n",
              "          const docLinkHtml = 'Like what you see? Visit the ' +\n",
              "            '<a target=\"_blank\" href=https://colab.research.google.com/notebooks/data_table.ipynb>data table notebook</a>'\n",
              "            + ' to learn more about interactive tables.';\n",
              "          element.innerHTML = '';\n",
              "          dataTable['output_type'] = 'display_data';\n",
              "          await google.colab.output.renderOutput(dataTable, element);\n",
              "          const docLink = document.createElement('div');\n",
              "          docLink.innerHTML = docLinkHtml;\n",
              "          element.appendChild(docLink);\n",
              "        }\n",
              "      </script>\n",
              "    </div>\n",
              "  </div>\n",
              "  "
            ]
          },
          "metadata": {},
          "execution_count": 4
        }
      ],
      "source": [
        "df = pd.read_csv('./Symptom2DiseaseID.csv', delimiter=';')\n",
        "df.head()"
      ]
    },
    {
      "cell_type": "code",
      "execution_count": 5,
      "id": "1837267c",
      "metadata": {
        "id": "1837267c"
      },
      "outputs": [],
      "source": [
        "df.drop(\"indeks\", axis=1, inplace=True)"
      ]
    },
    {
      "cell_type": "code",
      "source": [
        "import itertools\n",
        "\n",
        "for i in range(len(df[\"text\"])):\n",
        "    df[\"text\"][i] = re.sub('  +', ' ', df[\"text\"][i])\n",
        "    df[\"text\"][i] = ''.join(''.join(s)[:1] for _, s in itertools.groupby(df[\"text\"][i]))\n",
        "    df[\"text\"][i] = df[\"text\"][i].lower()\n",
        "    df[\"label\"][i] = df[\"label\"][i].lower()\n",
        "\n",
        "df.label = df.label.str.replace('^ +| +$', '', regex=True)"
      ],
      "metadata": {
        "id": "I2g1r2nJTAro"
      },
      "id": "I2g1r2nJTAro",
      "execution_count": 6,
      "outputs": []
    },
    {
      "cell_type": "code",
      "source": [
        "for nama_kolom in df.columns:\n",
        "  print(df[nama_kolom].value_counts(), \"\\n\")"
      ],
      "metadata": {
        "colab": {
          "base_uri": "https://localhost:8080/"
        },
        "id": "ZU3zUHa8AxnX",
        "outputId": "2326d354-25f0-4125-823c-6930ce5dbf47"
      },
      "id": "ZU3zUHa8AxnX",
      "execution_count": 7,
      "outputs": [
        {
          "output_type": "stream",
          "name": "stdout",
          "text": [
            "psoriasis                          50\n",
            "pembuluh mekar                     50\n",
            "penyakit ulkus peptikum            50\n",
            "reaksi obat                        50\n",
            "penyakit refluks gastroesofagus    50\n",
            "alergi                             50\n",
            "infeksi saluran kemih              50\n",
            "malaria                            50\n",
            "penyakit kuning                    50\n",
            "spondylosis serviks                50\n",
            "migrain                            50\n",
            "hipertensi                         50\n",
            "asma bronkial                      50\n",
            "jerawat                            50\n",
            "radang sendi                       50\n",
            "wasir dimorfik                     50\n",
            "radang paru-paru                   50\n",
            "flu biasa                          50\n",
            "infeksi jamur                      50\n",
            "demam berdarah                     50\n",
            "impetigo                           50\n",
            "cacar air                          50\n",
            "penyakit tipus                     50\n",
            "diabetes                           50\n",
            "Name: label, dtype: int64 \n",
            "\n",
            " saya merasa sangat gatal, sakit, dan lelah. selain itu, berat badan saya turun dan suhu tubuh saya naik. urine saya berwarna gelap, dan kulit saya menjadi kuning. selain itu, saya juga mengalami sakit perut.                                                            5\n",
            " saya mengalami gatal-gatal hebat, muntah-muntah, dan kelelahan. saya juga mengalami penurunan berat badan dan demam tingi. kulit saya menjadi kuning dan urin saya gelap. saya juga pernah mengalami sakit perut.                                                          3\n",
            " saya merasa otot saya sangat lemah dan leher saya sangat kaku. sendi saya bengkak dan sulit bagi saya untuk bergerak tanpa merasa kaku. berjalan juga sangat menyakitkan.                                                                                                  3\n",
            " saya mengalami sembelit dan sangat sulit untuk pergi ke kamar mandi. ketika saya pergi, rasanya sakit dan tinja saya berdarah. saya juga merasakan sakit di pantat dan anus saya sangat gatal dan iritasi.                                                                 3\n",
            " saya sudah kelelahan dan mengalami mual dan gatal. selain itu, berat badan saya turun dan suhu tubuh saya naik. urine saya berwarna gelap, dan kulit saya menjadi kuning. selain itu, saya juga mengalami sakit perut.                                                     2\n",
            "                                                                                                                                                                                                                                                                           ..\n",
            " saya tidak bisa berhenti batuk dan saya kedinginan. sinus saya benar-benar tersumbat, dan saya dibanjiri lendir. dadaku sakit, dan aku tidak bisa mencium bau apa pun. otot saya juga sangat pegal.                                                                        1\n",
            " saya sering batuk dan sulit bernapas. tengorokan saya sakit dan saya merasa banyak dahak yang terperangkap di dada saya. hidung saya banyak meler, dan saya merasa sangat tersumbat.                                                                                       1\n",
            " saya telah mengalami keletihan yang parah dan sensasi sakit-sakitan. tengorokan saya sangat sakit dan saya mengalami batuk yang cukup parah. hidung saya cukup tersumbat, dan saya mengalami tekanan sinus yang signifikan. saya benar-benar sengsara dan sangat lelah.    1\n",
            "saya merasa sangat sakit dan saya sangat lelah. saya mengalami batuk yang sangat parah dan tengorokan saya sangat sakit. saya mengalami banyak tekanan sinus dan hidung saya benar-benar tersumbat. saya hanya merasa sangat lelah dan sengsara.                            1\n",
            " saya terus menerus bersin dan batuk kering. infeksi saya sepertinya tidak kunjung sembuh, dan jantung saya berdebar-debar. tengorokan saya kadang terasa sakit, tetapi biasanya membaik.                                                                                   1\n",
            "Name: text, Length: 1149, dtype: int64 \n",
            "\n"
          ]
        }
      ]
    },
    {
      "cell_type": "markdown",
      "id": "1a1a3a6a",
      "metadata": {
        "papermill": {
          "duration": 0.0058,
          "end_time": "2023-04-06T04:11:57.995838",
          "exception": false,
          "start_time": "2023-04-06T04:11:57.990038",
          "status": "completed"
        },
        "tags": [],
        "id": "1a1a3a6a"
      },
      "source": [
        "Creating encodings for disease."
      ]
    },
    {
      "cell_type": "code",
      "execution_count": 8,
      "id": "9f3f79ff",
      "metadata": {
        "execution": {
          "iopub.execute_input": "2023-04-06T04:11:58.009804Z",
          "iopub.status.busy": "2023-04-06T04:11:58.009515Z",
          "iopub.status.idle": "2023-04-06T04:11:58.019455Z",
          "shell.execute_reply": "2023-04-06T04:11:58.018448Z"
        },
        "papermill": {
          "duration": 0.018935,
          "end_time": "2023-04-06T04:11:58.021513",
          "exception": false,
          "start_time": "2023-04-06T04:11:58.002578",
          "status": "completed"
        },
        "tags": [],
        "colab": {
          "base_uri": "https://localhost:8080/"
        },
        "id": "9f3f79ff",
        "outputId": "b18b30bb-0c3f-43bf-ef0e-6494446e51a8"
      },
      "outputs": [
        {
          "output_type": "execute_result",
          "data": {
            "text/plain": [
              "({0: 'psoriasis',\n",
              "  1: 'pembuluh mekar',\n",
              "  2: 'penyakit tipus',\n",
              "  3: 'cacar air',\n",
              "  4: 'impetigo',\n",
              "  5: 'demam berdarah',\n",
              "  6: 'infeksi jamur',\n",
              "  7: 'flu biasa',\n",
              "  8: 'radang paru-paru',\n",
              "  9: 'wasir dimorfik',\n",
              "  10: 'radang sendi',\n",
              "  11: 'jerawat',\n",
              "  12: 'asma bronkial',\n",
              "  13: 'hipertensi',\n",
              "  14: 'migrain',\n",
              "  15: 'spondylosis serviks',\n",
              "  16: 'penyakit kuning',\n",
              "  17: 'malaria',\n",
              "  18: 'infeksi saluran kemih',\n",
              "  19: 'alergi',\n",
              "  20: 'penyakit refluks gastroesofagus',\n",
              "  21: 'reaksi obat',\n",
              "  22: 'penyakit ulkus peptikum',\n",
              "  23: 'diabetes'},\n",
              " {'psoriasis': 0,\n",
              "  'pembuluh mekar': 1,\n",
              "  'penyakit tipus': 2,\n",
              "  'cacar air': 3,\n",
              "  'impetigo': 4,\n",
              "  'demam berdarah': 5,\n",
              "  'infeksi jamur': 6,\n",
              "  'flu biasa': 7,\n",
              "  'radang paru-paru': 8,\n",
              "  'wasir dimorfik': 9,\n",
              "  'radang sendi': 10,\n",
              "  'jerawat': 11,\n",
              "  'asma bronkial': 12,\n",
              "  'hipertensi': 13,\n",
              "  'migrain': 14,\n",
              "  'spondylosis serviks': 15,\n",
              "  'penyakit kuning': 16,\n",
              "  'malaria': 17,\n",
              "  'infeksi saluran kemih': 18,\n",
              "  'alergi': 19,\n",
              "  'penyakit refluks gastroesofagus': 20,\n",
              "  'reaksi obat': 21,\n",
              "  'penyakit ulkus peptikum': 22,\n",
              "  'diabetes': 23})"
            ]
          },
          "metadata": {},
          "execution_count": 8
        }
      ],
      "source": [
        "int2label = {}\n",
        "\n",
        "for i, disease in enumerate(df['label'].unique()):\n",
        "    int2label[i] = disease\n",
        "\n",
        "label2int = {v : k for k, v in int2label.items()}\n",
        "num_classes = len(int2label)\n",
        "\n",
        "int2label, label2int"
      ]
    },
    {
      "cell_type": "markdown",
      "id": "763636f6",
      "metadata": {
        "papermill": {
          "duration": 0.006036,
          "end_time": "2023-04-06T04:11:58.033788",
          "exception": false,
          "start_time": "2023-04-06T04:11:58.027752",
          "status": "completed"
        },
        "tags": [],
        "id": "763636f6"
      },
      "source": [
        "## Data Distribution"
      ]
    },
    {
      "cell_type": "code",
      "execution_count": 9,
      "id": "d9879e91",
      "metadata": {
        "execution": {
          "iopub.execute_input": "2023-04-06T04:11:58.047157Z",
          "iopub.status.busy": "2023-04-06T04:11:58.046841Z",
          "iopub.status.idle": "2023-04-06T04:11:58.493886Z",
          "shell.execute_reply": "2023-04-06T04:11:58.492907Z"
        },
        "papermill": {
          "duration": 0.456124,
          "end_time": "2023-04-06T04:11:58.496173",
          "exception": false,
          "start_time": "2023-04-06T04:11:58.040049",
          "status": "completed"
        },
        "tags": [],
        "colab": {
          "base_uri": "https://localhost:8080/",
          "height": 668
        },
        "id": "d9879e91",
        "outputId": "19ad2ff2-1c5e-4843-eb65-926327ff83c1"
      },
      "outputs": [
        {
          "output_type": "execute_result",
          "data": {
            "text/plain": [
              "Text(0.5, 1.0, 'Count of each disease')"
            ]
          },
          "metadata": {},
          "execution_count": 9
        },
        {
          "output_type": "display_data",
          "data": {
            "text/plain": [
              "<Figure size 1000x800 with 1 Axes>"
            ],
            "image/png": "[encoded data removed]"
          },
          "metadata": {}
        }
      ],
      "source": [
        "plt.figure(figsize = (10, 8))\n",
        "\n",
        "sea.countplot(y = df['label'], palette = 'Blues_d')\n",
        "plt.title('Count of each disease')"
      ]
    },
    {
      "cell_type": "markdown",
      "id": "372d9672",
      "metadata": {
        "papermill": {
          "duration": 0.007259,
          "end_time": "2023-04-06T04:11:58.511213",
          "exception": false,
          "start_time": "2023-04-06T04:11:58.503954",
          "status": "completed"
        },
        "tags": [],
        "id": "372d9672"
      },
      "source": [
        "## Distribution of the lenght of description"
      ]
    },
    {
      "cell_type": "code",
      "execution_count": 10,
      "id": "a3255b14",
      "metadata": {
        "execution": {
          "iopub.execute_input": "2023-04-06T04:11:58.526547Z",
          "iopub.status.busy": "2023-04-06T04:11:58.526240Z",
          "iopub.status.idle": "2023-04-06T04:11:58.844073Z",
          "shell.execute_reply": "2023-04-06T04:11:58.843091Z"
        },
        "papermill": {
          "duration": 0.328297,
          "end_time": "2023-04-06T04:11:58.846485",
          "exception": false,
          "start_time": "2023-04-06T04:11:58.518188",
          "status": "completed"
        },
        "tags": [],
        "colab": {
          "base_uri": "https://localhost:8080/",
          "height": 502,
          "referenced_widgets": [
            "55d259d1e6464f4d8c83c088349bef68",
            "0b4224a024c84c1288ff44441647d54d",
            "f49f242ff04b432ba6099a901ebee775",
            "68758c98270845e285a3a31fce35ad6c",
            "b1f72dac8c2f4a4dbb4d32f4bffe38c6",
            "1c78771e3f694e84a02baf660e0b48a0",
            "e431364354364aa89794da7cff421aa3",
            "87e4d8518828411eb3ee297b46a54ff1",
            "34b1efe5e41d452f9884e88049a8c030",
            "48bb8ecdc3f544fb8d5e41e242cfa4e8",
            "5c7438f97c0544c5a85aacb94dbffb9c"
          ]
        },
        "id": "a3255b14",
        "outputId": "6d35a473-5c70-4e13-8531-88c82630a62d"
      },
      "outputs": [
        {
          "output_type": "display_data",
          "data": {
            "text/plain": [
              "  0%|          | 0/1200 [00:00<?, ?it/s]"
            ],
            "application/vnd.jupyter.widget-view+json": {
              "version_major": 2,
              "version_minor": 0,
              "model_id": "55d259d1e6464f4d8c83c088349bef68"
            }
          },
          "metadata": {}
        },
        {
          "output_type": "execute_result",
          "data": {
            "text/plain": [
              "Text(0.5, 1.0, 'Distribution of description length')"
            ]
          },
          "metadata": {},
          "execution_count": 10
        },
        {
          "output_type": "display_data",
          "data": {
            "text/plain": [
              "<Figure size 640x480 with 1 Axes>"
            ],
            "image/png": "[encoded data removed]"
          },
          "metadata": {}
        }
      ],
      "source": [
        "length = []\n",
        "for txt in tqdm(df['text'].values):\n",
        "    length.append(len(txt.split()))\n",
        "\n",
        "sea.histplot(length, kde = True, bins = 20)\n",
        "plt.title('Distribution of description length')"
      ]
    },
    {
      "cell_type": "code",
      "execution_count": 11,
      "id": "14d22426",
      "metadata": {
        "execution": {
          "iopub.execute_input": "2023-04-06T04:11:58.866143Z",
          "iopub.status.busy": "2023-04-06T04:11:58.864521Z",
          "iopub.status.idle": "2023-04-06T04:11:58.872088Z",
          "shell.execute_reply": "2023-04-06T04:11:58.871166Z"
        },
        "papermill": {
          "duration": 0.019088,
          "end_time": "2023-04-06T04:11:58.874327",
          "exception": false,
          "start_time": "2023-04-06T04:11:58.855239",
          "status": "completed"
        },
        "tags": [],
        "id": "14d22426"
      },
      "outputs": [],
      "source": [
        "df['label'] = df['label'].map(lambda x : label2int[x])"
      ]
    },
    {
      "cell_type": "code",
      "source": [
        "df[\"label\"].value_counts()"
      ],
      "metadata": {
        "colab": {
          "base_uri": "https://localhost:8080/"
        },
        "id": "ZZCy-Gz5A6sd",
        "outputId": "4e68639b-c79a-451f-c010-adcacea34805"
      },
      "id": "ZZCy-Gz5A6sd",
      "execution_count": 12,
      "outputs": [
        {
          "output_type": "execute_result",
          "data": {
            "text/plain": [
              "0     50\n",
              "1     50\n",
              "22    50\n",
              "21    50\n",
              "20    50\n",
              "19    50\n",
              "18    50\n",
              "17    50\n",
              "16    50\n",
              "15    50\n",
              "14    50\n",
              "13    50\n",
              "12    50\n",
              "11    50\n",
              "10    50\n",
              "9     50\n",
              "8     50\n",
              "7     50\n",
              "6     50\n",
              "5     50\n",
              "4     50\n",
              "3     50\n",
              "2     50\n",
              "23    50\n",
              "Name: label, dtype: int64"
            ]
          },
          "metadata": {},
          "execution_count": 12
        }
      ]
    },
    {
      "cell_type": "code",
      "execution_count": 13,
      "id": "62d364d9",
      "metadata": {
        "execution": {
          "iopub.execute_input": "2023-04-06T04:11:58.891925Z",
          "iopub.status.busy": "2023-04-06T04:11:58.891647Z",
          "iopub.status.idle": "2023-04-06T04:11:58.929395Z",
          "shell.execute_reply": "2023-04-06T04:11:58.928193Z"
        },
        "papermill": {
          "duration": 0.049272,
          "end_time": "2023-04-06T04:11:58.931693",
          "exception": false,
          "start_time": "2023-04-06T04:11:58.882421",
          "status": "completed"
        },
        "tags": [],
        "colab": {
          "base_uri": "https://localhost:8080/"
        },
        "id": "62d364d9",
        "outputId": "c6171782-a77d-40a5-bfe5-b793a477ffd1"
      },
      "outputs": [
        {
          "output_type": "stream",
          "name": "stdout",
          "text": [
            "X vocab: 1749\n"
          ]
        }
      ],
      "source": [
        "X, y = df['text'].values, df['label'].values\n",
        "\n",
        "x_tokenizer = Tokenizer(filters = '')\n",
        "x_tokenizer.fit_on_texts(X)\n",
        "x_vocab = len(x_tokenizer.word_index) + 1\n",
        "print(\"X vocab:\", x_vocab)"
      ]
    },
    {
      "cell_type": "markdown",
      "id": "fc27376e",
      "metadata": {
        "papermill": {
          "duration": 0.007651,
          "end_time": "2023-04-06T04:11:58.947594",
          "exception": false,
          "start_time": "2023-04-06T04:11:58.939943",
          "status": "completed"
        },
        "tags": [],
        "id": "fc27376e"
      },
      "source": [
        "## Creating the train and testing data"
      ]
    },
    {
      "cell_type": "code",
      "execution_count": 14,
      "id": "066444cb",
      "metadata": {
        "execution": {
          "iopub.execute_input": "2023-04-06T04:11:58.964614Z",
          "iopub.status.busy": "2023-04-06T04:11:58.964068Z",
          "iopub.status.idle": "2023-04-06T04:11:59.111860Z",
          "shell.execute_reply": "2023-04-06T04:11:59.110761Z"
        },
        "papermill": {
          "duration": 0.158924,
          "end_time": "2023-04-06T04:11:59.114422",
          "exception": false,
          "start_time": "2023-04-06T04:11:58.955498",
          "status": "completed"
        },
        "tags": [],
        "colab": {
          "base_uri": "https://localhost:8080/"
        },
        "id": "066444cb",
        "outputId": "216b585a-6440-467b-fb6a-98ee607b3262"
      },
      "outputs": [
        {
          "output_type": "execute_result",
          "data": {
            "text/plain": [
              "((1080,), (120,), (1080,), (120,))"
            ]
          },
          "metadata": {},
          "execution_count": 14
        }
      ],
      "source": [
        "from sklearn.model_selection import train_test_split\n",
        "\n",
        "train_x, val_x, train_y, val_y = train_test_split(X, y, test_size = 0.1, stratify = y)\n",
        "train_x.shape, val_x.shape, train_y.shape, val_y.shape"
      ]
    },
    {
      "cell_type": "markdown",
      "id": "e6820e3f",
      "metadata": {
        "papermill": {
          "duration": 0.008148,
          "end_time": "2023-04-06T04:11:59.130974",
          "exception": false,
          "start_time": "2023-04-06T04:11:59.122826",
          "status": "completed"
        },
        "tags": [],
        "id": "e6820e3f"
      },
      "source": [
        "## Converting the data into `tf.data.Dataset`\n",
        "\n",
        "1. The tokenizer of pretrained bert is downloaded and used.\n",
        "2. `train_dataset` and `val_dataset` is created using `tf.data.Dataset` with batch size 8."
      ]
    },
    {
      "cell_type": "code",
      "execution_count": 15,
      "id": "9b2c5a88",
      "metadata": {
        "execution": {
          "iopub.execute_input": "2023-04-06T04:11:59.149298Z",
          "iopub.status.busy": "2023-04-06T04:11:59.147753Z",
          "iopub.status.idle": "2023-04-06T04:12:09.437535Z",
          "shell.execute_reply": "2023-04-06T04:12:09.436452Z"
        },
        "papermill": {
          "duration": 10.301704,
          "end_time": "2023-04-06T04:12:09.440605",
          "exception": false,
          "start_time": "2023-04-06T04:11:59.138901",
          "status": "completed"
        },
        "tags": [],
        "id": "9b2c5a88",
        "colab": {
          "base_uri": "https://localhost:8080/",
          "height": 145,
          "referenced_widgets": [
            "cf16a97f134e48b1b39d3fec79776e59",
            "edfbed4746494426994abc6304765a41",
            "ad879aabfd1d4acfb93bfad0f105d1fc",
            "76cae0ec1ec24880837f5e7275764986",
            "a1dc38776a5244b3a076918fde6a81a1",
            "8830697b3a384deeb059b6d75b11e5c5",
            "3479599ec7c84bed9f9eb5f4a5690d40",
            "de35df9b7bc54d09959c10dd338cb459",
            "872752efe0fd4591808cb8ef217f201c",
            "60a541420d3c4df980c58e5684f2b9c6",
            "2712296746d54e749c363db93b3e883d",
            "48fefdf4f39a4019a2d752fec5038cd5",
            "381e13fb26cd48dcba347986c6248930",
            "bd34a12c1fee4cec8f911565465b6e8e",
            "1978c45f580d447bbe0b876fc6e16d15",
            "3bd5ff70081d4cee9443de7d1a7993e9",
            "6316ca233caf4e5a9bc9051d63ebab7c",
            "baaf002a94d540178ed933433a49440d",
            "729c5a3a0cfb4e73a3fb54d212940263",
            "2a1a817e011044b7bc2a9a5bd78adfda",
            "1b5c67c2f2f74f35ac852850b90e6f22",
            "b7e3e623854441e199b6afbf81f7cf6c",
            "9fb1f1b93bc04c9a8d726c287ca1e38e",
            "b3b10137ea804c95af30579692fffff1",
            "1f8b5a14dad0478a93a14437b7e18ccf",
            "fad581c789c14dfeb34b6e5d79ac006c",
            "010685384e4648069f3347f8804676b9",
            "77273c94273b455c92b629cdbef08d97",
            "254a6b612b364d7eab97074d3016a7f6",
            "709bb2d5024246ccb91860461d74519a",
            "5ed5ed4077494ffa92759311e908976b",
            "b7c0bbfbfd3944cd91b32102fa64e6d9",
            "c25440045a19408cbe262fe8936faefb",
            "0f89132e1eae41608228a39065cd7594",
            "46ad599816864384a7489aa3b297204a",
            "0b638565f93049dda12fd81b29334021",
            "cc62b9640cd1453dbb45e09c9a44c07a",
            "2f2e5f339f4440f3a9aed813dbb2bb2f",
            "6a9370f44ee94859a73a9bc7b01de0bf",
            "64bffbd64ed74fbcbd10ae5be31e6139",
            "6058fed3d36748dcb52b774e496a73d9",
            "8cdd29bdde844db4880bfc1418653336",
            "ca9df98997694024bbe35c292c0dc5d9",
            "0a8e83eaa87f4fab837bf835c2966690"
          ]
        },
        "outputId": "62adecef-7259-46cc-f2bb-80828eefa806"
      },
      "outputs": [
        {
          "output_type": "display_data",
          "data": {
            "text/plain": [
              "Downloading (…)okenizer_config.json:   0%|          | 0.00/29.0 [00:00<?, ?B/s]"
            ],
            "application/vnd.jupyter.widget-view+json": {
              "version_major": 2,
              "version_minor": 0,
              "model_id": "cf16a97f134e48b1b39d3fec79776e59"
            }
          },
          "metadata": {}
        },
        {
          "output_type": "display_data",
          "data": {
            "text/plain": [
              "Downloading (…)lve/main/config.json:   0%|          | 0.00/625 [00:00<?, ?B/s]"
            ],
            "application/vnd.jupyter.widget-view+json": {
              "version_major": 2,
              "version_minor": 0,
              "model_id": "48fefdf4f39a4019a2d752fec5038cd5"
            }
          },
          "metadata": {}
        },
        {
          "output_type": "display_data",
          "data": {
            "text/plain": [
              "Downloading (…)solve/main/vocab.txt:   0%|          | 0.00/996k [00:00<?, ?B/s]"
            ],
            "application/vnd.jupyter.widget-view+json": {
              "version_major": 2,
              "version_minor": 0,
              "model_id": "9fb1f1b93bc04c9a8d726c287ca1e38e"
            }
          },
          "metadata": {}
        },
        {
          "output_type": "display_data",
          "data": {
            "text/plain": [
              "Downloading (…)/main/tokenizer.json:   0%|          | 0.00/1.96M [00:00<?, ?B/s]"
            ],
            "application/vnd.jupyter.widget-view+json": {
              "version_major": 2,
              "version_minor": 0,
              "model_id": "0f89132e1eae41608228a39065cd7594"
            }
          },
          "metadata": {}
        }
      ],
      "source": [
        "from transformers import AutoTokenizer\n",
        "BATCH_SIZE = 8\n",
        "\n",
        "tokenizer = AutoTokenizer.from_pretrained(\"bert-base-multilingual-cased\")\n",
        "train_encodings = tokenizer(list(train_x), padding=\"max_length\", truncation=True)\n",
        "val_encodings = tokenizer(list(val_x), padding=\"max_length\", truncation=True)\n",
        "\n",
        "train_dataset = tf.data.Dataset.from_tensor_slices((\n",
        "    dict(train_encodings),\n",
        "    train_y\n",
        ")).batch(BATCH_SIZE)\n",
        "\n",
        "val_dataset = tf.data.Dataset.from_tensor_slices((\n",
        "    dict(val_encodings),\n",
        "    val_y\n",
        ")).batch(BATCH_SIZE)\n"
      ]
    },
    {
      "cell_type": "code",
      "source": [
        "num_classes = 24\n",
        "\n",
        "from transformers import TFAutoModelForSequenceClassification\n",
        "\n",
        "model = TFAutoModelForSequenceClassification.from_pretrained(\n",
        "    \"bert-base-multilingual-cased\", \n",
        "    num_labels = num_classes, \n",
        "    id2label = int2label, \n",
        "    label2id = label2int,\n",
        "    output_attentions = True)\n",
        "\n",
        "model.compile(\n",
        "    loss = keras.losses.SparseCategoricalCrossentropy(from_logits=True),\n",
        "    optimizer = keras.optimizers.Adam(learning_rate = 3e-5),\n",
        "    metrics = ['accuracy'])\n",
        "\n",
        "model"
      ],
      "metadata": {
        "colab": {
          "base_uri": "https://localhost:8080/"
        },
        "id": "bp6MyJ2RFInb",
        "outputId": "91e56949-e29c-4666-d2d1-2b1e2411d7e0"
      },
      "id": "bp6MyJ2RFInb",
      "execution_count": 52,
      "outputs": [
        {
          "output_type": "stream",
          "name": "stderr",
          "text": [
            "All model checkpoint layers were used when initializing TFBertForSequenceClassification.\n",
            "\n",
            "Some layers of TFBertForSequenceClassification were not initialized from the model checkpoint at bert-base-multilingual-cased and are newly initialized: ['classifier']\n",
            "You should probably TRAIN this model on a down-stream task to be able to use it for predictions and inference.\n"
          ]
        },
        {
          "output_type": "execute_result",
          "data": {
            "text/plain": [
              "<transformers.models.bert.modeling_tf_bert.TFBertForSequenceClassification at 0x7f9896f5f670>"
            ]
          },
          "metadata": {},
          "execution_count": 52
        }
      ]
    },
    {
      "cell_type": "code",
      "source": [
        "for layer in model.layers:\n",
        "    print(layer, layer.trainable)"
      ],
      "metadata": {
        "colab": {
          "base_uri": "https://localhost:8080/"
        },
        "id": "cUqkar8DHIno",
        "outputId": "0ef265c9-8bca-4d4c-8a00-7bf20026c011"
      },
      "id": "cUqkar8DHIno",
      "execution_count": 53,
      "outputs": [
        {
          "output_type": "stream",
          "name": "stdout",
          "text": [
            "<transformers.models.bert.modeling_tf_bert.TFBertMainLayer object at 0x7f9896f5f8b0> True\n",
            "<keras.layers.regularization.dropout.Dropout object at 0x7f9897002f20> True\n",
            "<keras.layers.core.dense.Dense object at 0x7f989730f760> True\n"
          ]
        }
      ]
    },
    {
      "cell_type": "code",
      "source": [
        "model.summary()"
      ],
      "metadata": {
        "colab": {
          "base_uri": "https://localhost:8080/"
        },
        "id": "QCunSrpScgbb",
        "outputId": "040b4aca-3ae8-4f14-884f-7d18617686e6"
      },
      "id": "QCunSrpScgbb",
      "execution_count": 54,
      "outputs": [
        {
          "output_type": "stream",
          "name": "stdout",
          "text": [
            "Model: \"tf_bert_for_sequence_classification_3\"\n",
            "_________________________________________________________________\n",
            " Layer (type)                Output Shape              Param #   \n",
            "=================================================================\n",
            " bert (TFBertMainLayer)      multiple                  177853440 \n",
            "                                                                 \n",
            " dropout_262 (Dropout)       multiple                  0         \n",
            "                                                                 \n",
            " classifier (Dense)          multiple                  18456     \n",
            "                                                                 \n",
            "=================================================================\n",
            "Total params: 177,871,896\n",
            "Trainable params: 177,871,896\n",
            "Non-trainable params: 0\n",
            "_________________________________________________________________\n"
          ]
        }
      ]
    },
    {
      "cell_type": "code",
      "source": [
        "EPOCHS = 10\n",
        "batch_size = 16\n",
        "\n",
        "history = model.fit(train_dataset,\n",
        "          batch_size=batch_size,\n",
        "          epochs = EPOCHS,\n",
        "          validation_data = val_dataset)"
      ],
      "metadata": {
        "colab": {
          "base_uri": "https://localhost:8080/"
        },
        "id": "_bLkSCfnlaPQ",
        "outputId": "366d1269-5a25-4f65-91d1-93153ade242d"
      },
      "id": "_bLkSCfnlaPQ",
      "execution_count": 55,
      "outputs": [
        {
          "output_type": "stream",
          "name": "stdout",
          "text": [
            "Epoch 1/10\n",
            "135/135 [==============================] - 183s 1000ms/step - loss: 3.1083 - accuracy: 0.1093 - val_loss: 2.5042 - val_accuracy: 0.4583\n",
            "Epoch 2/10\n",
            "135/135 [==============================] - 131s 972ms/step - loss: 1.7928 - accuracy: 0.6694 - val_loss: 1.0285 - val_accuracy: 0.7750\n",
            "Epoch 3/10\n",
            "135/135 [==============================] - 131s 971ms/step - loss: 0.7332 - accuracy: 0.9046 - val_loss: 0.4863 - val_accuracy: 0.9083\n",
            "Epoch 4/10\n",
            "135/135 [==============================] - 131s 972ms/step - loss: 0.3077 - accuracy: 0.9685 - val_loss: 0.2442 - val_accuracy: 0.9583\n",
            "Epoch 5/10\n",
            "135/135 [==============================] - 131s 973ms/step - loss: 0.1458 - accuracy: 0.9926 - val_loss: 0.2346 - val_accuracy: 0.9417\n",
            "Epoch 6/10\n",
            "135/135 [==============================] - 132s 975ms/step - loss: 0.1068 - accuracy: 0.9944 - val_loss: 0.1855 - val_accuracy: 0.9500\n",
            "Epoch 7/10\n",
            "135/135 [==============================] - 131s 972ms/step - loss: 0.0675 - accuracy: 0.9972 - val_loss: 0.1339 - val_accuracy: 0.9667\n",
            "Epoch 8/10\n",
            "135/135 [==============================] - 131s 971ms/step - loss: 0.0361 - accuracy: 1.0000 - val_loss: 0.0936 - val_accuracy: 0.9750\n",
            "Epoch 9/10\n",
            "135/135 [==============================] - 131s 972ms/step - loss: 0.0270 - accuracy: 1.0000 - val_loss: 0.0900 - val_accuracy: 0.9833\n",
            "Epoch 10/10\n",
            "135/135 [==============================] - 131s 972ms/step - loss: 0.0219 - accuracy: 1.0000 - val_loss: 0.0899 - val_accuracy: 0.9750\n"
          ]
        }
      ]
    },
    {
      "cell_type": "code",
      "source": [
        "model.evaluate(val_dataset, batch_size=batch_size)"
      ],
      "metadata": {
        "colab": {
          "base_uri": "https://localhost:8080/"
        },
        "id": "TfPg4pcAligZ",
        "outputId": "c463006a-a9e3-48fe-a5ad-0ed2ec77b6fc"
      },
      "id": "TfPg4pcAligZ",
      "execution_count": 56,
      "outputs": [
        {
          "output_type": "stream",
          "name": "stdout",
          "text": [
            "15/15 [==============================] - 5s 336ms/step - loss: 0.0899 - accuracy: 0.9750\n"
          ]
        },
        {
          "output_type": "execute_result",
          "data": {
            "text/plain": [
              "[0.08990022540092468, 0.9750000238418579]"
            ]
          },
          "metadata": {},
          "execution_count": 56
        }
      ]
    },
    {
      "cell_type": "markdown",
      "id": "5328a41d",
      "metadata": {
        "papermill": {
          "duration": 0.03055,
          "end_time": "2023-04-06T04:17:18.039325",
          "exception": false,
          "start_time": "2023-04-06T04:17:18.008775",
          "status": "completed"
        },
        "tags": [],
        "id": "5328a41d"
      },
      "source": [
        "## Plotting the loss and accuracy plot."
      ]
    },
    {
      "cell_type": "code",
      "source": [
        "plt.figure(figsize = (14, 5))\n",
        "\n",
        "plt.subplot(1,2,1)\n",
        "plt.title('Loss')\n",
        "plt.plot(history.history['loss'], marker = 'o', label = 'Training')\n",
        "plt.plot(history.history['val_loss'], marker='o', label = 'Validation')\n",
        "plt.legend()\n",
        "\n",
        "plt.subplot(1,2,2)\n",
        "plt.title('Accuracy')\n",
        "plt.plot(history.history['accuracy'], marker = 'o', label = 'Training')\n",
        "plt.plot(history.history['val_accuracy'], marker='o', label = 'Validation')\n",
        "plt.legend()"
      ],
      "metadata": {
        "colab": {
          "base_uri": "https://localhost:8080/",
          "height": 410
        },
        "id": "KCBRqrCyljwy",
        "outputId": "3053c8ad-5752-4e79-cc3a-f7b45072f085"
      },
      "id": "KCBRqrCyljwy",
      "execution_count": 57,
      "outputs": [
        {
          "output_type": "execute_result",
          "data": {
            "text/plain": [
              "<matplotlib.legend.Legend at 0x7f989419fa00>"
            ]
          },
          "metadata": {},
          "execution_count": 57
        },
        {
          "output_type": "display_data",
          "data": {
            "text/plain": [
              "<Figure size 1400x500 with 2 Axes>"
            ],
            "image/png": "[encoded data removed]"
          },
          "metadata": {}
        }
      ]
    },
    {
      "cell_type": "markdown",
      "id": "9aeffcca",
      "metadata": {
        "papermill": {
          "duration": 0.031776,
          "end_time": "2023-04-06T04:17:18.612882",
          "exception": false,
          "start_time": "2023-04-06T04:17:18.581106",
          "status": "completed"
        },
        "tags": [],
        "id": "9aeffcca"
      },
      "source": [
        "## Testing the model on custom input."
      ]
    },
    {
      "cell_type": "code",
      "source": [
        "path = \"./model_bert_multilungual_v2\"\n",
        "path2 = \"./tokenizer_bert_multilungual_v2\"\n",
        "model.save_pretrained(path)\n",
        "tokenizer.save_pretrained(path2)"
      ],
      "metadata": {
        "colab": {
          "base_uri": "https://localhost:8080/"
        },
        "id": "PboIOFheckzA",
        "outputId": "8c2c8338-fe77-47f9-cd08-996230e4987e"
      },
      "id": "PboIOFheckzA",
      "execution_count": 62,
      "outputs": [
        {
          "output_type": "execute_result",
          "data": {
            "text/plain": [
              "('./tokenizer_bert_multilungual_v2/tokenizer_config.json',\n",
              " './tokenizer_bert_multilungual_v2/special_tokens_map.json',\n",
              " './tokenizer_bert_multilungual_v2/vocab.txt',\n",
              " './tokenizer_bert_multilungual_v2/added_tokens.json',\n",
              " './tokenizer_bert_multilungual_v2/tokenizer.json')"
            ]
          },
          "metadata": {},
          "execution_count": 62
        }
      ]
    },
    {
      "cell_type": "code",
      "source": [
        "!zip -r model_bert_multilungual_v2.zip \"/content/model_bert_multilungual_v2\""
      ],
      "metadata": {
        "colab": {
          "base_uri": "https://localhost:8080/"
        },
        "id": "ac4zctPhf4DI",
        "outputId": "1ccbe551-a830-4a19-aec7-492dd3b43578"
      },
      "id": "ac4zctPhf4DI",
      "execution_count": 63,
      "outputs": [
        {
          "output_type": "stream",
          "name": "stdout",
          "text": [
            "  adding: content/model_bert_multilungual_v2/ (stored 0%)\n",
            "  adding: content/model_bert_multilungual_v2/tf_model.h5 (deflated 7%)\n",
            "  adding: content/model_bert_multilungual_v2/config.json (deflated 60%)\n"
          ]
        }
      ]
    },
    {
      "cell_type": "code",
      "source": [
        "!zip -r tokenizer_bert_multilungual_v2.zip \"/content/tokenizer_bert_multilungual_v2\""
      ],
      "metadata": {
        "colab": {
          "base_uri": "https://localhost:8080/"
        },
        "id": "Bj48aO-Pf6SO",
        "outputId": "f0730dbe-4a08-46f3-83cf-0a69bd63d6c1"
      },
      "id": "Bj48aO-Pf6SO",
      "execution_count": 64,
      "outputs": [
        {
          "output_type": "stream",
          "name": "stdout",
          "text": [
            "  adding: content/tokenizer_bert_multilungual_v2/ (stored 0%)\n",
            "  adding: content/tokenizer_bert_multilungual_v2/special_tokens_map.json (deflated 42%)\n",
            "  adding: content/tokenizer_bert_multilungual_v2/tokenizer_config.json (deflated 42%)\n",
            "  adding: content/tokenizer_bert_multilungual_v2/vocab.txt (deflated 45%)\n",
            "  adding: content/tokenizer_bert_multilungual_v2/tokenizer.json (deflated 67%)\n"
          ]
        }
      ]
    },
    {
      "cell_type": "code",
      "source": [
        "from transformers import BertTokenizer, BertForSequenceClassification, BertModel"
      ],
      "metadata": {
        "id": "C1iPeGAzgPai"
      },
      "id": "C1iPeGAzgPai",
      "execution_count": 65,
      "outputs": []
    },
    {
      "cell_type": "code",
      "source": [
        "tokenizerlocal = BertTokenizer.from_pretrained(\"./tokenizer_bert_multilungual_v2\", local_files_only=True)"
      ],
      "metadata": {
        "id": "C2Sa_I2MhDZL"
      },
      "id": "C2Sa_I2MhDZL",
      "execution_count": 66,
      "outputs": []
    },
    {
      "cell_type": "code",
      "source": [
        "modellocal = BertForSequenceClassification.from_pretrained(\"./model_bert_multilungual_v2\", from_tf=True)"
      ],
      "metadata": {
        "colab": {
          "base_uri": "https://localhost:8080/"
        },
        "id": "L90Wy3bjhcbv",
        "outputId": "c56ec2da-5da8-4cf2-a3a0-dc3a41730ff0"
      },
      "id": "L90Wy3bjhcbv",
      "execution_count": 67,
      "outputs": [
        {
          "output_type": "stream",
          "name": "stderr",
          "text": [
            "All TF 2.0 model weights were used when initializing BertForSequenceClassification.\n",
            "\n",
            "All the weights of BertForSequenceClassification were initialized from the TF 2.0 model.\n",
            "If your task is similar to the task the model of the checkpoint was trained on, you can already use BertForSequenceClassification for predictions without further training.\n"
          ]
        }
      ]
    },
    {
      "cell_type": "code",
      "execution_count": 68,
      "id": "9745ec82",
      "metadata": {
        "execution": {
          "iopub.execute_input": "2023-04-06T04:17:18.686291Z",
          "iopub.status.busy": "2023-04-06T04:17:18.685270Z",
          "iopub.status.idle": "2023-04-06T04:17:21.110169Z",
          "shell.execute_reply": "2023-04-06T04:17:21.108878Z"
        },
        "papermill": {
          "duration": 2.46847,
          "end_time": "2023-04-06T04:17:21.112972",
          "exception": false,
          "start_time": "2023-04-06T04:17:18.644502",
          "status": "completed"
        },
        "tags": [],
        "colab": {
          "base_uri": "https://localhost:8080/"
        },
        "id": "9745ec82",
        "outputId": "7dd9f902-49a5-4c5b-df39-7b2e419b187c"
      },
      "outputs": [
        {
          "output_type": "stream",
          "name": "stdout",
          "text": [
            "[{'label': 'diabetes', 'score': 0.9831070899963379}, {'label': 'alergi', 'score': 0.0030360929667949677}]\n",
            "[{'label': 'penyakit tipus', 'score': 0.9881128668785095}, {'label': 'penyakit ulkus peptikum', 'score': 0.0012035921681672335}]\n"
          ]
        }
      ],
      "source": [
        "from transformers import TextClassificationPipeline\n",
        "\n",
        "pipe = TextClassificationPipeline(model=modellocal, tokenizer=tokenizerlocal, top_k = 24)\n",
        "\n",
        "text1 = str(\" Penglihatan saya berkabut, dan tampaknya semakin memburuk. Saya merasa lelah dan lelah sepanjang waktu. Saya juga sering mengalami pusing parah dan pusing.\").lower()\n",
        "text2 = str(\"Saya mengalami sembelit dan sakit perut, dan itu sangat tidak nyaman. Sakit perut semakin parah dan mulai mempengaruhi kehidupan sehari-hari saya. Apalagi setiap malam saya menggigil, diikuti demam ringan.\").lower()\n",
        "\n",
        "pred1 = pipe(text1)\n",
        "pred2 = pipe(text2)\n",
        "\n",
        "print(pred1[0][:2])\n",
        "print(pred2[0][:2])"
      ]
    },
    {
      "cell_type": "code",
      "source": [
        "!ls -lh tokenizer_bert_multilungual_v2.zip model_bert_multilungual_v2.zip"
      ],
      "metadata": {
        "colab": {
          "base_uri": "https://localhost:8080/"
        },
        "id": "AiGQglT9jWzA",
        "outputId": "ffbf50ac-348f-4f3d-af45-4b83e0994ace"
      },
      "id": "AiGQglT9jWzA",
      "execution_count": 69,
      "outputs": [
        {
          "output_type": "stream",
          "name": "stdout",
          "text": [
            "-rw-r--r-- 1 root root 630M May 30 12:44 model_bert_multilungual_v2.zip\n",
            "-rw-r--r-- 1 root root 1.5M May 30 12:45 tokenizer_bert_multilungual_v2.zip\n"
          ]
        }
      ]
    },
    {
      "cell_type": "code",
      "source": [
        "from google.colab import drive\n",
        "drive.mount('/content/drive')"
      ],
      "metadata": {
        "id": "teG4LiSzhOe6"
      },
      "id": "teG4LiSzhOe6",
      "execution_count": null,
      "outputs": []
    },
    {
      "cell_type": "code",
      "source": [
        "!cp -r tokenizer_bert_multilungual_v2.zip \"/content/drive/My Drive/Save Model Capstone/\""
      ],
      "metadata": {
        "id": "1B6DKfyljG91"
      },
      "id": "1B6DKfyljG91",
      "execution_count": 71,
      "outputs": []
    },
    {
      "cell_type": "code",
      "source": [
        "!cp -r model_bert_multilungual_v2.zip \"/content/drive/My Drive/Save Model Capstone/\""
      ],
      "metadata": {
        "id": "5QIPzwAxhPny"
      },
      "id": "5QIPzwAxhPny",
      "execution_count": 72,
      "outputs": []
    }
  ],
  "metadata": {
    "kernelspec": {
      "display_name": "Python 3",
      "name": "python3"
    },
    "language_info": {
      "codemirror_mode": {
        "name": "ipython",
        "version": 3
      },
      "file_extension": ".py",
      "mimetype": "text/x-python",
      "name": "python",
      "nbconvert_exporter": "python",
      "pygments_lexer": "ipython3",
      "version": "3.8.8"
    },
    "papermill": {
      "default_parameters": {},
      "duration": 352.818072,
      "end_time": "2023-04-06T04:17:24.927541",
      "environment_variables": {},
      "exception": null,
      "input_path": "__notebook__.ipynb",
      "output_path": "__notebook__.ipynb",
      "parameters": {},
      "start_time": "2023-04-06T04:11:32.109469",
      "version": "2.4.0"
    },
    "widgets": {
      "application/vnd.jupyter.widget-state+json": {
        "55d259d1e6464f4d8c83c088349bef68": {
          "model_module": "@jupyter-widgets/controls",
          "model_name": "HBoxModel",
          "model_module_version": "1.5.0",
          "state": {
            "_dom_classes": [],
            "_model_module": "@jupyter-widgets/controls",
            "_model_module_version": "1.5.0",
            "_model_name": "HBoxModel",
            "_view_count": null,
            "_view_module": "@jupyter-widgets/controls",
            "_view_module_version": "1.5.0",
            "_view_name": "HBoxView",
            "box_style": "",
            "children": [
              "IPY_MODEL_0b4224a024c84c1288ff44441647d54d",
              "IPY_MODEL_f49f242ff04b432ba6099a901ebee775",
              "IPY_MODEL_68758c98270845e285a3a31fce35ad6c"
            ],
            "layout": "IPY_MODEL_b1f72dac8c2f4a4dbb4d32f4bffe38c6"
          }
        },
        "0b4224a024c84c1288ff44441647d54d": {
          "model_module": "@jupyter-widgets/controls",
          "model_name": "HTMLModel",
          "model_module_version": "1.5.0",
          "state": {
            "_dom_classes": [],
            "_model_module": "@jupyter-widgets/controls",
            "_model_module_version": "1.5.0",
            "_model_name": "HTMLModel",
            "_view_count": null,
            "_view_module": "@jupyter-widgets/controls",
            "_view_module_version": "1.5.0",
            "_view_name": "HTMLView",
            "description": "",
            "description_tooltip": null,
            "layout": "IPY_MODEL_1c78771e3f694e84a02baf660e0b48a0",
            "placeholder": "​",
            "style": "IPY_MODEL_e431364354364aa89794da7cff421aa3",
            "value": "100%"
          }
        },
        "f49f242ff04b432ba6099a901ebee775": {
          "model_module": "@jupyter-widgets/controls",
          "model_name": "FloatProgressModel",
          "model_module_version": "1.5.0",
          "state": {
            "_dom_classes": [],
            "_model_module": "@jupyter-widgets/controls",
            "_model_module_version": "1.5.0",
            "_model_name": "FloatProgressModel",
            "_view_count": null,
            "_view_module": "@jupyter-widgets/controls",
            "_view_module_version": "1.5.0",
            "_view_name": "ProgressView",
            "bar_style": "success",
            "description": "",
            "description_tooltip": null,
            "layout": "IPY_MODEL_87e4d8518828411eb3ee297b46a54ff1",
            "max": 1200,
            "min": 0,
            "orientation": "horizontal",
            "style": "IPY_MODEL_34b1efe5e41d452f9884e88049a8c030",
            "value": 1200
          }
        },
        "68758c98270845e285a3a31fce35ad6c": {
          "model_module": "@jupyter-widgets/controls",
          "model_name": "HTMLModel",
          "model_module_version": "1.5.0",
          "state": {
            "_dom_classes": [],
            "_model_module": "@jupyter-widgets/controls",
            "_model_module_version": "1.5.0",
            "_model_name": "HTMLModel",
            "_view_count": null,
            "_view_module": "@jupyter-widgets/controls",
            "_view_module_version": "1.5.0",
            "_view_name": "HTMLView",
            "description": "",
            "description_tooltip": null,
            "layout": "IPY_MODEL_48bb8ecdc3f544fb8d5e41e242cfa4e8",
            "placeholder": "​",
            "style": "IPY_MODEL_5c7438f97c0544c5a85aacb94dbffb9c",
            "value": " 1200/1200 [00:00&lt;00:00, 48532.08it/s]"
          }
        },
        "b1f72dac8c2f4a4dbb4d32f4bffe38c6": {
          "model_module": "@jupyter-widgets/base",
          "model_name": "LayoutModel",
          "model_module_version": "1.2.0",
          "state": {
            "_model_module": "@jupyter-widgets/base",
            "_model_module_version": "1.2.0",
            "_model_name": "LayoutModel",
            "_view_count": null,
            "_view_module": "@jupyter-widgets/base",
            "_view_module_version": "1.2.0",
            "_view_name": "LayoutView",
            "align_content": null,
            "align_items": null,
            "align_self": null,
            "border": null,
            "bottom": null,
            "display": null,
            "flex": null,
            "flex_flow": null,
            "grid_area": null,
            "grid_auto_columns": null,
            "grid_auto_flow": null,
            "grid_auto_rows": null,
            "grid_column": null,
            "grid_gap": null,
            "grid_row": null,
            "grid_template_areas": null,
            "grid_template_columns": null,
            "grid_template_rows": null,
            "height": null,
            "justify_content": null,
            "justify_items": null,
            "left": null,
            "margin": null,
            "max_height": null,
            "max_width": null,
            "min_height": null,
            "min_width": null,
            "object_fit": null,
            "object_position": null,
            "order": null,
            "overflow": null,
            "overflow_x": null,
            "overflow_y": null,
            "padding": null,
            "right": null,
            "top": null,
            "visibility": null,
            "width": null
          }
        },
        "1c78771e3f694e84a02baf660e0b48a0": {
          "model_module": "@jupyter-widgets/base",
          "model_name": "LayoutModel",
          "model_module_version": "1.2.0",
          "state": {
            "_model_module": "@jupyter-widgets/base",
            "_model_module_version": "1.2.0",
            "_model_name": "LayoutModel",
            "_view_count": null,
            "_view_module": "@jupyter-widgets/base",
            "_view_module_version": "1.2.0",
            "_view_name": "LayoutView",
            "align_content": null,
            "align_items": null,
            "align_self": null,
            "border": null,
            "bottom": null,
            "display": null,
            "flex": null,
            "flex_flow": null,
            "grid_area": null,
            "grid_auto_columns": null,
            "grid_auto_flow": null,
            "grid_auto_rows": null,
            "grid_column": null,
            "grid_gap": null,
            "grid_row": null,
            "grid_template_areas": null,
            "grid_template_columns": null,
            "grid_template_rows": null,
            "height": null,
            "justify_content": null,
            "justify_items": null,
            "left": null,
            "margin": null,
            "max_height": null,
            "max_width": null,
            "min_height": null,
            "min_width": null,
            "object_fit": null,
            "object_position": null,
            "order": null,
            "overflow": null,
            "overflow_x": null,
            "overflow_y": null,
            "padding": null,
            "right": null,
            "top": null,
            "visibility": null,
            "width": null
          }
        },
        "e431364354364aa89794da7cff421aa3": {
          "model_module": "@jupyter-widgets/controls",
          "model_name": "DescriptionStyleModel",
          "model_module_version": "1.5.0",
          "state": {
            "_model_module": "@jupyter-widgets/controls",
            "_model_module_version": "1.5.0",
            "_model_name": "DescriptionStyleModel",
            "_view_count": null,
            "_view_module": "@jupyter-widgets/base",
            "_view_module_version": "1.2.0",
            "_view_name": "StyleView",
            "description_width": ""
          }
        },
        "87e4d8518828411eb3ee297b46a54ff1": {
          "model_module": "@jupyter-widgets/base",
          "model_name": "LayoutModel",
          "model_module_version": "1.2.0",
          "state": {
            "_model_module": "@jupyter-widgets/base",
            "_model_module_version": "1.2.0",
            "_model_name": "LayoutModel",
            "_view_count": null,
            "_view_module": "@jupyter-widgets/base",
            "_view_module_version": "1.2.0",
            "_view_name": "LayoutView",
            "align_content": null,
            "align_items": null,
            "align_self": null,
            "border": null,
            "bottom": null,
            "display": null,
            "flex": null,
            "flex_flow": null,
            "grid_area": null,
            "grid_auto_columns": null,
            "grid_auto_flow": null,
            "grid_auto_rows": null,
            "grid_column": null,
            "grid_gap": null,
            "grid_row": null,
            "grid_template_areas": null,
            "grid_template_columns": null,
            "grid_template_rows": null,
            "height": null,
            "justify_content": null,
            "justify_items": null,
            "left": null,
            "margin": null,
            "max_height": null,
            "max_width": null,
            "min_height": null,
            "min_width": null,
            "object_fit": null,
            "object_position": null,
            "order": null,
            "overflow": null,
            "overflow_x": null,
            "overflow_y": null,
            "padding": null,
            "right": null,
            "top": null,
            "visibility": null,
            "width": null
          }
        },
        "34b1efe5e41d452f9884e88049a8c030": {
          "model_module": "@jupyter-widgets/controls",
          "model_name": "ProgressStyleModel",
          "model_module_version": "1.5.0",
          "state": {
            "_model_module": "@jupyter-widgets/controls",
            "_model_module_version": "1.5.0",
            "_model_name": "ProgressStyleModel",
            "_view_count": null,
            "_view_module": "@jupyter-widgets/base",
            "_view_module_version": "1.2.0",
            "_view_name": "StyleView",
            "bar_color": null,
            "description_width": ""
          }
        },
        "48bb8ecdc3f544fb8d5e41e242cfa4e8": {
          "model_module": "@jupyter-widgets/base",
          "model_name": "LayoutModel",
          "model_module_version": "1.2.0",
          "state": {
            "_model_module": "@jupyter-widgets/base",
            "_model_module_version": "1.2.0",
            "_model_name": "LayoutModel",
            "_view_count": null,
            "_view_module": "@jupyter-widgets/base",
            "_view_module_version": "1.2.0",
            "_view_name": "LayoutView",
            "align_content": null,
            "align_items": null,
            "align_self": null,
            "border": null,
            "bottom": null,
            "display": null,
            "flex": null,
            "flex_flow": null,
            "grid_area": null,
            "grid_auto_columns": null,
            "grid_auto_flow": null,
            "grid_auto_rows": null,
            "grid_column": null,
            "grid_gap": null,
            "grid_row": null,
            "grid_template_areas": null,
            "grid_template_columns": null,
            "grid_template_rows": null,
            "height": null,
            "justify_content": null,
            "justify_items": null,
            "left": null,
            "margin": null,
            "max_height": null,
            "max_width": null,
            "min_height": null,
            "min_width": null,
            "object_fit": null,
            "object_position": null,
            "order": null,
            "overflow": null,
            "overflow_x": null,
            "overflow_y": null,
            "padding": null,
            "right": null,
            "top": null,
            "visibility": null,
            "width": null
          }
        },
        "5c7438f97c0544c5a85aacb94dbffb9c": {
          "model_module": "@jupyter-widgets/controls",
          "model_name": "DescriptionStyleModel",
          "model_module_version": "1.5.0",
          "state": {
            "_model_module": "@jupyter-widgets/controls",
            "_model_module_version": "1.5.0",
            "_model_name": "DescriptionStyleModel",
            "_view_count": null,
            "_view_module": "@jupyter-widgets/base",
            "_view_module_version": "1.2.0",
            "_view_name": "StyleView",
            "description_width": ""
          }
        },
        "cf16a97f134e48b1b39d3fec79776e59": {
          "model_module": "@jupyter-widgets/controls",
          "model_name": "HBoxModel",
          "model_module_version": "1.5.0",
          "state": {
            "_dom_classes": [],
            "_model_module": "@jupyter-widgets/controls",
            "_model_module_version": "1.5.0",
            "_model_name": "HBoxModel",
            "_view_count": null,
            "_view_module": "@jupyter-widgets/controls",
            "_view_module_version": "1.5.0",
            "_view_name": "HBoxView",
            "box_style": "",
            "children": [
              "IPY_MODEL_edfbed4746494426994abc6304765a41",
              "IPY_MODEL_ad879aabfd1d4acfb93bfad0f105d1fc",
              "IPY_MODEL_76cae0ec1ec24880837f5e7275764986"
            ],
            "layout": "IPY_MODEL_a1dc38776a5244b3a076918fde6a81a1"
          }
        },
        "edfbed4746494426994abc6304765a41": {
          "model_module": "@jupyter-widgets/controls",
          "model_name": "HTMLModel",
          "model_module_version": "1.5.0",
          "state": {
            "_dom_classes": [],
            "_model_module": "@jupyter-widgets/controls",
            "_model_module_version": "1.5.0",
            "_model_name": "HTMLModel",
            "_view_count": null,
            "_view_module": "@jupyter-widgets/controls",
            "_view_module_version": "1.5.0",
            "_view_name": "HTMLView",
            "description": "",
            "description_tooltip": null,
            "layout": "IPY_MODEL_8830697b3a384deeb059b6d75b11e5c5",
            "placeholder": "​",
            "style": "IPY_MODEL_3479599ec7c84bed9f9eb5f4a5690d40",
            "value": "Downloading (…)okenizer_config.json: 100%"
          }
        },
        "ad879aabfd1d4acfb93bfad0f105d1fc": {
          "model_module": "@jupyter-widgets/controls",
          "model_name": "FloatProgressModel",
          "model_module_version": "1.5.0",
          "state": {
            "_dom_classes": [],
            "_model_module": "@jupyter-widgets/controls",
            "_model_module_version": "1.5.0",
            "_model_name": "FloatProgressModel",
            "_view_count": null,
            "_view_module": "@jupyter-widgets/controls",
            "_view_module_version": "1.5.0",
            "_view_name": "ProgressView",
            "bar_style": "success",
            "description": "",
            "description_tooltip": null,
            "layout": "IPY_MODEL_de35df9b7bc54d09959c10dd338cb459",
            "max": 29,
            "min": 0,
            "orientation": "horizontal",
            "style": "IPY_MODEL_872752efe0fd4591808cb8ef217f201c",
            "value": 29
          }
        },
        "76cae0ec1ec24880837f5e7275764986": {
          "model_module": "@jupyter-widgets/controls",
          "model_name": "HTMLModel",
          "model_module_version": "1.5.0",
          "state": {
            "_dom_classes": [],
            "_model_module": "@jupyter-widgets/controls",
            "_model_module_version": "1.5.0",
            "_model_name": "HTMLModel",
            "_view_count": null,
            "_view_module": "@jupyter-widgets/controls",
            "_view_module_version": "1.5.0",
            "_view_name": "HTMLView",
            "description": "",
            "description_tooltip": null,
            "layout": "IPY_MODEL_60a541420d3c4df980c58e5684f2b9c6",
            "placeholder": "​",
            "style": "IPY_MODEL_2712296746d54e749c363db93b3e883d",
            "value": " 29.0/29.0 [00:00&lt;00:00, 1.51kB/s]"
          }
        },
        "a1dc38776a5244b3a076918fde6a81a1": {
          "model_module": "@jupyter-widgets/base",
          "model_name": "LayoutModel",
          "model_module_version": "1.2.0",
          "state": {
            "_model_module": "@jupyter-widgets/base",
            "_model_module_version": "1.2.0",
            "_model_name": "LayoutModel",
            "_view_count": null,
            "_view_module": "@jupyter-widgets/base",
            "_view_module_version": "1.2.0",
            "_view_name": "LayoutView",
            "align_content": null,
            "align_items": null,
            "align_self": null,
            "border": null,
            "bottom": null,
            "display": null,
            "flex": null,
            "flex_flow": null,
            "grid_area": null,
            "grid_auto_columns": null,
            "grid_auto_flow": null,
            "grid_auto_rows": null,
            "grid_column": null,
            "grid_gap": null,
            "grid_row": null,
            "grid_template_areas": null,
            "grid_template_columns": null,
            "grid_template_rows": null,
            "height": null,
            "justify_content": null,
            "justify_items": null,
            "left": null,
            "margin": null,
            "max_height": null,
            "max_width": null,
            "min_height": null,
            "min_width": null,
            "object_fit": null,
            "object_position": null,
            "order": null,
            "overflow": null,
            "overflow_x": null,
            "overflow_y": null,
            "padding": null,
            "right": null,
            "top": null,
            "visibility": null,
            "width": null
          }
        },
        "8830697b3a384deeb059b6d75b11e5c5": {
          "model_module": "@jupyter-widgets/base",
          "model_name": "LayoutModel",
          "model_module_version": "1.2.0",
          "state": {
            "_model_module": "@jupyter-widgets/base",
            "_model_module_version": "1.2.0",
            "_model_name": "LayoutModel",
            "_view_count": null,
            "_view_module": "@jupyter-widgets/base",
            "_view_module_version": "1.2.0",
            "_view_name": "LayoutView",
            "align_content": null,
            "align_items": null,
            "align_self": null,
            "border": null,
            "bottom": null,
            "display": null,
            "flex": null,
            "flex_flow": null,
            "grid_area": null,
            "grid_auto_columns": null,
            "grid_auto_flow": null,
            "grid_auto_rows": null,
            "grid_column": null,
            "grid_gap": null,
            "grid_row": null,
            "grid_template_areas": null,
            "grid_template_columns": null,
            "grid_template_rows": null,
            "height": null,
            "justify_content": null,
            "justify_items": null,
            "left": null,
            "margin": null,
            "max_height": null,
            "max_width": null,
            "min_height": null,
            "min_width": null,
            "object_fit": null,
            "object_position": null,
            "order": null,
            "overflow": null,
            "overflow_x": null,
            "overflow_y": null,
            "padding": null,
            "right": null,
            "top": null,
            "visibility": null,
            "width": null
          }
        },
        "3479599ec7c84bed9f9eb5f4a5690d40": {
          "model_module": "@jupyter-widgets/controls",
          "model_name": "DescriptionStyleModel",
          "model_module_version": "1.5.0",
          "state": {
            "_model_module": "@jupyter-widgets/controls",
            "_model_module_version": "1.5.0",
            "_model_name": "DescriptionStyleModel",
            "_view_count": null,
            "_view_module": "@jupyter-widgets/base",
            "_view_module_version": "1.2.0",
            "_view_name": "StyleView",
            "description_width": ""
          }
        },
        "de35df9b7bc54d09959c10dd338cb459": {
          "model_module": "@jupyter-widgets/base",
          "model_name": "LayoutModel",
          "model_module_version": "1.2.0",
          "state": {
            "_model_module": "@jupyter-widgets/base",
            "_model_module_version": "1.2.0",
            "_model_name": "LayoutModel",
            "_view_count": null,
            "_view_module": "@jupyter-widgets/base",
            "_view_module_version": "1.2.0",
            "_view_name": "LayoutView",
            "align_content": null,
            "align_items": null,
            "align_self": null,
            "border": null,
            "bottom": null,
            "display": null,
            "flex": null,
            "flex_flow": null,
            "grid_area": null,
            "grid_auto_columns": null,
            "grid_auto_flow": null,
            "grid_auto_rows": null,
            "grid_column": null,
            "grid_gap": null,
            "grid_row": null,
            "grid_template_areas": null,
            "grid_template_columns": null,
            "grid_template_rows": null,
            "height": null,
            "justify_content": null,
            "justify_items": null,
            "left": null,
            "margin": null,
            "max_height": null,
            "max_width": null,
            "min_height": null,
            "min_width": null,
            "object_fit": null,
            "object_position": null,
            "order": null,
            "overflow": null,
            "overflow_x": null,
            "overflow_y": null,
            "padding": null,
            "right": null,
            "top": null,
            "visibility": null,
            "width": null
          }
        },
        "872752efe0fd4591808cb8ef217f201c": {
          "model_module": "@jupyter-widgets/controls",
          "model_name": "ProgressStyleModel",
          "model_module_version": "1.5.0",
          "state": {
            "_model_module": "@jupyter-widgets/controls",
            "_model_module_version": "1.5.0",
            "_model_name": "ProgressStyleModel",
            "_view_count": null,
            "_view_module": "@jupyter-widgets/base",
            "_view_module_version": "1.2.0",
            "_view_name": "StyleView",
            "bar_color": null,
            "description_width": ""
          }
        },
        "60a541420d3c4df980c58e5684f2b9c6": {
          "model_module": "@jupyter-widgets/base",
          "model_name": "LayoutModel",
          "model_module_version": "1.2.0",
          "state": {
            "_model_module": "@jupyter-widgets/base",
            "_model_module_version": "1.2.0",
            "_model_name": "LayoutModel",
            "_view_count": null,
            "_view_module": "@jupyter-widgets/base",
            "_view_module_version": "1.2.0",
            "_view_name": "LayoutView",
            "align_content": null,
            "align_items": null,
            "align_self": null,
            "border": null,
            "bottom": null,
            "display": null,
            "flex": null,
            "flex_flow": null,
            "grid_area": null,
            "grid_auto_columns": null,
            "grid_auto_flow": null,
            "grid_auto_rows": null,
            "grid_column": null,
            "grid_gap": null,
            "grid_row": null,
            "grid_template_areas": null,
            "grid_template_columns": null,
            "grid_template_rows": null,
            "height": null,
            "justify_content": null,
            "justify_items": null,
            "left": null,
            "margin": null,
            "max_height": null,
            "max_width": null,
            "min_height": null,
            "min_width": null,
            "object_fit": null,
            "object_position": null,
            "order": null,
            "overflow": null,
            "overflow_x": null,
            "overflow_y": null,
            "padding": null,
            "right": null,
            "top": null,
            "visibility": null,
            "width": null
          }
        },
        "2712296746d54e749c363db93b3e883d": {
          "model_module": "@jupyter-widgets/controls",
          "model_name": "DescriptionStyleModel",
          "model_module_version": "1.5.0",
          "state": {
            "_model_module": "@jupyter-widgets/controls",
            "_model_module_version": "1.5.0",
            "_model_name": "DescriptionStyleModel",
            "_view_count": null,
            "_view_module": "@jupyter-widgets/base",
            "_view_module_version": "1.2.0",
            "_view_name": "StyleView",
            "description_width": ""
          }
        },
        "48fefdf4f39a4019a2d752fec5038cd5": {
          "model_module": "@jupyter-widgets/controls",
          "model_name": "HBoxModel",
          "model_module_version": "1.5.0",
          "state": {
            "_dom_classes": [],
            "_model_module": "@jupyter-widgets/controls",
            "_model_module_version": "1.5.0",
            "_model_name": "HBoxModel",
            "_view_count": null,
            "_view_module": "@jupyter-widgets/controls",
            "_view_module_version": "1.5.0",
            "_view_name": "HBoxView",
            "box_style": "",
            "children": [
              "IPY_MODEL_381e13fb26cd48dcba347986c6248930",
              "IPY_MODEL_bd34a12c1fee4cec8f911565465b6e8e",
              "IPY_MODEL_1978c45f580d447bbe0b876fc6e16d15"
            ],
            "layout": "IPY_MODEL_3bd5ff70081d4cee9443de7d1a7993e9"
          }
        },
        "381e13fb26cd48dcba347986c6248930": {
          "model_module": "@jupyter-widgets/controls",
          "model_name": "HTMLModel",
          "model_module_version": "1.5.0",
          "state": {
            "_dom_classes": [],
            "_model_module": "@jupyter-widgets/controls",
            "_model_module_version": "1.5.0",
            "_model_name": "HTMLModel",
            "_view_count": null,
            "_view_module": "@jupyter-widgets/controls",
            "_view_module_version": "1.5.0",
            "_view_name": "HTMLView",
            "description": "",
            "description_tooltip": null,
            "layout": "IPY_MODEL_6316ca233caf4e5a9bc9051d63ebab7c",
            "placeholder": "​",
            "style": "IPY_MODEL_baaf002a94d540178ed933433a49440d",
            "value": "Downloading (…)lve/main/config.json: 100%"
          }
        },
        "bd34a12c1fee4cec8f911565465b6e8e": {
          "model_module": "@jupyter-widgets/controls",
          "model_name": "FloatProgressModel",
          "model_module_version": "1.5.0",
          "state": {
            "_dom_classes": [],
            "_model_module": "@jupyter-widgets/controls",
            "_model_module_version": "1.5.0",
            "_model_name": "FloatProgressModel",
            "_view_count": null,
            "_view_module": "@jupyter-widgets/controls",
            "_view_module_version": "1.5.0",
            "_view_name": "ProgressView",
            "bar_style": "success",
            "description": "",
            "description_tooltip": null,
            "layout": "IPY_MODEL_729c5a3a0cfb4e73a3fb54d212940263",
            "max": 625,
            "min": 0,
            "orientation": "horizontal",
            "style": "IPY_MODEL_2a1a817e011044b7bc2a9a5bd78adfda",
            "value": 625
          }
        },
        "1978c45f580d447bbe0b876fc6e16d15": {
          "model_module": "@jupyter-widgets/controls",
          "model_name": "HTMLModel",
          "model_module_version": "1.5.0",
          "state": {
            "_dom_classes": [],
            "_model_module": "@jupyter-widgets/controls",
            "_model_module_version": "1.5.0",
            "_model_name": "HTMLModel",
            "_view_count": null,
            "_view_module": "@jupyter-widgets/controls",
            "_view_module_version": "1.5.0",
            "_view_name": "HTMLView",
            "description": "",
            "description_tooltip": null,
            "layout": "IPY_MODEL_1b5c67c2f2f74f35ac852850b90e6f22",
            "placeholder": "​",
            "style": "IPY_MODEL_b7e3e623854441e199b6afbf81f7cf6c",
            "value": " 625/625 [00:00&lt;00:00, 45.6kB/s]"
          }
        },
        "3bd5ff70081d4cee9443de7d1a7993e9": {
          "model_module": "@jupyter-widgets/base",
          "model_name": "LayoutModel",
          "model_module_version": "1.2.0",
          "state": {
            "_model_module": "@jupyter-widgets/base",
            "_model_module_version": "1.2.0",
            "_model_name": "LayoutModel",
            "_view_count": null,
            "_view_module": "@jupyter-widgets/base",
            "_view_module_version": "1.2.0",
            "_view_name": "LayoutView",
            "align_content": null,
            "align_items": null,
            "align_self": null,
            "border": null,
            "bottom": null,
            "display": null,
            "flex": null,
            "flex_flow": null,
            "grid_area": null,
            "grid_auto_columns": null,
            "grid_auto_flow": null,
            "grid_auto_rows": null,
            "grid_column": null,
            "grid_gap": null,
            "grid_row": null,
            "grid_template_areas": null,
            "grid_template_columns": null,
            "grid_template_rows": null,
            "height": null,
            "justify_content": null,
            "justify_items": null,
            "left": null,
            "margin": null,
            "max_height": null,
            "max_width": null,
            "min_height": null,
            "min_width": null,
            "object_fit": null,
            "object_position": null,
            "order": null,
            "overflow": null,
            "overflow_x": null,
            "overflow_y": null,
            "padding": null,
            "right": null,
            "top": null,
            "visibility": null,
            "width": null
          }
        },
        "6316ca233caf4e5a9bc9051d63ebab7c": {
          "model_module": "@jupyter-widgets/base",
          "model_name": "LayoutModel",
          "model_module_version": "1.2.0",
          "state": {
            "_model_module": "@jupyter-widgets/base",
            "_model_module_version": "1.2.0",
            "_model_name": "LayoutModel",
            "_view_count": null,
            "_view_module": "@jupyter-widgets/base",
            "_view_module_version": "1.2.0",
            "_view_name": "LayoutView",
            "align_content": null,
            "align_items": null,
            "align_self": null,
            "border": null,
            "bottom": null,
            "display": null,
            "flex": null,
            "flex_flow": null,
            "grid_area": null,
            "grid_auto_columns": null,
            "grid_auto_flow": null,
            "grid_auto_rows": null,
            "grid_column": null,
            "grid_gap": null,
            "grid_row": null,
            "grid_template_areas": null,
            "grid_template_columns": null,
            "grid_template_rows": null,
            "height": null,
            "justify_content": null,
            "justify_items": null,
            "left": null,
            "margin": null,
            "max_height": null,
            "max_width": null,
            "min_height": null,
            "min_width": null,
            "object_fit": null,
            "object_position": null,
            "order": null,
            "overflow": null,
            "overflow_x": null,
            "overflow_y": null,
            "padding": null,
            "right": null,
            "top": null,
            "visibility": null,
            "width": null
          }
        },
        "baaf002a94d540178ed933433a49440d": {
          "model_module": "@jupyter-widgets/controls",
          "model_name": "DescriptionStyleModel",
          "model_module_version": "1.5.0",
          "state": {
            "_model_module": "@jupyter-widgets/controls",
            "_model_module_version": "1.5.0",
            "_model_name": "DescriptionStyleModel",
            "_view_count": null,
            "_view_module": "@jupyter-widgets/base",
            "_view_module_version": "1.2.0",
            "_view_name": "StyleView",
            "description_width": ""
          }
        },
        "729c5a3a0cfb4e73a3fb54d212940263": {
          "model_module": "@jupyter-widgets/base",
          "model_name": "LayoutModel",
          "model_module_version": "1.2.0",
          "state": {
            "_model_module": "@jupyter-widgets/base",
            "_model_module_version": "1.2.0",
            "_model_name": "LayoutModel",
            "_view_count": null,
            "_view_module": "@jupyter-widgets/base",
            "_view_module_version": "1.2.0",
            "_view_name": "LayoutView",
            "align_content": null,
            "align_items": null,
            "align_self": null,
            "border": null,
            "bottom": null,
            "display": null,
            "flex": null,
            "flex_flow": null,
            "grid_area": null,
            "grid_auto_columns": null,
            "grid_auto_flow": null,
            "grid_auto_rows": null,
            "grid_column": null,
            "grid_gap": null,
            "grid_row": null,
            "grid_template_areas": null,
            "grid_template_columns": null,
            "grid_template_rows": null,
            "height": null,
            "justify_content": null,
            "justify_items": null,
            "left": null,
            "margin": null,
            "max_height": null,
            "max_width": null,
            "min_height": null,
            "min_width": null,
            "object_fit": null,
            "object_position": null,
            "order": null,
            "overflow": null,
            "overflow_x": null,
            "overflow_y": null,
            "padding": null,
            "right": null,
            "top": null,
            "visibility": null,
            "width": null
          }
        },
        "2a1a817e011044b7bc2a9a5bd78adfda": {
          "model_module": "@jupyter-widgets/controls",
          "model_name": "ProgressStyleModel",
          "model_module_version": "1.5.0",
          "state": {
            "_model_module": "@jupyter-widgets/controls",
            "_model_module_version": "1.5.0",
            "_model_name": "ProgressStyleModel",
            "_view_count": null,
            "_view_module": "@jupyter-widgets/base",
            "_view_module_version": "1.2.0",
            "_view_name": "StyleView",
            "bar_color": null,
            "description_width": ""
          }
        },
        "1b5c67c2f2f74f35ac852850b90e6f22": {
          "model_module": "@jupyter-widgets/base",
          "model_name": "LayoutModel",
          "model_module_version": "1.2.0",
          "state": {
            "_model_module": "@jupyter-widgets/base",
            "_model_module_version": "1.2.0",
            "_model_name": "LayoutModel",
            "_view_count": null,
            "_view_module": "@jupyter-widgets/base",
            "_view_module_version": "1.2.0",
            "_view_name": "LayoutView",
            "align_content": null,
            "align_items": null,
            "align_self": null,
            "border": null,
            "bottom": null,
            "display": null,
            "flex": null,
            "flex_flow": null,
            "grid_area": null,
            "grid_auto_columns": null,
            "grid_auto_flow": null,
            "grid_auto_rows": null,
            "grid_column": null,
            "grid_gap": null,
            "grid_row": null,
            "grid_template_areas": null,
            "grid_template_columns": null,
            "grid_template_rows": null,
            "height": null,
            "justify_content": null,
            "justify_items": null,
            "left": null,
            "margin": null,
            "max_height": null,
            "max_width": null,
            "min_height": null,
            "min_width": null,
            "object_fit": null,
            "object_position": null,
            "order": null,
            "overflow": null,
            "overflow_x": null,
            "overflow_y": null,
            "padding": null,
            "right": null,
            "top": null,
            "visibility": null,
            "width": null
          }
        },
        "b7e3e623854441e199b6afbf81f7cf6c": {
          "model_module": "@jupyter-widgets/controls",
          "model_name": "DescriptionStyleModel",
          "model_module_version": "1.5.0",
          "state": {
            "_model_module": "@jupyter-widgets/controls",
            "_model_module_version": "1.5.0",
            "_model_name": "DescriptionStyleModel",
            "_view_count": null,
            "_view_module": "@jupyter-widgets/base",
            "_view_module_version": "1.2.0",
            "_view_name": "StyleView",
            "description_width": ""
          }
        },
        "9fb1f1b93bc04c9a8d726c287ca1e38e": {
          "model_module": "@jupyter-widgets/controls",
          "model_name": "HBoxModel",
          "model_module_version": "1.5.0",
          "state": {
            "_dom_classes": [],
            "_model_module": "@jupyter-widgets/controls",
            "_model_module_version": "1.5.0",
            "_model_name": "HBoxModel",
            "_view_count": null,
            "_view_module": "@jupyter-widgets/controls",
            "_view_module_version": "1.5.0",
            "_view_name": "HBoxView",
            "box_style": "",
            "children": [
              "IPY_MODEL_b3b10137ea804c95af30579692fffff1",
              "IPY_MODEL_1f8b5a14dad0478a93a14437b7e18ccf",
              "IPY_MODEL_fad581c789c14dfeb34b6e5d79ac006c"
            ],
            "layout": "IPY_MODEL_010685384e4648069f3347f8804676b9"
          }
        },
        "b3b10137ea804c95af30579692fffff1": {
          "model_module": "@jupyter-widgets/controls",
          "model_name": "HTMLModel",
          "model_module_version": "1.5.0",
          "state": {
            "_dom_classes": [],
            "_model_module": "@jupyter-widgets/controls",
            "_model_module_version": "1.5.0",
            "_model_name": "HTMLModel",
            "_view_count": null,
            "_view_module": "@jupyter-widgets/controls",
            "_view_module_version": "1.5.0",
            "_view_name": "HTMLView",
            "description": "",
            "description_tooltip": null,
            "layout": "IPY_MODEL_77273c94273b455c92b629cdbef08d97",
            "placeholder": "​",
            "style": "IPY_MODEL_254a6b612b364d7eab97074d3016a7f6",
            "value": "Downloading (…)solve/main/vocab.txt: 100%"
          }
        },
        "1f8b5a14dad0478a93a14437b7e18ccf": {
          "model_module": "@jupyter-widgets/controls",
          "model_name": "FloatProgressModel",
          "model_module_version": "1.5.0",
          "state": {
            "_dom_classes": [],
            "_model_module": "@jupyter-widgets/controls",
            "_model_module_version": "1.5.0",
            "_model_name": "FloatProgressModel",
            "_view_count": null,
            "_view_module": "@jupyter-widgets/controls",
            "_view_module_version": "1.5.0",
            "_view_name": "ProgressView",
            "bar_style": "success",
            "description": "",
            "description_tooltip": null,
            "layout": "IPY_MODEL_709bb2d5024246ccb91860461d74519a",
            "max": 995526,
            "min": 0,
            "orientation": "horizontal",
            "style": "IPY_MODEL_5ed5ed4077494ffa92759311e908976b",
            "value": 995526
          }
        },
        "fad581c789c14dfeb34b6e5d79ac006c": {
          "model_module": "@jupyter-widgets/controls",
          "model_name": "HTMLModel",
          "model_module_version": "1.5.0",
          "state": {
            "_dom_classes": [],
            "_model_module": "@jupyter-widgets/controls",
            "_model_module_version": "1.5.0",
            "_model_name": "HTMLModel",
            "_view_count": null,
            "_view_module": "@jupyter-widgets/controls",
            "_view_module_version": "1.5.0",
            "_view_name": "HTMLView",
            "description": "",
            "description_tooltip": null,
            "layout": "IPY_MODEL_b7c0bbfbfd3944cd91b32102fa64e6d9",
            "placeholder": "​",
            "style": "IPY_MODEL_c25440045a19408cbe262fe8936faefb",
            "value": " 996k/996k [00:00&lt;00:00, 1.15MB/s]"
          }
        },
        "010685384e4648069f3347f8804676b9": {
          "model_module": "@jupyter-widgets/base",
          "model_name": "LayoutModel",
          "model_module_version": "1.2.0",
          "state": {
            "_model_module": "@jupyter-widgets/base",
            "_model_module_version": "1.2.0",
            "_model_name": "LayoutModel",
            "_view_count": null,
            "_view_module": "@jupyter-widgets/base",
            "_view_module_version": "1.2.0",
            "_view_name": "LayoutView",
            "align_content": null,
            "align_items": null,
            "align_self": null,
            "border": null,
            "bottom": null,
            "display": null,
            "flex": null,
            "flex_flow": null,
            "grid_area": null,
            "grid_auto_columns": null,
            "grid_auto_flow": null,
            "grid_auto_rows": null,
            "grid_column": null,
            "grid_gap": null,
            "grid_row": null,
            "grid_template_areas": null,
            "grid_template_columns": null,
            "grid_template_rows": null,
            "height": null,
            "justify_content": null,
            "justify_items": null,
            "left": null,
            "margin": null,
            "max_height": null,
            "max_width": null,
            "min_height": null,
            "min_width": null,
            "object_fit": null,
            "object_position": null,
            "order": null,
            "overflow": null,
            "overflow_x": null,
            "overflow_y": null,
            "padding": null,
            "right": null,
            "top": null,
            "visibility": null,
            "width": null
          }
        },
        "77273c94273b455c92b629cdbef08d97": {
          "model_module": "@jupyter-widgets/base",
          "model_name": "LayoutModel",
          "model_module_version": "1.2.0",
          "state": {
            "_model_module": "@jupyter-widgets/base",
            "_model_module_version": "1.2.0",
            "_model_name": "LayoutModel",
            "_view_count": null,
            "_view_module": "@jupyter-widgets/base",
            "_view_module_version": "1.2.0",
            "_view_name": "LayoutView",
            "align_content": null,
            "align_items": null,
            "align_self": null,
            "border": null,
            "bottom": null,
            "display": null,
            "flex": null,
            "flex_flow": null,
            "grid_area": null,
            "grid_auto_columns": null,
            "grid_auto_flow": null,
            "grid_auto_rows": null,
            "grid_column": null,
            "grid_gap": null,
            "grid_row": null,
            "grid_template_areas": null,
            "grid_template_columns": null,
            "grid_template_rows": null,
            "height": null,
            "justify_content": null,
            "justify_items": null,
            "left": null,
            "margin": null,
            "max_height": null,
            "max_width": null,
            "min_height": null,
            "min_width": null,
            "object_fit": null,
            "object_position": null,
            "order": null,
            "overflow": null,
            "overflow_x": null,
            "overflow_y": null,
            "padding": null,
            "right": null,
            "top": null,
            "visibility": null,
            "width": null
          }
        },
        "254a6b612b364d7eab97074d3016a7f6": {
          "model_module": "@jupyter-widgets/controls",
          "model_name": "DescriptionStyleModel",
          "model_module_version": "1.5.0",
          "state": {
            "_model_module": "@jupyter-widgets/controls",
            "_model_module_version": "1.5.0",
            "_model_name": "DescriptionStyleModel",
            "_view_count": null,
            "_view_module": "@jupyter-widgets/base",
            "_view_module_version": "1.2.0",
            "_view_name": "StyleView",
            "description_width": ""
          }
        },
        "709bb2d5024246ccb91860461d74519a": {
          "model_module": "@jupyter-widgets/base",
          "model_name": "LayoutModel",
          "model_module_version": "1.2.0",
          "state": {
            "_model_module": "@jupyter-widgets/base",
            "_model_module_version": "1.2.0",
            "_model_name": "LayoutModel",
            "_view_count": null,
            "_view_module": "@jupyter-widgets/base",
            "_view_module_version": "1.2.0",
            "_view_name": "LayoutView",
            "align_content": null,
            "align_items": null,
            "align_self": null,
            "border": null,
            "bottom": null,
            "display": null,
            "flex": null,
            "flex_flow": null,
            "grid_area": null,
            "grid_auto_columns": null,
            "grid_auto_flow": null,
            "grid_auto_rows": null,
            "grid_column": null,
            "grid_gap": null,
            "grid_row": null,
            "grid_template_areas": null,
            "grid_template_columns": null,
            "grid_template_rows": null,
            "height": null,
            "justify_content": null,
            "justify_items": null,
            "left": null,
            "margin": null,
            "max_height": null,
            "max_width": null,
            "min_height": null,
            "min_width": null,
            "object_fit": null,
            "object_position": null,
            "order": null,
            "overflow": null,
            "overflow_x": null,
            "overflow_y": null,
            "padding": null,
            "right": null,
            "top": null,
            "visibility": null,
            "width": null
          }
        },
        "5ed5ed4077494ffa92759311e908976b": {
          "model_module": "@jupyter-widgets/controls",
          "model_name": "ProgressStyleModel",
          "model_module_version": "1.5.0",
          "state": {
            "_model_module": "@jupyter-widgets/controls",
            "_model_module_version": "1.5.0",
            "_model_name": "ProgressStyleModel",
            "_view_count": null,
            "_view_module": "@jupyter-widgets/base",
            "_view_module_version": "1.2.0",
            "_view_name": "StyleView",
            "bar_color": null,
            "description_width": ""
          }
        },
        "b7c0bbfbfd3944cd91b32102fa64e6d9": {
          "model_module": "@jupyter-widgets/base",
          "model_name": "LayoutModel",
          "model_module_version": "1.2.0",
          "state": {
            "_model_module": "@jupyter-widgets/base",
            "_model_module_version": "1.2.0",
            "_model_name": "LayoutModel",
            "_view_count": null,
            "_view_module": "@jupyter-widgets/base",
            "_view_module_version": "1.2.0",
            "_view_name": "LayoutView",
            "align_content": null,
            "align_items": null,
            "align_self": null,
            "border": null,
            "bottom": null,
            "display": null,
            "flex": null,
            "flex_flow": null,
            "grid_area": null,
            "grid_auto_columns": null,
            "grid_auto_flow": null,
            "grid_auto_rows": null,
            "grid_column": null,
            "grid_gap": null,
            "grid_row": null,
            "grid_template_areas": null,
            "grid_template_columns": null,
            "grid_template_rows": null,
            "height": null,
            "justify_content": null,
            "justify_items": null,
            "left": null,
            "margin": null,
            "max_height": null,
            "max_width": null,
            "min_height": null,
            "min_width": null,
            "object_fit": null,
            "object_position": null,
            "order": null,
            "overflow": null,
            "overflow_x": null,
            "overflow_y": null,
            "padding": null,
            "right": null,
            "top": null,
            "visibility": null,
            "width": null
          }
        },
        "c25440045a19408cbe262fe8936faefb": {
          "model_module": "@jupyter-widgets/controls",
          "model_name": "DescriptionStyleModel",
          "model_module_version": "1.5.0",
          "state": {
            "_model_module": "@jupyter-widgets/controls",
            "_model_module_version": "1.5.0",
            "_model_name": "DescriptionStyleModel",
            "_view_count": null,
            "_view_module": "@jupyter-widgets/base",
            "_view_module_version": "1.2.0",
            "_view_name": "StyleView",
            "description_width": ""
          }
        },
        "0f89132e1eae41608228a39065cd7594": {
          "model_module": "@jupyter-widgets/controls",
          "model_name": "HBoxModel",
          "model_module_version": "1.5.0",
          "state": {
            "_dom_classes": [],
            "_model_module": "@jupyter-widgets/controls",
            "_model_module_version": "1.5.0",
            "_model_name": "HBoxModel",
            "_view_count": null,
            "_view_module": "@jupyter-widgets/controls",
            "_view_module_version": "1.5.0",
            "_view_name": "HBoxView",
            "box_style": "",
            "children": [
              "IPY_MODEL_46ad599816864384a7489aa3b297204a",
              "IPY_MODEL_0b638565f93049dda12fd81b29334021",
              "IPY_MODEL_cc62b9640cd1453dbb45e09c9a44c07a"
            ],
            "layout": "IPY_MODEL_2f2e5f339f4440f3a9aed813dbb2bb2f"
          }
        },
        "46ad599816864384a7489aa3b297204a": {
          "model_module": "@jupyter-widgets/controls",
          "model_name": "HTMLModel",
          "model_module_version": "1.5.0",
          "state": {
            "_dom_classes": [],
            "_model_module": "@jupyter-widgets/controls",
            "_model_module_version": "1.5.0",
            "_model_name": "HTMLModel",
            "_view_count": null,
            "_view_module": "@jupyter-widgets/controls",
            "_view_module_version": "1.5.0",
            "_view_name": "HTMLView",
            "description": "",
            "description_tooltip": null,
            "layout": "IPY_MODEL_6a9370f44ee94859a73a9bc7b01de0bf",
            "placeholder": "​",
            "style": "IPY_MODEL_64bffbd64ed74fbcbd10ae5be31e6139",
            "value": "Downloading (…)/main/tokenizer.json: 100%"
          }
        },
        "0b638565f93049dda12fd81b29334021": {
          "model_module": "@jupyter-widgets/controls",
          "model_name": "FloatProgressModel",
          "model_module_version": "1.5.0",
          "state": {
            "_dom_classes": [],
            "_model_module": "@jupyter-widgets/controls",
            "_model_module_version": "1.5.0",
            "_model_name": "FloatProgressModel",
            "_view_count": null,
            "_view_module": "@jupyter-widgets/controls",
            "_view_module_version": "1.5.0",
            "_view_name": "ProgressView",
            "bar_style": "success",
            "description": "",
            "description_tooltip": null,
            "layout": "IPY_MODEL_6058fed3d36748dcb52b774e496a73d9",
            "max": 1961828,
            "min": 0,
            "orientation": "horizontal",
            "style": "IPY_MODEL_8cdd29bdde844db4880bfc1418653336",
            "value": 1961828
          }
        },
        "cc62b9640cd1453dbb45e09c9a44c07a": {
          "model_module": "@jupyter-widgets/controls",
          "model_name": "HTMLModel",
          "model_module_version": "1.5.0",
          "state": {
            "_dom_classes": [],
            "_model_module": "@jupyter-widgets/controls",
            "_model_module_version": "1.5.0",
            "_model_name": "HTMLModel",
            "_view_count": null,
            "_view_module": "@jupyter-widgets/controls",
            "_view_module_version": "1.5.0",
            "_view_name": "HTMLView",
            "description": "",
            "description_tooltip": null,
            "layout": "IPY_MODEL_ca9df98997694024bbe35c292c0dc5d9",
            "placeholder": "​",
            "style": "IPY_MODEL_0a8e83eaa87f4fab837bf835c2966690",
            "value": " 1.96M/1.96M [00:01&lt;00:00, 1.80MB/s]"
          }
        },
        "2f2e5f339f4440f3a9aed813dbb2bb2f": {
          "model_module": "@jupyter-widgets/base",
          "model_name": "LayoutModel",
          "model_module_version": "1.2.0",
          "state": {
            "_model_module": "@jupyter-widgets/base",
            "_model_module_version": "1.2.0",
            "_model_name": "LayoutModel",
            "_view_count": null,
            "_view_module": "@jupyter-widgets/base",
            "_view_module_version": "1.2.0",
            "_view_name": "LayoutView",
            "align_content": null,
            "align_items": null,
            "align_self": null,
            "border": null,
            "bottom": null,
            "display": null,
            "flex": null,
            "flex_flow": null,
            "grid_area": null,
            "grid_auto_columns": null,
            "grid_auto_flow": null,
            "grid_auto_rows": null,
            "grid_column": null,
            "grid_gap": null,
            "grid_row": null,
            "grid_template_areas": null,
            "grid_template_columns": null,
            "grid_template_rows": null,
            "height": null,
            "justify_content": null,
            "justify_items": null,
            "left": null,
            "margin": null,
            "max_height": null,
            "max_width": null,
            "min_height": null,
            "min_width": null,
            "object_fit": null,
            "object_position": null,
            "order": null,
            "overflow": null,
            "overflow_x": null,
            "overflow_y": null,
            "padding": null,
            "right": null,
            "top": null,
            "visibility": null,
            "width": null
          }
        },
        "6a9370f44ee94859a73a9bc7b01de0bf": {
          "model_module": "@jupyter-widgets/base",
          "model_name": "LayoutModel",
          "model_module_version": "1.2.0",
          "state": {
            "_model_module": "@jupyter-widgets/base",
            "_model_module_version": "1.2.0",
            "_model_name": "LayoutModel",
            "_view_count": null,
            "_view_module": "@jupyter-widgets/base",
            "_view_module_version": "1.2.0",
            "_view_name": "LayoutView",
            "align_content": null,
            "align_items": null,
            "align_self": null,
            "border": null,
            "bottom": null,
            "display": null,
            "flex": null,
            "flex_flow": null,
            "grid_area": null,
            "grid_auto_columns": null,
            "grid_auto_flow": null,
            "grid_auto_rows": null,
            "grid_column": null,
            "grid_gap": null,
            "grid_row": null,
            "grid_template_areas": null,
            "grid_template_columns": null,
            "grid_template_rows": null,
            "height": null,
            "justify_content": null,
            "justify_items": null,
            "left": null,
            "margin": null,
            "max_height": null,
            "max_width": null,
            "min_height": null,
            "min_width": null,
            "object_fit": null,
            "object_position": null,
            "order": null,
            "overflow": null,
            "overflow_x": null,
            "overflow_y": null,
            "padding": null,
            "right": null,
            "top": null,
            "visibility": null,
            "width": null
          }
        },
        "64bffbd64ed74fbcbd10ae5be31e6139": {
          "model_module": "@jupyter-widgets/controls",
          "model_name": "DescriptionStyleModel",
          "model_module_version": "1.5.0",
          "state": {
            "_model_module": "@jupyter-widgets/controls",
            "_model_module_version": "1.5.0",
            "_model_name": "DescriptionStyleModel",
            "_view_count": null,
            "_view_module": "@jupyter-widgets/base",
            "_view_module_version": "1.2.0",
            "_view_name": "StyleView",
            "description_width": ""
          }
        },
        "6058fed3d36748dcb52b774e496a73d9": {
          "model_module": "@jupyter-widgets/base",
          "model_name": "LayoutModel",
          "model_module_version": "1.2.0",
          "state": {
            "_model_module": "@jupyter-widgets/base",
            "_model_module_version": "1.2.0",
            "_model_name": "LayoutModel",
            "_view_count": null,
            "_view_module": "@jupyter-widgets/base",
            "_view_module_version": "1.2.0",
            "_view_name": "LayoutView",
            "align_content": null,
            "align_items": null,
            "align_self": null,
            "border": null,
            "bottom": null,
            "display": null,
            "flex": null,
            "flex_flow": null,
            "grid_area": null,
            "grid_auto_columns": null,
            "grid_auto_flow": null,
            "grid_auto_rows": null,
            "grid_column": null,
            "grid_gap": null,
            "grid_row": null,
            "grid_template_areas": null,
            "grid_template_columns": null,
            "grid_template_rows": null,
            "height": null,
            "justify_content": null,
            "justify_items": null,
            "left": null,
            "margin": null,
            "max_height": null,
            "max_width": null,
            "min_height": null,
            "min_width": null,
            "object_fit": null,
            "object_position": null,
            "order": null,
            "overflow": null,
            "overflow_x": null,
            "overflow_y": null,
            "padding": null,
            "right": null,
            "top": null,
            "visibility": null,
            "width": null
          }
        },
        "8cdd29bdde844db4880bfc1418653336": {
          "model_module": "@jupyter-widgets/controls",
          "model_name": "ProgressStyleModel",
          "model_module_version": "1.5.0",
          "state": {
            "_model_module": "@jupyter-widgets/controls",
            "_model_module_version": "1.5.0",
            "_model_name": "ProgressStyleModel",
            "_view_count": null,
            "_view_module": "@jupyter-widgets/base",
            "_view_module_version": "1.2.0",
            "_view_name": "StyleView",
            "bar_color": null,
            "description_width": ""
          }
        },
        "ca9df98997694024bbe35c292c0dc5d9": {
          "model_module": "@jupyter-widgets/base",
          "model_name": "LayoutModel",
          "model_module_version": "1.2.0",
          "state": {
            "_model_module": "@jupyter-widgets/base",
            "_model_module_version": "1.2.0",
            "_model_name": "LayoutModel",
            "_view_count": null,
            "_view_module": "@jupyter-widgets/base",
            "_view_module_version": "1.2.0",
            "_view_name": "LayoutView",
            "align_content": null,
            "align_items": null,
            "align_self": null,
            "border": null,
            "bottom": null,
            "display": null,
            "flex": null,
            "flex_flow": null,
            "grid_area": null,
            "grid_auto_columns": null,
            "grid_auto_flow": null,
            "grid_auto_rows": null,
            "grid_column": null,
            "grid_gap": null,
            "grid_row": null,
            "grid_template_areas": null,
            "grid_template_columns": null,
            "grid_template_rows": null,
            "height": null,
            "justify_content": null,
            "justify_items": null,
            "left": null,
            "margin": null,
            "max_height": null,
            "max_width": null,
            "min_height": null,
            "min_width": null,
            "object_fit": null,
            "object_position": null,
            "order": null,
            "overflow": null,
            "overflow_x": null,
            "overflow_y": null,
            "padding": null,
            "right": null,
            "top": null,
            "visibility": null,
            "width": null
          }
        },
        "0a8e83eaa87f4fab837bf835c2966690": {
          "model_module": "@jupyter-widgets/controls",
          "model_name": "DescriptionStyleModel",
          "model_module_version": "1.5.0",
          "state": {
            "_model_module": "@jupyter-widgets/controls",
            "_model_module_version": "1.5.0",
            "_model_name": "DescriptionStyleModel",
            "_view_count": null,
            "_view_module": "@jupyter-widgets/base",
            "_view_module_version": "1.2.0",
            "_view_name": "StyleView",
            "description_width": ""
          }
        }
      }
    },
    "colab": {
      "provenance": [],
      "gpuType": "T4"
    },
    "accelerator": "GPU"
  },
  "nbformat": 4,
  "nbformat_minor": 5
}