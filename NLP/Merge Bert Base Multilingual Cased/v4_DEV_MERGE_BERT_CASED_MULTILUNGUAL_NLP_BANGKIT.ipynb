{
  "cells": [
    {
      "cell_type": "markdown",
      "id": "0b40cd66",
      "metadata": {
        "papermill": {
          "duration": 0.004951,
          "end_time": "2023-04-06T04:11:40.705212",
          "exception": false,
          "start_time": "2023-04-06T04:11:40.700261",
          "status": "completed"
        },
        "tags": [],
        "id": "0b40cd66"
      },
      "source": [
        "## Importing Libraries"
      ]
    },
    {
      "cell_type": "code",
      "source": [
        "!python -m pip install transformers\n",
        "!python -m pip install Sastrawi\n",
        "!python -m pip install xformers"
      ],
      "metadata": {
        "colab": {
          "base_uri": "https://localhost:8080/"
        },
        "id": "N30rg8w3TotZ",
        "outputId": "1c56c719-5bb1-40d9-d96d-09ac9b4e9433"
      },
      "id": "N30rg8w3TotZ",
      "execution_count": null,
      "outputs": [
        {
          "output_type": "stream",
          "name": "stdout",
          "text": [
            "Looking in indexes: https://pypi.org/simple, https://us-python.pkg.dev/colab-wheels/public/simple/\n",
            "Collecting transformers\n",
            "  Downloading transformers-4.29.2-py3-none-any.whl (7.1 MB)\n",
            "\u001b[2K     \u001b[90m━━━━━━━━━━━━━━━━━━━━━━━━━━━━━━━━━━━━━━━━\u001b[0m \u001b[32m7.1/7.1 MB\u001b[0m \u001b[31m48.1 MB/s\u001b[0m eta \u001b[36m0:00:00\u001b[0m\n",
            "\u001b[?25hRequirement already satisfied: filelock in /usr/local/lib/python3.10/dist-packages (from transformers) (3.12.0)\n",
            "Collecting huggingface-hub<1.0,>=0.14.1 (from transformers)\n",
            "  Downloading huggingface_hub-0.15.1-py3-none-any.whl (236 kB)\n",
            "\u001b[2K     \u001b[90m━━━━━━━━━━━━━━━━━━━━━━━━━━━━━━━━━━━━━━\u001b[0m \u001b[32m236.8/236.8 kB\u001b[0m \u001b[31m18.9 MB/s\u001b[0m eta \u001b[36m0:00:00\u001b[0m\n",
            "\u001b[?25hRequirement already satisfied: numpy>=1.17 in /usr/local/lib/python3.10/dist-packages (from transformers) (1.22.4)\n",
            "Requirement already satisfied: packaging>=20.0 in /usr/local/lib/python3.10/dist-packages (from transformers) (23.1)\n",
            "Requirement already satisfied: pyyaml>=5.1 in /usr/local/lib/python3.10/dist-packages (from transformers) (6.0)\n",
            "Requirement already satisfied: regex!=2019.12.17 in /usr/local/lib/python3.10/dist-packages (from transformers) (2022.10.31)\n",
            "Requirement already satisfied: requests in /usr/local/lib/python3.10/dist-packages (from transformers) (2.27.1)\n",
            "Collecting tokenizers!=0.11.3,<0.14,>=0.11.1 (from transformers)\n",
            "  Downloading tokenizers-0.13.3-cp310-cp310-manylinux_2_17_x86_64.manylinux2014_x86_64.whl (7.8 MB)\n",
            "\u001b[2K     \u001b[90m━━━━━━━━━━━━━━━━━━━━━━━━━━━━━━━━━━━━━━━━\u001b[0m \u001b[32m7.8/7.8 MB\u001b[0m \u001b[31m60.4 MB/s\u001b[0m eta \u001b[36m0:00:00\u001b[0m\n",
            "\u001b[?25hRequirement already satisfied: tqdm>=4.27 in /usr/local/lib/python3.10/dist-packages (from transformers) (4.65.0)\n",
            "Requirement already satisfied: fsspec in /usr/local/lib/python3.10/dist-packages (from huggingface-hub<1.0,>=0.14.1->transformers) (2023.4.0)\n",
            "Requirement already satisfied: typing-extensions>=3.7.4.3 in /usr/local/lib/python3.10/dist-packages (from huggingface-hub<1.0,>=0.14.1->transformers) (4.5.0)\n",
            "Requirement already satisfied: urllib3<1.27,>=1.21.1 in /usr/local/lib/python3.10/dist-packages (from requests->transformers) (1.26.15)\n",
            "Requirement already satisfied: certifi>=2017.4.17 in /usr/local/lib/python3.10/dist-packages (from requests->transformers) (2022.12.7)\n",
            "Requirement already satisfied: charset-normalizer~=2.0.0 in /usr/local/lib/python3.10/dist-packages (from requests->transformers) (2.0.12)\n",
            "Requirement already satisfied: idna<4,>=2.5 in /usr/local/lib/python3.10/dist-packages (from requests->transformers) (3.4)\n",
            "Installing collected packages: tokenizers, huggingface-hub, transformers\n",
            "Successfully installed huggingface-hub-0.15.1 tokenizers-0.13.3 transformers-4.29.2\n",
            "Looking in indexes: https://pypi.org/simple, https://us-python.pkg.dev/colab-wheels/public/simple/\n",
            "Collecting Sastrawi\n",
            "  Downloading Sastrawi-1.0.1-py2.py3-none-any.whl (209 kB)\n",
            "\u001b[2K     \u001b[90m━━━━━━━━━━━━━━━━━━━━━━━━━━━━━━━━━━━━━━━\u001b[0m \u001b[32m209.7/209.7 kB\u001b[0m \u001b[31m6.2 MB/s\u001b[0m eta \u001b[36m0:00:00\u001b[0m\n",
            "\u001b[?25hInstalling collected packages: Sastrawi\n",
            "Successfully installed Sastrawi-1.0.1\n",
            "Looking in indexes: https://pypi.org/simple, https://us-python.pkg.dev/colab-wheels/public/simple/\n",
            "Collecting xformers\n",
            "  Downloading xformers-0.0.20-cp310-cp310-manylinux2014_x86_64.whl (109.1 MB)\n",
            "\u001b[2K     \u001b[90m━━━━━━━━━━━━━━━━━━━━━━━━━━━━━━━━━━━━━━━\u001b[0m \u001b[32m109.1/109.1 MB\u001b[0m \u001b[31m8.4 MB/s\u001b[0m eta \u001b[36m0:00:00\u001b[0m\n",
            "\u001b[?25hRequirement already satisfied: numpy in /usr/local/lib/python3.10/dist-packages (from xformers) (1.22.4)\n",
            "Collecting pyre-extensions==0.0.29 (from xformers)\n",
            "  Downloading pyre_extensions-0.0.29-py3-none-any.whl (12 kB)\n",
            "Requirement already satisfied: torch==2.0.1 in /usr/local/lib/python3.10/dist-packages (from xformers) (2.0.1+cu118)\n",
            "Collecting typing-inspect (from pyre-extensions==0.0.29->xformers)\n",
            "  Downloading typing_inspect-0.9.0-py3-none-any.whl (8.8 kB)\n",
            "Requirement already satisfied: typing-extensions in /usr/local/lib/python3.10/dist-packages (from pyre-extensions==0.0.29->xformers) (4.5.0)\n",
            "Requirement already satisfied: filelock in /usr/local/lib/python3.10/dist-packages (from torch==2.0.1->xformers) (3.12.0)\n",
            "Requirement already satisfied: sympy in /usr/local/lib/python3.10/dist-packages (from torch==2.0.1->xformers) (1.11.1)\n",
            "Requirement already satisfied: networkx in /usr/local/lib/python3.10/dist-packages (from torch==2.0.1->xformers) (3.1)\n",
            "Requirement already satisfied: jinja2 in /usr/local/lib/python3.10/dist-packages (from torch==2.0.1->xformers) (3.1.2)\n",
            "Requirement already satisfied: triton==2.0.0 in /usr/local/lib/python3.10/dist-packages (from torch==2.0.1->xformers) (2.0.0)\n",
            "Requirement already satisfied: cmake in /usr/local/lib/python3.10/dist-packages (from triton==2.0.0->torch==2.0.1->xformers) (3.25.2)\n",
            "Requirement already satisfied: lit in /usr/local/lib/python3.10/dist-packages (from triton==2.0.0->torch==2.0.1->xformers) (16.0.5)\n",
            "Requirement already satisfied: MarkupSafe>=2.0 in /usr/local/lib/python3.10/dist-packages (from jinja2->torch==2.0.1->xformers) (2.1.2)\n",
            "Requirement already satisfied: mpmath>=0.19 in /usr/local/lib/python3.10/dist-packages (from sympy->torch==2.0.1->xformers) (1.3.0)\n",
            "Collecting mypy-extensions>=0.3.0 (from typing-inspect->pyre-extensions==0.0.29->xformers)\n",
            "  Downloading mypy_extensions-1.0.0-py3-none-any.whl (4.7 kB)\n",
            "Installing collected packages: mypy-extensions, typing-inspect, pyre-extensions, xformers\n",
            "Successfully installed mypy-extensions-1.0.0 pyre-extensions-0.0.29 typing-inspect-0.9.0 xformers-0.0.20\n"
          ]
        }
      ]
    },
    {
      "cell_type": "code",
      "execution_count": null,
      "id": "2a6ff93a",
      "metadata": {
        "_cell_guid": "b1076dfc-b9ad-4769-8c92-a6c4dae69d19",
        "_uuid": "8f2839f25d086af736a60e9eeb907d3b93b6e0e5",
        "execution": {
          "iopub.execute_input": "2023-04-06T04:11:40.717578Z",
          "iopub.status.busy": "2023-04-06T04:11:40.716851Z",
          "iopub.status.idle": "2023-04-06T04:11:47.849363Z",
          "shell.execute_reply": "2023-04-06T04:11:47.848147Z"
        },
        "papermill": {
          "duration": 7.141688,
          "end_time": "2023-04-06T04:11:47.852005",
          "exception": false,
          "start_time": "2023-04-06T04:11:40.710317",
          "status": "completed"
        },
        "tags": [],
        "id": "2a6ff93a",
        "colab": {
          "base_uri": "https://localhost:8080/",
          "height": 35
        },
        "outputId": "0014f92d-7df7-4d40-d242-844e726a3715"
      },
      "outputs": [
        {
          "output_type": "execute_result",
          "data": {
            "text/plain": [
              "'1.22.4'"
            ],
            "application/vnd.google.colaboratory.intrinsic+json": {
              "type": "string"
            }
          },
          "metadata": {},
          "execution_count": 2
        }
      ],
      "source": [
        "import numpy as np\n",
        "import pandas as pd\n",
        "import matplotlib.pyplot as plt\n",
        "import seaborn as sea\n",
        "import os\n",
        "from tqdm.notebook import tqdm\n",
        "import re\n",
        "import tensorflow as tf\n",
        "from tensorflow import keras\n",
        "from keras.preprocessing.text import Tokenizer\n",
        "from Sastrawi.Dictionary.ArrayDictionary import ArrayDictionary\n",
        "from Sastrawi.StopWordRemover.StopWordRemover import StopWordRemover\n",
        "from Sastrawi.StopWordRemover.StopWordRemoverFactory import StopWordRemoverFactory\n",
        "\n",
        "plt.style.use('ggplot')\n",
        "np.__version__"
      ]
    },
    {
      "cell_type": "markdown",
      "id": "1393d062",
      "metadata": {
        "papermill": {
          "duration": 0.005783,
          "end_time": "2023-04-06T04:11:57.892880",
          "exception": false,
          "start_time": "2023-04-06T04:11:57.887097",
          "status": "completed"
        },
        "tags": [],
        "id": "1393d062"
      },
      "source": [
        "## Loading the data"
      ]
    },
    {
      "cell_type": "code",
      "source": [
        "!gdown 1EgJ4xUZeNzzCMjRe4Y5c1rTsmhWLD8lL\n",
        "!gdown 1b8WJZbxf48bJj7eAa-Z5MeWAqIq-SfU0"
      ],
      "metadata": {
        "id": "WheEYVW2TREz",
        "colab": {
          "base_uri": "https://localhost:8080/"
        },
        "outputId": "d104635c-c325-4665-a0df-4f99e3c9a263"
      },
      "id": "WheEYVW2TREz",
      "execution_count": null,
      "outputs": [
        {
          "output_type": "stream",
          "name": "stdout",
          "text": [
            "Downloading...\n",
            "From: https://drive.google.com/uc?id=1EgJ4xUZeNzzCMjRe4Y5c1rTsmhWLD8lL\n",
            "To: /content/Symptom2DiseaseID.csv\n",
            "100% 240k/240k [00:00<00:00, 68.6MB/s]\n",
            "Downloading...\n",
            "From: https://drive.google.com/uc?id=1b8WJZbxf48bJj7eAa-Z5MeWAqIq-SfU0\n",
            "To: /content/Dataset DS Converted.csv\n",
            "100% 1.95M/1.95M [00:00<00:00, 131MB/s]\n"
          ]
        }
      ]
    },
    {
      "cell_type": "code",
      "execution_count": null,
      "id": "84f0c37f",
      "metadata": {
        "execution": {
          "iopub.execute_input": "2023-04-06T04:11:57.905975Z",
          "iopub.status.busy": "2023-04-06T04:11:57.905655Z",
          "iopub.status.idle": "2023-04-06T04:11:57.943106Z",
          "shell.execute_reply": "2023-04-06T04:11:57.942174Z"
        },
        "papermill": {
          "duration": 0.046641,
          "end_time": "2023-04-06T04:11:57.945218",
          "exception": false,
          "start_time": "2023-04-06T04:11:57.898577",
          "status": "completed"
        },
        "tags": [],
        "id": "84f0c37f",
        "colab": {
          "base_uri": "https://localhost:8080/",
          "height": 206
        },
        "outputId": "693dc48c-f40a-4790-a54d-625b2203e51a"
      },
      "outputs": [
        {
          "output_type": "execute_result",
          "data": {
            "text/plain": [
              "        label                                               text\n",
              "0   Psoriasis   Saya telah mengalami ruam kulit di lengan, ka...\n",
              "1   Psoriasis   Kulit saya mengelupas, terutama di lutut, sik...\n",
              "2   Psoriasis   Saya telah mengalami nyeri sendi di jari, per...\n",
              "3   Psoriasis   Ada debu seperti perak di kulit saya, terutam...\n",
              "4   Psoriasis   Kuku saya memiliki penyok atau lubang kecil d..."
            ],
            "text/html": [
              "\n",
              "  <div id=\"df-ef79f1b5-ed1e-4602-9ed4-6e114ae55e6b\">\n",
              "    <div class=\"colab-df-container\">\n",
              "      <div>\n",
              "<style scoped>\n",
              "    .dataframe tbody tr th:only-of-type {\n",
              "        vertical-align: middle;\n",
              "    }\n",
              "\n",
              "    .dataframe tbody tr th {\n",
              "        vertical-align: top;\n",
              "    }\n",
              "\n",
              "    .dataframe thead th {\n",
              "        text-align: right;\n",
              "    }\n",
              "</style>\n",
              "<table border=\"1\" class=\"dataframe\">\n",
              "  <thead>\n",
              "    <tr style=\"text-align: right;\">\n",
              "      <th></th>\n",
              "      <th>label</th>\n",
              "      <th>text</th>\n",
              "    </tr>\n",
              "  </thead>\n",
              "  <tbody>\n",
              "    <tr>\n",
              "      <th>0</th>\n",
              "      <td>Psoriasis</td>\n",
              "      <td>Saya telah mengalami ruam kulit di lengan, ka...</td>\n",
              "    </tr>\n",
              "    <tr>\n",
              "      <th>1</th>\n",
              "      <td>Psoriasis</td>\n",
              "      <td>Kulit saya mengelupas, terutama di lutut, sik...</td>\n",
              "    </tr>\n",
              "    <tr>\n",
              "      <th>2</th>\n",
              "      <td>Psoriasis</td>\n",
              "      <td>Saya telah mengalami nyeri sendi di jari, per...</td>\n",
              "    </tr>\n",
              "    <tr>\n",
              "      <th>3</th>\n",
              "      <td>Psoriasis</td>\n",
              "      <td>Ada debu seperti perak di kulit saya, terutam...</td>\n",
              "    </tr>\n",
              "    <tr>\n",
              "      <th>4</th>\n",
              "      <td>Psoriasis</td>\n",
              "      <td>Kuku saya memiliki penyok atau lubang kecil d...</td>\n",
              "    </tr>\n",
              "  </tbody>\n",
              "</table>\n",
              "</div>\n",
              "      <button class=\"colab-df-convert\" onclick=\"convertToInteractive('df-ef79f1b5-ed1e-4602-9ed4-6e114ae55e6b')\"\n",
              "              title=\"Convert this dataframe to an interactive table.\"\n",
              "              style=\"display:none;\">\n",
              "        \n",
              "  <svg xmlns=\"http://www.w3.org/2000/svg\" height=\"24px\"viewBox=\"0 0 24 24\"\n",
              "       width=\"24px\">\n",
              "    <path d=\"M0 0h24v24H0V0z\" fill=\"none\"/>\n",
              "    <path d=\"M18.56 5.44l.94 2.06.94-2.06 2.06-.94-2.06-.94-.94-2.06-.94 2.06-2.06.94zm-11 1L8.5 8.5l.94-2.06 2.06-.94-2.06-.94L8.5 2.5l-.94 2.06-2.06.94zm10 10l.94 2.06.94-2.06 2.06-.94-2.06-.94-.94-2.06-.94 2.06-2.06.94z\"/><path d=\"M17.41 7.96l-1.37-1.37c-.4-.4-.92-.59-1.43-.59-.52 0-1.04.2-1.43.59L10.3 9.45l-7.72 7.72c-.78.78-.78 2.05 0 2.83L4 21.41c.39.39.9.59 1.41.59.51 0 1.02-.2 1.41-.59l7.78-7.78 2.81-2.81c.8-.78.8-2.07 0-2.86zM5.41 20L4 18.59l7.72-7.72 1.47 1.35L5.41 20z\"/>\n",
              "  </svg>\n",
              "      </button>\n",
              "      \n",
              "  <style>\n",
              "    .colab-df-container {\n",
              "      display:flex;\n",
              "      flex-wrap:wrap;\n",
              "      gap: 12px;\n",
              "    }\n",
              "\n",
              "    .colab-df-convert {\n",
              "      background-color: #E8F0FE;\n",
              "      border: none;\n",
              "      border-radius: 50%;\n",
              "      cursor: pointer;\n",
              "      display: none;\n",
              "      fill: #1967D2;\n",
              "      height: 32px;\n",
              "      padding: 0 0 0 0;\n",
              "      width: 32px;\n",
              "    }\n",
              "\n",
              "    .colab-df-convert:hover {\n",
              "      background-color: #E2EBFA;\n",
              "      box-shadow: 0px 1px 2px rgba(60, 64, 67, 0.3), 0px 1px 3px 1px rgba(60, 64, 67, 0.15);\n",
              "      fill: #174EA6;\n",
              "    }\n",
              "\n",
              "    [theme=dark] .colab-df-convert {\n",
              "      background-color: #3B4455;\n",
              "      fill: #D2E3FC;\n",
              "    }\n",
              "\n",
              "    [theme=dark] .colab-df-convert:hover {\n",
              "      background-color: #434B5C;\n",
              "      box-shadow: 0px 1px 3px 1px rgba(0, 0, 0, 0.15);\n",
              "      filter: drop-shadow(0px 1px 2px rgba(0, 0, 0, 0.3));\n",
              "      fill: #FFFFFF;\n",
              "    }\n",
              "  </style>\n",
              "\n",
              "      <script>\n",
              "        const buttonEl =\n",
              "          document.querySelector('#df-ef79f1b5-ed1e-4602-9ed4-6e114ae55e6b button.colab-df-convert');\n",
              "        buttonEl.style.display =\n",
              "          google.colab.kernel.accessAllowed ? 'block' : 'none';\n",
              "\n",
              "        async function convertToInteractive(key) {\n",
              "          const element = document.querySelector('#df-ef79f1b5-ed1e-4602-9ed4-6e114ae55e6b');\n",
              "          const dataTable =\n",
              "            await google.colab.kernel.invokeFunction('convertToInteractive',\n",
              "                                                     [key], {});\n",
              "          if (!dataTable) return;\n",
              "\n",
              "          const docLinkHtml = 'Like what you see? Visit the ' +\n",
              "            '<a target=\"_blank\" href=https://colab.research.google.com/notebooks/data_table.ipynb>data table notebook</a>'\n",
              "            + ' to learn more about interactive tables.';\n",
              "          element.innerHTML = '';\n",
              "          dataTable['output_type'] = 'display_data';\n",
              "          await google.colab.output.renderOutput(dataTable, element);\n",
              "          const docLink = document.createElement('div');\n",
              "          docLink.innerHTML = docLinkHtml;\n",
              "          element.appendChild(docLink);\n",
              "        }\n",
              "      </script>\n",
              "    </div>\n",
              "  </div>\n",
              "  "
            ]
          },
          "metadata": {},
          "execution_count": 4
        }
      ],
      "source": [
        "dfNLP = pd.read_csv('./Symptom2DiseaseID.csv', delimiter=';')\n",
        "dfNLP.drop(\"indeks\", axis=1, inplace=True)\n",
        "dfNLP.head()"
      ]
    },
    {
      "cell_type": "code",
      "source": [
        "dfCnv = pd.read_csv('./Dataset DS Converted.csv', delimiter=',')\n",
        "dfCnv.drop(\"Unnamed: 0\", axis=1, inplace=True)\n",
        "dfCnv.head()"
      ],
      "metadata": {
        "colab": {
          "base_uri": "https://localhost:8080/",
          "height": 206
        },
        "id": "gUr75lOMfQJ1",
        "outputId": "fd7d22f9-b477-4595-f815-6d5fc64d9ccd"
      },
      "id": "gUr75lOMfQJ1",
      "execution_count": null,
      "outputs": [
        {
          "output_type": "execute_result",
          "data": {
            "text/plain": [
              "                                            symptoms  prognosa\n",
              "0  Saya tidak merasakan penambahan berat badan. S...         0\n",
              "1  Saya mengalami patch diskromik dalam beberapa ...         0\n",
              "2  Saya tidak merasakan batuk. Sering bermasalah ...         0\n",
              "3  Sesekali, ruam kulit saya rasakan. Tidak ada k...         0\n",
              "4  Saya tidak merasakan adanya demam ringan. Saya...         0"
            ],
            "text/html": [
              "\n",
              "  <div id=\"df-33d95956-2bc5-4ad9-97c6-eaceca710548\">\n",
              "    <div class=\"colab-df-container\">\n",
              "      <div>\n",
              "<style scoped>\n",
              "    .dataframe tbody tr th:only-of-type {\n",
              "        vertical-align: middle;\n",
              "    }\n",
              "\n",
              "    .dataframe tbody tr th {\n",
              "        vertical-align: top;\n",
              "    }\n",
              "\n",
              "    .dataframe thead th {\n",
              "        text-align: right;\n",
              "    }\n",
              "</style>\n",
              "<table border=\"1\" class=\"dataframe\">\n",
              "  <thead>\n",
              "    <tr style=\"text-align: right;\">\n",
              "      <th></th>\n",
              "      <th>symptoms</th>\n",
              "      <th>prognosa</th>\n",
              "    </tr>\n",
              "  </thead>\n",
              "  <tbody>\n",
              "    <tr>\n",
              "      <th>0</th>\n",
              "      <td>Saya tidak merasakan penambahan berat badan. S...</td>\n",
              "      <td>0</td>\n",
              "    </tr>\n",
              "    <tr>\n",
              "      <th>1</th>\n",
              "      <td>Saya mengalami patch diskromik dalam beberapa ...</td>\n",
              "      <td>0</td>\n",
              "    </tr>\n",
              "    <tr>\n",
              "      <th>2</th>\n",
              "      <td>Saya tidak merasakan batuk. Sering bermasalah ...</td>\n",
              "      <td>0</td>\n",
              "    </tr>\n",
              "    <tr>\n",
              "      <th>3</th>\n",
              "      <td>Sesekali, ruam kulit saya rasakan. Tidak ada k...</td>\n",
              "      <td>0</td>\n",
              "    </tr>\n",
              "    <tr>\n",
              "      <th>4</th>\n",
              "      <td>Saya tidak merasakan adanya demam ringan. Saya...</td>\n",
              "      <td>0</td>\n",
              "    </tr>\n",
              "  </tbody>\n",
              "</table>\n",
              "</div>\n",
              "      <button class=\"colab-df-convert\" onclick=\"convertToInteractive('df-33d95956-2bc5-4ad9-97c6-eaceca710548')\"\n",
              "              title=\"Convert this dataframe to an interactive table.\"\n",
              "              style=\"display:none;\">\n",
              "        \n",
              "  <svg xmlns=\"http://www.w3.org/2000/svg\" height=\"24px\"viewBox=\"0 0 24 24\"\n",
              "       width=\"24px\">\n",
              "    <path d=\"M0 0h24v24H0V0z\" fill=\"none\"/>\n",
              "    <path d=\"M18.56 5.44l.94 2.06.94-2.06 2.06-.94-2.06-.94-.94-2.06-.94 2.06-2.06.94zm-11 1L8.5 8.5l.94-2.06 2.06-.94-2.06-.94L8.5 2.5l-.94 2.06-2.06.94zm10 10l.94 2.06.94-2.06 2.06-.94-2.06-.94-.94-2.06-.94 2.06-2.06.94z\"/><path d=\"M17.41 7.96l-1.37-1.37c-.4-.4-.92-.59-1.43-.59-.52 0-1.04.2-1.43.59L10.3 9.45l-7.72 7.72c-.78.78-.78 2.05 0 2.83L4 21.41c.39.39.9.59 1.41.59.51 0 1.02-.2 1.41-.59l7.78-7.78 2.81-2.81c.8-.78.8-2.07 0-2.86zM5.41 20L4 18.59l7.72-7.72 1.47 1.35L5.41 20z\"/>\n",
              "  </svg>\n",
              "      </button>\n",
              "      \n",
              "  <style>\n",
              "    .colab-df-container {\n",
              "      display:flex;\n",
              "      flex-wrap:wrap;\n",
              "      gap: 12px;\n",
              "    }\n",
              "\n",
              "    .colab-df-convert {\n",
              "      background-color: #E8F0FE;\n",
              "      border: none;\n",
              "      border-radius: 50%;\n",
              "      cursor: pointer;\n",
              "      display: none;\n",
              "      fill: #1967D2;\n",
              "      height: 32px;\n",
              "      padding: 0 0 0 0;\n",
              "      width: 32px;\n",
              "    }\n",
              "\n",
              "    .colab-df-convert:hover {\n",
              "      background-color: #E2EBFA;\n",
              "      box-shadow: 0px 1px 2px rgba(60, 64, 67, 0.3), 0px 1px 3px 1px rgba(60, 64, 67, 0.15);\n",
              "      fill: #174EA6;\n",
              "    }\n",
              "\n",
              "    [theme=dark] .colab-df-convert {\n",
              "      background-color: #3B4455;\n",
              "      fill: #D2E3FC;\n",
              "    }\n",
              "\n",
              "    [theme=dark] .colab-df-convert:hover {\n",
              "      background-color: #434B5C;\n",
              "      box-shadow: 0px 1px 3px 1px rgba(0, 0, 0, 0.15);\n",
              "      filter: drop-shadow(0px 1px 2px rgba(0, 0, 0, 0.3));\n",
              "      fill: #FFFFFF;\n",
              "    }\n",
              "  </style>\n",
              "\n",
              "      <script>\n",
              "        const buttonEl =\n",
              "          document.querySelector('#df-33d95956-2bc5-4ad9-97c6-eaceca710548 button.colab-df-convert');\n",
              "        buttonEl.style.display =\n",
              "          google.colab.kernel.accessAllowed ? 'block' : 'none';\n",
              "\n",
              "        async function convertToInteractive(key) {\n",
              "          const element = document.querySelector('#df-33d95956-2bc5-4ad9-97c6-eaceca710548');\n",
              "          const dataTable =\n",
              "            await google.colab.kernel.invokeFunction('convertToInteractive',\n",
              "                                                     [key], {});\n",
              "          if (!dataTable) return;\n",
              "\n",
              "          const docLinkHtml = 'Like what you see? Visit the ' +\n",
              "            '<a target=\"_blank\" href=https://colab.research.google.com/notebooks/data_table.ipynb>data table notebook</a>'\n",
              "            + ' to learn more about interactive tables.';\n",
              "          element.innerHTML = '';\n",
              "          dataTable['output_type'] = 'display_data';\n",
              "          await google.colab.output.renderOutput(dataTable, element);\n",
              "          const docLink = document.createElement('div');\n",
              "          docLink.innerHTML = docLinkHtml;\n",
              "          element.appendChild(docLink);\n",
              "        }\n",
              "      </script>\n",
              "    </div>\n",
              "  </div>\n",
              "  "
            ]
          },
          "metadata": {},
          "execution_count": 5
        }
      ]
    },
    {
      "cell_type": "code",
      "source": [
        "dfNLP.label = dfNLP.label.str.replace('^ +| +$', '', regex=True)\n",
        "dfNLP['label'] = dfNLP['label'].replace({'Pembuluh mekar':'Varises', 'Wasir Dimorfik' : 'Wasir', 'spondylosis serviks':'Spondylosis'})\n",
        "dfCnv.rename(columns={'symptoms': 'text', 'prognosa': 'label'}, inplace=True)\n",
        "dfCnv = dfCnv[dfCnv.columns[::-1]]"
      ],
      "metadata": {
        "id": "PLt4eHGmfwu1"
      },
      "id": "PLt4eHGmfwu1",
      "execution_count": null,
      "outputs": []
    },
    {
      "cell_type": "code",
      "source": [
        "indextolabel = {\n",
        "    0: 'Vertigo Posisi Paroymsal',\n",
        "    1: 'AIDS',\n",
        "    2: 'Alergi',\n",
        "    3: 'Asma bronkial',\n",
        "    4: 'Cacar air',\n",
        "    5: 'Diabetes',\n",
        "    6: 'Flu biasa',\n",
        "    7: 'GERD',\n",
        "    8: 'Gastroenteritis',\n",
        "    9: 'Hepatitis B',\n",
        "    10: 'Hepatitis C',\n",
        "    11: 'Hepatitis D',\n",
        "    12: 'Hepatitis E',\n",
        "    13: 'Hepatitis alkoholik',\n",
        "    14: 'Hipertensi',\n",
        "    15: 'Hipertiroidisme',\n",
        "    16: 'Hipoglikemia',\n",
        "    17: 'Hipotiroidisme',\n",
        "    18: 'Impetigo',\n",
        "    19: 'Infeksi jamur',\n",
        "    20: 'Infeksi saluran kemih',\n",
        "    21: 'Jerawat',\n",
        "    22: 'Pendarahan Otak',\n",
        "    23: 'Malaria',\n",
        "    24: 'Migrain',\n",
        "    25: 'Osteoartritis',\n",
        "    26: 'Varises',\n",
        "    27: 'Penyakit kuning',\n",
        "    28: 'Penyakit tipus',\n",
        "    29: 'Penyakit ulkus peptikum',\n",
        "    30: 'Psoriasis',\n",
        "    31: 'Radang paru-paru',\n",
        "    32: 'Radang sendi',\n",
        "    33: 'Reaksi Obat',\n",
        "    34: 'Serangan jantung',\n",
        "    35: 'TBC',\n",
        "    36: 'Wasir',\n",
        "    37: 'demam berdarah',\n",
        "    38: 'hepatitis A',\n",
        "    39: 'kolestasis kronis',\n",
        "    40: 'Spondylosis',\n",
        "}\n",
        "\n",
        "dfCnv['label'] = dfCnv['label'].replace(indextolabel)"
      ],
      "metadata": {
        "id": "p-ixsHSoh5DY"
      },
      "id": "p-ixsHSoh5DY",
      "execution_count": null,
      "outputs": []
    },
    {
      "cell_type": "code",
      "source": [
        "dfNLP['label'].value_counts()"
      ],
      "metadata": {
        "colab": {
          "base_uri": "https://localhost:8080/"
        },
        "id": "-11yqtzIhngH",
        "outputId": "f3db9a76-4a43-457a-8cb9-7e9bdd5d7db7"
      },
      "id": "-11yqtzIhngH",
      "execution_count": null,
      "outputs": [
        {
          "output_type": "execute_result",
          "data": {
            "text/plain": [
              "Psoriasis                          50\n",
              "Varises                            50\n",
              "penyakit ulkus peptikum            50\n",
              "reaksi obat                        50\n",
              "penyakit refluks gastroesofagus    50\n",
              "alergi                             50\n",
              "Infeksi saluran kemih              50\n",
              "Malaria                            50\n",
              "Penyakit kuning                    50\n",
              "Spondylosis                        50\n",
              "Migrain                            50\n",
              "Hipertensi                         50\n",
              "Asma bronkial                      50\n",
              "Jerawat                            50\n",
              "Radang sendi                       50\n",
              "Wasir                              50\n",
              "Radang paru-paru                   50\n",
              "Flu biasa                          50\n",
              "Infeksi jamur                      50\n",
              "demam berdarah                     50\n",
              "Impetigo                           50\n",
              "Cacar air                          50\n",
              "Penyakit tipus                     50\n",
              "diabetes                           50\n",
              "Name: label, dtype: int64"
            ]
          },
          "metadata": {},
          "execution_count": 8
        }
      ]
    },
    {
      "cell_type": "code",
      "source": [
        "dfCnv['label'].value_counts()"
      ],
      "metadata": {
        "colab": {
          "base_uri": "https://localhost:8080/"
        },
        "id": "6qCVv6DFgq-c",
        "outputId": "6b1bd40d-3f8b-45b2-9dfa-6d343ee90cee"
      },
      "id": "6qCVv6DFgq-c",
      "execution_count": null,
      "outputs": [
        {
          "output_type": "execute_result",
          "data": {
            "text/plain": [
              "Vertigo Posisi Paroymsal    120\n",
              "Jerawat                     120\n",
              "Malaria                     120\n",
              "Migrain                     120\n",
              "Osteoartritis               120\n",
              "Varises                     120\n",
              "Penyakit kuning             120\n",
              "Penyakit tipus              120\n",
              "Penyakit ulkus peptikum     120\n",
              "Psoriasis                   120\n",
              "Radang paru-paru            120\n",
              "Radang sendi                120\n",
              "Reaksi Obat                 120\n",
              "Serangan jantung            120\n",
              "TBC                         120\n",
              "Wasir                       120\n",
              "demam berdarah              120\n",
              "hepatitis A                 120\n",
              "kolestasis kronis           120\n",
              "Pendarahan Otak             120\n",
              "Infeksi saluran kemih       120\n",
              "AIDS                        120\n",
              "Infeksi jamur               120\n",
              "Alergi                      120\n",
              "Asma bronkial               120\n",
              "Cacar air                   120\n",
              "Diabetes                    120\n",
              "Flu biasa                   120\n",
              "GERD                        120\n",
              "Gastroenteritis             120\n",
              "Hepatitis B                 120\n",
              "Hepatitis C                 120\n",
              "Hepatitis D                 120\n",
              "Hepatitis E                 120\n",
              "Hepatitis alkoholik         120\n",
              "Hipertensi                  120\n",
              "Hipertiroidisme             120\n",
              "Hipoglikemia                120\n",
              "Hipotiroidisme              120\n",
              "Impetigo                    120\n",
              "Spondylosis                 120\n",
              "Name: label, dtype: int64"
            ]
          },
          "metadata": {},
          "execution_count": 9
        }
      ]
    },
    {
      "cell_type": "code",
      "source": [
        "dfMerge = pd.concat([dfCnv, dfNLP], ignore_index=True)"
      ],
      "metadata": {
        "id": "XZ2mQ5PQkwpq"
      },
      "id": "XZ2mQ5PQkwpq",
      "execution_count": null,
      "outputs": []
    },
    {
      "cell_type": "code",
      "source": [
        "dfMerge.head()"
      ],
      "metadata": {
        "colab": {
          "base_uri": "https://localhost:8080/",
          "height": 206
        },
        "id": "sn145K2AvSOY",
        "outputId": "d0447463-27c7-4d79-8a9d-b854e2697783"
      },
      "id": "sn145K2AvSOY",
      "execution_count": null,
      "outputs": [
        {
          "output_type": "execute_result",
          "data": {
            "text/plain": [
              "                      label                                               text\n",
              "0  Vertigo Posisi Paroymsal  Saya tidak merasakan penambahan berat badan. S...\n",
              "1  Vertigo Posisi Paroymsal  Saya mengalami patch diskromik dalam beberapa ...\n",
              "2  Vertigo Posisi Paroymsal  Saya tidak merasakan batuk. Sering bermasalah ...\n",
              "3  Vertigo Posisi Paroymsal  Sesekali, ruam kulit saya rasakan. Tidak ada k...\n",
              "4  Vertigo Posisi Paroymsal  Saya tidak merasakan adanya demam ringan. Saya..."
            ],
            "text/html": [
              "\n",
              "  <div id=\"df-741f729f-567a-4d57-9e06-3c6e9c532758\">\n",
              "    <div class=\"colab-df-container\">\n",
              "      <div>\n",
              "<style scoped>\n",
              "    .dataframe tbody tr th:only-of-type {\n",
              "        vertical-align: middle;\n",
              "    }\n",
              "\n",
              "    .dataframe tbody tr th {\n",
              "        vertical-align: top;\n",
              "    }\n",
              "\n",
              "    .dataframe thead th {\n",
              "        text-align: right;\n",
              "    }\n",
              "</style>\n",
              "<table border=\"1\" class=\"dataframe\">\n",
              "  <thead>\n",
              "    <tr style=\"text-align: right;\">\n",
              "      <th></th>\n",
              "      <th>label</th>\n",
              "      <th>text</th>\n",
              "    </tr>\n",
              "  </thead>\n",
              "  <tbody>\n",
              "    <tr>\n",
              "      <th>0</th>\n",
              "      <td>Vertigo Posisi Paroymsal</td>\n",
              "      <td>Saya tidak merasakan penambahan berat badan. S...</td>\n",
              "    </tr>\n",
              "    <tr>\n",
              "      <th>1</th>\n",
              "      <td>Vertigo Posisi Paroymsal</td>\n",
              "      <td>Saya mengalami patch diskromik dalam beberapa ...</td>\n",
              "    </tr>\n",
              "    <tr>\n",
              "      <th>2</th>\n",
              "      <td>Vertigo Posisi Paroymsal</td>\n",
              "      <td>Saya tidak merasakan batuk. Sering bermasalah ...</td>\n",
              "    </tr>\n",
              "    <tr>\n",
              "      <th>3</th>\n",
              "      <td>Vertigo Posisi Paroymsal</td>\n",
              "      <td>Sesekali, ruam kulit saya rasakan. Tidak ada k...</td>\n",
              "    </tr>\n",
              "    <tr>\n",
              "      <th>4</th>\n",
              "      <td>Vertigo Posisi Paroymsal</td>\n",
              "      <td>Saya tidak merasakan adanya demam ringan. Saya...</td>\n",
              "    </tr>\n",
              "  </tbody>\n",
              "</table>\n",
              "</div>\n",
              "      <button class=\"colab-df-convert\" onclick=\"convertToInteractive('df-741f729f-567a-4d57-9e06-3c6e9c532758')\"\n",
              "              title=\"Convert this dataframe to an interactive table.\"\n",
              "              style=\"display:none;\">\n",
              "        \n",
              "  <svg xmlns=\"http://www.w3.org/2000/svg\" height=\"24px\"viewBox=\"0 0 24 24\"\n",
              "       width=\"24px\">\n",
              "    <path d=\"M0 0h24v24H0V0z\" fill=\"none\"/>\n",
              "    <path d=\"M18.56 5.44l.94 2.06.94-2.06 2.06-.94-2.06-.94-.94-2.06-.94 2.06-2.06.94zm-11 1L8.5 8.5l.94-2.06 2.06-.94-2.06-.94L8.5 2.5l-.94 2.06-2.06.94zm10 10l.94 2.06.94-2.06 2.06-.94-2.06-.94-.94-2.06-.94 2.06-2.06.94z\"/><path d=\"M17.41 7.96l-1.37-1.37c-.4-.4-.92-.59-1.43-.59-.52 0-1.04.2-1.43.59L10.3 9.45l-7.72 7.72c-.78.78-.78 2.05 0 2.83L4 21.41c.39.39.9.59 1.41.59.51 0 1.02-.2 1.41-.59l7.78-7.78 2.81-2.81c.8-.78.8-2.07 0-2.86zM5.41 20L4 18.59l7.72-7.72 1.47 1.35L5.41 20z\"/>\n",
              "  </svg>\n",
              "      </button>\n",
              "      \n",
              "  <style>\n",
              "    .colab-df-container {\n",
              "      display:flex;\n",
              "      flex-wrap:wrap;\n",
              "      gap: 12px;\n",
              "    }\n",
              "\n",
              "    .colab-df-convert {\n",
              "      background-color: #E8F0FE;\n",
              "      border: none;\n",
              "      border-radius: 50%;\n",
              "      cursor: pointer;\n",
              "      display: none;\n",
              "      fill: #1967D2;\n",
              "      height: 32px;\n",
              "      padding: 0 0 0 0;\n",
              "      width: 32px;\n",
              "    }\n",
              "\n",
              "    .colab-df-convert:hover {\n",
              "      background-color: #E2EBFA;\n",
              "      box-shadow: 0px 1px 2px rgba(60, 64, 67, 0.3), 0px 1px 3px 1px rgba(60, 64, 67, 0.15);\n",
              "      fill: #174EA6;\n",
              "    }\n",
              "\n",
              "    [theme=dark] .colab-df-convert {\n",
              "      background-color: #3B4455;\n",
              "      fill: #D2E3FC;\n",
              "    }\n",
              "\n",
              "    [theme=dark] .colab-df-convert:hover {\n",
              "      background-color: #434B5C;\n",
              "      box-shadow: 0px 1px 3px 1px rgba(0, 0, 0, 0.15);\n",
              "      filter: drop-shadow(0px 1px 2px rgba(0, 0, 0, 0.3));\n",
              "      fill: #FFFFFF;\n",
              "    }\n",
              "  </style>\n",
              "\n",
              "      <script>\n",
              "        const buttonEl =\n",
              "          document.querySelector('#df-741f729f-567a-4d57-9e06-3c6e9c532758 button.colab-df-convert');\n",
              "        buttonEl.style.display =\n",
              "          google.colab.kernel.accessAllowed ? 'block' : 'none';\n",
              "\n",
              "        async function convertToInteractive(key) {\n",
              "          const element = document.querySelector('#df-741f729f-567a-4d57-9e06-3c6e9c532758');\n",
              "          const dataTable =\n",
              "            await google.colab.kernel.invokeFunction('convertToInteractive',\n",
              "                                                     [key], {});\n",
              "          if (!dataTable) return;\n",
              "\n",
              "          const docLinkHtml = 'Like what you see? Visit the ' +\n",
              "            '<a target=\"_blank\" href=https://colab.research.google.com/notebooks/data_table.ipynb>data table notebook</a>'\n",
              "            + ' to learn more about interactive tables.';\n",
              "          element.innerHTML = '';\n",
              "          dataTable['output_type'] = 'display_data';\n",
              "          await google.colab.output.renderOutput(dataTable, element);\n",
              "          const docLink = document.createElement('div');\n",
              "          docLink.innerHTML = docLinkHtml;\n",
              "          element.appendChild(docLink);\n",
              "        }\n",
              "      </script>\n",
              "    </div>\n",
              "  </div>\n",
              "  "
            ]
          },
          "metadata": {},
          "execution_count": 11
        }
      ]
    },
    {
      "cell_type": "code",
      "source": [
        "for nama_kolom in dfMerge.columns:\n",
        "  print(dfMerge[nama_kolom].value_counts(), \"\\n\")"
      ],
      "metadata": {
        "colab": {
          "base_uri": "https://localhost:8080/"
        },
        "id": "xwrLIOqdgMiG",
        "outputId": "d55f9074-b589-4355-ae28-249e209f1799"
      },
      "id": "xwrLIOqdgMiG",
      "execution_count": null,
      "outputs": [
        {
          "output_type": "stream",
          "name": "stdout",
          "text": [
            "Malaria                            170\n",
            "Varises                            170\n",
            "Penyakit kuning                    170\n",
            "Penyakit tipus                     170\n",
            "Jerawat                            170\n",
            "Infeksi saluran kemih              170\n",
            "Infeksi jamur                      170\n",
            "Impetigo                           170\n",
            "Psoriasis                          170\n",
            "Radang paru-paru                   170\n",
            "Hipertensi                         170\n",
            "Radang sendi                       170\n",
            "Migrain                            170\n",
            "Wasir                              170\n",
            "demam berdarah                     170\n",
            "Flu biasa                          170\n",
            "Cacar air                          170\n",
            "Asma bronkial                      170\n",
            "Spondylosis                        170\n",
            "Serangan jantung                   120\n",
            "TBC                                120\n",
            "Penyakit ulkus peptikum            120\n",
            "hepatitis A                        120\n",
            "kolestasis kronis                  120\n",
            "Reaksi Obat                        120\n",
            "Vertigo Posisi Paroymsal           120\n",
            "Osteoartritis                      120\n",
            "Hepatitis D                        120\n",
            "Alergi                             120\n",
            "Diabetes                           120\n",
            "GERD                               120\n",
            "Gastroenteritis                    120\n",
            "AIDS                               120\n",
            "Hepatitis C                        120\n",
            "Hepatitis B                        120\n",
            "Hepatitis E                        120\n",
            "Hepatitis alkoholik                120\n",
            "Hipertiroidisme                    120\n",
            "Hipoglikemia                       120\n",
            "Hipotiroidisme                     120\n",
            "Pendarahan Otak                    120\n",
            "alergi                              50\n",
            "penyakit refluks gastroesofagus     50\n",
            "reaksi obat                         50\n",
            "penyakit ulkus peptikum             50\n",
            "diabetes                            50\n",
            "Name: label, dtype: int64 \n",
            "\n",
            " Saya merasa sangat gatal, sakit, dan lelah. Selain itu, berat badan saya turun dan suhu tubuh saya naik. Urine saya berwarna gelap, dan kulit saya menjadi kuning. Selain itu, saya juga mengalami sakit perut.                                                                                                                                                       5\n",
            " Saya merasa otot saya sangat lemah dan leher saya sangat kaku. Sendi saya bengkak dan sulit bagi saya untuk bergerak tanpa merasa kaku. Berjalan juga sangat menyakitkan.                                                                                                                                                                                             3\n",
            " Saya mengalami gatal-gatal hebat, muntah-muntah, dan kelelahan. Saya juga mengalami penurunan berat badan dan demam tinggi. Kulit saya menjadi kuning dan urin saya gelap. Saya juga pernah mengalami sakit perut.                                                                                                                                                    3\n",
            " Saya mengalami sembelit dan sangat sulit untuk pergi ke kamar mandi. Ketika saya pergi, rasanya sakit dan tinja saya berdarah. Saya juga merasakan sakit di pantat dan anus saya sangat gatal dan iritasi.                                                                                                                                                            3\n",
            " Saya sudah cukup lelah dan sakit. Tenggorokan saya sangat sakit, dan saya mengalami batuk yang cukup parah. Saya mengalami banyak kedinginan dan suhu yang cukup tinggi. Hanya merasa sangat lelah dan lemah                                                                                                                                                          2\n",
            "                                                                                                                                                                                                                                                                                                                                                                      ..\n",
            "Saya mengalami buang air kecil yang terbakar dalam beberapa hari terakhir. Saya mengalami rasa urin terus menerus sesekali. Tidak ada penambahan berat badan. Saya tidak merasakan adanya sakit perut. Saya menemukan tanda-tanda ketidaknyamanan kandung kemih. Saya tidak merasakan adanya penurunan berat badan. Saya menemukan tanda-tanda bau urin yang busuk.    1\n",
            "Saya mengalami ketidaknyamanan kandung kemih sesekali. Saya menemukan tanda-tanda bau urin yang busuk. Saya menemukan tanda-tanda buang air kecil yang terbakar. Saya tidak merasakan adanya iritasi pada anus. Saya mengalami rasa urin terus menerus sesekali. Saya tidak merasakan tiroid yang membesar. Saya tidak merasakan adanya kegelisahan.                   1\n",
            "Saya tidak merasakan diare. Saya mengalami berteriak-teriak sesekali. Sering bermasalah dengan ruam kulit. Kasus komedo ringan. Saya tidak merasakan adanya kulit kekuningan. Saya tidak merasakan adanya menguningnya mata.                                                                                                                                           1\n",
            "Saya tidak merasakan penambahan berat badan. Saya mengalami jerawat berisi nanah sesekali. Saya tidak merasakan adanya bercak di tenggorokan. Saya mengalami berteriak-teriak dalam beberapa hari terakhir. Saya tidak merasakan gatal. Kasus ruam kulit ringan.                                                                                                       1\n",
            " Saya terus menerus bersin dan batuk kering. Infeksi saya sepertinya tidak kunjung sembuh, dan jantung saya berdebar-debar. Tenggorokan saya kadang terasa sakit, tetapi biasanya membaik.                                                                                                                                                                             1\n",
            "Name: text, Length: 6069, dtype: int64 \n",
            "\n"
          ]
        }
      ]
    },
    {
      "cell_type": "code",
      "source": [
        "import itertools\n",
        "factory = StopWordRemoverFactory()\n",
        "\n",
        "addStopwords = ['dengan', 'ia', 'bahwa', 'oleh', 'saya']\n",
        "removeStopwords = ['namun', 'tidak', 'setelah', 'masih', 'dengan', \"merasakan\", \"adanya\", \"ada\"]\n",
        "\n",
        "stopWords = factory.get_stop_words()+addStopwords\n",
        "\n",
        "for removeStopword in removeStopwords:\n",
        "    if removeStopword in stopWords:\n",
        "        stopWords.remove(removeStopword)\n",
        "    else:\n",
        "        continue\n",
        "\n",
        "dictionaryWord = ArrayDictionary(stopWords)\n",
        "stopWordRemover = StopWordRemover(dictionaryWord)\n",
        "\n",
        "for i in range(len(dfMerge[\"text\"])):\n",
        "    dfMerge[\"text\"][i] = re.sub('  +', ' ', dfMerge[\"text\"][i])\n",
        "    dfMerge[\"text\"][i] = re.sub(r'[^\\x00-\\x7f]','r', dfMerge[\"text\"][i])\n",
        "    dfMerge[\"text\"][i] = dfMerge[\"text\"][i].encode('ascii', 'ignore').decode('utf-8')\n",
        "    dfMerge[\"text\"][i] = ''.join(''.join(s)[:1] for _, s in itertools.groupby(dfMerge[\"text\"][i]))\n",
        "    dfMerge[\"text\"][i] = dfMerge[\"text\"][i].lower()\n",
        "    dfMerge[\"text\"][i] = stopWordRemover.remove(dfMerge[\"text\"][i])\n",
        "    dfMerge[\"label\"][i] = dfMerge[\"label\"][i].lower()\n",
        "    dfMerge[\"label\"][i] = dfMerge[\"label\"][i].title()\n",
        "\n",
        "dfMerge.label = dfMerge.label.str.replace('^ +| +$', '', regex=True)"
      ],
      "metadata": {
        "id": "I2g1r2nJTAro"
      },
      "id": "I2g1r2nJTAro",
      "execution_count": null,
      "outputs": []
    },
    {
      "cell_type": "code",
      "source": [
        "dfMerge.head()"
      ],
      "metadata": {
        "colab": {
          "base_uri": "https://localhost:8080/",
          "height": 206
        },
        "id": "r3OYMl9wvXLZ",
        "outputId": "a5d70ec2-8f95-4e59-f0c2-b61a332b00b0"
      },
      "id": "r3OYMl9wvXLZ",
      "execution_count": null,
      "outputs": [
        {
          "output_type": "execute_result",
          "data": {
            "text/plain": [
              "                      label                                               text\n",
              "0  Vertigo Posisi Paroymsal  tidak merasakan penambahan berat badan. mengal...\n",
              "1  Vertigo Posisi Paroymsal  mengalami patch diskromik beberapa hari terakh...\n",
              "2  Vertigo Posisi Paroymsal  tidak merasakan batuk. sering bermasalah gatal...\n",
              "3  Vertigo Posisi Paroymsal  sesekali, ruam kulit rasakan. tidak ada keasam...\n",
              "4  Vertigo Posisi Paroymsal  tidak merasakan adanya demam ringan. tidak mer..."
            ],
            "text/html": [
              "\n",
              "  <div id=\"df-0ecf121a-b780-48e6-b944-c843e950efd5\">\n",
              "    <div class=\"colab-df-container\">\n",
              "      <div>\n",
              "<style scoped>\n",
              "    .dataframe tbody tr th:only-of-type {\n",
              "        vertical-align: middle;\n",
              "    }\n",
              "\n",
              "    .dataframe tbody tr th {\n",
              "        vertical-align: top;\n",
              "    }\n",
              "\n",
              "    .dataframe thead th {\n",
              "        text-align: right;\n",
              "    }\n",
              "</style>\n",
              "<table border=\"1\" class=\"dataframe\">\n",
              "  <thead>\n",
              "    <tr style=\"text-align: right;\">\n",
              "      <th></th>\n",
              "      <th>label</th>\n",
              "      <th>text</th>\n",
              "    </tr>\n",
              "  </thead>\n",
              "  <tbody>\n",
              "    <tr>\n",
              "      <th>0</th>\n",
              "      <td>Vertigo Posisi Paroymsal</td>\n",
              "      <td>tidak merasakan penambahan berat badan. mengal...</td>\n",
              "    </tr>\n",
              "    <tr>\n",
              "      <th>1</th>\n",
              "      <td>Vertigo Posisi Paroymsal</td>\n",
              "      <td>mengalami patch diskromik beberapa hari terakh...</td>\n",
              "    </tr>\n",
              "    <tr>\n",
              "      <th>2</th>\n",
              "      <td>Vertigo Posisi Paroymsal</td>\n",
              "      <td>tidak merasakan batuk. sering bermasalah gatal...</td>\n",
              "    </tr>\n",
              "    <tr>\n",
              "      <th>3</th>\n",
              "      <td>Vertigo Posisi Paroymsal</td>\n",
              "      <td>sesekali, ruam kulit rasakan. tidak ada keasam...</td>\n",
              "    </tr>\n",
              "    <tr>\n",
              "      <th>4</th>\n",
              "      <td>Vertigo Posisi Paroymsal</td>\n",
              "      <td>tidak merasakan adanya demam ringan. tidak mer...</td>\n",
              "    </tr>\n",
              "  </tbody>\n",
              "</table>\n",
              "</div>\n",
              "      <button class=\"colab-df-convert\" onclick=\"convertToInteractive('df-0ecf121a-b780-48e6-b944-c843e950efd5')\"\n",
              "              title=\"Convert this dataframe to an interactive table.\"\n",
              "              style=\"display:none;\">\n",
              "        \n",
              "  <svg xmlns=\"http://www.w3.org/2000/svg\" height=\"24px\"viewBox=\"0 0 24 24\"\n",
              "       width=\"24px\">\n",
              "    <path d=\"M0 0h24v24H0V0z\" fill=\"none\"/>\n",
              "    <path d=\"M18.56 5.44l.94 2.06.94-2.06 2.06-.94-2.06-.94-.94-2.06-.94 2.06-2.06.94zm-11 1L8.5 8.5l.94-2.06 2.06-.94-2.06-.94L8.5 2.5l-.94 2.06-2.06.94zm10 10l.94 2.06.94-2.06 2.06-.94-2.06-.94-.94-2.06-.94 2.06-2.06.94z\"/><path d=\"M17.41 7.96l-1.37-1.37c-.4-.4-.92-.59-1.43-.59-.52 0-1.04.2-1.43.59L10.3 9.45l-7.72 7.72c-.78.78-.78 2.05 0 2.83L4 21.41c.39.39.9.59 1.41.59.51 0 1.02-.2 1.41-.59l7.78-7.78 2.81-2.81c.8-.78.8-2.07 0-2.86zM5.41 20L4 18.59l7.72-7.72 1.47 1.35L5.41 20z\"/>\n",
              "  </svg>\n",
              "      </button>\n",
              "      \n",
              "  <style>\n",
              "    .colab-df-container {\n",
              "      display:flex;\n",
              "      flex-wrap:wrap;\n",
              "      gap: 12px;\n",
              "    }\n",
              "\n",
              "    .colab-df-convert {\n",
              "      background-color: #E8F0FE;\n",
              "      border: none;\n",
              "      border-radius: 50%;\n",
              "      cursor: pointer;\n",
              "      display: none;\n",
              "      fill: #1967D2;\n",
              "      height: 32px;\n",
              "      padding: 0 0 0 0;\n",
              "      width: 32px;\n",
              "    }\n",
              "\n",
              "    .colab-df-convert:hover {\n",
              "      background-color: #E2EBFA;\n",
              "      box-shadow: 0px 1px 2px rgba(60, 64, 67, 0.3), 0px 1px 3px 1px rgba(60, 64, 67, 0.15);\n",
              "      fill: #174EA6;\n",
              "    }\n",
              "\n",
              "    [theme=dark] .colab-df-convert {\n",
              "      background-color: #3B4455;\n",
              "      fill: #D2E3FC;\n",
              "    }\n",
              "\n",
              "    [theme=dark] .colab-df-convert:hover {\n",
              "      background-color: #434B5C;\n",
              "      box-shadow: 0px 1px 3px 1px rgba(0, 0, 0, 0.15);\n",
              "      filter: drop-shadow(0px 1px 2px rgba(0, 0, 0, 0.3));\n",
              "      fill: #FFFFFF;\n",
              "    }\n",
              "  </style>\n",
              "\n",
              "      <script>\n",
              "        const buttonEl =\n",
              "          document.querySelector('#df-0ecf121a-b780-48e6-b944-c843e950efd5 button.colab-df-convert');\n",
              "        buttonEl.style.display =\n",
              "          google.colab.kernel.accessAllowed ? 'block' : 'none';\n",
              "\n",
              "        async function convertToInteractive(key) {\n",
              "          const element = document.querySelector('#df-0ecf121a-b780-48e6-b944-c843e950efd5');\n",
              "          const dataTable =\n",
              "            await google.colab.kernel.invokeFunction('convertToInteractive',\n",
              "                                                     [key], {});\n",
              "          if (!dataTable) return;\n",
              "\n",
              "          const docLinkHtml = 'Like what you see? Visit the ' +\n",
              "            '<a target=\"_blank\" href=https://colab.research.google.com/notebooks/data_table.ipynb>data table notebook</a>'\n",
              "            + ' to learn more about interactive tables.';\n",
              "          element.innerHTML = '';\n",
              "          dataTable['output_type'] = 'display_data';\n",
              "          await google.colab.output.renderOutput(dataTable, element);\n",
              "          const docLink = document.createElement('div');\n",
              "          docLink.innerHTML = docLinkHtml;\n",
              "          element.appendChild(docLink);\n",
              "        }\n",
              "      </script>\n",
              "    </div>\n",
              "  </div>\n",
              "  "
            ]
          },
          "metadata": {},
          "execution_count": 18
        }
      ]
    },
    {
      "cell_type": "code",
      "source": [
        "# df_sampel = pd.concat([dfMerge[dfMerge['label'] == kelas].sample(n=50, random_state=42) for kelas in dfMerge['label'].unique() if kelas not in ['Pembuluh Mekar', 'Wasir Dimorfik', 'Penyakit Refluks Gastroesofagus']])\n",
        "# dfMerge = pd.concat([dfMerge[dfMerge['label'].isin(['Pembuluh Mekar', 'Wasir Dimorfik', 'Penyakit Refluks Gastroesofagus'])], df_sampel])"
      ],
      "metadata": {
        "id": "wO1yrmrd-CIH"
      },
      "id": "wO1yrmrd-CIH",
      "execution_count": null,
      "outputs": []
    },
    {
      "cell_type": "code",
      "source": [
        "for nama_kolom in dfMerge.columns:\n",
        "  print(dfMerge[nama_kolom].value_counts(), \"\\n\")"
      ],
      "metadata": {
        "colab": {
          "base_uri": "https://localhost:8080/"
        },
        "id": "ZU3zUHa8AxnX",
        "outputId": "053516a3-c2d4-49b7-e8e5-64e32e35416d"
      },
      "id": "ZU3zUHa8AxnX",
      "execution_count": null,
      "outputs": [
        {
          "output_type": "stream",
          "name": "stdout",
          "text": [
            "Jerawat                            170\n",
            "Hipertensi                         170\n",
            "Penyakit Tipus                     170\n",
            "Migrain                            170\n",
            "Malaria                            170\n",
            "Penyakit Ulkus Peptikum            170\n",
            "Psoriasis                          170\n",
            "Infeksi Saluran Kemih              170\n",
            "Infeksi Jamur                      170\n",
            "Impetigo                           170\n",
            "Radang Paru-Paru                   170\n",
            "Radang Sendi                       170\n",
            "Reaksi Obat                        170\n",
            "Varises                            170\n",
            "Penyakit Kuning                    170\n",
            "Wasir                              170\n",
            "Demam Berdarah                     170\n",
            "Spondylosis                        170\n",
            "Flu Biasa                          170\n",
            "Diabetes                           170\n",
            "Cacar Air                          170\n",
            "Asma Bronkial                      170\n",
            "Alergi                             170\n",
            "Tbc                                120\n",
            "Hepatitis A                        120\n",
            "Kolestasis Kronis                  120\n",
            "Serangan Jantung                   120\n",
            "Vertigo Posisi Paroymsal           120\n",
            "Osteoartritis                      120\n",
            "Pendarahan Otak                    120\n",
            "Aids                               120\n",
            "Hipotiroidisme                     120\n",
            "Hipoglikemia                       120\n",
            "Hipertiroidisme                    120\n",
            "Hepatitis Alkoholik                120\n",
            "Hepatitis E                        120\n",
            "Hepatitis D                        120\n",
            "Hepatitis C                        120\n",
            "Hepatitis B                        120\n",
            "Gastroenteritis                    120\n",
            "Gerd                               120\n",
            "Penyakit Refluks Gastroesofagus     50\n",
            "Name: label, dtype: int64 \n",
            "\n",
            " merasa sangat gatal, sakit, lelah. itu, berat badan turun suhu tubuh naik. urine berwarna gelap, kulit menjadi kuning. itu, juga mengalami sakit perut.                                                                                                                                                                 5\n",
            " merasa otot sangat lemah leher sangat kaku. sendi bengkak sulit saya bergerak merasa kaku. berjalan sangat menyakitkan.                                                                                                                                                                                                 3\n",
            " mengalami gatal-gatal hebat, muntah-muntah, kelelahan. juga mengalami penurunan berat badan demam tingi. kulit menjadi kuning urin gelap. juga pernah mengalami sakit perut.                                                                                                                                            3\n",
            " mengalami sembelit sangat sulit pergi kamar mandi. pergi, rasanya sakit tinja berdarah. juga merasakan sakit pantat anus saya sangat gatal iritasi.                                                                                                                                                                     3\n",
            " sudah cukup lelah sakit. tengorokan sangat sakit, mengalami batuk cukup parah. saya mengalami banyak kedinginan suhu cukup tingi. merasa sangat lelah lemah                                                                                                                                                             2\n",
            "                                                                                                                                                                                                                                                                                                                        ..\n",
            "mengalami buang air kecil terbakar beberapa hari terakhir. mengalami rasa urin terus menerus sesekali. tidak ada penambahan berat badan. tidak merasakan adanya sakit perut. menemukan tanda-tanda ketidaknyamanan kandung kemih. tidak merasakan adanya penurunan berat badan. menemukan tanda-tanda bau urin busuk.    1\n",
            "mengalami ketidaknyamanan kandung kemih sesekali. menemukan tanda-tanda bau urin busuk. menemukan tanda-tanda buang air kecil terbakar. tidak merasakan adanya iritasi anus. mengalami rasa urin terus menerus sesekali. tidak merasakan tiroid membesar. tidak merasakan adanya kegelisahan.                            1\n",
            "tidak merasakan diare. mengalami berteriak-teriak sesekali. sering bermasalah ruam kulit. kasus komedo ringan. tidak merasakan adanya kulit kekuningan. tidak merasakan adanya menguningnya mata.                                                                                                                        1\n",
            "tidak merasakan penambahan berat badan. mengalami jerawat berisi nanah sesekali. tidak merasakan adanya bercak tengorokan. mengalami berteriak-teriak beberapa hari terakhir. tidak merasakan gatal. kasus ruam kulit ringan.                                                                                            1\n",
            " terus menerus bersin batuk kering. infeksi sepertinya tidak kunjung sembuh, jantung berdebar-debar. tengorokan kadang terasa sakit, biasanya membaik.                                                                                                                                                                   1\n",
            "Name: text, Length: 6069, dtype: int64 \n",
            "\n"
          ]
        }
      ]
    },
    {
      "cell_type": "markdown",
      "id": "1a1a3a6a",
      "metadata": {
        "papermill": {
          "duration": 0.0058,
          "end_time": "2023-04-06T04:11:57.995838",
          "exception": false,
          "start_time": "2023-04-06T04:11:57.990038",
          "status": "completed"
        },
        "tags": [],
        "id": "1a1a3a6a"
      },
      "source": [
        "Creating encodings for disease."
      ]
    },
    {
      "cell_type": "code",
      "execution_count": null,
      "id": "9f3f79ff",
      "metadata": {
        "execution": {
          "iopub.execute_input": "2023-04-06T04:11:58.009804Z",
          "iopub.status.busy": "2023-04-06T04:11:58.009515Z",
          "iopub.status.idle": "2023-04-06T04:11:58.019455Z",
          "shell.execute_reply": "2023-04-06T04:11:58.018448Z"
        },
        "papermill": {
          "duration": 0.018935,
          "end_time": "2023-04-06T04:11:58.021513",
          "exception": false,
          "start_time": "2023-04-06T04:11:58.002578",
          "status": "completed"
        },
        "tags": [],
        "colab": {
          "base_uri": "https://localhost:8080/"
        },
        "id": "9f3f79ff",
        "outputId": "afa50fc9-2a23-4289-da46-a38fc330ad44"
      },
      "outputs": [
        {
          "output_type": "execute_result",
          "data": {
            "text/plain": [
              "({0: 'Vertigo Posisi Paroymsal',\n",
              "  1: 'Aids',\n",
              "  2: 'Alergi',\n",
              "  3: 'Asma Bronkial',\n",
              "  4: 'Cacar Air',\n",
              "  5: 'Diabetes',\n",
              "  6: 'Flu Biasa',\n",
              "  7: 'Gerd',\n",
              "  8: 'Gastroenteritis',\n",
              "  9: 'Hepatitis B',\n",
              "  10: 'Hepatitis C',\n",
              "  11: 'Hepatitis D',\n",
              "  12: 'Hepatitis E',\n",
              "  13: 'Hepatitis Alkoholik',\n",
              "  14: 'Hipertensi',\n",
              "  15: 'Hipertiroidisme',\n",
              "  16: 'Hipoglikemia',\n",
              "  17: 'Hipotiroidisme',\n",
              "  18: 'Impetigo',\n",
              "  19: 'Infeksi Jamur',\n",
              "  20: 'Infeksi Saluran Kemih',\n",
              "  21: 'Jerawat',\n",
              "  22: 'Pendarahan Otak',\n",
              "  23: 'Malaria',\n",
              "  24: 'Migrain',\n",
              "  25: 'Osteoartritis',\n",
              "  26: 'Varises',\n",
              "  27: 'Penyakit Kuning',\n",
              "  28: 'Penyakit Tipus',\n",
              "  29: 'Penyakit Ulkus Peptikum',\n",
              "  30: 'Psoriasis',\n",
              "  31: 'Radang Paru-Paru',\n",
              "  32: 'Radang Sendi',\n",
              "  33: 'Reaksi Obat',\n",
              "  34: 'Serangan Jantung',\n",
              "  35: 'Tbc',\n",
              "  36: 'Wasir',\n",
              "  37: 'Demam Berdarah',\n",
              "  38: 'Hepatitis A',\n",
              "  39: 'Kolestasis Kronis',\n",
              "  40: 'Spondylosis',\n",
              "  41: 'Penyakit Refluks Gastroesofagus'},\n",
              " {'Vertigo Posisi Paroymsal': 0,\n",
              "  'Aids': 1,\n",
              "  'Alergi': 2,\n",
              "  'Asma Bronkial': 3,\n",
              "  'Cacar Air': 4,\n",
              "  'Diabetes': 5,\n",
              "  'Flu Biasa': 6,\n",
              "  'Gerd': 7,\n",
              "  'Gastroenteritis': 8,\n",
              "  'Hepatitis B': 9,\n",
              "  'Hepatitis C': 10,\n",
              "  'Hepatitis D': 11,\n",
              "  'Hepatitis E': 12,\n",
              "  'Hepatitis Alkoholik': 13,\n",
              "  'Hipertensi': 14,\n",
              "  'Hipertiroidisme': 15,\n",
              "  'Hipoglikemia': 16,\n",
              "  'Hipotiroidisme': 17,\n",
              "  'Impetigo': 18,\n",
              "  'Infeksi Jamur': 19,\n",
              "  'Infeksi Saluran Kemih': 20,\n",
              "  'Jerawat': 21,\n",
              "  'Pendarahan Otak': 22,\n",
              "  'Malaria': 23,\n",
              "  'Migrain': 24,\n",
              "  'Osteoartritis': 25,\n",
              "  'Varises': 26,\n",
              "  'Penyakit Kuning': 27,\n",
              "  'Penyakit Tipus': 28,\n",
              "  'Penyakit Ulkus Peptikum': 29,\n",
              "  'Psoriasis': 30,\n",
              "  'Radang Paru-Paru': 31,\n",
              "  'Radang Sendi': 32,\n",
              "  'Reaksi Obat': 33,\n",
              "  'Serangan Jantung': 34,\n",
              "  'Tbc': 35,\n",
              "  'Wasir': 36,\n",
              "  'Demam Berdarah': 37,\n",
              "  'Hepatitis A': 38,\n",
              "  'Kolestasis Kronis': 39,\n",
              "  'Spondylosis': 40,\n",
              "  'Penyakit Refluks Gastroesofagus': 41})"
            ]
          },
          "metadata": {},
          "execution_count": 20
        }
      ],
      "source": [
        "int2label = {}\n",
        "\n",
        "for i, disease in enumerate(dfMerge['label'].unique()):\n",
        "    int2label[i] = disease\n",
        "\n",
        "label2int = {v : k for k, v in int2label.items()}\n",
        "num_classes = len(int2label)\n",
        "\n",
        "int2label, label2int"
      ]
    },
    {
      "cell_type": "markdown",
      "id": "763636f6",
      "metadata": {
        "papermill": {
          "duration": 0.006036,
          "end_time": "2023-04-06T04:11:58.033788",
          "exception": false,
          "start_time": "2023-04-06T04:11:58.027752",
          "status": "completed"
        },
        "tags": [],
        "id": "763636f6"
      },
      "source": [
        "## Data Distribution"
      ]
    },
    {
      "cell_type": "code",
      "execution_count": null,
      "id": "d9879e91",
      "metadata": {
        "execution": {
          "iopub.execute_input": "2023-04-06T04:11:58.047157Z",
          "iopub.status.busy": "2023-04-06T04:11:58.046841Z",
          "iopub.status.idle": "2023-04-06T04:11:58.493886Z",
          "shell.execute_reply": "2023-04-06T04:11:58.492907Z"
        },
        "papermill": {
          "duration": 0.456124,
          "end_time": "2023-04-06T04:11:58.496173",
          "exception": false,
          "start_time": "2023-04-06T04:11:58.040049",
          "status": "completed"
        },
        "tags": [],
        "colab": {
          "base_uri": "https://localhost:8080/",
          "height": 594
        },
        "id": "d9879e91",
        "outputId": "5de72932-32dd-489a-f7a3-457b9f8c919f"
      },
      "outputs": [
        {
          "output_type": "execute_result",
          "data": {
            "text/plain": [
              "Text(0.5, 1.0, 'Jumlah Data untuk masing-masing penyakit')"
            ]
          },
          "metadata": {},
          "execution_count": 21
        },
        {
          "output_type": "display_data",
          "data": {
            "text/plain": [
              "<Figure size 1000x800 with 1 Axes>"
            ],
            "image/png": "[encoded data removed]"
          },
          "metadata": {}
        }
      ],
      "source": [
        "plt.figure(figsize = (10, 8))\n",
        "\n",
        "sea.countplot(y = dfMerge['label'], palette = 'Blues_d')\n",
        "plt.title('Jumlah Data untuk masing-masing penyakit')"
      ]
    },
    {
      "cell_type": "markdown",
      "id": "372d9672",
      "metadata": {
        "papermill": {
          "duration": 0.007259,
          "end_time": "2023-04-06T04:11:58.511213",
          "exception": false,
          "start_time": "2023-04-06T04:11:58.503954",
          "status": "completed"
        },
        "tags": [],
        "id": "372d9672"
      },
      "source": [
        "## Distribution of the lenght of description"
      ]
    },
    {
      "cell_type": "code",
      "execution_count": null,
      "id": "a3255b14",
      "metadata": {
        "execution": {
          "iopub.execute_input": "2023-04-06T04:11:58.526547Z",
          "iopub.status.busy": "2023-04-06T04:11:58.526240Z",
          "iopub.status.idle": "2023-04-06T04:11:58.844073Z",
          "shell.execute_reply": "2023-04-06T04:11:58.843091Z"
        },
        "papermill": {
          "duration": 0.328297,
          "end_time": "2023-04-06T04:11:58.846485",
          "exception": false,
          "start_time": "2023-04-06T04:11:58.518188",
          "status": "completed"
        },
        "tags": [],
        "colab": {
          "base_uri": "https://localhost:8080/",
          "height": 502,
          "referenced_widgets": [
            "8a57083a87df436f889f1c6abe660c33",
            "bde31b5f375f4151837e2f3b0c1363db",
            "5285299e50484d82a4cbf48c6f3c3341",
            "514afafa4b554812915ea0b8a2d5de26",
            "4e80acff154e48b185402e7fbc4af5a6",
            "1367d297dc4a4641b2a53da1edf7ab95",
            "aeb81d1308e14bc99f5ae00f2ae7c2dd",
            "4958233993764718918d856977d66c87",
            "583865f51aee4eb090495205e1be5086",
            "35ee6196166d4a728ee799ce41b3df5c",
            "0fb3403ecb1b425da6e88c70db2c26a3"
          ]
        },
        "id": "a3255b14",
        "outputId": "00a2b6cd-d72e-456c-e7a8-843c38e82bac"
      },
      "outputs": [
        {
          "output_type": "display_data",
          "data": {
            "text/plain": [
              "  0%|          | 0/6120 [00:00<?, ?it/s]"
            ],
            "application/vnd.jupyter.widget-view+json": {
              "version_major": 2,
              "version_minor": 0,
              "model_id": "8a57083a87df436f889f1c6abe660c33"
            }
          },
          "metadata": {}
        },
        {
          "output_type": "execute_result",
          "data": {
            "text/plain": [
              "Text(0.5, 1.0, 'Distribution of description length')"
            ]
          },
          "metadata": {},
          "execution_count": 22
        },
        {
          "output_type": "display_data",
          "data": {
            "text/plain": [
              "<Figure size 640x480 with 1 Axes>"
            ],
            "image/png": "[encoded data removed]"
          },
          "metadata": {}
        }
      ],
      "source": [
        "# Masih perlu disesuaikan distribusi datanya, jangan ada yang kepanjangan\n",
        "\n",
        "length = []\n",
        "for txt in tqdm(dfMerge['text'].values):\n",
        "    length.append(len(txt.split()))\n",
        "\n",
        "sea.histplot(length, kde = True, bins = 20)\n",
        "plt.title('Distribution of description length')"
      ]
    },
    {
      "cell_type": "code",
      "execution_count": null,
      "id": "14d22426",
      "metadata": {
        "execution": {
          "iopub.execute_input": "2023-04-06T04:11:58.866143Z",
          "iopub.status.busy": "2023-04-06T04:11:58.864521Z",
          "iopub.status.idle": "2023-04-06T04:11:58.872088Z",
          "shell.execute_reply": "2023-04-06T04:11:58.871166Z"
        },
        "papermill": {
          "duration": 0.019088,
          "end_time": "2023-04-06T04:11:58.874327",
          "exception": false,
          "start_time": "2023-04-06T04:11:58.855239",
          "status": "completed"
        },
        "tags": [],
        "id": "14d22426"
      },
      "outputs": [],
      "source": [
        "dfMerge['label'] = dfMerge['label'].map(lambda x : label2int[x])"
      ]
    },
    {
      "cell_type": "code",
      "execution_count": null,
      "id": "62d364d9",
      "metadata": {
        "execution": {
          "iopub.execute_input": "2023-04-06T04:11:58.891925Z",
          "iopub.status.busy": "2023-04-06T04:11:58.891647Z",
          "iopub.status.idle": "2023-04-06T04:11:58.929395Z",
          "shell.execute_reply": "2023-04-06T04:11:58.928193Z"
        },
        "papermill": {
          "duration": 0.049272,
          "end_time": "2023-04-06T04:11:58.931693",
          "exception": false,
          "start_time": "2023-04-06T04:11:58.882421",
          "status": "completed"
        },
        "tags": [],
        "colab": {
          "base_uri": "https://localhost:8080/"
        },
        "id": "62d364d9",
        "outputId": "067cb988-f5ad-4b73-fc02-14ea05a25ae9"
      },
      "outputs": [
        {
          "output_type": "stream",
          "name": "stdout",
          "text": [
            "X vocab: 1834\n"
          ]
        }
      ],
      "source": [
        "X, y = dfMerge['text'].values, dfMerge['label'].values\n",
        "\n",
        "x_tokenizer = Tokenizer(filters = '')\n",
        "x_tokenizer.fit_on_texts(X)\n",
        "x_vocab = len(x_tokenizer.word_index) + 1\n",
        "print(\"X vocab:\", x_vocab)"
      ]
    },
    {
      "cell_type": "markdown",
      "id": "fc27376e",
      "metadata": {
        "papermill": {
          "duration": 0.007651,
          "end_time": "2023-04-06T04:11:58.947594",
          "exception": false,
          "start_time": "2023-04-06T04:11:58.939943",
          "status": "completed"
        },
        "tags": [],
        "id": "fc27376e"
      },
      "source": [
        "## Creating the train and testing data"
      ]
    },
    {
      "cell_type": "code",
      "execution_count": null,
      "id": "066444cb",
      "metadata": {
        "execution": {
          "iopub.execute_input": "2023-04-06T04:11:58.964614Z",
          "iopub.status.busy": "2023-04-06T04:11:58.964068Z",
          "iopub.status.idle": "2023-04-06T04:11:59.111860Z",
          "shell.execute_reply": "2023-04-06T04:11:59.110761Z"
        },
        "papermill": {
          "duration": 0.158924,
          "end_time": "2023-04-06T04:11:59.114422",
          "exception": false,
          "start_time": "2023-04-06T04:11:58.955498",
          "status": "completed"
        },
        "tags": [],
        "colab": {
          "base_uri": "https://localhost:8080/"
        },
        "id": "066444cb",
        "outputId": "9f988c2c-9a09-48ae-d7a5-294cf9438019"
      },
      "outputs": [
        {
          "output_type": "execute_result",
          "data": {
            "text/plain": [
              "((5508,), (612,), (5508,), (612,))"
            ]
          },
          "metadata": {},
          "execution_count": 25
        }
      ],
      "source": [
        "from sklearn.model_selection import train_test_split\n",
        "\n",
        "train_x, val_x, train_y, val_y = train_test_split(X, y, test_size = 0.1, stratify = y)\n",
        "train_x.shape, val_x.shape, train_y.shape, val_y.shape"
      ]
    },
    {
      "cell_type": "code",
      "execution_count": null,
      "id": "9b2c5a88",
      "metadata": {
        "execution": {
          "iopub.execute_input": "2023-04-06T04:11:59.149298Z",
          "iopub.status.busy": "2023-04-06T04:11:59.147753Z",
          "iopub.status.idle": "2023-04-06T04:12:09.437535Z",
          "shell.execute_reply": "2023-04-06T04:12:09.436452Z"
        },
        "papermill": {
          "duration": 10.301704,
          "end_time": "2023-04-06T04:12:09.440605",
          "exception": false,
          "start_time": "2023-04-06T04:11:59.138901",
          "status": "completed"
        },
        "tags": [],
        "id": "9b2c5a88",
        "colab": {
          "base_uri": "https://localhost:8080/",
          "height": 145,
          "referenced_widgets": [
            "ec72d390cf5247a88d89ae881597d89c",
            "397da9b58d4b4e8c8d9901642ea0928e",
            "caa05acd6c8a4c948e30441241268b65",
            "6e9986f702ba4bfb98da20d050a96bea",
            "9c3d782ce4ca41e2b75a25c7643d9905",
            "71c30fabfc984dea836c47301bf659b9",
            "0ba71fe6669b44939356d165aff6b34b",
            "55b8bafece3f462da09e3b0a3fcadf00",
            "f90fc4dd41264ddca384f9ac2be37f14",
            "1a5cc801461c4fcdaf882a3ff05c6eff",
            "84ea54b3cbb94e01a696ed0aadfa71fd",
            "c8bfe9e6f6594a5abcbab1cc35685299",
            "dc61299d62dd400a81fcaa88029bb8d3",
            "3302861a15324447a99b2b0c2c37ed3f",
            "a06ff6fe71e14924a30ef6959dca5c32",
            "488f7d2220be461c83055bbcd7a23c86",
            "fb90833566bd479e956e53512c892e68",
            "d4c960c2e64a4c8eaf1639bc8224038e",
            "8ea1f35aef2f4afba4891734c262bfd7",
            "3f90e3e8d0e84f909fd07a1653d111a1",
            "39736a0421fe427fae2291e931880707",
            "17308515c6cc44cdaa0b88bdc0f5af59",
            "0373c54213cc4e4fb5f508622b3e83cd",
            "7c1bba262ace4895978fde446d2d110c",
            "c9c7f6b794044b53a780d43da872a162",
            "4020ee7ee69f43a298d774bd89611de7",
            "bb2a6cc8d4ab4d06b95816f3129500b9",
            "9b26374a53a6460ea323d77e8f1afd31",
            "f39eebd8003b44d4818ea6d47428a5ff",
            "152e6fd1fcd24b0d82e3a9bcdd80c633",
            "d9e64595598e4ad58a11e0c2278959d5",
            "df797aec858242089b8afc90afcd2061",
            "7d33e7878ff64f3194c9fae70b3bec3e",
            "32d972048e3f4ee1a52460902cdacb0d",
            "8fd3d500c2384f3585345b50cff7d8db",
            "0bf63c4ce021463c986b7f1899576b65",
            "15770ffe658c4cd0a1ebc6293cb82949",
            "b3b48c9636fd4646b99cf14d775e89c3",
            "116a2b2afb534a10ab5bb3c898706f7f",
            "243c1e151c3e46d1938f0bbada42171d",
            "f8d8a4d6a572450094869c35725dc594",
            "683c72726a2f4770ba3560e530b38acb",
            "d9198e90a922479daf23820f208ead7d",
            "05e50e2f6395455193914b7108e8eba2"
          ]
        },
        "outputId": "222f431d-c54a-4c3a-8135-a53417bb6221"
      },
      "outputs": [
        {
          "output_type": "display_data",
          "data": {
            "text/plain": [
              "Downloading (…)okenizer_config.json:   0%|          | 0.00/29.0 [00:00<?, ?B/s]"
            ],
            "application/vnd.jupyter.widget-view+json": {
              "version_major": 2,
              "version_minor": 0,
              "model_id": "ec72d390cf5247a88d89ae881597d89c"
            }
          },
          "metadata": {}
        },
        {
          "output_type": "display_data",
          "data": {
            "text/plain": [
              "Downloading (…)lve/main/config.json:   0%|          | 0.00/625 [00:00<?, ?B/s]"
            ],
            "application/vnd.jupyter.widget-view+json": {
              "version_major": 2,
              "version_minor": 0,
              "model_id": "c8bfe9e6f6594a5abcbab1cc35685299"
            }
          },
          "metadata": {}
        },
        {
          "output_type": "display_data",
          "data": {
            "text/plain": [
              "Downloading (…)solve/main/vocab.txt:   0%|          | 0.00/996k [00:00<?, ?B/s]"
            ],
            "application/vnd.jupyter.widget-view+json": {
              "version_major": 2,
              "version_minor": 0,
              "model_id": "0373c54213cc4e4fb5f508622b3e83cd"
            }
          },
          "metadata": {}
        },
        {
          "output_type": "display_data",
          "data": {
            "text/plain": [
              "Downloading (…)/main/tokenizer.json:   0%|          | 0.00/1.96M [00:00<?, ?B/s]"
            ],
            "application/vnd.jupyter.widget-view+json": {
              "version_major": 2,
              "version_minor": 0,
              "model_id": "32d972048e3f4ee1a52460902cdacb0d"
            }
          },
          "metadata": {}
        }
      ],
      "source": [
        "from transformers import AutoTokenizer\n",
        "BATCH_SIZE = 8\n",
        "\n",
        "tokenizer = AutoTokenizer.from_pretrained(\"bert-base-multilingual-cased\")\n",
        "train_encodings = tokenizer(list(train_x), padding=\"max_length\", truncation=True)\n",
        "val_encodings = tokenizer(list(val_x), padding=\"max_length\", truncation=True)\n",
        "\n",
        "train_dataset = tf.data.Dataset.from_tensor_slices((\n",
        "    dict(train_encodings),\n",
        "    train_y\n",
        ")).batch(BATCH_SIZE)\n",
        "\n",
        "val_dataset = tf.data.Dataset.from_tensor_slices((\n",
        "    dict(val_encodings),\n",
        "    val_y\n",
        ")).batch(BATCH_SIZE)\n"
      ]
    },
    {
      "cell_type": "code",
      "source": [
        "num_classes = 42\n",
        "\n",
        "from transformers import TFAutoModelForSequenceClassification\n",
        "\n",
        "model = TFAutoModelForSequenceClassification.from_pretrained(\n",
        "    \"bert-base-multilingual-cased\", \n",
        "    num_labels = num_classes, \n",
        "    id2label = int2label, \n",
        "    label2id = label2int,\n",
        "    output_attentions = True)\n",
        "\n",
        "model.compile(\n",
        "    loss = keras.losses.SparseCategoricalCrossentropy(from_logits=True),\n",
        "    optimizer = keras.optimizers.Adam(learning_rate = 3e-5),\n",
        "    metrics = ['accuracy'])\n",
        "\n",
        "model"
      ],
      "metadata": {
        "colab": {
          "base_uri": "https://localhost:8080/",
          "height": 156,
          "referenced_widgets": [
            "53150c9226594e8185421e5d13723857",
            "99a88762c9944fb984d6ac21325be408",
            "edc3c43936254709b1ea2a5497303b87",
            "2260957a4fd04b87884bc96f4bb8fae0",
            "16286551aeb0487299180571a09e5d77",
            "f697a94fe607456096168dea6da19f2a",
            "f30ac202be4e4ab9b5c4952a6b499d02",
            "8ce81c6075fe49d49878b72b3161dfe0",
            "50601592850447d58befdf0a20a915e4",
            "66a8d6c931994763b10960de1e147f5a",
            "5672b2ea9b7b4668968fa175398df0b0"
          ]
        },
        "id": "bp6MyJ2RFInb",
        "outputId": "22252892-90d9-4aeb-82d1-8ee5fe2c5190"
      },
      "id": "bp6MyJ2RFInb",
      "execution_count": null,
      "outputs": [
        {
          "output_type": "display_data",
          "data": {
            "text/plain": [
              "Downloading tf_model.h5:   0%|          | 0.00/1.08G [00:00<?, ?B/s]"
            ],
            "application/vnd.jupyter.widget-view+json": {
              "version_major": 2,
              "version_minor": 0,
              "model_id": "53150c9226594e8185421e5d13723857"
            }
          },
          "metadata": {}
        },
        {
          "output_type": "stream",
          "name": "stderr",
          "text": [
            "All model checkpoint layers were used when initializing TFBertForSequenceClassification.\n",
            "\n",
            "Some layers of TFBertForSequenceClassification were not initialized from the model checkpoint at bert-base-multilingual-cased and are newly initialized: ['classifier']\n",
            "You should probably TRAIN this model on a down-stream task to be able to use it for predictions and inference.\n"
          ]
        },
        {
          "output_type": "execute_result",
          "data": {
            "text/plain": [
              "<transformers.models.bert.modeling_tf_bert.TFBertForSequenceClassification at 0x7f2650239420>"
            ]
          },
          "metadata": {},
          "execution_count": 27
        }
      ]
    },
    {
      "cell_type": "code",
      "source": [
        "for layer in model.layers:\n",
        "    print(layer, layer.trainable)"
      ],
      "metadata": {
        "colab": {
          "base_uri": "https://localhost:8080/"
        },
        "id": "cUqkar8DHIno",
        "outputId": "94971289-7abf-4c05-9cd6-97c4afdb2fba"
      },
      "id": "cUqkar8DHIno",
      "execution_count": null,
      "outputs": [
        {
          "output_type": "stream",
          "name": "stdout",
          "text": [
            "<transformers.models.bert.modeling_tf_bert.TFBertMainLayer object at 0x7f26502622f0> True\n",
            "<keras.layers.regularization.dropout.Dropout object at 0x7f26501dfdf0> True\n",
            "<keras.layers.core.dense.Dense object at 0x7f2650008730> True\n"
          ]
        }
      ]
    },
    {
      "cell_type": "code",
      "source": [
        "model.summary()"
      ],
      "metadata": {
        "colab": {
          "base_uri": "https://localhost:8080/"
        },
        "id": "QCunSrpScgbb",
        "outputId": "d43bb37c-61c0-49dd-fe9e-657ca1a2e63f"
      },
      "id": "QCunSrpScgbb",
      "execution_count": null,
      "outputs": [
        {
          "output_type": "stream",
          "name": "stdout",
          "text": [
            "Model: \"tf_bert_for_sequence_classification\"\n",
            "_________________________________________________________________\n",
            " Layer (type)                Output Shape              Param #   \n",
            "=================================================================\n",
            " bert (TFBertMainLayer)      multiple                  177853440 \n",
            "                                                                 \n",
            " dropout_37 (Dropout)        multiple                  0         \n",
            "                                                                 \n",
            " classifier (Dense)          multiple                  32298     \n",
            "                                                                 \n",
            "=================================================================\n",
            "Total params: 177,885,738\n",
            "Trainable params: 177,885,738\n",
            "Non-trainable params: 0\n",
            "_________________________________________________________________\n"
          ]
        }
      ]
    },
    {
      "cell_type": "code",
      "source": [
        "EPOCHS = 10\n",
        "batch_size = 16\n",
        "\n",
        "history = model.fit(train_dataset,\n",
        "          batch_size=batch_size,\n",
        "          epochs = EPOCHS,\n",
        "          validation_data = val_dataset)"
      ],
      "metadata": {
        "colab": {
          "base_uri": "https://localhost:8080/"
        },
        "id": "_bLkSCfnlaPQ",
        "outputId": "ed88f67e-86b6-4633-c525-091f8aadf857"
      },
      "id": "_bLkSCfnlaPQ",
      "execution_count": null,
      "outputs": [
        {
          "output_type": "stream",
          "name": "stdout",
          "text": [
            "Epoch 1/10\n",
            "689/689 [==============================] - 734s 992ms/step - loss: 2.1480 - accuracy: 0.5630 - val_loss: 0.4182 - val_accuracy: 0.9657\n",
            "Epoch 2/10\n",
            "689/689 [==============================] - 667s 967ms/step - loss: 0.2605 - accuracy: 0.9699 - val_loss: 0.0663 - val_accuracy: 0.9984\n",
            "Epoch 3/10\n",
            "689/689 [==============================] - 666s 966ms/step - loss: 0.0962 - accuracy: 0.9853 - val_loss: 0.0304 - val_accuracy: 0.9967\n",
            "Epoch 4/10\n",
            "689/689 [==============================] - 682s 990ms/step - loss: 0.0345 - accuracy: 0.9966 - val_loss: 0.0196 - val_accuracy: 0.9967\n",
            "Epoch 5/10\n",
            "689/689 [==============================] - 666s 967ms/step - loss: 0.0689 - accuracy: 0.9862 - val_loss: 0.0214 - val_accuracy: 0.9967\n",
            "Epoch 6/10\n",
            "689/689 [==============================] - 666s 966ms/step - loss: 0.0324 - accuracy: 0.9933 - val_loss: 0.0164 - val_accuracy: 0.9951\n",
            "Epoch 7/10\n",
            "689/689 [==============================] - 666s 967ms/step - loss: 0.0198 - accuracy: 0.9964 - val_loss: 0.0165 - val_accuracy: 0.9935\n",
            "Epoch 8/10\n",
            "689/689 [==============================] - 667s 968ms/step - loss: 0.0179 - accuracy: 0.9962 - val_loss: 0.0418 - val_accuracy: 0.9918\n",
            "Epoch 9/10\n",
            "689/689 [==============================] - 665s 965ms/step - loss: 0.0212 - accuracy: 0.9967 - val_loss: 0.0165 - val_accuracy: 0.9918\n",
            "Epoch 10/10\n",
            "689/689 [==============================] - 681s 988ms/step - loss: 0.0372 - accuracy: 0.9902 - val_loss: 0.0752 - val_accuracy: 0.9771\n"
          ]
        }
      ]
    },
    {
      "cell_type": "code",
      "source": [
        "model.evaluate(val_dataset, batch_size=batch_size)"
      ],
      "metadata": {
        "id": "TfPg4pcAligZ",
        "colab": {
          "base_uri": "https://localhost:8080/"
        },
        "outputId": "d36657bf-817d-4296-db7e-fad4312ab534"
      },
      "id": "TfPg4pcAligZ",
      "execution_count": null,
      "outputs": [
        {
          "output_type": "stream",
          "name": "stdout",
          "text": [
            "77/77 [==============================] - 26s 334ms/step - loss: 0.0214 - accuracy: 0.9935\n"
          ]
        },
        {
          "output_type": "execute_result",
          "data": {
            "text/plain": [
              "[0.021361080929636955, 0.9934640526771545]"
            ]
          },
          "metadata": {},
          "execution_count": 46
        }
      ]
    },
    {
      "cell_type": "markdown",
      "id": "5328a41d",
      "metadata": {
        "papermill": {
          "duration": 0.03055,
          "end_time": "2023-04-06T04:17:18.039325",
          "exception": false,
          "start_time": "2023-04-06T04:17:18.008775",
          "status": "completed"
        },
        "tags": [],
        "id": "5328a41d"
      },
      "source": [
        "## Plotting the loss and accuracy plot."
      ]
    },
    {
      "cell_type": "code",
      "source": [
        "plt.figure(figsize = (14, 5))\n",
        "\n",
        "plt.subplot(1,2,1)\n",
        "plt.title('Loss')\n",
        "plt.plot(history.history['loss'], marker = 'o', label = 'Training')\n",
        "plt.plot(history.history['val_loss'], marker='o', label = 'Validation')\n",
        "plt.legend()\n",
        "\n",
        "plt.subplot(1,2,2)\n",
        "plt.title('Accuracy')\n",
        "plt.plot(history.history['accuracy'], marker = 'o', label = 'Training')\n",
        "plt.plot(history.history['val_accuracy'], marker='o', label = 'Validation')\n",
        "plt.legend()"
      ],
      "metadata": {
        "id": "KCBRqrCyljwy",
        "colab": {
          "base_uri": "https://localhost:8080/",
          "height": 367
        },
        "outputId": "5579dd41-3b64-4b8a-ad6e-56562ae202b0"
      },
      "id": "KCBRqrCyljwy",
      "execution_count": null,
      "outputs": [
        {
          "output_type": "execute_result",
          "data": {
            "text/plain": [
              "<matplotlib.legend.Legend at 0x7f27111de530>"
            ]
          },
          "metadata": {},
          "execution_count": 32
        },
        {
          "output_type": "display_data",
          "data": {
            "text/plain": [
              "<Figure size 1400x500 with 2 Axes>"
            ],
            "image/png": "[encoded data removed]"
          },
          "metadata": {}
        }
      ]
    },
    {
      "cell_type": "markdown",
      "id": "9aeffcca",
      "metadata": {
        "papermill": {
          "duration": 0.031776,
          "end_time": "2023-04-06T04:17:18.612882",
          "exception": false,
          "start_time": "2023-04-06T04:17:18.581106",
          "status": "completed"
        },
        "tags": [],
        "id": "9aeffcca"
      },
      "source": [
        "## Testing the model on custom input."
      ]
    },
    {
      "cell_type": "code",
      "source": [
        "path = \"./model_merge_bert_multilungual_v4-2\"\n",
        "path2 = \"./tokenizer_merge_bert_multilungual_v4-2\"\n",
        "model.save_pretrained(path)\n",
        "tokenizer.save_pretrained(path2)"
      ],
      "metadata": {
        "id": "PboIOFheckzA",
        "colab": {
          "base_uri": "https://localhost:8080/"
        },
        "outputId": "8297676e-80f7-447f-dfa5-706de438c520"
      },
      "id": "PboIOFheckzA",
      "execution_count": null,
      "outputs": [
        {
          "output_type": "execute_result",
          "data": {
            "text/plain": [
              "('./tokenizer_merge_bert_multilungual_v4-2/tokenizer_config.json',\n",
              " './tokenizer_merge_bert_multilungual_v4-2/special_tokens_map.json',\n",
              " './tokenizer_merge_bert_multilungual_v4-2/vocab.txt',\n",
              " './tokenizer_merge_bert_multilungual_v4-2/added_tokens.json',\n",
              " './tokenizer_merge_bert_multilungual_v4-2/tokenizer.json')"
            ]
          },
          "metadata": {},
          "execution_count": 47
        }
      ]
    },
    {
      "cell_type": "code",
      "source": [
        "!zip -r model_merge_bert_multilungual_v4-2.zip \"/content/model_merge_bert_multilungual_v4-2\""
      ],
      "metadata": {
        "id": "ac4zctPhf4DI",
        "colab": {
          "base_uri": "https://localhost:8080/"
        },
        "outputId": "c07dfe86-d455-44be-f6fa-1b813d232cdc"
      },
      "id": "ac4zctPhf4DI",
      "execution_count": null,
      "outputs": [
        {
          "output_type": "stream",
          "name": "stdout",
          "text": [
            "  adding: content/model_merge_bert_multilungual_v4-2/ (stored 0%)\n",
            "  adding: content/model_merge_bert_multilungual_v4-2/config.json (deflated 63%)\n",
            "  adding: content/model_merge_bert_multilungual_v4-2/tf_model.h5 (deflated 7%)\n"
          ]
        }
      ]
    },
    {
      "cell_type": "code",
      "source": [
        "!zip -r tokenizer_merge_bert_multilungual_v4-2.zip \"/content/tokenizer_merge_bert_multilungual_v4-2\""
      ],
      "metadata": {
        "id": "Bj48aO-Pf6SO",
        "colab": {
          "base_uri": "https://localhost:8080/"
        },
        "outputId": "00de7a25-020f-4691-b6a1-f9bbbc662236"
      },
      "id": "Bj48aO-Pf6SO",
      "execution_count": null,
      "outputs": [
        {
          "output_type": "stream",
          "name": "stdout",
          "text": [
            "  adding: content/tokenizer_merge_bert_multilungual_v4-2/ (stored 0%)\n",
            "  adding: content/tokenizer_merge_bert_multilungual_v4-2/tokenizer_config.json (deflated 42%)\n",
            "  adding: content/tokenizer_merge_bert_multilungual_v4-2/special_tokens_map.json (deflated 42%)\n",
            "  adding: content/tokenizer_merge_bert_multilungual_v4-2/vocab.txt (deflated 45%)\n",
            "  adding: content/tokenizer_merge_bert_multilungual_v4-2/tokenizer.json (deflated 67%)\n"
          ]
        }
      ]
    },
    {
      "cell_type": "code",
      "source": [
        "from transformers import BertTokenizer, BertForSequenceClassification, BertModel"
      ],
      "metadata": {
        "id": "C1iPeGAzgPai"
      },
      "id": "C1iPeGAzgPai",
      "execution_count": null,
      "outputs": []
    },
    {
      "cell_type": "code",
      "source": [
        "tokenizerlocal = BertTokenizer.from_pretrained(\"./tokenizer_merge_bert_multilungual_v4-2\", local_files_only=True)"
      ],
      "metadata": {
        "id": "C2Sa_I2MhDZL"
      },
      "id": "C2Sa_I2MhDZL",
      "execution_count": null,
      "outputs": []
    },
    {
      "cell_type": "code",
      "source": [
        "modellocal = BertForSequenceClassification.from_pretrained(\"./model_merge_bert_multilungual_v4-2\", from_tf=True)"
      ],
      "metadata": {
        "id": "L90Wy3bjhcbv",
        "colab": {
          "base_uri": "https://localhost:8080/"
        },
        "outputId": "94b40f6b-ae76-435f-a40d-f803cd2474dd"
      },
      "id": "L90Wy3bjhcbv",
      "execution_count": null,
      "outputs": [
        {
          "output_type": "stream",
          "name": "stderr",
          "text": [
            "All TF 2.0 model weights were used when initializing BertForSequenceClassification.\n",
            "\n",
            "All the weights of BertForSequenceClassification were initialized from the TF 2.0 model.\n",
            "If your task is similar to the task the model of the checkpoint was trained on, you can already use BertForSequenceClassification for predictions without further training.\n"
          ]
        }
      ]
    },
    {
      "cell_type": "code",
      "execution_count": null,
      "id": "9745ec82",
      "metadata": {
        "execution": {
          "iopub.execute_input": "2023-04-06T04:17:18.686291Z",
          "iopub.status.busy": "2023-04-06T04:17:18.685270Z",
          "iopub.status.idle": "2023-04-06T04:17:21.110169Z",
          "shell.execute_reply": "2023-04-06T04:17:21.108878Z"
        },
        "papermill": {
          "duration": 2.46847,
          "end_time": "2023-04-06T04:17:21.112972",
          "exception": false,
          "start_time": "2023-04-06T04:17:18.644502",
          "status": "completed"
        },
        "tags": [],
        "id": "9745ec82",
        "colab": {
          "base_uri": "https://localhost:8080/"
        },
        "outputId": "21e88386-2f42-42ea-c2da-86b965ec51b8"
      },
      "outputs": [
        {
          "output_type": "stream",
          "name": "stdout",
          "text": [
            "[{'label': 'Diabetes', 'score': 0.9963968396186829}, {'label': 'Migrain', 'score': 0.001066646771505475}]\n",
            "[{'label': 'Penyakit Tipus', 'score': 0.9984679818153381}, {'label': 'Cacar Air', 'score': 0.00037161141517572105}]\n",
            "[{'label': 'Penyakit Kuning', 'score': 0.9987961053848267}, {'label': 'Hepatitis B', 'score': 0.00024115685664582998}]\n"
          ]
        }
      ],
      "source": [
        "from transformers import TextClassificationPipeline\n",
        "\n",
        "pipe = TextClassificationPipeline(model=modellocal, tokenizer=tokenizerlocal, top_k = 24)\n",
        "\n",
        "text1 = str(\" Penglihatan saya berkabut, dan tampaknya semakin memburuk. Saya merasa lelah dan lelah sepanjang waktu. Saya juga sering mengalami pusing parah dan pusing.\").lower()\n",
        "text2 = str(\"Saya mengalami sembelit dan sakit perut, dan itu sangat tidak nyaman. Sakit perut semakin parah dan mulai mempengaruhi kehidupan sehari-hari saya. Apalagi setiap malam saya menggigil, diikuti demam ringan.\").lower()\n",
        "text3 = str(\" saya merasa sangat gatal, sakit, dan lelah. selain itu, berat badan saya turun dan suhu tubuh saya naik. urine saya berwarna gelap, dan kulit saya menjadi kuning. selain itu, saya juga mengalami sakit perut.\").lower()\n",
        "\n",
        "pred1 = pipe(text1)\n",
        "pred2 = pipe(text2)\n",
        "pred3 = pipe(text3)\n",
        "\n",
        "print(pred1[0][:2])\n",
        "print(pred2[0][:2])\n",
        "print(pred3[0][:2])"
      ]
    },
    {
      "cell_type": "code",
      "source": [
        "factory = StopWordRemoverFactory()\n",
        "addStopwords = ['dengan', 'ia', 'bahwa', 'oleh', 'saya']\n",
        "removeStopwords = ['namun', 'tidak', 'setelah', 'masih', 'dengan', \"merasakan\", \"adanya\", \"ada\"]\n",
        "stopWords = factory.get_stop_words()+addStopwords\n",
        "\n",
        "for removeStopword in removeStopwords:\n",
        "    if removeStopword in stopWords:\n",
        "        stopWords.remove(removeStopword)\n",
        "    else:\n",
        "        continue\n",
        "\n",
        "dictionaryWord = ArrayDictionary(stopWords)\n",
        "stopWordRemover = StopWordRemover(dictionaryWord)\n",
        "\n",
        "def preprocessing_user_input(text):\n",
        "    global stopWordRemover\n",
        "\n",
        "    text = re.sub('  +', ' ', text)\n",
        "    text = re.sub(r'[^\\x00-\\x7f]','r', text)\n",
        "    text = text.encode('ascii', 'ignore').decode('utf-8')\n",
        "    text = ''.join(''.join(s)[:1] for _, s in itertools.groupby(text))\n",
        "    text = text.lower()\n",
        "    text = stopWordRemover.remove(text)\n",
        "\n",
        "    return text"
      ],
      "metadata": {
        "id": "lfzqE4dCBnUp"
      },
      "id": "lfzqE4dCBnUp",
      "execution_count": null,
      "outputs": []
    },
    {
      "cell_type": "code",
      "source": [
        "%%time\n",
        "text1 = str(\" Penglihatan saya berkabut, dan tampaknya semakin memburuk. Saya merasa lelah dan lelah sepanjang waktu. Saya juga sering mengalami pusing parah dan pusing.\").lower()\n",
        "text2 = str(\"Saya mengalami sembelit dan sakit perut, dan itu sangat tidak nyaman. Sakit perut semakin parah dan mulai mempengaruhi kehidupan sehari-hari saya. Apalagi setiap malam saya menggigil, diikuti demam ringan.\").lower()\n",
        "text3 = str(\" saya merasa sangat gatal, sakit, dan lelah. selain itu, berat badan saya turun dan suhu tubuh saya naik. urine saya berwarna gelap, dan kulit saya menjadi kuning. selain itu, saya juga mengalami sakit perut.\").lower()\n",
        "\n",
        "pred1 = pipe(text1)\n",
        "pred2 = pipe(text2)\n",
        "pred3 = pipe(text3)\n",
        "\n",
        "print(pred1[0][:2])\n",
        "print(pred2[0][:2])\n",
        "print(pred3[0][:2])"
      ],
      "metadata": {
        "colab": {
          "base_uri": "https://localhost:8080/"
        },
        "id": "JIxN1FysBVL4",
        "outputId": "db09fc49-e54e-44a5-a66c-a42c1307e614"
      },
      "id": "JIxN1FysBVL4",
      "execution_count": null,
      "outputs": [
        {
          "output_type": "stream",
          "name": "stdout",
          "text": [
            "[{'label': 'Diabetes', 'score': 0.9963968396186829}, {'label': 'Migrain', 'score': 0.001066646771505475}]\n",
            "[{'label': 'Penyakit Tipus', 'score': 0.9984679818153381}, {'label': 'Cacar Air', 'score': 0.00037161141517572105}]\n",
            "[{'label': 'Penyakit Kuning', 'score': 0.9987961053848267}, {'label': 'Hepatitis B', 'score': 0.00024115685664582998}]\n",
            "CPU times: user 784 ms, sys: 0 ns, total: 784 ms\n",
            "Wall time: 812 ms\n"
          ]
        }
      ]
    },
    {
      "cell_type": "code",
      "source": [
        "%%time\n",
        "text1 = \" Penglihatan saya berkabut, dan tampaknya semakin memburuk. Saya merasa lelah dan lelah sepanjang waktu. Saya juga sering mengalami pusing parah dan pusing.\"\n",
        "text2 = \"Saya mengalami sembelit dan sakit perut, dan itu sangat tidak nyaman. Sakit perut semakin parah dan mulai mempengaruhi kehidupan sehari-hari saya. Apalagi setiap malam saya menggigil, diikuti demam ringan.\"\n",
        "text3 = \" saya merasa sangat gatal, sakit, dan lelah. selain itu, berat badan saya turun dan suhu tubuh saya naik. urine saya berwarna gelap, dan kulit saya menjadi kuning. selain itu, saya juga mengalami sakit perut.\"\n",
        "\n",
        "pred1 = pipe(preprocessing_user_input(text1))\n",
        "pred2 = pipe(preprocessing_user_input(text2))\n",
        "pred3 = pipe(preprocessing_user_input(text3))\n",
        "\n",
        "print(pred1[0][:2])\n",
        "print(pred2[0][:2])\n",
        "print(pred3[0][:2])"
      ],
      "metadata": {
        "colab": {
          "base_uri": "https://localhost:8080/"
        },
        "id": "Q6aVBELEByNb",
        "outputId": "81b71acb-9b49-4085-b386-a3094e2803cc"
      },
      "id": "Q6aVBELEByNb",
      "execution_count": null,
      "outputs": [
        {
          "output_type": "stream",
          "name": "stdout",
          "text": [
            "[{'label': 'Diabetes', 'score': 0.9989564418792725}, {'label': 'Migrain', 'score': 0.00019830519158858806}]\n",
            "[{'label': 'Penyakit Tipus', 'score': 0.9988058805465698}, {'label': 'Cacar Air', 'score': 0.00024589430540800095}]\n",
            "[{'label': 'Penyakit Kuning', 'score': 0.9989773035049438}, {'label': 'Hepatitis B', 'score': 0.00020883929391857237}]\n",
            "CPU times: user 698 ms, sys: 0 ns, total: 698 ms\n",
            "Wall time: 722 ms\n"
          ]
        }
      ]
    },
    {
      "cell_type": "code",
      "source": [
        "!ls -lh tokenizer_merge_bert_multilungual_v4-2.zip model_merge_bert_multilungual_v4-2.zip"
      ],
      "metadata": {
        "id": "AiGQglT9jWzA",
        "colab": {
          "base_uri": "https://localhost:8080/"
        },
        "outputId": "886a80a7-7c85-4938-bbb7-60e8de311d1b"
      },
      "id": "AiGQglT9jWzA",
      "execution_count": null,
      "outputs": [
        {
          "output_type": "stream",
          "name": "stdout",
          "text": [
            "-rw-r--r-- 1 root root 630M Jun  3 20:48 model_merge_bert_multilungual_v4-2.zip\n",
            "-rw-r--r-- 1 root root 1.5M Jun  3 20:48 tokenizer_merge_bert_multilungual_v4-2.zip\n"
          ]
        }
      ]
    },
    {
      "cell_type": "code",
      "source": [
        "from google.colab import drive\n",
        "drive.mount('/content/drive')"
      ],
      "metadata": {
        "id": "teG4LiSzhOe6",
        "colab": {
          "base_uri": "https://localhost:8080/"
        },
        "outputId": "e258be49-1b63-4930-c514-615abaa7267e"
      },
      "id": "teG4LiSzhOe6",
      "execution_count": null,
      "outputs": [
        {
          "output_type": "stream",
          "name": "stdout",
          "text": [
            "Mounted at /content/drive\n"
          ]
        }
      ]
    },
    {
      "cell_type": "code",
      "source": [
        "!cp -r tokenizer_merge_bert_multilungual_v4-2.zip \"/content/drive/My Drive/Save Model Capstone/\""
      ],
      "metadata": {
        "id": "1B6DKfyljG91"
      },
      "id": "1B6DKfyljG91",
      "execution_count": null,
      "outputs": []
    },
    {
      "cell_type": "code",
      "source": [
        "!cp -r model_merge_bert_multilungual_v4-2.zip \"/content/drive/My Drive/Save Model Capstone/\""
      ],
      "metadata": {
        "id": "5QIPzwAxhPny"
      },
      "id": "5QIPzwAxhPny",
      "execution_count": null,
      "outputs": []
    },
    {
      "cell_type": "code",
      "source": [
        "dfMerge.to_csv('data_merge_nlp-csv_clean_v4.csv', index = False, header = True, index_label = None)\n",
        "!cp -r data_merge_nlp-csv_clean_v4.csv \"/content/drive/My Drive/Save Model Capstone/\""
      ],
      "metadata": {
        "id": "ya280v9XALw9"
      },
      "id": "ya280v9XALw9",
      "execution_count": null,
      "outputs": []
    }
  ],
  "metadata": {
    "kernelspec": {
      "display_name": "Python 3",
      "name": "python3"
    },
    "language_info": {
      "codemirror_mode": {
        "name": "ipython",
        "version": 3
      },
      "file_extension": ".py",
      "mimetype": "text/x-python",
      "name": "python",
      "nbconvert_exporter": "python",
      "pygments_lexer": "ipython3",
      "version": "3.8.8"
    },
    "papermill": {
      "default_parameters": {},
      "duration": 352.818072,
      "end_time": "2023-04-06T04:17:24.927541",
      "environment_variables": {},
      "exception": null,
      "input_path": "__notebook__.ipynb",
      "output_path": "__notebook__.ipynb",
      "parameters": {},
      "start_time": "2023-04-06T04:11:32.109469",
      "version": "2.4.0"
    },
    "widgets": {
      "application/vnd.jupyter.widget-state+json": {
        "8a57083a87df436f889f1c6abe660c33": {
          "model_module": "@jupyter-widgets/controls",
          "model_name": "HBoxModel",
          "model_module_version": "1.5.0",
          "state": {
            "_dom_classes": [],
            "_model_module": "@jupyter-widgets/controls",
            "_model_module_version": "1.5.0",
            "_model_name": "HBoxModel",
            "_view_count": null,
            "_view_module": "@jupyter-widgets/controls",
            "_view_module_version": "1.5.0",
            "_view_name": "HBoxView",
            "box_style": "",
            "children": [
              "IPY_MODEL_bde31b5f375f4151837e2f3b0c1363db",
              "IPY_MODEL_5285299e50484d82a4cbf48c6f3c3341",
              "IPY_MODEL_514afafa4b554812915ea0b8a2d5de26"
            ],
            "layout": "IPY_MODEL_4e80acff154e48b185402e7fbc4af5a6"
          }
        },
        "bde31b5f375f4151837e2f3b0c1363db": {
          "model_module": "@jupyter-widgets/controls",
          "model_name": "HTMLModel",
          "model_module_version": "1.5.0",
          "state": {
            "_dom_classes": [],
            "_model_module": "@jupyter-widgets/controls",
            "_model_module_version": "1.5.0",
            "_model_name": "HTMLModel",
            "_view_count": null,
            "_view_module": "@jupyter-widgets/controls",
            "_view_module_version": "1.5.0",
            "_view_name": "HTMLView",
            "description": "",
            "description_tooltip": null,
            "layout": "IPY_MODEL_1367d297dc4a4641b2a53da1edf7ab95",
            "placeholder": "​",
            "style": "IPY_MODEL_aeb81d1308e14bc99f5ae00f2ae7c2dd",
            "value": "100%"
          }
        },
        "5285299e50484d82a4cbf48c6f3c3341": {
          "model_module": "@jupyter-widgets/controls",
          "model_name": "FloatProgressModel",
          "model_module_version": "1.5.0",
          "state": {
            "_dom_classes": [],
            "_model_module": "@jupyter-widgets/controls",
            "_model_module_version": "1.5.0",
            "_model_name": "FloatProgressModel",
            "_view_count": null,
            "_view_module": "@jupyter-widgets/controls",
            "_view_module_version": "1.5.0",
            "_view_name": "ProgressView",
            "bar_style": "success",
            "description": "",
            "description_tooltip": null,
            "layout": "IPY_MODEL_4958233993764718918d856977d66c87",
            "max": 6120,
            "min": 0,
            "orientation": "horizontal",
            "style": "IPY_MODEL_583865f51aee4eb090495205e1be5086",
            "value": 6120
          }
        },
        "514afafa4b554812915ea0b8a2d5de26": {
          "model_module": "@jupyter-widgets/controls",
          "model_name": "HTMLModel",
          "model_module_version": "1.5.0",
          "state": {
            "_dom_classes": [],
            "_model_module": "@jupyter-widgets/controls",
            "_model_module_version": "1.5.0",
            "_model_name": "HTMLModel",
            "_view_count": null,
            "_view_module": "@jupyter-widgets/controls",
            "_view_module_version": "1.5.0",
            "_view_name": "HTMLView",
            "description": "",
            "description_tooltip": null,
            "layout": "IPY_MODEL_35ee6196166d4a728ee799ce41b3df5c",
            "placeholder": "​",
            "style": "IPY_MODEL_0fb3403ecb1b425da6e88c70db2c26a3",
            "value": " 6120/6120 [00:00&lt;00:00, 123971.97it/s]"
          }
        },
        "4e80acff154e48b185402e7fbc4af5a6": {
          "model_module": "@jupyter-widgets/base",
          "model_name": "LayoutModel",
          "model_module_version": "1.2.0",
          "state": {
            "_model_module": "@jupyter-widgets/base",
            "_model_module_version": "1.2.0",
            "_model_name": "LayoutModel",
            "_view_count": null,
            "_view_module": "@jupyter-widgets/base",
            "_view_module_version": "1.2.0",
            "_view_name": "LayoutView",
            "align_content": null,
            "align_items": null,
            "align_self": null,
            "border": null,
            "bottom": null,
            "display": null,
            "flex": null,
            "flex_flow": null,
            "grid_area": null,
            "grid_auto_columns": null,
            "grid_auto_flow": null,
            "grid_auto_rows": null,
            "grid_column": null,
            "grid_gap": null,
            "grid_row": null,
            "grid_template_areas": null,
            "grid_template_columns": null,
            "grid_template_rows": null,
            "height": null,
            "justify_content": null,
            "justify_items": null,
            "left": null,
            "margin": null,
            "max_height": null,
            "max_width": null,
            "min_height": null,
            "min_width": null,
            "object_fit": null,
            "object_position": null,
            "order": null,
            "overflow": null,
            "overflow_x": null,
            "overflow_y": null,
            "padding": null,
            "right": null,
            "top": null,
            "visibility": null,
            "width": null
          }
        },
        "1367d297dc4a4641b2a53da1edf7ab95": {
          "model_module": "@jupyter-widgets/base",
          "model_name": "LayoutModel",
          "model_module_version": "1.2.0",
          "state": {
            "_model_module": "@jupyter-widgets/base",
            "_model_module_version": "1.2.0",
            "_model_name": "LayoutModel",
            "_view_count": null,
            "_view_module": "@jupyter-widgets/base",
            "_view_module_version": "1.2.0",
            "_view_name": "LayoutView",
            "align_content": null,
            "align_items": null,
            "align_self": null,
            "border": null,
            "bottom": null,
            "display": null,
            "flex": null,
            "flex_flow": null,
            "grid_area": null,
            "grid_auto_columns": null,
            "grid_auto_flow": null,
            "grid_auto_rows": null,
            "grid_column": null,
            "grid_gap": null,
            "grid_row": null,
            "grid_template_areas": null,
            "grid_template_columns": null,
            "grid_template_rows": null,
            "height": null,
            "justify_content": null,
            "justify_items": null,
            "left": null,
            "margin": null,
            "max_height": null,
            "max_width": null,
            "min_height": null,
            "min_width": null,
            "object_fit": null,
            "object_position": null,
            "order": null,
            "overflow": null,
            "overflow_x": null,
            "overflow_y": null,
            "padding": null,
            "right": null,
            "top": null,
            "visibility": null,
            "width": null
          }
        },
        "aeb81d1308e14bc99f5ae00f2ae7c2dd": {
          "model_module": "@jupyter-widgets/controls",
          "model_name": "DescriptionStyleModel",
          "model_module_version": "1.5.0",
          "state": {
            "_model_module": "@jupyter-widgets/controls",
            "_model_module_version": "1.5.0",
            "_model_name": "DescriptionStyleModel",
            "_view_count": null,
            "_view_module": "@jupyter-widgets/base",
            "_view_module_version": "1.2.0",
            "_view_name": "StyleView",
            "description_width": ""
          }
        },
        "4958233993764718918d856977d66c87": {
          "model_module": "@jupyter-widgets/base",
          "model_name": "LayoutModel",
          "model_module_version": "1.2.0",
          "state": {
            "_model_module": "@jupyter-widgets/base",
            "_model_module_version": "1.2.0",
            "_model_name": "LayoutModel",
            "_view_count": null,
            "_view_module": "@jupyter-widgets/base",
            "_view_module_version": "1.2.0",
            "_view_name": "LayoutView",
            "align_content": null,
            "align_items": null,
            "align_self": null,
            "border": null,
            "bottom": null,
            "display": null,
            "flex": null,
            "flex_flow": null,
            "grid_area": null,
            "grid_auto_columns": null,
            "grid_auto_flow": null,
            "grid_auto_rows": null,
            "grid_column": null,
            "grid_gap": null,
            "grid_row": null,
            "grid_template_areas": null,
            "grid_template_columns": null,
            "grid_template_rows": null,
            "height": null,
            "justify_content": null,
            "justify_items": null,
            "left": null,
            "margin": null,
            "max_height": null,
            "max_width": null,
            "min_height": null,
            "min_width": null,
            "object_fit": null,
            "object_position": null,
            "order": null,
            "overflow": null,
            "overflow_x": null,
            "overflow_y": null,
            "padding": null,
            "right": null,
            "top": null,
            "visibility": null,
            "width": null
          }
        },
        "583865f51aee4eb090495205e1be5086": {
          "model_module": "@jupyter-widgets/controls",
          "model_name": "ProgressStyleModel",
          "model_module_version": "1.5.0",
          "state": {
            "_model_module": "@jupyter-widgets/controls",
            "_model_module_version": "1.5.0",
            "_model_name": "ProgressStyleModel",
            "_view_count": null,
            "_view_module": "@jupyter-widgets/base",
            "_view_module_version": "1.2.0",
            "_view_name": "StyleView",
            "bar_color": null,
            "description_width": ""
          }
        },
        "35ee6196166d4a728ee799ce41b3df5c": {
          "model_module": "@jupyter-widgets/base",
          "model_name": "LayoutModel",
          "model_module_version": "1.2.0",
          "state": {
            "_model_module": "@jupyter-widgets/base",
            "_model_module_version": "1.2.0",
            "_model_name": "LayoutModel",
            "_view_count": null,
            "_view_module": "@jupyter-widgets/base",
            "_view_module_version": "1.2.0",
            "_view_name": "LayoutView",
            "align_content": null,
            "align_items": null,
            "align_self": null,
            "border": null,
            "bottom": null,
            "display": null,
            "flex": null,
            "flex_flow": null,
            "grid_area": null,
            "grid_auto_columns": null,
            "grid_auto_flow": null,
            "grid_auto_rows": null,
            "grid_column": null,
            "grid_gap": null,
            "grid_row": null,
            "grid_template_areas": null,
            "grid_template_columns": null,
            "grid_template_rows": null,
            "height": null,
            "justify_content": null,
            "justify_items": null,
            "left": null,
            "margin": null,
            "max_height": null,
            "max_width": null,
            "min_height": null,
            "min_width": null,
            "object_fit": null,
            "object_position": null,
            "order": null,
            "overflow": null,
            "overflow_x": null,
            "overflow_y": null,
            "padding": null,
            "right": null,
            "top": null,
            "visibility": null,
            "width": null
          }
        },
        "0fb3403ecb1b425da6e88c70db2c26a3": {
          "model_module": "@jupyter-widgets/controls",
          "model_name": "DescriptionStyleModel",
          "model_module_version": "1.5.0",
          "state": {
            "_model_module": "@jupyter-widgets/controls",
            "_model_module_version": "1.5.0",
            "_model_name": "DescriptionStyleModel",
            "_view_count": null,
            "_view_module": "@jupyter-widgets/base",
            "_view_module_version": "1.2.0",
            "_view_name": "StyleView",
            "description_width": ""
          }
        },
        "ec72d390cf5247a88d89ae881597d89c": {
          "model_module": "@jupyter-widgets/controls",
          "model_name": "HBoxModel",
          "model_module_version": "1.5.0",
          "state": {
            "_dom_classes": [],
            "_model_module": "@jupyter-widgets/controls",
            "_model_module_version": "1.5.0",
            "_model_name": "HBoxModel",
            "_view_count": null,
            "_view_module": "@jupyter-widgets/controls",
            "_view_module_version": "1.5.0",
            "_view_name": "HBoxView",
            "box_style": "",
            "children": [
              "IPY_MODEL_397da9b58d4b4e8c8d9901642ea0928e",
              "IPY_MODEL_caa05acd6c8a4c948e30441241268b65",
              "IPY_MODEL_6e9986f702ba4bfb98da20d050a96bea"
            ],
            "layout": "IPY_MODEL_9c3d782ce4ca41e2b75a25c7643d9905"
          }
        },
        "397da9b58d4b4e8c8d9901642ea0928e": {
          "model_module": "@jupyter-widgets/controls",
          "model_name": "HTMLModel",
          "model_module_version": "1.5.0",
          "state": {
            "_dom_classes": [],
            "_model_module": "@jupyter-widgets/controls",
            "_model_module_version": "1.5.0",
            "_model_name": "HTMLModel",
            "_view_count": null,
            "_view_module": "@jupyter-widgets/controls",
            "_view_module_version": "1.5.0",
            "_view_name": "HTMLView",
            "description": "",
            "description_tooltip": null,
            "layout": "IPY_MODEL_71c30fabfc984dea836c47301bf659b9",
            "placeholder": "​",
            "style": "IPY_MODEL_0ba71fe6669b44939356d165aff6b34b",
            "value": "Downloading (…)okenizer_config.json: 100%"
          }
        },
        "caa05acd6c8a4c948e30441241268b65": {
          "model_module": "@jupyter-widgets/controls",
          "model_name": "FloatProgressModel",
          "model_module_version": "1.5.0",
          "state": {
            "_dom_classes": [],
            "_model_module": "@jupyter-widgets/controls",
            "_model_module_version": "1.5.0",
            "_model_name": "FloatProgressModel",
            "_view_count": null,
            "_view_module": "@jupyter-widgets/controls",
            "_view_module_version": "1.5.0",
            "_view_name": "ProgressView",
            "bar_style": "success",
            "description": "",
            "description_tooltip": null,
            "layout": "IPY_MODEL_55b8bafece3f462da09e3b0a3fcadf00",
            "max": 29,
            "min": 0,
            "orientation": "horizontal",
            "style": "IPY_MODEL_f90fc4dd41264ddca384f9ac2be37f14",
            "value": 29
          }
        },
        "6e9986f702ba4bfb98da20d050a96bea": {
          "model_module": "@jupyter-widgets/controls",
          "model_name": "HTMLModel",
          "model_module_version": "1.5.0",
          "state": {
            "_dom_classes": [],
            "_model_module": "@jupyter-widgets/controls",
            "_model_module_version": "1.5.0",
            "_model_name": "HTMLModel",
            "_view_count": null,
            "_view_module": "@jupyter-widgets/controls",
            "_view_module_version": "1.5.0",
            "_view_name": "HTMLView",
            "description": "",
            "description_tooltip": null,
            "layout": "IPY_MODEL_1a5cc801461c4fcdaf882a3ff05c6eff",
            "placeholder": "​",
            "style": "IPY_MODEL_84ea54b3cbb94e01a696ed0aadfa71fd",
            "value": " 29.0/29.0 [00:00&lt;00:00, 2.24kB/s]"
          }
        },
        "9c3d782ce4ca41e2b75a25c7643d9905": {
          "model_module": "@jupyter-widgets/base",
          "model_name": "LayoutModel",
          "model_module_version": "1.2.0",
          "state": {
            "_model_module": "@jupyter-widgets/base",
            "_model_module_version": "1.2.0",
            "_model_name": "LayoutModel",
            "_view_count": null,
            "_view_module": "@jupyter-widgets/base",
            "_view_module_version": "1.2.0",
            "_view_name": "LayoutView",
            "align_content": null,
            "align_items": null,
            "align_self": null,
            "border": null,
            "bottom": null,
            "display": null,
            "flex": null,
            "flex_flow": null,
            "grid_area": null,
            "grid_auto_columns": null,
            "grid_auto_flow": null,
            "grid_auto_rows": null,
            "grid_column": null,
            "grid_gap": null,
            "grid_row": null,
            "grid_template_areas": null,
            "grid_template_columns": null,
            "grid_template_rows": null,
            "height": null,
            "justify_content": null,
            "justify_items": null,
            "left": null,
            "margin": null,
            "max_height": null,
            "max_width": null,
            "min_height": null,
            "min_width": null,
            "object_fit": null,
            "object_position": null,
            "order": null,
            "overflow": null,
            "overflow_x": null,
            "overflow_y": null,
            "padding": null,
            "right": null,
            "top": null,
            "visibility": null,
            "width": null
          }
        },
        "71c30fabfc984dea836c47301bf659b9": {
          "model_module": "@jupyter-widgets/base",
          "model_name": "LayoutModel",
          "model_module_version": "1.2.0",
          "state": {
            "_model_module": "@jupyter-widgets/base",
            "_model_module_version": "1.2.0",
            "_model_name": "LayoutModel",
            "_view_count": null,
            "_view_module": "@jupyter-widgets/base",
            "_view_module_version": "1.2.0",
            "_view_name": "LayoutView",
            "align_content": null,
            "align_items": null,
            "align_self": null,
            "border": null,
            "bottom": null,
            "display": null,
            "flex": null,
            "flex_flow": null,
            "grid_area": null,
            "grid_auto_columns": null,
            "grid_auto_flow": null,
            "grid_auto_rows": null,
            "grid_column": null,
            "grid_gap": null,
            "grid_row": null,
            "grid_template_areas": null,
            "grid_template_columns": null,
            "grid_template_rows": null,
            "height": null,
            "justify_content": null,
            "justify_items": null,
            "left": null,
            "margin": null,
            "max_height": null,
            "max_width": null,
            "min_height": null,
            "min_width": null,
            "object_fit": null,
            "object_position": null,
            "order": null,
            "overflow": null,
            "overflow_x": null,
            "overflow_y": null,
            "padding": null,
            "right": null,
            "top": null,
            "visibility": null,
            "width": null
          }
        },
        "0ba71fe6669b44939356d165aff6b34b": {
          "model_module": "@jupyter-widgets/controls",
          "model_name": "DescriptionStyleModel",
          "model_module_version": "1.5.0",
          "state": {
            "_model_module": "@jupyter-widgets/controls",
            "_model_module_version": "1.5.0",
            "_model_name": "DescriptionStyleModel",
            "_view_count": null,
            "_view_module": "@jupyter-widgets/base",
            "_view_module_version": "1.2.0",
            "_view_name": "StyleView",
            "description_width": ""
          }
        },
        "55b8bafece3f462da09e3b0a3fcadf00": {
          "model_module": "@jupyter-widgets/base",
          "model_name": "LayoutModel",
          "model_module_version": "1.2.0",
          "state": {
            "_model_module": "@jupyter-widgets/base",
            "_model_module_version": "1.2.0",
            "_model_name": "LayoutModel",
            "_view_count": null,
            "_view_module": "@jupyter-widgets/base",
            "_view_module_version": "1.2.0",
            "_view_name": "LayoutView",
            "align_content": null,
            "align_items": null,
            "align_self": null,
            "border": null,
            "bottom": null,
            "display": null,
            "flex": null,
            "flex_flow": null,
            "grid_area": null,
            "grid_auto_columns": null,
            "grid_auto_flow": null,
            "grid_auto_rows": null,
            "grid_column": null,
            "grid_gap": null,
            "grid_row": null,
            "grid_template_areas": null,
            "grid_template_columns": null,
            "grid_template_rows": null,
            "height": null,
            "justify_content": null,
            "justify_items": null,
            "left": null,
            "margin": null,
            "max_height": null,
            "max_width": null,
            "min_height": null,
            "min_width": null,
            "object_fit": null,
            "object_position": null,
            "order": null,
            "overflow": null,
            "overflow_x": null,
            "overflow_y": null,
            "padding": null,
            "right": null,
            "top": null,
            "visibility": null,
            "width": null
          }
        },
        "f90fc4dd41264ddca384f9ac2be37f14": {
          "model_module": "@jupyter-widgets/controls",
          "model_name": "ProgressStyleModel",
          "model_module_version": "1.5.0",
          "state": {
            "_model_module": "@jupyter-widgets/controls",
            "_model_module_version": "1.5.0",
            "_model_name": "ProgressStyleModel",
            "_view_count": null,
            "_view_module": "@jupyter-widgets/base",
            "_view_module_version": "1.2.0",
            "_view_name": "StyleView",
            "bar_color": null,
            "description_width": ""
          }
        },
        "1a5cc801461c4fcdaf882a3ff05c6eff": {
          "model_module": "@jupyter-widgets/base",
          "model_name": "LayoutModel",
          "model_module_version": "1.2.0",
          "state": {
            "_model_module": "@jupyter-widgets/base",
            "_model_module_version": "1.2.0",
            "_model_name": "LayoutModel",
            "_view_count": null,
            "_view_module": "@jupyter-widgets/base",
            "_view_module_version": "1.2.0",
            "_view_name": "LayoutView",
            "align_content": null,
            "align_items": null,
            "align_self": null,
            "border": null,
            "bottom": null,
            "display": null,
            "flex": null,
            "flex_flow": null,
            "grid_area": null,
            "grid_auto_columns": null,
            "grid_auto_flow": null,
            "grid_auto_rows": null,
            "grid_column": null,
            "grid_gap": null,
            "grid_row": null,
            "grid_template_areas": null,
            "grid_template_columns": null,
            "grid_template_rows": null,
            "height": null,
            "justify_content": null,
            "justify_items": null,
            "left": null,
            "margin": null,
            "max_height": null,
            "max_width": null,
            "min_height": null,
            "min_width": null,
            "object_fit": null,
            "object_position": null,
            "order": null,
            "overflow": null,
            "overflow_x": null,
            "overflow_y": null,
            "padding": null,
            "right": null,
            "top": null,
            "visibility": null,
            "width": null
          }
        },
        "84ea54b3cbb94e01a696ed0aadfa71fd": {
          "model_module": "@jupyter-widgets/controls",
          "model_name": "DescriptionStyleModel",
          "model_module_version": "1.5.0",
          "state": {
            "_model_module": "@jupyter-widgets/controls",
            "_model_module_version": "1.5.0",
            "_model_name": "DescriptionStyleModel",
            "_view_count": null,
            "_view_module": "@jupyter-widgets/base",
            "_view_module_version": "1.2.0",
            "_view_name": "StyleView",
            "description_width": ""
          }
        },
        "c8bfe9e6f6594a5abcbab1cc35685299": {
          "model_module": "@jupyter-widgets/controls",
          "model_name": "HBoxModel",
          "model_module_version": "1.5.0",
          "state": {
            "_dom_classes": [],
            "_model_module": "@jupyter-widgets/controls",
            "_model_module_version": "1.5.0",
            "_model_name": "HBoxModel",
            "_view_count": null,
            "_view_module": "@jupyter-widgets/controls",
            "_view_module_version": "1.5.0",
            "_view_name": "HBoxView",
            "box_style": "",
            "children": [
              "IPY_MODEL_dc61299d62dd400a81fcaa88029bb8d3",
              "IPY_MODEL_3302861a15324447a99b2b0c2c37ed3f",
              "IPY_MODEL_a06ff6fe71e14924a30ef6959dca5c32"
            ],
            "layout": "IPY_MODEL_488f7d2220be461c83055bbcd7a23c86"
          }
        },
        "dc61299d62dd400a81fcaa88029bb8d3": {
          "model_module": "@jupyter-widgets/controls",
          "model_name": "HTMLModel",
          "model_module_version": "1.5.0",
          "state": {
            "_dom_classes": [],
            "_model_module": "@jupyter-widgets/controls",
            "_model_module_version": "1.5.0",
            "_model_name": "HTMLModel",
            "_view_count": null,
            "_view_module": "@jupyter-widgets/controls",
            "_view_module_version": "1.5.0",
            "_view_name": "HTMLView",
            "description": "",
            "description_tooltip": null,
            "layout": "IPY_MODEL_fb90833566bd479e956e53512c892e68",
            "placeholder": "​",
            "style": "IPY_MODEL_d4c960c2e64a4c8eaf1639bc8224038e",
            "value": "Downloading (…)lve/main/config.json: 100%"
          }
        },
        "3302861a15324447a99b2b0c2c37ed3f": {
          "model_module": "@jupyter-widgets/controls",
          "model_name": "FloatProgressModel",
          "model_module_version": "1.5.0",
          "state": {
            "_dom_classes": [],
            "_model_module": "@jupyter-widgets/controls",
            "_model_module_version": "1.5.0",
            "_model_name": "FloatProgressModel",
            "_view_count": null,
            "_view_module": "@jupyter-widgets/controls",
            "_view_module_version": "1.5.0",
            "_view_name": "ProgressView",
            "bar_style": "success",
            "description": "",
            "description_tooltip": null,
            "layout": "IPY_MODEL_8ea1f35aef2f4afba4891734c262bfd7",
            "max": 625,
            "min": 0,
            "orientation": "horizontal",
            "style": "IPY_MODEL_3f90e3e8d0e84f909fd07a1653d111a1",
            "value": 625
          }
        },
        "a06ff6fe71e14924a30ef6959dca5c32": {
          "model_module": "@jupyter-widgets/controls",
          "model_name": "HTMLModel",
          "model_module_version": "1.5.0",
          "state": {
            "_dom_classes": [],
            "_model_module": "@jupyter-widgets/controls",
            "_model_module_version": "1.5.0",
            "_model_name": "HTMLModel",
            "_view_count": null,
            "_view_module": "@jupyter-widgets/controls",
            "_view_module_version": "1.5.0",
            "_view_name": "HTMLView",
            "description": "",
            "description_tooltip": null,
            "layout": "IPY_MODEL_39736a0421fe427fae2291e931880707",
            "placeholder": "​",
            "style": "IPY_MODEL_17308515c6cc44cdaa0b88bdc0f5af59",
            "value": " 625/625 [00:00&lt;00:00, 44.5kB/s]"
          }
        },
        "488f7d2220be461c83055bbcd7a23c86": {
          "model_module": "@jupyter-widgets/base",
          "model_name": "LayoutModel",
          "model_module_version": "1.2.0",
          "state": {
            "_model_module": "@jupyter-widgets/base",
            "_model_module_version": "1.2.0",
            "_model_name": "LayoutModel",
            "_view_count": null,
            "_view_module": "@jupyter-widgets/base",
            "_view_module_version": "1.2.0",
            "_view_name": "LayoutView",
            "align_content": null,
            "align_items": null,
            "align_self": null,
            "border": null,
            "bottom": null,
            "display": null,
            "flex": null,
            "flex_flow": null,
            "grid_area": null,
            "grid_auto_columns": null,
            "grid_auto_flow": null,
            "grid_auto_rows": null,
            "grid_column": null,
            "grid_gap": null,
            "grid_row": null,
            "grid_template_areas": null,
            "grid_template_columns": null,
            "grid_template_rows": null,
            "height": null,
            "justify_content": null,
            "justify_items": null,
            "left": null,
            "margin": null,
            "max_height": null,
            "max_width": null,
            "min_height": null,
            "min_width": null,
            "object_fit": null,
            "object_position": null,
            "order": null,
            "overflow": null,
            "overflow_x": null,
            "overflow_y": null,
            "padding": null,
            "right": null,
            "top": null,
            "visibility": null,
            "width": null
          }
        },
        "fb90833566bd479e956e53512c892e68": {
          "model_module": "@jupyter-widgets/base",
          "model_name": "LayoutModel",
          "model_module_version": "1.2.0",
          "state": {
            "_model_module": "@jupyter-widgets/base",
            "_model_module_version": "1.2.0",
            "_model_name": "LayoutModel",
            "_view_count": null,
            "_view_module": "@jupyter-widgets/base",
            "_view_module_version": "1.2.0",
            "_view_name": "LayoutView",
            "align_content": null,
            "align_items": null,
            "align_self": null,
            "border": null,
            "bottom": null,
            "display": null,
            "flex": null,
            "flex_flow": null,
            "grid_area": null,
            "grid_auto_columns": null,
            "grid_auto_flow": null,
            "grid_auto_rows": null,
            "grid_column": null,
            "grid_gap": null,
            "grid_row": null,
            "grid_template_areas": null,
            "grid_template_columns": null,
            "grid_template_rows": null,
            "height": null,
            "justify_content": null,
            "justify_items": null,
            "left": null,
            "margin": null,
            "max_height": null,
            "max_width": null,
            "min_height": null,
            "min_width": null,
            "object_fit": null,
            "object_position": null,
            "order": null,
            "overflow": null,
            "overflow_x": null,
            "overflow_y": null,
            "padding": null,
            "right": null,
            "top": null,
            "visibility": null,
            "width": null
          }
        },
        "d4c960c2e64a4c8eaf1639bc8224038e": {
          "model_module": "@jupyter-widgets/controls",
          "model_name": "DescriptionStyleModel",
          "model_module_version": "1.5.0",
          "state": {
            "_model_module": "@jupyter-widgets/controls",
            "_model_module_version": "1.5.0",
            "_model_name": "DescriptionStyleModel",
            "_view_count": null,
            "_view_module": "@jupyter-widgets/base",
            "_view_module_version": "1.2.0",
            "_view_name": "StyleView",
            "description_width": ""
          }
        },
        "8ea1f35aef2f4afba4891734c262bfd7": {
          "model_module": "@jupyter-widgets/base",
          "model_name": "LayoutModel",
          "model_module_version": "1.2.0",
          "state": {
            "_model_module": "@jupyter-widgets/base",
            "_model_module_version": "1.2.0",
            "_model_name": "LayoutModel",
            "_view_count": null,
            "_view_module": "@jupyter-widgets/base",
            "_view_module_version": "1.2.0",
            "_view_name": "LayoutView",
            "align_content": null,
            "align_items": null,
            "align_self": null,
            "border": null,
            "bottom": null,
            "display": null,
            "flex": null,
            "flex_flow": null,
            "grid_area": null,
            "grid_auto_columns": null,
            "grid_auto_flow": null,
            "grid_auto_rows": null,
            "grid_column": null,
            "grid_gap": null,
            "grid_row": null,
            "grid_template_areas": null,
            "grid_template_columns": null,
            "grid_template_rows": null,
            "height": null,
            "justify_content": null,
            "justify_items": null,
            "left": null,
            "margin": null,
            "max_height": null,
            "max_width": null,
            "min_height": null,
            "min_width": null,
            "object_fit": null,
            "object_position": null,
            "order": null,
            "overflow": null,
            "overflow_x": null,
            "overflow_y": null,
            "padding": null,
            "right": null,
            "top": null,
            "visibility": null,
            "width": null
          }
        },
        "3f90e3e8d0e84f909fd07a1653d111a1": {
          "model_module": "@jupyter-widgets/controls",
          "model_name": "ProgressStyleModel",
          "model_module_version": "1.5.0",
          "state": {
            "_model_module": "@jupyter-widgets/controls",
            "_model_module_version": "1.5.0",
            "_model_name": "ProgressStyleModel",
            "_view_count": null,
            "_view_module": "@jupyter-widgets/base",
            "_view_module_version": "1.2.0",
            "_view_name": "StyleView",
            "bar_color": null,
            "description_width": ""
          }
        },
        "39736a0421fe427fae2291e931880707": {
          "model_module": "@jupyter-widgets/base",
          "model_name": "LayoutModel",
          "model_module_version": "1.2.0",
          "state": {
            "_model_module": "@jupyter-widgets/base",
            "_model_module_version": "1.2.0",
            "_model_name": "LayoutModel",
            "_view_count": null,
            "_view_module": "@jupyter-widgets/base",
            "_view_module_version": "1.2.0",
            "_view_name": "LayoutView",
            "align_content": null,
            "align_items": null,
            "align_self": null,
            "border": null,
            "bottom": null,
            "display": null,
            "flex": null,
            "flex_flow": null,
            "grid_area": null,
            "grid_auto_columns": null,
            "grid_auto_flow": null,
            "grid_auto_rows": null,
            "grid_column": null,
            "grid_gap": null,
            "grid_row": null,
            "grid_template_areas": null,
            "grid_template_columns": null,
            "grid_template_rows": null,
            "height": null,
            "justify_content": null,
            "justify_items": null,
            "left": null,
            "margin": null,
            "max_height": null,
            "max_width": null,
            "min_height": null,
            "min_width": null,
            "object_fit": null,
            "object_position": null,
            "order": null,
            "overflow": null,
            "overflow_x": null,
            "overflow_y": null,
            "padding": null,
            "right": null,
            "top": null,
            "visibility": null,
            "width": null
          }
        },
        "17308515c6cc44cdaa0b88bdc0f5af59": {
          "model_module": "@jupyter-widgets/controls",
          "model_name": "DescriptionStyleModel",
          "model_module_version": "1.5.0",
          "state": {
            "_model_module": "@jupyter-widgets/controls",
            "_model_module_version": "1.5.0",
            "_model_name": "DescriptionStyleModel",
            "_view_count": null,
            "_view_module": "@jupyter-widgets/base",
            "_view_module_version": "1.2.0",
            "_view_name": "StyleView",
            "description_width": ""
          }
        },
        "0373c54213cc4e4fb5f508622b3e83cd": {
          "model_module": "@jupyter-widgets/controls",
          "model_name": "HBoxModel",
          "model_module_version": "1.5.0",
          "state": {
            "_dom_classes": [],
            "_model_module": "@jupyter-widgets/controls",
            "_model_module_version": "1.5.0",
            "_model_name": "HBoxModel",
            "_view_count": null,
            "_view_module": "@jupyter-widgets/controls",
            "_view_module_version": "1.5.0",
            "_view_name": "HBoxView",
            "box_style": "",
            "children": [
              "IPY_MODEL_7c1bba262ace4895978fde446d2d110c",
              "IPY_MODEL_c9c7f6b794044b53a780d43da872a162",
              "IPY_MODEL_4020ee7ee69f43a298d774bd89611de7"
            ],
            "layout": "IPY_MODEL_bb2a6cc8d4ab4d06b95816f3129500b9"
          }
        },
        "7c1bba262ace4895978fde446d2d110c": {
          "model_module": "@jupyter-widgets/controls",
          "model_name": "HTMLModel",
          "model_module_version": "1.5.0",
          "state": {
            "_dom_classes": [],
            "_model_module": "@jupyter-widgets/controls",
            "_model_module_version": "1.5.0",
            "_model_name": "HTMLModel",
            "_view_count": null,
            "_view_module": "@jupyter-widgets/controls",
            "_view_module_version": "1.5.0",
            "_view_name": "HTMLView",
            "description": "",
            "description_tooltip": null,
            "layout": "IPY_MODEL_9b26374a53a6460ea323d77e8f1afd31",
            "placeholder": "​",
            "style": "IPY_MODEL_f39eebd8003b44d4818ea6d47428a5ff",
            "value": "Downloading (…)solve/main/vocab.txt: 100%"
          }
        },
        "c9c7f6b794044b53a780d43da872a162": {
          "model_module": "@jupyter-widgets/controls",
          "model_name": "FloatProgressModel",
          "model_module_version": "1.5.0",
          "state": {
            "_dom_classes": [],
            "_model_module": "@jupyter-widgets/controls",
            "_model_module_version": "1.5.0",
            "_model_name": "FloatProgressModel",
            "_view_count": null,
            "_view_module": "@jupyter-widgets/controls",
            "_view_module_version": "1.5.0",
            "_view_name": "ProgressView",
            "bar_style": "success",
            "description": "",
            "description_tooltip": null,
            "layout": "IPY_MODEL_152e6fd1fcd24b0d82e3a9bcdd80c633",
            "max": 995526,
            "min": 0,
            "orientation": "horizontal",
            "style": "IPY_MODEL_d9e64595598e4ad58a11e0c2278959d5",
            "value": 995526
          }
        },
        "4020ee7ee69f43a298d774bd89611de7": {
          "model_module": "@jupyter-widgets/controls",
          "model_name": "HTMLModel",
          "model_module_version": "1.5.0",
          "state": {
            "_dom_classes": [],
            "_model_module": "@jupyter-widgets/controls",
            "_model_module_version": "1.5.0",
            "_model_name": "HTMLModel",
            "_view_count": null,
            "_view_module": "@jupyter-widgets/controls",
            "_view_module_version": "1.5.0",
            "_view_name": "HTMLView",
            "description": "",
            "description_tooltip": null,
            "layout": "IPY_MODEL_df797aec858242089b8afc90afcd2061",
            "placeholder": "​",
            "style": "IPY_MODEL_7d33e7878ff64f3194c9fae70b3bec3e",
            "value": " 996k/996k [00:00&lt;00:00, 10.1MB/s]"
          }
        },
        "bb2a6cc8d4ab4d06b95816f3129500b9": {
          "model_module": "@jupyter-widgets/base",
          "model_name": "LayoutModel",
          "model_module_version": "1.2.0",
          "state": {
            "_model_module": "@jupyter-widgets/base",
            "_model_module_version": "1.2.0",
            "_model_name": "LayoutModel",
            "_view_count": null,
            "_view_module": "@jupyter-widgets/base",
            "_view_module_version": "1.2.0",
            "_view_name": "LayoutView",
            "align_content": null,
            "align_items": null,
            "align_self": null,
            "border": null,
            "bottom": null,
            "display": null,
            "flex": null,
            "flex_flow": null,
            "grid_area": null,
            "grid_auto_columns": null,
            "grid_auto_flow": null,
            "grid_auto_rows": null,
            "grid_column": null,
            "grid_gap": null,
            "grid_row": null,
            "grid_template_areas": null,
            "grid_template_columns": null,
            "grid_template_rows": null,
            "height": null,
            "justify_content": null,
            "justify_items": null,
            "left": null,
            "margin": null,
            "max_height": null,
            "max_width": null,
            "min_height": null,
            "min_width": null,
            "object_fit": null,
            "object_position": null,
            "order": null,
            "overflow": null,
            "overflow_x": null,
            "overflow_y": null,
            "padding": null,
            "right": null,
            "top": null,
            "visibility": null,
            "width": null
          }
        },
        "9b26374a53a6460ea323d77e8f1afd31": {
          "model_module": "@jupyter-widgets/base",
          "model_name": "LayoutModel",
          "model_module_version": "1.2.0",
          "state": {
            "_model_module": "@jupyter-widgets/base",
            "_model_module_version": "1.2.0",
            "_model_name": "LayoutModel",
            "_view_count": null,
            "_view_module": "@jupyter-widgets/base",
            "_view_module_version": "1.2.0",
            "_view_name": "LayoutView",
            "align_content": null,
            "align_items": null,
            "align_self": null,
            "border": null,
            "bottom": null,
            "display": null,
            "flex": null,
            "flex_flow": null,
            "grid_area": null,
            "grid_auto_columns": null,
            "grid_auto_flow": null,
            "grid_auto_rows": null,
            "grid_column": null,
            "grid_gap": null,
            "grid_row": null,
            "grid_template_areas": null,
            "grid_template_columns": null,
            "grid_template_rows": null,
            "height": null,
            "justify_content": null,
            "justify_items": null,
            "left": null,
            "margin": null,
            "max_height": null,
            "max_width": null,
            "min_height": null,
            "min_width": null,
            "object_fit": null,
            "object_position": null,
            "order": null,
            "overflow": null,
            "overflow_x": null,
            "overflow_y": null,
            "padding": null,
            "right": null,
            "top": null,
            "visibility": null,
            "width": null
          }
        },
        "f39eebd8003b44d4818ea6d47428a5ff": {
          "model_module": "@jupyter-widgets/controls",
          "model_name": "DescriptionStyleModel",
          "model_module_version": "1.5.0",
          "state": {
            "_model_module": "@jupyter-widgets/controls",
            "_model_module_version": "1.5.0",
            "_model_name": "DescriptionStyleModel",
            "_view_count": null,
            "_view_module": "@jupyter-widgets/base",
            "_view_module_version": "1.2.0",
            "_view_name": "StyleView",
            "description_width": ""
          }
        },
        "152e6fd1fcd24b0d82e3a9bcdd80c633": {
          "model_module": "@jupyter-widgets/base",
          "model_name": "LayoutModel",
          "model_module_version": "1.2.0",
          "state": {
            "_model_module": "@jupyter-widgets/base",
            "_model_module_version": "1.2.0",
            "_model_name": "LayoutModel",
            "_view_count": null,
            "_view_module": "@jupyter-widgets/base",
            "_view_module_version": "1.2.0",
            "_view_name": "LayoutView",
            "align_content": null,
            "align_items": null,
            "align_self": null,
            "border": null,
            "bottom": null,
            "display": null,
            "flex": null,
            "flex_flow": null,
            "grid_area": null,
            "grid_auto_columns": null,
            "grid_auto_flow": null,
            "grid_auto_rows": null,
            "grid_column": null,
            "grid_gap": null,
            "grid_row": null,
            "grid_template_areas": null,
            "grid_template_columns": null,
            "grid_template_rows": null,
            "height": null,
            "justify_content": null,
            "justify_items": null,
            "left": null,
            "margin": null,
            "max_height": null,
            "max_width": null,
            "min_height": null,
            "min_width": null,
            "object_fit": null,
            "object_position": null,
            "order": null,
            "overflow": null,
            "overflow_x": null,
            "overflow_y": null,
            "padding": null,
            "right": null,
            "top": null,
            "visibility": null,
            "width": null
          }
        },
        "d9e64595598e4ad58a11e0c2278959d5": {
          "model_module": "@jupyter-widgets/controls",
          "model_name": "ProgressStyleModel",
          "model_module_version": "1.5.0",
          "state": {
            "_model_module": "@jupyter-widgets/controls",
            "_model_module_version": "1.5.0",
            "_model_name": "ProgressStyleModel",
            "_view_count": null,
            "_view_module": "@jupyter-widgets/base",
            "_view_module_version": "1.2.0",
            "_view_name": "StyleView",
            "bar_color": null,
            "description_width": ""
          }
        },
        "df797aec858242089b8afc90afcd2061": {
          "model_module": "@jupyter-widgets/base",
          "model_name": "LayoutModel",
          "model_module_version": "1.2.0",
          "state": {
            "_model_module": "@jupyter-widgets/base",
            "_model_module_version": "1.2.0",
            "_model_name": "LayoutModel",
            "_view_count": null,
            "_view_module": "@jupyter-widgets/base",
            "_view_module_version": "1.2.0",
            "_view_name": "LayoutView",
            "align_content": null,
            "align_items": null,
            "align_self": null,
            "border": null,
            "bottom": null,
            "display": null,
            "flex": null,
            "flex_flow": null,
            "grid_area": null,
            "grid_auto_columns": null,
            "grid_auto_flow": null,
            "grid_auto_rows": null,
            "grid_column": null,
            "grid_gap": null,
            "grid_row": null,
            "grid_template_areas": null,
            "grid_template_columns": null,
            "grid_template_rows": null,
            "height": null,
            "justify_content": null,
            "justify_items": null,
            "left": null,
            "margin": null,
            "max_height": null,
            "max_width": null,
            "min_height": null,
            "min_width": null,
            "object_fit": null,
            "object_position": null,
            "order": null,
            "overflow": null,
            "overflow_x": null,
            "overflow_y": null,
            "padding": null,
            "right": null,
            "top": null,
            "visibility": null,
            "width": null
          }
        },
        "7d33e7878ff64f3194c9fae70b3bec3e": {
          "model_module": "@jupyter-widgets/controls",
          "model_name": "DescriptionStyleModel",
          "model_module_version": "1.5.0",
          "state": {
            "_model_module": "@jupyter-widgets/controls",
            "_model_module_version": "1.5.0",
            "_model_name": "DescriptionStyleModel",
            "_view_count": null,
            "_view_module": "@jupyter-widgets/base",
            "_view_module_version": "1.2.0",
            "_view_name": "StyleView",
            "description_width": ""
          }
        },
        "32d972048e3f4ee1a52460902cdacb0d": {
          "model_module": "@jupyter-widgets/controls",
          "model_name": "HBoxModel",
          "model_module_version": "1.5.0",
          "state": {
            "_dom_classes": [],
            "_model_module": "@jupyter-widgets/controls",
            "_model_module_version": "1.5.0",
            "_model_name": "HBoxModel",
            "_view_count": null,
            "_view_module": "@jupyter-widgets/controls",
            "_view_module_version": "1.5.0",
            "_view_name": "HBoxView",
            "box_style": "",
            "children": [
              "IPY_MODEL_8fd3d500c2384f3585345b50cff7d8db",
              "IPY_MODEL_0bf63c4ce021463c986b7f1899576b65",
              "IPY_MODEL_15770ffe658c4cd0a1ebc6293cb82949"
            ],
            "layout": "IPY_MODEL_b3b48c9636fd4646b99cf14d775e89c3"
          }
        },
        "8fd3d500c2384f3585345b50cff7d8db": {
          "model_module": "@jupyter-widgets/controls",
          "model_name": "HTMLModel",
          "model_module_version": "1.5.0",
          "state": {
            "_dom_classes": [],
            "_model_module": "@jupyter-widgets/controls",
            "_model_module_version": "1.5.0",
            "_model_name": "HTMLModel",
            "_view_count": null,
            "_view_module": "@jupyter-widgets/controls",
            "_view_module_version": "1.5.0",
            "_view_name": "HTMLView",
            "description": "",
            "description_tooltip": null,
            "layout": "IPY_MODEL_116a2b2afb534a10ab5bb3c898706f7f",
            "placeholder": "​",
            "style": "IPY_MODEL_243c1e151c3e46d1938f0bbada42171d",
            "value": "Downloading (…)/main/tokenizer.json: 100%"
          }
        },
        "0bf63c4ce021463c986b7f1899576b65": {
          "model_module": "@jupyter-widgets/controls",
          "model_name": "FloatProgressModel",
          "model_module_version": "1.5.0",
          "state": {
            "_dom_classes": [],
            "_model_module": "@jupyter-widgets/controls",
            "_model_module_version": "1.5.0",
            "_model_name": "FloatProgressModel",
            "_view_count": null,
            "_view_module": "@jupyter-widgets/controls",
            "_view_module_version": "1.5.0",
            "_view_name": "ProgressView",
            "bar_style": "success",
            "description": "",
            "description_tooltip": null,
            "layout": "IPY_MODEL_f8d8a4d6a572450094869c35725dc594",
            "max": 1961828,
            "min": 0,
            "orientation": "horizontal",
            "style": "IPY_MODEL_683c72726a2f4770ba3560e530b38acb",
            "value": 1961828
          }
        },
        "15770ffe658c4cd0a1ebc6293cb82949": {
          "model_module": "@jupyter-widgets/controls",
          "model_name": "HTMLModel",
          "model_module_version": "1.5.0",
          "state": {
            "_dom_classes": [],
            "_model_module": "@jupyter-widgets/controls",
            "_model_module_version": "1.5.0",
            "_model_name": "HTMLModel",
            "_view_count": null,
            "_view_module": "@jupyter-widgets/controls",
            "_view_module_version": "1.5.0",
            "_view_name": "HTMLView",
            "description": "",
            "description_tooltip": null,
            "layout": "IPY_MODEL_d9198e90a922479daf23820f208ead7d",
            "placeholder": "​",
            "style": "IPY_MODEL_05e50e2f6395455193914b7108e8eba2",
            "value": " 1.96M/1.96M [00:00&lt;00:00, 18.6MB/s]"
          }
        },
        "b3b48c9636fd4646b99cf14d775e89c3": {
          "model_module": "@jupyter-widgets/base",
          "model_name": "LayoutModel",
          "model_module_version": "1.2.0",
          "state": {
            "_model_module": "@jupyter-widgets/base",
            "_model_module_version": "1.2.0",
            "_model_name": "LayoutModel",
            "_view_count": null,
            "_view_module": "@jupyter-widgets/base",
            "_view_module_version": "1.2.0",
            "_view_name": "LayoutView",
            "align_content": null,
            "align_items": null,
            "align_self": null,
            "border": null,
            "bottom": null,
            "display": null,
            "flex": null,
            "flex_flow": null,
            "grid_area": null,
            "grid_auto_columns": null,
            "grid_auto_flow": null,
            "grid_auto_rows": null,
            "grid_column": null,
            "grid_gap": null,
            "grid_row": null,
            "grid_template_areas": null,
            "grid_template_columns": null,
            "grid_template_rows": null,
            "height": null,
            "justify_content": null,
            "justify_items": null,
            "left": null,
            "margin": null,
            "max_height": null,
            "max_width": null,
            "min_height": null,
            "min_width": null,
            "object_fit": null,
            "object_position": null,
            "order": null,
            "overflow": null,
            "overflow_x": null,
            "overflow_y": null,
            "padding": null,
            "right": null,
            "top": null,
            "visibility": null,
            "width": null
          }
        },
        "116a2b2afb534a10ab5bb3c898706f7f": {
          "model_module": "@jupyter-widgets/base",
          "model_name": "LayoutModel",
          "model_module_version": "1.2.0",
          "state": {
            "_model_module": "@jupyter-widgets/base",
            "_model_module_version": "1.2.0",
            "_model_name": "LayoutModel",
            "_view_count": null,
            "_view_module": "@jupyter-widgets/base",
            "_view_module_version": "1.2.0",
            "_view_name": "LayoutView",
            "align_content": null,
            "align_items": null,
            "align_self": null,
            "border": null,
            "bottom": null,
            "display": null,
            "flex": null,
            "flex_flow": null,
            "grid_area": null,
            "grid_auto_columns": null,
            "grid_auto_flow": null,
            "grid_auto_rows": null,
            "grid_column": null,
            "grid_gap": null,
            "grid_row": null,
            "grid_template_areas": null,
            "grid_template_columns": null,
            "grid_template_rows": null,
            "height": null,
            "justify_content": null,
            "justify_items": null,
            "left": null,
            "margin": null,
            "max_height": null,
            "max_width": null,
            "min_height": null,
            "min_width": null,
            "object_fit": null,
            "object_position": null,
            "order": null,
            "overflow": null,
            "overflow_x": null,
            "overflow_y": null,
            "padding": null,
            "right": null,
            "top": null,
            "visibility": null,
            "width": null
          }
        },
        "243c1e151c3e46d1938f0bbada42171d": {
          "model_module": "@jupyter-widgets/controls",
          "model_name": "DescriptionStyleModel",
          "model_module_version": "1.5.0",
          "state": {
            "_model_module": "@jupyter-widgets/controls",
            "_model_module_version": "1.5.0",
            "_model_name": "DescriptionStyleModel",
            "_view_count": null,
            "_view_module": "@jupyter-widgets/base",
            "_view_module_version": "1.2.0",
            "_view_name": "StyleView",
            "description_width": ""
          }
        },
        "f8d8a4d6a572450094869c35725dc594": {
          "model_module": "@jupyter-widgets/base",
          "model_name": "LayoutModel",
          "model_module_version": "1.2.0",
          "state": {
            "_model_module": "@jupyter-widgets/base",
            "_model_module_version": "1.2.0",
            "_model_name": "LayoutModel",
            "_view_count": null,
            "_view_module": "@jupyter-widgets/base",
            "_view_module_version": "1.2.0",
            "_view_name": "LayoutView",
            "align_content": null,
            "align_items": null,
            "align_self": null,
            "border": null,
            "bottom": null,
            "display": null,
            "flex": null,
            "flex_flow": null,
            "grid_area": null,
            "grid_auto_columns": null,
            "grid_auto_flow": null,
            "grid_auto_rows": null,
            "grid_column": null,
            "grid_gap": null,
            "grid_row": null,
            "grid_template_areas": null,
            "grid_template_columns": null,
            "grid_template_rows": null,
            "height": null,
            "justify_content": null,
            "justify_items": null,
            "left": null,
            "margin": null,
            "max_height": null,
            "max_width": null,
            "min_height": null,
            "min_width": null,
            "object_fit": null,
            "object_position": null,
            "order": null,
            "overflow": null,
            "overflow_x": null,
            "overflow_y": null,
            "padding": null,
            "right": null,
            "top": null,
            "visibility": null,
            "width": null
          }
        },
        "683c72726a2f4770ba3560e530b38acb": {
          "model_module": "@jupyter-widgets/controls",
          "model_name": "ProgressStyleModel",
          "model_module_version": "1.5.0",
          "state": {
            "_model_module": "@jupyter-widgets/controls",
            "_model_module_version": "1.5.0",
            "_model_name": "ProgressStyleModel",
            "_view_count": null,
            "_view_module": "@jupyter-widgets/base",
            "_view_module_version": "1.2.0",
            "_view_name": "StyleView",
            "bar_color": null,
            "description_width": ""
          }
        },
        "d9198e90a922479daf23820f208ead7d": {
          "model_module": "@jupyter-widgets/base",
          "model_name": "LayoutModel",
          "model_module_version": "1.2.0",
          "state": {
            "_model_module": "@jupyter-widgets/base",
            "_model_module_version": "1.2.0",
            "_model_name": "LayoutModel",
            "_view_count": null,
            "_view_module": "@jupyter-widgets/base",
            "_view_module_version": "1.2.0",
            "_view_name": "LayoutView",
            "align_content": null,
            "align_items": null,
            "align_self": null,
            "border": null,
            "bottom": null,
            "display": null,
            "flex": null,
            "flex_flow": null,
            "grid_area": null,
            "grid_auto_columns": null,
            "grid_auto_flow": null,
            "grid_auto_rows": null,
            "grid_column": null,
            "grid_gap": null,
            "grid_row": null,
            "grid_template_areas": null,
            "grid_template_columns": null,
            "grid_template_rows": null,
            "height": null,
            "justify_content": null,
            "justify_items": null,
            "left": null,
            "margin": null,
            "max_height": null,
            "max_width": null,
            "min_height": null,
            "min_width": null,
            "object_fit": null,
            "object_position": null,
            "order": null,
            "overflow": null,
            "overflow_x": null,
            "overflow_y": null,
            "padding": null,
            "right": null,
            "top": null,
            "visibility": null,
            "width": null
          }
        },
        "05e50e2f6395455193914b7108e8eba2": {
          "model_module": "@jupyter-widgets/controls",
          "model_name": "DescriptionStyleModel",
          "model_module_version": "1.5.0",
          "state": {
            "_model_module": "@jupyter-widgets/controls",
            "_model_module_version": "1.5.0",
            "_model_name": "DescriptionStyleModel",
            "_view_count": null,
            "_view_module": "@jupyter-widgets/base",
            "_view_module_version": "1.2.0",
            "_view_name": "StyleView",
            "description_width": ""
          }
        },
        "53150c9226594e8185421e5d13723857": {
          "model_module": "@jupyter-widgets/controls",
          "model_name": "HBoxModel",
          "model_module_version": "1.5.0",
          "state": {
            "_dom_classes": [],
            "_model_module": "@jupyter-widgets/controls",
            "_model_module_version": "1.5.0",
            "_model_name": "HBoxModel",
            "_view_count": null,
            "_view_module": "@jupyter-widgets/controls",
            "_view_module_version": "1.5.0",
            "_view_name": "HBoxView",
            "box_style": "",
            "children": [
              "IPY_MODEL_99a88762c9944fb984d6ac21325be408",
              "IPY_MODEL_edc3c43936254709b1ea2a5497303b87",
              "IPY_MODEL_2260957a4fd04b87884bc96f4bb8fae0"
            ],
            "layout": "IPY_MODEL_16286551aeb0487299180571a09e5d77"
          }
        },
        "99a88762c9944fb984d6ac21325be408": {
          "model_module": "@jupyter-widgets/controls",
          "model_name": "HTMLModel",
          "model_module_version": "1.5.0",
          "state": {
            "_dom_classes": [],
            "_model_module": "@jupyter-widgets/controls",
            "_model_module_version": "1.5.0",
            "_model_name": "HTMLModel",
            "_view_count": null,
            "_view_module": "@jupyter-widgets/controls",
            "_view_module_version": "1.5.0",
            "_view_name": "HTMLView",
            "description": "",
            "description_tooltip": null,
            "layout": "IPY_MODEL_f697a94fe607456096168dea6da19f2a",
            "placeholder": "​",
            "style": "IPY_MODEL_f30ac202be4e4ab9b5c4952a6b499d02",
            "value": "Downloading tf_model.h5: 100%"
          }
        },
        "edc3c43936254709b1ea2a5497303b87": {
          "model_module": "@jupyter-widgets/controls",
          "model_name": "FloatProgressModel",
          "model_module_version": "1.5.0",
          "state": {
            "_dom_classes": [],
            "_model_module": "@jupyter-widgets/controls",
            "_model_module_version": "1.5.0",
            "_model_name": "FloatProgressModel",
            "_view_count": null,
            "_view_module": "@jupyter-widgets/controls",
            "_view_module_version": "1.5.0",
            "_view_name": "ProgressView",
            "bar_style": "success",
            "description": "",
            "description_tooltip": null,
            "layout": "IPY_MODEL_8ce81c6075fe49d49878b72b3161dfe0",
            "max": 1083389348,
            "min": 0,
            "orientation": "horizontal",
            "style": "IPY_MODEL_50601592850447d58befdf0a20a915e4",
            "value": 1083389348
          }
        },
        "2260957a4fd04b87884bc96f4bb8fae0": {
          "model_module": "@jupyter-widgets/controls",
          "model_name": "HTMLModel",
          "model_module_version": "1.5.0",
          "state": {
            "_dom_classes": [],
            "_model_module": "@jupyter-widgets/controls",
            "_model_module_version": "1.5.0",
            "_model_name": "HTMLModel",
            "_view_count": null,
            "_view_module": "@jupyter-widgets/controls",
            "_view_module_version": "1.5.0",
            "_view_name": "HTMLView",
            "description": "",
            "description_tooltip": null,
            "layout": "IPY_MODEL_66a8d6c931994763b10960de1e147f5a",
            "placeholder": "​",
            "style": "IPY_MODEL_5672b2ea9b7b4668968fa175398df0b0",
            "value": " 1.08G/1.08G [00:07&lt;00:00, 189MB/s]"
          }
        },
        "16286551aeb0487299180571a09e5d77": {
          "model_module": "@jupyter-widgets/base",
          "model_name": "LayoutModel",
          "model_module_version": "1.2.0",
          "state": {
            "_model_module": "@jupyter-widgets/base",
            "_model_module_version": "1.2.0",
            "_model_name": "LayoutModel",
            "_view_count": null,
            "_view_module": "@jupyter-widgets/base",
            "_view_module_version": "1.2.0",
            "_view_name": "LayoutView",
            "align_content": null,
            "align_items": null,
            "align_self": null,
            "border": null,
            "bottom": null,
            "display": null,
            "flex": null,
            "flex_flow": null,
            "grid_area": null,
            "grid_auto_columns": null,
            "grid_auto_flow": null,
            "grid_auto_rows": null,
            "grid_column": null,
            "grid_gap": null,
            "grid_row": null,
            "grid_template_areas": null,
            "grid_template_columns": null,
            "grid_template_rows": null,
            "height": null,
            "justify_content": null,
            "justify_items": null,
            "left": null,
            "margin": null,
            "max_height": null,
            "max_width": null,
            "min_height": null,
            "min_width": null,
            "object_fit": null,
            "object_position": null,
            "order": null,
            "overflow": null,
            "overflow_x": null,
            "overflow_y": null,
            "padding": null,
            "right": null,
            "top": null,
            "visibility": null,
            "width": null
          }
        },
        "f697a94fe607456096168dea6da19f2a": {
          "model_module": "@jupyter-widgets/base",
          "model_name": "LayoutModel",
          "model_module_version": "1.2.0",
          "state": {
            "_model_module": "@jupyter-widgets/base",
            "_model_module_version": "1.2.0",
            "_model_name": "LayoutModel",
            "_view_count": null,
            "_view_module": "@jupyter-widgets/base",
            "_view_module_version": "1.2.0",
            "_view_name": "LayoutView",
            "align_content": null,
            "align_items": null,
            "align_self": null,
            "border": null,
            "bottom": null,
            "display": null,
            "flex": null,
            "flex_flow": null,
            "grid_area": null,
            "grid_auto_columns": null,
            "grid_auto_flow": null,
            "grid_auto_rows": null,
            "grid_column": null,
            "grid_gap": null,
            "grid_row": null,
            "grid_template_areas": null,
            "grid_template_columns": null,
            "grid_template_rows": null,
            "height": null,
            "justify_content": null,
            "justify_items": null,
            "left": null,
            "margin": null,
            "max_height": null,
            "max_width": null,
            "min_height": null,
            "min_width": null,
            "object_fit": null,
            "object_position": null,
            "order": null,
            "overflow": null,
            "overflow_x": null,
            "overflow_y": null,
            "padding": null,
            "right": null,
            "top": null,
            "visibility": null,
            "width": null
          }
        },
        "f30ac202be4e4ab9b5c4952a6b499d02": {
          "model_module": "@jupyter-widgets/controls",
          "model_name": "DescriptionStyleModel",
          "model_module_version": "1.5.0",
          "state": {
            "_model_module": "@jupyter-widgets/controls",
            "_model_module_version": "1.5.0",
            "_model_name": "DescriptionStyleModel",
            "_view_count": null,
            "_view_module": "@jupyter-widgets/base",
            "_view_module_version": "1.2.0",
            "_view_name": "StyleView",
            "description_width": ""
          }
        },
        "8ce81c6075fe49d49878b72b3161dfe0": {
          "model_module": "@jupyter-widgets/base",
          "model_name": "LayoutModel",
          "model_module_version": "1.2.0",
          "state": {
            "_model_module": "@jupyter-widgets/base",
            "_model_module_version": "1.2.0",
            "_model_name": "LayoutModel",
            "_view_count": null,
            "_view_module": "@jupyter-widgets/base",
            "_view_module_version": "1.2.0",
            "_view_name": "LayoutView",
            "align_content": null,
            "align_items": null,
            "align_self": null,
            "border": null,
            "bottom": null,
            "display": null,
            "flex": null,
            "flex_flow": null,
            "grid_area": null,
            "grid_auto_columns": null,
            "grid_auto_flow": null,
            "grid_auto_rows": null,
            "grid_column": null,
            "grid_gap": null,
            "grid_row": null,
            "grid_template_areas": null,
            "grid_template_columns": null,
            "grid_template_rows": null,
            "height": null,
            "justify_content": null,
            "justify_items": null,
            "left": null,
            "margin": null,
            "max_height": null,
            "max_width": null,
            "min_height": null,
            "min_width": null,
            "object_fit": null,
            "object_position": null,
            "order": null,
            "overflow": null,
            "overflow_x": null,
            "overflow_y": null,
            "padding": null,
            "right": null,
            "top": null,
            "visibility": null,
            "width": null
          }
        },
        "50601592850447d58befdf0a20a915e4": {
          "model_module": "@jupyter-widgets/controls",
          "model_name": "ProgressStyleModel",
          "model_module_version": "1.5.0",
          "state": {
            "_model_module": "@jupyter-widgets/controls",
            "_model_module_version": "1.5.0",
            "_model_name": "ProgressStyleModel",
            "_view_count": null,
            "_view_module": "@jupyter-widgets/base",
            "_view_module_version": "1.2.0",
            "_view_name": "StyleView",
            "bar_color": null,
            "description_width": ""
          }
        },
        "66a8d6c931994763b10960de1e147f5a": {
          "model_module": "@jupyter-widgets/base",
          "model_name": "LayoutModel",
          "model_module_version": "1.2.0",
          "state": {
            "_model_module": "@jupyter-widgets/base",
            "_model_module_version": "1.2.0",
            "_model_name": "LayoutModel",
            "_view_count": null,
            "_view_module": "@jupyter-widgets/base",
            "_view_module_version": "1.2.0",
            "_view_name": "LayoutView",
            "align_content": null,
            "align_items": null,
            "align_self": null,
            "border": null,
            "bottom": null,
            "display": null,
            "flex": null,
            "flex_flow": null,
            "grid_area": null,
            "grid_auto_columns": null,
            "grid_auto_flow": null,
            "grid_auto_rows": null,
            "grid_column": null,
            "grid_gap": null,
            "grid_row": null,
            "grid_template_areas": null,
            "grid_template_columns": null,
            "grid_template_rows": null,
            "height": null,
            "justify_content": null,
            "justify_items": null,
            "left": null,
            "margin": null,
            "max_height": null,
            "max_width": null,
            "min_height": null,
            "min_width": null,
            "object_fit": null,
            "object_position": null,
            "order": null,
            "overflow": null,
            "overflow_x": null,
            "overflow_y": null,
            "padding": null,
            "right": null,
            "top": null,
            "visibility": null,
            "width": null
          }
        },
        "5672b2ea9b7b4668968fa175398df0b0": {
          "model_module": "@jupyter-widgets/controls",
          "model_name": "DescriptionStyleModel",
          "model_module_version": "1.5.0",
          "state": {
            "_model_module": "@jupyter-widgets/controls",
            "_model_module_version": "1.5.0",
            "_model_name": "DescriptionStyleModel",
            "_view_count": null,
            "_view_module": "@jupyter-widgets/base",
            "_view_module_version": "1.2.0",
            "_view_name": "StyleView",
            "description_width": ""
          }
        }
      }
    },
    "colab": {
      "provenance": [],
      "gpuType": "T4"
    },
    "accelerator": "GPU"
  },
  "nbformat": 4,
  "nbformat_minor": 5
}